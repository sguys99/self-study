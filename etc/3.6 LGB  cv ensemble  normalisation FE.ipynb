{
 "cells": [
  {
   "cell_type": "markdown",
   "id": "d1177759",
   "metadata": {},
   "source": [
    "## 3. Forest Cover Type Dataset  \n",
    "- LGB + cv ensemble + normalisation + FE"
   ]
  },
  {
   "cell_type": "markdown",
   "id": "b8e647e8",
   "metadata": {},
   "source": [
    "<div style=\"text-align: right\"> <b>Author : Kwang Myung Yu</b></div>\n",
    "<div style=\"text-align: right\\\"> Initial upload: 2021.10.18 </div>\n",
    "<div style=\"text-align: right\\\"> Last update: 2021.10.18</div>"
   ]
  },
  {
   "cell_type": "markdown",
   "id": "0a776989",
   "metadata": {},
   "source": [
    "- 출처 : https://www.kaggle.com/schlerp/lgb-cv-ensemble-normalisation-fe"
   ]
  },
  {
   "cell_type": "code",
   "execution_count": 1,
   "id": "fb9c7512",
   "metadata": {},
   "outputs": [],
   "source": [
    "import os\n",
    "import numpy as np\n",
    "import pandas as pd\n",
    "import matplotlib.pyplot as plt\n",
    "import seaborn as sns\n",
    "from scipy import stats\n",
    "import warnings; warnings.filterwarnings('ignore')\n",
    "plt.style.use('ggplot')\n",
    "%matplotlib inline"
   ]
  },
  {
   "cell_type": "code",
   "execution_count": 2,
   "id": "3d38ae41",
   "metadata": {},
   "outputs": [
    {
     "data": {
      "text/html": [
       "<svg  width=\"550\" height=\"55\"><rect x=\"0\" y=\"0\" width=\"55\" height=\"55\" style=\"fill:#00798c;stroke-width:2;stroke:rgb(255,255,255)\"/><rect x=\"55\" y=\"0\" width=\"55\" height=\"55\" style=\"fill:#d1495b;stroke-width:2;stroke:rgb(255,255,255)\"/><rect x=\"110\" y=\"0\" width=\"55\" height=\"55\" style=\"fill:#edae49;stroke-width:2;stroke:rgb(255,255,255)\"/><rect x=\"165\" y=\"0\" width=\"55\" height=\"55\" style=\"fill:#66a182;stroke-width:2;stroke:rgb(255,255,255)\"/><rect x=\"220\" y=\"0\" width=\"55\" height=\"55\" style=\"fill:#4a4a4a;stroke-width:2;stroke:rgb(255,255,255)\"/><rect x=\"275\" y=\"0\" width=\"55\" height=\"55\" style=\"fill:#1a508b;stroke-width:2;stroke:rgb(255,255,255)\"/><rect x=\"330\" y=\"0\" width=\"55\" height=\"55\" style=\"fill:#e3120b;stroke-width:2;stroke:rgb(255,255,255)\"/><rect x=\"385\" y=\"0\" width=\"55\" height=\"55\" style=\"fill:#c5a880;stroke-width:2;stroke:rgb(255,255,255)\"/><rect x=\"440\" y=\"0\" width=\"55\" height=\"55\" style=\"fill:#9f5f80;stroke-width:2;stroke:rgb(255,255,255)\"/><rect x=\"495\" y=\"0\" width=\"55\" height=\"55\" style=\"fill:#6f9eaf;stroke-width:2;stroke:rgb(255,255,255)\"/></svg>"
      ],
      "text/plain": [
       "[(0.0, 0.4745098039215686, 0.5490196078431373),\n",
       " (0.8196078431372549, 0.28627450980392155, 0.3568627450980392),\n",
       " (0.9294117647058824, 0.6823529411764706, 0.28627450980392155),\n",
       " (0.4, 0.6313725490196078, 0.5098039215686274),\n",
       " (0.2901960784313726, 0.2901960784313726, 0.2901960784313726),\n",
       " (0.10196078431372549, 0.3137254901960784, 0.5450980392156862),\n",
       " (0.8901960784313725, 0.07058823529411765, 0.043137254901960784),\n",
       " (0.7725490196078432, 0.6588235294117647, 0.5019607843137255),\n",
       " (0.6235294117647059, 0.37254901960784315, 0.5019607843137255),\n",
       " (0.43529411764705883, 0.6196078431372549, 0.6862745098039216)]"
      ]
     },
     "execution_count": 2,
     "metadata": {},
     "output_type": "execute_result"
    }
   ],
   "source": [
    "colors = [\"#00798c\", \"#d1495b\", '#edae49', '#66a182', '#4a4a4a',\n",
    "          '#1a508b', '#e3120b', '#c5a880', '#9F5F80', '#6F9EAF',\n",
    "          '#0278ae','#F39233', '#A7C5EB', '#54E346', '#ABCE74',\n",
    "        '#d6b0b1', '#58391c', '#cdd0cb', '#ffb396', '#6930c3']\n",
    "sns.color_palette(colors[:10])"
   ]
  },
  {
   "cell_type": "code",
   "execution_count": 3,
   "id": "10bad5d9",
   "metadata": {},
   "outputs": [],
   "source": [
    "from sklearn.model_selection import train_test_split\n",
    "from sklearn.model_selection import StratifiedKFold\n",
    "from sklearn.metrics import accuracy_score\n",
    "import lightgbm as lgb\n",
    "import random"
   ]
  },
  {
   "cell_type": "code",
   "execution_count": 5,
   "id": "fee89007",
   "metadata": {},
   "outputs": [
    {
     "name": "stdout",
     "output_type": "stream",
     "text": [
      "['my_submission.csv', 'output_ceil.csv', 'output_floor.csv', 'sampleSubmission.csv', 'sample_submission.csv', 'sub.csv', 'test.csv', 'train.csv']\n"
     ]
    }
   ],
   "source": [
    "print(os.listdir('data/forest-cover-type-kernels-only/'))"
   ]
  },
  {
   "cell_type": "code",
   "execution_count": 7,
   "id": "205dc130",
   "metadata": {},
   "outputs": [],
   "source": [
    "number_classes = 7\n",
    "train = pd.read_csv('data/forest-cover-type-kernels-only/train.csv')\n",
    "test = pd.read_csv('data/forest-cover-type-kernels-only/test.csv')"
   ]
  },
  {
   "cell_type": "code",
   "execution_count": 8,
   "id": "2d2255de",
   "metadata": {},
   "outputs": [
    {
     "data": {
      "text/html": [
       "<div>\n",
       "<style scoped>\n",
       "    .dataframe tbody tr th:only-of-type {\n",
       "        vertical-align: middle;\n",
       "    }\n",
       "\n",
       "    .dataframe tbody tr th {\n",
       "        vertical-align: top;\n",
       "    }\n",
       "\n",
       "    .dataframe thead th {\n",
       "        text-align: right;\n",
       "    }\n",
       "</style>\n",
       "<table border=\"1\" class=\"dataframe\">\n",
       "  <thead>\n",
       "    <tr style=\"text-align: right;\">\n",
       "      <th></th>\n",
       "      <th>Id</th>\n",
       "      <th>Elevation</th>\n",
       "      <th>Aspect</th>\n",
       "      <th>Slope</th>\n",
       "      <th>Horizontal_Distance_To_Hydrology</th>\n",
       "      <th>Vertical_Distance_To_Hydrology</th>\n",
       "      <th>Horizontal_Distance_To_Roadways</th>\n",
       "      <th>Hillshade_9am</th>\n",
       "      <th>Hillshade_Noon</th>\n",
       "      <th>Hillshade_3pm</th>\n",
       "      <th>...</th>\n",
       "      <th>Soil_Type32</th>\n",
       "      <th>Soil_Type33</th>\n",
       "      <th>Soil_Type34</th>\n",
       "      <th>Soil_Type35</th>\n",
       "      <th>Soil_Type36</th>\n",
       "      <th>Soil_Type37</th>\n",
       "      <th>Soil_Type38</th>\n",
       "      <th>Soil_Type39</th>\n",
       "      <th>Soil_Type40</th>\n",
       "      <th>Cover_Type</th>\n",
       "    </tr>\n",
       "  </thead>\n",
       "  <tbody>\n",
       "    <tr>\n",
       "      <th>0</th>\n",
       "      <td>1</td>\n",
       "      <td>2596</td>\n",
       "      <td>51</td>\n",
       "      <td>3</td>\n",
       "      <td>258</td>\n",
       "      <td>0</td>\n",
       "      <td>510</td>\n",
       "      <td>221</td>\n",
       "      <td>232</td>\n",
       "      <td>148</td>\n",
       "      <td>...</td>\n",
       "      <td>0</td>\n",
       "      <td>0</td>\n",
       "      <td>0</td>\n",
       "      <td>0</td>\n",
       "      <td>0</td>\n",
       "      <td>0</td>\n",
       "      <td>0</td>\n",
       "      <td>0</td>\n",
       "      <td>0</td>\n",
       "      <td>5</td>\n",
       "    </tr>\n",
       "    <tr>\n",
       "      <th>1</th>\n",
       "      <td>2</td>\n",
       "      <td>2590</td>\n",
       "      <td>56</td>\n",
       "      <td>2</td>\n",
       "      <td>212</td>\n",
       "      <td>-6</td>\n",
       "      <td>390</td>\n",
       "      <td>220</td>\n",
       "      <td>235</td>\n",
       "      <td>151</td>\n",
       "      <td>...</td>\n",
       "      <td>0</td>\n",
       "      <td>0</td>\n",
       "      <td>0</td>\n",
       "      <td>0</td>\n",
       "      <td>0</td>\n",
       "      <td>0</td>\n",
       "      <td>0</td>\n",
       "      <td>0</td>\n",
       "      <td>0</td>\n",
       "      <td>5</td>\n",
       "    </tr>\n",
       "    <tr>\n",
       "      <th>2</th>\n",
       "      <td>3</td>\n",
       "      <td>2804</td>\n",
       "      <td>139</td>\n",
       "      <td>9</td>\n",
       "      <td>268</td>\n",
       "      <td>65</td>\n",
       "      <td>3180</td>\n",
       "      <td>234</td>\n",
       "      <td>238</td>\n",
       "      <td>135</td>\n",
       "      <td>...</td>\n",
       "      <td>0</td>\n",
       "      <td>0</td>\n",
       "      <td>0</td>\n",
       "      <td>0</td>\n",
       "      <td>0</td>\n",
       "      <td>0</td>\n",
       "      <td>0</td>\n",
       "      <td>0</td>\n",
       "      <td>0</td>\n",
       "      <td>2</td>\n",
       "    </tr>\n",
       "    <tr>\n",
       "      <th>3</th>\n",
       "      <td>4</td>\n",
       "      <td>2785</td>\n",
       "      <td>155</td>\n",
       "      <td>18</td>\n",
       "      <td>242</td>\n",
       "      <td>118</td>\n",
       "      <td>3090</td>\n",
       "      <td>238</td>\n",
       "      <td>238</td>\n",
       "      <td>122</td>\n",
       "      <td>...</td>\n",
       "      <td>0</td>\n",
       "      <td>0</td>\n",
       "      <td>0</td>\n",
       "      <td>0</td>\n",
       "      <td>0</td>\n",
       "      <td>0</td>\n",
       "      <td>0</td>\n",
       "      <td>0</td>\n",
       "      <td>0</td>\n",
       "      <td>2</td>\n",
       "    </tr>\n",
       "    <tr>\n",
       "      <th>4</th>\n",
       "      <td>5</td>\n",
       "      <td>2595</td>\n",
       "      <td>45</td>\n",
       "      <td>2</td>\n",
       "      <td>153</td>\n",
       "      <td>-1</td>\n",
       "      <td>391</td>\n",
       "      <td>220</td>\n",
       "      <td>234</td>\n",
       "      <td>150</td>\n",
       "      <td>...</td>\n",
       "      <td>0</td>\n",
       "      <td>0</td>\n",
       "      <td>0</td>\n",
       "      <td>0</td>\n",
       "      <td>0</td>\n",
       "      <td>0</td>\n",
       "      <td>0</td>\n",
       "      <td>0</td>\n",
       "      <td>0</td>\n",
       "      <td>5</td>\n",
       "    </tr>\n",
       "  </tbody>\n",
       "</table>\n",
       "<p>5 rows × 56 columns</p>\n",
       "</div>"
      ],
      "text/plain": [
       "   Id  Elevation  Aspect  Slope  Horizontal_Distance_To_Hydrology  \\\n",
       "0   1       2596      51      3                               258   \n",
       "1   2       2590      56      2                               212   \n",
       "2   3       2804     139      9                               268   \n",
       "3   4       2785     155     18                               242   \n",
       "4   5       2595      45      2                               153   \n",
       "\n",
       "   Vertical_Distance_To_Hydrology  Horizontal_Distance_To_Roadways  \\\n",
       "0                               0                              510   \n",
       "1                              -6                              390   \n",
       "2                              65                             3180   \n",
       "3                             118                             3090   \n",
       "4                              -1                              391   \n",
       "\n",
       "   Hillshade_9am  Hillshade_Noon  Hillshade_3pm  ...  Soil_Type32  \\\n",
       "0            221             232            148  ...            0   \n",
       "1            220             235            151  ...            0   \n",
       "2            234             238            135  ...            0   \n",
       "3            238             238            122  ...            0   \n",
       "4            220             234            150  ...            0   \n",
       "\n",
       "   Soil_Type33  Soil_Type34  Soil_Type35  Soil_Type36  Soil_Type37  \\\n",
       "0            0            0            0            0            0   \n",
       "1            0            0            0            0            0   \n",
       "2            0            0            0            0            0   \n",
       "3            0            0            0            0            0   \n",
       "4            0            0            0            0            0   \n",
       "\n",
       "   Soil_Type38  Soil_Type39  Soil_Type40  Cover_Type  \n",
       "0            0            0            0           5  \n",
       "1            0            0            0           5  \n",
       "2            0            0            0           2  \n",
       "3            0            0            0           2  \n",
       "4            0            0            0           5  \n",
       "\n",
       "[5 rows x 56 columns]"
      ]
     },
     "execution_count": 8,
     "metadata": {},
     "output_type": "execute_result"
    }
   ],
   "source": [
    "train.head()"
   ]
  },
  {
   "cell_type": "code",
   "execution_count": 9,
   "id": "82d7b313",
   "metadata": {},
   "outputs": [
    {
     "data": {
      "text/plain": [
       "(15120, 56)"
      ]
     },
     "execution_count": 9,
     "metadata": {},
     "output_type": "execute_result"
    }
   ],
   "source": [
    "train.shape"
   ]
  },
  {
   "cell_type": "code",
   "execution_count": 10,
   "id": "3022f154",
   "metadata": {},
   "outputs": [],
   "source": [
    "X_train = train.drop(['Id', 'Cover_Type'], axis = 1)\n",
    "y_train = train['Cover_Type'].values"
   ]
  },
  {
   "cell_type": "code",
   "execution_count": 16,
   "id": "8a08bc69",
   "metadata": {},
   "outputs": [],
   "source": [
    "X_test = test.drop(['Id'], axis = 1)\n",
    "ID_test = test['Id'].values"
   ]
  },
  {
   "cell_type": "code",
   "execution_count": 17,
   "id": "d11a7059",
   "metadata": {},
   "outputs": [],
   "source": [
    "X = pd.concat([X_train, X_test], axis = 0)"
   ]
  },
  {
   "cell_type": "code",
   "execution_count": 20,
   "id": "bc5b0288",
   "metadata": {},
   "outputs": [
    {
     "data": {
      "text/plain": [
       "(581012, 54)"
      ]
     },
     "execution_count": 20,
     "metadata": {},
     "output_type": "execute_result"
    }
   ],
   "source": [
    "X.shape"
   ]
  },
  {
   "cell_type": "code",
   "execution_count": 21,
   "id": "9d8a0661",
   "metadata": {},
   "outputs": [],
   "source": [
    "# mean hillshade\n",
    "def mean_hillshade(df):\n",
    "    df['mean_hillshade'] = (df['Hillshade_9am'] + df['Hillshade_Noon'] + df['Hillshade_3pm']) / 3\n",
    "    return df\n",
    "\n",
    "# calculate the distance to hydrology using pythagoras theorem\n",
    "def distance_to_hydrology(df):\n",
    "    df['distance_to_hydrology'] = np.sqrt(np.power(df['Horizontal_Distance_To_Hydrology'], 2) + \\\n",
    "                                          np.power(df['Vertical_Distance_To_Hydrology'], 2))\n",
    "    return df\n",
    "\n",
    "# calculate diagnial distance down to sea level?\n",
    "def diag_to_sealevl(df):\n",
    "    df['diag_to_sealevel'] = np.divide(df['Elevation'], np.cos(180-df['Slope']))\n",
    "    return df\n",
    "\n",
    "# calculate mean distance to features\n",
    "def mean_dist_to_feature(df):\n",
    "    df['mean_dist_to_feature'] = (df['Horizontal_Distance_To_Hydrology'] + \\\n",
    "                                  df['Horizontal_Distance_To_Roadways'] + \\\n",
    "                                  df['Horizontal_Distance_To_Fire_Points']) / 3\n",
    "    return df\n",
    "\n",
    "def binned_columns(df):\n",
    "    bin_defs = [\n",
    "        # col name, bin size, new name\n",
    "        ('Elevation', 200, 'Binned_Elevation'),\n",
    "        ('Aspect', 45, 'Binned_Aspect'),\n",
    "        ('Slope', 6, 'Binned_Slope'),\n",
    "        ('Horizontal_Distance_To_Hydrology', 140, 'Binned_Horizontal_Distance_To_Hydrology'),\n",
    "        ('Horizontal_Distance_To_Roadways', 712, 'Binned_Horizontal_Distance_To_Roadways'),\n",
    "        ('Hillshade_9am', 32, 'Binned_Hillshade_9am'),\n",
    "        ('Hillshade_Noon', 32, 'Binned_Hillshade_Noon'),\n",
    "        ('Hillshade_3pm', 32, 'Binned_Hillshade_3pm'),\n",
    "        ('Horizontal_Distance_To_Fire_Points', 717, 'Binned_Horizontal_Distance_To_Fire_Points')\n",
    "    ]\n",
    "    \n",
    "    for col_name, bin_size, new_name in bin_defs:\n",
    "        df[new_name] = np.floor(df[col_name]/bin_size)\n",
    "    \n",
    "    return df"
   ]
  },
  {
   "cell_type": "code",
   "execution_count": 22,
   "id": "449d2a9d",
   "metadata": {},
   "outputs": [],
   "source": [
    "X = mean_hillshade(X)\n",
    "X = distance_to_hydrology(X)\n",
    "X = diag_to_sealevl(X)\n",
    "X = mean_dist_to_feature(X)\n",
    "X = binned_columns(X)"
   ]
  },
  {
   "cell_type": "code",
   "execution_count": 24,
   "id": "a3d454e7",
   "metadata": {},
   "outputs": [
    {
     "data": {
      "text/plain": [
       "(581012, 67)"
      ]
     },
     "execution_count": 24,
     "metadata": {},
     "output_type": "execute_result"
    }
   ],
   "source": [
    "X.shape"
   ]
  },
  {
   "cell_type": "code",
   "execution_count": 25,
   "id": "39a51087",
   "metadata": {},
   "outputs": [],
   "source": [
    "# 정규화\n",
    "def normalise_df(df):\n",
    "    df_mean = df.mean()\n",
    "    df_std = df.std()    \n",
    "    df_norm = (df - df_mean) / (df_std)\n",
    "    return df_norm, df_mean, df_std"
   ]
  },
  {
   "cell_type": "code",
   "execution_count": 26,
   "id": "b8f69b18",
   "metadata": {},
   "outputs": [],
   "source": [
    "cols_non_onehot = ['Elevation', 'Aspect', 'Slope', 'Horizontal_Distance_To_Hydrology',\n",
    "                   'Vertical_Distance_To_Hydrology', 'Horizontal_Distance_To_Roadways',\n",
    "                   'Hillshade_9am', 'Hillshade_Noon', 'Hillshade_3pm', \n",
    "                   'Horizontal_Distance_To_Fire_Points', 'mean_hillshade',\n",
    "                   'distance_to_hydrology', 'diag_to_sealevel', 'mean_dist_to_feature']\n",
    "\n",
    "X_norm, df_mean, df_std = normalise_df(X[cols_non_onehot])\n",
    "\n",
    "# replace columns with normalised versions\n",
    "X = X.drop(cols_non_onehot, axis=1)\n",
    "X = pd.concat([X_norm, X], axis=1)"
   ]
  },
  {
   "cell_type": "code",
   "execution_count": 27,
   "id": "aeaf6977",
   "metadata": {},
   "outputs": [],
   "source": [
    "# split back into test and train sets\n",
    "X_train = np.array(X[:len(X_train)])\n",
    "X_test = np.array(X[len(X_train):])"
   ]
  },
  {
   "cell_type": "code",
   "execution_count": 28,
   "id": "e6e96974",
   "metadata": {},
   "outputs": [
    {
     "data": {
      "text/plain": [
       "array([[-1.29780397, -0.93515618, -1.48281851, ...,  7.        ,\n",
       "         4.        ,  8.        ],\n",
       "       [-1.31923371, -0.8904789 , -1.6163612 , ...,  7.        ,\n",
       "         4.        ,  8.        ],\n",
       "       [-0.55490633, -0.14883615, -0.68156233, ...,  7.        ,\n",
       "         4.        ,  8.        ],\n",
       "       ...,\n",
       "       [-1.6692528 , -0.19351342,  1.45512081, ...,  6.        ,\n",
       "         2.        ,  1.        ],\n",
       "       [-1.68711091,  0.10135658,  1.85574889, ...,  7.        ,\n",
       "         3.        ,  1.        ],\n",
       "       [-1.72997039,  0.36942023,  2.65700507, ...,  7.        ,\n",
       "         5.        ,  1.        ]])"
      ]
     },
     "execution_count": 28,
     "metadata": {},
     "output_type": "execute_result"
    }
   ],
   "source": [
    "X_train"
   ]
  },
  {
   "cell_type": "code",
   "execution_count": 29,
   "id": "4ab24662",
   "metadata": {},
   "outputs": [],
   "source": [
    "# Kfold 설정 \n",
    "n_splits = 12\n",
    "kfolds = StratifiedKFold(n_splits= n_splits, shuffle = True)"
   ]
  },
  {
   "cell_type": "code",
   "execution_count": 30,
   "id": "467f691e",
   "metadata": {},
   "outputs": [
    {
     "data": {
      "text/plain": [
       "StratifiedKFold(n_splits=12, random_state=None, shuffle=True)"
      ]
     },
     "execution_count": 30,
     "metadata": {},
     "output_type": "execute_result"
    }
   ],
   "source": [
    "kfolds"
   ]
  },
  {
   "cell_type": "code",
   "execution_count": 32,
   "id": "c8f89ba9",
   "metadata": {},
   "outputs": [],
   "source": [
    "scores = []\n",
    "models = []\n",
    "\n",
    "lrs = [0.1, 0.03, 0.01]\n",
    "nls = [46, 48, 50]\n",
    "n_ests = [200, 225, 250]\n",
    "\n",
    "current_fold = 1"
   ]
  },
  {
   "cell_type": "code",
   "execution_count": 34,
   "id": "52079ca0",
   "metadata": {},
   "outputs": [
    {
     "name": "stdout",
     "output_type": "stream",
     "text": [
      "commencing fold 1\n",
      "     preparing data...\n",
      "     building model with ests=200, lr=0.1, nl=46...\n",
      "     fitting model...\n",
      "     evaluating model...\n",
      "  fold 1 accuracy: 86.90476190476191 %\n",
      "commencing fold 2\n",
      "     preparing data...\n",
      "     building model with ests=225, lr=0.03, nl=46...\n",
      "     fitting model...\n",
      "     evaluating model...\n",
      "  fold 2 accuracy: 83.96825396825398 %\n",
      "commencing fold 3\n",
      "     preparing data...\n",
      "     building model with ests=200, lr=0.03, nl=48...\n",
      "     fitting model...\n",
      "     evaluating model...\n",
      "  fold 3 accuracy: 83.17460317460318 %\n",
      "commencing fold 4\n",
      "     preparing data...\n",
      "     building model with ests=225, lr=0.03, nl=48...\n",
      "     fitting model...\n",
      "     evaluating model...\n",
      "  fold 4 accuracy: 85.39682539682539 %\n",
      "commencing fold 5\n",
      "     preparing data...\n",
      "     building model with ests=225, lr=0.1, nl=48...\n",
      "     fitting model...\n",
      "     evaluating model...\n",
      "  fold 5 accuracy: 86.82539682539682 %\n",
      "commencing fold 6\n",
      "     preparing data...\n",
      "     building model with ests=200, lr=0.01, nl=48...\n",
      "     fitting model...\n",
      "     evaluating model...\n",
      "  fold 6 accuracy: 82.46031746031746 %\n",
      "commencing fold 7\n",
      "     preparing data...\n",
      "     building model with ests=250, lr=0.1, nl=50...\n",
      "     fitting model...\n",
      "     evaluating model...\n",
      "  fold 7 accuracy: 88.4126984126984 %\n",
      "commencing fold 8\n",
      "     preparing data...\n",
      "     building model with ests=250, lr=0.1, nl=46...\n",
      "     fitting model...\n",
      "     evaluating model...\n",
      "  fold 8 accuracy: 87.85714285714286 %\n",
      "commencing fold 9\n",
      "     preparing data...\n",
      "     building model with ests=250, lr=0.1, nl=48...\n",
      "     fitting model...\n",
      "     evaluating model...\n",
      "  fold 9 accuracy: 86.74603174603175 %\n",
      "commencing fold 10\n",
      "     preparing data...\n",
      "     building model with ests=225, lr=0.1, nl=46...\n",
      "     fitting model...\n",
      "     evaluating model...\n",
      "  fold 10 accuracy: 88.01587301587301 %\n",
      "commencing fold 11\n",
      "     preparing data...\n",
      "     building model with ests=250, lr=0.1, nl=48...\n",
      "     fitting model...\n",
      "     evaluating model...\n",
      "  fold 11 accuracy: 88.01587301587301 %\n",
      "commencing fold 12\n",
      "     preparing data...\n",
      "     building model with ests=250, lr=0.01, nl=46...\n",
      "     fitting model...\n",
      "     evaluating model...\n",
      "  fold 12 accuracy: 83.57142857142857 %\n"
     ]
    }
   ],
   "source": [
    "for train, val in kfolds.split(X_train, y_train):\n",
    "    print('commencing fold {}'.format(current_fold))\n",
    "    print('     preparing data...')\n",
    "    Xt = X_train[train]\n",
    "    yt = y_train[train]\n",
    "    Xv = X_train[val]\n",
    "    yv = y_train[val]\n",
    "    \n",
    "    n_est = random.choice(n_ests)\n",
    "    lr = random.choice(lrs)\n",
    "    nl = random.choice(nls)\n",
    "    \n",
    "    print('     building model with ests={}, lr={}, nl={}...'.format(n_est, lr, nl))\n",
    "    \n",
    "    classifier = lgb.LGBMClassifier(n_estimators=n_est, boosting_type='dart', learning_rate=lr, num_leaves=nl)\n",
    "    \n",
    "    print('     fitting model...')\n",
    "    classifier.fit(Xt, yt, eval_set=(Xv, yv), early_stopping_rounds=50, verbose=False)\n",
    "    print('     evaluating model...')\n",
    "    \n",
    "    y_pred = classifier.predict(Xv)\n",
    "    score = accuracy_score(yv, y_pred)\n",
    "    scores.append(score)\n",
    "    models.append(classifier)\n",
    "    print('  fold {} accuracy: {} %'.format(current_fold, score*100))\n",
    "    current_fold += 1"
   ]
  },
  {
   "cell_type": "code",
   "execution_count": 35,
   "id": "1a072d86",
   "metadata": {},
   "outputs": [
    {
     "name": "stdout",
     "output_type": "stream",
     "text": [
      "ensemble average accuracy: 85.9457671957672 % (+/- 2.0477775494755956 %)\n"
     ]
    }
   ],
   "source": [
    "print('ensemble average accuracy: {} % (+/- {} %)'.format(np.mean(scores)*100, np.std(scores)*100))"
   ]
  },
  {
   "cell_type": "code",
   "execution_count": 36,
   "id": "0385b078",
   "metadata": {},
   "outputs": [
    {
     "name": "stdout",
     "output_type": "stream",
     "text": [
      "testing ensemble accuracy on whole training set...\n",
      "getting predictions from model 1...\n",
      "getting predictions from model 2...\n",
      "getting predictions from model 3...\n",
      "getting predictions from model 4...\n",
      "getting predictions from model 5...\n",
      "getting predictions from model 6...\n",
      "getting predictions from model 7...\n",
      "getting predictions from model 8...\n",
      "getting predictions from model 9...\n",
      "getting predictions from model 10...\n",
      "getting predictions from model 11...\n",
      "getting predictions from model 12...\n"
     ]
    }
   ],
   "source": [
    "print('testing ensemble accuracy on whole training set...')\n",
    "y_preds = []\n",
    "for index, classifier in enumerate(models):\n",
    "    print('getting predictions from model {}...'.format(index+1))\n",
    "    y_pred = classifier.predict(X_train)\n",
    "    y_preds.append(y_pred)"
   ]
  },
  {
   "cell_type": "code",
   "execution_count": 37,
   "id": "40d2dcda",
   "metadata": {},
   "outputs": [
    {
     "data": {
      "text/plain": [
       "[array([5, 5, 2, ..., 3, 3, 3], dtype=int64),\n",
       " array([5, 5, 2, ..., 3, 3, 3], dtype=int64),\n",
       " array([5, 5, 2, ..., 3, 3, 3], dtype=int64),\n",
       " array([5, 5, 2, ..., 3, 3, 3], dtype=int64),\n",
       " array([5, 5, 2, ..., 3, 3, 3], dtype=int64),\n",
       " array([5, 5, 2, ..., 3, 3, 3], dtype=int64),\n",
       " array([5, 5, 2, ..., 3, 3, 3], dtype=int64),\n",
       " array([5, 5, 2, ..., 3, 3, 3], dtype=int64),\n",
       " array([5, 5, 2, ..., 3, 3, 3], dtype=int64),\n",
       " array([5, 5, 2, ..., 3, 3, 3], dtype=int64),\n",
       " array([5, 5, 2, ..., 3, 3, 3], dtype=int64),\n",
       " array([5, 5, 2, ..., 3, 3, 3], dtype=int64)]"
      ]
     },
     "execution_count": 37,
     "metadata": {},
     "output_type": "execute_result"
    }
   ],
   "source": [
    "y_preds"
   ]
  },
  {
   "cell_type": "code",
   "execution_count": 38,
   "id": "a29c4e7c",
   "metadata": {},
   "outputs": [
    {
     "name": "stdout",
     "output_type": "stream",
     "text": [
      "taking average and rounding...\n"
     ]
    }
   ],
   "source": [
    "print('taking average and rounding...')\n",
    "y_pred = np.rint(np.mean(y_preds, axis=0))\n",
    "y_pred = y_pred.astype(int)"
   ]
  },
  {
   "cell_type": "code",
   "execution_count": 39,
   "id": "daa9dbf7",
   "metadata": {},
   "outputs": [
    {
     "name": "stdout",
     "output_type": "stream",
     "text": [
      "calcualting accuracy...\n"
     ]
    }
   ],
   "source": [
    "print('calcualting accuracy...')\n",
    "ensemble_accuracy = accuracy_score(y_train, y_pred)"
   ]
  },
  {
   "cell_type": "code",
   "execution_count": 40,
   "id": "0099013e",
   "metadata": {},
   "outputs": [
    {
     "name": "stdout",
     "output_type": "stream",
     "text": [
      "ensemble accuracy: 92.1031746031746 %\n"
     ]
    }
   ],
   "source": [
    "print('ensemble accuracy: {} %'.format(ensemble_accuracy*100))"
   ]
  },
  {
   "cell_type": "code",
   "execution_count": 41,
   "id": "bd326fc7",
   "metadata": {},
   "outputs": [
    {
     "name": "stdout",
     "output_type": "stream",
     "text": [
      "producing test data predictions...\n",
      "getting predictions from model 1...\n",
      "getting predictions from model 2...\n",
      "getting predictions from model 3...\n",
      "getting predictions from model 4...\n",
      "getting predictions from model 5...\n",
      "getting predictions from model 6...\n",
      "getting predictions from model 7...\n",
      "getting predictions from model 8...\n",
      "getting predictions from model 9...\n",
      "getting predictions from model 10...\n",
      "getting predictions from model 11...\n",
      "getting predictions from model 12...\n",
      "taking average and rounding...\n",
      "7\n",
      "1\n"
     ]
    }
   ],
   "source": [
    "print('producing test data predictions...')\n",
    "y_preds = []\n",
    "for index, classifier in enumerate(models):\n",
    "    print('getting predictions from model {}...'.format(index+1))\n",
    "    y_pred = classifier.predict(X_test)\n",
    "    y_preds.append(y_pred)\n",
    "\n",
    "print('taking average and rounding...')\n",
    "y_pred = np.rint(np.mean(y_preds, axis=0))\n",
    "y_pred = y_pred.astype(int)\n",
    "\n",
    "print(max(y_pred))\n",
    "print(min(y_pred))"
   ]
  },
  {
   "cell_type": "code",
   "execution_count": null,
   "id": "0b863128",
   "metadata": {},
   "outputs": [],
   "source": [
    "# sub = pd.DataFrame()\n",
    "# sub['Id'] = ID_test\n",
    "# sub['Cover_Type'] = y_pred\n",
    "# sub.to_csv('my_submission.csv', index=False)\n",
    "# print('good luck!')"
   ]
  }
 ],
 "metadata": {
  "kernelspec": {
   "display_name": "Python 3",
   "language": "python",
   "name": "python3"
  },
  "language_info": {
   "codemirror_mode": {
    "name": "ipython",
    "version": 3
   },
   "file_extension": ".py",
   "mimetype": "text/x-python",
   "name": "python",
   "nbconvert_exporter": "python",
   "pygments_lexer": "ipython3",
   "version": "3.8.8"
  }
 },
 "nbformat": 4,
 "nbformat_minor": 5
}
