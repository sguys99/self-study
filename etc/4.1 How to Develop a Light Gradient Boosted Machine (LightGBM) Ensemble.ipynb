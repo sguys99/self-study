{
 "cells": [
  {
   "cell_type": "markdown",
   "id": "d1177759",
   "metadata": {},
   "source": [
    "## 5. How to Develop a Light Gradient Boosted Machine (LightGBM) Ensemble"
   ]
  },
  {
   "cell_type": "markdown",
   "id": "b8e647e8",
   "metadata": {},
   "source": [
    "<div style=\"text-align: right\"> <b>Author : Kwang Myung Yu</b></div>\n",
    "<div style=\"text-align: right\\\"> Initial upload: 2021.10.06 </div>\n",
    "<div style=\"text-align: right\\\"> Last update: 2021.10.06</div>"
   ]
  },
  {
   "cell_type": "markdown",
   "id": "0a776989",
   "metadata": {},
   "source": [
    "- 출처 : https://machinelearningmastery.com/light-gradient-boosted-machine-lightgbm-ensemble/"
   ]
  },
  {
   "cell_type": "code",
   "execution_count": 1,
   "id": "fb9c7512",
   "metadata": {},
   "outputs": [],
   "source": [
    "import os\n",
    "import numpy as np\n",
    "import pandas as pd\n",
    "import matplotlib.pyplot as plt\n",
    "import seaborn as sns\n",
    "from scipy import stats\n",
    "import warnings; warnings.filterwarnings('ignore')\n",
    "plt.style.use('ggplot')\n",
    "%matplotlib inline\n",
    "\n",
    "from scipy.signal import find_peaks"
   ]
  },
  {
   "cell_type": "code",
   "execution_count": 2,
   "id": "3d38ae41",
   "metadata": {},
   "outputs": [
    {
     "data": {
      "text/html": [
       "<svg  width=\"550\" height=\"55\"><rect x=\"0\" y=\"0\" width=\"55\" height=\"55\" style=\"fill:#00798c;stroke-width:2;stroke:rgb(255,255,255)\"/><rect x=\"55\" y=\"0\" width=\"55\" height=\"55\" style=\"fill:#d1495b;stroke-width:2;stroke:rgb(255,255,255)\"/><rect x=\"110\" y=\"0\" width=\"55\" height=\"55\" style=\"fill:#edae49;stroke-width:2;stroke:rgb(255,255,255)\"/><rect x=\"165\" y=\"0\" width=\"55\" height=\"55\" style=\"fill:#66a182;stroke-width:2;stroke:rgb(255,255,255)\"/><rect x=\"220\" y=\"0\" width=\"55\" height=\"55\" style=\"fill:#4a4a4a;stroke-width:2;stroke:rgb(255,255,255)\"/><rect x=\"275\" y=\"0\" width=\"55\" height=\"55\" style=\"fill:#1a508b;stroke-width:2;stroke:rgb(255,255,255)\"/><rect x=\"330\" y=\"0\" width=\"55\" height=\"55\" style=\"fill:#e3120b;stroke-width:2;stroke:rgb(255,255,255)\"/><rect x=\"385\" y=\"0\" width=\"55\" height=\"55\" style=\"fill:#c5a880;stroke-width:2;stroke:rgb(255,255,255)\"/><rect x=\"440\" y=\"0\" width=\"55\" height=\"55\" style=\"fill:#9f5f80;stroke-width:2;stroke:rgb(255,255,255)\"/><rect x=\"495\" y=\"0\" width=\"55\" height=\"55\" style=\"fill:#6f9eaf;stroke-width:2;stroke:rgb(255,255,255)\"/></svg>"
      ],
      "text/plain": [
       "[(0.0, 0.4745098039215686, 0.5490196078431373),\n",
       " (0.8196078431372549, 0.28627450980392155, 0.3568627450980392),\n",
       " (0.9294117647058824, 0.6823529411764706, 0.28627450980392155),\n",
       " (0.4, 0.6313725490196078, 0.5098039215686274),\n",
       " (0.2901960784313726, 0.2901960784313726, 0.2901960784313726),\n",
       " (0.10196078431372549, 0.3137254901960784, 0.5450980392156862),\n",
       " (0.8901960784313725, 0.07058823529411765, 0.043137254901960784),\n",
       " (0.7725490196078432, 0.6588235294117647, 0.5019607843137255),\n",
       " (0.6235294117647059, 0.37254901960784315, 0.5019607843137255),\n",
       " (0.43529411764705883, 0.6196078431372549, 0.6862745098039216)]"
      ]
     },
     "execution_count": 2,
     "metadata": {},
     "output_type": "execute_result"
    }
   ],
   "source": [
    "colors = [\"#00798c\", \"#d1495b\", '#edae49', '#66a182', '#4a4a4a',\n",
    "          '#1a508b', '#e3120b', '#c5a880', '#9F5F80', '#6F9EAF',\n",
    "          '#0278ae','#F39233', '#A7C5EB', '#54E346', '#ABCE74',\n",
    "        '#d6b0b1', '#58391c', '#cdd0cb', '#ffb396', '#6930c3']\n",
    "sns.color_palette(colors[:10])"
   ]
  },
  {
   "cell_type": "markdown",
   "id": "3801de39",
   "metadata": {},
   "source": [
    "LightGBM extends the gradient boosting algorithm by adding a type of automatic feature selection as well as focusing on boosting examples with larger gradients. This can result in a dramatic speedup of training and improved predictive performance."
   ]
  },
  {
   "cell_type": "markdown",
   "id": "69e2abd4",
   "metadata": {},
   "source": [
    "### Light Gradient Boosted Machine Algorithm"
   ]
  },
  {
   "cell_type": "markdown",
   "id": "f73ba3b8",
   "metadata": {},
   "source": [
    "### LightGBM Scikit-Learn API"
   ]
  },
  {
   "cell_type": "code",
   "execution_count": 3,
   "id": "aacd9f6c",
   "metadata": {},
   "outputs": [],
   "source": [
    "import lightgbm"
   ]
  },
  {
   "cell_type": "code",
   "execution_count": 4,
   "id": "d2474db0",
   "metadata": {},
   "outputs": [
    {
     "data": {
      "text/plain": [
       "'3.2.1'"
      ]
     },
     "execution_count": 4,
     "metadata": {},
     "output_type": "execute_result"
    }
   ],
   "source": [
    "lightgbm.__version__"
   ]
  },
  {
   "cell_type": "markdown",
   "id": "99c517dd",
   "metadata": {},
   "source": [
    "lgbm 고유의 api가 있지만 여기서는 sklearn의 wrapper 클래스를 사용할 것이다. : LGBMRegressor, LGBMClassfier"
   ]
  },
  {
   "cell_type": "markdown",
   "id": "7a3e0ca1",
   "metadata": {},
   "source": [
    "#### LightGBM Ensemble for Classification"
   ]
  },
  {
   "cell_type": "markdown",
   "id": "0fdefa76",
   "metadata": {},
   "source": [
    "먼저 make_classification 함수를 사용하여 20개의 피처를 가지는 1000개 샘플을 만든다."
   ]
  },
  {
   "cell_type": "code",
   "execution_count": 5,
   "id": "c472ab66",
   "metadata": {},
   "outputs": [],
   "source": [
    "from sklearn.datasets import make_classification"
   ]
  },
  {
   "cell_type": "code",
   "execution_count": 6,
   "id": "03430a8d",
   "metadata": {},
   "outputs": [],
   "source": [
    "X, y = make_classification(n_samples=1000, n_features=20, n_informative=15,  n_redundant=5, random_state=7)"
   ]
  },
  {
   "cell_type": "code",
   "execution_count": 7,
   "id": "be23dea9",
   "metadata": {},
   "outputs": [
    {
     "name": "stdout",
     "output_type": "stream",
     "text": [
      "(1000, 20) (1000,)\n"
     ]
    }
   ],
   "source": [
    "print(X.shape, y.shape)"
   ]
  },
  {
   "cell_type": "markdown",
   "id": "eafc935d",
   "metadata": {},
   "source": [
    "여기서는 k-fold cv를 3번 반복하고 fold를 10개로 만들 것이다."
   ]
  },
  {
   "cell_type": "code",
   "execution_count": 8,
   "id": "42f756a9",
   "metadata": {},
   "outputs": [],
   "source": [
    "from numpy import mean\n",
    "from numpy import std\n",
    "from sklearn.datasets import make_classification\n",
    "from sklearn.model_selection import cross_val_score\n",
    "from sklearn.model_selection import RepeatedStratifiedKFold\n",
    "from lightgbm import LGBMClassifier"
   ]
  },
  {
   "cell_type": "code",
   "execution_count": 9,
   "id": "4181b73b",
   "metadata": {},
   "outputs": [],
   "source": [
    "model = LGBMClassifier()"
   ]
  },
  {
   "cell_type": "code",
   "execution_count": 10,
   "id": "a8648933",
   "metadata": {},
   "outputs": [],
   "source": [
    "cv = RepeatedStratifiedKFold(n_splits=10, n_repeats=3, random_state=1)"
   ]
  },
  {
   "cell_type": "code",
   "execution_count": 11,
   "id": "4a42d656",
   "metadata": {},
   "outputs": [
    {
     "data": {
      "text/plain": [
       "RepeatedStratifiedKFold(n_repeats=3, n_splits=10, random_state=1)"
      ]
     },
     "execution_count": 11,
     "metadata": {},
     "output_type": "execute_result"
    }
   ],
   "source": [
    "cv"
   ]
  },
  {
   "cell_type": "code",
   "execution_count": 12,
   "id": "b2609ba3",
   "metadata": {},
   "outputs": [],
   "source": [
    "n_scores = cross_val_score(model, X, y, scoring='accuracy', cv = cv , n_jobs=1)"
   ]
  },
  {
   "cell_type": "code",
   "execution_count": 13,
   "id": "dbfd2d6c",
   "metadata": {},
   "outputs": [
    {
     "data": {
      "text/plain": [
       "array([0.94, 0.89, 0.93, 0.97, 0.93, 0.94, 0.88, 0.95, 0.97, 0.9 , 0.94,\n",
       "       0.94, 0.95, 0.93, 0.95, 0.97, 0.93, 0.96, 0.9 , 0.88, 0.95, 0.92,\n",
       "       0.88, 0.92, 0.92, 0.96, 0.95, 0.89, 0.93, 0.94])"
      ]
     },
     "execution_count": 13,
     "metadata": {},
     "output_type": "execute_result"
    }
   ],
   "source": [
    "n_scores"
   ]
  },
  {
   "cell_type": "code",
   "execution_count": 15,
   "id": "06ea1632",
   "metadata": {},
   "outputs": [
    {
     "name": "stdout",
     "output_type": "stream",
     "text": [
      "0.9303333333333335 0.02701645589060282\n"
     ]
    }
   ],
   "source": [
    "print(n_scores.mean(), n_scores.std())"
   ]
  },
  {
   "cell_type": "code",
   "execution_count": null,
   "id": "059d3896",
   "metadata": {},
   "outputs": [],
   "source": []
  },
  {
   "cell_type": "markdown",
   "id": "01e8c3bb",
   "metadata": {},
   "source": [
    "전체 데이터로 최종 모델을 만드는 방법도 있다."
   ]
  },
  {
   "cell_type": "code",
   "execution_count": 16,
   "id": "76930dd9",
   "metadata": {},
   "outputs": [
    {
     "data": {
      "text/plain": [
       "LGBMClassifier()"
      ]
     },
     "execution_count": 16,
     "metadata": {},
     "output_type": "execute_result"
    }
   ],
   "source": [
    "model = LGBMClassifier()\n",
    "model.fit(X, y)"
   ]
  },
  {
   "cell_type": "markdown",
   "id": "deb292f3",
   "metadata": {},
   "source": [
    "예측해보기"
   ]
  },
  {
   "cell_type": "code",
   "execution_count": 17,
   "id": "4f9b5310",
   "metadata": {},
   "outputs": [
    {
     "name": "stdout",
     "output_type": "stream",
     "text": [
      "Predicted Class: 1\n"
     ]
    }
   ],
   "source": [
    "row = [0.2929949,-4.21223056,-1.288332,-2.17849815,-0.64527665,\n",
    "       2.58097719,0.28422388,-7.1827928,-1.91211104,2.73729512,\n",
    "       0.81395695,3.96973717,-2.66939799,3.34692332,4.19791821,\n",
    "       0.99990998,-0.30201875,-4.43170633,-2.82646737,0.44916808]\n",
    "\n",
    "yhat = model.predict([row])\n",
    "print('Predicted Class: %d' % yhat[0])"
   ]
  },
  {
   "cell_type": "markdown",
   "id": "4280e7af",
   "metadata": {},
   "source": [
    "#### LightGBM Ensemble for Regression"
   ]
  },
  {
   "cell_type": "code",
   "execution_count": 18,
   "id": "19b9bbab",
   "metadata": {},
   "outputs": [],
   "source": [
    "from sklearn.datasets import make_regression"
   ]
  },
  {
   "cell_type": "code",
   "execution_count": 19,
   "id": "91116e78",
   "metadata": {},
   "outputs": [
    {
     "name": "stdout",
     "output_type": "stream",
     "text": [
      "(1000, 20) (1000,)\n"
     ]
    }
   ],
   "source": [
    "# define dataset\n",
    "X, y = make_regression(n_samples=1000, n_features=20, n_informative=15, noise=0.1, random_state=7)\n",
    "# summarize the dataset\n",
    "print(X.shape, y.shape)"
   ]
  },
  {
   "cell_type": "code",
   "execution_count": 20,
   "id": "8c0080df",
   "metadata": {},
   "outputs": [],
   "source": [
    "from numpy import mean\n",
    "from numpy import std\n",
    "from sklearn.datasets import make_regression\n",
    "from sklearn.model_selection import cross_val_score\n",
    "from sklearn.model_selection import RepeatedKFold\n",
    "from lightgbm import LGBMRegressor"
   ]
  },
  {
   "cell_type": "code",
   "execution_count": 21,
   "id": "e6860e28",
   "metadata": {},
   "outputs": [],
   "source": [
    "model = LGBMRegressor()"
   ]
  },
  {
   "cell_type": "code",
   "execution_count": 22,
   "id": "2995191d",
   "metadata": {},
   "outputs": [],
   "source": [
    "cv = RepeatedKFold(n_splits=10, n_repeats=3, random_state=1)\n",
    "n_scores = cross_val_score(model, X, y, scoring='neg_mean_absolute_error', cv=cv, n_jobs=-1, error_score='raise')"
   ]
  },
  {
   "cell_type": "code",
   "execution_count": 23,
   "id": "20caeacf",
   "metadata": {},
   "outputs": [
    {
     "name": "stdout",
     "output_type": "stream",
     "text": [
      "MAE: -60.004 (2.887)\n"
     ]
    }
   ],
   "source": [
    "print('MAE: %.3f (%.3f)' % (mean(n_scores), std(n_scores)))"
   ]
  },
  {
   "cell_type": "markdown",
   "id": "1c935e05",
   "metadata": {},
   "source": [
    "전체 데이터로 예측하기"
   ]
  },
  {
   "cell_type": "code",
   "execution_count": 24,
   "id": "eb28f75c",
   "metadata": {},
   "outputs": [
    {
     "name": "stdout",
     "output_type": "stream",
     "text": [
      "Prediction: 52\n"
     ]
    }
   ],
   "source": [
    "model = LGBMRegressor()\n",
    "# fit the model on the whole dataset\n",
    "model.fit(X, y)\n",
    "# make a single prediction\n",
    "row = [0.20543991,-0.97049844,-0.81403429,-0.23842689,-0.60704084,\n",
    "       -0.48541492,0.53113006,2.01834338,-0.90745243,-1.85859731,\n",
    "       -1.02334791,-0.6877744,0.60984819,-0.70630121,-1.29161497,\n",
    "       1.32385441,1.42150747,1.26567231,2.56569098,-0.11154792]\n",
    "\n",
    "yhat = model.predict([row])\n",
    "print('Prediction: %d' % yhat[0])"
   ]
  },
  {
   "cell_type": "markdown",
   "id": "0cc418ff",
   "metadata": {},
   "source": [
    "### LightGBM Hyperparameters"
   ]
  },
  {
   "cell_type": "markdown",
   "id": "1d15c39e",
   "metadata": {},
   "source": [
    "#### Explore Number of Trees"
   ]
  },
  {
   "cell_type": "markdown",
   "id": "c707819b",
   "metadata": {},
   "source": [
    "가장 중요한 hp중 하나가 앙상블에 사용할 tree의 수인 n_estimators이다.  \n",
    "결정트리는 시퀀셜하게 연결된다. 예측 성능을 높이기 위해.  \n",
    "디펄트 값은 100이다.  \n",
    "아래 예제는 10 ~ 5000사이 변경을 가했을 때 결과를 비교한 것이다."
   ]
  },
  {
   "cell_type": "code",
   "execution_count": 25,
   "id": "1a8c3468",
   "metadata": {},
   "outputs": [],
   "source": [
    "# get the dataset\n",
    "def get_dataset():\n",
    "    X, y = make_classification(n_samples=1000, n_features=20, n_informative=15, n_redundant=5, random_state=7)\n",
    "    return X, y\n",
    " \n",
    "# get a list of models to evaluate\n",
    "def get_models():\n",
    "    models = dict()\n",
    "    trees = [10, 50, 100, 500, 1000, 5000]\n",
    "    for n in trees:\n",
    "        models[str(n)] = LGBMClassifier(n_estimators=n)\n",
    "    return models"
   ]
  },
  {
   "cell_type": "code",
   "execution_count": 39,
   "id": "4fa53b42",
   "metadata": {},
   "outputs": [],
   "source": [
    "# evaluate a give model using cross-validation\n",
    "def evaluate_model(model):\n",
    "    cv = RepeatedStratifiedKFold(n_splits=10, n_repeats=3, random_state=1)\n",
    "    scores = cross_val_score(model, X, y, scoring='accuracy', cv=cv, n_jobs=-1)\n",
    "    return scores"
   ]
  },
  {
   "cell_type": "code",
   "execution_count": 40,
   "id": "405e6274",
   "metadata": {},
   "outputs": [],
   "source": [
    "X, y = get_dataset()"
   ]
  },
  {
   "cell_type": "code",
   "execution_count": 41,
   "id": "1928ebc8",
   "metadata": {},
   "outputs": [],
   "source": [
    "models = get_models()"
   ]
  },
  {
   "cell_type": "code",
   "execution_count": 42,
   "id": "5b186ad8",
   "metadata": {},
   "outputs": [
    {
     "data": {
      "text/plain": [
       "{'10': LGBMClassifier(n_estimators=10),\n",
       " '50': LGBMClassifier(n_estimators=50),\n",
       " '100': LGBMClassifier(),\n",
       " '500': LGBMClassifier(n_estimators=500),\n",
       " '1000': LGBMClassifier(n_estimators=1000),\n",
       " '5000': LGBMClassifier(n_estimators=5000)}"
      ]
     },
     "execution_count": 42,
     "metadata": {},
     "output_type": "execute_result"
    }
   ],
   "source": [
    "models"
   ]
  },
  {
   "cell_type": "code",
   "execution_count": 43,
   "id": "399a3cc0",
   "metadata": {},
   "outputs": [
    {
     "data": {
      "text/plain": [
       "dict_items([('10', LGBMClassifier(n_estimators=10)), ('50', LGBMClassifier(n_estimators=50)), ('100', LGBMClassifier()), ('500', LGBMClassifier(n_estimators=500)), ('1000', LGBMClassifier(n_estimators=1000)), ('5000', LGBMClassifier(n_estimators=5000))])"
      ]
     },
     "execution_count": 43,
     "metadata": {},
     "output_type": "execute_result"
    }
   ],
   "source": [
    "models.items()"
   ]
  },
  {
   "cell_type": "code",
   "execution_count": 44,
   "id": "8bb76e89",
   "metadata": {},
   "outputs": [],
   "source": [
    "results, names = list(), list()"
   ]
  },
  {
   "cell_type": "code",
   "execution_count": 45,
   "id": "fd318053",
   "metadata": {},
   "outputs": [
    {
     "name": "stdout",
     "output_type": "stream",
     "text": [
      "[INFO] 10 0.8586666666666666 (0.03148897514298545)\n",
      "[INFO] 50 0.9133333333333336 (0.027365834335698374)\n",
      "[INFO] 100 0.9303333333333335 (0.02701645589060282)\n",
      "[INFO] 500 0.9403333333333335 (0.026892791268706587)\n",
      "[INFO] 1000 0.9406666666666667 (0.02780087928265737)\n",
      "[INFO] 5000 0.9390000000000001 (0.026751946969644384)\n"
     ]
    }
   ],
   "source": [
    "for name, model in models.items():\n",
    "    scores = evaluate_model(model)\n",
    "    results.append(scores)\n",
    "    names.append(name)\n",
    "    print('[INFO] {} {} ({})'.format(name, mean(scores), std(scores) ))"
   ]
  },
  {
   "cell_type": "code",
   "execution_count": 46,
   "id": "c2f75acb",
   "metadata": {},
   "outputs": [
    {
     "data": {
      "image/png": "[encoded data removed]",
      "text/plain": [
       "<Figure size 864x360 with 1 Axes>"
      ]
     },
     "metadata": {
      "needs_background": "light"
     },
     "output_type": "display_data"
    }
   ],
   "source": [
    "plt.figure(figsize = (12, 5))\n",
    "plt.boxplot(results, labels = names, showmeans=True)\n",
    "plt.show()"
   ]
  },
  {
   "cell_type": "markdown",
   "id": "bf185d4d",
   "metadata": {},
   "source": [
    "#### Explore Tree Depth"
   ]
  },
  {
   "cell_type": "markdown",
   "id": "4f9c8ca3",
   "metadata": {},
   "source": [
    "The tree depth controls how specialized each tree is to the training dataset: how general or overfit it might be. Trees are preferred that are not too shallow and general (like AdaBoost) and not too deep and specialized (like bootstrap aggregation)."
   ]
  },
  {
   "cell_type": "markdown",
   "id": "a07fbbd0",
   "metadata": {},
   "source": [
    "Gradient boosting generally performs well with trees that have a modest depth, finding a balance between skill and generality."
   ]
  },
  {
   "cell_type": "markdown",
   "id": "683ae2ef",
   "metadata": {},
   "source": [
    "Tree depth는 `max_depth`로 조절되는데 디펄트 값은 설정되지 않은 값이다. \n",
    "(the default mechanism for controlling how complex trees are is to use the number of leaf nodes.  )"
   ]
  },
  {
   "cell_type": "markdown",
   "id": "84f81b2e",
   "metadata": {},
   "source": [
    "tree의 복잡도를 조절하는 방법은 두가지가 있다.:  \n",
    "the max depth of the trees and the maximum number of terminal nodes (leaves) in the tree. In this case, we are exploring the number of leaves so we need to increase the number of leaves to support deeper trees by setting the “num_leaves” argument."
   ]
  },
  {
   "cell_type": "markdown",
   "id": "1b49185b",
   "metadata": {},
   "source": [
    "아래는 tree depth를 1 ~ 10 범위로 조절한 예이다."
   ]
  },
  {
   "cell_type": "code",
   "execution_count": 48,
   "id": "f64f9dca",
   "metadata": {},
   "outputs": [],
   "source": [
    "# get the dataset\n",
    "def get_dataset():\n",
    "    X, y = make_classification(n_samples=1000, n_features=20, n_informative=15, n_redundant=5, random_state=7)\n",
    "    return X, y\n",
    " \n",
    "# get a list of models to evaluate\n",
    "def get_models():\n",
    "    models = dict()\n",
    "    for i in range(1, 11):\n",
    "        models[str(i)] = LGBMClassifier(max_depth = i, num_leaves = 2**i)\n",
    "    return models\n",
    "\n",
    "# evaluate a give model using cross-validation\n",
    "def evaluate_model(model):\n",
    "    cv = RepeatedStratifiedKFold(n_splits=10, n_repeats=3, random_state=1)\n",
    "    scores = cross_val_score(model, X, y, scoring='accuracy', cv=cv, n_jobs=-1)\n",
    "    return scores"
   ]
  },
  {
   "cell_type": "code",
   "execution_count": 49,
   "id": "0ac8401d",
   "metadata": {},
   "outputs": [],
   "source": [
    "X, y = get_dataset()\n",
    "models = get_models()"
   ]
  },
  {
   "cell_type": "code",
   "execution_count": 50,
   "id": "eef1ef2b",
   "metadata": {},
   "outputs": [
    {
     "name": "stdout",
     "output_type": "stream",
     "text": [
      "[INFO] 1 0.8323333333333334 (0.028246927069840496)\n",
      "[INFO] 2 0.8733333333333333 (0.030037014202850165)\n",
      "[INFO] 3 0.8979999999999999 (0.03091924966748062)\n",
      "[INFO] 4 0.9113333333333333 (0.0327346231925091)\n",
      "[INFO] 5 0.9226666666666666 (0.028276413413931306)\n",
      "[INFO] 6 0.9216666666666669 (0.02450623503428372)\n",
      "[INFO] 7 0.9260000000000002 (0.030724582991474417)\n",
      "[INFO] 8 0.9280000000000002 (0.027006172134038768)\n",
      "[INFO] 9 0.9293333333333333 (0.03161574853701165)\n",
      "[INFO] 10 0.9263333333333336 (0.02834117538533328)\n"
     ]
    }
   ],
   "source": [
    "results, names = list(), list()\n",
    "\n",
    "for name, model in models.items():\n",
    "    scores = evaluate_model(model)\n",
    "    results.append(scores)\n",
    "    names.append(name)\n",
    "    print('[INFO] {} {} ({})'.format(name, mean(scores), std(scores) ))"
   ]
  },
  {
   "cell_type": "code",
   "execution_count": 51,
   "id": "d8e2f04e",
   "metadata": {},
   "outputs": [
    {
     "data": {
      "image/png": "[encoded data removed]",
      "text/plain": [
       "<Figure size 864x360 with 1 Axes>"
      ]
     },
     "metadata": {
      "needs_background": "light"
     },
     "output_type": "display_data"
    }
   ],
   "source": [
    "plt.figure(figsize = (12, 5))\n",
    "plt.boxplot(results, labels = names, showmeans=True)\n",
    "plt.show()"
   ]
  },
  {
   "cell_type": "markdown",
   "id": "2500d187",
   "metadata": {},
   "source": [
    "- 모델 성능은 depth가 커질수록 향상되다가 어느정도 깊어지면 일정성능이 유지되는 것을 알 수 있다."
   ]
  },
  {
   "cell_type": "markdown",
   "id": "85c21eb9",
   "metadata": {},
   "source": [
    "#### Explore Learning Rate"
   ]
  },
  {
   "cell_type": "markdown",
   "id": "bd7c0ee0",
   "metadata": {},
   "source": [
    "default 값은 0.1이다."
   ]
  },
  {
   "cell_type": "code",
   "execution_count": 52,
   "id": "a3bb1fe9",
   "metadata": {},
   "outputs": [],
   "source": [
    "# get the dataset\n",
    "def get_dataset():\n",
    "    X, y = make_classification(n_samples=1000, n_features=20, n_informative=15, n_redundant=5, random_state=7)\n",
    "    return X, y\n",
    " \n",
    "# get a list of models to evaluate\n",
    "def get_models():\n",
    "    models = dict()\n",
    "    rates = [0.0001, 0.001, 0.01, 0.1, 1.0]\n",
    "    for r in rates:\n",
    "        key = '%.4f' % r\n",
    "        models[key] = LGBMClassifier(learning_rate=r)\n",
    "    return models\n",
    "\n",
    "# evaluate a give model using cross-validation\n",
    "def evaluate_model(model):\n",
    "    cv = RepeatedStratifiedKFold(n_splits=10, n_repeats=3, random_state=1)\n",
    "    scores = cross_val_score(model, X, y, scoring='accuracy', cv=cv, n_jobs=-1)\n",
    "    return scores"
   ]
  },
  {
   "cell_type": "code",
   "execution_count": 53,
   "id": "ced121bb",
   "metadata": {},
   "outputs": [],
   "source": [
    "X, y = get_dataset()\n",
    "models = get_models()"
   ]
  },
  {
   "cell_type": "code",
   "execution_count": 54,
   "id": "fddae7e2",
   "metadata": {},
   "outputs": [
    {
     "name": "stdout",
     "output_type": "stream",
     "text": [
      "[INFO] 0.0001 0.8003333333333333 (0.03798976470343323)\n",
      "[INFO] 0.0010 0.8110000000000002 (0.035057096285916196)\n",
      "[INFO] 0.0100 0.8586666666666666 (0.03461534662865912)\n",
      "[INFO] 0.1000 0.9303333333333335 (0.02701645589060282)\n",
      "[INFO] 1.0000 0.9293333333333333 (0.03021405118299908)\n"
     ]
    }
   ],
   "source": [
    "results, names = list(), list()\n",
    "\n",
    "for name, model in models.items():\n",
    "    scores = evaluate_model(model)\n",
    "    results.append(scores)\n",
    "    names.append(name)\n",
    "    print('[INFO] {} {} ({})'.format(name, mean(scores), std(scores) ))"
   ]
  },
  {
   "cell_type": "markdown",
   "id": "1578a47d",
   "metadata": {},
   "source": [
    "- 여기서는 큰 값이 성능이 우수한 것으로 나왔다. **learning rate를 줄이고 트리의 갯수를 늘리면 성능을 더 높일 수 있을 것이라 예상할 수 있을 것이다.**"
   ]
  },
  {
   "cell_type": "code",
   "execution_count": 55,
   "id": "d6432cd9",
   "metadata": {},
   "outputs": [
    {
     "data": {
      "image/png": "[encoded data removed]",
      "text/plain": [
       "<Figure size 864x360 with 1 Axes>"
      ]
     },
     "metadata": {
      "needs_background": "light"
     },
     "output_type": "display_data"
    }
   ],
   "source": [
    "plt.figure(figsize = (12, 5))\n",
    "plt.boxplot(results, labels = names, showmeans=True)\n",
    "plt.show()"
   ]
  },
  {
   "cell_type": "markdown",
   "id": "a7cda8cb",
   "metadata": {},
   "source": [
    "#### Explore Boosting Type   \n",
    "lgbm은 다양한 타입의 부스팅 알고리즘을 제공한다.  `boosting_type`에 설정하면 되며 default 값은 `gbdt`이다.  \n",
    "설정할 수 있는 스트링 타입은 다음과 같다.  \n",
    "- `gbdt`: Gradient Boosting Decision Tree (GDBT).\n",
    "- `dart`: Dropouts meet Multiple Additive Regression Trees (DART).\n",
    "- `goss`: Gradient-based One-Side Sampling (GOSS)."
   ]
  },
  {
   "cell_type": "code",
   "execution_count": 56,
   "id": "05553989",
   "metadata": {},
   "outputs": [],
   "source": [
    "# get the dataset\n",
    "def get_dataset():\n",
    "    X, y = make_classification(n_samples=1000, n_features=20, n_informative=15, n_redundant=5, random_state=7)\n",
    "    return X, y\n",
    " \n",
    "# get a list of models to evaluate\n",
    "def get_models():\n",
    "    models = dict()\n",
    "    rates = [0.0001, 0.001, 0.01, 0.1, 1.0]\n",
    "    types = ['gbdt', 'dart', 'goss']\n",
    "    for t in types:\n",
    "        models[t] = LGBMClassifier(boosting_type=t)\n",
    "    return models\n",
    "\n",
    "# evaluate a give model using cross-validation\n",
    "def evaluate_model(model):\n",
    "    cv = RepeatedStratifiedKFold(n_splits=10, n_repeats=3, random_state=1)\n",
    "    scores = cross_val_score(model, X, y, scoring='accuracy', cv=cv, n_jobs=-1)\n",
    "    return scores"
   ]
  },
  {
   "cell_type": "code",
   "execution_count": 57,
   "id": "7e79e284",
   "metadata": {},
   "outputs": [],
   "source": [
    "X, y = get_dataset()\n",
    "models = get_models()"
   ]
  },
  {
   "cell_type": "code",
   "execution_count": 58,
   "id": "16cbe617",
   "metadata": {},
   "outputs": [
    {
     "name": "stdout",
     "output_type": "stream",
     "text": [
      "[INFO] gbdt 0.9303333333333335 (0.02701645589060282)\n",
      "[INFO] dart 0.9143333333333334 (0.028946310453819294)\n",
      "[INFO] goss 0.9176666666666667 (0.027890659527678583)\n"
     ]
    }
   ],
   "source": [
    "results, names = list(), list()\n",
    "\n",
    "for name, model in models.items():\n",
    "    scores = evaluate_model(model)\n",
    "    results.append(scores)\n",
    "    names.append(name)\n",
    "    print('[INFO] {} {} ({})'.format(name, mean(scores), std(scores) ))"
   ]
  },
  {
   "cell_type": "code",
   "execution_count": 59,
   "id": "681df61d",
   "metadata": {},
   "outputs": [
    {
     "data": {
      "image/png": "[encoded data removed]",
      "text/plain": [
       "<Figure size 864x360 with 1 Axes>"
      ]
     },
     "metadata": {
      "needs_background": "light"
     },
     "output_type": "display_data"
    }
   ],
   "source": [
    "plt.figure(figsize = (12, 5))\n",
    "plt.boxplot(results, labels = names, showmeans=True)\n",
    "plt.show()"
   ]
  },
  {
   "cell_type": "code",
   "execution_count": null,
   "id": "68c1464a",
   "metadata": {},
   "outputs": [],
   "source": []
  }
 ],
 "metadata": {
  "kernelspec": {
   "display_name": "Python 3",
   "language": "python",
   "name": "python3"
  },
  "language_info": {
   "codemirror_mode": {
    "name": "ipython",
    "version": 3
   },
   "file_extension": ".py",
   "mimetype": "text/x-python",
   "name": "python",
   "nbconvert_exporter": "python",
   "pygments_lexer": "ipython3",
   "version": "3.8.8"
  }
 },
 "nbformat": 4,
 "nbformat_minor": 5
}
