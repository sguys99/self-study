{
 "cells": [
  {
   "cell_type": "markdown",
   "id": "d1177759",
   "metadata": {},
   "source": [
    "## 10.Pima Indian Diabets1"
   ]
  },
  {
   "cell_type": "markdown",
   "id": "b8e647e8",
   "metadata": {},
   "source": [
    "<div style=\"text-align: right\"> <b>Author : Kwang Myung Yu</b></div>\n",
    "<div style=\"text-align: right\\\"> Initial upload: 2022.02.22 </div>\n",
    "<div style=\"text-align: right\\\"> Last update: 2022.02.22</div>"
   ]
  },
  {
   "cell_type": "markdown",
   "id": "0a776989",
   "metadata": {},
   "source": [
    "- 출처 : https://www.kaggle.com/dogdriip/pima-indian-diabetes/notebook"
   ]
  },
  {
   "cell_type": "code",
   "execution_count": 1,
   "id": "fb9c7512",
   "metadata": {},
   "outputs": [],
   "source": [
    "import os\n",
    "import sys\n",
    "import time\n",
    "import numpy as np\n",
    "import pandas as pd\n",
    "import matplotlib.pyplot as plt\n",
    "import seaborn as sns\n",
    "from scipy import stats\n",
    "import warnings; warnings.filterwarnings('ignore')\n",
    "plt.style.use('ggplot')\n",
    "%matplotlib inline"
   ]
  },
  {
   "cell_type": "code",
   "execution_count": 2,
   "id": "3d38ae41",
   "metadata": {},
   "outputs": [
    {
     "data": {
      "text/html": [
       "<svg  width=\"550\" height=\"55\"><rect x=\"0\" y=\"0\" width=\"55\" height=\"55\" style=\"fill:#00798c;stroke-width:2;stroke:rgb(255,255,255)\"/><rect x=\"55\" y=\"0\" width=\"55\" height=\"55\" style=\"fill:#d1495b;stroke-width:2;stroke:rgb(255,255,255)\"/><rect x=\"110\" y=\"0\" width=\"55\" height=\"55\" style=\"fill:#edae49;stroke-width:2;stroke:rgb(255,255,255)\"/><rect x=\"165\" y=\"0\" width=\"55\" height=\"55\" style=\"fill:#66a182;stroke-width:2;stroke:rgb(255,255,255)\"/><rect x=\"220\" y=\"0\" width=\"55\" height=\"55\" style=\"fill:#4a4a4a;stroke-width:2;stroke:rgb(255,255,255)\"/><rect x=\"275\" y=\"0\" width=\"55\" height=\"55\" style=\"fill:#1a508b;stroke-width:2;stroke:rgb(255,255,255)\"/><rect x=\"330\" y=\"0\" width=\"55\" height=\"55\" style=\"fill:#e3120b;stroke-width:2;stroke:rgb(255,255,255)\"/><rect x=\"385\" y=\"0\" width=\"55\" height=\"55\" style=\"fill:#c5a880;stroke-width:2;stroke:rgb(255,255,255)\"/><rect x=\"440\" y=\"0\" width=\"55\" height=\"55\" style=\"fill:#9f5f80;stroke-width:2;stroke:rgb(255,255,255)\"/><rect x=\"495\" y=\"0\" width=\"55\" height=\"55\" style=\"fill:#6f9eaf;stroke-width:2;stroke:rgb(255,255,255)\"/></svg>"
      ],
      "text/plain": [
       "[(0.0, 0.4745098039215686, 0.5490196078431373),\n",
       " (0.8196078431372549, 0.28627450980392155, 0.3568627450980392),\n",
       " (0.9294117647058824, 0.6823529411764706, 0.28627450980392155),\n",
       " (0.4, 0.6313725490196078, 0.5098039215686274),\n",
       " (0.2901960784313726, 0.2901960784313726, 0.2901960784313726),\n",
       " (0.10196078431372549, 0.3137254901960784, 0.5450980392156862),\n",
       " (0.8901960784313725, 0.07058823529411765, 0.043137254901960784),\n",
       " (0.7725490196078432, 0.6588235294117647, 0.5019607843137255),\n",
       " (0.6235294117647059, 0.37254901960784315, 0.5019607843137255),\n",
       " (0.43529411764705883, 0.6196078431372549, 0.6862745098039216)]"
      ]
     },
     "execution_count": 2,
     "metadata": {},
     "output_type": "execute_result"
    }
   ],
   "source": [
    "colors = [\"#00798c\", \"#d1495b\", '#edae49', '#66a182', '#4a4a4a',\n",
    "          '#1a508b', '#e3120b', '#c5a880', '#9F5F80', '#6F9EAF',\n",
    "          '#0278ae','#F39233', '#A7C5EB', '#54E346', '#ABCE74',\n",
    "        '#d6b0b1', '#58391c', '#cdd0cb', '#ffb396', '#6930c3']\n",
    "sns.color_palette(colors[:10])"
   ]
  },
  {
   "cell_type": "code",
   "execution_count": 3,
   "id": "9f6c9037",
   "metadata": {},
   "outputs": [],
   "source": [
    "from sklearn.model_selection import train_test_split\n",
    "from sklearn.metrics import accuracy_score, precision_score, recall_score, roc_auc_score\n",
    "from sklearn.metrics import f1_score, confusion_matrix, precision_recall_curve, roc_curve\n",
    "from sklearn.preprocessing import StandardScaler, Binarizer\n",
    "from sklearn.linear_model import LogisticRegression"
   ]
  },
  {
   "cell_type": "code",
   "execution_count": 5,
   "id": "d244bf66",
   "metadata": {},
   "outputs": [],
   "source": [
    "def get_clf_eval(y_test, pred, pred_proba):\n",
    "    print(f'Accuracy: {accuracy_score(y_test, pred)}')\n",
    "    print(f'Confusion Matrix:\\n{confusion_matrix(y_test, pred)}')\n",
    "    print(f'Precision: {precision_score(y_test, pred)}, Recall: {recall_score(y_test, pred)}')\n",
    "    print(f'F1: {f1_score(y_test, pred)}, AUC: {roc_auc_score(y_test, pred_proba)}')"
   ]
  },
  {
   "cell_type": "code",
   "execution_count": 6,
   "id": "abb2d5f4",
   "metadata": {},
   "outputs": [],
   "source": [
    "def precision_recall_curve_plot(y_test, pred_proba):\n",
    "    # threshold ndarray와 이 threshold에 따른 정밀도, 재현율 ndarray 추출\n",
    "    precisions, recalls, thresholds = precision_recall_curve(y_test, pred_proba)\n",
    "    \n",
    "    # x축을 threshold값으로, y축은 정밀도, 재현율 값으로 각각 Plot 수행. 정밀도는 점선으로 표시.\n",
    "    plt.figure(figsize=(8, 6))\n",
    "    threshold_boundary = thresholds.shape[0]\n",
    "    plt.plot(thresholds, precisions[0:threshold_boundary], linestyle='--', label='precision')\n",
    "    plt.plot(thresholds, recalls[0:threshold_boundary], label='recall')\n",
    "    \n",
    "    # threshold 값 x축의 scale을 0.1단위로 변경\n",
    "    start, end = plt.xlim()\n",
    "    plt.xticks(np.round(np.arange(start, end, 0.1), 2))\n",
    "    \n",
    "    # x축, y축 label과 legend, grid 설정\n",
    "    plt.xlabel('Threshold value')\n",
    "    plt.ylabel('Precision and Recall value')\n",
    "    plt.legend()\n",
    "    plt.grid()\n",
    "    plt.show()"
   ]
  },
  {
   "cell_type": "code",
   "execution_count": 4,
   "id": "9cb8b51d",
   "metadata": {},
   "outputs": [
    {
     "name": "stdout",
     "output_type": "stream",
     "text": [
      "['diabetes.csv']\n"
     ]
    }
   ],
   "source": [
    "import os\n",
    "print(os.listdir('data/diabetes'))"
   ]
  },
  {
   "cell_type": "markdown",
   "id": "71547c91",
   "metadata": {},
   "source": [
    "데이터 설명  \n",
    "북아메리카 피마 지역 원주민의 Type-2 당뇨병 결과 데이터입니다.  \n",
    "보통 당뇨 원인으로 식습관과 유전을 꼽습니다.  \n",
    "피마 지역은 고립된 지역에서 인디언 고유의 혈통이 지속돼 왔지만, \n",
    "20세기 후반에 들어서면서 서구화된 식습관으로 많은 당뇨 환자가 생겨났습니다.  \n",
    "고립된 유전적 특성 때문에 당뇨학회에서는 피마 인디언의 당뇨병 자료에 대해 많은 연구를 했습니다."
   ]
  },
  {
   "cell_type": "markdown",
   "id": "3d66cf6c",
   "metadata": {},
   "source": [
    "**컬럼 정보**  \n",
    "1. Number of times pregnant  \n",
    "\n",
    "2. Plasma glucose concentration a 2 hours in an oral glucose tolerance test  \n",
    "\n",
    "3. Diastolic blood pressure (mm Hg)  \n",
    "\n",
    "4. Triceps skin fold thickness (mm)  \n",
    "\n",
    "5. 2-Hour serum insulin (mu U/ml)  \n",
    "\n",
    "6. Body mass index (weight in kg/(height in m)^2)  \n",
    "\n",
    "7. Diabetes pedigree function  \n",
    "\n",
    "8. Age (years)  \n",
    "\n",
    "9. Class variable (0 or 1)  "
   ]
  },
  {
   "cell_type": "code",
   "execution_count": 9,
   "id": "1956cdbd",
   "metadata": {},
   "outputs": [],
   "source": [
    "df = pd.read_csv('data/diabetes/diabetes.csv')"
   ]
  },
  {
   "cell_type": "code",
   "execution_count": 10,
   "id": "8944d087",
   "metadata": {},
   "outputs": [
    {
     "data": {
      "text/html": [
       "<div>\n",
       "<style scoped>\n",
       "    .dataframe tbody tr th:only-of-type {\n",
       "        vertical-align: middle;\n",
       "    }\n",
       "\n",
       "    .dataframe tbody tr th {\n",
       "        vertical-align: top;\n",
       "    }\n",
       "\n",
       "    .dataframe thead th {\n",
       "        text-align: right;\n",
       "    }\n",
       "</style>\n",
       "<table border=\"1\" class=\"dataframe\">\n",
       "  <thead>\n",
       "    <tr style=\"text-align: right;\">\n",
       "      <th></th>\n",
       "      <th>Pregnancies</th>\n",
       "      <th>Glucose</th>\n",
       "      <th>BloodPressure</th>\n",
       "      <th>SkinThickness</th>\n",
       "      <th>Insulin</th>\n",
       "      <th>BMI</th>\n",
       "      <th>DiabetesPedigreeFunction</th>\n",
       "      <th>Age</th>\n",
       "      <th>Outcome</th>\n",
       "    </tr>\n",
       "  </thead>\n",
       "  <tbody>\n",
       "    <tr>\n",
       "      <th>0</th>\n",
       "      <td>6</td>\n",
       "      <td>148</td>\n",
       "      <td>72</td>\n",
       "      <td>35</td>\n",
       "      <td>0</td>\n",
       "      <td>33.6</td>\n",
       "      <td>0.627</td>\n",
       "      <td>50</td>\n",
       "      <td>1</td>\n",
       "    </tr>\n",
       "    <tr>\n",
       "      <th>1</th>\n",
       "      <td>1</td>\n",
       "      <td>85</td>\n",
       "      <td>66</td>\n",
       "      <td>29</td>\n",
       "      <td>0</td>\n",
       "      <td>26.6</td>\n",
       "      <td>0.351</td>\n",
       "      <td>31</td>\n",
       "      <td>0</td>\n",
       "    </tr>\n",
       "    <tr>\n",
       "      <th>2</th>\n",
       "      <td>8</td>\n",
       "      <td>183</td>\n",
       "      <td>64</td>\n",
       "      <td>0</td>\n",
       "      <td>0</td>\n",
       "      <td>23.3</td>\n",
       "      <td>0.672</td>\n",
       "      <td>32</td>\n",
       "      <td>1</td>\n",
       "    </tr>\n",
       "    <tr>\n",
       "      <th>3</th>\n",
       "      <td>1</td>\n",
       "      <td>89</td>\n",
       "      <td>66</td>\n",
       "      <td>23</td>\n",
       "      <td>94</td>\n",
       "      <td>28.1</td>\n",
       "      <td>0.167</td>\n",
       "      <td>21</td>\n",
       "      <td>0</td>\n",
       "    </tr>\n",
       "    <tr>\n",
       "      <th>4</th>\n",
       "      <td>0</td>\n",
       "      <td>137</td>\n",
       "      <td>40</td>\n",
       "      <td>35</td>\n",
       "      <td>168</td>\n",
       "      <td>43.1</td>\n",
       "      <td>2.288</td>\n",
       "      <td>33</td>\n",
       "      <td>1</td>\n",
       "    </tr>\n",
       "  </tbody>\n",
       "</table>\n",
       "</div>"
      ],
      "text/plain": [
       "   Pregnancies  Glucose  BloodPressure  SkinThickness  Insulin   BMI  \\\n",
       "0            6      148             72             35        0  33.6   \n",
       "1            1       85             66             29        0  26.6   \n",
       "2            8      183             64              0        0  23.3   \n",
       "3            1       89             66             23       94  28.1   \n",
       "4            0      137             40             35      168  43.1   \n",
       "\n",
       "   DiabetesPedigreeFunction  Age  Outcome  \n",
       "0                     0.627   50        1  \n",
       "1                     0.351   31        0  \n",
       "2                     0.672   32        1  \n",
       "3                     0.167   21        0  \n",
       "4                     2.288   33        1  "
      ]
     },
     "execution_count": 10,
     "metadata": {},
     "output_type": "execute_result"
    }
   ],
   "source": [
    "df.head()"
   ]
  },
  {
   "cell_type": "code",
   "execution_count": 11,
   "id": "6af51078",
   "metadata": {},
   "outputs": [
    {
     "data": {
      "text/plain": [
       "(768, 9)"
      ]
     },
     "execution_count": 11,
     "metadata": {},
     "output_type": "execute_result"
    }
   ],
   "source": [
    "df.shape"
   ]
  },
  {
   "cell_type": "code",
   "execution_count": 12,
   "id": "345b14a1",
   "metadata": {},
   "outputs": [
    {
     "name": "stdout",
     "output_type": "stream",
     "text": [
      "<class 'pandas.core.frame.DataFrame'>\n",
      "RangeIndex: 768 entries, 0 to 767\n",
      "Data columns (total 9 columns):\n",
      " #   Column                    Non-Null Count  Dtype  \n",
      "---  ------                    --------------  -----  \n",
      " 0   Pregnancies               768 non-null    int64  \n",
      " 1   Glucose                   768 non-null    int64  \n",
      " 2   BloodPressure             768 non-null    int64  \n",
      " 3   SkinThickness             768 non-null    int64  \n",
      " 4   Insulin                   768 non-null    int64  \n",
      " 5   BMI                       768 non-null    float64\n",
      " 6   DiabetesPedigreeFunction  768 non-null    float64\n",
      " 7   Age                       768 non-null    int64  \n",
      " 8   Outcome                   768 non-null    int64  \n",
      "dtypes: float64(2), int64(7)\n",
      "memory usage: 54.1 KB\n"
     ]
    }
   ],
   "source": [
    "df.info()"
   ]
  },
  {
   "cell_type": "markdown",
   "id": "64d66b44",
   "metadata": {},
   "source": [
    "- 카테고리 데이터 없다. 인코딩 필요없음"
   ]
  },
  {
   "cell_type": "markdown",
   "id": "6fc8e5af",
   "metadata": {},
   "source": [
    "- Pregnancies: 임신 횟수\n",
    "- Glucose: 포도당 부하 검사 수치\n",
    "- BloodPressure: 혈압(mm Hg)\n",
    "- SkinThickness: 팔 삼두근 뒤쪽의 피하지방 측정값(mm)\n",
    "- Insulin: 혈청 인슐린(mu U/ml)\n",
    "- BMI: 체질량지수 (체중(kg) / 키(m)^2)\n",
    "- DiabetesPedigreeFunction: 당뇨 내력 가중치 값\n",
    "- Age: 나이\n",
    "- Outcome: 클래스 결정 값 (0 또는 1)"
   ]
  },
  {
   "cell_type": "markdown",
   "id": "77b1c8b1",
   "metadata": {},
   "source": [
    "결측치 확인"
   ]
  },
  {
   "cell_type": "code",
   "execution_count": 13,
   "id": "e21e9bc1",
   "metadata": {},
   "outputs": [
    {
     "data": {
      "text/plain": [
       "Pregnancies                 0\n",
       "Glucose                     0\n",
       "BloodPressure               0\n",
       "SkinThickness               0\n",
       "Insulin                     0\n",
       "BMI                         0\n",
       "DiabetesPedigreeFunction    0\n",
       "Age                         0\n",
       "Outcome                     0\n",
       "dtype: int64"
      ]
     },
     "execution_count": 13,
     "metadata": {},
     "output_type": "execute_result"
    }
   ],
   "source": [
    "df.isnull().sum()"
   ]
  },
  {
   "cell_type": "markdown",
   "id": "8cef14bf",
   "metadata": {},
   "source": [
    "타겟변수"
   ]
  },
  {
   "cell_type": "code",
   "execution_count": 14,
   "id": "a33f3458",
   "metadata": {},
   "outputs": [
    {
     "data": {
      "text/plain": [
       "0    500\n",
       "1    268\n",
       "Name: Outcome, dtype: int64"
      ]
     },
     "execution_count": 14,
     "metadata": {},
     "output_type": "execute_result"
    }
   ],
   "source": [
    "df['Outcome'].value_counts()"
   ]
  },
  {
   "cell_type": "markdown",
   "id": "d5357d31",
   "metadata": {},
   "source": [
    "데이터셋 구축"
   ]
  },
  {
   "cell_type": "code",
   "execution_count": 16,
   "id": "7ac67788",
   "metadata": {},
   "outputs": [],
   "source": [
    "X = df.drop(labels='Outcome', axis = 1)\n",
    "y = df['Outcome']"
   ]
  },
  {
   "cell_type": "code",
   "execution_count": 19,
   "id": "84b86514",
   "metadata": {},
   "outputs": [],
   "source": [
    "X_train, X_test, y_train, y_test = train_test_split(X, y, stratify=y, test_size=0.2, random_state=156)"
   ]
  },
  {
   "cell_type": "markdown",
   "id": "0862c7f1",
   "metadata": {},
   "source": [
    "전처리 : 스케일링"
   ]
  },
  {
   "cell_type": "code",
   "execution_count": 20,
   "id": "d5d3bdf9",
   "metadata": {},
   "outputs": [],
   "source": [
    "scaler = StandardScaler()\n",
    "X = scaler.fit_transform(X)"
   ]
  },
  {
   "cell_type": "markdown",
   "id": "1bdeabe5",
   "metadata": {},
   "source": [
    "모델 학습, 예측, 평가 : 로지스틱 회귀"
   ]
  },
  {
   "cell_type": "code",
   "execution_count": 21,
   "id": "dcb7850d",
   "metadata": {},
   "outputs": [],
   "source": [
    "lr_clf = LogisticRegression()\n",
    "lr_clf.fit(X_train, y_train)\n",
    "pred = lr_clf.predict(X_test)"
   ]
  },
  {
   "cell_type": "code",
   "execution_count": 22,
   "id": "e4949184",
   "metadata": {},
   "outputs": [
    {
     "data": {
      "text/plain": [
       "array([[0.9782198 , 0.0217802 ],\n",
       "       [0.79164202, 0.20835798],\n",
       "       [0.8450933 , 0.1549067 ],\n",
       "       [0.50582972, 0.49417028],\n",
       "       [0.9547928 , 0.0452072 ],\n",
       "       [0.41174277, 0.58825723],\n",
       "       [0.25593264, 0.74406736],\n",
       "       [0.7961635 , 0.2038365 ],\n",
       "       [0.84899976, 0.15100024],\n",
       "       [0.84443618, 0.15556382],\n",
       "       [0.32170823, 0.67829177],\n",
       "       [0.50102278, 0.49897722],\n",
       "       [0.93444881, 0.06555119],\n",
       "       [0.58956117, 0.41043883],\n",
       "       [0.78923951, 0.21076049],\n",
       "       [0.87856111, 0.12143889],\n",
       "       [0.2461582 , 0.7538418 ],\n",
       "       [0.59332922, 0.40667078],\n",
       "       [0.96415522, 0.03584478],\n",
       "       [0.21488386, 0.78511614],\n",
       "       [0.53758644, 0.46241356],\n",
       "       [0.69847999, 0.30152001],\n",
       "       [0.93187071, 0.06812929],\n",
       "       [0.6602663 , 0.3397337 ],\n",
       "       [0.65652543, 0.34347457],\n",
       "       [0.88833445, 0.11166555],\n",
       "       [0.08228943, 0.91771057],\n",
       "       [0.34435454, 0.65564546],\n",
       "       [0.82969638, 0.17030362],\n",
       "       [0.18816832, 0.81183168],\n",
       "       [0.79925202, 0.20074798],\n",
       "       [0.79446136, 0.20553864],\n",
       "       [0.86015572, 0.13984428],\n",
       "       [0.76867144, 0.23132856],\n",
       "       [0.84828932, 0.15171068],\n",
       "       [0.29534378, 0.70465622],\n",
       "       [0.7210208 , 0.2789792 ],\n",
       "       [0.31545093, 0.68454907],\n",
       "       [0.19215735, 0.80784265],\n",
       "       [0.39191076, 0.60808924],\n",
       "       [0.59187638, 0.40812362],\n",
       "       [0.66092198, 0.33907802],\n",
       "       [0.34959967, 0.65040033],\n",
       "       [0.74880693, 0.25119307],\n",
       "       [0.68735628, 0.31264372],\n",
       "       [0.95796415, 0.04203585],\n",
       "       [0.23958697, 0.76041303],\n",
       "       [0.86967407, 0.13032593],\n",
       "       [0.51020602, 0.48979398],\n",
       "       [0.70515529, 0.29484471],\n",
       "       [0.65714603, 0.34285397],\n",
       "       [0.17374164, 0.82625836],\n",
       "       [0.15231266, 0.84768734],\n",
       "       [0.91448239, 0.08551761],\n",
       "       [0.84123287, 0.15876713],\n",
       "       [0.6849879 , 0.3150121 ],\n",
       "       [0.9001054 , 0.0998946 ],\n",
       "       [0.63348606, 0.36651394],\n",
       "       [0.60596423, 0.39403577],\n",
       "       [0.59094768, 0.40905232],\n",
       "       [0.77262361, 0.22737639],\n",
       "       [0.2655411 , 0.7344589 ],\n",
       "       [0.63144124, 0.36855876],\n",
       "       [0.44334707, 0.55665293],\n",
       "       [0.76099219, 0.23900781],\n",
       "       [0.89701334, 0.10298666],\n",
       "       [0.80060368, 0.19939632],\n",
       "       [0.28901585, 0.71098415],\n",
       "       [0.83479337, 0.16520663],\n",
       "       [0.32145744, 0.67854256],\n",
       "       [0.91521026, 0.08478974],\n",
       "       [0.64204477, 0.35795523],\n",
       "       [0.85606456, 0.14393544],\n",
       "       [0.53767234, 0.46232766],\n",
       "       [0.32558776, 0.67441224],\n",
       "       [0.73279421, 0.26720579],\n",
       "       [0.90985075, 0.09014925],\n",
       "       [0.89839174, 0.10160826],\n",
       "       [0.85789929, 0.14210071],\n",
       "       [0.62261222, 0.37738778],\n",
       "       [0.90315254, 0.09684746],\n",
       "       [0.89772184, 0.10227816],\n",
       "       [0.27919704, 0.72080296],\n",
       "       [0.8027012 , 0.1972988 ],\n",
       "       [0.71664637, 0.28335363],\n",
       "       [0.65089582, 0.34910418],\n",
       "       [0.23833278, 0.76166722],\n",
       "       [0.28198838, 0.71801162],\n",
       "       [0.91697122, 0.08302878],\n",
       "       [0.93377505, 0.06622495],\n",
       "       [0.93207027, 0.06792973],\n",
       "       [0.85994893, 0.14005107],\n",
       "       [0.26075339, 0.73924661],\n",
       "       [0.73783222, 0.26216778],\n",
       "       [0.64774188, 0.35225812],\n",
       "       [0.3551518 , 0.6448482 ],\n",
       "       [0.78568991, 0.21431009],\n",
       "       [0.49527391, 0.50472609],\n",
       "       [0.94196226, 0.05803774],\n",
       "       [0.30373857, 0.69626143],\n",
       "       [0.14493731, 0.85506269],\n",
       "       [0.42911945, 0.57088055],\n",
       "       [0.66974707, 0.33025293],\n",
       "       [0.74716306, 0.25283694],\n",
       "       [0.87282464, 0.12717536],\n",
       "       [0.55345772, 0.44654228],\n",
       "       [0.6214542 , 0.3785458 ],\n",
       "       [0.57030589, 0.42969411],\n",
       "       [0.94802525, 0.05197475],\n",
       "       [0.89758125, 0.10241875],\n",
       "       [0.46716408, 0.53283592],\n",
       "       [0.52914617, 0.47085383],\n",
       "       [0.83699799, 0.16300201],\n",
       "       [0.80489532, 0.19510468],\n",
       "       [0.72707967, 0.27292033],\n",
       "       [0.59426718, 0.40573282],\n",
       "       [0.2264571 , 0.7735429 ],\n",
       "       [0.88723272, 0.11276728],\n",
       "       [0.67595435, 0.32404565],\n",
       "       [0.01035721, 0.98964279],\n",
       "       [0.46517624, 0.53482376],\n",
       "       [0.98327557, 0.01672443],\n",
       "       [0.1215165 , 0.8784835 ],\n",
       "       [0.34250522, 0.65749478],\n",
       "       [0.79330985, 0.20669015],\n",
       "       [0.68441128, 0.31558872],\n",
       "       [0.8951926 , 0.1048074 ],\n",
       "       [0.93054366, 0.06945634],\n",
       "       [0.74493886, 0.25506114],\n",
       "       [0.71896786, 0.28103214],\n",
       "       [0.92011023, 0.07988977],\n",
       "       [0.91041691, 0.08958309],\n",
       "       [0.64949206, 0.35050794],\n",
       "       [0.90798685, 0.09201315],\n",
       "       [0.93249894, 0.06750106],\n",
       "       [0.5281797 , 0.4718203 ],\n",
       "       [0.16654216, 0.83345784],\n",
       "       [0.23751811, 0.76248189],\n",
       "       [0.92528878, 0.07471122],\n",
       "       [0.86282221, 0.13717779],\n",
       "       [0.89219704, 0.10780296],\n",
       "       [0.43982776, 0.56017224],\n",
       "       [0.46888255, 0.53111745],\n",
       "       [0.8392263 , 0.1607737 ],\n",
       "       [0.34081137, 0.65918863],\n",
       "       [0.94190524, 0.05809476],\n",
       "       [0.81948968, 0.18051032],\n",
       "       [0.94525966, 0.05474034],\n",
       "       [0.23300137, 0.76699863],\n",
       "       [0.47764925, 0.52235075],\n",
       "       [0.59315309, 0.40684691],\n",
       "       [0.93407526, 0.06592474],\n",
       "       [0.52148572, 0.47851428],\n",
       "       [0.86495344, 0.13504656]])"
      ]
     },
     "execution_count": 22,
     "metadata": {},
     "output_type": "execute_result"
    }
   ],
   "source": [
    "lr_clf.predict_proba(X_test)# 각 클래스의 확률"
   ]
  },
  {
   "cell_type": "code",
   "execution_count": 24,
   "id": "8628ba81",
   "metadata": {},
   "outputs": [],
   "source": [
    "pred_proba = lr_clf.predict_proba(X_test)[:, 1] # 당뇨일 확률"
   ]
  },
  {
   "cell_type": "code",
   "execution_count": 25,
   "id": "4734df22",
   "metadata": {},
   "outputs": [
    {
     "name": "stdout",
     "output_type": "stream",
     "text": [
      "Accuracy: 0.7727272727272727\n",
      "Confusion Matrix:\n",
      "[[88 12]\n",
      " [23 31]]\n",
      "Precision: 0.7209302325581395, Recall: 0.5740740740740741\n",
      "F1: 0.6391752577319588, AUC: 0.7918518518518518\n"
     ]
    }
   ],
   "source": [
    "get_clf_eval(y_test, pred, pred_proba)"
   ]
  },
  {
   "cell_type": "markdown",
   "id": "1c6f2620",
   "metadata": {},
   "source": [
    "- 정확도는 좋으나, 재현율 recall이 57.4정도로 낮다.   "
   ]
  },
  {
   "cell_type": "code",
   "execution_count": 26,
   "id": "3e4f2e6c",
   "metadata": {},
   "outputs": [
    {
     "data": {
      "image/png": "[encoded data removed]",
      "text/plain": [
       "<Figure size 576x432 with 1 Axes>"
      ]
     },
     "metadata": {
      "needs_background": "light"
     },
     "output_type": "display_data"
    }
   ],
   "source": [
    "precision_recall_curve_plot(y_test, pred_proba)"
   ]
  },
  {
   "cell_type": "markdown",
   "id": "6584bce5",
   "metadata": {},
   "source": [
    "- threshold를 0.42 정도로 낮추면 precision과 recall의 균형이 맞을 것 같다.   \n",
    "- 하지만 두지표의 값이 0.7이 안될 정도로 낮다."
   ]
  },
  {
   "cell_type": "markdown",
   "id": "225b1c2b",
   "metadata": {},
   "source": [
    "그 전에 원본데이터의 분포를 살펴보자."
   ]
  },
  {
   "cell_type": "code",
   "execution_count": 27,
   "id": "c5bd5421",
   "metadata": {},
   "outputs": [
    {
     "data": {
      "text/html": [
       "<div>\n",
       "<style scoped>\n",
       "    .dataframe tbody tr th:only-of-type {\n",
       "        vertical-align: middle;\n",
       "    }\n",
       "\n",
       "    .dataframe tbody tr th {\n",
       "        vertical-align: top;\n",
       "    }\n",
       "\n",
       "    .dataframe thead th {\n",
       "        text-align: right;\n",
       "    }\n",
       "</style>\n",
       "<table border=\"1\" class=\"dataframe\">\n",
       "  <thead>\n",
       "    <tr style=\"text-align: right;\">\n",
       "      <th></th>\n",
       "      <th>Pregnancies</th>\n",
       "      <th>Glucose</th>\n",
       "      <th>BloodPressure</th>\n",
       "      <th>SkinThickness</th>\n",
       "      <th>Insulin</th>\n",
       "      <th>BMI</th>\n",
       "      <th>DiabetesPedigreeFunction</th>\n",
       "      <th>Age</th>\n",
       "      <th>Outcome</th>\n",
       "    </tr>\n",
       "  </thead>\n",
       "  <tbody>\n",
       "    <tr>\n",
       "      <th>count</th>\n",
       "      <td>768.000000</td>\n",
       "      <td>768.000000</td>\n",
       "      <td>768.000000</td>\n",
       "      <td>768.000000</td>\n",
       "      <td>768.000000</td>\n",
       "      <td>768.000000</td>\n",
       "      <td>768.000000</td>\n",
       "      <td>768.000000</td>\n",
       "      <td>768.000000</td>\n",
       "    </tr>\n",
       "    <tr>\n",
       "      <th>mean</th>\n",
       "      <td>3.845052</td>\n",
       "      <td>120.894531</td>\n",
       "      <td>69.105469</td>\n",
       "      <td>20.536458</td>\n",
       "      <td>79.799479</td>\n",
       "      <td>31.992578</td>\n",
       "      <td>0.471876</td>\n",
       "      <td>33.240885</td>\n",
       "      <td>0.348958</td>\n",
       "    </tr>\n",
       "    <tr>\n",
       "      <th>std</th>\n",
       "      <td>3.369578</td>\n",
       "      <td>31.972618</td>\n",
       "      <td>19.355807</td>\n",
       "      <td>15.952218</td>\n",
       "      <td>115.244002</td>\n",
       "      <td>7.884160</td>\n",
       "      <td>0.331329</td>\n",
       "      <td>11.760232</td>\n",
       "      <td>0.476951</td>\n",
       "    </tr>\n",
       "    <tr>\n",
       "      <th>min</th>\n",
       "      <td>0.000000</td>\n",
       "      <td>0.000000</td>\n",
       "      <td>0.000000</td>\n",
       "      <td>0.000000</td>\n",
       "      <td>0.000000</td>\n",
       "      <td>0.000000</td>\n",
       "      <td>0.078000</td>\n",
       "      <td>21.000000</td>\n",
       "      <td>0.000000</td>\n",
       "    </tr>\n",
       "    <tr>\n",
       "      <th>25%</th>\n",
       "      <td>1.000000</td>\n",
       "      <td>99.000000</td>\n",
       "      <td>62.000000</td>\n",
       "      <td>0.000000</td>\n",
       "      <td>0.000000</td>\n",
       "      <td>27.300000</td>\n",
       "      <td>0.243750</td>\n",
       "      <td>24.000000</td>\n",
       "      <td>0.000000</td>\n",
       "    </tr>\n",
       "    <tr>\n",
       "      <th>50%</th>\n",
       "      <td>3.000000</td>\n",
       "      <td>117.000000</td>\n",
       "      <td>72.000000</td>\n",
       "      <td>23.000000</td>\n",
       "      <td>30.500000</td>\n",
       "      <td>32.000000</td>\n",
       "      <td>0.372500</td>\n",
       "      <td>29.000000</td>\n",
       "      <td>0.000000</td>\n",
       "    </tr>\n",
       "    <tr>\n",
       "      <th>75%</th>\n",
       "      <td>6.000000</td>\n",
       "      <td>140.250000</td>\n",
       "      <td>80.000000</td>\n",
       "      <td>32.000000</td>\n",
       "      <td>127.250000</td>\n",
       "      <td>36.600000</td>\n",
       "      <td>0.626250</td>\n",
       "      <td>41.000000</td>\n",
       "      <td>1.000000</td>\n",
       "    </tr>\n",
       "    <tr>\n",
       "      <th>max</th>\n",
       "      <td>17.000000</td>\n",
       "      <td>199.000000</td>\n",
       "      <td>122.000000</td>\n",
       "      <td>99.000000</td>\n",
       "      <td>846.000000</td>\n",
       "      <td>67.100000</td>\n",
       "      <td>2.420000</td>\n",
       "      <td>81.000000</td>\n",
       "      <td>1.000000</td>\n",
       "    </tr>\n",
       "  </tbody>\n",
       "</table>\n",
       "</div>"
      ],
      "text/plain": [
       "       Pregnancies     Glucose  BloodPressure  SkinThickness     Insulin  \\\n",
       "count   768.000000  768.000000     768.000000     768.000000  768.000000   \n",
       "mean      3.845052  120.894531      69.105469      20.536458   79.799479   \n",
       "std       3.369578   31.972618      19.355807      15.952218  115.244002   \n",
       "min       0.000000    0.000000       0.000000       0.000000    0.000000   \n",
       "25%       1.000000   99.000000      62.000000       0.000000    0.000000   \n",
       "50%       3.000000  117.000000      72.000000      23.000000   30.500000   \n",
       "75%       6.000000  140.250000      80.000000      32.000000  127.250000   \n",
       "max      17.000000  199.000000     122.000000      99.000000  846.000000   \n",
       "\n",
       "              BMI  DiabetesPedigreeFunction         Age     Outcome  \n",
       "count  768.000000                768.000000  768.000000  768.000000  \n",
       "mean    31.992578                  0.471876   33.240885    0.348958  \n",
       "std      7.884160                  0.331329   11.760232    0.476951  \n",
       "min      0.000000                  0.078000   21.000000    0.000000  \n",
       "25%     27.300000                  0.243750   24.000000    0.000000  \n",
       "50%     32.000000                  0.372500   29.000000    0.000000  \n",
       "75%     36.600000                  0.626250   41.000000    1.000000  \n",
       "max     67.100000                  2.420000   81.000000    1.000000  "
      ]
     },
     "execution_count": 27,
     "metadata": {},
     "output_type": "execute_result"
    }
   ],
   "source": [
    "df.describe()"
   ]
  },
  {
   "cell_type": "markdown",
   "id": "a3c81807",
   "metadata": {},
   "source": [
    "- 혈당, 혈압 등에 0 value도 있다. 말이 되지 않는다."
   ]
  },
  {
   "cell_type": "markdown",
   "id": "7b47a3e2",
   "metadata": {},
   "source": [
    "분포를 그려본다."
   ]
  },
  {
   "cell_type": "code",
   "execution_count": 29,
   "id": "d0d0581f",
   "metadata": {},
   "outputs": [
    {
     "data": {
      "image/png": "[encoded data removed]",
      "text/plain": [
       "<Figure size 864x288 with 1 Axes>"
      ]
     },
     "metadata": {
      "needs_background": "light"
     },
     "output_type": "display_data"
    }
   ],
   "source": [
    "ax, fig = plt.subplots(figsize = (12, 4))\n",
    "ax = sns.distplot(df['Glucose'])"
   ]
  },
  {
   "cell_type": "markdown",
   "id": "98906183",
   "metadata": {},
   "source": [
    "0 값을 검사할 피처수는 다음과 같다."
   ]
  },
  {
   "cell_type": "code",
   "execution_count": 30,
   "id": "c5ef1708",
   "metadata": {},
   "outputs": [],
   "source": [
    "# 0값을 검사할 피쳐 명 리스트\n",
    "zero_features = ['Glucose', 'BloodPressure', 'SkinThickness', 'Insulin', 'BMI']"
   ]
  },
  {
   "cell_type": "code",
   "execution_count": 31,
   "id": "3c98d13d",
   "metadata": {},
   "outputs": [],
   "source": [
    "# 전체 샘플 수 \n",
    "total_samples = df.shape[0]"
   ]
  },
  {
   "cell_type": "code",
   "execution_count": 33,
   "id": "46407b06",
   "metadata": {},
   "outputs": [
    {
     "name": "stdout",
     "output_type": "stream",
     "text": [
      "Feature: Glucose, Zero count: 5, Percentage: 0.6510416666666666\n",
      "Feature: BloodPressure, Zero count: 35, Percentage: 4.557291666666667\n",
      "Feature: SkinThickness, Zero count: 227, Percentage: 29.557291666666668\n",
      "Feature: Insulin, Zero count: 374, Percentage: 48.697916666666664\n",
      "Feature: BMI, Zero count: 11, Percentage: 1.4322916666666667\n"
     ]
    }
   ],
   "source": [
    "for feature in zero_features:\n",
    "    zero_count = df[df[feature] == 0][feature].count()\n",
    "    print(f'Feature: {feature}, Zero count: {zero_count}, Percentage: {100 * zero_count / total_samples}')"
   ]
  },
  {
   "cell_type": "markdown",
   "id": "1d7e5f42",
   "metadata": {},
   "source": [
    "SkinThickness, Insulin 수치에서 0 값은 매우 많다.  \n",
    "샘플 수가 얼마 안되기 때문에 이런 것들을 삭제하기 보다는 평균 값으로 대체한다."
   ]
  },
  {
   "cell_type": "code",
   "execution_count": 34,
   "id": "9bc2f839",
   "metadata": {},
   "outputs": [],
   "source": [
    "df[zero_features] = df[zero_features].replace(0, df[zero_features].mean())"
   ]
  },
  {
   "cell_type": "markdown",
   "id": "c320bcca",
   "metadata": {},
   "source": [
    "이제 다시 학습과 평가를 진행해본다."
   ]
  },
  {
   "cell_type": "code",
   "execution_count": 35,
   "id": "e490a2c9",
   "metadata": {},
   "outputs": [],
   "source": [
    "X = df.iloc[:, :-1]\n",
    "y = df.iloc[:, -1]\n",
    "\n",
    "X_train, X_test, y_train, y_test = train_test_split(X, y, test_size=0.2, random_state=156, stratify=y)\n",
    "\n",
    "# StandardScaler 클래스를 이용해 피쳐 데이터 세트에 일괄적으로 스케일링 적용\n",
    "scaler = StandardScaler()\n",
    "X = scaler.fit_transform(X)\n",
    "\n",
    "# 로지스틱 회귀로 학습, 예측 및 평가 수행\n",
    "lr_clf = LogisticRegression()\n",
    "lr_clf.fit(X_train, y_train)\n",
    "pred = lr_clf.predict(X_test)\n",
    "pred_proba = lr_clf.predict_proba(X_test)[:, 1]"
   ]
  },
  {
   "cell_type": "code",
   "execution_count": 36,
   "id": "a761b769",
   "metadata": {},
   "outputs": [
    {
     "name": "stdout",
     "output_type": "stream",
     "text": [
      "Accuracy: 0.8051948051948052\n",
      "Confusion Matrix:\n",
      "[[89 11]\n",
      " [19 35]]\n",
      "Precision: 0.7608695652173914, Recall: 0.6481481481481481\n",
      "F1: 0.7000000000000001, AUC: 0.8387037037037037\n"
     ]
    }
   ],
   "source": [
    "get_clf_eval(y_test, pred, pred_proba)"
   ]
  },
  {
   "cell_type": "code",
   "execution_count": 37,
   "id": "5f2a1558",
   "metadata": {},
   "outputs": [
    {
     "data": {
      "image/png": "[encoded data removed]",
      "text/plain": [
       "<Figure size 576x432 with 1 Axes>"
      ]
     },
     "metadata": {
      "needs_background": "light"
     },
     "output_type": "display_data"
    }
   ],
   "source": [
    "precision_recall_curve_plot(y_test, pred_proba)"
   ]
  },
  {
   "cell_type": "markdown",
   "id": "480077ed",
   "metadata": {},
   "source": [
    "이제 예측 임계치를 0.48로 낮추어본다.  \n",
    "Binarizer는 threshold를 기준으로 0, 1을 리턴하는 클래스이다. threshold 기본값은 0.0이다."
   ]
  },
  {
   "cell_type": "code",
   "execution_count": 38,
   "id": "99b37834",
   "metadata": {},
   "outputs": [],
   "source": [
    "binarizer = Binarizer(threshold=0.48)\n",
    "\n",
    "pred_th_048 = binarizer.fit_transform(pred_proba.reshape(-1, 1))"
   ]
  },
  {
   "cell_type": "code",
   "execution_count": 40,
   "id": "93fb8f21",
   "metadata": {},
   "outputs": [
    {
     "name": "stdout",
     "output_type": "stream",
     "text": [
      "[[0.]\n",
      " [0.]\n",
      " [0.]\n",
      " [1.]\n",
      " [0.]\n",
      " [1.]\n",
      " [1.]\n",
      " [0.]\n",
      " [0.]\n",
      " [0.]\n",
      " [1.]\n",
      " [0.]\n",
      " [0.]\n",
      " [0.]\n",
      " [0.]\n",
      " [0.]\n",
      " [1.]\n",
      " [0.]\n",
      " [1.]\n",
      " [1.]\n",
      " [1.]\n",
      " [0.]\n",
      " [0.]\n",
      " [0.]\n",
      " [0.]\n",
      " [0.]\n",
      " [1.]\n",
      " [1.]\n",
      " [0.]\n",
      " [1.]\n",
      " [0.]\n",
      " [0.]\n",
      " [0.]\n",
      " [0.]\n",
      " [0.]\n",
      " [1.]\n",
      " [0.]\n",
      " [0.]\n",
      " [1.]\n",
      " [1.]\n",
      " [0.]\n",
      " [0.]\n",
      " [1.]\n",
      " [0.]\n",
      " [0.]\n",
      " [0.]\n",
      " [1.]\n",
      " [0.]\n",
      " [0.]\n",
      " [0.]\n",
      " [0.]\n",
      " [1.]\n",
      " [1.]\n",
      " [0.]\n",
      " [0.]\n",
      " [0.]\n",
      " [0.]\n",
      " [0.]\n",
      " [0.]\n",
      " [0.]\n",
      " [0.]\n",
      " [1.]\n",
      " [0.]\n",
      " [1.]\n",
      " [0.]\n",
      " [0.]\n",
      " [0.]\n",
      " [1.]\n",
      " [0.]\n",
      " [1.]\n",
      " [0.]\n",
      " [0.]\n",
      " [0.]\n",
      " [0.]\n",
      " [1.]\n",
      " [0.]\n",
      " [0.]\n",
      " [0.]\n",
      " [0.]\n",
      " [0.]\n",
      " [0.]\n",
      " [0.]\n",
      " [1.]\n",
      " [0.]\n",
      " [0.]\n",
      " [0.]\n",
      " [1.]\n",
      " [1.]\n",
      " [0.]\n",
      " [0.]\n",
      " [0.]\n",
      " [1.]\n",
      " [1.]\n",
      " [0.]\n",
      " [0.]\n",
      " [1.]\n",
      " [0.]\n",
      " [0.]\n",
      " [0.]\n",
      " [1.]\n",
      " [1.]\n",
      " [0.]\n",
      " [0.]\n",
      " [0.]\n",
      " [0.]\n",
      " [0.]\n",
      " [0.]\n",
      " [0.]\n",
      " [0.]\n",
      " [0.]\n",
      " [1.]\n",
      " [1.]\n",
      " [0.]\n",
      " [0.]\n",
      " [0.]\n",
      " [1.]\n",
      " [1.]\n",
      " [0.]\n",
      " [0.]\n",
      " [1.]\n",
      " [1.]\n",
      " [1.]\n",
      " [1.]\n",
      " [1.]\n",
      " [0.]\n",
      " [0.]\n",
      " [0.]\n",
      " [0.]\n",
      " [0.]\n",
      " [0.]\n",
      " [0.]\n",
      " [0.]\n",
      " [0.]\n",
      " [0.]\n",
      " [0.]\n",
      " [1.]\n",
      " [1.]\n",
      " [1.]\n",
      " [0.]\n",
      " [0.]\n",
      " [0.]\n",
      " [0.]\n",
      " [1.]\n",
      " [0.]\n",
      " [1.]\n",
      " [0.]\n",
      " [0.]\n",
      " [0.]\n",
      " [1.]\n",
      " [0.]\n",
      " [0.]\n",
      " [0.]\n",
      " [1.]\n",
      " [0.]]\n"
     ]
    }
   ],
   "source": [
    "print(pred_th_048)"
   ]
  },
  {
   "cell_type": "code",
   "execution_count": 41,
   "id": "56c73c3e",
   "metadata": {},
   "outputs": [
    {
     "name": "stdout",
     "output_type": "stream",
     "text": [
      "Accuracy: 0.7987012987012987\n",
      "Confusion Matrix:\n",
      "[[88 12]\n",
      " [19 35]]\n",
      "Precision: 0.7446808510638298, Recall: 0.6481481481481481\n",
      "F1: 0.6930693069306931, AUC: 0.8387037037037037\n"
     ]
    }
   ],
   "source": [
    "get_clf_eval(y_test, pred_th_048, pred_proba)"
   ]
  },
  {
   "cell_type": "code",
   "execution_count": null,
   "id": "c8bbceb6",
   "metadata": {},
   "outputs": [],
   "source": []
  }
 ],
 "metadata": {
  "kernelspec": {
   "display_name": "Python 3 (ipykernel)",
   "language": "python",
   "name": "python3"
  },
  "language_info": {
   "codemirror_mode": {
    "name": "ipython",
    "version": 3
   },
   "file_extension": ".py",
   "mimetype": "text/x-python",
   "name": "python",
   "nbconvert_exporter": "python",
   "pygments_lexer": "ipython3",
   "version": "3.8.12"
  }
 },
 "nbformat": 4,
 "nbformat_minor": 5
}
