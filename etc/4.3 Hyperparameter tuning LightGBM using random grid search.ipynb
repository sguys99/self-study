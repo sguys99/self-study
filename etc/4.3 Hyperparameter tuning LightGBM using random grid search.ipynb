{
 "cells": [
  {
   "cell_type": "markdown",
   "id": "d1177759",
   "metadata": {},
   "source": [
    "## 7. Hyperparameter tuning LightGBM using random grid search"
   ]
  },
  {
   "cell_type": "markdown",
   "id": "b8e647e8",
   "metadata": {},
   "source": [
    "<div style=\"text-align: right\"> <b>Author : Kwang Myung Yu</b></div>\n",
    "<div style=\"text-align: right\\\"> Initial upload: 2021.10.18 </div>\n",
    "<div style=\"text-align: right\\\"> Last update: 2021.10.18</div>"
   ]
  },
  {
   "cell_type": "markdown",
   "id": "0a776989",
   "metadata": {},
   "source": [
    "- 출처 : https://medium.com/@sergei740/hyperparameter-tuning-lightgbm-using-random-grid-search-dc11c2f8c805"
   ]
  },
  {
   "cell_type": "code",
   "execution_count": 1,
   "id": "fb9c7512",
   "metadata": {},
   "outputs": [],
   "source": [
    "import os\n",
    "import numpy as np\n",
    "import pandas as pd\n",
    "import matplotlib.pyplot as plt\n",
    "import seaborn as sns\n",
    "from scipy import stats\n",
    "import warnings; warnings.filterwarnings('ignore')\n",
    "plt.style.use('ggplot')\n",
    "%matplotlib inline\n",
    "\n",
    "from scipy.signal import find_peaks"
   ]
  },
  {
   "cell_type": "code",
   "execution_count": 2,
   "id": "3d38ae41",
   "metadata": {},
   "outputs": [
    {
     "data": {
      "text/html": [
       "<svg  width=\"550\" height=\"55\"><rect x=\"0\" y=\"0\" width=\"55\" height=\"55\" style=\"fill:#00798c;stroke-width:2;stroke:rgb(255,255,255)\"/><rect x=\"55\" y=\"0\" width=\"55\" height=\"55\" style=\"fill:#d1495b;stroke-width:2;stroke:rgb(255,255,255)\"/><rect x=\"110\" y=\"0\" width=\"55\" height=\"55\" style=\"fill:#edae49;stroke-width:2;stroke:rgb(255,255,255)\"/><rect x=\"165\" y=\"0\" width=\"55\" height=\"55\" style=\"fill:#66a182;stroke-width:2;stroke:rgb(255,255,255)\"/><rect x=\"220\" y=\"0\" width=\"55\" height=\"55\" style=\"fill:#4a4a4a;stroke-width:2;stroke:rgb(255,255,255)\"/><rect x=\"275\" y=\"0\" width=\"55\" height=\"55\" style=\"fill:#1a508b;stroke-width:2;stroke:rgb(255,255,255)\"/><rect x=\"330\" y=\"0\" width=\"55\" height=\"55\" style=\"fill:#e3120b;stroke-width:2;stroke:rgb(255,255,255)\"/><rect x=\"385\" y=\"0\" width=\"55\" height=\"55\" style=\"fill:#c5a880;stroke-width:2;stroke:rgb(255,255,255)\"/><rect x=\"440\" y=\"0\" width=\"55\" height=\"55\" style=\"fill:#9f5f80;stroke-width:2;stroke:rgb(255,255,255)\"/><rect x=\"495\" y=\"0\" width=\"55\" height=\"55\" style=\"fill:#6f9eaf;stroke-width:2;stroke:rgb(255,255,255)\"/></svg>"
      ],
      "text/plain": [
       "[(0.0, 0.4745098039215686, 0.5490196078431373),\n",
       " (0.8196078431372549, 0.28627450980392155, 0.3568627450980392),\n",
       " (0.9294117647058824, 0.6823529411764706, 0.28627450980392155),\n",
       " (0.4, 0.6313725490196078, 0.5098039215686274),\n",
       " (0.2901960784313726, 0.2901960784313726, 0.2901960784313726),\n",
       " (0.10196078431372549, 0.3137254901960784, 0.5450980392156862),\n",
       " (0.8901960784313725, 0.07058823529411765, 0.043137254901960784),\n",
       " (0.7725490196078432, 0.6588235294117647, 0.5019607843137255),\n",
       " (0.6235294117647059, 0.37254901960784315, 0.5019607843137255),\n",
       " (0.43529411764705883, 0.6196078431372549, 0.6862745098039216)]"
      ]
     },
     "execution_count": 2,
     "metadata": {},
     "output_type": "execute_result"
    }
   ],
   "source": [
    "colors = [\"#00798c\", \"#d1495b\", '#edae49', '#66a182', '#4a4a4a',\n",
    "          '#1a508b', '#e3120b', '#c5a880', '#9F5F80', '#6F9EAF',\n",
    "          '#0278ae','#F39233', '#A7C5EB', '#54E346', '#ABCE74',\n",
    "        '#d6b0b1', '#58391c', '#cdd0cb', '#ffb396', '#6930c3']\n",
    "sns.color_palette(colors[:10])"
   ]
  },
  {
   "cell_type": "markdown",
   "id": "5cf34c85",
   "metadata": {},
   "source": [
    "regression 임"
   ]
  },
  {
   "cell_type": "code",
   "execution_count": null,
   "id": "89b9dc6b",
   "metadata": {},
   "outputs": [],
   "source": [
    "import numpy as np\n",
    "import matplotlib.pyplot as plt\n",
    "import pandas as pd\n",
    "from sklearn.model_selection import train_test_split\n",
    "from sklearn.preprocessing import StandardScaler\n",
    "from sklearn.metrics import mean_absolute_error\n",
    "import lightgbm as lgb\n",
    "import pprint\n",
    "RANDOM_STATE = 42# Importing the dataset\n",
    "dataset = pd.read_csv('dataframe.csv')\n",
    "#One hot encoding\n",
    "df = pd.concat([dataset,pd.get_dummies(dataset['categorical_var'], prefix='categorical_var')],axis=1)#Select columns\n",
    "X = df.iloc[:, [1, 2, 3, 4, 5, 6, 7, 9, 10, 11, 12, 13, 14, 15, 16, 17, 18, 19, 21, 22, 24, 26, 27, 30, 31, 34, 35, 36, 37, 38, 39, 40, 41, 42, 43, 44, 45, 46,48, 49, 50, 51, 52, 53, 54, 55, 56, 57, 58]].values\n",
    "y = df.iloc[:, list(dataset.columns).index('seconds')].values# Splitting the dataset into the training set and test set\n",
    "x_train, x_test, y_train, y_test = train_test_split(X, y, test_size = 0.25, random_state = RANDOM_STATE)# Feature scaling\n",
    "sc = StandardScaler()\n",
    "x_train = sc.fit_transform(x_train)\n",
    "x_test = sc.transform(x_test)\n",
    "\n",
    "#Set the minimum error arbitrarily large\n",
    "min = 99999999999999999999999 \n",
    "count = 0 #Used for keeping track of the iteration number\n",
    "#How many runs to perform using randomly selected hyperparameters\n",
    "iterations = 50\n",
    "for i in range(iterations):\n",
    "    print('iteration number', count)\n",
    "    count += 1 #increment count\n",
    "    try:\n",
    "        d_train = lgb.Dataset(x_train, label=y_train) #Load in data\n",
    "        params = {} #initialize parameters\n",
    "        params['learning_rate'] = np.random.uniform(0, 1)\n",
    "        params['boosting_type'] = np.random.choice(['gbdt', 'dart', 'goss'])\n",
    "        params['objective'] = 'regression'\n",
    "        params['metric'] = 'mae'\n",
    "        params['sub_feature'] = np.random.uniform(0, 1)\n",
    "        params['num_leaves'] = np.random.randint(20, 300)\n",
    "        params['min_data'] = np.random.randint(10, 100)\n",
    "        params['max_depth'] = np.random.randint(5, 200)\n",
    "        iterations = np.random.randint(10, 10000)\n",
    "        print(params, iterations)#Train using selected parameters\n",
    "clf = lgb.train(params, d_train, iterations)y_pred=clf.predict(x_test) #Create predictions on test setmae=mean_absolute_error(y_pred,y_test)\n",
    "        print('MAE:', mae)\n",
    "        if mae < min:\n",
    "            min = mae\n",
    "            pp = params \n",
    "    except: #in case something goes wrong\n",
    "        print('failed with')\n",
    "        print(params)\n",
    "print(\"*\" * 50)\n",
    "print('Minimum is: ', min)\n",
    "print('Used params', pp)"
   ]
  },
  {
   "cell_type": "code",
   "execution_count": null,
   "id": "09bd5ea5",
   "metadata": {},
   "outputs": [],
   "source": []
  },
  {
   "cell_type": "code",
   "execution_count": null,
   "id": "655d7b43",
   "metadata": {},
   "outputs": [],
   "source": []
  },
  {
   "cell_type": "code",
   "execution_count": null,
   "id": "a794a573",
   "metadata": {},
   "outputs": [],
   "source": []
  }
 ],
 "metadata": {
  "kernelspec": {
   "display_name": "Python 3",
   "language": "python",
   "name": "python3"
  },
  "language_info": {
   "codemirror_mode": {
    "name": "ipython",
    "version": 3
   },
   "file_extension": ".py",
   "mimetype": "text/x-python",
   "name": "python",
   "nbconvert_exporter": "python",
   "pygments_lexer": "ipython3",
   "version": "3.8.8"
  }
 },
 "nbformat": 4,
 "nbformat_minor": 5
}
