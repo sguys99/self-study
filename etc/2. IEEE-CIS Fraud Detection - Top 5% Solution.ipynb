{
 "cells": [
  {
   "cell_type": "markdown",
   "id": "a86272ad",
   "metadata": {},
   "source": [
    "# 2. IEEE-CIS Fraud Detection - Top 5% Solution"
   ]
  },
  {
   "cell_type": "markdown",
   "id": "c5747d24",
   "metadata": {},
   "source": [
    "<div style=\"text-align: right\"> <b>Author : Kwang Myung Yu</b></div>\n",
    "<div style=\"text-align: right\\\"> Initial upload: 2021.11.17 </div>\n",
    "<div style=\"text-align: right\\\"> Last update: 2021.11.17</div>"
   ]
  },
  {
   "cell_type": "markdown",
   "id": "d5916646",
   "metadata": {},
   "source": [
    "- https://towardsdatascience.com/ieee-cis-fraud-detection-top-5-solution-5488fc66e95f"
   ]
  },
  {
   "cell_type": "code",
   "execution_count": 2,
   "id": "653c6d21",
   "metadata": {},
   "outputs": [],
   "source": [
    "import os\n",
    "import sys\n",
    "import time\n",
    "import numpy as np\n",
    "import pandas as pd\n",
    "import matplotlib.pyplot as plt\n",
    "import seaborn as sns\n",
    "from scipy import stats\n",
    "import warnings; warnings.filterwarnings('ignore')\n",
    "plt.style.use('ggplot')\n",
    "%matplotlib inline"
   ]
  },
  {
   "cell_type": "code",
   "execution_count": 3,
   "id": "a4ad8ffe",
   "metadata": {},
   "outputs": [
    {
     "data": {
      "text/html": [
       "<svg  width=\"825\" height=\"55\"><rect x=\"0\" y=\"0\" width=\"55\" height=\"55\" style=\"fill:#00798c;stroke-width:2;stroke:rgb(255,255,255)\"/><rect x=\"55\" y=\"0\" width=\"55\" height=\"55\" style=\"fill:#d1495b;stroke-width:2;stroke:rgb(255,255,255)\"/><rect x=\"110\" y=\"0\" width=\"55\" height=\"55\" style=\"fill:#edae49;stroke-width:2;stroke:rgb(255,255,255)\"/><rect x=\"165\" y=\"0\" width=\"55\" height=\"55\" style=\"fill:#66a182;stroke-width:2;stroke:rgb(255,255,255)\"/><rect x=\"220\" y=\"0\" width=\"55\" height=\"55\" style=\"fill:#4a4a4a;stroke-width:2;stroke:rgb(255,255,255)\"/><rect x=\"275\" y=\"0\" width=\"55\" height=\"55\" style=\"fill:#1a508b;stroke-width:2;stroke:rgb(255,255,255)\"/><rect x=\"330\" y=\"0\" width=\"55\" height=\"55\" style=\"fill:#e3120b;stroke-width:2;stroke:rgb(255,255,255)\"/><rect x=\"385\" y=\"0\" width=\"55\" height=\"55\" style=\"fill:#c5a880;stroke-width:2;stroke:rgb(255,255,255)\"/><rect x=\"440\" y=\"0\" width=\"55\" height=\"55\" style=\"fill:#9f5f80;stroke-width:2;stroke:rgb(255,255,255)\"/><rect x=\"495\" y=\"0\" width=\"55\" height=\"55\" style=\"fill:#6f9eaf;stroke-width:2;stroke:rgb(255,255,255)\"/><rect x=\"550\" y=\"0\" width=\"55\" height=\"55\" style=\"fill:#0278ae;stroke-width:2;stroke:rgb(255,255,255)\"/><rect x=\"605\" y=\"0\" width=\"55\" height=\"55\" style=\"fill:#f39233;stroke-width:2;stroke:rgb(255,255,255)\"/><rect x=\"660\" y=\"0\" width=\"55\" height=\"55\" style=\"fill:#a7c5eb;stroke-width:2;stroke:rgb(255,255,255)\"/><rect x=\"715\" y=\"0\" width=\"55\" height=\"55\" style=\"fill:#54e346;stroke-width:2;stroke:rgb(255,255,255)\"/><rect x=\"770\" y=\"0\" width=\"55\" height=\"55\" style=\"fill:#abce74;stroke-width:2;stroke:rgb(255,255,255)\"/></svg>"
      ],
      "text/plain": [
       "[(0.0, 0.4745098039215686, 0.5490196078431373),\n",
       " (0.8196078431372549, 0.28627450980392155, 0.3568627450980392),\n",
       " (0.9294117647058824, 0.6823529411764706, 0.28627450980392155),\n",
       " (0.4, 0.6313725490196078, 0.5098039215686274),\n",
       " (0.2901960784313726, 0.2901960784313726, 0.2901960784313726),\n",
       " (0.10196078431372549, 0.3137254901960784, 0.5450980392156862),\n",
       " (0.8901960784313725, 0.07058823529411765, 0.043137254901960784),\n",
       " (0.7725490196078432, 0.6588235294117647, 0.5019607843137255),\n",
       " (0.6235294117647059, 0.37254901960784315, 0.5019607843137255),\n",
       " (0.43529411764705883, 0.6196078431372549, 0.6862745098039216),\n",
       " (0.00784313725490196, 0.47058823529411764, 0.6823529411764706),\n",
       " (0.9529411764705882, 0.5725490196078431, 0.2),\n",
       " (0.6549019607843137, 0.7725490196078432, 0.9215686274509803),\n",
       " (0.32941176470588235, 0.8901960784313725, 0.27450980392156865),\n",
       " (0.6705882352941176, 0.807843137254902, 0.4549019607843137)]"
      ]
     },
     "execution_count": 3,
     "metadata": {},
     "output_type": "execute_result"
    }
   ],
   "source": [
    "colors = [\"#00798c\", \"#d1495b\", '#edae49', '#66a182', '#4a4a4a',\n",
    "          '#1a508b', '#e3120b', '#c5a880', '#9F5F80', '#6F9EAF',\n",
    "          '#0278ae','#F39233', '#A7C5EB', '#54E346', '#ABCE74',\n",
    "        '#d6b0b1', '#58391c', '#cdd0cb', '#ffb396', '#6930c3']\n",
    "sns.color_palette(colors[:15])"
   ]
  },
  {
   "cell_type": "markdown",
   "id": "521de35e",
   "metadata": {},
   "source": [
    "## Data"
   ]
  },
  {
   "cell_type": "code",
   "execution_count": 8,
   "id": "deba0b71",
   "metadata": {},
   "outputs": [],
   "source": [
    "train_transaction = pd.read_csv('./data/ieee-fraud-detection/train_transaction.csv')\n",
    "test_transaction = pd.read_csv('./data/ieee-fraud-detection/test_transaction.csv')\n",
    "# Identity CSVs - These will be merged onto the transactions to create additional features\n",
    "train_identity = pd.read_csv('./data/ieee-fraud-detection/train_identity.csv')\n",
    "test_identity = pd.read_csv('./data/ieee-fraud-detection/test_identity.csv')\n",
    "# Sample Submissions\n",
    "ss = pd.read_csv('./data/ieee-fraud-detection/sample_submission.csv')"
   ]
  },
  {
   "cell_type": "code",
   "execution_count": 9,
   "id": "ee58ccfa",
   "metadata": {},
   "outputs": [
    {
     "name": "stdout",
     "output_type": "stream",
     "text": [
      "train_transaction shape is (590540, 394)\n",
      "test_transaction shape is (506691, 393)\n",
      "train_identity shape is (144233, 41)\n",
      "test_identity shape is (141907, 41)\n"
     ]
    }
   ],
   "source": [
    "print('train_transaction shape is {}'.format(train_transaction.shape))\n",
    "print('test_transaction shape is {}'.format(test_transaction.shape))\n",
    "print('train_identity shape is {}'.format(train_identity.shape))\n",
    "print('test_identity shape is {}'.format(test_identity.shape))"
   ]
  },
  {
   "cell_type": "code",
   "execution_count": null,
   "id": "77608a0d",
   "metadata": {},
   "outputs": [],
   "source": []
  },
  {
   "cell_type": "code",
   "execution_count": null,
   "id": "b746813b",
   "metadata": {},
   "outputs": [],
   "source": []
  }
 ],
 "metadata": {
  "kernelspec": {
   "display_name": "Python 3",
   "language": "python",
   "name": "python3"
  },
  "language_info": {
   "codemirror_mode": {
    "name": "ipython",
    "version": 3
   },
   "file_extension": ".py",
   "mimetype": "text/x-python",
   "name": "python",
   "nbconvert_exporter": "python",
   "pygments_lexer": "ipython3",
   "version": "3.8.8"
  }
 },
 "nbformat": 4,
 "nbformat_minor": 5
}
