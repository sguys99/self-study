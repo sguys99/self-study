{
 "cells": [
  {
   "cell_type": "markdown",
   "id": "d1177759",
   "metadata": {},
   "source": [
    "## 5. Object Oriented Titanics"
   ]
  },
  {
   "cell_type": "markdown",
   "id": "b8e647e8",
   "metadata": {},
   "source": [
    "<div style=\"text-align: right\"> <b>Author : Kwang Myung Yu</b></div>\n",
    "<div style=\"text-align: right\\\"> Initial upload: 2021.10.21 </div>\n",
    "<div style=\"text-align: right\\\"> Last update: 2021.10.21</div>"
   ]
  },
  {
   "cell_type": "markdown",
   "id": "0a776989",
   "metadata": {},
   "source": [
    "- 출처 : https://www.kaggle.com/serkanpeldek/object-oriented-titanics"
   ]
  },
  {
   "cell_type": "code",
   "execution_count": 1,
   "id": "fb9c7512",
   "metadata": {},
   "outputs": [],
   "source": [
    "import os\n",
    "import sys\n",
    "import time\n",
    "import numpy as np\n",
    "import pandas as pd\n",
    "import matplotlib.pyplot as plt\n",
    "import seaborn as sns\n",
    "from scipy import stats\n",
    "import warnings; warnings.filterwarnings('ignore')\n",
    "plt.style.use('ggplot')\n",
    "%matplotlib inline"
   ]
  },
  {
   "cell_type": "code",
   "execution_count": 2,
   "id": "3d38ae41",
   "metadata": {},
   "outputs": [
    {
     "data": {
      "text/html": [
       "<svg  width=\"550\" height=\"55\"><rect x=\"0\" y=\"0\" width=\"55\" height=\"55\" style=\"fill:#00798c;stroke-width:2;stroke:rgb(255,255,255)\"/><rect x=\"55\" y=\"0\" width=\"55\" height=\"55\" style=\"fill:#d1495b;stroke-width:2;stroke:rgb(255,255,255)\"/><rect x=\"110\" y=\"0\" width=\"55\" height=\"55\" style=\"fill:#edae49;stroke-width:2;stroke:rgb(255,255,255)\"/><rect x=\"165\" y=\"0\" width=\"55\" height=\"55\" style=\"fill:#66a182;stroke-width:2;stroke:rgb(255,255,255)\"/><rect x=\"220\" y=\"0\" width=\"55\" height=\"55\" style=\"fill:#4a4a4a;stroke-width:2;stroke:rgb(255,255,255)\"/><rect x=\"275\" y=\"0\" width=\"55\" height=\"55\" style=\"fill:#1a508b;stroke-width:2;stroke:rgb(255,255,255)\"/><rect x=\"330\" y=\"0\" width=\"55\" height=\"55\" style=\"fill:#e3120b;stroke-width:2;stroke:rgb(255,255,255)\"/><rect x=\"385\" y=\"0\" width=\"55\" height=\"55\" style=\"fill:#c5a880;stroke-width:2;stroke:rgb(255,255,255)\"/><rect x=\"440\" y=\"0\" width=\"55\" height=\"55\" style=\"fill:#9f5f80;stroke-width:2;stroke:rgb(255,255,255)\"/><rect x=\"495\" y=\"0\" width=\"55\" height=\"55\" style=\"fill:#6f9eaf;stroke-width:2;stroke:rgb(255,255,255)\"/></svg>"
      ],
      "text/plain": [
       "[(0.0, 0.4745098039215686, 0.5490196078431373),\n",
       " (0.8196078431372549, 0.28627450980392155, 0.3568627450980392),\n",
       " (0.9294117647058824, 0.6823529411764706, 0.28627450980392155),\n",
       " (0.4, 0.6313725490196078, 0.5098039215686274),\n",
       " (0.2901960784313726, 0.2901960784313726, 0.2901960784313726),\n",
       " (0.10196078431372549, 0.3137254901960784, 0.5450980392156862),\n",
       " (0.8901960784313725, 0.07058823529411765, 0.043137254901960784),\n",
       " (0.7725490196078432, 0.6588235294117647, 0.5019607843137255),\n",
       " (0.6235294117647059, 0.37254901960784315, 0.5019607843137255),\n",
       " (0.43529411764705883, 0.6196078431372549, 0.6862745098039216)]"
      ]
     },
     "execution_count": 2,
     "metadata": {},
     "output_type": "execute_result"
    }
   ],
   "source": [
    "colors = [\"#00798c\", \"#d1495b\", '#edae49', '#66a182', '#4a4a4a',\n",
    "          '#1a508b', '#e3120b', '#c5a880', '#9F5F80', '#6F9EAF',\n",
    "          '#0278ae','#F39233', '#A7C5EB', '#54E346', '#ABCE74',\n",
    "        '#d6b0b1', '#58391c', '#cdd0cb', '#ffb396', '#6930c3']\n",
    "sns.color_palette(colors[:10])"
   ]
  },
  {
   "cell_type": "markdown",
   "id": "a5df16ab",
   "metadata": {},
   "source": [
    "**OOP 기반모델 개발 이유**  \n",
    "- robustness, : capablity of handling unexpexted input.\n",
    "- adaptability, : (or evolvability or portability) is ability to run on different hadware and operating systems.\n",
    "    \n",
    "- resuability : opportunity of using same code as a component of different systems."
   ]
  },
  {
   "cell_type": "markdown",
   "id": "64a039bc",
   "metadata": {},
   "source": [
    "#### OOP 기반 개발원칙  \n",
    "Modularity : organizing principle of code into various functional units\n",
    "\n",
    "Abstraction : to simplisfication a complex inner machanism to fundemantel parts\n",
    "\n",
    "Encapsulation : class inner details have not to be known by outer users"
   ]
  },
  {
   "cell_type": "markdown",
   "id": "cf725ba2",
   "metadata": {},
   "source": [
    "#### Coding Style Convention  \n",
    "Python code blocks are typically indented by 4 spaces.  \n",
    "파이썬 코드 블럭은 일반적으로 4space를 사용한다.  \n",
    "It is strongly recommended that tabs be avoided  \n",
    "탭 사용은 피할 것\n",
    "\n",
    "의미를 가지는 변수, 함수, 클래스 명을 지어라\n",
    "\n",
    "Classes: should be singular and capitalized (e.g., 'Book' rather than 'book' or 'Books')  \n",
    "클래스는 한개 단어 그리고 대문자로 시작\n",
    "\n",
    "Functions: sould be a lowercase verb and separeted by underscore for multple words  \n",
    "(e.g., preprocess_data).  함수는 소문자 그리고 _로 구분되는 동사형으로..\n",
    "\n",
    "Variables: sould be lowercase noun and separeted by underscore for multiple words \n",
    "(e.g., product_id) 변수는 소문자, 명사, _로 구분  \n",
    "\n",
    "Constant: sould be uppercase noun and separeted by underscore for multiple words (e.g., MAX_SIZE)"
   ]
  },
  {
   "cell_type": "markdown",
   "id": "f46cc313",
   "metadata": {},
   "source": [
    "### Starting point of OOP  \n",
    "클래스는 OOP에서 추상화에 중요한 열할을 한다.  \n",
    "\n",
    "Mebmer functions (also known as methods) perform set of actions ,with implementations that are common to all instances of that class.\n",
    "멤버함수, 즉 메서드는 ..\n",
    "Attributes (also known as fields, instance variables, or data members) determine the information for each instance.\n",
    "\n",
    "Instance: An individual object of a certain class. An object obj that belongs to a class Circle, for example, is an instance of the class Circle.\n",
    "\n",
    "Class variable: A variable that is shared by all instances of a class. Class variables are attributes which are owned by the class itself. They will be shared by all the instances of the class. Therefore they have the same value for every instance.\n",
    "\n",
    "Instance variable: A variable that is defined inside a method and belongs only to the current instance of a class. Instance variables are owned by the specific instances of a class. This means for two different instances the instance variables are usually different.\n",
    "\n",
    "Constructor: A special funciton which is called when a new instance of class created."
   ]
  },
  {
   "cell_type": "code",
   "execution_count": 4,
   "id": "2db6263f",
   "metadata": {},
   "outputs": [],
   "source": [
    "class KaggleMember():#괄호 있어도, 없어도 됨. 그러나 여기서는 괄호사용을 추천\n",
    "    kaggle_member_count = 0 #클래스의 멤버변수\n",
    "    \n",
    "    def __init__(self, name, surname, level = None):#생성자 함수, 초기값 할당할 때 사용\n",
    "        self.name = name.capitalize()\n",
    "        self.surname = surname.upper()\n",
    "        self._set_level(level)\n",
    "        \n",
    "        KaggleMember.kaggle_member_count+=1\n",
    "        self.kaggle_id = KaggleMember.kaggle_member_count\n",
    "        \n",
    "    def display_number_of_member(self):#self 생략해도 되지만 멤버라는 의미로 추가하자.\n",
    "        print('There are {} members in Kaggle community'.format(KaggleMember.kaggle_member_count))\n",
    "        \n",
    "    def display_member_info(self):\n",
    "        print('Kaggle Member Full Name:{} {}'.format(self.name, self.surname))\n",
    "        print('Level: {:15}'.format(self.level))\n",
    "        print('Kaggle ID:', self.kaggle_id)\n",
    "    \n",
    "    def _set_level(self, level):\n",
    "        if level is None:\n",
    "            self.level = 'Novice'\n",
    "        else:\n",
    "            self.level = level.title()\n",
    "            \n",
    "    myclass_name = 'Kaggle Member'"
   ]
  },
  {
   "cell_type": "code",
   "execution_count": 5,
   "id": "5c75fd49",
   "metadata": {},
   "outputs": [],
   "source": [
    "kaggler1 = KaggleMember('Kwagn Myung', 'Yu', 'expert')"
   ]
  },
  {
   "cell_type": "code",
   "execution_count": 6,
   "id": "bd6b3c91",
   "metadata": {},
   "outputs": [
    {
     "name": "stdout",
     "output_type": "stream",
     "text": [
      "Kaggle Member Full Name:Kwagn myung YU\n",
      "Level: Expert         \n",
      "Kaggle ID: 1\n"
     ]
    }
   ],
   "source": [
    "kaggler1.display_member_info()"
   ]
  },
  {
   "cell_type": "code",
   "execution_count": 7,
   "id": "0370664a",
   "metadata": {},
   "outputs": [
    {
     "name": "stdout",
     "output_type": "stream",
     "text": [
      "There are 1 members in Kaggle community\n"
     ]
    }
   ],
   "source": [
    "kaggler1.display_number_of_member()"
   ]
  },
  {
   "cell_type": "code",
   "execution_count": 8,
   "id": "79f092e4",
   "metadata": {},
   "outputs": [
    {
     "name": "stdout",
     "output_type": "stream",
     "text": [
      "Kaggle Member Full Name:Kaan CAN\n",
      "Level: Grand Master   \n",
      "Kaggle ID: 2\n",
      "There are 2 members in Kaggle community\n"
     ]
    }
   ],
   "source": [
    "kaggler2=KaggleMember('kaan','can', 'grand master')\n",
    "kaggler2.display_member_info()\n",
    "kaggler1.display_number_of_member()"
   ]
  },
  {
   "cell_type": "code",
   "execution_count": 9,
   "id": "8e3d0e64",
   "metadata": {},
   "outputs": [
    {
     "name": "stdout",
     "output_type": "stream",
     "text": [
      "Kaggle Member Full Name:Kral ADAM\n",
      "Level: Expert         \n",
      "Kaggle ID: 3\n",
      "There are 3 members in Kaggle community\n"
     ]
    }
   ],
   "source": [
    "kaggler3=KaggleMember('Kral','Adam', \"expert\")\n",
    "kaggler3.display_member_info()\n",
    "kaggler1.display_number_of_member()"
   ]
  },
  {
   "cell_type": "code",
   "execution_count": 10,
   "id": "c33e6121",
   "metadata": {},
   "outputs": [
    {
     "name": "stdout",
     "output_type": "stream",
     "text": [
      "There are 3 members in Kaggle community\n"
     ]
    }
   ],
   "source": [
    "kaggler2.display_number_of_member()"
   ]
  },
  {
   "cell_type": "code",
   "execution_count": 11,
   "id": "1944fc26",
   "metadata": {},
   "outputs": [
    {
     "data": {
      "text/plain": [
       "3"
      ]
     },
     "execution_count": 11,
     "metadata": {},
     "output_type": "execute_result"
    }
   ],
   "source": [
    "kaggler1.kaggle_member_count"
   ]
  },
  {
   "cell_type": "code",
   "execution_count": 12,
   "id": "ecda5772",
   "metadata": {},
   "outputs": [
    {
     "data": {
      "text/plain": [
       "3"
      ]
     },
     "execution_count": 12,
     "metadata": {},
     "output_type": "execute_result"
    }
   ],
   "source": [
    "kaggler2.kaggle_member_count"
   ]
  },
  {
   "cell_type": "code",
   "execution_count": 13,
   "id": "702bf5e0",
   "metadata": {},
   "outputs": [
    {
     "name": "stdout",
     "output_type": "stream",
     "text": [
      "\n",
      "Following codes check other class variable value \n",
      "Kaggle Member\n",
      "Kaggle Member\n",
      "Kaggle Member\n"
     ]
    }
   ],
   "source": [
    "print()\n",
    "print('Following codes check other class variable value ')\n",
    "print(kaggler1.myclass_name)\n",
    "print(kaggler2.myclass_name)\n",
    "print(kaggler3.myclass_name)"
   ]
  },
  {
   "cell_type": "markdown",
   "id": "3d05286e",
   "metadata": {},
   "source": [
    "### Inheritance : 상속"
   ]
  },
  {
   "cell_type": "markdown",
   "id": "d32d2556",
   "metadata": {},
   "source": [
    "OOP에서 가장 중요한 요소중에 하나가 전에 구현된 코드를 사용하는 능력이다.  \n",
    "상속은 이를 위한 완벽한 방법이다.  \n",
    "파이썬의 모든 객체는 `object` 메서드를 상속받는다. 명시를 안해도 그렇다.\n",
    "아래를 보자"
   ]
  },
  {
   "cell_type": "code",
   "execution_count": 14,
   "id": "80f86c2c",
   "metadata": {},
   "outputs": [],
   "source": [
    "class MyDefinedClass:#Implicitly inheritance  \n",
    "    pass\n",
    "\n",
    "class YourDefinedClass(object):#Explicityl inheritance\n",
    "    pass"
   ]
  },
  {
   "cell_type": "code",
   "execution_count": 15,
   "id": "3c71495f",
   "metadata": {},
   "outputs": [
    {
     "name": "stdout",
     "output_type": "stream",
     "text": [
      "The methods in MyDefinedClass:\n",
      " ['__class__', '__delattr__', '__dict__', '__dir__', '__doc__', '__eq__', '__format__', '__ge__', '__getattribute__', '__gt__', '__hash__', '__init__', '__init_subclass__', '__le__', '__lt__', '__module__', '__ne__', '__new__', '__reduce__', '__reduce_ex__', '__repr__', '__setattr__', '__sizeof__', '__str__', '__subclasshook__', '__weakref__']\n",
      "\n",
      "The methods in YourDefinedClass:\n",
      " ['__class__', '__delattr__', '__dict__', '__dir__', '__doc__', '__eq__', '__format__', '__ge__', '__getattribute__', '__gt__', '__hash__', '__init__', '__init_subclass__', '__le__', '__lt__', '__module__', '__ne__', '__new__', '__reduce__', '__reduce_ex__', '__repr__', '__setattr__', '__sizeof__', '__str__', '__subclasshook__', '__weakref__']\n",
      "\n",
      "The methods in 'object':\n",
      " ['__class__', '__delattr__', '__dir__', '__doc__', '__eq__', '__format__', '__ge__', '__getattribute__', '__gt__', '__hash__', '__init__', '__init_subclass__', '__le__', '__lt__', '__ne__', '__new__', '__reduce__', '__reduce_ex__', '__repr__', '__setattr__', '__sizeof__', '__str__', '__subclasshook__']\n"
     ]
    }
   ],
   "source": [
    "print(\"The methods in MyDefinedClass:\\n\",dir(MyDefinedClass))\n",
    "print()\n",
    "print(\"The methods in YourDefinedClass:\\n\",dir(MyDefinedClass))\n",
    "print()\n",
    "print(\"The methods in 'object':\\n\",dir(object))"
   ]
  },
  {
   "cell_type": "markdown",
   "id": "7a3d41ca",
   "metadata": {},
   "source": [
    "dir 함수를 사용하면 predefined 함수를 학인할 수 있다. 명시하든 안하든 같은걸 알수있다."
   ]
  },
  {
   "cell_type": "markdown",
   "id": "9146205e",
   "metadata": {},
   "source": [
    "그럼 우리가 만든 KaggleMember 클래스르 보자"
   ]
  },
  {
   "cell_type": "code",
   "execution_count": 16,
   "id": "98af206b",
   "metadata": {},
   "outputs": [
    {
     "name": "stdout",
     "output_type": "stream",
     "text": [
      "The methods in KaggleMember:\n",
      " ['__class__', '__delattr__', '__dict__', '__dir__', '__doc__', '__eq__', '__format__', '__ge__', '__getattribute__', '__gt__', '__hash__', '__init__', '__init_subclass__', '__le__', '__lt__', '__module__', '__ne__', '__new__', '__reduce__', '__reduce_ex__', '__repr__', '__setattr__', '__sizeof__', '__str__', '__subclasshook__', '__weakref__', '_set_level', 'display_member_info', 'display_number_of_member', 'kaggle_member_count', 'myclass_name']\n"
     ]
    }
   ],
   "source": [
    "print(\"The methods in KaggleMember:\\n\",dir(KaggleMember))"
   ]
  },
  {
   "cell_type": "markdown",
   "id": "d6e1718f",
   "metadata": {},
   "source": [
    "### WORKING ON TITANIC DATASET"
   ]
  },
  {
   "cell_type": "markdown",
   "id": "638c5c1b",
   "metadata": {},
   "source": [
    "다음의 클래스를 생성할 것이다.   \n",
    "**'Information':** 데이터 요약정보를 출력\n",
    "\n",
    "**'Preprocess':** 데이터 전처리\n",
    "\n",
    "**'PreprocessStrategy':** 각기 다른 전처리 전략 수행\n",
    "\n",
    "**'GridSearchHelper':** ML 파라밑 최적화\n",
    "\n",
    "**'ObjectOrientedTitanic':** 전체 클래스를 관리하는 클래스"
   ]
  },
  {
   "cell_type": "code",
   "execution_count": 19,
   "id": "4fa6e32f",
   "metadata": {},
   "outputs": [],
   "source": [
    "train = pd.read_csv('data/titanic/train.csv')\n",
    "test = pd.read_csv('data/titanic/test.csv')"
   ]
  },
  {
   "cell_type": "markdown",
   "id": "5c331019",
   "metadata": {},
   "source": [
    "### Information 클래스"
   ]
  },
  {
   "cell_type": "code",
   "execution_count": 17,
   "id": "7338f91b",
   "metadata": {},
   "outputs": [],
   "source": [
    "class Information():\n",
    "\n",
    "    def __init__(self):\n",
    "        \"\"\"\n",
    "        This class give some brief information about the datasets.\n",
    "        Information introduced in R language style\n",
    "        \"\"\"\n",
    "        print(\"Information object created\")\n",
    "\n",
    "    def _get_missing_values(self,data):\n",
    "        \"\"\"\n",
    "        Find missing values of given datad\n",
    "        :param data: checked its missing value\n",
    "        :return: Pandas Series object\n",
    "        \"\"\"\n",
    "        #Getting sum of missing values for each feature\n",
    "        missing_values = data.isnull().sum()\n",
    "        #Feature missing values are sorted from few to many\n",
    "        missing_values.sort_values(ascending=False, inplace=True)\n",
    "        \n",
    "        #Returning missing values\n",
    "        return missing_values\n",
    "\n",
    "    def info(self,data):\n",
    "        \"\"\"\n",
    "        print feature name, data type, number of missing values and ten samples of \n",
    "        each feature\n",
    "        :param data: dataset information will be gathered from\n",
    "        :return: no return value\n",
    "        \"\"\"\n",
    "        feature_dtypes=data.dtypes # data\n",
    "        self.missing_values=self._get_missing_values(data)\n",
    "\n",
    "        print(\"=\" * 50)\n",
    "\n",
    "        print(\"{:16} {:16} {:25} {:16}\".format(\"Feature Name\".upper(),\n",
    "                                            \"Data Format\".upper(),\n",
    "                                            \"# of Missing Values\".upper(),\n",
    "                                            \"Samples\".upper()))\n",
    "        for feature_name, dtype, missing_value in zip(self.missing_values.index.values,\n",
    "                                                      feature_dtypes[self.missing_values.index.values],\n",
    "                                                      self.missing_values.values):\n",
    "            print(\"{:18} {:19} {:19} \".format(feature_name, str(dtype), str(missing_value)), end=\"\")\n",
    "            for v in data[feature_name].values[:10]:\n",
    "                print(v, end=\",\")\n",
    "            print()\n",
    "\n",
    "        print(\"=\"*50)"
   ]
  },
  {
   "cell_type": "code",
   "execution_count": 18,
   "id": "fe69aedf",
   "metadata": {},
   "outputs": [
    {
     "name": "stdout",
     "output_type": "stream",
     "text": [
      "Information object created\n"
     ]
    }
   ],
   "source": [
    "infomation = Information()"
   ]
  },
  {
   "cell_type": "code",
   "execution_count": 20,
   "id": "b0fdb417",
   "metadata": {
    "collapsed": true
   },
   "outputs": [
    {
     "data": {
      "text/plain": [
       "Cabin          687\n",
       "Age            177\n",
       "Embarked         2\n",
       "PassengerId      0\n",
       "Survived         0\n",
       "Pclass           0\n",
       "Name             0\n",
       "Sex              0\n",
       "SibSp            0\n",
       "Parch            0\n",
       "Ticket           0\n",
       "Fare             0\n",
       "dtype: int64"
      ]
     },
     "execution_count": 20,
     "metadata": {},
     "output_type": "execute_result"
    }
   ],
   "source": [
    "infomation._get_missing_values(train)"
   ]
  },
  {
   "cell_type": "code",
   "execution_count": 22,
   "id": "4dcd9d8c",
   "metadata": {},
   "outputs": [
    {
     "data": {
      "text/plain": [
       "PassengerId      int64\n",
       "Survived         int64\n",
       "Pclass           int64\n",
       "Name            object\n",
       "Sex             object\n",
       "Age            float64\n",
       "SibSp            int64\n",
       "Parch            int64\n",
       "Ticket          object\n",
       "Fare           float64\n",
       "Cabin           object\n",
       "Embarked        object\n",
       "dtype: object"
      ]
     },
     "execution_count": 22,
     "metadata": {},
     "output_type": "execute_result"
    }
   ],
   "source": [
    "train.dtypes"
   ]
  },
  {
   "cell_type": "code",
   "execution_count": 21,
   "id": "7dd8a28e",
   "metadata": {},
   "outputs": [
    {
     "name": "stdout",
     "output_type": "stream",
     "text": [
      "==================================================\n",
      "FEATURE NAME     DATA FORMAT      # OF MISSING VALUES       SAMPLES         \n",
      "Cabin              object              687                 nan,C85,nan,C123,nan,nan,E46,nan,nan,nan,\n",
      "Age                float64             177                 22.0,38.0,26.0,35.0,35.0,nan,54.0,2.0,27.0,14.0,\n",
      "Embarked           object              2                   S,C,S,S,S,Q,S,S,S,C,\n",
      "PassengerId        int64               0                   1,2,3,4,5,6,7,8,9,10,\n",
      "Survived           int64               0                   0,1,1,1,0,0,0,0,1,1,\n",
      "Pclass             int64               0                   3,1,3,1,3,3,1,3,3,2,\n",
      "Name               object              0                   Braund, Mr. Owen Harris,Cumings, Mrs. John Bradley (Florence Briggs Thayer),Heikkinen, Miss. Laina,Futrelle, Mrs. Jacques Heath (Lily May Peel),Allen, Mr. William Henry,Moran, Mr. James,McCarthy, Mr. Timothy J,Palsson, Master. Gosta Leonard,Johnson, Mrs. Oscar W (Elisabeth Vilhelmina Berg),Nasser, Mrs. Nicholas (Adele Achem),\n",
      "Sex                object              0                   male,female,female,female,male,male,male,male,female,female,\n",
      "SibSp              int64               0                   1,1,0,1,0,0,0,3,0,1,\n",
      "Parch              int64               0                   0,0,0,0,0,0,0,1,2,0,\n",
      "Ticket             object              0                   A/5 21171,PC 17599,STON/O2. 3101282,113803,373450,330877,17463,349909,347742,237736,\n",
      "Fare               float64             0                   7.25,71.2833,7.925,53.1,8.05,8.4583,51.8625,21.075,11.1333,30.0708,\n",
      "==================================================\n"
     ]
    }
   ],
   "source": [
    "infomation.info(train)"
   ]
  },
  {
   "cell_type": "markdown",
   "id": "4750fa9b",
   "metadata": {},
   "source": [
    "### Preproecss 클래스"
   ]
  },
  {
   "cell_type": "code",
   "execution_count": 23,
   "id": "b82997e9",
   "metadata": {},
   "outputs": [],
   "source": [
    "import pandas as pd\n",
    "from sklearn.preprocessing import LabelEncoder\n",
    "class Preprocess():\n",
    "\n",
    "    def __init__(self):\n",
    "        print(\"Preprocess object created\")\n",
    "\n",
    "    def fillna(self, data, fill_strategies):\n",
    "        for column, strategy in fill_strategies.items():\n",
    "            if strategy == 'None':\n",
    "                data[column] = data[column].fillna('None')\n",
    "            elif strategy == 'Zero':\n",
    "                data[column] = data[column].fillna(0)\n",
    "            elif strategy == 'Mode':\n",
    "                data[column] = data[column].fillna(data[column].mode()[0])\n",
    "            elif strategy == 'Mean':\n",
    "                data[column] = data[column].fillna(data[column].mean())\n",
    "            elif strategy == 'Median':\n",
    "                data[column] = data[column].fillna(data[column].median())\n",
    "            else:\n",
    "                print(\"{}: There is no such thing as preprocess strategy\".format(strategy))\n",
    "\n",
    "        return data\n",
    "\n",
    "    def drop(self, data, drop_strategies):\n",
    "        for column, strategy in drop_strategies.items():\n",
    "            data=data.drop(labels=[column], axis=strategy)\n",
    "\n",
    "        return data\n",
    "\n",
    "    def feature_engineering(self, data, engineering_strategies=1):\n",
    "        if engineering_strategies==1:\n",
    "            return self._feature_engineering1(data)\n",
    "\n",
    "        return data\n",
    "\n",
    "    def _feature_engineering1(self,data):\n",
    "\n",
    "        data=self._base_feature_engineering(data)\n",
    "\n",
    "\n",
    "        data['FareBin'] = pd.qcut(data['Fare'], 4)# 가격을 4개 구간으로 나눔(quantiling), 갯수 단위로 분할\n",
    "\n",
    "        data['AgeBin'] = pd.cut(data['Age'].astype(int), 5) # 길이 단위로 분할\n",
    "        # 참고 https://kimdingko-world.tistory.com/209\n",
    "\n",
    "        drop_strategy = {'Age': 1,  # 1 indicate axis 1(column)\n",
    "                         'Name': 1,\n",
    "                         'Fare': 1}\n",
    "        data = self.drop(data, drop_strategy)\n",
    "\n",
    "        return data\n",
    "\n",
    "    def _base_feature_engineering(self,data):\n",
    "        data['FamilySize'] = data['SibSp'] + data['Parch'] + 1\n",
    "\n",
    "        data['IsAlone'] = 1\n",
    "        data.loc[(data['FamilySize'] > 1), 'IsAlone'] = 0\n",
    "\n",
    "        data['Title'] = data['Name'].str.split(\", \", expand=True)[1].str.split('.', expand=True)[0]\n",
    "        min_lengtht = 10\n",
    "        title_names = (data['Title'].value_counts() < min_lengtht)\n",
    "        data['Title'] = data['Title'].apply(lambda x: 'Misc' if title_names.loc[x] == True else x)\n",
    "\n",
    "        return data\n",
    "\n",
    "    def _label_encoder(self,data):\n",
    "        labelEncoder=LabelEncoder()\n",
    "        for column in data.columns.values:\n",
    "            if 'int64'==data[column].dtype or 'float64'==data[column].dtype or 'int64'==data[column].dtype:\n",
    "                continue\n",
    "            labelEncoder.fit(data[column])# 실수, 정수가 아닌 컬럼에 대해서 인코딩 실시\n",
    "            data[column]=labelEncoder.transform(data[column])\n",
    "        return data\n",
    "\n",
    "    def _get_dummies(self, data, prefered_columns=None):# 다시볼 것\n",
    "\n",
    "        if prefered_columns is None:\n",
    "            columns=data.columns.values\n",
    "            non_dummies=None\n",
    "        else:\n",
    "            non_dummies=[col for col in data.columns.values if col not in prefered_columns ]\n",
    "\n",
    "            columns=prefered_columns\n",
    "\n",
    "\n",
    "        dummies_data=[pd.get_dummies(data[col],prefix=col) for col in columns]\n",
    "\n",
    "        if non_dummies is not None:\n",
    "            for non_dummy in non_dummies:\n",
    "                dummies_data.append(data[non_dummy])\n",
    "\n",
    "        return pd.concat(dummies_data, axis=1)"
   ]
  },
  {
   "cell_type": "code",
   "execution_count": 24,
   "id": "851a34f9",
   "metadata": {},
   "outputs": [
    {
     "data": {
      "text/plain": [
       "array(['PassengerId', 'Survived', 'Pclass', 'Name', 'Sex', 'Age', 'SibSp',\n",
       "       'Parch', 'Ticket', 'Fare', 'Cabin', 'Embarked'], dtype=object)"
      ]
     },
     "execution_count": 24,
     "metadata": {},
     "output_type": "execute_result"
    }
   ],
   "source": [
    "train.columns.values"
   ]
  },
  {
   "cell_type": "code",
   "execution_count": 25,
   "id": "000a9284",
   "metadata": {},
   "outputs": [
    {
     "data": {
      "text/plain": [
       "PassengerId      int64\n",
       "Survived         int64\n",
       "Pclass           int64\n",
       "Name            object\n",
       "Sex             object\n",
       "Age            float64\n",
       "SibSp            int64\n",
       "Parch            int64\n",
       "Ticket          object\n",
       "Fare           float64\n",
       "Cabin           object\n",
       "Embarked        object\n",
       "dtype: object"
      ]
     },
     "execution_count": 25,
     "metadata": {},
     "output_type": "execute_result"
    }
   ],
   "source": [
    "train.dtypes"
   ]
  },
  {
   "cell_type": "markdown",
   "id": "c03816b2",
   "metadata": {},
   "source": [
    "###  PreprocessStrategy 클래스"
   ]
  },
  {
   "cell_type": "code",
   "execution_count": 26,
   "id": "f3e62a39",
   "metadata": {},
   "outputs": [],
   "source": [
    "class PreprocessStrategy():\n",
    "    \"\"\"\n",
    "    Preprocess strategies defined and exected in this class\n",
    "    \"\"\"\n",
    "    def __init__(self):\n",
    "        self.data=None\n",
    "        self._preprocessor=Preprocess()\n",
    "\n",
    "    def strategy(self, data, strategy_type=\"strategy1\"):\n",
    "        self.data=data\n",
    "        if strategy_type=='strategy1':\n",
    "            self._strategy1()\n",
    "        elif strategy_type=='strategy2':\n",
    "            self._strategy2()\n",
    "\n",
    "        return self.data\n",
    "\n",
    "    def _base_strategy(self):\n",
    "        drop_strategy = {'PassengerId': 1,  # 1 indicate axis 1(column)\n",
    "                         'Cabin': 1,\n",
    "                         'Ticket': 1}\n",
    "        self.data = self._preprocessor.drop(self.data, drop_strategy)\n",
    "\n",
    "        fill_strategy = {'Age': 'Median',\n",
    "                         'Fare': 'Median',\n",
    "                         'Embarked': 'Mode'}\n",
    "        self.data = self._preprocessor.fillna(self.data, fill_strategy)\n",
    "\n",
    "        self.data = self._preprocessor.feature_engineering(self.data, 1)\n",
    "\n",
    "\n",
    "        self.data = self._preprocessor._label_encoder(self.data)\n",
    "\n",
    "    def _strategy1(self):\n",
    "        self._base_strategy()\n",
    "\n",
    "        self.data=self._preprocessor._get_dummies(self.data,\n",
    "                                        prefered_columns=['Pclass', 'Sex', 'Parch', 'Embarked', 'Title', 'IsAlone'])\n",
    "\n",
    "    def _strategy2(self):\n",
    "        self._base_strategy()\n",
    "\n",
    "        self.data=self._preprocessor._get_dummies(self.data,\n",
    "                                        prefered_columns=None)#None mean that all feature will be dummied"
   ]
  },
  {
   "cell_type": "markdown",
   "id": "dbd3e617",
   "metadata": {},
   "source": [
    "### GridSearchHelper"
   ]
  },
  {
   "cell_type": "code",
   "execution_count": 28,
   "id": "e4014cb8",
   "metadata": {},
   "outputs": [],
   "source": [
    "import numpy as np\n",
    "import pandas as pd\n",
    "from sklearn.tree import DecisionTreeClassifier\n",
    "from sklearn.ensemble import RandomForestClassifier\n",
    "from sklearn.svm import SVC\n",
    "from sklearn.linear_model import LogisticRegression\n",
    "from sklearn.neighbors import KNeighborsClassifier\n",
    "from sklearn.model_selection import GridSearchCV\n",
    "\n",
    "from sklearn.ensemble import VotingClassifier"
   ]
  },
  {
   "cell_type": "code",
   "execution_count": 29,
   "id": "d507ea20",
   "metadata": {},
   "outputs": [],
   "source": [
    "class GridSearchHelper():\n",
    "    def __init__(self):\n",
    "        print(\"GridSearchHelper Created\")\n",
    "\n",
    "        self.gridSearchCV=None\n",
    "        self.clf_and_params=list()\n",
    "\n",
    "        self._initialize_clf_and_params()\n",
    "\n",
    "    def _initialize_clf_and_params(self):\n",
    "\n",
    "        clf= KNeighborsClassifier()\n",
    "        params={'n_neighbors':[5,7,9,11,13,15],\n",
    "          'leaf_size':[1,2,3,5],\n",
    "          'weights':['uniform', 'distance']\n",
    "          }\n",
    "        self.clf_and_params.append((clf, params))\n",
    "\n",
    "        clf=LogisticRegression()\n",
    "        params={'penalty':['l1', 'l2'],\n",
    "                'C':np.logspace(0, 4, 10)\n",
    "                }\n",
    "        self.clf_and_params.append((clf, params))\n",
    "\n",
    "        clf = SVC()\n",
    "        params = [ {'C': [1, 10, 100, 1000], 'kernel': ['linear']},\n",
    "                   {'C': [1, 10, 100, 1000], 'gamma': [0.001, 0.0001], 'kernel': ['rbf']}]\n",
    "        self.clf_and_params.append((clf, params))\n",
    "\n",
    "        clf=DecisionTreeClassifier()\n",
    "        params={'max_features': ['auto', 'sqrt', 'log2'],\n",
    "          'min_samples_split': [2,3,4,5,6,7,8,9,10,11,12,13,14,15],\n",
    "          'min_samples_leaf':[1],\n",
    "          'random_state':[123]}\n",
    "        #Because of depricating warning for Decision Tree which is not appended.\n",
    "        #But it give high competion accuracy score. You can append when you run the kernel\n",
    "        self.clf_and_params.append((clf,params))\n",
    "\n",
    "        clf = RandomForestClassifier()\n",
    "        params = {'n_estimators': [4, 6, 9],\n",
    "              'max_features': ['log2', 'sqrt','auto'],\n",
    "              'criterion': ['entropy', 'gini'],\n",
    "              'max_depth': [2, 3, 5, 10],\n",
    "              'min_samples_split': [2, 3, 5],\n",
    "              'min_samples_leaf': [1,5,8]\n",
    "             }\n",
    "        #Because of depricating warning for RandomForestClassifier which is not appended.\n",
    "        #But it give high competion accuracy score. You can append when you run the kernel\n",
    "        self.clf_and_params.append((clf, params))\n",
    "\n",
    "    def fit_predict_save(self, X_train, X_test, y_train, submission_id, strategy_type):\n",
    "        self.X_train=X_train\n",
    "        self.X_test=X_test\n",
    "        self.y_train=y_train\n",
    "        self.submission_id=submission_id\n",
    "        self.strategy_type=strategy_type\n",
    "\n",
    "        clf_and_params = self.get_clf_and_params()\n",
    "        models=[]\n",
    "        self.results={}\n",
    "        for clf, params in clf_and_params:\n",
    "            self.current_clf_name = clf.__class__.__name__\n",
    "            grid_search_clf = GridSearchCV(clf, params, cv=5)\n",
    "            grid_search_clf.fit(self.X_train, self.y_train)\n",
    "            self.Y_pred = grid_search_clf.predict(self.X_test)\n",
    "            clf_train_acc = round(grid_search_clf.score(self.X_train, self.y_train) * 100, 2)\n",
    "            print(self.current_clf_name, \" trained and used for prediction on test data...\")\n",
    "            self.results[self.current_clf_name]=clf_train_acc\n",
    "            # for ensemble\n",
    "            models.append(clf)\n",
    "\n",
    "            self.save_result()\n",
    "            print()\n",
    "        \n",
    "        \"\"\"\n",
    "        voting_clf=VotingClassifier(models)\n",
    "        voting_clf.fit(self.X_train, self.y_train)\n",
    "        self.Y_pred=voting_clf.predict(self.X_test)\n",
    "        self.current_clf_name = clf.__class__.__name__\n",
    "        clf_train_acc = round(voting_clf.score(self.X_train, self.y_train) * 100, 2)\n",
    "        print(self.current_clf_name, \" train accuracy:\", clf_train_acc)\n",
    "        self.save_result()\n",
    "        \"\"\"\n",
    "    \n",
    "    def show_result(self):\n",
    "        for clf_name, train_acc in self.results.items():\n",
    "                  print(\"{} train accuracy is {:.3f}\".format(clf_name, train_acc))\n",
    "        \n",
    "    def save_result(self):\n",
    "        Submission = pd.DataFrame({'PassengerId': self.submission_id,\n",
    "                                           'Survived': self.Y_pred})\n",
    "        file_name=\"{}_{}.csv\".format(self.strategy_type,self.current_clf_name.lower())\n",
    "        Submission.to_csv(file_name, index=False)\n",
    "\n",
    "        print(\"Submission saved file name: \",file_name)\n",
    "\n",
    "    def get_clf_and_params(self):\n",
    "\n",
    "        return self.clf_and_params\n",
    "\n",
    "    def add(self,clf, params):\n",
    "        self.clf_and_params.append((clf, params))"
   ]
  },
  {
   "cell_type": "markdown",
   "id": "e0e21aea",
   "metadata": {},
   "source": [
    "### Visualizer class"
   ]
  },
  {
   "cell_type": "code",
   "execution_count": 31,
   "id": "3a3a9ab9",
   "metadata": {},
   "outputs": [],
   "source": [
    "from yellowbrick.features import RadViz\n",
    "class Visualizer:\n",
    "    \n",
    "    def __init__(self):\n",
    "        print(\"Visualizer object created!\")\n",
    "    \n",
    "    def RandianViz(self, X, y, number_of_features):\n",
    "        if number_of_features is None:\n",
    "            features=X.columns.values\n",
    "        else:\n",
    "            features=X.columns.values[:number_of_features]\n",
    "        \n",
    "        fig, ax=plt.subplots(1, figsize=(15,12))\n",
    "        radViz=RadViz(classes=['survived', 'not survived'], features=features)\n",
    "        \n",
    "        radViz.fit(X, y)\n",
    "        radViz.transform(X)\n",
    "        radViz.poof()"
   ]
  },
  {
   "cell_type": "markdown",
   "id": "85470b6a",
   "metadata": {},
   "source": [
    "### ObjectOrientedTitanic"
   ]
  },
  {
   "cell_type": "code",
   "execution_count": 32,
   "id": "76400b1d",
   "metadata": {},
   "outputs": [],
   "source": [
    "class ObjectOrientedTitanic():\n",
    "\n",
    "    def __init__(self, train, test):\n",
    "        \"\"\"\n",
    "\n",
    "        :param train: train data will be used for modelling\n",
    "        :param test:  test data will be used for model evaluation\n",
    "        \"\"\"\n",
    "        print(\"ObjectOrientedTitanic object created\")\n",
    "        #properties\n",
    "        self.testPassengerID=test['PassengerId']\n",
    "        self.number_of_train=train.shape[0]\n",
    "\n",
    "        self.y_train=train['Survived']\n",
    "        self.train=train.drop('Survived', axis=1)\n",
    "        self.test=test\n",
    "\n",
    "        #concat train and test data\n",
    "        self.all_data=self._get_all_data()\n",
    "\n",
    "        #Create instance of objects\n",
    "        self._info=Information()\n",
    "        self.preprocessStrategy = PreprocessStrategy()\n",
    "        self.visualizer=Visualizer()\n",
    "        self.gridSearchHelper = GridSearchHelper()\n",
    "        \n",
    "\n",
    "\n",
    "    def _get_all_data(self):\n",
    "        return pd.concat([self.train, self.test])\n",
    "\n",
    "    def information(self):\n",
    "        \"\"\"\n",
    "        using _info object gives summary about dataset\n",
    "        :return:\n",
    "        \"\"\"\n",
    "        self._info.info(self.all_data)\n",
    "\n",
    "\n",
    "\n",
    "    def preprocessing(self, strategy_type):\n",
    "        \"\"\"\n",
    "        Process data depend upon strategy type\n",
    "        :param strategy_type: Preprocessing strategy type\n",
    "        :return:\n",
    "        \"\"\"\n",
    "        self.strategy_type=strategy_type\n",
    "\n",
    "        self.all_data = self.preprocessStrategy.strategy(self._get_all_data(), strategy_type)\n",
    "\n",
    "    def visualize(self, visualizer_type, number_of_features=None):\n",
    "        \n",
    "        self._get_train_and_test()\n",
    "        \n",
    "        if visualizer_type==\"RadViz\":\n",
    "            self.visualizer.RandianViz(X=self.X_train, \n",
    "                                    y=self.y_train, \n",
    "                                    number_of_features=number_of_features)\n",
    "\n",
    "    def machine_learning(self):\n",
    "        \"\"\"\n",
    "        Get self.X_train, self.X_test and self.y_train\n",
    "        Find best parameters for classifiers registered in gridSearchHelper\n",
    "        :return:\n",
    "        \"\"\"\n",
    "        self._get_train_and_test()\n",
    "\n",
    "        self.gridSearchHelper.fit_predict_save(self.X_train,\n",
    "                                          self.X_test,\n",
    "                                          self.y_train,\n",
    "                                          self.testPassengerID,\n",
    "                                          self.strategy_type)\n",
    "    def show_result(self):\n",
    "        self.gridSearchHelper.show_result()\n",
    "\n",
    "\n",
    "\n",
    "    def _get_train_and_test(self):\n",
    "        \"\"\"\n",
    "        Split data into train and test datasets\n",
    "        :return:\n",
    "        \"\"\"\n",
    "        self.X_train=self.all_data[:self.number_of_train]\n",
    "        self.X_test=self.all_data[self.number_of_train:]"
   ]
  },
  {
   "cell_type": "markdown",
   "id": "ecb4173c",
   "metadata": {},
   "source": [
    "### 시험"
   ]
  },
  {
   "cell_type": "code",
   "execution_count": 33,
   "id": "c42c96db",
   "metadata": {},
   "outputs": [
    {
     "name": "stdout",
     "output_type": "stream",
     "text": [
      "ObjectOrientedTitanic object created\n",
      "Information object created\n",
      "Preprocess object created\n",
      "Visualizer object created!\n",
      "GridSearchHelper Created\n"
     ]
    }
   ],
   "source": [
    "oopTitanic = ObjectOrientedTitanic(train, test)"
   ]
  },
  {
   "cell_type": "markdown",
   "id": "258d9644",
   "metadata": {},
   "source": [
    "데이터 정보 확인"
   ]
  },
  {
   "cell_type": "code",
   "execution_count": 34,
   "id": "e5d4168d",
   "metadata": {},
   "outputs": [
    {
     "name": "stdout",
     "output_type": "stream",
     "text": [
      "==================================================\n",
      "FEATURE NAME     DATA FORMAT      # OF MISSING VALUES       SAMPLES         \n",
      "Cabin              object              1014                nan,C85,nan,C123,nan,nan,E46,nan,nan,nan,\n",
      "Age                float64             263                 22.0,38.0,26.0,35.0,35.0,nan,54.0,2.0,27.0,14.0,\n",
      "Embarked           object              2                   S,C,S,S,S,Q,S,S,S,C,\n",
      "Fare               float64             1                   7.25,71.2833,7.925,53.1,8.05,8.4583,51.8625,21.075,11.1333,30.0708,\n",
      "PassengerId        int64               0                   1,2,3,4,5,6,7,8,9,10,\n",
      "Pclass             int64               0                   3,1,3,1,3,3,1,3,3,2,\n",
      "Name               object              0                   Braund, Mr. Owen Harris,Cumings, Mrs. John Bradley (Florence Briggs Thayer),Heikkinen, Miss. Laina,Futrelle, Mrs. Jacques Heath (Lily May Peel),Allen, Mr. William Henry,Moran, Mr. James,McCarthy, Mr. Timothy J,Palsson, Master. Gosta Leonard,Johnson, Mrs. Oscar W (Elisabeth Vilhelmina Berg),Nasser, Mrs. Nicholas (Adele Achem),\n",
      "Sex                object              0                   male,female,female,female,male,male,male,male,female,female,\n",
      "SibSp              int64               0                   1,1,0,1,0,0,0,3,0,1,\n",
      "Parch              int64               0                   0,0,0,0,0,0,0,1,2,0,\n",
      "Ticket             object              0                   A/5 21171,PC 17599,STON/O2. 3101282,113803,373450,330877,17463,349909,347742,237736,\n",
      "==================================================\n"
     ]
    }
   ],
   "source": [
    "oopTitanic.information()"
   ]
  },
  {
   "cell_type": "markdown",
   "id": "02c1236d",
   "metadata": {},
   "source": [
    "전처리 후 데이터 정보 다시확인"
   ]
  },
  {
   "cell_type": "code",
   "execution_count": 35,
   "id": "39b6c575",
   "metadata": {},
   "outputs": [],
   "source": [
    "oopTitanic.preprocessing(strategy_type='strategy1')"
   ]
  },
  {
   "cell_type": "code",
   "execution_count": 36,
   "id": "7c3d87b3",
   "metadata": {},
   "outputs": [
    {
     "name": "stdout",
     "output_type": "stream",
     "text": [
      "==================================================\n",
      "FEATURE NAME     DATA FORMAT      # OF MISSING VALUES       SAMPLES         \n",
      "Pclass_1           uint8               0                   0,1,0,1,0,0,1,0,0,0,\n",
      "Embarked_1         uint8               0                   0,0,0,0,0,1,0,0,0,0,\n",
      "FareBin            int32               0                   0,3,1,3,1,1,3,2,1,2,\n",
      "FamilySize         int64               0                   2,2,1,2,1,1,1,5,3,2,\n",
      "SibSp              int64               0                   1,1,0,1,0,0,0,3,0,1,\n",
      "IsAlone_1          uint8               0                   0,0,1,0,1,1,1,0,0,0,\n",
      "IsAlone_0          uint8               0                   1,1,0,1,0,0,0,1,1,1,\n",
      "Title_4            uint8               0                   0,1,0,1,0,0,0,0,1,1,\n",
      "Title_3            uint8               0                   1,0,0,0,1,1,1,0,0,0,\n",
      "Title_2            uint8               0                   0,0,1,0,0,0,0,0,0,0,\n",
      "Title_1            uint8               0                   0,0,0,0,0,0,0,0,0,0,\n",
      "Title_0            uint8               0                   0,0,0,0,0,0,0,1,0,0,\n",
      "Embarked_2         uint8               0                   1,0,1,1,1,0,1,1,1,0,\n",
      "Embarked_0         uint8               0                   0,1,0,0,0,0,0,0,0,1,\n",
      "Pclass_2           uint8               0                   0,0,0,0,0,0,0,0,0,1,\n",
      "Parch_9            uint8               0                   0,0,0,0,0,0,0,0,0,0,\n",
      "Parch_6            uint8               0                   0,0,0,0,0,0,0,0,0,0,\n",
      "Parch_5            uint8               0                   0,0,0,0,0,0,0,0,0,0,\n",
      "Parch_4            uint8               0                   0,0,0,0,0,0,0,0,0,0,\n",
      "Parch_3            uint8               0                   0,0,0,0,0,0,0,0,0,0,\n",
      "Parch_2            uint8               0                   0,0,0,0,0,0,0,0,1,0,\n",
      "Parch_1            uint8               0                   0,0,0,0,0,0,0,1,0,0,\n",
      "Parch_0            uint8               0                   1,1,1,1,1,1,1,0,0,1,\n",
      "Sex_1              uint8               0                   1,0,0,0,1,1,1,1,0,0,\n",
      "Sex_0              uint8               0                   0,1,1,1,0,0,0,0,1,1,\n",
      "Pclass_3           uint8               0                   1,0,1,0,1,1,0,1,1,0,\n",
      "AgeBin             int32               0                   1,2,1,2,2,1,3,0,1,0,\n",
      "==================================================\n"
     ]
    }
   ],
   "source": [
    "oopTitanic.information()"
   ]
  },
  {
   "cell_type": "markdown",
   "id": "32f20d45",
   "metadata": {},
   "source": [
    "시각화"
   ]
  },
  {
   "cell_type": "code",
   "execution_count": 37,
   "id": "345eb5fc",
   "metadata": {},
   "outputs": [
    {
     "data": {
      "image/png": "[encoded data removed]",
      "text/plain": [
       "<Figure size 1080x864 with 1 Axes>"
      ]
     },
     "metadata": {},
     "output_type": "display_data"
    }
   ],
   "source": [
    "oopTitanic.visualize(visualizer_type='RadViz', number_of_features=None)"
   ]
  },
  {
   "cell_type": "markdown",
   "id": "e8ba1cb1",
   "metadata": {},
   "source": [
    "그리드 서치"
   ]
  },
  {
   "cell_type": "code",
   "execution_count": 38,
   "id": "786bc1d1",
   "metadata": {},
   "outputs": [
    {
     "name": "stdout",
     "output_type": "stream",
     "text": [
      "KNeighborsClassifier  trained and used for prediction on test data...\n",
      "Submission saved file name:  strategy1_kneighborsclassifier.csv\n",
      "\n",
      "LogisticRegression  trained and used for prediction on test data...\n",
      "Submission saved file name:  strategy1_logisticregression.csv\n",
      "\n",
      "SVC  trained and used for prediction on test data...\n",
      "Submission saved file name:  strategy1_svc.csv\n",
      "\n",
      "DecisionTreeClassifier  trained and used for prediction on test data...\n",
      "Submission saved file name:  strategy1_decisiontreeclassifier.csv\n",
      "\n",
      "RandomForestClassifier  trained and used for prediction on test data...\n",
      "Submission saved file name:  strategy1_randomforestclassifier.csv\n",
      "\n"
     ]
    }
   ],
   "source": [
    "oopTitanic.machine_learning()"
   ]
  },
  {
   "cell_type": "code",
   "execution_count": 39,
   "id": "e3079958",
   "metadata": {},
   "outputs": [
    {
     "name": "stdout",
     "output_type": "stream",
     "text": [
      "KNeighborsClassifier train accuracy is 85.410\n",
      "LogisticRegression train accuracy is 82.940\n",
      "SVC train accuracy is 83.160\n",
      "DecisionTreeClassifier train accuracy is 85.520\n",
      "RandomForestClassifier train accuracy is 85.300\n"
     ]
    }
   ],
   "source": [
    "oopTitanic.show_result()"
   ]
  },
  {
   "cell_type": "code",
   "execution_count": null,
   "id": "15d6e5c8",
   "metadata": {},
   "outputs": [],
   "source": []
  }
 ],
 "metadata": {
  "kernelspec": {
   "display_name": "Python 3 (ipykernel)",
   "language": "python",
   "name": "python3"
  },
  "language_info": {
   "codemirror_mode": {
    "name": "ipython",
    "version": 3
   },
   "file_extension": ".py",
   "mimetype": "text/x-python",
   "name": "python",
   "nbconvert_exporter": "python",
   "pygments_lexer": "ipython3",
   "version": "3.9.12"
  }
 },
 "nbformat": 4,
 "nbformat_minor": 5
}
