{
 "cells": [
  {
   "cell_type": "markdown",
   "id": "d1177759",
   "metadata": {},
   "source": [
    "## 2.3 1D Convolutional Neural Network Models for Human Activity Recognition"
   ]
  },
  {
   "cell_type": "markdown",
   "id": "b8e647e8",
   "metadata": {},
   "source": [
    "<div style=\"text-align: right\"> <b>Author : Kwang Myung Yu</b></div>\n",
    "<div style=\"text-align: right\\\"> Initial upload: 2022.4.26 </div>\n",
    "<div style=\"text-align: right\\\"> Last update: 2022.4.26</div>"
   ]
  },
  {
   "cell_type": "markdown",
   "id": "0a776989",
   "metadata": {},
   "source": [
    "- 출처 : https://machinelearningmastery.com/cnn-models-for-human-activity-recognition-time-series-classification/"
   ]
  },
  {
   "cell_type": "code",
   "execution_count": 1,
   "id": "fb9c7512",
   "metadata": {},
   "outputs": [],
   "source": [
    "import os\n",
    "import numpy as np\n",
    "import pandas as pd\n",
    "import matplotlib.pyplot as plt\n",
    "import seaborn as sns\n",
    "from scipy import stats\n",
    "import warnings; warnings.filterwarnings('ignore')\n",
    "plt.style.use('ggplot')\n",
    "%matplotlib inline\n",
    "\n",
    "from scipy.signal import find_peaks"
   ]
  },
  {
   "cell_type": "code",
   "execution_count": 2,
   "id": "3d38ae41",
   "metadata": {},
   "outputs": [
    {
     "data": {
      "text/html": [
       "<svg  width=\"550\" height=\"55\"><rect x=\"0\" y=\"0\" width=\"55\" height=\"55\" style=\"fill:#00798c;stroke-width:2;stroke:rgb(255,255,255)\"/><rect x=\"55\" y=\"0\" width=\"55\" height=\"55\" style=\"fill:#d1495b;stroke-width:2;stroke:rgb(255,255,255)\"/><rect x=\"110\" y=\"0\" width=\"55\" height=\"55\" style=\"fill:#edae49;stroke-width:2;stroke:rgb(255,255,255)\"/><rect x=\"165\" y=\"0\" width=\"55\" height=\"55\" style=\"fill:#66a182;stroke-width:2;stroke:rgb(255,255,255)\"/><rect x=\"220\" y=\"0\" width=\"55\" height=\"55\" style=\"fill:#4a4a4a;stroke-width:2;stroke:rgb(255,255,255)\"/><rect x=\"275\" y=\"0\" width=\"55\" height=\"55\" style=\"fill:#1a508b;stroke-width:2;stroke:rgb(255,255,255)\"/><rect x=\"330\" y=\"0\" width=\"55\" height=\"55\" style=\"fill:#e3120b;stroke-width:2;stroke:rgb(255,255,255)\"/><rect x=\"385\" y=\"0\" width=\"55\" height=\"55\" style=\"fill:#c5a880;stroke-width:2;stroke:rgb(255,255,255)\"/><rect x=\"440\" y=\"0\" width=\"55\" height=\"55\" style=\"fill:#9f5f80;stroke-width:2;stroke:rgb(255,255,255)\"/><rect x=\"495\" y=\"0\" width=\"55\" height=\"55\" style=\"fill:#6f9eaf;stroke-width:2;stroke:rgb(255,255,255)\"/></svg>"
      ],
      "text/plain": [
       "[(0.0, 0.4745098039215686, 0.5490196078431373),\n",
       " (0.8196078431372549, 0.28627450980392155, 0.3568627450980392),\n",
       " (0.9294117647058824, 0.6823529411764706, 0.28627450980392155),\n",
       " (0.4, 0.6313725490196078, 0.5098039215686274),\n",
       " (0.2901960784313726, 0.2901960784313726, 0.2901960784313726),\n",
       " (0.10196078431372549, 0.3137254901960784, 0.5450980392156862),\n",
       " (0.8901960784313725, 0.07058823529411765, 0.043137254901960784),\n",
       " (0.7725490196078432, 0.6588235294117647, 0.5019607843137255),\n",
       " (0.6235294117647059, 0.37254901960784315, 0.5019607843137255),\n",
       " (0.43529411764705883, 0.6196078431372549, 0.6862745098039216)]"
      ]
     },
     "execution_count": 2,
     "metadata": {},
     "output_type": "execute_result"
    }
   ],
   "source": [
    "colors = [\"#00798c\", \"#d1495b\", '#edae49', '#66a182', '#4a4a4a',\n",
    "          '#1a508b', '#e3120b', '#c5a880', '#9F5F80', '#6F9EAF',\n",
    "          '#0278ae','#F39233', '#A7C5EB', '#54E346', '#ABCE74',\n",
    "        '#d6b0b1', '#58391c', '#cdd0cb', '#ffb396', '#6930c3']\n",
    "sns.color_palette(colors[:10])"
   ]
  },
  {
   "cell_type": "code",
   "execution_count": 3,
   "id": "2458f6bb",
   "metadata": {},
   "outputs": [],
   "source": [
    "def load_file(filepath):\n",
    "    df = pd.read_csv(filepath, header=None, delim_whitespace=True)\n",
    "    return df.values"
   ]
  },
  {
   "cell_type": "code",
   "execution_count": 4,
   "id": "dcb124d3",
   "metadata": {},
   "outputs": [],
   "source": [
    "data = load_file('data/UCI HAR Dataset/train/Inertial Signals/total_acc_y_train.txt')"
   ]
  },
  {
   "cell_type": "code",
   "execution_count": 6,
   "id": "e1e28063",
   "metadata": {},
   "outputs": [
    {
     "data": {
      "text/plain": [
       "(7352, 128)"
      ]
     },
     "execution_count": 6,
     "metadata": {},
     "output_type": "execute_result"
    }
   ],
   "source": [
    "data.shape"
   ]
  },
  {
   "cell_type": "markdown",
   "id": "3c2725eb",
   "metadata": {},
   "source": [
    "다음 단계는 파을 그룹을 로드한다.....   \n",
    "\n",
    "시계열에서는 다음과 같은 구조로 데이터가 되어 있어야 한다.  \n",
    "데이터를 3D로 만든다.\n",
    "\n",
    "[samples, timesteps, features]"
   ]
  },
  {
   "cell_type": "code",
   "execution_count": 7,
   "id": "2ecd4291",
   "metadata": {},
   "outputs": [],
   "source": [
    "def load_group(filenames, prefix=''):\n",
    "\tloaded = list()\n",
    "\tfor name in filenames:\n",
    "\t\tdata = load_file(prefix + name)\n",
    "\t\tloaded.append(data)\n",
    "\t# stack group so that features are the 3rd dimension\n",
    "\tloaded = np.dstack(loaded)\n",
    "\treturn loaded"
   ]
  },
  {
   "cell_type": "code",
   "execution_count": 8,
   "id": "e254a4b2",
   "metadata": {},
   "outputs": [
    {
     "name": "stdout",
     "output_type": "stream",
     "text": [
      "(7352, 128, 3)\n"
     ]
    }
   ],
   "source": [
    "filenames = ['total_acc_x_train.txt', 'total_acc_y_train.txt', 'total_acc_z_train.txt']\n",
    "total_acc = load_group(filenames, prefix='data/UCI HAR Dataset/train/Inertial Signals/')\n",
    "print(total_acc.shape)"
   ]
  },
  {
   "cell_type": "markdown",
   "id": "c8657e07",
   "metadata": {},
   "source": [
    "- 세번째 축으로 결합하여 3차원을 만듬"
   ]
  },
  {
   "cell_type": "markdown",
   "id": "b46f6551",
   "metadata": {},
   "source": [
    "이제 두 함수를 사용하여 학습용, 시험용 데이터셋을 로드하는 함수를 만든다."
   ]
  },
  {
   "cell_type": "code",
   "execution_count": 9,
   "id": "e17f98d8",
   "metadata": {},
   "outputs": [],
   "source": [
    "# load a dataset group, such as train or test\n",
    "def load_dataset_group(group, prefix=''):\n",
    "\tfilepath = prefix + group + '/Inertial Signals/'\n",
    "\t# load all 9 files as a single array\n",
    "\tfilenames = list()\n",
    "\t# total acceleration\n",
    "\tfilenames += ['total_acc_x_'+group+'.txt', 'total_acc_y_'+group+'.txt', 'total_acc_z_'+group+'.txt']\n",
    "\t# body acceleration\n",
    "\tfilenames += ['body_acc_x_'+group+'.txt', 'body_acc_y_'+group+'.txt', 'body_acc_z_'+group+'.txt']\n",
    "\t# body gyroscope\n",
    "\tfilenames += ['body_gyro_x_'+group+'.txt', 'body_gyro_y_'+group+'.txt', 'body_gyro_z_'+group+'.txt']\n",
    "\t# load input data\n",
    "\tX = load_group(filenames, filepath)\n",
    "\t# load class output\n",
    "\ty = load_file(prefix + group + '/y_'+group+'.txt')\n",
    "\treturn X, y"
   ]
  },
  {
   "cell_type": "markdown",
   "id": "4880d934",
   "metadata": {},
   "source": [
    "마지막으로 학습, 시험용 데이터를 만드는 함수이다. 여기에는 카테고리 인코딩, 정규화 부분 등도 있다."
   ]
  },
  {
   "cell_type": "code",
   "execution_count": 11,
   "id": "998c192c",
   "metadata": {},
   "outputs": [],
   "source": [
    "from tensorflow.keras.utils import to_categorical"
   ]
  },
  {
   "cell_type": "code",
   "execution_count": 12,
   "id": "85071f32",
   "metadata": {},
   "outputs": [],
   "source": [
    "def load_dataset(prefix=''):\n",
    "\t# load all train\n",
    "\ttrainX, trainy = load_dataset_group('train', prefix + 'data/UCI HAR Dataset/')\n",
    "\tprint(trainX.shape, trainy.shape)\n",
    "\t# load all test\n",
    "\ttestX, testy = load_dataset_group('test', prefix + 'data/UCI HAR Dataset/')\n",
    "\tprint(testX.shape, testy.shape)\n",
    "\t# zero-offset class values\n",
    "\ttrainy = trainy - 1\n",
    "\ttesty = testy - 1\n",
    "\t# one hot encode y\n",
    "\ttrainy = to_categorical(trainy)\n",
    "\ttesty = to_categorical(testy)\n",
    "\tprint(trainX.shape, trainy.shape, testX.shape, testy.shape)\n",
    "\treturn trainX, trainy, testX, testy"
   ]
  },
  {
   "cell_type": "markdown",
   "id": "78a247df",
   "metadata": {},
   "source": [
    "### Fit and Evaluate Model"
   ]
  },
  {
   "cell_type": "code",
   "execution_count": 40,
   "id": "e27f09a9",
   "metadata": {},
   "outputs": [],
   "source": [
    "from tensorflow.keras.models import Sequential\n",
    "from tensorflow.keras.layers import Dense\n",
    "from tensorflow.keras.layers import Flatten\n",
    "from tensorflow.keras.layers import Dropout\n",
    "from tensorflow.keras.layers import Conv1D\n",
    "from tensorflow.keras.layers import MaxPooling1D\n",
    "\n",
    "from tensorflow.keras.models import Model\n",
    "from tensorflow.keras.layers import Input\n",
    "from tensorflow.keras.layers import concatenate\n",
    "from tensorflow.keras.utils import plot_model"
   ]
  },
  {
   "cell_type": "code",
   "execution_count": 16,
   "id": "2f70ff1f",
   "metadata": {},
   "outputs": [],
   "source": [
    "def evaluate_model(trainX, trainy, testX, testy):\n",
    "\tverbose, epochs, batch_size = 0, 10, 32\n",
    "\tn_timesteps, n_features, n_outputs = trainX.shape[1], trainX.shape[2], trainy.shape[1] \n",
    "\tmodel = Sequential()\n",
    "\tmodel.add(Conv1D(filters=64, kernel_size=3, activation='relu', input_shape=(n_timesteps,n_features)))\n",
    "\tmodel.add(Conv1D(filters=64, kernel_size=3, activation='relu'))\n",
    "\tmodel.add(Dropout(0.5))\n",
    "\tmodel.add(MaxPooling1D(pool_size=2))\n",
    "\tmodel.add(Flatten())\n",
    "\tmodel.add(Dense(100, activation='relu'))\n",
    "\tmodel.add(Dense(n_outputs, activation='softmax'))\n",
    "\tmodel.compile(loss='categorical_crossentropy', optimizer='adam', metrics=['accuracy'])\n",
    "\t# fit network\n",
    "\tmodel.fit(trainX, trainy, epochs=epochs, batch_size=batch_size, verbose=verbose)\n",
    "\t# evaluate model\n",
    "\t_, accuracy = model.evaluate(testX, testy, batch_size=batch_size, verbose=0)\n",
    "\treturn accuracy"
   ]
  },
  {
   "cell_type": "markdown",
   "id": "9d4ec2d9",
   "metadata": {},
   "source": [
    "### Summearize Results"
   ]
  },
  {
   "cell_type": "code",
   "execution_count": 21,
   "id": "8101b2e6",
   "metadata": {},
   "outputs": [],
   "source": [
    "# summarize scores\n",
    "def summarize_results(scores):\n",
    "\tprint(scores)\n",
    "\tm, s = np.mean(scores), np.std(scores)\n",
    "\tprint('Accuracy: %.3f%% (+/-%.3f)' % (m, s))"
   ]
  },
  {
   "cell_type": "code",
   "execution_count": 22,
   "id": "6f70aa28",
   "metadata": {},
   "outputs": [],
   "source": [
    "# run an experiment\n",
    "def run_experiment(repeats=10):\n",
    "\t# load data\n",
    "\ttrainX, trainy, testX, testy = load_dataset()\n",
    "\t# repeat experiment\n",
    "\tscores = list()\n",
    "\tfor r in range(repeats):\n",
    "\t\tscore = evaluate_model(trainX, trainy, testX, testy)\n",
    "\t\tscore = score * 100.0\n",
    "\t\tprint('>#%d: %.3f' % (r+1, score))\n",
    "\t\tscores.append(score)\n",
    "\t# summarize results\n",
    "\tsummarize_results(scores)"
   ]
  },
  {
   "cell_type": "code",
   "execution_count": 23,
   "id": "85fc2226",
   "metadata": {},
   "outputs": [
    {
     "name": "stdout",
     "output_type": "stream",
     "text": [
      "(7352, 128, 9) (7352, 1)\n",
      "(2947, 128, 9) (2947, 1)\n",
      "(7352, 128, 9) (7352, 6) (2947, 128, 9) (2947, 6)\n",
      ">#1: 89.650\n",
      ">#2: 88.599\n",
      ">#3: 90.295\n",
      ">#4: 90.838\n",
      ">#5: 89.175\n",
      ">#6: 89.515\n",
      ">#7: 91.110\n",
      ">#8: 90.601\n",
      ">#9: 91.483\n",
      ">#10: 88.022\n",
      "[89.65049386024475, 88.59857320785522, 90.29521346092224, 90.83814024925232, 89.17543292045593, 89.51476216316223, 91.10960364341736, 90.60060977935791, 91.48286581039429, 88.021719455719]\n",
      "Accuracy: 89.929% (+/-1.070)\n"
     ]
    }
   ],
   "source": [
    "run_experiment()"
   ]
  },
  {
   "cell_type": "code",
   "execution_count": null,
   "id": "ea8921e4",
   "metadata": {},
   "outputs": [],
   "source": []
  },
  {
   "cell_type": "markdown",
   "id": "02defb84",
   "metadata": {},
   "source": [
    "### 튜닝하기"
   ]
  },
  {
   "cell_type": "markdown",
   "id": "1eb9eec9",
   "metadata": {},
   "source": [
    "#### Data preparation"
   ]
  },
  {
   "cell_type": "markdown",
   "id": "41c067db",
   "metadata": {},
   "source": [
    "원본 데이터가 -1 ~1 범위로 스케일 되어있다. 그런데 이 것이 잘된 것인지는 알수 없다.   \n",
    "\n",
    "따라서 정규분포로 스케일링하는 것이 도움이 될 수 있다.    \n",
    "\n",
    "각 변수의 분포는 히스토그램을 통해 확인 가능하다.  \n",
    "\n",
    "그런데 데이터가 128개 스텝으로 쪼개져 있어서, 그리고 50%가 오버랩 되어서, 중복부분을 제거하고 윈도우도 제거해야한다."
   ]
  },
  {
   "cell_type": "markdown",
   "id": "ede081d7",
   "metadata": {},
   "source": [
    "이를 반영한 분포 확인 함수는 다음과 같다."
   ]
  },
  {
   "cell_type": "code",
   "execution_count": 24,
   "id": "c790dfae",
   "metadata": {},
   "outputs": [],
   "source": [
    "def plot_variable_distributions(trainX):\n",
    "\t# remove overlap\n",
    "\tcut = int(trainX.shape[1] / 2)\n",
    "\tlongX = trainX[:, -cut:, :]\n",
    "\t# flatten windows\n",
    "\tlongX = longX.reshape((longX.shape[0] * longX.shape[1], longX.shape[2]))\n",
    "\tprint(longX.shape)\n",
    "\tplt.figure(figsize = (16, 12))\n",
    "\txaxis = None\n",
    "\tfor i in range(longX.shape[1]):\n",
    "\t\tax = plt.subplot(longX.shape[1], 1, i+1, sharex=xaxis)\n",
    "\t\tax.set_xlim(-1, 1)\n",
    "\t\tif i == 0:\n",
    "\t\t\txaxis = ax\n",
    "\t\tplt.hist(longX[:, i], bins=100)\n",
    "\tplt.show()"
   ]
  },
  {
   "cell_type": "code",
   "execution_count": 25,
   "id": "abab863b",
   "metadata": {},
   "outputs": [
    {
     "name": "stdout",
     "output_type": "stream",
     "text": [
      "(7352, 128, 9) (7352, 1)\n",
      "(2947, 128, 9) (2947, 1)\n",
      "(7352, 128, 9) (7352, 6) (2947, 128, 9) (2947, 6)\n",
      "(470528, 9)\n"
     ]
    },
    {
     "data": {
      "image/png": "[encoded data removed]",
      "text/plain": [
       "<Figure size 1152x864 with 9 Axes>"
      ]
     },
     "metadata": {
      "needs_background": "light"
     },
     "output_type": "display_data"
    }
   ],
   "source": [
    "# load data\n",
    "trainX, trainy, testX, testy = load_dataset()\n",
    "# plot histograms\n",
    "plot_variable_distributions(trainX)"
   ]
  },
  {
   "cell_type": "markdown",
   "id": "738f090f",
   "metadata": {},
   "source": [
    "위에서 부터 순서대로   \n",
    "\n",
    "- Total Acceleration x\n",
    "- Total Acceleration y\n",
    "- Total Acceleration z\n",
    "- Body Acceleration x\n",
    "- Body Acceleration y\n",
    "- Body Acceleration z\n",
    "- Body Gyroscope x\n",
    "- Body Gyroscope y\n",
    "- Body Gyroscope z"
   ]
  },
  {
   "cell_type": "markdown",
   "id": "c16dbaca",
   "metadata": {},
   "source": [
    "이제 스케일링하는 함수를 만들어보자."
   ]
  },
  {
   "cell_type": "code",
   "execution_count": 26,
   "id": "7c58b14b",
   "metadata": {},
   "outputs": [],
   "source": [
    "from sklearn.preprocessing import StandardScaler"
   ]
  },
  {
   "cell_type": "code",
   "execution_count": 27,
   "id": "016145ad",
   "metadata": {},
   "outputs": [],
   "source": [
    "def scale_data(trainX, testX, standardize):\n",
    "\t# remove overlap\n",
    "\tcut = int(trainX.shape[1] / 2)\n",
    "\tlongX = trainX[:, -cut:, :]\n",
    "\t# flatten windows\n",
    "\tlongX = longX.reshape((longX.shape[0] * longX.shape[1], longX.shape[2]))\n",
    "\t# flatten train and test\n",
    "\tflatTrainX = trainX.reshape((trainX.shape[0] * trainX.shape[1], trainX.shape[2]))\n",
    "\tflatTestX = testX.reshape((testX.shape[0] * testX.shape[1], testX.shape[2]))\n",
    "\t# standardize\n",
    "\tif standardize:\n",
    "\t\ts = StandardScaler()\n",
    "\t\t# fit on training data\n",
    "\t\ts.fit(longX)\n",
    "\t\t# apply to training and test data\n",
    "\t\tlongX = s.transform(longX)\n",
    "\t\tflatTrainX = s.transform(flatTrainX)\n",
    "\t\tflatTestX = s.transform(flatTestX)\n",
    "\t# reshape\n",
    "\tflatTrainX = flatTrainX.reshape((trainX.shape))\n",
    "\tflatTestX = flatTestX.reshape((testX.shape))\n",
    "\treturn flatTrainX, flatTestX"
   ]
  },
  {
   "cell_type": "code",
   "execution_count": 28,
   "id": "7c2fa8fd",
   "metadata": {},
   "outputs": [],
   "source": [
    "# fit and evaluate a model\n",
    "def evaluate_model(trainX, trainy, testX, testy, param):\n",
    "\tverbose, epochs, batch_size = 0, 10, 32\n",
    "\tn_timesteps, n_features, n_outputs = trainX.shape[1], trainX.shape[2], trainy.shape[1]\n",
    "\t# scale data\n",
    "\ttrainX, testX = scale_data(trainX, testX, param)\n",
    "\tmodel = Sequential()\n",
    "\tmodel.add(Conv1D(filters=64, kernel_size=3, activation='relu', input_shape=(n_timesteps,n_features)))\n",
    "\tmodel.add(Conv1D(filters=64, kernel_size=3, activation='relu'))\n",
    "\tmodel.add(Dropout(0.5))\n",
    "\tmodel.add(MaxPooling1D(pool_size=2))\n",
    "\tmodel.add(Flatten())\n",
    "\tmodel.add(Dense(100, activation='relu'))\n",
    "\tmodel.add(Dense(n_outputs, activation='softmax'))\n",
    "\tmodel.compile(loss='categorical_crossentropy', optimizer='adam', metrics=['accuracy'])\n",
    "\t# fit network\n",
    "\tmodel.fit(trainX, trainy, epochs=epochs, batch_size=batch_size, verbose=verbose)\n",
    "\t# evaluate model\n",
    "\t_, accuracy = model.evaluate(testX, testy, batch_size=batch_size, verbose=0)\n",
    "\treturn accuracy"
   ]
  },
  {
   "cell_type": "code",
   "execution_count": 30,
   "id": "340e6900",
   "metadata": {},
   "outputs": [],
   "source": [
    "# summarize scores\n",
    "def summarize_results(scores, params):\n",
    "\tprint(scores, params)\n",
    "\t# summarize mean and standard deviation\n",
    "\tfor i in range(len(scores)):\n",
    "\t\tm, s = np.mean(scores[i]), np.std(scores[i])\n",
    "\t\tprint('Param=%s: %.3f%% (+/-%.3f)' % (params[i], m, s))\n",
    "\t# boxplot of scores\n",
    "\tplt.boxplot(scores, labels=params)\n",
    "\tplt.savefig('exp_cnn_standardize.png')"
   ]
  },
  {
   "cell_type": "code",
   "execution_count": 31,
   "id": "ca33ff07",
   "metadata": {},
   "outputs": [],
   "source": [
    "# run an experiment\n",
    "def run_experiment(params, repeats=10):\n",
    "\t# load data\n",
    "\ttrainX, trainy, testX, testy = load_dataset()\n",
    "\t# test each parameter\n",
    "\tall_scores = list()\n",
    "\tfor p in params:\n",
    "\t\t# repeat experiment\n",
    "\t\tscores = list()\n",
    "\t\tfor r in range(repeats):\n",
    "\t\t\tscore = evaluate_model(trainX, trainy, testX, testy, p)\n",
    "\t\t\tscore = score * 100.0\n",
    "\t\t\tprint('>p=%s #%d: %.3f' % (p, r+1, score))\n",
    "\t\t\tscores.append(score)\n",
    "\t\tall_scores.append(scores)\n",
    "\t# summarize results\n",
    "\tsummarize_results(all_scores, params)"
   ]
  },
  {
   "cell_type": "code",
   "execution_count": 32,
   "id": "dc86213c",
   "metadata": {},
   "outputs": [
    {
     "name": "stdout",
     "output_type": "stream",
     "text": [
      "(7352, 128, 9) (7352, 1)\n",
      "(2947, 128, 9) (2947, 1)\n",
      "(7352, 128, 9) (7352, 6) (2947, 128, 9) (2947, 6)\n",
      ">p=False #1: 90.736\n",
      ">p=False #2: 90.397\n",
      ">p=False #3: 91.415\n",
      ">p=False #4: 92.263\n",
      ">p=False #5: 89.854\n",
      ">p=False #6: 91.619\n",
      ">p=False #7: 91.788\n",
      ">p=False #8: 87.106\n",
      ">p=False #9: 91.042\n",
      ">p=False #10: 91.313\n",
      ">p=True #1: 89.990\n",
      ">p=True #2: 91.415\n",
      ">p=True #3: 92.535\n",
      ">p=True #4: 92.908\n",
      ">p=True #5: 92.094\n",
      ">p=True #6: 91.381\n",
      ">p=True #7: 92.501\n",
      ">p=True #8: 90.295\n",
      ">p=True #9: 92.738\n",
      ">p=True #10: 90.940\n",
      "[[90.73634147644043, 90.39701223373413, 91.41499996185303, 92.2633171081543, 89.85409140586853, 91.6185975074768, 91.78826212882996, 87.10553050041199, 91.0417377948761, 91.31320118904114], [89.98982310295105, 91.41499996185303, 92.53478050231934, 92.90804266929626, 92.09365248680115, 91.3810670375824, 92.5008475780487, 90.29521346092224, 92.73837804794312, 90.93993902206421]] [False, True]\n",
      "Param=False: 90.753% (+/-1.385)\n",
      "Param=True: 91.680% (+/-0.984)\n"
     ]
    },
    {
     "data": {
      "image/png": "[encoded data removed]",
      "text/plain": [
       "<Figure size 432x288 with 1 Axes>"
      ]
     },
     "metadata": {
      "needs_background": "light"
     },
     "output_type": "display_data"
    }
   ],
   "source": [
    "# run the experiment\n",
    "n_params = [False, True]\n",
    "run_experiment(n_params)"
   ]
  },
  {
   "cell_type": "markdown",
   "id": "8862267c",
   "metadata": {},
   "source": [
    "### 필터수  \n",
    "추후 해볼 것"
   ]
  },
  {
   "cell_type": "markdown",
   "id": "f2840d02",
   "metadata": {},
   "source": [
    "### 커널 사이즈  \n",
    "추후 해볼 것"
   ]
  },
  {
   "cell_type": "markdown",
   "id": "099108ec",
   "metadata": {},
   "source": [
    "### Multi-Headed Convolutional Neural Network"
   ]
  },
  {
   "cell_type": "markdown",
   "id": "76f8c14f",
   "metadata": {},
   "source": [
    "커널 사이즈가 각각 3, 5, 11인 모델을 사용하여 시퀀스 데이터를 각각 다른 resolution으로 읽고 해석하도록 하자."
   ]
  },
  {
   "cell_type": "code",
   "execution_count": 36,
   "id": "cc2e0e13",
   "metadata": {},
   "outputs": [],
   "source": [
    "def evaluate_model(trainX, trainy, testX, testy):\n",
    "    verbose, epochs, batch_size = 0, 10, 32\n",
    "    n_timesteps, n_features, n_outputs = trainX.shape[1], trainX.shape[2], trainy.shape[1]\n",
    "    \n",
    "    inputs1 = Input(shape=(n_timesteps, n_features))\n",
    "    conv1 = Conv1D(filters=64, kernel_size=3, activation='relu')(inputs1)\n",
    "    drop1 = Dropout(0.5)(conv1)\n",
    "    pool1 = MaxPooling1D(pool_size=2)(drop1)\n",
    "    flat1 = Flatten()(pool1)\n",
    "    \n",
    "    inputs2 = Input(shape=(n_timesteps,n_features))\n",
    "    conv2 = Conv1D(filters=64, kernel_size=5, activation='relu')(inputs2)\n",
    "    drop2 = Dropout(0.5)(conv2)\n",
    "    pool2 = MaxPooling1D(pool_size=2)(drop2)\n",
    "    flat2 = Flatten()(pool2)\n",
    "    # head 3\n",
    "    inputs3 = Input(shape=(n_timesteps,n_features))\n",
    "    conv3 = Conv1D(filters=64, kernel_size=11, activation='relu')(inputs3)\n",
    "    drop3 = Dropout(0.5)(conv3)\n",
    "    pool3 = MaxPooling1D(pool_size=2)(drop3)\n",
    "    flat3 = Flatten()(pool3)\n",
    "    \n",
    "    # merge\n",
    "    merged = concatenate([flat1, flat2, flat3])\n",
    "    # interpretation\n",
    "    dense1 = Dense(100, activation='relu')(merged)\n",
    "    outputs = Dense(n_outputs, activation='softmax')(dense1)\n",
    "    model = Model(inputs=[inputs1, inputs2, inputs3], outputs=outputs)\n",
    "    \n",
    "    # save a plot of the model\n",
    "    plot_model(model, show_shapes=True, to_file='multichannel.png')\n",
    "    model.compile(loss='categorical_crossentropy', optimizer='adam', metrics=['accuracy'])\n",
    "    # fit network\n",
    "    model.fit([trainX,trainX,trainX], trainy, epochs=epochs, batch_size=batch_size, verbose=verbose)\n",
    "    # evaluate model\n",
    "    _, accuracy = model.evaluate([testX,testX,testX], testy, batch_size=batch_size, verbose=0)\n",
    "    return accuracy"
   ]
  },
  {
   "cell_type": "code",
   "execution_count": 37,
   "id": "568ac961",
   "metadata": {},
   "outputs": [],
   "source": [
    "def summarize_results(scores):\n",
    "\tprint(scores)\n",
    "\tm, s = np.mean(scores), np.std(scores)\n",
    "\tprint('Accuracy: %.3f%% (+/-%.3f)' % (m, s))"
   ]
  },
  {
   "cell_type": "code",
   "execution_count": 38,
   "id": "df87c09b",
   "metadata": {},
   "outputs": [],
   "source": [
    "def run_experiment(repeats=10):\n",
    "\t# load data\n",
    "\ttrainX, trainy, testX, testy = load_dataset()\n",
    "\t# repeat experiment\n",
    "\tscores = list()\n",
    "\tfor r in range(repeats):\n",
    "\t\tscore = evaluate_model(trainX, trainy, testX, testy)\n",
    "\t\tscore = score * 100.0\n",
    "\t\tprint('>#%d: %.3f' % (r+1, score))\n",
    "\t\tscores.append(score)\n",
    "\t# summarize results\n",
    "\tsummarize_results(scores)"
   ]
  },
  {
   "cell_type": "code",
   "execution_count": 41,
   "id": "c12e36e1",
   "metadata": {},
   "outputs": [
    {
     "name": "stdout",
     "output_type": "stream",
     "text": [
      "(7352, 128, 9) (7352, 1)\n",
      "(2947, 128, 9) (2947, 1)\n",
      "(7352, 128, 9) (7352, 6) (2947, 128, 9) (2947, 6)\n",
      ">#1: 93.315\n",
      ">#2: 91.381\n",
      ">#3: 91.076\n",
      ">#4: 92.094\n",
      ">#5: 90.261\n",
      ">#6: 92.433\n",
      ">#7: 91.551\n",
      ">#8: 89.990\n",
      ">#9: 90.227\n",
      ">#10: 92.195\n",
      "[93.31523776054382, 91.3810670375824, 91.07567071914673, 92.09365248680115, 90.26128053665161, 92.43298172950745, 91.55073165893555, 89.98982310295105, 90.22734761238098, 92.19545125961304]\n",
      "Accuracy: 91.452% (+/-1.030)\n"
     ]
    }
   ],
   "source": [
    "run_experiment()"
   ]
  },
  {
   "cell_type": "code",
   "execution_count": null,
   "id": "951be434",
   "metadata": {},
   "outputs": [],
   "source": []
  }
 ],
 "metadata": {
  "kernelspec": {
   "display_name": "Python 3 (ipykernel)",
   "language": "python",
   "name": "python3"
  },
  "language_info": {
   "codemirror_mode": {
    "name": "ipython",
    "version": 3
   },
   "file_extension": ".py",
   "mimetype": "text/x-python",
   "name": "python",
   "nbconvert_exporter": "python",
   "pygments_lexer": "ipython3",
   "version": "3.8.12"
  }
 },
 "nbformat": 4,
 "nbformat_minor": 5
}
