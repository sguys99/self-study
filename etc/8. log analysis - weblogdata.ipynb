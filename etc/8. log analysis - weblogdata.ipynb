{
 "cells": [
  {
   "cell_type": "markdown",
   "id": "d1177759",
   "metadata": {},
   "source": [
    "## 8. log analysis - weblogdata"
   ]
  },
  {
   "cell_type": "markdown",
   "id": "b8e647e8",
   "metadata": {},
   "source": [
    "<div style=\"text-align: right\"> <b>Author : Kwang Myung Yu</b></div>\n",
    "<div style=\"text-align: right\\\"> Initial upload: 2021.11.16 </div>\n",
    "<div style=\"text-align: right\\\"> Last update: 2021.11.16</div>"
   ]
  },
  {
   "cell_type": "markdown",
   "id": "0a776989",
   "metadata": {},
   "source": [
    "- 출처 : https://www.kaggle.com/surya0307/weblogdata"
   ]
  },
  {
   "cell_type": "code",
   "execution_count": 1,
   "id": "fb9c7512",
   "metadata": {},
   "outputs": [],
   "source": [
    "import os\n",
    "import sys\n",
    "import time\n",
    "import numpy as np\n",
    "import pandas as pd\n",
    "import matplotlib.pyplot as plt\n",
    "import seaborn as sns\n",
    "from scipy import stats\n",
    "import warnings; warnings.filterwarnings('ignore')\n",
    "plt.style.use('ggplot')\n",
    "%matplotlib inline"
   ]
  },
  {
   "cell_type": "code",
   "execution_count": 2,
   "id": "3d38ae41",
   "metadata": {},
   "outputs": [
    {
     "data": {
      "text/html": [
       "<svg  width=\"550\" height=\"55\"><rect x=\"0\" y=\"0\" width=\"55\" height=\"55\" style=\"fill:#00798c;stroke-width:2;stroke:rgb(255,255,255)\"/><rect x=\"55\" y=\"0\" width=\"55\" height=\"55\" style=\"fill:#d1495b;stroke-width:2;stroke:rgb(255,255,255)\"/><rect x=\"110\" y=\"0\" width=\"55\" height=\"55\" style=\"fill:#edae49;stroke-width:2;stroke:rgb(255,255,255)\"/><rect x=\"165\" y=\"0\" width=\"55\" height=\"55\" style=\"fill:#66a182;stroke-width:2;stroke:rgb(255,255,255)\"/><rect x=\"220\" y=\"0\" width=\"55\" height=\"55\" style=\"fill:#4a4a4a;stroke-width:2;stroke:rgb(255,255,255)\"/><rect x=\"275\" y=\"0\" width=\"55\" height=\"55\" style=\"fill:#1a508b;stroke-width:2;stroke:rgb(255,255,255)\"/><rect x=\"330\" y=\"0\" width=\"55\" height=\"55\" style=\"fill:#e3120b;stroke-width:2;stroke:rgb(255,255,255)\"/><rect x=\"385\" y=\"0\" width=\"55\" height=\"55\" style=\"fill:#c5a880;stroke-width:2;stroke:rgb(255,255,255)\"/><rect x=\"440\" y=\"0\" width=\"55\" height=\"55\" style=\"fill:#9f5f80;stroke-width:2;stroke:rgb(255,255,255)\"/><rect x=\"495\" y=\"0\" width=\"55\" height=\"55\" style=\"fill:#6f9eaf;stroke-width:2;stroke:rgb(255,255,255)\"/></svg>"
      ],
      "text/plain": [
       "[(0.0, 0.4745098039215686, 0.5490196078431373),\n",
       " (0.8196078431372549, 0.28627450980392155, 0.3568627450980392),\n",
       " (0.9294117647058824, 0.6823529411764706, 0.28627450980392155),\n",
       " (0.4, 0.6313725490196078, 0.5098039215686274),\n",
       " (0.2901960784313726, 0.2901960784313726, 0.2901960784313726),\n",
       " (0.10196078431372549, 0.3137254901960784, 0.5450980392156862),\n",
       " (0.8901960784313725, 0.07058823529411765, 0.043137254901960784),\n",
       " (0.7725490196078432, 0.6588235294117647, 0.5019607843137255),\n",
       " (0.6235294117647059, 0.37254901960784315, 0.5019607843137255),\n",
       " (0.43529411764705883, 0.6196078431372549, 0.6862745098039216)]"
      ]
     },
     "execution_count": 2,
     "metadata": {},
     "output_type": "execute_result"
    }
   ],
   "source": [
    "colors = [\"#00798c\", \"#d1495b\", '#edae49', '#66a182', '#4a4a4a',\n",
    "          '#1a508b', '#e3120b', '#c5a880', '#9F5F80', '#6F9EAF',\n",
    "          '#0278ae','#F39233', '#A7C5EB', '#54E346', '#ABCE74',\n",
    "        '#d6b0b1', '#58391c', '#cdd0cb', '#ffb396', '#6930c3']\n",
    "sns.color_palette(colors[:10])"
   ]
  },
  {
   "cell_type": "code",
   "execution_count": 3,
   "id": "9e4f3a1f",
   "metadata": {},
   "outputs": [],
   "source": [
    "data = pd.read_csv('./data/weblog/weblog.csv')"
   ]
  },
  {
   "cell_type": "code",
   "execution_count": 4,
   "id": "7aeb99e2",
   "metadata": {},
   "outputs": [
    {
     "data": {
      "text/html": [
       "<div>\n",
       "<style scoped>\n",
       "    .dataframe tbody tr th:only-of-type {\n",
       "        vertical-align: middle;\n",
       "    }\n",
       "\n",
       "    .dataframe tbody tr th {\n",
       "        vertical-align: top;\n",
       "    }\n",
       "\n",
       "    .dataframe thead th {\n",
       "        text-align: right;\n",
       "    }\n",
       "</style>\n",
       "<table border=\"1\" class=\"dataframe\">\n",
       "  <thead>\n",
       "    <tr style=\"text-align: right;\">\n",
       "      <th></th>\n",
       "      <th>IP</th>\n",
       "      <th>Time</th>\n",
       "      <th>URL</th>\n",
       "      <th>Staus</th>\n",
       "    </tr>\n",
       "  </thead>\n",
       "  <tbody>\n",
       "    <tr>\n",
       "      <th>0</th>\n",
       "      <td>10.128.2.1</td>\n",
       "      <td>[29/Nov/2017:06:58:55</td>\n",
       "      <td>GET /login.php HTTP/1.1</td>\n",
       "      <td>200</td>\n",
       "    </tr>\n",
       "    <tr>\n",
       "      <th>1</th>\n",
       "      <td>10.128.2.1</td>\n",
       "      <td>[29/Nov/2017:06:59:02</td>\n",
       "      <td>POST /process.php HTTP/1.1</td>\n",
       "      <td>302</td>\n",
       "    </tr>\n",
       "    <tr>\n",
       "      <th>2</th>\n",
       "      <td>10.128.2.1</td>\n",
       "      <td>[29/Nov/2017:06:59:03</td>\n",
       "      <td>GET /home.php HTTP/1.1</td>\n",
       "      <td>200</td>\n",
       "    </tr>\n",
       "    <tr>\n",
       "      <th>3</th>\n",
       "      <td>10.131.2.1</td>\n",
       "      <td>[29/Nov/2017:06:59:04</td>\n",
       "      <td>GET /js/vendor/moment.min.js HTTP/1.1</td>\n",
       "      <td>200</td>\n",
       "    </tr>\n",
       "    <tr>\n",
       "      <th>4</th>\n",
       "      <td>10.130.2.1</td>\n",
       "      <td>[29/Nov/2017:06:59:06</td>\n",
       "      <td>GET /bootstrap-3.3.7/js/bootstrap.js HTTP/1.1</td>\n",
       "      <td>200</td>\n",
       "    </tr>\n",
       "  </tbody>\n",
       "</table>\n",
       "</div>"
      ],
      "text/plain": [
       "           IP                   Time  \\\n",
       "0  10.128.2.1  [29/Nov/2017:06:58:55   \n",
       "1  10.128.2.1  [29/Nov/2017:06:59:02   \n",
       "2  10.128.2.1  [29/Nov/2017:06:59:03   \n",
       "3  10.131.2.1  [29/Nov/2017:06:59:04   \n",
       "4  10.130.2.1  [29/Nov/2017:06:59:06   \n",
       "\n",
       "                                             URL Staus  \n",
       "0                        GET /login.php HTTP/1.1   200  \n",
       "1                     POST /process.php HTTP/1.1   302  \n",
       "2                         GET /home.php HTTP/1.1   200  \n",
       "3          GET /js/vendor/moment.min.js HTTP/1.1   200  \n",
       "4  GET /bootstrap-3.3.7/js/bootstrap.js HTTP/1.1   200  "
      ]
     },
     "execution_count": 4,
     "metadata": {},
     "output_type": "execute_result"
    }
   ],
   "source": [
    "data.head()"
   ]
  },
  {
   "cell_type": "code",
   "execution_count": 5,
   "id": "aa2749fe",
   "metadata": {},
   "outputs": [
    {
     "data": {
      "text/plain": [
       "(16007, 4)"
      ]
     },
     "execution_count": 5,
     "metadata": {},
     "output_type": "execute_result"
    }
   ],
   "source": [
    "data.shape"
   ]
  },
  {
   "cell_type": "code",
   "execution_count": 6,
   "id": "96a3bee6",
   "metadata": {},
   "outputs": [
    {
     "data": {
      "text/html": [
       "<div>\n",
       "<style scoped>\n",
       "    .dataframe tbody tr th:only-of-type {\n",
       "        vertical-align: middle;\n",
       "    }\n",
       "\n",
       "    .dataframe tbody tr th {\n",
       "        vertical-align: top;\n",
       "    }\n",
       "\n",
       "    .dataframe thead th {\n",
       "        text-align: right;\n",
       "    }\n",
       "</style>\n",
       "<table border=\"1\" class=\"dataframe\">\n",
       "  <thead>\n",
       "    <tr style=\"text-align: right;\">\n",
       "      <th></th>\n",
       "      <th>IP</th>\n",
       "      <th>Time</th>\n",
       "      <th>URL</th>\n",
       "      <th>Staus</th>\n",
       "    </tr>\n",
       "  </thead>\n",
       "  <tbody>\n",
       "    <tr>\n",
       "      <th>0</th>\n",
       "      <td>10.128.2.1</td>\n",
       "      <td>[29/Nov/2017:06:58:55</td>\n",
       "      <td>GET /login.php HTTP/1.1</td>\n",
       "      <td>200</td>\n",
       "    </tr>\n",
       "    <tr>\n",
       "      <th>1</th>\n",
       "      <td>10.128.2.1</td>\n",
       "      <td>[29/Nov/2017:06:59:02</td>\n",
       "      <td>POST /process.php HTTP/1.1</td>\n",
       "      <td>302</td>\n",
       "    </tr>\n",
       "    <tr>\n",
       "      <th>2</th>\n",
       "      <td>10.128.2.1</td>\n",
       "      <td>[29/Nov/2017:06:59:03</td>\n",
       "      <td>GET /home.php HTTP/1.1</td>\n",
       "      <td>200</td>\n",
       "    </tr>\n",
       "    <tr>\n",
       "      <th>3</th>\n",
       "      <td>10.131.2.1</td>\n",
       "      <td>[29/Nov/2017:06:59:04</td>\n",
       "      <td>GET /js/vendor/moment.min.js HTTP/1.1</td>\n",
       "      <td>200</td>\n",
       "    </tr>\n",
       "    <tr>\n",
       "      <th>4</th>\n",
       "      <td>10.130.2.1</td>\n",
       "      <td>[29/Nov/2017:06:59:06</td>\n",
       "      <td>GET /bootstrap-3.3.7/js/bootstrap.js HTTP/1.1</td>\n",
       "      <td>200</td>\n",
       "    </tr>\n",
       "    <tr>\n",
       "      <th>...</th>\n",
       "      <td>...</td>\n",
       "      <td>...</td>\n",
       "      <td>...</td>\n",
       "      <td>...</td>\n",
       "    </tr>\n",
       "    <tr>\n",
       "      <th>16002</th>\n",
       "      <td>10.130.2.1</td>\n",
       "      <td>[02/Mar/2018:15:47:12</td>\n",
       "      <td>GET /showcode.php?id=309&amp;nm=ham05 HTTP/1.1</td>\n",
       "      <td>200</td>\n",
       "    </tr>\n",
       "    <tr>\n",
       "      <th>16003</th>\n",
       "      <td>10.130.2.1</td>\n",
       "      <td>[02/Mar/2018:15:47:23</td>\n",
       "      <td>GET /allsubmission.php HTTP/1.1</td>\n",
       "      <td>200</td>\n",
       "    </tr>\n",
       "    <tr>\n",
       "      <th>16004</th>\n",
       "      <td>10.130.2.1</td>\n",
       "      <td>[02/Mar/2018:15:47:32</td>\n",
       "      <td>GET /showcode.php?id=309&amp;nm=ham05 HTTP/1.1</td>\n",
       "      <td>200</td>\n",
       "    </tr>\n",
       "    <tr>\n",
       "      <th>16005</th>\n",
       "      <td>10.130.2.1</td>\n",
       "      <td>[02/Mar/2018:15:47:35</td>\n",
       "      <td>GET /allsubmission.php HTTP/1.1</td>\n",
       "      <td>200</td>\n",
       "    </tr>\n",
       "    <tr>\n",
       "      <th>16006</th>\n",
       "      <td>10.130.2.1</td>\n",
       "      <td>[02/Mar/2018:15:47:46</td>\n",
       "      <td>GET /home.php HTTP/1.1</td>\n",
       "      <td>200</td>\n",
       "    </tr>\n",
       "  </tbody>\n",
       "</table>\n",
       "<p>13437 rows × 4 columns</p>\n",
       "</div>"
      ],
      "text/plain": [
       "               IP                   Time  \\\n",
       "0      10.128.2.1  [29/Nov/2017:06:58:55   \n",
       "1      10.128.2.1  [29/Nov/2017:06:59:02   \n",
       "2      10.128.2.1  [29/Nov/2017:06:59:03   \n",
       "3      10.131.2.1  [29/Nov/2017:06:59:04   \n",
       "4      10.130.2.1  [29/Nov/2017:06:59:06   \n",
       "...           ...                    ...   \n",
       "16002  10.130.2.1  [02/Mar/2018:15:47:12   \n",
       "16003  10.130.2.1  [02/Mar/2018:15:47:23   \n",
       "16004  10.130.2.1  [02/Mar/2018:15:47:32   \n",
       "16005  10.130.2.1  [02/Mar/2018:15:47:35   \n",
       "16006  10.130.2.1  [02/Mar/2018:15:47:46   \n",
       "\n",
       "                                                 URL Staus  \n",
       "0                            GET /login.php HTTP/1.1   200  \n",
       "1                         POST /process.php HTTP/1.1   302  \n",
       "2                             GET /home.php HTTP/1.1   200  \n",
       "3              GET /js/vendor/moment.min.js HTTP/1.1   200  \n",
       "4      GET /bootstrap-3.3.7/js/bootstrap.js HTTP/1.1   200  \n",
       "...                                              ...   ...  \n",
       "16002     GET /showcode.php?id=309&nm=ham05 HTTP/1.1   200  \n",
       "16003                GET /allsubmission.php HTTP/1.1   200  \n",
       "16004     GET /showcode.php?id=309&nm=ham05 HTTP/1.1   200  \n",
       "16005                GET /allsubmission.php HTTP/1.1   200  \n",
       "16006                         GET /home.php HTTP/1.1   200  \n",
       "\n",
       "[13437 rows x 4 columns]"
      ]
     },
     "execution_count": 6,
     "metadata": {},
     "output_type": "execute_result"
    }
   ],
   "source": [
    "data.drop_duplicates()"
   ]
  },
  {
   "cell_type": "code",
   "execution_count": 7,
   "id": "82653133",
   "metadata": {},
   "outputs": [
    {
     "data": {
      "text/plain": [
       "IP       object\n",
       "Time     object\n",
       "URL      object\n",
       "Staus    object\n",
       "dtype: object"
      ]
     },
     "execution_count": 7,
     "metadata": {},
     "output_type": "execute_result"
    }
   ],
   "source": [
    "data.dtypes"
   ]
  },
  {
   "cell_type": "markdown",
   "id": "e811a591",
   "metadata": {},
   "source": [
    "time 컬럼 전처리"
   ]
  },
  {
   "cell_type": "code",
   "execution_count": 8,
   "id": "408b5b44",
   "metadata": {},
   "outputs": [],
   "source": [
    "data['Time'] = data['Time'].map(lambda x : x.lstrip('['))"
   ]
  },
  {
   "cell_type": "code",
   "execution_count": 9,
   "id": "0bc44057",
   "metadata": {},
   "outputs": [
    {
     "data": {
      "text/html": [
       "<div>\n",
       "<style scoped>\n",
       "    .dataframe tbody tr th:only-of-type {\n",
       "        vertical-align: middle;\n",
       "    }\n",
       "\n",
       "    .dataframe tbody tr th {\n",
       "        vertical-align: top;\n",
       "    }\n",
       "\n",
       "    .dataframe thead th {\n",
       "        text-align: right;\n",
       "    }\n",
       "</style>\n",
       "<table border=\"1\" class=\"dataframe\">\n",
       "  <thead>\n",
       "    <tr style=\"text-align: right;\">\n",
       "      <th></th>\n",
       "      <th>IP</th>\n",
       "      <th>Time</th>\n",
       "      <th>URL</th>\n",
       "      <th>Staus</th>\n",
       "    </tr>\n",
       "  </thead>\n",
       "  <tbody>\n",
       "    <tr>\n",
       "      <th>0</th>\n",
       "      <td>10.128.2.1</td>\n",
       "      <td>29/Nov/2017:06:58:55</td>\n",
       "      <td>GET /login.php HTTP/1.1</td>\n",
       "      <td>200</td>\n",
       "    </tr>\n",
       "    <tr>\n",
       "      <th>1</th>\n",
       "      <td>10.128.2.1</td>\n",
       "      <td>29/Nov/2017:06:59:02</td>\n",
       "      <td>POST /process.php HTTP/1.1</td>\n",
       "      <td>302</td>\n",
       "    </tr>\n",
       "    <tr>\n",
       "      <th>2</th>\n",
       "      <td>10.128.2.1</td>\n",
       "      <td>29/Nov/2017:06:59:03</td>\n",
       "      <td>GET /home.php HTTP/1.1</td>\n",
       "      <td>200</td>\n",
       "    </tr>\n",
       "    <tr>\n",
       "      <th>3</th>\n",
       "      <td>10.131.2.1</td>\n",
       "      <td>29/Nov/2017:06:59:04</td>\n",
       "      <td>GET /js/vendor/moment.min.js HTTP/1.1</td>\n",
       "      <td>200</td>\n",
       "    </tr>\n",
       "    <tr>\n",
       "      <th>4</th>\n",
       "      <td>10.130.2.1</td>\n",
       "      <td>29/Nov/2017:06:59:06</td>\n",
       "      <td>GET /bootstrap-3.3.7/js/bootstrap.js HTTP/1.1</td>\n",
       "      <td>200</td>\n",
       "    </tr>\n",
       "  </tbody>\n",
       "</table>\n",
       "</div>"
      ],
      "text/plain": [
       "           IP                  Time  \\\n",
       "0  10.128.2.1  29/Nov/2017:06:58:55   \n",
       "1  10.128.2.1  29/Nov/2017:06:59:02   \n",
       "2  10.128.2.1  29/Nov/2017:06:59:03   \n",
       "3  10.131.2.1  29/Nov/2017:06:59:04   \n",
       "4  10.130.2.1  29/Nov/2017:06:59:06   \n",
       "\n",
       "                                             URL Staus  \n",
       "0                        GET /login.php HTTP/1.1   200  \n",
       "1                     POST /process.php HTTP/1.1   302  \n",
       "2                         GET /home.php HTTP/1.1   200  \n",
       "3          GET /js/vendor/moment.min.js HTTP/1.1   200  \n",
       "4  GET /bootstrap-3.3.7/js/bootstrap.js HTTP/1.1   200  "
      ]
     },
     "execution_count": 9,
     "metadata": {},
     "output_type": "execute_result"
    }
   ],
   "source": [
    "data.head()"
   ]
  },
  {
   "cell_type": "markdown",
   "id": "e1d9cb6b",
   "metadata": {},
   "source": [
    "날짜와 시간 분리하기"
   ]
  },
  {
   "cell_type": "code",
   "execution_count": 10,
   "id": "d2d7d3ee",
   "metadata": {},
   "outputs": [
    {
     "data": {
      "text/plain": [
       "0        [29/Nov/2017, 06, 58, 55]\n",
       "1        [29/Nov/2017, 06, 59, 02]\n",
       "2        [29/Nov/2017, 06, 59, 03]\n",
       "3        [29/Nov/2017, 06, 59, 04]\n",
       "4        [29/Nov/2017, 06, 59, 06]\n",
       "                   ...            \n",
       "16002    [02/Mar/2018, 15, 47, 12]\n",
       "16003    [02/Mar/2018, 15, 47, 23]\n",
       "16004    [02/Mar/2018, 15, 47, 32]\n",
       "16005    [02/Mar/2018, 15, 47, 35]\n",
       "16006    [02/Mar/2018, 15, 47, 46]\n",
       "Name: Time, Length: 16007, dtype: object"
      ]
     },
     "execution_count": 10,
     "metadata": {},
     "output_type": "execute_result"
    }
   ],
   "source": [
    "data['Time'].str.split(':')"
   ]
  },
  {
   "cell_type": "code",
   "execution_count": 11,
   "id": "202cb7b6",
   "metadata": {},
   "outputs": [
    {
     "data": {
      "text/plain": [
       "0        [29/Nov/2017, 06:58:55]\n",
       "1        [29/Nov/2017, 06:59:02]\n",
       "2        [29/Nov/2017, 06:59:03]\n",
       "3        [29/Nov/2017, 06:59:04]\n",
       "4        [29/Nov/2017, 06:59:06]\n",
       "                  ...           \n",
       "16002    [02/Mar/2018, 15:47:12]\n",
       "16003    [02/Mar/2018, 15:47:23]\n",
       "16004    [02/Mar/2018, 15:47:32]\n",
       "16005    [02/Mar/2018, 15:47:35]\n",
       "16006    [02/Mar/2018, 15:47:46]\n",
       "Name: Time, Length: 16007, dtype: object"
      ]
     },
     "execution_count": 11,
     "metadata": {},
     "output_type": "execute_result"
    }
   ],
   "source": [
    "data['Time'].str.split(':', n=1)"
   ]
  },
  {
   "cell_type": "code",
   "execution_count": 12,
   "id": "ccb2aedc",
   "metadata": {},
   "outputs": [
    {
     "data": {
      "text/html": [
       "<div>\n",
       "<style scoped>\n",
       "    .dataframe tbody tr th:only-of-type {\n",
       "        vertical-align: middle;\n",
       "    }\n",
       "\n",
       "    .dataframe tbody tr th {\n",
       "        vertical-align: top;\n",
       "    }\n",
       "\n",
       "    .dataframe thead th {\n",
       "        text-align: right;\n",
       "    }\n",
       "</style>\n",
       "<table border=\"1\" class=\"dataframe\">\n",
       "  <thead>\n",
       "    <tr style=\"text-align: right;\">\n",
       "      <th></th>\n",
       "      <th>0</th>\n",
       "      <th>1</th>\n",
       "    </tr>\n",
       "  </thead>\n",
       "  <tbody>\n",
       "    <tr>\n",
       "      <th>0</th>\n",
       "      <td>29/Nov/2017</td>\n",
       "      <td>06:58:55</td>\n",
       "    </tr>\n",
       "    <tr>\n",
       "      <th>1</th>\n",
       "      <td>29/Nov/2017</td>\n",
       "      <td>06:59:02</td>\n",
       "    </tr>\n",
       "    <tr>\n",
       "      <th>2</th>\n",
       "      <td>29/Nov/2017</td>\n",
       "      <td>06:59:03</td>\n",
       "    </tr>\n",
       "    <tr>\n",
       "      <th>3</th>\n",
       "      <td>29/Nov/2017</td>\n",
       "      <td>06:59:04</td>\n",
       "    </tr>\n",
       "    <tr>\n",
       "      <th>4</th>\n",
       "      <td>29/Nov/2017</td>\n",
       "      <td>06:59:06</td>\n",
       "    </tr>\n",
       "    <tr>\n",
       "      <th>...</th>\n",
       "      <td>...</td>\n",
       "      <td>...</td>\n",
       "    </tr>\n",
       "    <tr>\n",
       "      <th>16002</th>\n",
       "      <td>02/Mar/2018</td>\n",
       "      <td>15:47:12</td>\n",
       "    </tr>\n",
       "    <tr>\n",
       "      <th>16003</th>\n",
       "      <td>02/Mar/2018</td>\n",
       "      <td>15:47:23</td>\n",
       "    </tr>\n",
       "    <tr>\n",
       "      <th>16004</th>\n",
       "      <td>02/Mar/2018</td>\n",
       "      <td>15:47:32</td>\n",
       "    </tr>\n",
       "    <tr>\n",
       "      <th>16005</th>\n",
       "      <td>02/Mar/2018</td>\n",
       "      <td>15:47:35</td>\n",
       "    </tr>\n",
       "    <tr>\n",
       "      <th>16006</th>\n",
       "      <td>02/Mar/2018</td>\n",
       "      <td>15:47:46</td>\n",
       "    </tr>\n",
       "  </tbody>\n",
       "</table>\n",
       "<p>16007 rows × 2 columns</p>\n",
       "</div>"
      ],
      "text/plain": [
       "                 0         1\n",
       "0      29/Nov/2017  06:58:55\n",
       "1      29/Nov/2017  06:59:02\n",
       "2      29/Nov/2017  06:59:03\n",
       "3      29/Nov/2017  06:59:04\n",
       "4      29/Nov/2017  06:59:06\n",
       "...            ...       ...\n",
       "16002  02/Mar/2018  15:47:12\n",
       "16003  02/Mar/2018  15:47:23\n",
       "16004  02/Mar/2018  15:47:32\n",
       "16005  02/Mar/2018  15:47:35\n",
       "16006  02/Mar/2018  15:47:46\n",
       "\n",
       "[16007 rows x 2 columns]"
      ]
     },
     "execution_count": 12,
     "metadata": {},
     "output_type": "execute_result"
    }
   ],
   "source": [
    "data['Time'].str.split(':', n=1, expand= True)"
   ]
  },
  {
   "cell_type": "code",
   "execution_count": 13,
   "id": "73b1996b",
   "metadata": {},
   "outputs": [
    {
     "ename": "ValueError",
     "evalue": "Columns must be same length as key",
     "output_type": "error",
     "traceback": [
      "\u001b[0;31m---------------------------------------------------------------------------\u001b[0m",
      "\u001b[0;31mValueError\u001b[0m                                Traceback (most recent call last)",
      "\u001b[0;32m/tmp/ipykernel_112/3428173037.py\u001b[0m in \u001b[0;36m<module>\u001b[0;34m\u001b[0m\n\u001b[0;32m----> 1\u001b[0;31m \u001b[0mdata\u001b[0m\u001b[0;34m[\u001b[0m\u001b[0;34m'Time'\u001b[0m\u001b[0;34m]\u001b[0m \u001b[0;34m=\u001b[0m \u001b[0mdata\u001b[0m\u001b[0;34m[\u001b[0m\u001b[0;34m'Time'\u001b[0m\u001b[0;34m]\u001b[0m\u001b[0;34m.\u001b[0m\u001b[0mstr\u001b[0m\u001b[0;34m.\u001b[0m\u001b[0msplit\u001b[0m\u001b[0;34m(\u001b[0m\u001b[0;34m':'\u001b[0m\u001b[0;34m,\u001b[0m\u001b[0mn\u001b[0m \u001b[0;34m=\u001b[0m \u001b[0;36m1\u001b[0m\u001b[0;34m,\u001b[0m \u001b[0mexpand\u001b[0m \u001b[0;34m=\u001b[0m \u001b[0;32mTrue\u001b[0m\u001b[0;34m)\u001b[0m\u001b[0;34m\u001b[0m\u001b[0;34m\u001b[0m\u001b[0m\n\u001b[0m",
      "\u001b[0;32m~/anaconda3/lib/python3.9/site-packages/pandas/core/frame.py\u001b[0m in \u001b[0;36m__setitem__\u001b[0;34m(self, key, value)\u001b[0m\n\u001b[1;32m   3600\u001b[0m             \u001b[0mself\u001b[0m\u001b[0;34m.\u001b[0m\u001b[0m_setitem_array\u001b[0m\u001b[0;34m(\u001b[0m\u001b[0mkey\u001b[0m\u001b[0;34m,\u001b[0m \u001b[0mvalue\u001b[0m\u001b[0;34m)\u001b[0m\u001b[0;34m\u001b[0m\u001b[0;34m\u001b[0m\u001b[0m\n\u001b[1;32m   3601\u001b[0m         \u001b[0;32melif\u001b[0m \u001b[0misinstance\u001b[0m\u001b[0;34m(\u001b[0m\u001b[0mvalue\u001b[0m\u001b[0;34m,\u001b[0m \u001b[0mDataFrame\u001b[0m\u001b[0;34m)\u001b[0m\u001b[0;34m:\u001b[0m\u001b[0;34m\u001b[0m\u001b[0;34m\u001b[0m\u001b[0m\n\u001b[0;32m-> 3602\u001b[0;31m             \u001b[0mself\u001b[0m\u001b[0;34m.\u001b[0m\u001b[0m_set_item_frame_value\u001b[0m\u001b[0;34m(\u001b[0m\u001b[0mkey\u001b[0m\u001b[0;34m,\u001b[0m \u001b[0mvalue\u001b[0m\u001b[0;34m)\u001b[0m\u001b[0;34m\u001b[0m\u001b[0;34m\u001b[0m\u001b[0m\n\u001b[0m\u001b[1;32m   3603\u001b[0m         elif (\n\u001b[1;32m   3604\u001b[0m             \u001b[0mis_list_like\u001b[0m\u001b[0;34m(\u001b[0m\u001b[0mvalue\u001b[0m\u001b[0;34m)\u001b[0m\u001b[0;34m\u001b[0m\u001b[0;34m\u001b[0m\u001b[0m\n",
      "\u001b[0;32m~/anaconda3/lib/python3.9/site-packages/pandas/core/frame.py\u001b[0m in \u001b[0;36m_set_item_frame_value\u001b[0;34m(self, key, value)\u001b[0m\n\u001b[1;32m   3727\u001b[0m             \u001b[0mlen_cols\u001b[0m \u001b[0;34m=\u001b[0m \u001b[0;36m1\u001b[0m \u001b[0;32mif\u001b[0m \u001b[0mis_scalar\u001b[0m\u001b[0;34m(\u001b[0m\u001b[0mcols\u001b[0m\u001b[0;34m)\u001b[0m \u001b[0;32melse\u001b[0m \u001b[0mlen\u001b[0m\u001b[0;34m(\u001b[0m\u001b[0mcols\u001b[0m\u001b[0;34m)\u001b[0m\u001b[0;34m\u001b[0m\u001b[0;34m\u001b[0m\u001b[0m\n\u001b[1;32m   3728\u001b[0m             \u001b[0;32mif\u001b[0m \u001b[0mlen_cols\u001b[0m \u001b[0;34m!=\u001b[0m \u001b[0mlen\u001b[0m\u001b[0;34m(\u001b[0m\u001b[0mvalue\u001b[0m\u001b[0;34m.\u001b[0m\u001b[0mcolumns\u001b[0m\u001b[0;34m)\u001b[0m\u001b[0;34m:\u001b[0m\u001b[0;34m\u001b[0m\u001b[0;34m\u001b[0m\u001b[0m\n\u001b[0;32m-> 3729\u001b[0;31m                 \u001b[0;32mraise\u001b[0m \u001b[0mValueError\u001b[0m\u001b[0;34m(\u001b[0m\u001b[0;34m\"Columns must be same length as key\"\u001b[0m\u001b[0;34m)\u001b[0m\u001b[0;34m\u001b[0m\u001b[0;34m\u001b[0m\u001b[0m\n\u001b[0m\u001b[1;32m   3730\u001b[0m \u001b[0;34m\u001b[0m\u001b[0m\n\u001b[1;32m   3731\u001b[0m             \u001b[0;31m# align right-hand-side columns if self.columns\u001b[0m\u001b[0;34m\u001b[0m\u001b[0;34m\u001b[0m\u001b[0m\n",
      "\u001b[0;31mValueError\u001b[0m: Columns must be same length as key"
     ]
    }
   ],
   "source": [
    "data['Time'] = data['Time'].str.split(':',n = 1, expand = True)"
   ]
  },
  {
   "cell_type": "code",
   "execution_count": 14,
   "id": "09fbf339",
   "metadata": {},
   "outputs": [
    {
     "data": {
      "text/html": [
       "<div>\n",
       "<style scoped>\n",
       "    .dataframe tbody tr th:only-of-type {\n",
       "        vertical-align: middle;\n",
       "    }\n",
       "\n",
       "    .dataframe tbody tr th {\n",
       "        vertical-align: top;\n",
       "    }\n",
       "\n",
       "    .dataframe thead th {\n",
       "        text-align: right;\n",
       "    }\n",
       "</style>\n",
       "<table border=\"1\" class=\"dataframe\">\n",
       "  <thead>\n",
       "    <tr style=\"text-align: right;\">\n",
       "      <th></th>\n",
       "      <th>IP</th>\n",
       "      <th>Time</th>\n",
       "      <th>URL</th>\n",
       "      <th>Staus</th>\n",
       "    </tr>\n",
       "  </thead>\n",
       "  <tbody>\n",
       "    <tr>\n",
       "      <th>0</th>\n",
       "      <td>10.128.2.1</td>\n",
       "      <td>29/Nov/2017:06:58:55</td>\n",
       "      <td>GET /login.php HTTP/1.1</td>\n",
       "      <td>200</td>\n",
       "    </tr>\n",
       "    <tr>\n",
       "      <th>1</th>\n",
       "      <td>10.128.2.1</td>\n",
       "      <td>29/Nov/2017:06:59:02</td>\n",
       "      <td>POST /process.php HTTP/1.1</td>\n",
       "      <td>302</td>\n",
       "    </tr>\n",
       "    <tr>\n",
       "      <th>2</th>\n",
       "      <td>10.128.2.1</td>\n",
       "      <td>29/Nov/2017:06:59:03</td>\n",
       "      <td>GET /home.php HTTP/1.1</td>\n",
       "      <td>200</td>\n",
       "    </tr>\n",
       "    <tr>\n",
       "      <th>3</th>\n",
       "      <td>10.131.2.1</td>\n",
       "      <td>29/Nov/2017:06:59:04</td>\n",
       "      <td>GET /js/vendor/moment.min.js HTTP/1.1</td>\n",
       "      <td>200</td>\n",
       "    </tr>\n",
       "    <tr>\n",
       "      <th>4</th>\n",
       "      <td>10.130.2.1</td>\n",
       "      <td>29/Nov/2017:06:59:06</td>\n",
       "      <td>GET /bootstrap-3.3.7/js/bootstrap.js HTTP/1.1</td>\n",
       "      <td>200</td>\n",
       "    </tr>\n",
       "  </tbody>\n",
       "</table>\n",
       "</div>"
      ],
      "text/plain": [
       "           IP                  Time  \\\n",
       "0  10.128.2.1  29/Nov/2017:06:58:55   \n",
       "1  10.128.2.1  29/Nov/2017:06:59:02   \n",
       "2  10.128.2.1  29/Nov/2017:06:59:03   \n",
       "3  10.131.2.1  29/Nov/2017:06:59:04   \n",
       "4  10.130.2.1  29/Nov/2017:06:59:06   \n",
       "\n",
       "                                             URL Staus  \n",
       "0                        GET /login.php HTTP/1.1   200  \n",
       "1                     POST /process.php HTTP/1.1   302  \n",
       "2                         GET /home.php HTTP/1.1   200  \n",
       "3          GET /js/vendor/moment.min.js HTTP/1.1   200  \n",
       "4  GET /bootstrap-3.3.7/js/bootstrap.js HTTP/1.1   200  "
      ]
     },
     "execution_count": 14,
     "metadata": {},
     "output_type": "execute_result"
    }
   ],
   "source": [
    "data.head()"
   ]
  },
  {
   "cell_type": "code",
   "execution_count": 15,
   "id": "567ee99f",
   "metadata": {},
   "outputs": [],
   "source": [
    "data['Time'] = pd.to_datetime(data['Time'],format='%d%m%Y', errors='ignore')"
   ]
  },
  {
   "cell_type": "code",
   "execution_count": 16,
   "id": "710d5b61",
   "metadata": {},
   "outputs": [
    {
     "data": {
      "text/html": [
       "<div>\n",
       "<style scoped>\n",
       "    .dataframe tbody tr th:only-of-type {\n",
       "        vertical-align: middle;\n",
       "    }\n",
       "\n",
       "    .dataframe tbody tr th {\n",
       "        vertical-align: top;\n",
       "    }\n",
       "\n",
       "    .dataframe thead th {\n",
       "        text-align: right;\n",
       "    }\n",
       "</style>\n",
       "<table border=\"1\" class=\"dataframe\">\n",
       "  <thead>\n",
       "    <tr style=\"text-align: right;\">\n",
       "      <th></th>\n",
       "      <th>IP</th>\n",
       "      <th>Time</th>\n",
       "      <th>URL</th>\n",
       "      <th>Staus</th>\n",
       "    </tr>\n",
       "  </thead>\n",
       "  <tbody>\n",
       "    <tr>\n",
       "      <th>0</th>\n",
       "      <td>10.128.2.1</td>\n",
       "      <td>29/Nov/2017:06:58:55</td>\n",
       "      <td>GET /login.php HTTP/1.1</td>\n",
       "      <td>200</td>\n",
       "    </tr>\n",
       "    <tr>\n",
       "      <th>1</th>\n",
       "      <td>10.128.2.1</td>\n",
       "      <td>29/Nov/2017:06:59:02</td>\n",
       "      <td>POST /process.php HTTP/1.1</td>\n",
       "      <td>302</td>\n",
       "    </tr>\n",
       "    <tr>\n",
       "      <th>2</th>\n",
       "      <td>10.128.2.1</td>\n",
       "      <td>29/Nov/2017:06:59:03</td>\n",
       "      <td>GET /home.php HTTP/1.1</td>\n",
       "      <td>200</td>\n",
       "    </tr>\n",
       "    <tr>\n",
       "      <th>3</th>\n",
       "      <td>10.131.2.1</td>\n",
       "      <td>29/Nov/2017:06:59:04</td>\n",
       "      <td>GET /js/vendor/moment.min.js HTTP/1.1</td>\n",
       "      <td>200</td>\n",
       "    </tr>\n",
       "    <tr>\n",
       "      <th>4</th>\n",
       "      <td>10.130.2.1</td>\n",
       "      <td>29/Nov/2017:06:59:06</td>\n",
       "      <td>GET /bootstrap-3.3.7/js/bootstrap.js HTTP/1.1</td>\n",
       "      <td>200</td>\n",
       "    </tr>\n",
       "  </tbody>\n",
       "</table>\n",
       "</div>"
      ],
      "text/plain": [
       "           IP                  Time  \\\n",
       "0  10.128.2.1  29/Nov/2017:06:58:55   \n",
       "1  10.128.2.1  29/Nov/2017:06:59:02   \n",
       "2  10.128.2.1  29/Nov/2017:06:59:03   \n",
       "3  10.131.2.1  29/Nov/2017:06:59:04   \n",
       "4  10.130.2.1  29/Nov/2017:06:59:06   \n",
       "\n",
       "                                             URL Staus  \n",
       "0                        GET /login.php HTTP/1.1   200  \n",
       "1                     POST /process.php HTTP/1.1   302  \n",
       "2                         GET /home.php HTTP/1.1   200  \n",
       "3          GET /js/vendor/moment.min.js HTTP/1.1   200  \n",
       "4  GET /bootstrap-3.3.7/js/bootstrap.js HTTP/1.1   200  "
      ]
     },
     "execution_count": 16,
     "metadata": {},
     "output_type": "execute_result"
    }
   ],
   "source": [
    "data.head()"
   ]
  },
  {
   "cell_type": "code",
   "execution_count": null,
   "id": "1c72b10a",
   "metadata": {},
   "outputs": [],
   "source": []
  },
  {
   "cell_type": "code",
   "execution_count": 17,
   "id": "dec99525",
   "metadata": {},
   "outputs": [],
   "source": [
    "data = data.rename(columns={'Staus': 'Status'}, index={'ONE': 'one'}) ##??"
   ]
  },
  {
   "cell_type": "code",
   "execution_count": 18,
   "id": "a2800611",
   "metadata": {},
   "outputs": [],
   "source": [
    "data['URL']=data['URL'].map(lambda x: x.lstrip('0')) ##??"
   ]
  },
  {
   "cell_type": "code",
   "execution_count": null,
   "id": "efe5fc2f",
   "metadata": {},
   "outputs": [],
   "source": []
  },
  {
   "cell_type": "code",
   "execution_count": 19,
   "id": "4a2e0480",
   "metadata": {},
   "outputs": [
    {
     "data": {
      "text/html": [
       "<div>\n",
       "<style scoped>\n",
       "    .dataframe tbody tr th:only-of-type {\n",
       "        vertical-align: middle;\n",
       "    }\n",
       "\n",
       "    .dataframe tbody tr th {\n",
       "        vertical-align: top;\n",
       "    }\n",
       "\n",
       "    .dataframe thead th {\n",
       "        text-align: right;\n",
       "    }\n",
       "</style>\n",
       "<table border=\"1\" class=\"dataframe\">\n",
       "  <thead>\n",
       "    <tr style=\"text-align: right;\">\n",
       "      <th></th>\n",
       "      <th>IP</th>\n",
       "      <th>Time</th>\n",
       "      <th>URL</th>\n",
       "      <th>Status</th>\n",
       "    </tr>\n",
       "  </thead>\n",
       "  <tbody>\n",
       "    <tr>\n",
       "      <th>0</th>\n",
       "      <td>10.128.2.1</td>\n",
       "      <td>29/Nov/2017:06:58:55</td>\n",
       "      <td>GET /login.php HTTP/1.1</td>\n",
       "      <td>200</td>\n",
       "    </tr>\n",
       "    <tr>\n",
       "      <th>1</th>\n",
       "      <td>10.128.2.1</td>\n",
       "      <td>29/Nov/2017:06:59:02</td>\n",
       "      <td>POST /process.php HTTP/1.1</td>\n",
       "      <td>302</td>\n",
       "    </tr>\n",
       "    <tr>\n",
       "      <th>2</th>\n",
       "      <td>10.128.2.1</td>\n",
       "      <td>29/Nov/2017:06:59:03</td>\n",
       "      <td>GET /home.php HTTP/1.1</td>\n",
       "      <td>200</td>\n",
       "    </tr>\n",
       "    <tr>\n",
       "      <th>3</th>\n",
       "      <td>10.131.2.1</td>\n",
       "      <td>29/Nov/2017:06:59:04</td>\n",
       "      <td>GET /js/vendor/moment.min.js HTTP/1.1</td>\n",
       "      <td>200</td>\n",
       "    </tr>\n",
       "    <tr>\n",
       "      <th>4</th>\n",
       "      <td>10.130.2.1</td>\n",
       "      <td>29/Nov/2017:06:59:06</td>\n",
       "      <td>GET /bootstrap-3.3.7/js/bootstrap.js HTTP/1.1</td>\n",
       "      <td>200</td>\n",
       "    </tr>\n",
       "  </tbody>\n",
       "</table>\n",
       "</div>"
      ],
      "text/plain": [
       "           IP                  Time  \\\n",
       "0  10.128.2.1  29/Nov/2017:06:58:55   \n",
       "1  10.128.2.1  29/Nov/2017:06:59:02   \n",
       "2  10.128.2.1  29/Nov/2017:06:59:03   \n",
       "3  10.131.2.1  29/Nov/2017:06:59:04   \n",
       "4  10.130.2.1  29/Nov/2017:06:59:06   \n",
       "\n",
       "                                             URL Status  \n",
       "0                        GET /login.php HTTP/1.1    200  \n",
       "1                     POST /process.php HTTP/1.1    302  \n",
       "2                         GET /home.php HTTP/1.1    200  \n",
       "3          GET /js/vendor/moment.min.js HTTP/1.1    200  \n",
       "4  GET /bootstrap-3.3.7/js/bootstrap.js HTTP/1.1    200  "
      ]
     },
     "execution_count": 19,
     "metadata": {},
     "output_type": "execute_result"
    }
   ],
   "source": [
    "data.head()"
   ]
  },
  {
   "cell_type": "code",
   "execution_count": 20,
   "id": "a8555a3a",
   "metadata": {},
   "outputs": [
    {
     "name": "stdout",
     "output_type": "stream",
     "text": [
      "<class 'pandas.core.frame.DataFrame'>\n",
      "Int64Index: 16007 entries, 0 to 16006\n",
      "Data columns (total 4 columns):\n",
      " #   Column  Non-Null Count  Dtype \n",
      "---  ------  --------------  ----- \n",
      " 0   IP      16007 non-null  object\n",
      " 1   Time    16007 non-null  object\n",
      " 2   URL     16007 non-null  object\n",
      " 3   Status  16007 non-null  object\n",
      "dtypes: object(4)\n",
      "memory usage: 625.3+ KB\n"
     ]
    }
   ],
   "source": [
    "data.info()"
   ]
  },
  {
   "cell_type": "code",
   "execution_count": 21,
   "id": "39df94f0",
   "metadata": {},
   "outputs": [
    {
     "data": {
      "text/html": [
       "<div>\n",
       "<style scoped>\n",
       "    .dataframe tbody tr th:only-of-type {\n",
       "        vertical-align: middle;\n",
       "    }\n",
       "\n",
       "    .dataframe tbody tr th {\n",
       "        vertical-align: top;\n",
       "    }\n",
       "\n",
       "    .dataframe thead th {\n",
       "        text-align: right;\n",
       "    }\n",
       "</style>\n",
       "<table border=\"1\" class=\"dataframe\">\n",
       "  <thead>\n",
       "    <tr style=\"text-align: right;\">\n",
       "      <th></th>\n",
       "      <th>IP</th>\n",
       "      <th>Time</th>\n",
       "      <th>URL</th>\n",
       "      <th>Status</th>\n",
       "    </tr>\n",
       "  </thead>\n",
       "  <tbody>\n",
       "    <tr>\n",
       "      <th>count</th>\n",
       "      <td>16007</td>\n",
       "      <td>16007</td>\n",
       "      <td>16007</td>\n",
       "      <td>16007</td>\n",
       "    </tr>\n",
       "    <tr>\n",
       "      <th>unique</th>\n",
       "      <td>16</td>\n",
       "      <td>7307</td>\n",
       "      <td>314</td>\n",
       "      <td>13</td>\n",
       "    </tr>\n",
       "    <tr>\n",
       "      <th>top</th>\n",
       "      <td>10.128.2.1</td>\n",
       "      <td>cannot</td>\n",
       "      <td>GET /login.php HTTP/1.1</td>\n",
       "      <td>200</td>\n",
       "    </tr>\n",
       "    <tr>\n",
       "      <th>freq</th>\n",
       "      <td>4257</td>\n",
       "      <td>167</td>\n",
       "      <td>3284</td>\n",
       "      <td>11330</td>\n",
       "    </tr>\n",
       "  </tbody>\n",
       "</table>\n",
       "</div>"
      ],
      "text/plain": [
       "                IP    Time                      URL Status\n",
       "count        16007   16007                    16007  16007\n",
       "unique          16    7307                      314     13\n",
       "top     10.128.2.1  cannot  GET /login.php HTTP/1.1    200\n",
       "freq          4257     167                     3284  11330"
      ]
     },
     "execution_count": 21,
     "metadata": {},
     "output_type": "execute_result"
    }
   ],
   "source": [
    "data.describe()"
   ]
  },
  {
   "cell_type": "code",
   "execution_count": null,
   "id": "f1470de5",
   "metadata": {},
   "outputs": [],
   "source": []
  },
  {
   "cell_type": "code",
   "execution_count": 22,
   "id": "52ab7974",
   "metadata": {},
   "outputs": [
    {
     "data": {
      "text/plain": [
       "IP        0\n",
       "Time      0\n",
       "URL       0\n",
       "Status    0\n",
       "dtype: int64"
      ]
     },
     "execution_count": 22,
     "metadata": {},
     "output_type": "execute_result"
    }
   ],
   "source": [
    "data.isnull().sum()"
   ]
  },
  {
   "cell_type": "markdown",
   "id": "17c48b67",
   "metadata": {},
   "source": [
    "피처 생성하기"
   ]
  },
  {
   "cell_type": "code",
   "execution_count": 23,
   "id": "90af1693",
   "metadata": {},
   "outputs": [],
   "source": [
    "# converting the date_time into datetime format\n",
    "\n",
    "data['month'] = data['Time'].str.slice(3, 6)\n",
    "data['day'] = data['Time'].str.slice(0, 2) "
   ]
  },
  {
   "cell_type": "code",
   "execution_count": 24,
   "id": "8a88e2a2",
   "metadata": {},
   "outputs": [
    {
     "data": {
      "text/html": [
       "<div>\n",
       "<style scoped>\n",
       "    .dataframe tbody tr th:only-of-type {\n",
       "        vertical-align: middle;\n",
       "    }\n",
       "\n",
       "    .dataframe tbody tr th {\n",
       "        vertical-align: top;\n",
       "    }\n",
       "\n",
       "    .dataframe thead th {\n",
       "        text-align: right;\n",
       "    }\n",
       "</style>\n",
       "<table border=\"1\" class=\"dataframe\">\n",
       "  <thead>\n",
       "    <tr style=\"text-align: right;\">\n",
       "      <th></th>\n",
       "      <th>IP</th>\n",
       "      <th>Time</th>\n",
       "      <th>URL</th>\n",
       "      <th>Status</th>\n",
       "      <th>month</th>\n",
       "      <th>day</th>\n",
       "    </tr>\n",
       "  </thead>\n",
       "  <tbody>\n",
       "    <tr>\n",
       "      <th>0</th>\n",
       "      <td>10.128.2.1</td>\n",
       "      <td>29/Nov/2017:06:58:55</td>\n",
       "      <td>GET /login.php HTTP/1.1</td>\n",
       "      <td>200</td>\n",
       "      <td>Nov</td>\n",
       "      <td>29</td>\n",
       "    </tr>\n",
       "    <tr>\n",
       "      <th>1</th>\n",
       "      <td>10.128.2.1</td>\n",
       "      <td>29/Nov/2017:06:59:02</td>\n",
       "      <td>POST /process.php HTTP/1.1</td>\n",
       "      <td>302</td>\n",
       "      <td>Nov</td>\n",
       "      <td>29</td>\n",
       "    </tr>\n",
       "    <tr>\n",
       "      <th>2</th>\n",
       "      <td>10.128.2.1</td>\n",
       "      <td>29/Nov/2017:06:59:03</td>\n",
       "      <td>GET /home.php HTTP/1.1</td>\n",
       "      <td>200</td>\n",
       "      <td>Nov</td>\n",
       "      <td>29</td>\n",
       "    </tr>\n",
       "    <tr>\n",
       "      <th>3</th>\n",
       "      <td>10.131.2.1</td>\n",
       "      <td>29/Nov/2017:06:59:04</td>\n",
       "      <td>GET /js/vendor/moment.min.js HTTP/1.1</td>\n",
       "      <td>200</td>\n",
       "      <td>Nov</td>\n",
       "      <td>29</td>\n",
       "    </tr>\n",
       "    <tr>\n",
       "      <th>4</th>\n",
       "      <td>10.130.2.1</td>\n",
       "      <td>29/Nov/2017:06:59:06</td>\n",
       "      <td>GET /bootstrap-3.3.7/js/bootstrap.js HTTP/1.1</td>\n",
       "      <td>200</td>\n",
       "      <td>Nov</td>\n",
       "      <td>29</td>\n",
       "    </tr>\n",
       "  </tbody>\n",
       "</table>\n",
       "</div>"
      ],
      "text/plain": [
       "           IP                  Time  \\\n",
       "0  10.128.2.1  29/Nov/2017:06:58:55   \n",
       "1  10.128.2.1  29/Nov/2017:06:59:02   \n",
       "2  10.128.2.1  29/Nov/2017:06:59:03   \n",
       "3  10.131.2.1  29/Nov/2017:06:59:04   \n",
       "4  10.130.2.1  29/Nov/2017:06:59:06   \n",
       "\n",
       "                                             URL Status month day  \n",
       "0                        GET /login.php HTTP/1.1    200   Nov  29  \n",
       "1                     POST /process.php HTTP/1.1    302   Nov  29  \n",
       "2                         GET /home.php HTTP/1.1    200   Nov  29  \n",
       "3          GET /js/vendor/moment.min.js HTTP/1.1    200   Nov  29  \n",
       "4  GET /bootstrap-3.3.7/js/bootstrap.js HTTP/1.1    200   Nov  29  "
      ]
     },
     "execution_count": 24,
     "metadata": {},
     "output_type": "execute_result"
    }
   ],
   "source": [
    "data.head()"
   ]
  },
  {
   "cell_type": "code",
   "execution_count": 25,
   "id": "27e6c768",
   "metadata": {},
   "outputs": [
    {
     "data": {
      "text/plain": [
       "array(['Nov', 'not', '', 'e', 'Dec', 'n.c', 'IND', 'Jan', 'Feb', 'Mar'],\n",
       "      dtype=object)"
      ]
     },
     "execution_count": 25,
     "metadata": {},
     "output_type": "execute_result"
    }
   ],
   "source": [
    "data['month'].unique()"
   ]
  },
  {
   "cell_type": "markdown",
   "id": "70f0c591",
   "metadata": {},
   "source": [
    "feature 추가"
   ]
  },
  {
   "cell_type": "code",
   "execution_count": 26,
   "id": "afc184b8",
   "metadata": {},
   "outputs": [],
   "source": [
    "data['Methods'] = data['URL'].str.split('/').str[0]"
   ]
  },
  {
   "cell_type": "code",
   "execution_count": 27,
   "id": "5e85e4ad",
   "metadata": {},
   "outputs": [
    {
     "data": {
      "text/html": [
       "<div>\n",
       "<style scoped>\n",
       "    .dataframe tbody tr th:only-of-type {\n",
       "        vertical-align: middle;\n",
       "    }\n",
       "\n",
       "    .dataframe tbody tr th {\n",
       "        vertical-align: top;\n",
       "    }\n",
       "\n",
       "    .dataframe thead th {\n",
       "        text-align: right;\n",
       "    }\n",
       "</style>\n",
       "<table border=\"1\" class=\"dataframe\">\n",
       "  <thead>\n",
       "    <tr style=\"text-align: right;\">\n",
       "      <th></th>\n",
       "      <th>IP</th>\n",
       "      <th>Time</th>\n",
       "      <th>URL</th>\n",
       "      <th>Status</th>\n",
       "      <th>month</th>\n",
       "      <th>day</th>\n",
       "      <th>Methods</th>\n",
       "    </tr>\n",
       "  </thead>\n",
       "  <tbody>\n",
       "    <tr>\n",
       "      <th>0</th>\n",
       "      <td>10.128.2.1</td>\n",
       "      <td>29/Nov/2017:06:58:55</td>\n",
       "      <td>GET /login.php HTTP/1.1</td>\n",
       "      <td>200</td>\n",
       "      <td>Nov</td>\n",
       "      <td>29</td>\n",
       "      <td>GET</td>\n",
       "    </tr>\n",
       "    <tr>\n",
       "      <th>1</th>\n",
       "      <td>10.128.2.1</td>\n",
       "      <td>29/Nov/2017:06:59:02</td>\n",
       "      <td>POST /process.php HTTP/1.1</td>\n",
       "      <td>302</td>\n",
       "      <td>Nov</td>\n",
       "      <td>29</td>\n",
       "      <td>POST</td>\n",
       "    </tr>\n",
       "    <tr>\n",
       "      <th>2</th>\n",
       "      <td>10.128.2.1</td>\n",
       "      <td>29/Nov/2017:06:59:03</td>\n",
       "      <td>GET /home.php HTTP/1.1</td>\n",
       "      <td>200</td>\n",
       "      <td>Nov</td>\n",
       "      <td>29</td>\n",
       "      <td>GET</td>\n",
       "    </tr>\n",
       "    <tr>\n",
       "      <th>3</th>\n",
       "      <td>10.131.2.1</td>\n",
       "      <td>29/Nov/2017:06:59:04</td>\n",
       "      <td>GET /js/vendor/moment.min.js HTTP/1.1</td>\n",
       "      <td>200</td>\n",
       "      <td>Nov</td>\n",
       "      <td>29</td>\n",
       "      <td>GET</td>\n",
       "    </tr>\n",
       "    <tr>\n",
       "      <th>4</th>\n",
       "      <td>10.130.2.1</td>\n",
       "      <td>29/Nov/2017:06:59:06</td>\n",
       "      <td>GET /bootstrap-3.3.7/js/bootstrap.js HTTP/1.1</td>\n",
       "      <td>200</td>\n",
       "      <td>Nov</td>\n",
       "      <td>29</td>\n",
       "      <td>GET</td>\n",
       "    </tr>\n",
       "  </tbody>\n",
       "</table>\n",
       "</div>"
      ],
      "text/plain": [
       "           IP                  Time  \\\n",
       "0  10.128.2.1  29/Nov/2017:06:58:55   \n",
       "1  10.128.2.1  29/Nov/2017:06:59:02   \n",
       "2  10.128.2.1  29/Nov/2017:06:59:03   \n",
       "3  10.131.2.1  29/Nov/2017:06:59:04   \n",
       "4  10.130.2.1  29/Nov/2017:06:59:06   \n",
       "\n",
       "                                             URL Status month day Methods  \n",
       "0                        GET /login.php HTTP/1.1    200   Nov  29    GET   \n",
       "1                     POST /process.php HTTP/1.1    302   Nov  29   POST   \n",
       "2                         GET /home.php HTTP/1.1    200   Nov  29    GET   \n",
       "3          GET /js/vendor/moment.min.js HTTP/1.1    200   Nov  29    GET   \n",
       "4  GET /bootstrap-3.3.7/js/bootstrap.js HTTP/1.1    200   Nov  29    GET   "
      ]
     },
     "execution_count": 27,
     "metadata": {},
     "output_type": "execute_result"
    }
   ],
   "source": [
    "data.head()"
   ]
  },
  {
   "cell_type": "code",
   "execution_count": 28,
   "id": "2c5cf5c7",
   "metadata": {},
   "outputs": [
    {
     "data": {
      "text/plain": [
       "GET             15098\n",
       "POST              682\n",
       "'error.txt':       64\n",
       "'*.o':             62\n",
       "'a.out':           41\n",
       "HEAD                9\n",
       "52:06.9             5\n",
       "48:37.1             5\n",
       "12:58.7             5\n",
       "2:49.8              5\n",
       "29:09.2             5\n",
       "24:12.8             5\n",
       "command             5\n",
       "main():             4\n",
       "not                 2\n",
       "1243                1\n",
       "1226                1\n",
       "44:47.7             1\n",
       ":53.4               1\n",
       "1192                1\n",
       "848                 1\n",
       "451                 1\n",
       "40:28.7             1\n",
       "20:28.3             1\n",
       "51:47.0             1\n",
       "Name: Methods, dtype: int64"
      ]
     },
     "execution_count": 28,
     "metadata": {},
     "output_type": "execute_result"
    }
   ],
   "source": [
    "data['Methods'].value_counts()"
   ]
  },
  {
   "cell_type": "code",
   "execution_count": 29,
   "id": "926be782",
   "metadata": {},
   "outputs": [],
   "source": [
    "#   data['URL_new'] = data['URL'].str.split('/').str[3]\n",
    "if data['URL'].str.contains('.php').any():\n",
    "    data['URL_new'] = data['URL'].str.split('/').str[1]\n",
    "elif data['URL'].str.contains('.js').any():\n",
    "    data['URL_new'] = data['URL'].str.split('/').str[3]"
   ]
  },
  {
   "cell_type": "code",
   "execution_count": 30,
   "id": "7af201bd",
   "metadata": {},
   "outputs": [
    {
     "data": {
      "text/html": [
       "<div>\n",
       "<style scoped>\n",
       "    .dataframe tbody tr th:only-of-type {\n",
       "        vertical-align: middle;\n",
       "    }\n",
       "\n",
       "    .dataframe tbody tr th {\n",
       "        vertical-align: top;\n",
       "    }\n",
       "\n",
       "    .dataframe thead th {\n",
       "        text-align: right;\n",
       "    }\n",
       "</style>\n",
       "<table border=\"1\" class=\"dataframe\">\n",
       "  <thead>\n",
       "    <tr style=\"text-align: right;\">\n",
       "      <th></th>\n",
       "      <th>IP</th>\n",
       "      <th>Time</th>\n",
       "      <th>URL</th>\n",
       "      <th>Status</th>\n",
       "      <th>month</th>\n",
       "      <th>day</th>\n",
       "      <th>Methods</th>\n",
       "      <th>URL_new</th>\n",
       "    </tr>\n",
       "  </thead>\n",
       "  <tbody>\n",
       "    <tr>\n",
       "      <th>0</th>\n",
       "      <td>10.128.2.1</td>\n",
       "      <td>29/Nov/2017:06:58:55</td>\n",
       "      <td>GET /login.php HTTP/1.1</td>\n",
       "      <td>200</td>\n",
       "      <td>Nov</td>\n",
       "      <td>29</td>\n",
       "      <td>GET</td>\n",
       "      <td>login.php HTTP</td>\n",
       "    </tr>\n",
       "    <tr>\n",
       "      <th>1</th>\n",
       "      <td>10.128.2.1</td>\n",
       "      <td>29/Nov/2017:06:59:02</td>\n",
       "      <td>POST /process.php HTTP/1.1</td>\n",
       "      <td>302</td>\n",
       "      <td>Nov</td>\n",
       "      <td>29</td>\n",
       "      <td>POST</td>\n",
       "      <td>process.php HTTP</td>\n",
       "    </tr>\n",
       "    <tr>\n",
       "      <th>2</th>\n",
       "      <td>10.128.2.1</td>\n",
       "      <td>29/Nov/2017:06:59:03</td>\n",
       "      <td>GET /home.php HTTP/1.1</td>\n",
       "      <td>200</td>\n",
       "      <td>Nov</td>\n",
       "      <td>29</td>\n",
       "      <td>GET</td>\n",
       "      <td>home.php HTTP</td>\n",
       "    </tr>\n",
       "    <tr>\n",
       "      <th>3</th>\n",
       "      <td>10.131.2.1</td>\n",
       "      <td>29/Nov/2017:06:59:04</td>\n",
       "      <td>GET /js/vendor/moment.min.js HTTP/1.1</td>\n",
       "      <td>200</td>\n",
       "      <td>Nov</td>\n",
       "      <td>29</td>\n",
       "      <td>GET</td>\n",
       "      <td>js</td>\n",
       "    </tr>\n",
       "    <tr>\n",
       "      <th>4</th>\n",
       "      <td>10.130.2.1</td>\n",
       "      <td>29/Nov/2017:06:59:06</td>\n",
       "      <td>GET /bootstrap-3.3.7/js/bootstrap.js HTTP/1.1</td>\n",
       "      <td>200</td>\n",
       "      <td>Nov</td>\n",
       "      <td>29</td>\n",
       "      <td>GET</td>\n",
       "      <td>bootstrap-3.3.7</td>\n",
       "    </tr>\n",
       "  </tbody>\n",
       "</table>\n",
       "</div>"
      ],
      "text/plain": [
       "           IP                  Time  \\\n",
       "0  10.128.2.1  29/Nov/2017:06:58:55   \n",
       "1  10.128.2.1  29/Nov/2017:06:59:02   \n",
       "2  10.128.2.1  29/Nov/2017:06:59:03   \n",
       "3  10.131.2.1  29/Nov/2017:06:59:04   \n",
       "4  10.130.2.1  29/Nov/2017:06:59:06   \n",
       "\n",
       "                                             URL Status month day Methods  \\\n",
       "0                        GET /login.php HTTP/1.1    200   Nov  29    GET    \n",
       "1                     POST /process.php HTTP/1.1    302   Nov  29   POST    \n",
       "2                         GET /home.php HTTP/1.1    200   Nov  29    GET    \n",
       "3          GET /js/vendor/moment.min.js HTTP/1.1    200   Nov  29    GET    \n",
       "4  GET /bootstrap-3.3.7/js/bootstrap.js HTTP/1.1    200   Nov  29    GET    \n",
       "\n",
       "            URL_new  \n",
       "0    login.php HTTP  \n",
       "1  process.php HTTP  \n",
       "2     home.php HTTP  \n",
       "3                js  \n",
       "4   bootstrap-3.3.7  "
      ]
     },
     "execution_count": 30,
     "metadata": {},
     "output_type": "execute_result"
    }
   ],
   "source": [
    "data.head()"
   ]
  },
  {
   "cell_type": "code",
   "execution_count": 31,
   "id": "e78012ae",
   "metadata": {},
   "outputs": [],
   "source": [
    "data['URL_new'] = data['URL_new'].str.split('HTTP')"
   ]
  },
  {
   "cell_type": "code",
   "execution_count": 32,
   "id": "20070204",
   "metadata": {},
   "outputs": [
    {
     "data": {
      "text/html": [
       "<div>\n",
       "<style scoped>\n",
       "    .dataframe tbody tr th:only-of-type {\n",
       "        vertical-align: middle;\n",
       "    }\n",
       "\n",
       "    .dataframe tbody tr th {\n",
       "        vertical-align: top;\n",
       "    }\n",
       "\n",
       "    .dataframe thead th {\n",
       "        text-align: right;\n",
       "    }\n",
       "</style>\n",
       "<table border=\"1\" class=\"dataframe\">\n",
       "  <thead>\n",
       "    <tr style=\"text-align: right;\">\n",
       "      <th></th>\n",
       "      <th>IP</th>\n",
       "      <th>Time</th>\n",
       "      <th>URL</th>\n",
       "      <th>Status</th>\n",
       "      <th>month</th>\n",
       "      <th>day</th>\n",
       "      <th>Methods</th>\n",
       "      <th>URL_new</th>\n",
       "    </tr>\n",
       "  </thead>\n",
       "  <tbody>\n",
       "    <tr>\n",
       "      <th>0</th>\n",
       "      <td>10.128.2.1</td>\n",
       "      <td>29/Nov/2017:06:58:55</td>\n",
       "      <td>GET /login.php HTTP/1.1</td>\n",
       "      <td>200</td>\n",
       "      <td>Nov</td>\n",
       "      <td>29</td>\n",
       "      <td>GET</td>\n",
       "      <td>[login.php , ]</td>\n",
       "    </tr>\n",
       "    <tr>\n",
       "      <th>1</th>\n",
       "      <td>10.128.2.1</td>\n",
       "      <td>29/Nov/2017:06:59:02</td>\n",
       "      <td>POST /process.php HTTP/1.1</td>\n",
       "      <td>302</td>\n",
       "      <td>Nov</td>\n",
       "      <td>29</td>\n",
       "      <td>POST</td>\n",
       "      <td>[process.php , ]</td>\n",
       "    </tr>\n",
       "    <tr>\n",
       "      <th>2</th>\n",
       "      <td>10.128.2.1</td>\n",
       "      <td>29/Nov/2017:06:59:03</td>\n",
       "      <td>GET /home.php HTTP/1.1</td>\n",
       "      <td>200</td>\n",
       "      <td>Nov</td>\n",
       "      <td>29</td>\n",
       "      <td>GET</td>\n",
       "      <td>[home.php , ]</td>\n",
       "    </tr>\n",
       "    <tr>\n",
       "      <th>3</th>\n",
       "      <td>10.131.2.1</td>\n",
       "      <td>29/Nov/2017:06:59:04</td>\n",
       "      <td>GET /js/vendor/moment.min.js HTTP/1.1</td>\n",
       "      <td>200</td>\n",
       "      <td>Nov</td>\n",
       "      <td>29</td>\n",
       "      <td>GET</td>\n",
       "      <td>[js]</td>\n",
       "    </tr>\n",
       "    <tr>\n",
       "      <th>4</th>\n",
       "      <td>10.130.2.1</td>\n",
       "      <td>29/Nov/2017:06:59:06</td>\n",
       "      <td>GET /bootstrap-3.3.7/js/bootstrap.js HTTP/1.1</td>\n",
       "      <td>200</td>\n",
       "      <td>Nov</td>\n",
       "      <td>29</td>\n",
       "      <td>GET</td>\n",
       "      <td>[bootstrap-3.3.7]</td>\n",
       "    </tr>\n",
       "  </tbody>\n",
       "</table>\n",
       "</div>"
      ],
      "text/plain": [
       "           IP                  Time  \\\n",
       "0  10.128.2.1  29/Nov/2017:06:58:55   \n",
       "1  10.128.2.1  29/Nov/2017:06:59:02   \n",
       "2  10.128.2.1  29/Nov/2017:06:59:03   \n",
       "3  10.131.2.1  29/Nov/2017:06:59:04   \n",
       "4  10.130.2.1  29/Nov/2017:06:59:06   \n",
       "\n",
       "                                             URL Status month day Methods  \\\n",
       "0                        GET /login.php HTTP/1.1    200   Nov  29    GET    \n",
       "1                     POST /process.php HTTP/1.1    302   Nov  29   POST    \n",
       "2                         GET /home.php HTTP/1.1    200   Nov  29    GET    \n",
       "3          GET /js/vendor/moment.min.js HTTP/1.1    200   Nov  29    GET    \n",
       "4  GET /bootstrap-3.3.7/js/bootstrap.js HTTP/1.1    200   Nov  29    GET    \n",
       "\n",
       "             URL_new  \n",
       "0     [login.php , ]  \n",
       "1   [process.php , ]  \n",
       "2      [home.php , ]  \n",
       "3               [js]  \n",
       "4  [bootstrap-3.3.7]  "
      ]
     },
     "execution_count": 32,
     "metadata": {},
     "output_type": "execute_result"
    }
   ],
   "source": [
    "data.head()"
   ]
  },
  {
   "cell_type": "code",
   "execution_count": 33,
   "id": "7ce1d850",
   "metadata": {},
   "outputs": [
    {
     "data": {
      "text/plain": [
       "Text(0.5, 1.0, 'Most Popular Methods by the Users')"
      ]
     },
     "execution_count": 33,
     "metadata": {},
     "output_type": "execute_result"
    },
    {
     "data": {
      "image/png": "[encoded data removed]",
      "text/plain": [
       "<Figure size 1296x504 with 1 Axes>"
      ]
     },
     "metadata": {
      "needs_background": "light"
     },
     "output_type": "display_data"
    }
   ],
   "source": [
    "plt.rcParams['figure.figsize'] = (18, 7)\n",
    "\n",
    "color = plt.cm.copper(np.linspace(0, 1, 40))\n",
    "data['Methods'].value_counts().head(40).plot.bar(color = color)\n",
    "plt.title('Most Popular Methods by the Users', fontsize = 20)"
   ]
  },
  {
   "cell_type": "code",
   "execution_count": 34,
   "id": "75cab5c3",
   "metadata": {},
   "outputs": [
    {
     "data": {
      "text/plain": [
       "Text(0.5, 1.0, 'Most Popular URLs by the Users')"
      ]
     },
     "execution_count": 34,
     "metadata": {},
     "output_type": "execute_result"
    },
    {
     "data": {
      "image/png": "[encoded data removed]",
      "text/plain": [
       "<Figure size 1296x504 with 1 Axes>"
      ]
     },
     "metadata": {
      "needs_background": "light"
     },
     "output_type": "display_data"
    }
   ],
   "source": [
    "plt.rcParams['figure.figsize'] = (18, 7)\n",
    "\n",
    "color = plt.cm.copper(np.linspace(0, 1, 40))\n",
    "data['URL_new'].value_counts().head(40).plot.bar(color = color)\n",
    "plt.title('Most Popular URLs by the Users', fontsize = 20)"
   ]
  },
  {
   "cell_type": "code",
   "execution_count": 35,
   "id": "e9ff051d",
   "metadata": {},
   "outputs": [
    {
     "data": {
      "text/plain": [
       "Text(0.5, 1.0, 'Most Popular Months of Logins')"
      ]
     },
     "execution_count": 35,
     "metadata": {},
     "output_type": "execute_result"
    },
    {
     "data": {
      "image/png": "[encoded data removed]",
      "text/plain": [
       "<Figure size 1296x504 with 1 Axes>"
      ]
     },
     "metadata": {
      "needs_background": "light"
     },
     "output_type": "display_data"
    }
   ],
   "source": [
    "plt.rcParams['figure.figsize'] = (18, 7)\n",
    "\n",
    "color = plt.cm.copper(np.linspace(0, 1, 40))\n",
    "data['month'].value_counts().head(40).plot.bar(color = 'cyan')\n",
    "plt.title('Most Popular Months of Logins', fontsize = 20)"
   ]
  },
  {
   "cell_type": "code",
   "execution_count": 36,
   "id": "b5d25cd6",
   "metadata": {},
   "outputs": [
    {
     "data": {
      "text/plain": [
       "Text(0.5, 1.0, 'Most Popular Days of Logins')"
      ]
     },
     "execution_count": 36,
     "metadata": {},
     "output_type": "execute_result"
    },
    {
     "data": {
      "image/png": "[encoded data removed]",
      "text/plain": [
       "<Figure size 1296x504 with 1 Axes>"
      ]
     },
     "metadata": {
      "needs_background": "light"
     },
     "output_type": "display_data"
    }
   ],
   "source": [
    "plt.rcParams['figure.figsize'] = (18, 7)\n",
    "\n",
    "color = plt.cm.copper(np.linspace(0, 1, 40))\n",
    "data['day'].value_counts().head(40).plot.bar(color = 'tomato')\n",
    "plt.title('Most Popular Days of Logins', fontsize = 20)"
   ]
  },
  {
   "cell_type": "code",
   "execution_count": 37,
   "id": "535e41da",
   "metadata": {},
   "outputs": [
    {
     "data": {
      "text/plain": [
       "Text(0.5, 1.0, 'Most Popular statuses for the Users')"
      ]
     },
     "execution_count": 37,
     "metadata": {},
     "output_type": "execute_result"
    },
    {
     "data": {
      "image/png": "[encoded data removed]",
      "text/plain": [
       "<Figure size 1296x504 with 1 Axes>"
      ]
     },
     "metadata": {
      "needs_background": "light"
     },
     "output_type": "display_data"
    }
   ],
   "source": [
    "plt.rcParams['figure.figsize'] = (18, 7)\n",
    "\n",
    "color = plt.cm.Wistia(np.linspace(0, 1, 40))\n",
    "data['Status'].value_counts().head(40).plot.bar(color = 'seagreen')\n",
    "plt.title('Most Popular statuses for the Users', fontsize = 20)"
   ]
  },
  {
   "cell_type": "code",
   "execution_count": 38,
   "id": "cc6e666f",
   "metadata": {},
   "outputs": [
    {
     "ename": "ModuleNotFoundError",
     "evalue": "No module named 'plotly'",
     "output_type": "error",
     "traceback": [
      "\u001b[0;31m---------------------------------------------------------------------------\u001b[0m",
      "\u001b[0;31mModuleNotFoundError\u001b[0m                       Traceback (most recent call last)",
      "\u001b[0;32m/tmp/ipykernel_112/3344571900.py\u001b[0m in \u001b[0;36m<module>\u001b[0;34m\u001b[0m\n\u001b[0;32m----> 1\u001b[0;31m \u001b[0;32mimport\u001b[0m \u001b[0mplotly\u001b[0m\u001b[0;34m.\u001b[0m\u001b[0mexpress\u001b[0m \u001b[0;32mas\u001b[0m \u001b[0mpx\u001b[0m\u001b[0;34m\u001b[0m\u001b[0;34m\u001b[0m\u001b[0m\n\u001b[0m\u001b[1;32m      2\u001b[0m \u001b[0;34m\u001b[0m\u001b[0m\n\u001b[1;32m      3\u001b[0m fig = px.bar(data, x=\"day\", y=\"month\", color=\"month\",\n\u001b[1;32m      4\u001b[0m             hover_data=['day'], barmode = 'stack',title = \"Months to dates\")\n\u001b[1;32m      5\u001b[0m \u001b[0;34m\u001b[0m\u001b[0m\n",
      "\u001b[0;31mModuleNotFoundError\u001b[0m: No module named 'plotly'"
     ]
    }
   ],
   "source": [
    "import plotly.express as px\n",
    "  \n",
    "fig = px.bar(data, x=\"day\", y=\"month\", color=\"month\",\n",
    "            hover_data=['day'], barmode = 'stack',title = \"Months to dates\")\n",
    "\n",
    "fig.show()"
   ]
  },
  {
   "cell_type": "code",
   "execution_count": null,
   "id": "37f82cb5",
   "metadata": {},
   "outputs": [],
   "source": []
  }
 ],
 "metadata": {
  "kernelspec": {
   "display_name": "Python 3 (ipykernel)",
   "language": "python",
   "name": "python3"
  },
  "language_info": {
   "codemirror_mode": {
    "name": "ipython",
    "version": 3
   },
   "file_extension": ".py",
   "mimetype": "text/x-python",
   "name": "python",
   "nbconvert_exporter": "python",
   "pygments_lexer": "ipython3",
   "version": "3.8.12"
  }
 },
 "nbformat": 4,
 "nbformat_minor": 5
}
