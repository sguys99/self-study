{
 "cells": [
  {
   "attachments": {},
   "cell_type": "markdown",
   "metadata": {},
   "source": [
    "## ch08\n",
    "- https://github.com/thampiman/interpretable-ai-book/blob/master/Chapter_08/chapter_08_eda.ipynb"
   ]
  },
  {
   "attachments": {},
   "cell_type": "markdown",
   "metadata": {},
   "source": [
    "<div style=\"text-align: right\"> <b>Author : Kwang Myung Yu</b></div>\n",
    "<div style=\"text-align: right\"> Initial upload: 2023.10.05</div>\n",
    "<div style=\"text-align: right\"> Last update: 2023.10.05</div>"
   ]
  },
  {
   "cell_type": "code",
   "execution_count": 1,
   "metadata": {},
   "outputs": [],
   "source": [
    "import os\n",
    "import sys\n",
    "import time\n",
    "import numpy as np\n",
    "import pandas as pd\n",
    "import matplotlib as mpl\n",
    "import matplotlib.pyplot as plt\n",
    "import matplotlib.gridspec as gridspec\n",
    "import seaborn as sns\n",
    "from scipy import stats\n",
    "import warnings; warnings.filterwarnings('ignore')\n",
    "#plt.style.use('ggplot')\n",
    "plt.style.use('seaborn-whitegrid')\n",
    "%matplotlib inline"
   ]
  },
  {
   "cell_type": "code",
   "execution_count": 2,
   "metadata": {},
   "outputs": [],
   "source": [
    "from tqdm.notebook import tqdm\n",
    "\n",
    "SMALL_SIZE = 12\n",
    "MEDIUM_SIZE = 14\n",
    "BIGGER_SIZE = 16\n",
    "\n",
    "plt.rc('font', size=SMALL_SIZE)          # controls default text sizes\n",
    "plt.rc('axes', titlesize=SMALL_SIZE)     # fontsize of the axes title\n",
    "plt.rc('axes', labelsize=MEDIUM_SIZE)    # fontsize of the x and y labels\n",
    "plt.rc('xtick', labelsize=SMALL_SIZE)    # fontsize of the tick labels\n",
    "plt.rc('ytick', labelsize=SMALL_SIZE)    # fontsize of the tick labels\n",
    "plt.rc('legend', fontsize=SMALL_SIZE)    # legend fontsize\n",
    "plt.rc('figure', titlesize=BIGGER_SIZE)  # fontsize of the figure title\n"
   ]
  },
  {
   "cell_type": "markdown",
   "metadata": {},
   "source": [
    "이제 머신러닝 모델로 구동되는 시스템을 구축할 때 중요한 문제인 편향성 문제를 해결해 보겠습니다.  \n",
    "이 문제는 여러 가지 이유로 중요합니다.  \n",
    "우리는 개인이나 시스템 사용자를 차별하지 않는 시스템을 구축해야 합니다.  \n",
    "기업이 기회를 제공하거나 서비스 또는 정보의 품질과 같은 의사결정에 AI를 사용하는 경우, 편향된 의사결정은 기업의 평판을 손상시키거나 고객의 신뢰에 부정적인 영향을 미침으로써 기업에 막대한 비용을 초래할 수 있습니다.  \n",
    "미국 및 유럽과 같은 특정 지역에서는 성별, 인종, 민족, 성적 지향 등과 같은 보호 대상 속성에 근거하여 개인을 차별하는 것을 금지하는 법률이 있습니다.  \n",
    "금융 서비스, 교육, 주택, 고용, 신용, 의료 등 일부 규제 대상 산업에서는 의사 결정 시 보호 속성의 사용을 금지하거나 제한하고 있으며, AI 시스템은 특정 공정성을 보장해야 합니다."
   ]
  },
  {
   "cell_type": "markdown",
   "metadata": {},
   "source": [
    "편향성과 공정성 문제를 살펴보기 전에, 그림 8.1과 같이 데이터 유출, 편향성, 규정 미준수, 개념 표류와 같은 일반적인 문제를 해결하는 강력한 AI 시스템을 구축하는 데 사용한 프로세스를 요약해 보겠습니다.  \n",
    "학습, 테스트, 이해 단계는 오프라인에서 이루어지며, 과거 레이블이 지정된 데이터를 기반으로 모델을 학습하고, 평가하고, 다양한 해석 가능성 기법을 사용하여 이해하는 과정입니다.  \n",
    "모델이 배포되면 온라인으로 전환되어 라이브 데이터에 대한 예측을 시작합니다.  \n",
    "이 모델은 또한 프로덕션 환경의 데이터 배포가 개발 및 테스트 환경의 데이터 배포와 다를 때 발생하는 개념 이탈이 없는지 모니터링되며, 지속적인 학습, 평가 및 배포를 위해 새로운 데이터가 과거 학습 데이터 세트에 다시 추가되는 피드백 루프도 있습니다."
   ]
  },
  {
   "cell_type": "markdown",
   "metadata": {},
   "source": [
    "이 시스템에서 편향의 원인은 무엇일까요?  \n",
    "그림 8.2에서 볼 수 있듯이 라벨링 프로세스에서 편향이 있거나 샘플링 또는 데이터 수집 프로세스에서 편향이 있을 수 있는 과거 학습 데이터 세트가 한 가지 원인입니다.  \n",
    "또 다른 원인은 알고리즘이 특정 개인 또는 개인 그룹을 다른 개인보다 선호할 수 있는 모델 자체이며, 모델이 자체적으로 편향된 데이터 세트를 학습하는 경우 편향이 더욱 증폭됩니다.  \n",
    "또 다른 편향의 원인은 프로덕션 환경에서 개발 및 테스트 환경으로 피드백 루프가 반복되는 것입니다.  \n",
    "초기 데이터 세트 또는 모델이 편향된 경우 프로덕션에 배포된 모델은 계속해서 편향된 예측을 하게 되며, 이러한 예측을 기반으로 한 데이터가 학습 데이터로 피드백되면 이러한 편향은 더욱 강화되고 증폭됩니다."
   ]
  },
  {
   "cell_type": "markdown",
   "metadata": {},
   "source": [
    "![Alt text](image.png)"
   ]
  },
  {
   "cell_type": "markdown",
   "metadata": {},
   "source": [
    "해석 가능성은 편향성 및 공정성 문제에서 어디에 적합할까요?  \n",
    "그림8.2에서 볼 수 있듯이, 훈련과 테스트 중에 해석 가능성 기법을 사용하여 과거 데이터 세트 또는 모델의 문제를 노출할 수 있습니다.  \n",
    "우리는 이미 3장에서 부분 의존도 플롯(PDP)을 사용한 고등학생 성적 예측 문제에서 인종 편향이 노출된 것을 보았습니다.  \n",
    "모델을 배포한 후에는 해석 가능성 기법을 사용하여 모델 예측이 계속 공정하게 유지되도록 할 수 있습니다.  \n",
    "이 장에서는 성인의 소득을 예측하는 또 다른 구체적인 예를 사용하여 편향성과 공정성에 대한 주제를 더 자세히 살펴볼 것입니다.  \n",
    "그런 다음 공정성에 대한 다양한 개념에 대한 공식적인 정의를 제시하고 이를 사용하여 모델이 편향되었는지 여부를 판단합니다.  \n",
    "그런 다음 해석 가능성 기법을 사용하여 공정성 문제를 측정하고 노출할 것입니다.  \n",
    "또한 편향성을 완화하기 위한 기법도 논의할 것입니다.  \n",
    "마지막으로, AI 시스템의 이해관계자 및 사용자와의 투명성과 책임성을 개선하는 데 도움이 되는 데이터시트를 사용하여 데이터세트를 문서화하는 표준화 접근 방식을 살펴봅니다."
   ]
  },
  {
   "cell_type": "markdown",
   "metadata": {},
   "source": [
    "### Adult income prediction"
   ]
  },
  {
   "cell_type": "markdown",
   "metadata": {},
   "source": [
    "![Alt text](image-1.png)"
   ]
  },
  {
   "cell_type": "markdown",
   "metadata": {},
   "source": [
    "그림 8.3에서 볼 수 있듯이 교육 수준, 직업, 나이, 성별, 인종, 자본 이득 등 소득 예측을 위한 다양한 입력이 주어집니다.  \n",
    "우리는 이러한 입력을 받아 \"성인이 연간 5만 달러 이상을 버는가?\"라는 질문에 대한 예 또는 아니오 답변을 출력하는 직사각형 상자로 표시된 소득 예측자를 구축하는 임무를 수행해야 합니다. 따라서 이 문제는 예 또는 아니오라는 이진 답변에 관심이 있기 때문에 이진 분류 문제로 공식화할 수 있습니다.  \n",
    "'예'라는 대답을 양수 레이블로, '아니오'라는 대답을 음수 레이블로 처리하며, 30,940명의 성인으로 구성된 인구조사국의 과거 데이터 세트가 주어집니다.  \n",
    "입력 특징은 표 8.1에 요약되어 있습니다.  \n",
    "표에서 연속형 변수와 범주형 변수가 혼합된 것을 볼 수 있습니다.  \n",
    "이 책에서 다룬 대부분의 데이터 세트는 특징값이 실수인 연속형 특징들로 구성되었습니다.  \n",
    "범주형 특징을 다루는 방법은 3장에서 살펴보았습니다.  \n",
    "다시 말해, 범주형 특징은 값이 불연속적이고 유한한 특징입니다.  \n",
    "이를 숫자 값으로 인코딩해야 하는데, 3장에서 라벨 인코더를 사용하여 인코딩하는 방법도 살펴봤습니다."
   ]
  },
  {
   "cell_type": "markdown",
   "metadata": {},
   "source": [
    "![Alt text](image-2.png)"
   ]
  },
  {
   "cell_type": "markdown",
   "metadata": {},
   "source": [
    "또한 표 8.1에는 특정 기능이 보호 대상 속성인지 여부도 표시되어 있습니다.  \n",
    "보호 속성은 많은 국가에서 공통적으로 적용되는 법률에 따라 개인을 차별하는 데 사용할 수 없는 속성입니다.  \n",
    "예를 들어 미국에서는 1964년 민권법에 따라 성별, 인종, 나이, 피부색, 신념, 출신 국가, 성적 지향, 종교 등의 속성을 이유로 한 차별로부터 개인을 보호하고 있습니다. 영국에서는 2010년 평등법에 따라 동일한 속성을 가진 개인을 차별로부터 보호하고 있으며, 이 데이터 세트에서는 연령, 성별, 인종이라는 세 가지 보호 속성을 다루고 있습니다. 나이는 연속형 특성이고 성별과 인종은 범주형 특성입니다.  \n",
    "이 장에서는 주로 성별과 인종에 초점을 맞추겠지만, 공정성 개념과 기법을 나이와 같은 연속적인 보호 속성으로 확장하는 방법을 배우게 될 것입니다.  \n",
    "이 데이터 세트에서는 성별과 인종으로 남성과 여성이라는 두 가지 성별과 백인과 흑인이라는 두 가지 인종을 다루고 있습니다.  \n",
    "안타깝게도 이 데이터 세트에는 더 많은 성별 또는 인종 그룹이 제대로 표현되어 있지 않기 때문에 더 많은 성별 또는 인종 그룹을 포함할 수 없습니다."
   ]
  },
  {
   "cell_type": "markdown",
   "metadata": {},
   "source": [
    "마지막으로, 이 데이터 집합의 대상 변수는 이진이며, 1은 성인의 연봉이 연간 5만 달러 이상임을 나타내고 0은 연봉이 연간 5만 달러 이하임을 나타냅니다. 이제 이 데이터 집합을 살펴보고 특히 전체 급여 분포와 두 가지 보호 대상 속성인 성별과 인종에 초점을 맞춰 살펴보겠습니다."
   ]
  },
  {
   "cell_type": "markdown",
   "metadata": {},
   "source": [
    "## EDA"
   ]
  },
  {
   "cell_type": "code",
   "execution_count": 3,
   "metadata": {},
   "outputs": [],
   "source": [
    "df = pd.read_csv(\"adult.data\",                  \n",
    "                 names=['age', 'workclass', 'fnlwgt',\n",
    "                        'education', 'education-num', 'marital-status',\n",
    "                        'occupation', 'relationship', 'race',\n",
    "                        'gender', 'capital-gain', 'capital-loss',\n",
    "                        'hours-per-week', 'native-country', 'salary'])\n"
   ]
  },
  {
   "cell_type": "code",
   "execution_count": 4,
   "metadata": {},
   "outputs": [
    {
     "data": {
      "text/html": [
       "<div>\n",
       "<style scoped>\n",
       "    .dataframe tbody tr th:only-of-type {\n",
       "        vertical-align: middle;\n",
       "    }\n",
       "\n",
       "    .dataframe tbody tr th {\n",
       "        vertical-align: top;\n",
       "    }\n",
       "\n",
       "    .dataframe thead th {\n",
       "        text-align: right;\n",
       "    }\n",
       "</style>\n",
       "<table border=\"1\" class=\"dataframe\">\n",
       "  <thead>\n",
       "    <tr style=\"text-align: right;\">\n",
       "      <th></th>\n",
       "      <th>age</th>\n",
       "      <th>workclass</th>\n",
       "      <th>fnlwgt</th>\n",
       "      <th>education</th>\n",
       "      <th>education-num</th>\n",
       "      <th>marital-status</th>\n",
       "      <th>occupation</th>\n",
       "      <th>relationship</th>\n",
       "      <th>race</th>\n",
       "      <th>gender</th>\n",
       "      <th>capital-gain</th>\n",
       "      <th>capital-loss</th>\n",
       "      <th>hours-per-week</th>\n",
       "      <th>native-country</th>\n",
       "      <th>salary</th>\n",
       "    </tr>\n",
       "  </thead>\n",
       "  <tbody>\n",
       "    <tr>\n",
       "      <th>0</th>\n",
       "      <td>39</td>\n",
       "      <td>State-gov</td>\n",
       "      <td>77516</td>\n",
       "      <td>Bachelors</td>\n",
       "      <td>13</td>\n",
       "      <td>Never-married</td>\n",
       "      <td>Adm-clerical</td>\n",
       "      <td>Not-in-family</td>\n",
       "      <td>White</td>\n",
       "      <td>Male</td>\n",
       "      <td>2174</td>\n",
       "      <td>0</td>\n",
       "      <td>40</td>\n",
       "      <td>United-States</td>\n",
       "      <td>&lt;=50K</td>\n",
       "    </tr>\n",
       "    <tr>\n",
       "      <th>1</th>\n",
       "      <td>50</td>\n",
       "      <td>Self-emp-not-inc</td>\n",
       "      <td>83311</td>\n",
       "      <td>Bachelors</td>\n",
       "      <td>13</td>\n",
       "      <td>Married-civ-spouse</td>\n",
       "      <td>Exec-managerial</td>\n",
       "      <td>Husband</td>\n",
       "      <td>White</td>\n",
       "      <td>Male</td>\n",
       "      <td>0</td>\n",
       "      <td>0</td>\n",
       "      <td>13</td>\n",
       "      <td>United-States</td>\n",
       "      <td>&lt;=50K</td>\n",
       "    </tr>\n",
       "    <tr>\n",
       "      <th>2</th>\n",
       "      <td>38</td>\n",
       "      <td>Private</td>\n",
       "      <td>215646</td>\n",
       "      <td>HS-grad</td>\n",
       "      <td>9</td>\n",
       "      <td>Divorced</td>\n",
       "      <td>Handlers-cleaners</td>\n",
       "      <td>Not-in-family</td>\n",
       "      <td>White</td>\n",
       "      <td>Male</td>\n",
       "      <td>0</td>\n",
       "      <td>0</td>\n",
       "      <td>40</td>\n",
       "      <td>United-States</td>\n",
       "      <td>&lt;=50K</td>\n",
       "    </tr>\n",
       "    <tr>\n",
       "      <th>3</th>\n",
       "      <td>53</td>\n",
       "      <td>Private</td>\n",
       "      <td>234721</td>\n",
       "      <td>11th</td>\n",
       "      <td>7</td>\n",
       "      <td>Married-civ-spouse</td>\n",
       "      <td>Handlers-cleaners</td>\n",
       "      <td>Husband</td>\n",
       "      <td>Black</td>\n",
       "      <td>Male</td>\n",
       "      <td>0</td>\n",
       "      <td>0</td>\n",
       "      <td>40</td>\n",
       "      <td>United-States</td>\n",
       "      <td>&lt;=50K</td>\n",
       "    </tr>\n",
       "    <tr>\n",
       "      <th>4</th>\n",
       "      <td>28</td>\n",
       "      <td>Private</td>\n",
       "      <td>338409</td>\n",
       "      <td>Bachelors</td>\n",
       "      <td>13</td>\n",
       "      <td>Married-civ-spouse</td>\n",
       "      <td>Prof-specialty</td>\n",
       "      <td>Wife</td>\n",
       "      <td>Black</td>\n",
       "      <td>Female</td>\n",
       "      <td>0</td>\n",
       "      <td>0</td>\n",
       "      <td>40</td>\n",
       "      <td>Cuba</td>\n",
       "      <td>&lt;=50K</td>\n",
       "    </tr>\n",
       "  </tbody>\n",
       "</table>\n",
       "</div>"
      ],
      "text/plain": [
       "   age          workclass  fnlwgt   education  education-num   \n",
       "0   39          State-gov   77516   Bachelors             13  \\\n",
       "1   50   Self-emp-not-inc   83311   Bachelors             13   \n",
       "2   38            Private  215646     HS-grad              9   \n",
       "3   53            Private  234721        11th              7   \n",
       "4   28            Private  338409   Bachelors             13   \n",
       "\n",
       "        marital-status          occupation    relationship    race   gender   \n",
       "0        Never-married        Adm-clerical   Not-in-family   White     Male  \\\n",
       "1   Married-civ-spouse     Exec-managerial         Husband   White     Male   \n",
       "2             Divorced   Handlers-cleaners   Not-in-family   White     Male   \n",
       "3   Married-civ-spouse   Handlers-cleaners         Husband   Black     Male   \n",
       "4   Married-civ-spouse      Prof-specialty            Wife   Black   Female   \n",
       "\n",
       "   capital-gain  capital-loss  hours-per-week  native-country  salary  \n",
       "0          2174             0              40   United-States   <=50K  \n",
       "1             0             0              13   United-States   <=50K  \n",
       "2             0             0              40   United-States   <=50K  \n",
       "3             0             0              40   United-States   <=50K  \n",
       "4             0             0              40            Cuba   <=50K  "
      ]
     },
     "execution_count": 4,
     "metadata": {},
     "output_type": "execute_result"
    }
   ],
   "source": [
    "df.head()"
   ]
  },
  {
   "cell_type": "code",
   "execution_count": 5,
   "metadata": {},
   "outputs": [
    {
     "data": {
      "text/html": [
       "<div>\n",
       "<style scoped>\n",
       "    .dataframe tbody tr th:only-of-type {\n",
       "        vertical-align: middle;\n",
       "    }\n",
       "\n",
       "    .dataframe tbody tr th {\n",
       "        vertical-align: top;\n",
       "    }\n",
       "\n",
       "    .dataframe thead th {\n",
       "        text-align: right;\n",
       "    }\n",
       "</style>\n",
       "<table border=\"1\" class=\"dataframe\">\n",
       "  <thead>\n",
       "    <tr style=\"text-align: right;\">\n",
       "      <th></th>\n",
       "      <th>age</th>\n",
       "      <th>fnlwgt</th>\n",
       "      <th>education-num</th>\n",
       "      <th>capital-gain</th>\n",
       "      <th>capital-loss</th>\n",
       "      <th>hours-per-week</th>\n",
       "    </tr>\n",
       "  </thead>\n",
       "  <tbody>\n",
       "    <tr>\n",
       "      <th>count</th>\n",
       "      <td>32561.000000</td>\n",
       "      <td>3.256100e+04</td>\n",
       "      <td>32561.000000</td>\n",
       "      <td>32561.000000</td>\n",
       "      <td>32561.000000</td>\n",
       "      <td>32561.000000</td>\n",
       "    </tr>\n",
       "    <tr>\n",
       "      <th>mean</th>\n",
       "      <td>38.581647</td>\n",
       "      <td>1.897784e+05</td>\n",
       "      <td>10.080679</td>\n",
       "      <td>1077.648844</td>\n",
       "      <td>87.303830</td>\n",
       "      <td>40.437456</td>\n",
       "    </tr>\n",
       "    <tr>\n",
       "      <th>std</th>\n",
       "      <td>13.640433</td>\n",
       "      <td>1.055500e+05</td>\n",
       "      <td>2.572720</td>\n",
       "      <td>7385.292085</td>\n",
       "      <td>402.960219</td>\n",
       "      <td>12.347429</td>\n",
       "    </tr>\n",
       "    <tr>\n",
       "      <th>min</th>\n",
       "      <td>17.000000</td>\n",
       "      <td>1.228500e+04</td>\n",
       "      <td>1.000000</td>\n",
       "      <td>0.000000</td>\n",
       "      <td>0.000000</td>\n",
       "      <td>1.000000</td>\n",
       "    </tr>\n",
       "    <tr>\n",
       "      <th>25%</th>\n",
       "      <td>28.000000</td>\n",
       "      <td>1.178270e+05</td>\n",
       "      <td>9.000000</td>\n",
       "      <td>0.000000</td>\n",
       "      <td>0.000000</td>\n",
       "      <td>40.000000</td>\n",
       "    </tr>\n",
       "    <tr>\n",
       "      <th>50%</th>\n",
       "      <td>37.000000</td>\n",
       "      <td>1.783560e+05</td>\n",
       "      <td>10.000000</td>\n",
       "      <td>0.000000</td>\n",
       "      <td>0.000000</td>\n",
       "      <td>40.000000</td>\n",
       "    </tr>\n",
       "    <tr>\n",
       "      <th>75%</th>\n",
       "      <td>48.000000</td>\n",
       "      <td>2.370510e+05</td>\n",
       "      <td>12.000000</td>\n",
       "      <td>0.000000</td>\n",
       "      <td>0.000000</td>\n",
       "      <td>45.000000</td>\n",
       "    </tr>\n",
       "    <tr>\n",
       "      <th>max</th>\n",
       "      <td>90.000000</td>\n",
       "      <td>1.484705e+06</td>\n",
       "      <td>16.000000</td>\n",
       "      <td>99999.000000</td>\n",
       "      <td>4356.000000</td>\n",
       "      <td>99.000000</td>\n",
       "    </tr>\n",
       "  </tbody>\n",
       "</table>\n",
       "</div>"
      ],
      "text/plain": [
       "                age        fnlwgt  education-num  capital-gain  capital-loss   \n",
       "count  32561.000000  3.256100e+04   32561.000000  32561.000000  32561.000000  \\\n",
       "mean      38.581647  1.897784e+05      10.080679   1077.648844     87.303830   \n",
       "std       13.640433  1.055500e+05       2.572720   7385.292085    402.960219   \n",
       "min       17.000000  1.228500e+04       1.000000      0.000000      0.000000   \n",
       "25%       28.000000  1.178270e+05       9.000000      0.000000      0.000000   \n",
       "50%       37.000000  1.783560e+05      10.000000      0.000000      0.000000   \n",
       "75%       48.000000  2.370510e+05      12.000000      0.000000      0.000000   \n",
       "max       90.000000  1.484705e+06      16.000000  99999.000000   4356.000000   \n",
       "\n",
       "       hours-per-week  \n",
       "count    32561.000000  \n",
       "mean        40.437456  \n",
       "std         12.347429  \n",
       "min          1.000000  \n",
       "25%         40.000000  \n",
       "50%         40.000000  \n",
       "75%         45.000000  \n",
       "max         99.000000  "
      ]
     },
     "execution_count": 5,
     "metadata": {},
     "output_type": "execute_result"
    }
   ],
   "source": [
    "df.describe()"
   ]
  },
  {
   "cell_type": "code",
   "execution_count": 6,
   "metadata": {},
   "outputs": [],
   "source": [
    "df_obj = df.select_dtypes(['object'])"
   ]
  },
  {
   "cell_type": "code",
   "execution_count": 7,
   "metadata": {},
   "outputs": [
    {
     "data": {
      "text/plain": [
       "Index(['workclass', 'education', 'marital-status', 'occupation',\n",
       "       'relationship', 'race', 'gender', 'native-country', 'salary'],\n",
       "      dtype='object')"
      ]
     },
     "execution_count": 7,
     "metadata": {},
     "output_type": "execute_result"
    }
   ],
   "source": [
    "df_obj.columns"
   ]
  },
  {
   "cell_type": "code",
   "execution_count": 8,
   "metadata": {},
   "outputs": [],
   "source": [
    "df[df_obj.columns] = df_obj.apply(lambda x: x.str.strip())"
   ]
  },
  {
   "cell_type": "code",
   "execution_count": 9,
   "metadata": {},
   "outputs": [
    {
     "data": {
      "text/html": [
       "<div>\n",
       "<style scoped>\n",
       "    .dataframe tbody tr th:only-of-type {\n",
       "        vertical-align: middle;\n",
       "    }\n",
       "\n",
       "    .dataframe tbody tr th {\n",
       "        vertical-align: top;\n",
       "    }\n",
       "\n",
       "    .dataframe thead th {\n",
       "        text-align: right;\n",
       "    }\n",
       "</style>\n",
       "<table border=\"1\" class=\"dataframe\">\n",
       "  <thead>\n",
       "    <tr style=\"text-align: right;\">\n",
       "      <th></th>\n",
       "      <th>age</th>\n",
       "      <th>workclass</th>\n",
       "      <th>fnlwgt</th>\n",
       "      <th>education</th>\n",
       "      <th>education-num</th>\n",
       "      <th>marital-status</th>\n",
       "      <th>occupation</th>\n",
       "      <th>relationship</th>\n",
       "      <th>race</th>\n",
       "      <th>gender</th>\n",
       "      <th>capital-gain</th>\n",
       "      <th>capital-loss</th>\n",
       "      <th>hours-per-week</th>\n",
       "      <th>native-country</th>\n",
       "      <th>salary</th>\n",
       "    </tr>\n",
       "  </thead>\n",
       "  <tbody>\n",
       "    <tr>\n",
       "      <th>0</th>\n",
       "      <td>39</td>\n",
       "      <td>State-gov</td>\n",
       "      <td>77516</td>\n",
       "      <td>Bachelors</td>\n",
       "      <td>13</td>\n",
       "      <td>Never-married</td>\n",
       "      <td>Adm-clerical</td>\n",
       "      <td>Not-in-family</td>\n",
       "      <td>White</td>\n",
       "      <td>Male</td>\n",
       "      <td>2174</td>\n",
       "      <td>0</td>\n",
       "      <td>40</td>\n",
       "      <td>United-States</td>\n",
       "      <td>&lt;=50K</td>\n",
       "    </tr>\n",
       "    <tr>\n",
       "      <th>1</th>\n",
       "      <td>50</td>\n",
       "      <td>Self-emp-not-inc</td>\n",
       "      <td>83311</td>\n",
       "      <td>Bachelors</td>\n",
       "      <td>13</td>\n",
       "      <td>Married-civ-spouse</td>\n",
       "      <td>Exec-managerial</td>\n",
       "      <td>Husband</td>\n",
       "      <td>White</td>\n",
       "      <td>Male</td>\n",
       "      <td>0</td>\n",
       "      <td>0</td>\n",
       "      <td>13</td>\n",
       "      <td>United-States</td>\n",
       "      <td>&lt;=50K</td>\n",
       "    </tr>\n",
       "    <tr>\n",
       "      <th>2</th>\n",
       "      <td>38</td>\n",
       "      <td>Private</td>\n",
       "      <td>215646</td>\n",
       "      <td>HS-grad</td>\n",
       "      <td>9</td>\n",
       "      <td>Divorced</td>\n",
       "      <td>Handlers-cleaners</td>\n",
       "      <td>Not-in-family</td>\n",
       "      <td>White</td>\n",
       "      <td>Male</td>\n",
       "      <td>0</td>\n",
       "      <td>0</td>\n",
       "      <td>40</td>\n",
       "      <td>United-States</td>\n",
       "      <td>&lt;=50K</td>\n",
       "    </tr>\n",
       "    <tr>\n",
       "      <th>3</th>\n",
       "      <td>53</td>\n",
       "      <td>Private</td>\n",
       "      <td>234721</td>\n",
       "      <td>11th</td>\n",
       "      <td>7</td>\n",
       "      <td>Married-civ-spouse</td>\n",
       "      <td>Handlers-cleaners</td>\n",
       "      <td>Husband</td>\n",
       "      <td>Black</td>\n",
       "      <td>Male</td>\n",
       "      <td>0</td>\n",
       "      <td>0</td>\n",
       "      <td>40</td>\n",
       "      <td>United-States</td>\n",
       "      <td>&lt;=50K</td>\n",
       "    </tr>\n",
       "    <tr>\n",
       "      <th>4</th>\n",
       "      <td>28</td>\n",
       "      <td>Private</td>\n",
       "      <td>338409</td>\n",
       "      <td>Bachelors</td>\n",
       "      <td>13</td>\n",
       "      <td>Married-civ-spouse</td>\n",
       "      <td>Prof-specialty</td>\n",
       "      <td>Wife</td>\n",
       "      <td>Black</td>\n",
       "      <td>Female</td>\n",
       "      <td>0</td>\n",
       "      <td>0</td>\n",
       "      <td>40</td>\n",
       "      <td>Cuba</td>\n",
       "      <td>&lt;=50K</td>\n",
       "    </tr>\n",
       "  </tbody>\n",
       "</table>\n",
       "</div>"
      ],
      "text/plain": [
       "   age         workclass  fnlwgt  education  education-num   \n",
       "0   39         State-gov   77516  Bachelors             13  \\\n",
       "1   50  Self-emp-not-inc   83311  Bachelors             13   \n",
       "2   38           Private  215646    HS-grad              9   \n",
       "3   53           Private  234721       11th              7   \n",
       "4   28           Private  338409  Bachelors             13   \n",
       "\n",
       "       marital-status         occupation   relationship   race  gender   \n",
       "0       Never-married       Adm-clerical  Not-in-family  White    Male  \\\n",
       "1  Married-civ-spouse    Exec-managerial        Husband  White    Male   \n",
       "2            Divorced  Handlers-cleaners  Not-in-family  White    Male   \n",
       "3  Married-civ-spouse  Handlers-cleaners        Husband  Black    Male   \n",
       "4  Married-civ-spouse     Prof-specialty           Wife  Black  Female   \n",
       "\n",
       "   capital-gain  capital-loss  hours-per-week native-country salary  \n",
       "0          2174             0              40  United-States  <=50K  \n",
       "1             0             0              13  United-States  <=50K  \n",
       "2             0             0              40  United-States  <=50K  \n",
       "3             0             0              40  United-States  <=50K  \n",
       "4             0             0              40           Cuba  <=50K  "
      ]
     },
     "execution_count": 9,
     "metadata": {},
     "output_type": "execute_result"
    }
   ],
   "source": [
    "df.head()"
   ]
  },
  {
   "cell_type": "code",
   "execution_count": 10,
   "metadata": {},
   "outputs": [
    {
     "data": {
      "text/plain": [
       "race\n",
       "White                 27816\n",
       "Black                  3124\n",
       "Asian-Pac-Islander     1039\n",
       "Amer-Indian-Eskimo      311\n",
       "Other                   271\n",
       "Name: count, dtype: int64"
      ]
     },
     "execution_count": 10,
     "metadata": {},
     "output_type": "execute_result"
    }
   ],
   "source": [
    "df['race'].value_counts()"
   ]
  },
  {
   "cell_type": "code",
   "execution_count": 11,
   "metadata": {},
   "outputs": [
    {
     "data": {
      "text/plain": [
       "gender\n",
       "Male      21790\n",
       "Female    10771\n",
       "Name: count, dtype: int64"
      ]
     },
     "execution_count": 11,
     "metadata": {},
     "output_type": "execute_result"
    }
   ],
   "source": [
    "df['gender'].value_counts()"
   ]
  },
  {
   "cell_type": "code",
   "execution_count": 12,
   "metadata": {},
   "outputs": [],
   "source": [
    "df_wb_mf = df[(df['race'].isin(['White', 'Black'])) & \n",
    "              (df['gender'].isin(['Male', 'Female']))].reset_index(drop=True)"
   ]
  },
  {
   "cell_type": "code",
   "execution_count": 13,
   "metadata": {},
   "outputs": [
    {
     "data": {
      "text/html": [
       "<div>\n",
       "<style scoped>\n",
       "    .dataframe tbody tr th:only-of-type {\n",
       "        vertical-align: middle;\n",
       "    }\n",
       "\n",
       "    .dataframe tbody tr th {\n",
       "        vertical-align: top;\n",
       "    }\n",
       "\n",
       "    .dataframe thead th {\n",
       "        text-align: right;\n",
       "    }\n",
       "</style>\n",
       "<table border=\"1\" class=\"dataframe\">\n",
       "  <thead>\n",
       "    <tr style=\"text-align: right;\">\n",
       "      <th></th>\n",
       "      <th>age</th>\n",
       "      <th>workclass</th>\n",
       "      <th>fnlwgt</th>\n",
       "      <th>education</th>\n",
       "      <th>education-num</th>\n",
       "      <th>marital-status</th>\n",
       "      <th>occupation</th>\n",
       "      <th>relationship</th>\n",
       "      <th>race</th>\n",
       "      <th>gender</th>\n",
       "      <th>capital-gain</th>\n",
       "      <th>capital-loss</th>\n",
       "      <th>hours-per-week</th>\n",
       "      <th>native-country</th>\n",
       "      <th>salary</th>\n",
       "    </tr>\n",
       "  </thead>\n",
       "  <tbody>\n",
       "    <tr>\n",
       "      <th>0</th>\n",
       "      <td>39</td>\n",
       "      <td>State-gov</td>\n",
       "      <td>77516</td>\n",
       "      <td>Bachelors</td>\n",
       "      <td>13</td>\n",
       "      <td>Never-married</td>\n",
       "      <td>Adm-clerical</td>\n",
       "      <td>Not-in-family</td>\n",
       "      <td>White</td>\n",
       "      <td>Male</td>\n",
       "      <td>2174</td>\n",
       "      <td>0</td>\n",
       "      <td>40</td>\n",
       "      <td>United-States</td>\n",
       "      <td>&lt;=50K</td>\n",
       "    </tr>\n",
       "    <tr>\n",
       "      <th>1</th>\n",
       "      <td>50</td>\n",
       "      <td>Self-emp-not-inc</td>\n",
       "      <td>83311</td>\n",
       "      <td>Bachelors</td>\n",
       "      <td>13</td>\n",
       "      <td>Married-civ-spouse</td>\n",
       "      <td>Exec-managerial</td>\n",
       "      <td>Husband</td>\n",
       "      <td>White</td>\n",
       "      <td>Male</td>\n",
       "      <td>0</td>\n",
       "      <td>0</td>\n",
       "      <td>13</td>\n",
       "      <td>United-States</td>\n",
       "      <td>&lt;=50K</td>\n",
       "    </tr>\n",
       "    <tr>\n",
       "      <th>2</th>\n",
       "      <td>38</td>\n",
       "      <td>Private</td>\n",
       "      <td>215646</td>\n",
       "      <td>HS-grad</td>\n",
       "      <td>9</td>\n",
       "      <td>Divorced</td>\n",
       "      <td>Handlers-cleaners</td>\n",
       "      <td>Not-in-family</td>\n",
       "      <td>White</td>\n",
       "      <td>Male</td>\n",
       "      <td>0</td>\n",
       "      <td>0</td>\n",
       "      <td>40</td>\n",
       "      <td>United-States</td>\n",
       "      <td>&lt;=50K</td>\n",
       "    </tr>\n",
       "    <tr>\n",
       "      <th>3</th>\n",
       "      <td>53</td>\n",
       "      <td>Private</td>\n",
       "      <td>234721</td>\n",
       "      <td>11th</td>\n",
       "      <td>7</td>\n",
       "      <td>Married-civ-spouse</td>\n",
       "      <td>Handlers-cleaners</td>\n",
       "      <td>Husband</td>\n",
       "      <td>Black</td>\n",
       "      <td>Male</td>\n",
       "      <td>0</td>\n",
       "      <td>0</td>\n",
       "      <td>40</td>\n",
       "      <td>United-States</td>\n",
       "      <td>&lt;=50K</td>\n",
       "    </tr>\n",
       "    <tr>\n",
       "      <th>4</th>\n",
       "      <td>28</td>\n",
       "      <td>Private</td>\n",
       "      <td>338409</td>\n",
       "      <td>Bachelors</td>\n",
       "      <td>13</td>\n",
       "      <td>Married-civ-spouse</td>\n",
       "      <td>Prof-specialty</td>\n",
       "      <td>Wife</td>\n",
       "      <td>Black</td>\n",
       "      <td>Female</td>\n",
       "      <td>0</td>\n",
       "      <td>0</td>\n",
       "      <td>40</td>\n",
       "      <td>Cuba</td>\n",
       "      <td>&lt;=50K</td>\n",
       "    </tr>\n",
       "  </tbody>\n",
       "</table>\n",
       "</div>"
      ],
      "text/plain": [
       "   age         workclass  fnlwgt  education  education-num   \n",
       "0   39         State-gov   77516  Bachelors             13  \\\n",
       "1   50  Self-emp-not-inc   83311  Bachelors             13   \n",
       "2   38           Private  215646    HS-grad              9   \n",
       "3   53           Private  234721       11th              7   \n",
       "4   28           Private  338409  Bachelors             13   \n",
       "\n",
       "       marital-status         occupation   relationship   race  gender   \n",
       "0       Never-married       Adm-clerical  Not-in-family  White    Male  \\\n",
       "1  Married-civ-spouse    Exec-managerial        Husband  White    Male   \n",
       "2            Divorced  Handlers-cleaners  Not-in-family  White    Male   \n",
       "3  Married-civ-spouse  Handlers-cleaners        Husband  Black    Male   \n",
       "4  Married-civ-spouse     Prof-specialty           Wife  Black  Female   \n",
       "\n",
       "   capital-gain  capital-loss  hours-per-week native-country salary  \n",
       "0          2174             0              40  United-States  <=50K  \n",
       "1             0             0              13  United-States  <=50K  \n",
       "2             0             0              40  United-States  <=50K  \n",
       "3             0             0              40  United-States  <=50K  \n",
       "4             0             0              40           Cuba  <=50K  "
      ]
     },
     "execution_count": 13,
     "metadata": {},
     "output_type": "execute_result"
    }
   ],
   "source": [
    "df_wb_mf.head()"
   ]
  },
  {
   "cell_type": "code",
   "execution_count": 14,
   "metadata": {},
   "outputs": [
    {
     "data": {
      "text/plain": [
       "30940"
      ]
     },
     "execution_count": 14,
     "metadata": {},
     "output_type": "execute_result"
    }
   ],
   "source": [
    "len(df_wb_mf)"
   ]
  },
  {
   "cell_type": "markdown",
   "metadata": {},
   "source": [
    "distribution"
   ]
  },
  {
   "cell_type": "code",
   "execution_count": 15,
   "metadata": {},
   "outputs": [],
   "source": [
    "def plot_vc_bar_charts(df, col, ax, color='b'):\n",
    "    df_vc = df[col].value_counts() / len(df) * 100\n",
    "    df_vc = df_vc.reset_index()\n",
    "    df_vc = df_vc.rename(columns={'index': col, col: 'pc'})\n",
    "    \n",
    "    bar_width = 0.35\n",
    "    opacity = 0.9\n",
    "    labels = df_vc[col].values\n",
    "    capitalized_labels = []\n",
    "    for label in labels:\n",
    "        words = label.split(' ')\n",
    "        capitalized_label = ' '.join([w.capitalize() for w in words])\n",
    "        capitalized_labels.append(capitalized_label)\n",
    "    sizes = df_vc['pc'].values\n",
    "    index = np.arange(len(sizes))\n",
    "    \n",
    "    ax.bar(index, sizes, bar_width,\n",
    "           alpha=opacity,\n",
    "           label=labels,\n",
    "           color=color)\n",
    "    ax.set_xticks(index)\n",
    "    ax.set_xticklabels(capitalized_labels)\n",
    "    ax.grid(True);"
   ]
  },
  {
   "cell_type": "code",
   "execution_count": 16,
   "metadata": {},
   "outputs": [
    {
     "data": {
      "image/png": "[encoded data removed]",
      "text/plain": [
       "<Figure size 1200x500 with 2 Axes>"
      ]
     },
     "metadata": {},
     "output_type": "display_data"
    }
   ],
   "source": [
    "# Compute Gender v/s Salary Distribution\n",
    "gender = round(pd.crosstab(df_wb_mf.gender, \n",
    "                           df_wb_mf.salary).\\\n",
    "               div(pd.crosstab(df_wb_mf.gender, \n",
    "                               df_wb_mf.salary).apply(sum, 1), 0), 2)\n",
    "gender.sort_values(by = '>50K', inplace = True)\n",
    "gender = gender * 100\n",
    "\n",
    "# Compute Race v/s Salary Distribution\n",
    "race = round(pd.crosstab(df_wb_mf.race, \n",
    "                         df_wb_mf.salary).\\\n",
    "             div(pd.crosstab(df_wb_mf.race, \n",
    "                             df_wb_mf.salary).apply(sum, 1), 0), 2)\n",
    "race.sort_values(by='>50K', inplace=True)\n",
    "race = race * 100\n",
    "\n",
    "f, ax = plt.subplots(1, 2, figsize=(12, 5))\n",
    "gender.plot(kind='bar', \n",
    "            title='Gender v/s Salary Distribution', \n",
    "            ax=ax[0])\n",
    "ax[0].set_ylim([0, 100])\n",
    "ax[0].set_ylabel('% of Gender Population');\n",
    "race.plot(kind='bar', \n",
    "          title='Race v/s Salary Distribution', \n",
    "          ax=ax[1])\n",
    "ax[1].set_ylim([0, 100])\n",
    "ax[1].set_ylabel('% of Race Population');"
   ]
  },
  {
   "cell_type": "code",
   "execution_count": 17,
   "metadata": {},
   "outputs": [
    {
     "data": {
      "image/png": "[encoded data removed]",
      "text/plain": [
       "<Figure size 640x480 with 1 Axes>"
      ]
     },
     "metadata": {},
     "output_type": "display_data"
    }
   ],
   "source": [
    "rg = round(pd.crosstab(df_wb_mf.race, \n",
    "                       df_wb_mf.gender).\\\n",
    "           div(pd.crosstab(df_wb_mf.race, \n",
    "                           df_wb_mf.gender).apply(sum, 1), 0), 2)\n",
    "rg = rg * 100\n",
    "f, ax = plt.subplots()\n",
    "rg.plot(kind='bar', \n",
    "        title='Race v/s Gender Distribution', \n",
    "        ax=ax)\n",
    "ax.set_ylim([0, 100])\n",
    "ax.set_ylabel('% of Race Population');"
   ]
  },
  {
   "cell_type": "markdown",
   "metadata": {},
   "source": [
    "![Alt text](image-3.png)"
   ]
  },
  {
   "cell_type": "markdown",
   "metadata": {},
   "source": [
    "- 그림 8.4는 인구조사국에서 제공한 데이터세트에 포함된 30,940명의 성인에 대한 급여, 성별, 인종의 전체 분포를 보여줍니다. \n",
    "- 데이터 세트가 실제로 편향적으로 왜곡되어 있음을 알 수 있습니다.  \n",
    "- 인구의 약 75%가 5만 달러 이하의 연봉을 받고 있으며, 나머지는 5만 달러 이상의 연봉을 받고 있습니다. 성별로는 인구의 약 65%가 남성인 이 데이터 세트에서 남성 성인이 여성 성인보다 더 많이 나타나고 있습니다.  \n",
    "- 인종도 마찬가지로, 데이터 세트에 포함된 성인의 약 90%가 백인이라는 점에서 백인 성인에 대한 편향성을 확인할 수 있습니다. "
   ]
  },
  {
   "cell_type": "markdown",
   "metadata": {},
   "source": [
    "이제 다양한 보호 대상 성별 및 인종 그룹의 급여 분포를 살펴보고 편견이 있는지 확인해 보겠습니다.  \n",
    "이는 그림 8.5에 나와 있습니다.  \n",
    "성별을 살펴보면 여성보다 남성 성인의 연봉이 5만 달러 이상인 비율이 더 높다는 것을 알 수 있습니다.  \n",
    "인종에 대해서도 동일한 관찰을 할 수 있는데, 흑인 성인보다 백인 성인의 소득이 5만 달러 이상 높은 비율이 더 높습니다."
   ]
  },
  {
   "cell_type": "markdown",
   "metadata": {},
   "source": [
    "![Alt text](image-4.png)"
   ]
  },
  {
   "cell_type": "markdown",
   "metadata": {},
   "source": [
    "마지막으로, 그림 8.6에 표시된 이 데이터 집합의 두 인종에 대한 성별 표현을 살펴보겠습니다.  \n",
    "흑인 성인의 경우 남성과 여성의 비율이 약 50%로 상당히 균등하다는 것을 알 수 있습니다.  \n",
    "반면에 백인 성인의 경우 백인 여성보다 백인 남성 성인이 더 많이 나타납니다.  \n",
    "이 분석은 급여 편향의 주요 원인을 파악하는 데 유용합니다.  \n",
    "백인 성인의 70%가 남성이기 때문에 백인 성인의 급여 편향은 데이터 세트에서 남성 사용자가 여성 사용자보다 더 많은 수입을 올릴 수 있는 성별 보호 그룹으로 더 잘 설명될 수 있으며, 반면에 흑인 성인의 경우 남성과 여성의 비율이 거의 균등하기 때문에 흑인 성인의 주요 편향의 원인은 인종 자체일 수 있습니다."
   ]
  },
  {
   "cell_type": "markdown",
   "metadata": {},
   "source": [
    "![Alt text](image-5.png)"
   ]
  },
  {
   "cell_type": "markdown",
   "metadata": {},
   "source": [
    "모델을 구축하기 전에 데이터 세트에서 이러한 편향의 근본 원인을 이해하는 것이 중요합니다.  \n",
    "데이터 세트가 어떻게 수집되었는지 확실하지 않으므로, 따라서 근본 원인을 확신할 수 없습니다.  \n",
    "하지만 다음과 같은 가설을 세울 수 있습니다.  \n",
    "\n",
    "편향의 원인은 다음과 같을 수 있습니다:\n",
    "- 샘플링 편향: 데이터 세트가 실제 모집단을 제대로 대표하지 못하는 경우.\n",
    "- 라벨링 편향: 급여 정보가 다양한 집단에 대해 기록되는 방식에 편향이 존재할 수 있습니다.\n",
    "- 시스템적 편향이 있는 경우 해당 편향이 데이터 집합에 반영됩니다.\n",
    "\n",
    "장에서 이미 논의했듯이 첫 번째 문제는 모집단을 대표할 수 있는 데이터를 더 많이 수집함으로써 해결할 수 있습니다.  \n",
    "이 장에서는 투명성과 책임성을 높이기 위해 데이터시트를 사용하여 데이터 수집 프로세스를 적절히 문서화하는 방법에 대해서도 알아봅니다.  \n",
    "이러한 데이터시트는 데이터 집합에서 편향의 근본 원인을 파악하는 데에도 사용할 수 있습니다.  \n",
    "라벨링 편향은 데이터 수집 프로세스를 개선함으로써 해결할 수 있습니다.  \n",
    "이 장에서는 레이블 편향을 수정하는 또 다른 기법에 대해서도 알아보겠습니다.   \n",
    "마지막 문제는 해결하기가 훨씬 더 어렵고 더 나은 정책과 법률이 필요하며 이 책의 범위를 벗어납니다."
   ]
  },
  {
   "cell_type": "markdown",
   "metadata": {},
   "source": []
  }
 ],
 "metadata": {
  "kernelspec": {
   "display_name": "base",
   "language": "python",
   "name": "python3"
  },
  "language_info": {
   "codemirror_mode": {
    "name": "ipython",
    "version": 3
   },
   "file_extension": ".py",
   "mimetype": "text/x-python",
   "name": "python",
   "nbconvert_exporter": "python",
   "pygments_lexer": "ipython3",
   "version": "3.9.16"
  },
  "orig_nbformat": 4
 },
 "nbformat": 4,
 "nbformat_minor": 2
}
