{
 "cells": [
  {
   "attachments": {},
   "cell_type": "markdown",
   "metadata": {},
   "source": [
    "## How to Quickly Design Advanced Sklearn Pipelines\n",
    "- https://towardsdatascience.com/how-to-quickly-design-advanced-sklearn-pipelines-3cc97b59ce16"
   ]
  },
  {
   "attachments": {},
   "cell_type": "markdown",
   "metadata": {},
   "source": [
    "<div style=\"text-align: right\"> <b>Author : Kwang Myung Yu</b></div>\n",
    "<div style=\"text-align: right\"> Initial upload: 2023.7.9</div>\n",
    "<div style=\"text-align: right\"> Last update: 2023.7.9</div>"
   ]
  },
  {
   "cell_type": "code",
   "execution_count": 1,
   "metadata": {},
   "outputs": [],
   "source": [
    "import os\n",
    "import sys\n",
    "import time\n",
    "import numpy as np\n",
    "import pandas as pd\n",
    "import matplotlib as mpl\n",
    "import matplotlib.pyplot as plt\n",
    "import matplotlib.gridspec as gridspec\n",
    "import seaborn as sns\n",
    "from scipy import stats\n",
    "import warnings; warnings.filterwarnings('ignore')\n",
    "#plt.style.use('ggplot')\n",
    "plt.style.use('seaborn-whitegrid')\n",
    "%matplotlib inline"
   ]
  },
  {
   "attachments": {},
   "cell_type": "markdown",
   "metadata": {},
   "source": [
    "파이프라인 구성을 위하 다음 컴포넌트드를 사용할 수 있다.  \n",
    "- TransformerMixin\n",
    "- BaseEstimator\n",
    "- FunctionTransformer\n",
    "- ColumnTransformer\n",
    "- FeatureUnion\n",
    "- TransformedTargetRegressor"
   ]
  },
  {
   "attachments": {},
   "cell_type": "markdown",
   "metadata": {},
   "source": [
    "여기서는 파이프라인으로 forecasting 모델을 구축해본다."
   ]
  },
  {
   "cell_type": "code",
   "execution_count": 2,
   "metadata": {},
   "outputs": [],
   "source": [
    "import glob\n",
    "import re\n",
    "import os\n",
    "import logging\n",
    "import xarray as xr\n",
    "\n",
    "from sklearn.base import BaseEstimator, TransformerMixin\n",
    "from sklearn.compose import make_column_transformer, TransformedTargetRegressor\n",
    "from sklearn.ensemble import RandomForestRegressor\n",
    "from sklearn.metrics import mean_squared_error, mean_absolute_percentage_error\n",
    "from sklearn.pipeline import make_pipeline, make_union, Pipeline\n",
    "from sklearn.preprocessing import FunctionTransformer, MinMaxScaler\n",
    "\n",
    "from functools import partial\n",
    "from typing import Optional, Union, Tuple"
   ]
  },
  {
   "attachments": {},
   "cell_type": "markdown",
   "metadata": {},
   "source": [
    "여기서는 print 대신 logging을 사용해본다.   \n",
    "그리고 logging 레벨을 logging.DEBUG로 설정한다."
   ]
  },
  {
   "cell_type": "code",
   "execution_count": 3,
   "metadata": {},
   "outputs": [
    {
     "name": "stderr",
     "output_type": "stream",
     "text": [
      "INFO:sklearn-pipelines:Logger configured\n"
     ]
    }
   ],
   "source": [
    "logging.basicConfig(level=logging.DEBUG)\n",
    "\n",
    "logger = logging.getLogger(\"sklearn-pipelines\")\n",
    "logger.info(\"Logger configured\")"
   ]
  },
  {
   "cell_type": "code",
   "execution_count": 4,
   "metadata": {},
   "outputs": [],
   "source": [
    "NUM_OBSERVED_POINTS: int = 5\n",
    "SIZE_TEST_SPLIT: int = 4"
   ]
  },
  {
   "attachments": {},
   "cell_type": "markdown",
   "metadata": {},
   "source": [
    "데이터 추출\n",
    "- xarray 사용 위해 pip install netcdf4 h5netcdf 필요"
   ]
  },
  {
   "cell_type": "code",
   "execution_count": 5,
   "metadata": {},
   "outputs": [],
   "source": [
    "def extract(root_dir: str) -> pd.DataFrame:\n",
    "    \"\"\"Function that takes the root dir of a plant (e.g., wheat, maize, etc.) and extracts everything into a DataFrame.\"\"\"\n",
    "\n",
    "    year_yields = {}\n",
    "    for file_path in glob.glob(os.path.join(root_dir, \"*.nc4\")):\n",
    "        file_name = os.path.split(file_path)[1]\n",
    "        year_match = re.match(r\"^yield_(\\d+?)\\.nc4$\", file_name)\n",
    "        year = year_match.group(1)\n",
    "        year = int(year)\n",
    "\n",
    "        ds = xr.open_dataset(file_path)\n",
    "        df = ds.to_dataframe()\n",
    "        mean_year_value = df.mean().iloc[0]\n",
    "\n",
    "        year_yields[year] = {\n",
    "            \"mean_yield\": mean_year_value,\n",
    "            \"locations\": len(df.dropna())\n",
    "        }\n",
    "\n",
    "    year_yields = pd.DataFrame.from_dict(data=year_yields, orient='index')\n",
    "    year_yields = year_yields.sort_index()\n",
    "\n",
    "    return year_yields"
   ]
  },
  {
   "cell_type": "code",
   "execution_count": 6,
   "metadata": {},
   "outputs": [],
   "source": [
    "\n",
    "yields = extract(\"data/yields/wheat\")"
   ]
  },
  {
   "cell_type": "code",
   "execution_count": 7,
   "metadata": {},
   "outputs": [
    {
     "data": {
      "text/html": [
       "<div>\n",
       "<style scoped>\n",
       "    .dataframe tbody tr th:only-of-type {\n",
       "        vertical-align: middle;\n",
       "    }\n",
       "\n",
       "    .dataframe tbody tr th {\n",
       "        vertical-align: top;\n",
       "    }\n",
       "\n",
       "    .dataframe thead th {\n",
       "        text-align: right;\n",
       "    }\n",
       "</style>\n",
       "<table border=\"1\" class=\"dataframe\">\n",
       "  <thead>\n",
       "    <tr style=\"text-align: right;\">\n",
       "      <th></th>\n",
       "      <th>mean_yield</th>\n",
       "      <th>locations</th>\n",
       "    </tr>\n",
       "  </thead>\n",
       "  <tbody>\n",
       "    <tr>\n",
       "      <th>1981</th>\n",
       "      <td>1.678322</td>\n",
       "      <td>2346</td>\n",
       "    </tr>\n",
       "    <tr>\n",
       "      <th>1982</th>\n",
       "      <td>3.048540</td>\n",
       "      <td>12628</td>\n",
       "    </tr>\n",
       "    <tr>\n",
       "      <th>1983</th>\n",
       "      <td>3.226099</td>\n",
       "      <td>12641</td>\n",
       "    </tr>\n",
       "    <tr>\n",
       "      <th>1984</th>\n",
       "      <td>3.340139</td>\n",
       "      <td>12627</td>\n",
       "    </tr>\n",
       "    <tr>\n",
       "      <th>1985</th>\n",
       "      <td>3.297000</td>\n",
       "      <td>12624</td>\n",
       "    </tr>\n",
       "  </tbody>\n",
       "</table>\n",
       "</div>"
      ],
      "text/plain": [
       "      mean_yield  locations\n",
       "1981    1.678322       2346\n",
       "1982    3.048540      12628\n",
       "1983    3.226099      12641\n",
       "1984    3.340139      12627\n",
       "1985    3.297000      12624"
      ]
     },
     "execution_count": 7,
     "metadata": {},
     "output_type": "execute_result"
    }
   ],
   "source": [
    "yields.head()"
   ]
  },
  {
   "cell_type": "code",
   "execution_count": 8,
   "metadata": {},
   "outputs": [
    {
     "name": "stderr",
     "output_type": "stream",
     "text": [
      "DEBUG:matplotlib.font_manager:findfont: Matching sans\\-serif:style=normal:variant=normal:weight=normal:stretch=normal:size=10.0.\n",
      "DEBUG:matplotlib.font_manager:findfont: score(FontEntry(fname='/home/sguys99/anaconda3/lib/python3.10/site-packages/matplotlib/mpl-data/fonts/ttf/STIXSizThreeSymReg.ttf', name='STIXSizeThreeSym', style='normal', variant='normal', weight=400, stretch='normal', size='scalable')) = 10.05\n",
      "DEBUG:matplotlib.font_manager:findfont: score(FontEntry(fname='/home/sguys99/anaconda3/lib/python3.10/site-packages/matplotlib/mpl-data/fonts/ttf/STIXGeneral.ttf', name='STIXGeneral', style='normal', variant='normal', weight=400, stretch='normal', size='scalable')) = 10.05\n",
      "DEBUG:matplotlib.font_manager:findfont: score(FontEntry(fname='/home/sguys99/anaconda3/lib/python3.10/site-packages/matplotlib/mpl-data/fonts/ttf/STIXSizTwoSymReg.ttf', name='STIXSizeTwoSym', style='normal', variant='normal', weight=400, stretch='normal', size='scalable')) = 10.05\n",
      "DEBUG:matplotlib.font_manager:findfont: score(FontEntry(fname='/home/sguys99/anaconda3/lib/python3.10/site-packages/matplotlib/mpl-data/fonts/ttf/cmss10.ttf', name='cmss10', style='normal', variant='normal', weight=400, stretch='normal', size='scalable')) = 10.05\n",
      "DEBUG:matplotlib.font_manager:findfont: score(FontEntry(fname='/home/sguys99/anaconda3/lib/python3.10/site-packages/matplotlib/mpl-data/fonts/ttf/STIXNonUniBolIta.ttf', name='STIXNonUnicode', style='italic', variant='normal', weight=700, stretch='normal', size='scalable')) = 11.335\n",
      "DEBUG:matplotlib.font_manager:findfont: score(FontEntry(fname='/home/sguys99/anaconda3/lib/python3.10/site-packages/matplotlib/mpl-data/fonts/ttf/DejaVuSerif-Italic.ttf', name='DejaVu Serif', style='italic', variant='normal', weight=400, stretch='normal', size='scalable')) = 11.05\n",
      "DEBUG:matplotlib.font_manager:findfont: score(FontEntry(fname='/home/sguys99/anaconda3/lib/python3.10/site-packages/matplotlib/mpl-data/fonts/ttf/cmsy10.ttf', name='cmsy10', style='normal', variant='normal', weight=400, stretch='normal', size='scalable')) = 10.05\n",
      "DEBUG:matplotlib.font_manager:findfont: score(FontEntry(fname='/home/sguys99/anaconda3/lib/python3.10/site-packages/matplotlib/mpl-data/fonts/ttf/DejaVuSerif-BoldItalic.ttf', name='DejaVu Serif', style='italic', variant='normal', weight=700, stretch='normal', size='scalable')) = 11.335\n",
      "DEBUG:matplotlib.font_manager:findfont: score(FontEntry(fname='/home/sguys99/anaconda3/lib/python3.10/site-packages/matplotlib/mpl-data/fonts/ttf/STIXSizOneSymReg.ttf', name='STIXSizeOneSym', style='normal', variant='normal', weight=400, stretch='normal', size='scalable')) = 10.05\n",
      "DEBUG:matplotlib.font_manager:findfont: score(FontEntry(fname='/home/sguys99/anaconda3/lib/python3.10/site-packages/matplotlib/mpl-data/fonts/ttf/STIXSizThreeSymBol.ttf', name='STIXSizeThreeSym', style='normal', variant='normal', weight=700, stretch='normal', size='scalable')) = 10.335\n",
      "DEBUG:matplotlib.font_manager:findfont: score(FontEntry(fname='/home/sguys99/anaconda3/lib/python3.10/site-packages/matplotlib/mpl-data/fonts/ttf/STIXNonUniBol.ttf', name='STIXNonUnicode', style='normal', variant='normal', weight=700, stretch='normal', size='scalable')) = 10.335\n",
      "DEBUG:matplotlib.font_manager:findfont: score(FontEntry(fname='/home/sguys99/anaconda3/lib/python3.10/site-packages/matplotlib/mpl-data/fonts/ttf/DejaVuSans-Bold.ttf', name='DejaVu Sans', style='normal', variant='normal', weight=700, stretch='normal', size='scalable')) = 4.335\n",
      "DEBUG:matplotlib.font_manager:findfont: score(FontEntry(fname='/home/sguys99/anaconda3/lib/python3.10/site-packages/matplotlib/mpl-data/fonts/ttf/DejaVuSansDisplay.ttf', name='DejaVu Sans Display', style='normal', variant='normal', weight=400, stretch='normal', size='scalable')) = 10.05\n",
      "DEBUG:matplotlib.font_manager:findfont: score(FontEntry(fname='/home/sguys99/anaconda3/lib/python3.10/site-packages/matplotlib/mpl-data/fonts/ttf/DejaVuSans.ttf', name='DejaVu Sans', style='normal', variant='normal', weight=400, stretch='normal', size='scalable')) = 4.05\n",
      "DEBUG:matplotlib.font_manager:findfont: score(FontEntry(fname='/home/sguys99/anaconda3/lib/python3.10/site-packages/matplotlib/mpl-data/fonts/ttf/DejaVuSerifDisplay.ttf', name='DejaVu Serif Display', style='normal', variant='normal', weight=400, stretch='normal', size='scalable')) = 10.05\n",
      "DEBUG:matplotlib.font_manager:findfont: score(FontEntry(fname='/home/sguys99/anaconda3/lib/python3.10/site-packages/matplotlib/mpl-data/fonts/ttf/STIXNonUni.ttf', name='STIXNonUnicode', style='normal', variant='normal', weight=400, stretch='normal', size='scalable')) = 10.05\n",
      "DEBUG:matplotlib.font_manager:findfont: score(FontEntry(fname='/home/sguys99/anaconda3/lib/python3.10/site-packages/matplotlib/mpl-data/fonts/ttf/STIXSizFourSymReg.ttf', name='STIXSizeFourSym', style='normal', variant='normal', weight=400, stretch='normal', size='scalable')) = 10.05\n",
      "DEBUG:matplotlib.font_manager:findfont: score(FontEntry(fname='/home/sguys99/anaconda3/lib/python3.10/site-packages/matplotlib/mpl-data/fonts/ttf/DejaVuSansMono-Bold.ttf', name='DejaVu Sans Mono', style='normal', variant='normal', weight=700, stretch='normal', size='scalable')) = 10.335\n",
      "DEBUG:matplotlib.font_manager:findfont: score(FontEntry(fname='/home/sguys99/anaconda3/lib/python3.10/site-packages/matplotlib/mpl-data/fonts/ttf/DejaVuSansMono-Oblique.ttf', name='DejaVu Sans Mono', style='oblique', variant='normal', weight=400, stretch='normal', size='scalable')) = 11.05\n",
      "DEBUG:matplotlib.font_manager:findfont: score(FontEntry(fname='/home/sguys99/anaconda3/lib/python3.10/site-packages/matplotlib/mpl-data/fonts/ttf/DejaVuSerif-Bold.ttf', name='DejaVu Serif', style='normal', variant='normal', weight=700, stretch='normal', size='scalable')) = 10.335\n",
      "DEBUG:matplotlib.font_manager:findfont: score(FontEntry(fname='/home/sguys99/anaconda3/lib/python3.10/site-packages/matplotlib/mpl-data/fonts/ttf/cmex10.ttf', name='cmex10', style='normal', variant='normal', weight=400, stretch='normal', size='scalable')) = 10.05\n",
      "DEBUG:matplotlib.font_manager:findfont: score(FontEntry(fname='/home/sguys99/anaconda3/lib/python3.10/site-packages/matplotlib/mpl-data/fonts/ttf/cmmi10.ttf', name='cmmi10', style='normal', variant='normal', weight=400, stretch='normal', size='scalable')) = 10.05\n",
      "DEBUG:matplotlib.font_manager:findfont: score(FontEntry(fname='/home/sguys99/anaconda3/lib/python3.10/site-packages/matplotlib/mpl-data/fonts/ttf/DejaVuSans-Oblique.ttf', name='DejaVu Sans', style='oblique', variant='normal', weight=400, stretch='normal', size='scalable')) = 5.05\n",
      "DEBUG:matplotlib.font_manager:findfont: score(FontEntry(fname='/home/sguys99/anaconda3/lib/python3.10/site-packages/matplotlib/mpl-data/fonts/ttf/STIXSizFiveSymReg.ttf', name='STIXSizeFiveSym', style='normal', variant='normal', weight=400, stretch='normal', size='scalable')) = 10.05\n",
      "DEBUG:matplotlib.font_manager:findfont: score(FontEntry(fname='/home/sguys99/anaconda3/lib/python3.10/site-packages/matplotlib/mpl-data/fonts/ttf/cmr10.ttf', name='cmr10', style='normal', variant='normal', weight=400, stretch='normal', size='scalable')) = 10.05\n",
      "DEBUG:matplotlib.font_manager:findfont: score(FontEntry(fname='/home/sguys99/anaconda3/lib/python3.10/site-packages/matplotlib/mpl-data/fonts/ttf/STIXGeneralBol.ttf', name='STIXGeneral', style='normal', variant='normal', weight=700, stretch='normal', size='scalable')) = 10.335\n",
      "DEBUG:matplotlib.font_manager:findfont: score(FontEntry(fname='/home/sguys99/anaconda3/lib/python3.10/site-packages/matplotlib/mpl-data/fonts/ttf/STIXGeneralBolIta.ttf', name='STIXGeneral', style='italic', variant='normal', weight=700, stretch='normal', size='scalable')) = 11.335\n",
      "DEBUG:matplotlib.font_manager:findfont: score(FontEntry(fname='/home/sguys99/anaconda3/lib/python3.10/site-packages/matplotlib/mpl-data/fonts/ttf/STIXGeneralItalic.ttf', name='STIXGeneral', style='italic', variant='normal', weight=400, stretch='normal', size='scalable')) = 11.05\n",
      "DEBUG:matplotlib.font_manager:findfont: score(FontEntry(fname='/home/sguys99/anaconda3/lib/python3.10/site-packages/matplotlib/mpl-data/fonts/ttf/STIXSizFourSymBol.ttf', name='STIXSizeFourSym', style='normal', variant='normal', weight=700, stretch='normal', size='scalable')) = 10.335\n",
      "DEBUG:matplotlib.font_manager:findfont: score(FontEntry(fname='/home/sguys99/anaconda3/lib/python3.10/site-packages/matplotlib/mpl-data/fonts/ttf/cmtt10.ttf', name='cmtt10', style='normal', variant='normal', weight=400, stretch='normal', size='scalable')) = 10.05\n",
      "DEBUG:matplotlib.font_manager:findfont: score(FontEntry(fname='/home/sguys99/anaconda3/lib/python3.10/site-packages/matplotlib/mpl-data/fonts/ttf/DejaVuSansMono-BoldOblique.ttf', name='DejaVu Sans Mono', style='oblique', variant='normal', weight=700, stretch='normal', size='scalable')) = 11.335\n",
      "DEBUG:matplotlib.font_manager:findfont: score(FontEntry(fname='/home/sguys99/anaconda3/lib/python3.10/site-packages/matplotlib/mpl-data/fonts/ttf/STIXSizOneSymBol.ttf', name='STIXSizeOneSym', style='normal', variant='normal', weight=700, stretch='normal', size='scalable')) = 10.335\n",
      "DEBUG:matplotlib.font_manager:findfont: score(FontEntry(fname='/home/sguys99/anaconda3/lib/python3.10/site-packages/matplotlib/mpl-data/fonts/ttf/DejaVuSerif.ttf', name='DejaVu Serif', style='normal', variant='normal', weight=400, stretch='normal', size='scalable')) = 10.05\n",
      "DEBUG:matplotlib.font_manager:findfont: score(FontEntry(fname='/home/sguys99/anaconda3/lib/python3.10/site-packages/matplotlib/mpl-data/fonts/ttf/STIXSizTwoSymBol.ttf', name='STIXSizeTwoSym', style='normal', variant='normal', weight=700, stretch='normal', size='scalable')) = 10.335\n",
      "DEBUG:matplotlib.font_manager:findfont: score(FontEntry(fname='/home/sguys99/anaconda3/lib/python3.10/site-packages/matplotlib/mpl-data/fonts/ttf/DejaVuSans-BoldOblique.ttf', name='DejaVu Sans', style='oblique', variant='normal', weight=700, stretch='normal', size='scalable')) = 5.335\n",
      "DEBUG:matplotlib.font_manager:findfont: score(FontEntry(fname='/home/sguys99/anaconda3/lib/python3.10/site-packages/matplotlib/mpl-data/fonts/ttf/cmb10.ttf', name='cmb10', style='normal', variant='normal', weight=400, stretch='normal', size='scalable')) = 10.05\n",
      "DEBUG:matplotlib.font_manager:findfont: score(FontEntry(fname='/home/sguys99/anaconda3/lib/python3.10/site-packages/matplotlib/mpl-data/fonts/ttf/STIXNonUniIta.ttf', name='STIXNonUnicode', style='italic', variant='normal', weight=400, stretch='normal', size='scalable')) = 11.05\n",
      "DEBUG:matplotlib.font_manager:findfont: score(FontEntry(fname='/home/sguys99/anaconda3/lib/python3.10/site-packages/matplotlib/mpl-data/fonts/ttf/DejaVuSansMono.ttf', name='DejaVu Sans Mono', style='normal', variant='normal', weight=400, stretch='normal', size='scalable')) = 10.05\n",
      "DEBUG:matplotlib.font_manager:findfont: score(FontEntry(fname='/usr/share/fonts/truetype/ubuntu/Ubuntu-RI.ttf', name='Ubuntu', style='italic', variant='normal', weight=400, stretch='normal', size='scalable')) = 11.05\n",
      "DEBUG:matplotlib.font_manager:findfont: score(FontEntry(fname='/usr/share/fonts/truetype/ubuntu/UbuntuMono-BI.ttf', name='Ubuntu Mono', style='italic', variant='normal', weight=700, stretch='normal', size='scalable')) = 11.335\n",
      "DEBUG:matplotlib.font_manager:findfont: score(FontEntry(fname='/usr/share/fonts/truetype/ubuntu/UbuntuMono-RI.ttf', name='Ubuntu Mono', style='italic', variant='normal', weight=400, stretch='normal', size='scalable')) = 11.05\n",
      "DEBUG:matplotlib.font_manager:findfont: score(FontEntry(fname='/usr/share/fonts/truetype/ubuntu/Ubuntu-Th.ttf', name='Ubuntu', style='normal', variant='normal', weight=250, stretch='normal', size='scalable')) = 10.1925\n",
      "DEBUG:matplotlib.font_manager:findfont: score(FontEntry(fname='/usr/share/fonts/truetype/ubuntu/Ubuntu-C.ttf', name='Ubuntu Condensed', style='normal', variant='normal', weight=400, stretch='condensed', size='scalable')) = 10.25\n",
      "DEBUG:matplotlib.font_manager:findfont: score(FontEntry(fname='/usr/share/fonts/truetype/ubuntu/Ubuntu-MI.ttf', name='Ubuntu', style='italic', variant='normal', weight=500, stretch='normal', size='scalable')) = 11.145\n",
      "DEBUG:matplotlib.font_manager:findfont: score(FontEntry(fname='/usr/share/fonts/truetype/ubuntu/Ubuntu-LI.ttf', name='Ubuntu', style='italic', variant='normal', weight=300, stretch='normal', size='scalable')) = 11.145\n",
      "DEBUG:matplotlib.font_manager:findfont: score(FontEntry(fname='/usr/share/fonts/truetype/ubuntu/Ubuntu-R.ttf', name='Ubuntu', style='normal', variant='normal', weight=400, stretch='normal', size='scalable')) = 10.05\n",
      "DEBUG:matplotlib.font_manager:findfont: score(FontEntry(fname='/usr/share/fonts/truetype/ubuntu/Ubuntu-B.ttf', name='Ubuntu', style='normal', variant='normal', weight=700, stretch='normal', size='scalable')) = 10.335\n",
      "DEBUG:matplotlib.font_manager:findfont: score(FontEntry(fname='/usr/share/fonts/truetype/ubuntu/Ubuntu-L.ttf', name='Ubuntu', style='normal', variant='normal', weight=300, stretch='normal', size='scalable')) = 10.145\n",
      "DEBUG:matplotlib.font_manager:findfont: score(FontEntry(fname='/usr/share/fonts/truetype/ubuntu/UbuntuMono-R.ttf', name='Ubuntu Mono', style='normal', variant='normal', weight=400, stretch='normal', size='scalable')) = 10.05\n",
      "DEBUG:matplotlib.font_manager:findfont: score(FontEntry(fname='/usr/share/fonts/truetype/ubuntu/Ubuntu-M.ttf', name='Ubuntu', style='normal', variant='normal', weight=500, stretch='normal', size='scalable')) = 10.145\n",
      "DEBUG:matplotlib.font_manager:findfont: score(FontEntry(fname='/usr/share/fonts/truetype/ubuntu/Ubuntu-BI.ttf', name='Ubuntu', style='italic', variant='normal', weight=700, stretch='normal', size='scalable')) = 11.335\n",
      "DEBUG:matplotlib.font_manager:findfont: score(FontEntry(fname='/usr/share/fonts/truetype/ubuntu/UbuntuMono-B.ttf', name='Ubuntu Mono', style='normal', variant='normal', weight=700, stretch='normal', size='scalable')) = 10.335\n",
      "DEBUG:matplotlib.font_manager:findfont: Matching sans\\-serif:style=normal:variant=normal:weight=normal:stretch=normal:size=10.0 to DejaVu Sans ('/home/sguys99/anaconda3/lib/python3.10/site-packages/matplotlib/mpl-data/fonts/ttf/DejaVuSans.ttf') with score of 4.050000.\n"
     ]
    },
    {
     "data": {
      "text/plain": [
       "<Axes: >"
      ]
     },
     "execution_count": 8,
     "metadata": {},
     "output_type": "execute_result"
    },
    {
     "data": {
      "image/png": "[encoded data removed]",
      "text/plain": [
       "<Figure size 1500x1000 with 2 Axes>"
      ]
     },
     "metadata": {},
     "output_type": "display_data"
    }
   ],
   "source": [
    "fig, (ax1, ax2) = plt.subplots(2, 1, figsize = (15, 10), sharex=True)\n",
    "yields['mean_yield'].plot(ax = ax1)\n",
    "yields['locations'].plot(ax = ax2)"
   ]
  },
  {
   "attachments": {},
   "cell_type": "markdown",
   "metadata": {},
   "source": [
    "### Data preprocessing"
   ]
  },
  {
   "cell_type": "code",
   "execution_count": 9,
   "metadata": {},
   "outputs": [],
   "source": [
    "X, y = yields.copy(), yields.copy()"
   ]
  },
  {
   "attachments": {},
   "cell_type": "markdown",
   "metadata": {},
   "source": [
    "split data"
   ]
  },
  {
   "cell_type": "code",
   "execution_count": 10,
   "metadata": {},
   "outputs": [],
   "source": [
    "class TimeSeriesSplitter:\n",
    "    \"\"\"The class is used to split the time series between train and split and stores the indices for future reconstruction.\"\"\"\n",
    "\n",
    "    def __init__(self, num_observed_points: int):\n",
    "        \"\"\"\n",
    "\n",
    "        Args:\n",
    "            num_observed_points: The number of observed points from the past that are used to forecast the future.\n",
    "        \"\"\"\n",
    "\n",
    "        self.num_observed_points = num_observed_points\n",
    "\n",
    "        self.X_train: Optional[pd.DataFrame] = None\n",
    "        self.y_train: Optional[pd.DataFrame] = None\n",
    "        self.X_test: Optional[pd.DataFrame] = None\n",
    "        self.y_test: Optional[pd.DataFrame] = None\n",
    "\n",
    "\n",
    "    def split(self, X: pd.DataFrame, y: pd.DataFrame, test_num_years: int = 5) -> Tuple[pd.DataFrame, pd.Series, pd.DataFrame, pd.Series]:\n",
    "        \"\"\"Split the data between train and test.\"\"\"\n",
    "\n",
    "        start_train_num_years = X.index.min()\n",
    "        end_train_num_years = X.index.max() - test_num_years\n",
    "        assert end_train_num_years > 0, \"The number of training months is 0.\"\n",
    "\n",
    "\n",
    "        X_train_mask = X.index <= end_train_num_years\n",
    "        y_train_mask = (y.index >= start_train_num_years + self.num_observed_points) & (y.index <= end_train_num_years) # Remove self.num_observed_points from the target, because we cannot predict those items due to lack of data. We need at least self.num_observed_points to forecast.\n",
    "        X_test_mask = X.index > end_train_num_years - (self.num_observed_points + 1)  # Add self.num_observed items to the features so we can forecast the first element from the future based on what we know. Also add another +1 element for the differentiation operation.\n",
    "        y_test_mask = y.index > end_train_num_years - 1 # Subtract -1 for the differentiation operation.\n",
    "\n",
    "        self.X_train = X.loc[X_train_mask]\n",
    "        self.y_train = y.loc[y_train_mask][\"mean_yield\"]\n",
    "\n",
    "        self.X_test = X.loc[X_test_mask]\n",
    "        self.y_test = y.loc[y_test_mask][\"mean_yield\"]\n",
    "\n",
    "        return self.X_train, self.y_train, self.X_test, self.y_test\n",
    "\n",
    "    def attach_indices(self, y: Union[pd.Series, np.ndarray], split: str = \"test\") -> pd.Series:\n",
    "        \"\"\"Take the predictions of the model and attach the initial indices.\"\"\"\n",
    "\n",
    "        assert split in (\"train\", \"test\")\n",
    "        assert self.y_train is not None and self.y_test is not None\n",
    "\n",
    "        if isinstance(y, np.ndarray):\n",
    "            y = pd.Series(y)\n",
    "\n",
    "        if split == \"train\":\n",
    "            y = y.set_axis(self.y_train.index)\n",
    "        else:\n",
    "            y = y.set_axis(self.y_test.index)\n",
    "\n",
    "        y = y.rename(self.y_train.name)\n",
    "\n",
    "        return y"
   ]
  },
  {
   "cell_type": "code",
   "execution_count": 11,
   "metadata": {},
   "outputs": [],
   "source": [
    "time_series_splitter = TimeSeriesSplitter(num_observed_points=NUM_OBSERVED_POINTS)\n",
    "X_train, y_train, X_test, y_test = time_series_splitter.split(X, y, test_num_years=SIZE_TEST_SPLIT)"
   ]
  },
  {
   "cell_type": "code",
   "execution_count": 12,
   "metadata": {},
   "outputs": [
    {
     "data": {
      "text/html": [
       "<div>\n",
       "<style scoped>\n",
       "    .dataframe tbody tr th:only-of-type {\n",
       "        vertical-align: middle;\n",
       "    }\n",
       "\n",
       "    .dataframe tbody tr th {\n",
       "        vertical-align: top;\n",
       "    }\n",
       "\n",
       "    .dataframe thead th {\n",
       "        text-align: right;\n",
       "    }\n",
       "</style>\n",
       "<table border=\"1\" class=\"dataframe\">\n",
       "  <thead>\n",
       "    <tr style=\"text-align: right;\">\n",
       "      <th></th>\n",
       "      <th>mean_yield</th>\n",
       "      <th>locations</th>\n",
       "    </tr>\n",
       "  </thead>\n",
       "  <tbody>\n",
       "    <tr>\n",
       "      <th>1981</th>\n",
       "      <td>1.678322</td>\n",
       "      <td>2346</td>\n",
       "    </tr>\n",
       "    <tr>\n",
       "      <th>1982</th>\n",
       "      <td>3.048540</td>\n",
       "      <td>12628</td>\n",
       "    </tr>\n",
       "    <tr>\n",
       "      <th>1983</th>\n",
       "      <td>3.226099</td>\n",
       "      <td>12641</td>\n",
       "    </tr>\n",
       "    <tr>\n",
       "      <th>1984</th>\n",
       "      <td>3.340139</td>\n",
       "      <td>12627</td>\n",
       "    </tr>\n",
       "    <tr>\n",
       "      <th>1985</th>\n",
       "      <td>3.297000</td>\n",
       "      <td>12624</td>\n",
       "    </tr>\n",
       "    <tr>\n",
       "      <th>1986</th>\n",
       "      <td>3.252170</td>\n",
       "      <td>12655</td>\n",
       "    </tr>\n",
       "    <tr>\n",
       "      <th>1987</th>\n",
       "      <td>3.285161</td>\n",
       "      <td>12689</td>\n",
       "    </tr>\n",
       "    <tr>\n",
       "      <th>1988</th>\n",
       "      <td>3.223376</td>\n",
       "      <td>12712</td>\n",
       "    </tr>\n",
       "    <tr>\n",
       "      <th>1989</th>\n",
       "      <td>3.242549</td>\n",
       "      <td>12693</td>\n",
       "    </tr>\n",
       "    <tr>\n",
       "      <th>1990</th>\n",
       "      <td>3.305954</td>\n",
       "      <td>12700</td>\n",
       "    </tr>\n",
       "  </tbody>\n",
       "</table>\n",
       "</div>"
      ],
      "text/plain": [
       "      mean_yield  locations\n",
       "1981    1.678322       2346\n",
       "1982    3.048540      12628\n",
       "1983    3.226099      12641\n",
       "1984    3.340139      12627\n",
       "1985    3.297000      12624\n",
       "1986    3.252170      12655\n",
       "1987    3.285161      12689\n",
       "1988    3.223376      12712\n",
       "1989    3.242549      12693\n",
       "1990    3.305954      12700"
      ]
     },
     "execution_count": 12,
     "metadata": {},
     "output_type": "execute_result"
    }
   ],
   "source": [
    "X_train.head(10)"
   ]
  },
  {
   "cell_type": "code",
   "execution_count": 13,
   "metadata": {},
   "outputs": [
    {
     "data": {
      "text/plain": [
       "1986    3.252170\n",
       "1987    3.285161\n",
       "1988    3.223376\n",
       "1989    3.242549\n",
       "1990    3.305954\n",
       "Name: mean_yield, dtype: float32"
      ]
     },
     "execution_count": 13,
     "metadata": {},
     "output_type": "execute_result"
    }
   ],
   "source": [
    "y_train.head()"
   ]
  },
  {
   "cell_type": "code",
   "execution_count": 14,
   "metadata": {},
   "outputs": [
    {
     "data": {
      "text/html": [
       "<div>\n",
       "<style scoped>\n",
       "    .dataframe tbody tr th:only-of-type {\n",
       "        vertical-align: middle;\n",
       "    }\n",
       "\n",
       "    .dataframe tbody tr th {\n",
       "        vertical-align: top;\n",
       "    }\n",
       "\n",
       "    .dataframe thead th {\n",
       "        text-align: right;\n",
       "    }\n",
       "</style>\n",
       "<table border=\"1\" class=\"dataframe\">\n",
       "  <thead>\n",
       "    <tr style=\"text-align: right;\">\n",
       "      <th></th>\n",
       "      <th>mean_yield</th>\n",
       "      <th>locations</th>\n",
       "    </tr>\n",
       "  </thead>\n",
       "  <tbody>\n",
       "    <tr>\n",
       "      <th>2007</th>\n",
       "      <td>3.564957</td>\n",
       "      <td>12710</td>\n",
       "    </tr>\n",
       "    <tr>\n",
       "      <th>2008</th>\n",
       "      <td>3.815284</td>\n",
       "      <td>12712</td>\n",
       "    </tr>\n",
       "    <tr>\n",
       "      <th>2009</th>\n",
       "      <td>3.780416</td>\n",
       "      <td>12707</td>\n",
       "    </tr>\n",
       "    <tr>\n",
       "      <th>2010</th>\n",
       "      <td>3.894059</td>\n",
       "      <td>12705</td>\n",
       "    </tr>\n",
       "    <tr>\n",
       "      <th>2011</th>\n",
       "      <td>4.082287</td>\n",
       "      <td>10667</td>\n",
       "    </tr>\n",
       "    <tr>\n",
       "      <th>2012</th>\n",
       "      <td>4.026584</td>\n",
       "      <td>10667</td>\n",
       "    </tr>\n",
       "    <tr>\n",
       "      <th>2013</th>\n",
       "      <td>4.190502</td>\n",
       "      <td>10598</td>\n",
       "    </tr>\n",
       "    <tr>\n",
       "      <th>2014</th>\n",
       "      <td>4.151844</td>\n",
       "      <td>10598</td>\n",
       "    </tr>\n",
       "    <tr>\n",
       "      <th>2015</th>\n",
       "      <td>3.911601</td>\n",
       "      <td>9593</td>\n",
       "    </tr>\n",
       "    <tr>\n",
       "      <th>2016</th>\n",
       "      <td>4.293674</td>\n",
       "      <td>10598</td>\n",
       "    </tr>\n",
       "  </tbody>\n",
       "</table>\n",
       "</div>"
      ],
      "text/plain": [
       "      mean_yield  locations\n",
       "2007    3.564957      12710\n",
       "2008    3.815284      12712\n",
       "2009    3.780416      12707\n",
       "2010    3.894059      12705\n",
       "2011    4.082287      10667\n",
       "2012    4.026584      10667\n",
       "2013    4.190502      10598\n",
       "2014    4.151844      10598\n",
       "2015    3.911601       9593\n",
       "2016    4.293674      10598"
      ]
     },
     "execution_count": 14,
     "metadata": {},
     "output_type": "execute_result"
    }
   ],
   "source": [
    "X_test.head(10)"
   ]
  },
  {
   "cell_type": "code",
   "execution_count": 15,
   "metadata": {},
   "outputs": [
    {
     "data": {
      "text/plain": [
       "2012    4.026584\n",
       "2013    4.190502\n",
       "2014    4.151844\n",
       "2015    3.911601\n",
       "2016    4.293674\n",
       "Name: mean_yield, dtype: float32"
      ]
     },
     "execution_count": 15,
     "metadata": {},
     "output_type": "execute_result"
    }
   ],
   "source": [
    "y_test.head()"
   ]
  },
  {
   "attachments": {},
   "cell_type": "markdown",
   "metadata": {},
   "source": [
    "(Starting year of the split, Ending year of the split, number of years within the split)"
   ]
  },
  {
   "cell_type": "code",
   "execution_count": 16,
   "metadata": {},
   "outputs": [
    {
     "data": {
      "text/plain": [
       "(1981, 2012, 32)"
      ]
     },
     "execution_count": 16,
     "metadata": {},
     "output_type": "execute_result"
    }
   ],
   "source": [
    "X_train.index.min(), X_train.index.max(), X_train.index.max() - X_train.index.min() + 1"
   ]
  },
  {
   "cell_type": "code",
   "execution_count": 17,
   "metadata": {},
   "outputs": [
    {
     "data": {
      "text/plain": [
       "(1986, 2012, 27)"
      ]
     },
     "execution_count": 17,
     "metadata": {},
     "output_type": "execute_result"
    }
   ],
   "source": [
    "y_train.index.min(), y_train.index.max(), y_train.index.max() - y_train.index.min() + 1"
   ]
  },
  {
   "cell_type": "code",
   "execution_count": 18,
   "metadata": {},
   "outputs": [
    {
     "data": {
      "text/plain": [
       "(2007, 2016, 10)"
      ]
     },
     "execution_count": 18,
     "metadata": {},
     "output_type": "execute_result"
    }
   ],
   "source": [
    "X_test.index.min(), X_test.index.max(), X_test.index.max() - X_test.index.min() + 1"
   ]
  },
  {
   "cell_type": "code",
   "execution_count": 19,
   "metadata": {},
   "outputs": [
    {
     "data": {
      "text/plain": [
       "(2012, 2016, 5)"
      ]
     },
     "execution_count": 19,
     "metadata": {},
     "output_type": "execute_result"
    }
   ],
   "source": [
    "y_test.index.min(), y_test.index.max(), y_test.index.max() - y_test.index.min() + 1"
   ]
  },
  {
   "attachments": {},
   "cell_type": "markdown",
   "metadata": {},
   "source": [
    "### Building pipeline    \n",
    "글로벌 파이프라인은 다음과 같은 서브 컴포넌트로 구성된다.  \n",
    "- stationarity pipeline (used both on the features and targets)\n",
    "- feature engineering pipeline\n",
    "- regressor pipeline\n",
    "- target pipeline"
   ]
  },
  {
   "attachments": {},
   "cell_type": "markdown",
   "metadata": {},
   "source": [
    "1. Stationarity Pipeline"
   ]
  },
  {
   "attachments": {},
   "cell_type": "markdown",
   "metadata": {},
   "source": [
    "여기서는 시계열을 stationary 하도록 하는 작업을 진행한다.   \n",
    "다시 말해, 주기성을 제거하고 데이터를 정규화 한다.  \n",
    "- https://stats.stackexchange.com/questions/407062/log-transformation-of-ts-stationary-time-series"
   ]
  },
  {
   "attachments": {},
   "cell_type": "markdown",
   "metadata": {},
   "source": [
    "다음 세가지를 사용해서 구현한다.  \n",
    "- TransformerMixin\n",
    "- BaseEstimator\n",
    "- FunctionTransformer"
   ]
  },
  {
   "attachments": {},
   "cell_type": "markdown",
   "metadata": {},
   "source": [
    "이 파이프라인을 구성하는 방법은 두가지 이다.  \n",
    "- BaseEstimator + TransformerMixin를 상속 받아서 클래스 구현\n",
    "  - fit, transform, fit_transform, inverse_transform 구현해야함\n",
    "- 함수로 구현해서 FunctionTransformer로 래핑\n",
    "  - fit, inverse_transform을 사용할 필요가 없을 때 유용"
   ]
  },
  {
   "cell_type": "code",
   "execution_count": 20,
   "metadata": {},
   "outputs": [],
   "source": [
    "class LogTransformer(BaseEstimator, TransformerMixin):\n",
    "    \"\"\"\n",
    "    Custom log transformation that follows the Sklearn interface to be used in a Pipeline.\n",
    "\n",
    "    Here is a short summary of the supported interface and of what every function is doing:\n",
    "    * fit - used to learn from the data\n",
    "    * transform - used to transform the data\n",
    "    * fit_transform - learn and transform the data. This function is inherited from TransformerMixin\n",
    "    * inverse_transform - used to reverse the transformation\n",
    "\n",
    "    NOTE 1: This statement is always true: x == inverse_transform(transform(x)) - with a small tolerance accepted.\n",
    "\n",
    "    NOTE 2: The targets (e.g., y) are passed only in the fit() method. At the transform() and inverse_transform(), only the features (e.g., X) are given as input.\n",
    "\n",
    "    \"\"\"\n",
    "\n",
    "    def fit(self, X: pd.DataFrame, y: Optional[Union[pd.DataFrame, pd.Series]] = None) -> \"LogTransformer\":\n",
    "        \"\"\"In this scenario, the fit method isn't doing anything. But it must be implemented. This is a scenario of an estimator without parameters.\"\"\"\n",
    "\n",
    "        logger.debug(f\"LogTransformer X (fit): {X.shape}\")\n",
    "        if y is not None:\n",
    "            logger.debug(f\"LogTransformer y (fit): {y.shape}\")\n",
    "\n",
    "        return self\n",
    "\n",
    "    def transform(self, X: pd.DataFrame) -> pd.DataFrame:\n",
    "        \"\"\"Apply log on all the cells of the DataFrame.\"\"\"\n",
    "\n",
    "        X_log = np.log(X + 1e-27)\n",
    "\n",
    "        logger.debug(f\"LogTransformer (transform): {X_log.shape}\")\n",
    "\n",
    "        return X_log\n",
    "\n",
    "    def inverse_transform(self, X: pd.DataFrame) -> pd.DataFrame:\n",
    "        \"\"\"Inverse the log of every cell of the DataFrame.\"\"\"\n",
    "\n",
    "        X_exp = np.exp(X) - 1e-27\n",
    "\n",
    "        logger.debug(f\"LogTransformer (inverse_transform): {X_exp.shape}\")\n",
    "\n",
    "        return X_exp\n",
    "\n",
    "\n",
    "class DifferenceTransformer(BaseEstimator, TransformerMixin):\n",
    "    \"\"\"Custom differentiation transformation that follows the Sklearn interface to be used in a Pipeline.\"\"\"\n",
    "\n",
    "    def __init__(self, num_observed_points: int):\n",
    "        \"\"\"\n",
    "\n",
    "        Args:\n",
    "            num_observed_points: The number of observed points from the past that are used to forecast the future.\n",
    "        \"\"\"\n",
    "\n",
    "        self.num_observed_points = num_observed_points\n",
    "        self.X_train = None\n",
    "\n",
    "    def fit(self, X: Optional[Union[pd.DataFrame, pd.Series]], y: Optional[Union[pd.DataFrame, pd.Series]] = None) -> \"DifferenceTransformer\":\n",
    "        \"\"\"In this case by fitting we just keep a copy of the train data to reconstruct the time series on the inverse_transform() operation.\"\"\"\n",
    "\n",
    "        logger.debug(f\"DifferenceTransformer X (fit): {X.shape}\")\n",
    "        if y is not None:\n",
    "            logger.debug(f\"DifferenceTransformer y (fit): {y.shape}\")\n",
    "\n",
    "        self.X_train = X.copy()\n",
    "\n",
    "        return self\n",
    "\n",
    "    def transform(self, X: Optional[Union[pd.DataFrame, pd.Series]]) -> pd.DataFrame:\n",
    "        \"\"\"Apply the differentiation operation.\"\"\"\n",
    "\n",
    "        X_diff = X.diff(periods=1)\n",
    "        X_diff = X_diff.iloc[1:]\n",
    "\n",
    "        logger.debug(f\"DifferenceTransformer (transform): {X_diff.shape}\")\n",
    "\n",
    "        return X_diff\n",
    "\n",
    "    def inverse_transform(self, X: Optional[Union[np.ndarray, pd.DataFrame, pd.Series]]) -> pd.DataFrame:\n",
    "        \"\"\"Inverse the differentiation operation.\"\"\"\n",
    "\n",
    "        if isinstance(X, np.ndarray):\n",
    "            if len(X.shape) == 1:\n",
    "                X = pd.Series(X)\n",
    "            elif len(X.shape) == 2:\n",
    "                X = pd.DataFrame(X)\n",
    "            else:\n",
    "                raise RuntimeError(f\"Shape of X not supported: {X.shape}\")\n",
    "\n",
    "        if len(X) == len(self.X_train) - 1:\n",
    "            first_values = self.X_train.iloc[[0]]\n",
    "        else:\n",
    "            first_values = self.X_train.iloc[[-(self.num_observed_points + 1)]]\n",
    "\n",
    "        X_reversed = pd.concat([first_values, X])\n",
    "        X_reversed = X_reversed.cumsum(axis=0)\n",
    "\n",
    "        logger.debug(f\"DifferenceTransformer (inverse_transform): {X_reversed.shape}\")\n",
    "\n",
    "        return X_reversed\n",
    "\n",
    "\n",
    "def time_series_imputer(X: Union[np.ndarray, pd.DataFrame], method: str = \"bfill\"):\n",
    "    \"\"\"\n",
    "    Impute missing values of the time series.\n",
    "\n",
    "    This time we will build a Sklearn Transformation using a plain function.\n",
    "    This function must take a DataFrame/Series/NumPy array as input and return a single structure.\n",
    "    To avoid unexpected behavior, this should be a pure function.\n",
    "\n",
    "    It is helpful to use a plain function when your transformation doesn't need an implementation for fit() and inverse_transform().\n",
    "\n",
    "    Afterward, we will wrap this function with `FunctionTransformer`, letting us use it in a Sklearn Pipeline object.\n",
    "\n",
    "    NOTE: Because this function is equal to the transform() method from the approach that uses Classes, only the features (e.g., X) are given as input.\n",
    "    \"\"\"\n",
    "\n",
    "    if isinstance(X, np.ndarray):\n",
    "        X = pd.DataFrame(X)\n",
    "\n",
    "    logger.debug(f\"time_series_imputer (transform): {X.shape}\")\n",
    "\n",
    "    return X.fillna(method=method, axis=0)"
   ]
  },
  {
   "cell_type": "code",
   "execution_count": 21,
   "metadata": {},
   "outputs": [],
   "source": [
    "BackFillImputer = FunctionTransformer(partial(time_series_imputer, method=\"bfill\"), validate=False)\n",
    "ForwardFillImputer = FunctionTransformer(partial(time_series_imputer, method=\"ffill\"), validate=False)"
   ]
  },
  {
   "attachments": {},
   "cell_type": "markdown",
   "metadata": {},
   "source": [
    "- 위에서 보면 fit을 구현할 필요가 없음에도 정의했다. 이렇게 함께 정의하는 구조가 좋다.\n",
    "- 그리고 timeseries_imputer의 transformation을 설정하기 위해 partial을 사용했다.  \n",
    "- FunctionTransformer는 한개의 입력과 한개의 출력만 내보낸다 그리고 클래스는 다루지 못한다.  \n",
    "- 따라서 Therefore, using partial, we can set only a subset of the parameters of a function. It will wrap up our initial function and return another function that will need as input only the parameters not specified in partial at the next call."
   ]
  },
  {
   "attachments": {},
   "cell_type": "markdown",
   "metadata": {},
   "source": [
    "이제 파이프라인을 구축한다."
   ]
  },
  {
   "cell_type": "code",
   "execution_count": 22,
   "metadata": {},
   "outputs": [],
   "source": [
    "def build_stationarity_pipeline(source: str) -> Pipeline:\n",
    "    \n",
    "    assert source in (\"features\", \"target\")\n",
    "    if source == \"features\":\n",
    "        num_observed_points = NUM_OBSERVED_POINTS\n",
    "    else:\n",
    "        num_observed_points = 0\n",
    "        \n",
    "    return make_pipeline(\n",
    "        BackFillImputer,\n",
    "        ForwardFillImputer,\n",
    "        LogTransformer(),\n",
    "        DifferenceTransformer(num_observed_points=num_observed_points),\n",
    "        memory=\"cache\",\n",
    "        verbose=True\n",
    "    )"
   ]
  },
  {
   "cell_type": "code",
   "execution_count": 23,
   "metadata": {},
   "outputs": [],
   "source": [
    "features_stationarity_pipeline = build_stationarity_pipeline(source = \"features\")"
   ]
  },
  {
   "cell_type": "code",
   "execution_count": 24,
   "metadata": {},
   "outputs": [
    {
     "data": {
      "text/html": [
       "<style>#sk-container-id-1 {color: black;background-color: white;}#sk-container-id-1 pre{padding: 0;}#sk-container-id-1 div.sk-toggleable {background-color: white;}#sk-container-id-1 label.sk-toggleable__label {cursor: pointer;display: block;width: 100%;margin-bottom: 0;padding: 0.3em;box-sizing: border-box;text-align: center;}#sk-container-id-1 label.sk-toggleable__label-arrow:before {content: \"▸\";float: left;margin-right: 0.25em;color: #696969;}#sk-container-id-1 label.sk-toggleable__label-arrow:hover:before {color: black;}#sk-container-id-1 div.sk-estimator:hover label.sk-toggleable__label-arrow:before {color: black;}#sk-container-id-1 div.sk-toggleable__content {max-height: 0;max-width: 0;overflow: hidden;text-align: left;background-color: #f0f8ff;}#sk-container-id-1 div.sk-toggleable__content pre {margin: 0.2em;color: black;border-radius: 0.25em;background-color: #f0f8ff;}#sk-container-id-1 input.sk-toggleable__control:checked~div.sk-toggleable__content {max-height: 200px;max-width: 100%;overflow: auto;}#sk-container-id-1 input.sk-toggleable__control:checked~label.sk-toggleable__label-arrow:before {content: \"▾\";}#sk-container-id-1 div.sk-estimator input.sk-toggleable__control:checked~label.sk-toggleable__label {background-color: #d4ebff;}#sk-container-id-1 div.sk-label input.sk-toggleable__control:checked~label.sk-toggleable__label {background-color: #d4ebff;}#sk-container-id-1 input.sk-hidden--visually {border: 0;clip: rect(1px 1px 1px 1px);clip: rect(1px, 1px, 1px, 1px);height: 1px;margin: -1px;overflow: hidden;padding: 0;position: absolute;width: 1px;}#sk-container-id-1 div.sk-estimator {font-family: monospace;background-color: #f0f8ff;border: 1px dotted black;border-radius: 0.25em;box-sizing: border-box;margin-bottom: 0.5em;}#sk-container-id-1 div.sk-estimator:hover {background-color: #d4ebff;}#sk-container-id-1 div.sk-parallel-item::after {content: \"\";width: 100%;border-bottom: 1px solid gray;flex-grow: 1;}#sk-container-id-1 div.sk-label:hover label.sk-toggleable__label {background-color: #d4ebff;}#sk-container-id-1 div.sk-serial::before {content: \"\";position: absolute;border-left: 1px solid gray;box-sizing: border-box;top: 0;bottom: 0;left: 50%;z-index: 0;}#sk-container-id-1 div.sk-serial {display: flex;flex-direction: column;align-items: center;background-color: white;padding-right: 0.2em;padding-left: 0.2em;position: relative;}#sk-container-id-1 div.sk-item {position: relative;z-index: 1;}#sk-container-id-1 div.sk-parallel {display: flex;align-items: stretch;justify-content: center;background-color: white;position: relative;}#sk-container-id-1 div.sk-item::before, #sk-container-id-1 div.sk-parallel-item::before {content: \"\";position: absolute;border-left: 1px solid gray;box-sizing: border-box;top: 0;bottom: 0;left: 50%;z-index: -1;}#sk-container-id-1 div.sk-parallel-item {display: flex;flex-direction: column;z-index: 1;position: relative;background-color: white;}#sk-container-id-1 div.sk-parallel-item:first-child::after {align-self: flex-end;width: 50%;}#sk-container-id-1 div.sk-parallel-item:last-child::after {align-self: flex-start;width: 50%;}#sk-container-id-1 div.sk-parallel-item:only-child::after {width: 0;}#sk-container-id-1 div.sk-dashed-wrapped {border: 1px dashed gray;margin: 0 0.4em 0.5em 0.4em;box-sizing: border-box;padding-bottom: 0.4em;background-color: white;}#sk-container-id-1 div.sk-label label {font-family: monospace;font-weight: bold;display: inline-block;line-height: 1.2em;}#sk-container-id-1 div.sk-label-container {text-align: center;}#sk-container-id-1 div.sk-container {/* jupyter's `normalize.less` sets `[hidden] { display: none; }` but bootstrap.min.css set `[hidden] { display: none !important; }` so we also need the `!important` here to be able to override the default hidden behavior on the sphinx rendered scikit-learn.org. See: https://github.com/scikit-learn/scikit-learn/issues/21755 */display: inline-block !important;position: relative;}#sk-container-id-1 div.sk-text-repr-fallback {display: none;}</style><div id=\"sk-container-id-1\" class=\"sk-top-container\"><div class=\"sk-text-repr-fallback\"><pre>Pipeline(memory=&#x27;cache&#x27;,\n",
       "         steps=[(&#x27;functiontransformer-1&#x27;,\n",
       "                 FunctionTransformer(func=functools.partial(&lt;function time_series_imputer at 0x7f7973df93f0&gt;, method=&#x27;bfill&#x27;))),\n",
       "                (&#x27;functiontransformer-2&#x27;,\n",
       "                 FunctionTransformer(func=functools.partial(&lt;function time_series_imputer at 0x7f7973df93f0&gt;, method=&#x27;ffill&#x27;))),\n",
       "                (&#x27;logtransformer&#x27;, LogTransformer()),\n",
       "                (&#x27;differencetransformer&#x27;,\n",
       "                 DifferenceTransformer(num_observed_points=5))],\n",
       "         verbose=True)</pre><b>In a Jupyter environment, please rerun this cell to show the HTML representation or trust the notebook. <br />On GitHub, the HTML representation is unable to render, please try loading this page with nbviewer.org.</b></div><div class=\"sk-container\" hidden><div class=\"sk-item sk-dashed-wrapped\"><div class=\"sk-label-container\"><div class=\"sk-label sk-toggleable\"><input class=\"sk-toggleable__control sk-hidden--visually\" id=\"sk-estimator-id-1\" type=\"checkbox\" ><label for=\"sk-estimator-id-1\" class=\"sk-toggleable__label sk-toggleable__label-arrow\">Pipeline</label><div class=\"sk-toggleable__content\"><pre>Pipeline(memory=&#x27;cache&#x27;,\n",
       "         steps=[(&#x27;functiontransformer-1&#x27;,\n",
       "                 FunctionTransformer(func=functools.partial(&lt;function time_series_imputer at 0x7f7973df93f0&gt;, method=&#x27;bfill&#x27;))),\n",
       "                (&#x27;functiontransformer-2&#x27;,\n",
       "                 FunctionTransformer(func=functools.partial(&lt;function time_series_imputer at 0x7f7973df93f0&gt;, method=&#x27;ffill&#x27;))),\n",
       "                (&#x27;logtransformer&#x27;, LogTransformer()),\n",
       "                (&#x27;differencetransformer&#x27;,\n",
       "                 DifferenceTransformer(num_observed_points=5))],\n",
       "         verbose=True)</pre></div></div></div><div class=\"sk-serial\"><div class=\"sk-item\"><div class=\"sk-estimator sk-toggleable\"><input class=\"sk-toggleable__control sk-hidden--visually\" id=\"sk-estimator-id-2\" type=\"checkbox\" ><label for=\"sk-estimator-id-2\" class=\"sk-toggleable__label sk-toggleable__label-arrow\">FunctionTransformer</label><div class=\"sk-toggleable__content\"><pre>FunctionTransformer(func=functools.partial(&lt;function time_series_imputer at 0x7f7973df93f0&gt;, method=&#x27;bfill&#x27;))</pre></div></div></div><div class=\"sk-item\"><div class=\"sk-estimator sk-toggleable\"><input class=\"sk-toggleable__control sk-hidden--visually\" id=\"sk-estimator-id-3\" type=\"checkbox\" ><label for=\"sk-estimator-id-3\" class=\"sk-toggleable__label sk-toggleable__label-arrow\">FunctionTransformer</label><div class=\"sk-toggleable__content\"><pre>FunctionTransformer(func=functools.partial(&lt;function time_series_imputer at 0x7f7973df93f0&gt;, method=&#x27;ffill&#x27;))</pre></div></div></div><div class=\"sk-item\"><div class=\"sk-estimator sk-toggleable\"><input class=\"sk-toggleable__control sk-hidden--visually\" id=\"sk-estimator-id-4\" type=\"checkbox\" ><label for=\"sk-estimator-id-4\" class=\"sk-toggleable__label sk-toggleable__label-arrow\">LogTransformer</label><div class=\"sk-toggleable__content\"><pre>LogTransformer()</pre></div></div></div><div class=\"sk-item\"><div class=\"sk-estimator sk-toggleable\"><input class=\"sk-toggleable__control sk-hidden--visually\" id=\"sk-estimator-id-5\" type=\"checkbox\" ><label for=\"sk-estimator-id-5\" class=\"sk-toggleable__label sk-toggleable__label-arrow\">DifferenceTransformer</label><div class=\"sk-toggleable__content\"><pre>DifferenceTransformer(num_observed_points=5)</pre></div></div></div></div></div></div></div>"
      ],
      "text/plain": [
       "Pipeline(memory='cache',\n",
       "         steps=[('functiontransformer-1',\n",
       "                 FunctionTransformer(func=functools.partial(<function time_series_imputer at 0x7f7973df93f0>, method='bfill'))),\n",
       "                ('functiontransformer-2',\n",
       "                 FunctionTransformer(func=functools.partial(<function time_series_imputer at 0x7f7973df93f0>, method='ffill'))),\n",
       "                ('logtransformer', LogTransformer()),\n",
       "                ('differencetransformer',\n",
       "                 DifferenceTransformer(num_observed_points=5))],\n",
       "         verbose=True)"
      ]
     },
     "execution_count": 24,
     "metadata": {},
     "output_type": "execute_result"
    }
   ],
   "source": [
    "features_stationarity_pipeline"
   ]
  },
  {
   "cell_type": "code",
   "execution_count": 25,
   "metadata": {},
   "outputs": [
    {
     "name": "stderr",
     "output_type": "stream",
     "text": [
      "DEBUG:sklearn-pipelines:DifferenceTransformer X (fit): (32, 2)\n",
      "DEBUG:sklearn-pipelines:DifferenceTransformer (transform): (31, 2)\n",
      "DEBUG:sklearn-pipelines:DifferenceTransformer (inverse_transform): (32, 2)\n",
      "DEBUG:sklearn-pipelines:LogTransformer (inverse_transform): (32, 2)\n"
     ]
    },
    {
     "name": "stdout",
     "output_type": "stream",
     "text": [
      "[Pipeline]  (step 4 of 4) Processing differencetransformer, total=   0.0s\n"
     ]
    },
    {
     "data": {
      "text/plain": [
       "True"
      ]
     },
     "execution_count": 25,
     "metadata": {},
     "output_type": "execute_result"
    }
   ],
   "source": [
    "np.allclose(\n",
    "    features_stationarity_pipeline.inverse_transform(features_stationarity_pipeline.fit_transform(X_train.copy())),\n",
    "    X_train\n",
    ")"
   ]
  },
  {
   "cell_type": "code",
   "execution_count": 26,
   "metadata": {},
   "outputs": [
    {
     "name": "stderr",
     "output_type": "stream",
     "text": [
      "DEBUG:sklearn-pipelines:time_series_imputer (transform): (10, 2)\n",
      "DEBUG:sklearn-pipelines:time_series_imputer (transform): (10, 2)\n",
      "DEBUG:sklearn-pipelines:LogTransformer (transform): (10, 2)\n",
      "DEBUG:sklearn-pipelines:DifferenceTransformer (transform): (9, 2)\n",
      "DEBUG:sklearn-pipelines:DifferenceTransformer (inverse_transform): (10, 2)\n",
      "DEBUG:sklearn-pipelines:LogTransformer (inverse_transform): (10, 2)\n"
     ]
    },
    {
     "data": {
      "text/plain": [
       "True"
      ]
     },
     "execution_count": 26,
     "metadata": {},
     "output_type": "execute_result"
    }
   ],
   "source": [
    "np.allclose(\n",
    "    features_stationarity_pipeline.inverse_transform(features_stationarity_pipeline.transform(X_test.copy())),\n",
    "    X_test\n",
    ")"
   ]
  },
  {
   "cell_type": "code",
   "execution_count": 27,
   "metadata": {},
   "outputs": [
    {
     "name": "stderr",
     "output_type": "stream",
     "text": [
      "DEBUG:sklearn-pipelines:DifferenceTransformer X (fit): (27,)\n",
      "DEBUG:sklearn-pipelines:DifferenceTransformer (transform): (26,)\n",
      "DEBUG:sklearn-pipelines:DifferenceTransformer (inverse_transform): (27,)\n",
      "DEBUG:sklearn-pipelines:LogTransformer (inverse_transform): (27,)\n"
     ]
    },
    {
     "name": "stdout",
     "output_type": "stream",
     "text": [
      "[Pipeline]  (step 4 of 4) Processing differencetransformer, total=   0.0s\n"
     ]
    },
    {
     "data": {
      "text/plain": [
       "True"
      ]
     },
     "execution_count": 27,
     "metadata": {},
     "output_type": "execute_result"
    }
   ],
   "source": [
    "target_stationarity_pipeline = build_stationarity_pipeline(source=\"target\")\n",
    "\n",
    "np.allclose(\n",
    "    target_stationarity_pipeline.inverse_transform(target_stationarity_pipeline.fit_transform(y_train.copy())),\n",
    "    y_train\n",
    ")"
   ]
  },
  {
   "cell_type": "code",
   "execution_count": 28,
   "metadata": {},
   "outputs": [
    {
     "name": "stderr",
     "output_type": "stream",
     "text": [
      "DEBUG:sklearn-pipelines:time_series_imputer (transform): (5,)\n",
      "DEBUG:sklearn-pipelines:time_series_imputer (transform): (5,)\n",
      "DEBUG:sklearn-pipelines:LogTransformer (transform): (5,)\n",
      "DEBUG:sklearn-pipelines:DifferenceTransformer (transform): (4,)\n",
      "DEBUG:sklearn-pipelines:DifferenceTransformer (inverse_transform): (5,)\n",
      "DEBUG:sklearn-pipelines:LogTransformer (inverse_transform): (5,)\n"
     ]
    },
    {
     "data": {
      "text/plain": [
       "True"
      ]
     },
     "execution_count": 28,
     "metadata": {},
     "output_type": "execute_result"
    }
   ],
   "source": [
    "np.allclose(\n",
    "    target_stationarity_pipeline.inverse_transform(target_stationarity_pipeline.transform(y_test.copy())),\n",
    "    y_test\n",
    ")"
   ]
  },
  {
   "cell_type": "code",
   "execution_count": 29,
   "metadata": {},
   "outputs": [
    {
     "name": "stderr",
     "output_type": "stream",
     "text": [
      "DEBUG:sklearn-pipelines:DifferenceTransformer X (fit): (36, 2)\n",
      "DEBUG:sklearn-pipelines:DifferenceTransformer (transform): (35, 2)\n"
     ]
    },
    {
     "name": "stdout",
     "output_type": "stream",
     "text": [
      "[Pipeline]  (step 4 of 4) Processing differencetransformer, total=   0.0s\n"
     ]
    },
    {
     "data": {
      "image/png": "[encoded data removed]",
      "text/plain": [
       "<Figure size 640x480 with 2 Axes>"
      ]
     },
     "metadata": {},
     "output_type": "display_data"
    }
   ],
   "source": [
    "\n",
    "features_stationarity_pipeline.fit_transform(yields.copy()).plot(subplots=True);"
   ]
  },
  {
   "attachments": {},
   "cell_type": "markdown",
   "metadata": {},
   "source": [
    "### Feature Engineering Pipeline"
   ]
  },
  {
   "cell_type": "code",
   "execution_count": 30,
   "metadata": {},
   "outputs": [],
   "source": [
    "def rolling_average_transformer(X: Union[pd.Series, pd.DataFrame], window: int = 5):\n",
    "    \"\"\"Compute the moving average with a length of 'window'.\"\"\"\n",
    "\n",
    "    if isinstance(X, pd.Series):\n",
    "        X = X.to_frame()\n",
    "\n",
    "    X_average = X.rolling(window=window).mean()\n",
    "    X_average.columns = [f\"{col}_rolling_average_{window}\" for col in X.columns]\n",
    "\n",
    "    logger.debug(f\"rolling_average_transformer (transform): {X_average.shape}\")\n",
    "\n",
    "    return X_average\n",
    "\n",
    "\n",
    "def rolling_std_transformer(X: Union[pd.Series, pd.DataFrame], window: int = 5):\n",
    "    \"\"\"Compute the moving standard deviation with a length of 'window'.\"\"\"\n",
    "\n",
    "    if isinstance(X, pd.Series):\n",
    "        X = X.to_frame()\n",
    "\n",
    "    X_std = X.rolling(window=window).std()\n",
    "    X_std.columns = [f\"{col}_rolling_std_{window}\" for col in X.columns]\n",
    "\n",
    "    logger.debug(f\"rolling_std_transformer (transform): {X_std.shape}\")\n",
    "\n",
    "    return X_std\n",
    "\n",
    "\n",
    "def rolling_median_transformer(X: Union[pd.Series, pd.DataFrame], window: int = 5):\n",
    "    \"\"\"Compute the moving median with a length of 'window'.\"\"\"\n",
    "\n",
    "    if isinstance(X, pd.Series):\n",
    "        X = X.to_frame()\n",
    "\n",
    "    X_median = X.rolling(window=window).median()\n",
    "    X_median.columns = [f\"{col}_rolling_median_{window}\" for col in X.columns]\n",
    "\n",
    "    logger.debug(f\"rolling_median_transformer (transform): {X_median.shape}\")\n",
    "\n",
    "    return X_median\n",
    "\n",
    "\n",
    "def time_series_shift(X: Union[pd.Series, pd.DataFrame], n_past: int = 5):\n",
    "    \"\"\"Function that gathers 'n_past' points to predict the point at time T_n.\"\"\"\n",
    "\n",
    "    if isinstance(X, np.ndarray):\n",
    "        X = pd.DataFrame(X)\n",
    "    if isinstance(X, pd.Series):\n",
    "        X = X.to_frame()\n",
    "\n",
    "    encoded_X = X.copy()\n",
    "    for column in X.columns:\n",
    "        for past_delta in range(1, n_past + 1):\n",
    "            column_name = f\"{column}_{past_delta}\"\n",
    "            X_delta = X[column].shift(past_delta)\n",
    "            X_delta = X_delta.rename(column_name)\n",
    "\n",
    "            encoded_X = pd.concat([encoded_X, X_delta], axis=1)\n",
    "\n",
    "    # Now drop all the columns from time T_n. We want to keep at the feature level T_n-1, T_n-2, ... T_0 and predict the value at time T_n.\n",
    "    encoded_X = encoded_X.drop(columns=X.columns)\n",
    "\n",
    "    logger.debug(f\"time_series_shift (transform): {encoded_X.shape}\")\n",
    "\n",
    "    return encoded_X"
   ]
  },
  {
   "cell_type": "code",
   "execution_count": 31,
   "metadata": {},
   "outputs": [],
   "source": [
    "class DropRowsTransformer(BaseEstimator, TransformerMixin):\n",
    "    \"\"\"Transformer used to drop a given number of rows from the beginning of the DataFrame.\"\"\"\n",
    "\n",
    "    def __init__(self, num_rows: int):\n",
    "        \"\"\"\n",
    "\n",
    "        Args:\n",
    "            num_rows: The number of rows to drop at the beginning of the structure.\n",
    "        \"\"\"\n",
    "\n",
    "        self.num_rows = num_rows\n",
    "        self.start_X = None\n",
    "\n",
    "    def fit(self, X: pd.DataFrame, y: Optional[Union[pd.DataFrame, pd.Series]] = None) -> \"DropRowsTransformer\":\n",
    "        self.start_X = X.iloc[:self.num_rows]\n",
    "\n",
    "        logger.debug(f\"DropRowsTransformer X (fit): {X.shape}\")\n",
    "        if y is not None:\n",
    "            logger.debug(f\"DropRowsTransformer y (fit): {y.shape}\")\n",
    "\n",
    "        return self\n",
    "\n",
    "    def transform(self, X: Union[np.ndarray, pd.Series, pd.DataFrame]) -> pd.DataFrame:\n",
    "        if isinstance(X, np.ndarray):\n",
    "            X = X[self.num_rows: ]\n",
    "        else:\n",
    "            X = X.iloc[self.num_rows: ]\n",
    "\n",
    "        logger.debug(f\"DropRowsTransformer (transform): {X.shape}\")\n",
    "\n",
    "        return X\n",
    "\n",
    "    def inverse_transform(self, X: Union[np.ndarray, pd.Series, pd.DataFrame]) -> pd.DataFrame:\n",
    "        if isinstance(X, np.ndarray):\n",
    "            X = pd.DataFrame(X)\n",
    "\n",
    "        X = pd.concat([self.start_X, X], axis=0)\n",
    "\n",
    "        logger.debug(f\"DropRowsTransformer (inverse_transform): {X.shape}\")\n",
    "\n",
    "        return X"
   ]
  },
  {
   "cell_type": "code",
   "execution_count": 32,
   "metadata": {},
   "outputs": [],
   "source": [
    "RollingAverageTransformer = FunctionTransformer(partial(rolling_average_transformer, window=NUM_OBSERVED_POINTS))\n",
    "RollingStdTransformer = FunctionTransformer(partial(rolling_std_transformer, window=NUM_OBSERVED_POINTS))\n",
    "RollingMedianTransformer = FunctionTransformer(partial(rolling_median_transformer, window=NUM_OBSERVED_POINTS))\n",
    "ShiftNumObservedPointsTransformer = FunctionTransformer(partial(time_series_shift, n_past=NUM_OBSERVED_POINTS))\n",
    "ShiftOnePointTransformer = FunctionTransformer(partial(time_series_shift, n_past=1))"
   ]
  },
  {
   "attachments": {},
   "cell_type": "markdown",
   "metadata": {},
   "source": [
    "- 대부분 FunctionTransformer를 사용했다. fit, inverse_transform을 사용하지 않기 때문이다.  \n",
    "- DropRowsTransformer는 사용하기 때문에 클래스로 구현했다.\n",
    "- 대부분의 경우 FunctionTransformer를 사용하는 것이 효율적이다."
   ]
  },
  {
   "attachments": {},
   "cell_type": "markdown",
   "metadata": {},
   "source": [
    "이제 다음을 사용하자.  \n",
    "- make_column_transformer (a shortcut for ColumnTransfomer)\n",
    "    - 컬럼별 다른 전처리 적용위해\n",
    "- make_union (a shortcut for FeatureUnion)\n",
    "    - 다수 피처를 병렬로 처리하기 위해"
   ]
  },
  {
   "attachments": {},
   "cell_type": "markdown",
   "metadata": {},
   "source": [
    "여기서는 다음 피처를 병렬로 적용하고자 한다. \n",
    "- past observations\n",
    "- moving average\n",
    "- moving standard deviation\n",
    "- moving median"
   ]
  },
  {
   "attachments": {},
   "cell_type": "markdown",
   "metadata": {},
   "source": [
    "- `locations` 피처에 적용하려고 한다.  \n",
    "\n",
    "\n",
    "아래 스니펫에서 이러한 구성 요소가 실제로 작동하는 것을 볼 수 있습니다. Sklearn 파이프라인 패러다임에 따라 파이프라인 전체에서 대부분의 기능을 얼마나 멋지게 재사용했는지 살펴보십시오.\n",
    "\n",
    "또 다른 필수 요소는 memory=\"캐시\" 속성입니다. 이 속성을 사용하면 모든 단계가 로컬 디스크에 캐시됩니다. 따라서 새로 실행할 때 출력이 캐시되면 캐시에서 자동으로 결과를 읽습니다. 또한 변경 사항이 있을 경우 언제 캐시를 무효화해야 하는지 알 수 있습니다."
   ]
  },
  {
   "cell_type": "code",
   "execution_count": 33,
   "metadata": {},
   "outputs": [],
   "source": [
    "def build_feature_engineering_pipeline() -> Pipeline:\n",
    "    \"\"\"Factory function used to build the feature engineering pipeline.\"\"\"\n",
    "\n",
    "    return make_pipeline(\n",
    "        build_stationarity_pipeline(source=\"features\"),\n",
    "        make_column_transformer(\n",
    "            (\n",
    "                make_union(\n",
    "                    ShiftNumObservedPointsTransformer,\n",
    "                    make_pipeline(RollingAverageTransformer, ShiftOnePointTransformer),\n",
    "                    make_pipeline(RollingStdTransformer, ShiftOnePointTransformer),\n",
    "                    make_pipeline(RollingMedianTransformer, ShiftOnePointTransformer)\n",
    "                ),\n",
    "                [\"mean_yield\"]\n",
    "            ),\n",
    "            (\n",
    "                make_union(\n",
    "                    ShiftNumObservedPointsTransformer,\n",
    "                    make_pipeline(RollingAverageTransformer, ShiftOnePointTransformer)\n",
    "                ),\n",
    "                [\"locations\"]\n",
    "            ),\n",
    "\n",
    "        ),\n",
    "        BackFillImputer,\n",
    "        ForwardFillImputer,\n",
    "        DropRowsTransformer(num_rows=NUM_OBSERVED_POINTS),\n",
    "        memory=\"cache\",\n",
    "        verbose=True\n",
    "    )"
   ]
  },
  {
   "cell_type": "code",
   "execution_count": 34,
   "metadata": {},
   "outputs": [
    {
     "data": {
      "text/html": [
       "<style>#sk-container-id-2 {color: black;background-color: white;}#sk-container-id-2 pre{padding: 0;}#sk-container-id-2 div.sk-toggleable {background-color: white;}#sk-container-id-2 label.sk-toggleable__label {cursor: pointer;display: block;width: 100%;margin-bottom: 0;padding: 0.3em;box-sizing: border-box;text-align: center;}#sk-container-id-2 label.sk-toggleable__label-arrow:before {content: \"▸\";float: left;margin-right: 0.25em;color: #696969;}#sk-container-id-2 label.sk-toggleable__label-arrow:hover:before {color: black;}#sk-container-id-2 div.sk-estimator:hover label.sk-toggleable__label-arrow:before {color: black;}#sk-container-id-2 div.sk-toggleable__content {max-height: 0;max-width: 0;overflow: hidden;text-align: left;background-color: #f0f8ff;}#sk-container-id-2 div.sk-toggleable__content pre {margin: 0.2em;color: black;border-radius: 0.25em;background-color: #f0f8ff;}#sk-container-id-2 input.sk-toggleable__control:checked~div.sk-toggleable__content {max-height: 200px;max-width: 100%;overflow: auto;}#sk-container-id-2 input.sk-toggleable__control:checked~label.sk-toggleable__label-arrow:before {content: \"▾\";}#sk-container-id-2 div.sk-estimator input.sk-toggleable__control:checked~label.sk-toggleable__label {background-color: #d4ebff;}#sk-container-id-2 div.sk-label input.sk-toggleable__control:checked~label.sk-toggleable__label {background-color: #d4ebff;}#sk-container-id-2 input.sk-hidden--visually {border: 0;clip: rect(1px 1px 1px 1px);clip: rect(1px, 1px, 1px, 1px);height: 1px;margin: -1px;overflow: hidden;padding: 0;position: absolute;width: 1px;}#sk-container-id-2 div.sk-estimator {font-family: monospace;background-color: #f0f8ff;border: 1px dotted black;border-radius: 0.25em;box-sizing: border-box;margin-bottom: 0.5em;}#sk-container-id-2 div.sk-estimator:hover {background-color: #d4ebff;}#sk-container-id-2 div.sk-parallel-item::after {content: \"\";width: 100%;border-bottom: 1px solid gray;flex-grow: 1;}#sk-container-id-2 div.sk-label:hover label.sk-toggleable__label {background-color: #d4ebff;}#sk-container-id-2 div.sk-serial::before {content: \"\";position: absolute;border-left: 1px solid gray;box-sizing: border-box;top: 0;bottom: 0;left: 50%;z-index: 0;}#sk-container-id-2 div.sk-serial {display: flex;flex-direction: column;align-items: center;background-color: white;padding-right: 0.2em;padding-left: 0.2em;position: relative;}#sk-container-id-2 div.sk-item {position: relative;z-index: 1;}#sk-container-id-2 div.sk-parallel {display: flex;align-items: stretch;justify-content: center;background-color: white;position: relative;}#sk-container-id-2 div.sk-item::before, #sk-container-id-2 div.sk-parallel-item::before {content: \"\";position: absolute;border-left: 1px solid gray;box-sizing: border-box;top: 0;bottom: 0;left: 50%;z-index: -1;}#sk-container-id-2 div.sk-parallel-item {display: flex;flex-direction: column;z-index: 1;position: relative;background-color: white;}#sk-container-id-2 div.sk-parallel-item:first-child::after {align-self: flex-end;width: 50%;}#sk-container-id-2 div.sk-parallel-item:last-child::after {align-self: flex-start;width: 50%;}#sk-container-id-2 div.sk-parallel-item:only-child::after {width: 0;}#sk-container-id-2 div.sk-dashed-wrapped {border: 1px dashed gray;margin: 0 0.4em 0.5em 0.4em;box-sizing: border-box;padding-bottom: 0.4em;background-color: white;}#sk-container-id-2 div.sk-label label {font-family: monospace;font-weight: bold;display: inline-block;line-height: 1.2em;}#sk-container-id-2 div.sk-label-container {text-align: center;}#sk-container-id-2 div.sk-container {/* jupyter's `normalize.less` sets `[hidden] { display: none; }` but bootstrap.min.css set `[hidden] { display: none !important; }` so we also need the `!important` here to be able to override the default hidden behavior on the sphinx rendered scikit-learn.org. See: https://github.com/scikit-learn/scikit-learn/issues/21755 */display: inline-block !important;position: relative;}#sk-container-id-2 div.sk-text-repr-fallback {display: none;}</style><div id=\"sk-container-id-2\" class=\"sk-top-container\"><div class=\"sk-text-repr-fallback\"><pre>Pipeline(memory=&#x27;cache&#x27;,\n",
       "         steps=[(&#x27;pipeline&#x27;,\n",
       "                 Pipeline(memory=&#x27;cache&#x27;,\n",
       "                          steps=[(&#x27;functiontransformer-1&#x27;,\n",
       "                                  FunctionTransformer(func=functools.partial(&lt;function time_series_imputer at 0x7f7973df93f0&gt;, method=&#x27;bfill&#x27;))),\n",
       "                                 (&#x27;functiontransformer-2&#x27;,\n",
       "                                  FunctionTransformer(func=functools.partial(&lt;function time_series_imputer at 0x7f7973df93f0&gt;, method=&#x27;ffill&#x27;))),\n",
       "                                 (&#x27;logtransfo...\n",
       "                                                  [&#x27;locations&#x27;])])),\n",
       "                (&#x27;functiontransformer-1&#x27;,\n",
       "                 FunctionTransformer(func=functools.partial(&lt;function time_series_imputer at 0x7f7973df93f0&gt;, method=&#x27;bfill&#x27;))),\n",
       "                (&#x27;functiontransformer-2&#x27;,\n",
       "                 FunctionTransformer(func=functools.partial(&lt;function time_series_imputer at 0x7f7973df93f0&gt;, method=&#x27;ffill&#x27;))),\n",
       "                (&#x27;droprowstransformer&#x27;, DropRowsTransformer(num_rows=5))],\n",
       "         verbose=True)</pre><b>In a Jupyter environment, please rerun this cell to show the HTML representation or trust the notebook. <br />On GitHub, the HTML representation is unable to render, please try loading this page with nbviewer.org.</b></div><div class=\"sk-container\" hidden><div class=\"sk-item sk-dashed-wrapped\"><div class=\"sk-label-container\"><div class=\"sk-label sk-toggleable\"><input class=\"sk-toggleable__control sk-hidden--visually\" id=\"sk-estimator-id-6\" type=\"checkbox\" ><label for=\"sk-estimator-id-6\" class=\"sk-toggleable__label sk-toggleable__label-arrow\">Pipeline</label><div class=\"sk-toggleable__content\"><pre>Pipeline(memory=&#x27;cache&#x27;,\n",
       "         steps=[(&#x27;pipeline&#x27;,\n",
       "                 Pipeline(memory=&#x27;cache&#x27;,\n",
       "                          steps=[(&#x27;functiontransformer-1&#x27;,\n",
       "                                  FunctionTransformer(func=functools.partial(&lt;function time_series_imputer at 0x7f7973df93f0&gt;, method=&#x27;bfill&#x27;))),\n",
       "                                 (&#x27;functiontransformer-2&#x27;,\n",
       "                                  FunctionTransformer(func=functools.partial(&lt;function time_series_imputer at 0x7f7973df93f0&gt;, method=&#x27;ffill&#x27;))),\n",
       "                                 (&#x27;logtransfo...\n",
       "                                                  [&#x27;locations&#x27;])])),\n",
       "                (&#x27;functiontransformer-1&#x27;,\n",
       "                 FunctionTransformer(func=functools.partial(&lt;function time_series_imputer at 0x7f7973df93f0&gt;, method=&#x27;bfill&#x27;))),\n",
       "                (&#x27;functiontransformer-2&#x27;,\n",
       "                 FunctionTransformer(func=functools.partial(&lt;function time_series_imputer at 0x7f7973df93f0&gt;, method=&#x27;ffill&#x27;))),\n",
       "                (&#x27;droprowstransformer&#x27;, DropRowsTransformer(num_rows=5))],\n",
       "         verbose=True)</pre></div></div></div><div class=\"sk-serial\"><div class=\"sk-item\"><div class=\"sk-label-container\"><div class=\"sk-label sk-toggleable\"><input class=\"sk-toggleable__control sk-hidden--visually\" id=\"sk-estimator-id-7\" type=\"checkbox\" ><label for=\"sk-estimator-id-7\" class=\"sk-toggleable__label sk-toggleable__label-arrow\">pipeline: Pipeline</label><div class=\"sk-toggleable__content\"><pre>Pipeline(memory=&#x27;cache&#x27;,\n",
       "         steps=[(&#x27;functiontransformer-1&#x27;,\n",
       "                 FunctionTransformer(func=functools.partial(&lt;function time_series_imputer at 0x7f7973df93f0&gt;, method=&#x27;bfill&#x27;))),\n",
       "                (&#x27;functiontransformer-2&#x27;,\n",
       "                 FunctionTransformer(func=functools.partial(&lt;function time_series_imputer at 0x7f7973df93f0&gt;, method=&#x27;ffill&#x27;))),\n",
       "                (&#x27;logtransformer&#x27;, LogTransformer()),\n",
       "                (&#x27;differencetransformer&#x27;,\n",
       "                 DifferenceTransformer(num_observed_points=5))],\n",
       "         verbose=True)</pre></div></div></div><div class=\"sk-serial\"><div class=\"sk-item\"><div class=\"sk-estimator sk-toggleable\"><input class=\"sk-toggleable__control sk-hidden--visually\" id=\"sk-estimator-id-8\" type=\"checkbox\" ><label for=\"sk-estimator-id-8\" class=\"sk-toggleable__label sk-toggleable__label-arrow\">FunctionTransformer</label><div class=\"sk-toggleable__content\"><pre>FunctionTransformer(func=functools.partial(&lt;function time_series_imputer at 0x7f7973df93f0&gt;, method=&#x27;bfill&#x27;))</pre></div></div></div><div class=\"sk-item\"><div class=\"sk-estimator sk-toggleable\"><input class=\"sk-toggleable__control sk-hidden--visually\" id=\"sk-estimator-id-9\" type=\"checkbox\" ><label for=\"sk-estimator-id-9\" class=\"sk-toggleable__label sk-toggleable__label-arrow\">FunctionTransformer</label><div class=\"sk-toggleable__content\"><pre>FunctionTransformer(func=functools.partial(&lt;function time_series_imputer at 0x7f7973df93f0&gt;, method=&#x27;ffill&#x27;))</pre></div></div></div><div class=\"sk-item\"><div class=\"sk-estimator sk-toggleable\"><input class=\"sk-toggleable__control sk-hidden--visually\" id=\"sk-estimator-id-10\" type=\"checkbox\" ><label for=\"sk-estimator-id-10\" class=\"sk-toggleable__label sk-toggleable__label-arrow\">LogTransformer</label><div class=\"sk-toggleable__content\"><pre>LogTransformer()</pre></div></div></div><div class=\"sk-item\"><div class=\"sk-estimator sk-toggleable\"><input class=\"sk-toggleable__control sk-hidden--visually\" id=\"sk-estimator-id-11\" type=\"checkbox\" ><label for=\"sk-estimator-id-11\" class=\"sk-toggleable__label sk-toggleable__label-arrow\">DifferenceTransformer</label><div class=\"sk-toggleable__content\"><pre>DifferenceTransformer(num_observed_points=5)</pre></div></div></div></div></div><div class=\"sk-item sk-dashed-wrapped\"><div class=\"sk-label-container\"><div class=\"sk-label sk-toggleable\"><input class=\"sk-toggleable__control sk-hidden--visually\" id=\"sk-estimator-id-12\" type=\"checkbox\" ><label for=\"sk-estimator-id-12\" class=\"sk-toggleable__label sk-toggleable__label-arrow\">columntransformer: ColumnTransformer</label><div class=\"sk-toggleable__content\"><pre>ColumnTransformer(transformers=[(&#x27;featureunion-1&#x27;,\n",
       "                                 FeatureUnion(transformer_list=[(&#x27;functiontransformer&#x27;,\n",
       "                                                                 FunctionTransformer(func=functools.partial(&lt;function time_series_shift at 0x7f79743f49d0&gt;, n_past=5))),\n",
       "                                                                (&#x27;pipeline-1&#x27;,\n",
       "                                                                 Pipeline(steps=[(&#x27;functiontransformer-1&#x27;,\n",
       "                                                                                  FunctionTransformer(func=functools.partial(&lt;function rolling_average_transformer at 0x7f79743f4...\n",
       "                                                                 FunctionTransformer(func=functools.partial(&lt;function time_series_shift at 0x7f79743f49d0&gt;, n_past=5))),\n",
       "                                                                (&#x27;pipeline&#x27;,\n",
       "                                                                 Pipeline(steps=[(&#x27;functiontransformer-1&#x27;,\n",
       "                                                                                  FunctionTransformer(func=functools.partial(&lt;function rolling_average_transformer at 0x7f79743f4940&gt;, window=5))),\n",
       "                                                                                 (&#x27;functiontransformer-2&#x27;,\n",
       "                                                                                  FunctionTransformer(func=functools.partial(&lt;function time_series_shift at 0x7f79743f49d0&gt;, n_past=1)))]))]),\n",
       "                                 [&#x27;locations&#x27;])])</pre></div></div></div><div class=\"sk-parallel\"><div class=\"sk-parallel-item\"><div class=\"sk-item\"><div class=\"sk-label-container\"><div class=\"sk-label sk-toggleable\"><input class=\"sk-toggleable__control sk-hidden--visually\" id=\"sk-estimator-id-13\" type=\"checkbox\" ><label for=\"sk-estimator-id-13\" class=\"sk-toggleable__label sk-toggleable__label-arrow\">featureunion-1</label><div class=\"sk-toggleable__content\"><pre>[&#x27;mean_yield&#x27;]</pre></div></div></div><div class=\"sk-serial\"><div class=\"sk-item sk-dashed-wrapped\"><div class=\"sk-parallel\"><div class=\"sk-parallel-item\"><div class=\"sk-item\"><div class=\"sk-label-container\"><div class=\"sk-label sk-toggleable\"><label>functiontransformer</label></div></div><div class=\"sk-serial\"><div class=\"sk-item\"><div class=\"sk-estimator sk-toggleable\"><input class=\"sk-toggleable__control sk-hidden--visually\" id=\"sk-estimator-id-14\" type=\"checkbox\" ><label for=\"sk-estimator-id-14\" class=\"sk-toggleable__label sk-toggleable__label-arrow\">FunctionTransformer</label><div class=\"sk-toggleable__content\"><pre>FunctionTransformer(func=functools.partial(&lt;function time_series_shift at 0x7f79743f49d0&gt;, n_past=5))</pre></div></div></div></div></div></div><div class=\"sk-parallel-item\"><div class=\"sk-item\"><div class=\"sk-label-container\"><div class=\"sk-label sk-toggleable\"><label>pipeline-1</label></div></div><div class=\"sk-serial\"><div class=\"sk-item\"><div class=\"sk-serial\"><div class=\"sk-item\"><div class=\"sk-estimator sk-toggleable\"><input class=\"sk-toggleable__control sk-hidden--visually\" id=\"sk-estimator-id-15\" type=\"checkbox\" ><label for=\"sk-estimator-id-15\" class=\"sk-toggleable__label sk-toggleable__label-arrow\">FunctionTransformer</label><div class=\"sk-toggleable__content\"><pre>FunctionTransformer(func=functools.partial(&lt;function rolling_average_transformer at 0x7f79743f4940&gt;, window=5))</pre></div></div></div><div class=\"sk-item\"><div class=\"sk-estimator sk-toggleable\"><input class=\"sk-toggleable__control sk-hidden--visually\" id=\"sk-estimator-id-16\" type=\"checkbox\" ><label for=\"sk-estimator-id-16\" class=\"sk-toggleable__label sk-toggleable__label-arrow\">FunctionTransformer</label><div class=\"sk-toggleable__content\"><pre>FunctionTransformer(func=functools.partial(&lt;function time_series_shift at 0x7f79743f49d0&gt;, n_past=1))</pre></div></div></div></div></div></div></div></div><div class=\"sk-parallel-item\"><div class=\"sk-item\"><div class=\"sk-label-container\"><div class=\"sk-label sk-toggleable\"><label>pipeline-2</label></div></div><div class=\"sk-serial\"><div class=\"sk-item\"><div class=\"sk-serial\"><div class=\"sk-item\"><div class=\"sk-estimator sk-toggleable\"><input class=\"sk-toggleable__control sk-hidden--visually\" id=\"sk-estimator-id-17\" type=\"checkbox\" ><label for=\"sk-estimator-id-17\" class=\"sk-toggleable__label sk-toggleable__label-arrow\">FunctionTransformer</label><div class=\"sk-toggleable__content\"><pre>FunctionTransformer(func=functools.partial(&lt;function rolling_std_transformer at 0x7f79743f4820&gt;, window=5))</pre></div></div></div><div class=\"sk-item\"><div class=\"sk-estimator sk-toggleable\"><input class=\"sk-toggleable__control sk-hidden--visually\" id=\"sk-estimator-id-18\" type=\"checkbox\" ><label for=\"sk-estimator-id-18\" class=\"sk-toggleable__label sk-toggleable__label-arrow\">FunctionTransformer</label><div class=\"sk-toggleable__content\"><pre>FunctionTransformer(func=functools.partial(&lt;function time_series_shift at 0x7f79743f49d0&gt;, n_past=1))</pre></div></div></div></div></div></div></div></div><div class=\"sk-parallel-item\"><div class=\"sk-item\"><div class=\"sk-label-container\"><div class=\"sk-label sk-toggleable\"><label>pipeline-3</label></div></div><div class=\"sk-serial\"><div class=\"sk-item\"><div class=\"sk-serial\"><div class=\"sk-item\"><div class=\"sk-estimator sk-toggleable\"><input class=\"sk-toggleable__control sk-hidden--visually\" id=\"sk-estimator-id-19\" type=\"checkbox\" ><label for=\"sk-estimator-id-19\" class=\"sk-toggleable__label sk-toggleable__label-arrow\">FunctionTransformer</label><div class=\"sk-toggleable__content\"><pre>FunctionTransformer(func=functools.partial(&lt;function rolling_median_transformer at 0x7f79743f48b0&gt;, window=5))</pre></div></div></div><div class=\"sk-item\"><div class=\"sk-estimator sk-toggleable\"><input class=\"sk-toggleable__control sk-hidden--visually\" id=\"sk-estimator-id-20\" type=\"checkbox\" ><label for=\"sk-estimator-id-20\" class=\"sk-toggleable__label sk-toggleable__label-arrow\">FunctionTransformer</label><div class=\"sk-toggleable__content\"><pre>FunctionTransformer(func=functools.partial(&lt;function time_series_shift at 0x7f79743f49d0&gt;, n_past=1))</pre></div></div></div></div></div></div></div></div></div></div></div></div></div><div class=\"sk-parallel-item\"><div class=\"sk-item\"><div class=\"sk-label-container\"><div class=\"sk-label sk-toggleable\"><input class=\"sk-toggleable__control sk-hidden--visually\" id=\"sk-estimator-id-21\" type=\"checkbox\" ><label for=\"sk-estimator-id-21\" class=\"sk-toggleable__label sk-toggleable__label-arrow\">featureunion-2</label><div class=\"sk-toggleable__content\"><pre>[&#x27;locations&#x27;]</pre></div></div></div><div class=\"sk-serial\"><div class=\"sk-item sk-dashed-wrapped\"><div class=\"sk-parallel\"><div class=\"sk-parallel-item\"><div class=\"sk-item\"><div class=\"sk-label-container\"><div class=\"sk-label sk-toggleable\"><label>functiontransformer</label></div></div><div class=\"sk-serial\"><div class=\"sk-item\"><div class=\"sk-estimator sk-toggleable\"><input class=\"sk-toggleable__control sk-hidden--visually\" id=\"sk-estimator-id-22\" type=\"checkbox\" ><label for=\"sk-estimator-id-22\" class=\"sk-toggleable__label sk-toggleable__label-arrow\">FunctionTransformer</label><div class=\"sk-toggleable__content\"><pre>FunctionTransformer(func=functools.partial(&lt;function time_series_shift at 0x7f79743f49d0&gt;, n_past=5))</pre></div></div></div></div></div></div><div class=\"sk-parallel-item\"><div class=\"sk-item\"><div class=\"sk-label-container\"><div class=\"sk-label sk-toggleable\"><label>pipeline</label></div></div><div class=\"sk-serial\"><div class=\"sk-item\"><div class=\"sk-serial\"><div class=\"sk-item\"><div class=\"sk-estimator sk-toggleable\"><input class=\"sk-toggleable__control sk-hidden--visually\" id=\"sk-estimator-id-23\" type=\"checkbox\" ><label for=\"sk-estimator-id-23\" class=\"sk-toggleable__label sk-toggleable__label-arrow\">FunctionTransformer</label><div class=\"sk-toggleable__content\"><pre>FunctionTransformer(func=functools.partial(&lt;function rolling_average_transformer at 0x7f79743f4940&gt;, window=5))</pre></div></div></div><div class=\"sk-item\"><div class=\"sk-estimator sk-toggleable\"><input class=\"sk-toggleable__control sk-hidden--visually\" id=\"sk-estimator-id-24\" type=\"checkbox\" ><label for=\"sk-estimator-id-24\" class=\"sk-toggleable__label sk-toggleable__label-arrow\">FunctionTransformer</label><div class=\"sk-toggleable__content\"><pre>FunctionTransformer(func=functools.partial(&lt;function time_series_shift at 0x7f79743f49d0&gt;, n_past=1))</pre></div></div></div></div></div></div></div></div></div></div></div></div></div></div></div><div class=\"sk-item\"><div class=\"sk-estimator sk-toggleable\"><input class=\"sk-toggleable__control sk-hidden--visually\" id=\"sk-estimator-id-25\" type=\"checkbox\" ><label for=\"sk-estimator-id-25\" class=\"sk-toggleable__label sk-toggleable__label-arrow\">FunctionTransformer</label><div class=\"sk-toggleable__content\"><pre>FunctionTransformer(func=functools.partial(&lt;function time_series_imputer at 0x7f7973df93f0&gt;, method=&#x27;bfill&#x27;))</pre></div></div></div><div class=\"sk-item\"><div class=\"sk-estimator sk-toggleable\"><input class=\"sk-toggleable__control sk-hidden--visually\" id=\"sk-estimator-id-26\" type=\"checkbox\" ><label for=\"sk-estimator-id-26\" class=\"sk-toggleable__label sk-toggleable__label-arrow\">FunctionTransformer</label><div class=\"sk-toggleable__content\"><pre>FunctionTransformer(func=functools.partial(&lt;function time_series_imputer at 0x7f7973df93f0&gt;, method=&#x27;ffill&#x27;))</pre></div></div></div><div class=\"sk-item\"><div class=\"sk-estimator sk-toggleable\"><input class=\"sk-toggleable__control sk-hidden--visually\" id=\"sk-estimator-id-27\" type=\"checkbox\" ><label for=\"sk-estimator-id-27\" class=\"sk-toggleable__label sk-toggleable__label-arrow\">DropRowsTransformer</label><div class=\"sk-toggleable__content\"><pre>DropRowsTransformer(num_rows=5)</pre></div></div></div></div></div></div></div>"
      ],
      "text/plain": [
       "Pipeline(memory='cache',\n",
       "         steps=[('pipeline',\n",
       "                 Pipeline(memory='cache',\n",
       "                          steps=[('functiontransformer-1',\n",
       "                                  FunctionTransformer(func=functools.partial(<function time_series_imputer at 0x7f7973df93f0>, method='bfill'))),\n",
       "                                 ('functiontransformer-2',\n",
       "                                  FunctionTransformer(func=functools.partial(<function time_series_imputer at 0x7f7973df93f0>, method='ffill'))),\n",
       "                                 ('logtransfo...\n",
       "                                                  ['locations'])])),\n",
       "                ('functiontransformer-1',\n",
       "                 FunctionTransformer(func=functools.partial(<function time_series_imputer at 0x7f7973df93f0>, method='bfill'))),\n",
       "                ('functiontransformer-2',\n",
       "                 FunctionTransformer(func=functools.partial(<function time_series_imputer at 0x7f7973df93f0>, method='ffill'))),\n",
       "                ('droprowstransformer', DropRowsTransformer(num_rows=5))],\n",
       "         verbose=True)"
      ]
     },
     "execution_count": 34,
     "metadata": {},
     "output_type": "execute_result"
    }
   ],
   "source": [
    "feature_engineering_pipeline = build_feature_engineering_pipeline()\n",
    "feature_engineering_pipeline"
   ]
  },
  {
   "cell_type": "code",
   "execution_count": 35,
   "metadata": {},
   "outputs": [
    {
     "name": "stderr",
     "output_type": "stream",
     "text": [
      "DEBUG:sklearn-pipelines:time_series_shift (transform): (31, 5)\n",
      "DEBUG:sklearn-pipelines:rolling_average_transformer (transform): (31, 1)\n",
      "DEBUG:sklearn-pipelines:time_series_shift (transform): (31, 1)\n",
      "DEBUG:sklearn-pipelines:rolling_std_transformer (transform): (31, 1)\n",
      "DEBUG:sklearn-pipelines:time_series_shift (transform): (31, 1)\n",
      "DEBUG:sklearn-pipelines:rolling_median_transformer (transform): (31, 1)\n",
      "DEBUG:sklearn-pipelines:time_series_shift (transform): (31, 1)\n",
      "DEBUG:sklearn-pipelines:time_series_shift (transform): (31, 5)\n",
      "DEBUG:sklearn-pipelines:rolling_average_transformer (transform): (31, 1)\n",
      "DEBUG:sklearn-pipelines:time_series_shift (transform): (31, 1)\n",
      "DEBUG:sklearn-pipelines:DropRowsTransformer X (fit): (31, 14)\n",
      "DEBUG:sklearn-pipelines:DropRowsTransformer (transform): (26, 14)\n"
     ]
    },
    {
     "name": "stdout",
     "output_type": "stream",
     "text": [
      "[Pipeline] . (step 2 of 5) Processing columntransformer, total=   0.0s\n",
      "[Pipeline]  (step 5 of 5) Processing droprowstransformer, total=   0.0s\n"
     ]
    },
    {
     "data": {
      "text/html": [
       "<div>\n",
       "<style scoped>\n",
       "    .dataframe tbody tr th:only-of-type {\n",
       "        vertical-align: middle;\n",
       "    }\n",
       "\n",
       "    .dataframe tbody tr th {\n",
       "        vertical-align: top;\n",
       "    }\n",
       "\n",
       "    .dataframe thead th {\n",
       "        text-align: right;\n",
       "    }\n",
       "</style>\n",
       "<table border=\"1\" class=\"dataframe\">\n",
       "  <thead>\n",
       "    <tr style=\"text-align: right;\">\n",
       "      <th></th>\n",
       "      <th>0</th>\n",
       "      <th>1</th>\n",
       "      <th>2</th>\n",
       "      <th>3</th>\n",
       "      <th>4</th>\n",
       "      <th>5</th>\n",
       "      <th>6</th>\n",
       "      <th>7</th>\n",
       "      <th>8</th>\n",
       "      <th>9</th>\n",
       "      <th>10</th>\n",
       "      <th>11</th>\n",
       "      <th>12</th>\n",
       "      <th>13</th>\n",
       "    </tr>\n",
       "  </thead>\n",
       "  <tbody>\n",
       "    <tr>\n",
       "      <th>5</th>\n",
       "      <td>-0.013690</td>\n",
       "      <td>-0.013000</td>\n",
       "      <td>0.034739</td>\n",
       "      <td>0.056611</td>\n",
       "      <td>0.596868</td>\n",
       "      <td>0.132306</td>\n",
       "      <td>0.261484</td>\n",
       "      <td>0.034739</td>\n",
       "      <td>0.002453</td>\n",
       "      <td>-0.000238</td>\n",
       "      <td>-0.001108</td>\n",
       "      <td>0.001029</td>\n",
       "      <td>1.683205</td>\n",
       "      <td>0.337068</td>\n",
       "    </tr>\n",
       "    <tr>\n",
       "      <th>6</th>\n",
       "      <td>0.010093</td>\n",
       "      <td>-0.013690</td>\n",
       "      <td>-0.013000</td>\n",
       "      <td>0.034739</td>\n",
       "      <td>0.056611</td>\n",
       "      <td>0.014951</td>\n",
       "      <td>0.030628</td>\n",
       "      <td>0.010093</td>\n",
       "      <td>0.002683</td>\n",
       "      <td>0.002453</td>\n",
       "      <td>-0.000238</td>\n",
       "      <td>-0.001108</td>\n",
       "      <td>0.001029</td>\n",
       "      <td>0.000964</td>\n",
       "    </tr>\n",
       "    <tr>\n",
       "      <th>7</th>\n",
       "      <td>-0.018987</td>\n",
       "      <td>0.010093</td>\n",
       "      <td>-0.013690</td>\n",
       "      <td>-0.013000</td>\n",
       "      <td>0.034739</td>\n",
       "      <td>-0.000169</td>\n",
       "      <td>0.022502</td>\n",
       "      <td>-0.013000</td>\n",
       "      <td>0.001811</td>\n",
       "      <td>0.002683</td>\n",
       "      <td>0.002453</td>\n",
       "      <td>-0.000238</td>\n",
       "      <td>-0.001108</td>\n",
       "      <td>0.001120</td>\n",
       "    </tr>\n",
       "    <tr>\n",
       "      <th>8</th>\n",
       "      <td>0.005931</td>\n",
       "      <td>-0.018987</td>\n",
       "      <td>0.010093</td>\n",
       "      <td>-0.013690</td>\n",
       "      <td>-0.013000</td>\n",
       "      <td>-0.005931</td>\n",
       "      <td>0.013020</td>\n",
       "      <td>-0.013000</td>\n",
       "      <td>-0.001496</td>\n",
       "      <td>0.001811</td>\n",
       "      <td>0.002683</td>\n",
       "      <td>0.002453</td>\n",
       "      <td>-0.000238</td>\n",
       "      <td>0.001043</td>\n",
       "    </tr>\n",
       "    <tr>\n",
       "      <th>9</th>\n",
       "      <td>0.019365</td>\n",
       "      <td>0.005931</td>\n",
       "      <td>-0.018987</td>\n",
       "      <td>0.010093</td>\n",
       "      <td>-0.013690</td>\n",
       "      <td>0.000542</td>\n",
       "      <td>0.016267</td>\n",
       "      <td>0.005931</td>\n",
       "      <td>0.000551</td>\n",
       "      <td>-0.001496</td>\n",
       "      <td>0.001811</td>\n",
       "      <td>0.002683</td>\n",
       "      <td>0.002453</td>\n",
       "      <td>0.001200</td>\n",
       "    </tr>\n",
       "    <tr>\n",
       "      <th>10</th>\n",
       "      <td>-0.050680</td>\n",
       "      <td>0.019365</td>\n",
       "      <td>0.005931</td>\n",
       "      <td>-0.018987</td>\n",
       "      <td>0.010093</td>\n",
       "      <td>-0.006856</td>\n",
       "      <td>0.028311</td>\n",
       "      <td>0.005931</td>\n",
       "      <td>0.000394</td>\n",
       "      <td>0.000551</td>\n",
       "      <td>-0.001496</td>\n",
       "      <td>0.001811</td>\n",
       "      <td>0.002683</td>\n",
       "      <td>0.000789</td>\n",
       "    </tr>\n",
       "    <tr>\n",
       "      <th>11</th>\n",
       "      <td>0.076288</td>\n",
       "      <td>-0.050680</td>\n",
       "      <td>0.019365</td>\n",
       "      <td>0.005931</td>\n",
       "      <td>-0.018987</td>\n",
       "      <td>0.006383</td>\n",
       "      <td>0.047316</td>\n",
       "      <td>0.005931</td>\n",
       "      <td>0.000000</td>\n",
       "      <td>0.000394</td>\n",
       "      <td>0.000551</td>\n",
       "      <td>-0.001496</td>\n",
       "      <td>0.001811</td>\n",
       "      <td>0.000252</td>\n",
       "    </tr>\n",
       "    <tr>\n",
       "      <th>12</th>\n",
       "      <td>-0.033395</td>\n",
       "      <td>0.076288</td>\n",
       "      <td>-0.050680</td>\n",
       "      <td>0.019365</td>\n",
       "      <td>0.005931</td>\n",
       "      <td>0.003502</td>\n",
       "      <td>0.049630</td>\n",
       "      <td>0.005931</td>\n",
       "      <td>-0.019071</td>\n",
       "      <td>0.000000</td>\n",
       "      <td>0.000394</td>\n",
       "      <td>0.000551</td>\n",
       "      <td>-0.001496</td>\n",
       "      <td>-0.003924</td>\n",
       "    </tr>\n",
       "    <tr>\n",
       "      <th>13</th>\n",
       "      <td>0.044243</td>\n",
       "      <td>-0.033395</td>\n",
       "      <td>0.076288</td>\n",
       "      <td>-0.050680</td>\n",
       "      <td>0.019365</td>\n",
       "      <td>0.011164</td>\n",
       "      <td>0.052945</td>\n",
       "      <td>0.019365</td>\n",
       "      <td>0.019464</td>\n",
       "      <td>-0.019071</td>\n",
       "      <td>0.000000</td>\n",
       "      <td>0.000394</td>\n",
       "      <td>0.000551</td>\n",
       "      <td>0.000268</td>\n",
       "    </tr>\n",
       "    <tr>\n",
       "      <th>14</th>\n",
       "      <td>-0.090670</td>\n",
       "      <td>0.044243</td>\n",
       "      <td>-0.033395</td>\n",
       "      <td>0.076288</td>\n",
       "      <td>-0.050680</td>\n",
       "      <td>-0.010843</td>\n",
       "      <td>0.069091</td>\n",
       "      <td>-0.033395</td>\n",
       "      <td>-0.000079</td>\n",
       "      <td>0.019464</td>\n",
       "      <td>-0.019071</td>\n",
       "      <td>0.000000</td>\n",
       "      <td>0.000394</td>\n",
       "      <td>0.000142</td>\n",
       "    </tr>\n",
       "    <tr>\n",
       "      <th>15</th>\n",
       "      <td>0.098595</td>\n",
       "      <td>-0.090670</td>\n",
       "      <td>0.044243</td>\n",
       "      <td>-0.033395</td>\n",
       "      <td>0.076288</td>\n",
       "      <td>0.019012</td>\n",
       "      <td>0.079100</td>\n",
       "      <td>0.044243</td>\n",
       "      <td>-0.000630</td>\n",
       "      <td>-0.000079</td>\n",
       "      <td>0.019464</td>\n",
       "      <td>-0.019071</td>\n",
       "      <td>0.000000</td>\n",
       "      <td>-0.000063</td>\n",
       "    </tr>\n",
       "    <tr>\n",
       "      <th>16</th>\n",
       "      <td>-0.014266</td>\n",
       "      <td>0.098595</td>\n",
       "      <td>-0.090670</td>\n",
       "      <td>0.044243</td>\n",
       "      <td>-0.033395</td>\n",
       "      <td>0.000902</td>\n",
       "      <td>0.072826</td>\n",
       "      <td>-0.014266</td>\n",
       "      <td>0.000630</td>\n",
       "      <td>-0.000630</td>\n",
       "      <td>-0.000079</td>\n",
       "      <td>0.019464</td>\n",
       "      <td>-0.019071</td>\n",
       "      <td>0.000063</td>\n",
       "    </tr>\n",
       "    <tr>\n",
       "      <th>17</th>\n",
       "      <td>0.016929</td>\n",
       "      <td>-0.014266</td>\n",
       "      <td>0.098595</td>\n",
       "      <td>-0.090670</td>\n",
       "      <td>0.044243</td>\n",
       "      <td>0.010966</td>\n",
       "      <td>0.070336</td>\n",
       "      <td>0.016929</td>\n",
       "      <td>0.001730</td>\n",
       "      <td>0.000630</td>\n",
       "      <td>-0.000630</td>\n",
       "      <td>-0.000079</td>\n",
       "      <td>0.019464</td>\n",
       "      <td>0.004223</td>\n",
       "    </tr>\n",
       "    <tr>\n",
       "      <th>18</th>\n",
       "      <td>0.032946</td>\n",
       "      <td>0.016929</td>\n",
       "      <td>-0.014266</td>\n",
       "      <td>0.098595</td>\n",
       "      <td>-0.090670</td>\n",
       "      <td>0.008707</td>\n",
       "      <td>0.069171</td>\n",
       "      <td>0.016929</td>\n",
       "      <td>-0.001730</td>\n",
       "      <td>0.001730</td>\n",
       "      <td>0.000630</td>\n",
       "      <td>-0.000630</td>\n",
       "      <td>-0.000079</td>\n",
       "      <td>-0.000016</td>\n",
       "    </tr>\n",
       "    <tr>\n",
       "      <th>19</th>\n",
       "      <td>-0.050756</td>\n",
       "      <td>0.032946</td>\n",
       "      <td>0.016929</td>\n",
       "      <td>-0.014266</td>\n",
       "      <td>0.098595</td>\n",
       "      <td>0.016690</td>\n",
       "      <td>0.055857</td>\n",
       "      <td>0.016929</td>\n",
       "      <td>-0.000393</td>\n",
       "      <td>-0.001730</td>\n",
       "      <td>0.001730</td>\n",
       "      <td>0.000630</td>\n",
       "      <td>-0.000630</td>\n",
       "      <td>-0.000079</td>\n",
       "    </tr>\n",
       "    <tr>\n",
       "      <th>20</th>\n",
       "      <td>0.039590</td>\n",
       "      <td>-0.050756</td>\n",
       "      <td>0.032946</td>\n",
       "      <td>0.016929</td>\n",
       "      <td>-0.014266</td>\n",
       "      <td>0.004889</td>\n",
       "      <td>0.037415</td>\n",
       "      <td>0.016929</td>\n",
       "      <td>0.000000</td>\n",
       "      <td>-0.000393</td>\n",
       "      <td>-0.001730</td>\n",
       "      <td>0.001730</td>\n",
       "      <td>0.000630</td>\n",
       "      <td>0.000047</td>\n",
       "    </tr>\n",
       "    <tr>\n",
       "      <th>21</th>\n",
       "      <td>-0.049102</td>\n",
       "      <td>0.039590</td>\n",
       "      <td>-0.050756</td>\n",
       "      <td>0.032946</td>\n",
       "      <td>0.016929</td>\n",
       "      <td>-0.002079</td>\n",
       "      <td>0.044455</td>\n",
       "      <td>0.016929</td>\n",
       "      <td>-0.000157</td>\n",
       "      <td>0.000000</td>\n",
       "      <td>-0.000393</td>\n",
       "      <td>-0.001730</td>\n",
       "      <td>0.001730</td>\n",
       "      <td>-0.000110</td>\n",
       "    </tr>\n",
       "    <tr>\n",
       "      <th>22</th>\n",
       "      <td>0.048470</td>\n",
       "      <td>-0.049102</td>\n",
       "      <td>0.039590</td>\n",
       "      <td>-0.050756</td>\n",
       "      <td>0.032946</td>\n",
       "      <td>0.004230</td>\n",
       "      <td>0.049749</td>\n",
       "      <td>0.032946</td>\n",
       "      <td>-0.000472</td>\n",
       "      <td>-0.000157</td>\n",
       "      <td>0.000000</td>\n",
       "      <td>-0.000393</td>\n",
       "      <td>-0.001730</td>\n",
       "      <td>-0.000551</td>\n",
       "    </tr>\n",
       "    <tr>\n",
       "      <th>23</th>\n",
       "      <td>0.057991</td>\n",
       "      <td>0.048470</td>\n",
       "      <td>-0.049102</td>\n",
       "      <td>0.039590</td>\n",
       "      <td>-0.050756</td>\n",
       "      <td>0.009238</td>\n",
       "      <td>0.054406</td>\n",
       "      <td>0.039590</td>\n",
       "      <td>-0.000079</td>\n",
       "      <td>-0.000472</td>\n",
       "      <td>-0.000157</td>\n",
       "      <td>0.000000</td>\n",
       "      <td>-0.000393</td>\n",
       "      <td>-0.000220</td>\n",
       "    </tr>\n",
       "    <tr>\n",
       "      <th>24</th>\n",
       "      <td>-0.029404</td>\n",
       "      <td>0.057991</td>\n",
       "      <td>0.048470</td>\n",
       "      <td>-0.049102</td>\n",
       "      <td>0.039590</td>\n",
       "      <td>0.013509</td>\n",
       "      <td>0.049099</td>\n",
       "      <td>0.039590</td>\n",
       "      <td>0.001181</td>\n",
       "      <td>-0.000079</td>\n",
       "      <td>-0.000472</td>\n",
       "      <td>-0.000157</td>\n",
       "      <td>0.000000</td>\n",
       "      <td>0.000094</td>\n",
       "    </tr>\n",
       "    <tr>\n",
       "      <th>25</th>\n",
       "      <td>0.026502</td>\n",
       "      <td>-0.029404</td>\n",
       "      <td>0.057991</td>\n",
       "      <td>0.048470</td>\n",
       "      <td>-0.049102</td>\n",
       "      <td>0.010891</td>\n",
       "      <td>0.047689</td>\n",
       "      <td>0.026502</td>\n",
       "      <td>-0.000079</td>\n",
       "      <td>0.001181</td>\n",
       "      <td>-0.000079</td>\n",
       "      <td>-0.000472</td>\n",
       "      <td>-0.000157</td>\n",
       "      <td>0.000079</td>\n",
       "    </tr>\n",
       "    <tr>\n",
       "      <th>26</th>\n",
       "      <td>-0.047855</td>\n",
       "      <td>0.026502</td>\n",
       "      <td>-0.029404</td>\n",
       "      <td>0.057991</td>\n",
       "      <td>0.048470</td>\n",
       "      <td>0.011141</td>\n",
       "      <td>0.047299</td>\n",
       "      <td>0.026502</td>\n",
       "      <td>0.000079</td>\n",
       "      <td>-0.000079</td>\n",
       "      <td>0.001181</td>\n",
       "      <td>-0.000079</td>\n",
       "      <td>-0.000472</td>\n",
       "      <td>0.000126</td>\n",
       "    </tr>\n",
       "    <tr>\n",
       "      <th>27</th>\n",
       "      <td>0.067863</td>\n",
       "      <td>-0.047855</td>\n",
       "      <td>0.026502</td>\n",
       "      <td>-0.029404</td>\n",
       "      <td>0.057991</td>\n",
       "      <td>0.015020</td>\n",
       "      <td>0.051714</td>\n",
       "      <td>0.026502</td>\n",
       "      <td>0.000157</td>\n",
       "      <td>0.000079</td>\n",
       "      <td>-0.000079</td>\n",
       "      <td>0.001181</td>\n",
       "      <td>-0.000079</td>\n",
       "      <td>0.000252</td>\n",
       "    </tr>\n",
       "    <tr>\n",
       "      <th>28</th>\n",
       "      <td>-0.009181</td>\n",
       "      <td>0.067863</td>\n",
       "      <td>-0.047855</td>\n",
       "      <td>0.026502</td>\n",
       "      <td>-0.029404</td>\n",
       "      <td>0.001585</td>\n",
       "      <td>0.046190</td>\n",
       "      <td>-0.009181</td>\n",
       "      <td>-0.000393</td>\n",
       "      <td>0.000157</td>\n",
       "      <td>0.000079</td>\n",
       "      <td>-0.000079</td>\n",
       "      <td>0.001181</td>\n",
       "      <td>0.000189</td>\n",
       "    </tr>\n",
       "    <tr>\n",
       "      <th>29</th>\n",
       "      <td>0.029618</td>\n",
       "      <td>-0.009181</td>\n",
       "      <td>0.067863</td>\n",
       "      <td>-0.047855</td>\n",
       "      <td>0.026502</td>\n",
       "      <td>0.013389</td>\n",
       "      <td>0.043769</td>\n",
       "      <td>0.026502</td>\n",
       "      <td>-0.000157</td>\n",
       "      <td>-0.000393</td>\n",
       "      <td>0.000157</td>\n",
       "      <td>0.000079</td>\n",
       "      <td>-0.000079</td>\n",
       "      <td>-0.000079</td>\n",
       "    </tr>\n",
       "    <tr>\n",
       "      <th>30</th>\n",
       "      <td>0.047205</td>\n",
       "      <td>0.029618</td>\n",
       "      <td>-0.009181</td>\n",
       "      <td>0.067863</td>\n",
       "      <td>-0.047855</td>\n",
       "      <td>0.017530</td>\n",
       "      <td>0.046230</td>\n",
       "      <td>0.029618</td>\n",
       "      <td>-0.174841</td>\n",
       "      <td>-0.000157</td>\n",
       "      <td>-0.000393</td>\n",
       "      <td>0.000157</td>\n",
       "      <td>0.000079</td>\n",
       "      <td>-0.035031</td>\n",
       "    </tr>\n",
       "  </tbody>\n",
       "</table>\n",
       "</div>"
      ],
      "text/plain": [
       "          0         1         2         3         4         5         6   \\\n",
       "5  -0.013690 -0.013000  0.034739  0.056611  0.596868  0.132306  0.261484   \n",
       "6   0.010093 -0.013690 -0.013000  0.034739  0.056611  0.014951  0.030628   \n",
       "7  -0.018987  0.010093 -0.013690 -0.013000  0.034739 -0.000169  0.022502   \n",
       "8   0.005931 -0.018987  0.010093 -0.013690 -0.013000 -0.005931  0.013020   \n",
       "9   0.019365  0.005931 -0.018987  0.010093 -0.013690  0.000542  0.016267   \n",
       "10 -0.050680  0.019365  0.005931 -0.018987  0.010093 -0.006856  0.028311   \n",
       "11  0.076288 -0.050680  0.019365  0.005931 -0.018987  0.006383  0.047316   \n",
       "12 -0.033395  0.076288 -0.050680  0.019365  0.005931  0.003502  0.049630   \n",
       "13  0.044243 -0.033395  0.076288 -0.050680  0.019365  0.011164  0.052945   \n",
       "14 -0.090670  0.044243 -0.033395  0.076288 -0.050680 -0.010843  0.069091   \n",
       "15  0.098595 -0.090670  0.044243 -0.033395  0.076288  0.019012  0.079100   \n",
       "16 -0.014266  0.098595 -0.090670  0.044243 -0.033395  0.000902  0.072826   \n",
       "17  0.016929 -0.014266  0.098595 -0.090670  0.044243  0.010966  0.070336   \n",
       "18  0.032946  0.016929 -0.014266  0.098595 -0.090670  0.008707  0.069171   \n",
       "19 -0.050756  0.032946  0.016929 -0.014266  0.098595  0.016690  0.055857   \n",
       "20  0.039590 -0.050756  0.032946  0.016929 -0.014266  0.004889  0.037415   \n",
       "21 -0.049102  0.039590 -0.050756  0.032946  0.016929 -0.002079  0.044455   \n",
       "22  0.048470 -0.049102  0.039590 -0.050756  0.032946  0.004230  0.049749   \n",
       "23  0.057991  0.048470 -0.049102  0.039590 -0.050756  0.009238  0.054406   \n",
       "24 -0.029404  0.057991  0.048470 -0.049102  0.039590  0.013509  0.049099   \n",
       "25  0.026502 -0.029404  0.057991  0.048470 -0.049102  0.010891  0.047689   \n",
       "26 -0.047855  0.026502 -0.029404  0.057991  0.048470  0.011141  0.047299   \n",
       "27  0.067863 -0.047855  0.026502 -0.029404  0.057991  0.015020  0.051714   \n",
       "28 -0.009181  0.067863 -0.047855  0.026502 -0.029404  0.001585  0.046190   \n",
       "29  0.029618 -0.009181  0.067863 -0.047855  0.026502  0.013389  0.043769   \n",
       "30  0.047205  0.029618 -0.009181  0.067863 -0.047855  0.017530  0.046230   \n",
       "\n",
       "          7         8         9         10        11        12        13  \n",
       "5   0.034739  0.002453 -0.000238 -0.001108  0.001029  1.683205  0.337068  \n",
       "6   0.010093  0.002683  0.002453 -0.000238 -0.001108  0.001029  0.000964  \n",
       "7  -0.013000  0.001811  0.002683  0.002453 -0.000238 -0.001108  0.001120  \n",
       "8  -0.013000 -0.001496  0.001811  0.002683  0.002453 -0.000238  0.001043  \n",
       "9   0.005931  0.000551 -0.001496  0.001811  0.002683  0.002453  0.001200  \n",
       "10  0.005931  0.000394  0.000551 -0.001496  0.001811  0.002683  0.000789  \n",
       "11  0.005931  0.000000  0.000394  0.000551 -0.001496  0.001811  0.000252  \n",
       "12  0.005931 -0.019071  0.000000  0.000394  0.000551 -0.001496 -0.003924  \n",
       "13  0.019365  0.019464 -0.019071  0.000000  0.000394  0.000551  0.000268  \n",
       "14 -0.033395 -0.000079  0.019464 -0.019071  0.000000  0.000394  0.000142  \n",
       "15  0.044243 -0.000630 -0.000079  0.019464 -0.019071  0.000000 -0.000063  \n",
       "16 -0.014266  0.000630 -0.000630 -0.000079  0.019464 -0.019071  0.000063  \n",
       "17  0.016929  0.001730  0.000630 -0.000630 -0.000079  0.019464  0.004223  \n",
       "18  0.016929 -0.001730  0.001730  0.000630 -0.000630 -0.000079 -0.000016  \n",
       "19  0.016929 -0.000393 -0.001730  0.001730  0.000630 -0.000630 -0.000079  \n",
       "20  0.016929  0.000000 -0.000393 -0.001730  0.001730  0.000630  0.000047  \n",
       "21  0.016929 -0.000157  0.000000 -0.000393 -0.001730  0.001730 -0.000110  \n",
       "22  0.032946 -0.000472 -0.000157  0.000000 -0.000393 -0.001730 -0.000551  \n",
       "23  0.039590 -0.000079 -0.000472 -0.000157  0.000000 -0.000393 -0.000220  \n",
       "24  0.039590  0.001181 -0.000079 -0.000472 -0.000157  0.000000  0.000094  \n",
       "25  0.026502 -0.000079  0.001181 -0.000079 -0.000472 -0.000157  0.000079  \n",
       "26  0.026502  0.000079 -0.000079  0.001181 -0.000079 -0.000472  0.000126  \n",
       "27  0.026502  0.000157  0.000079 -0.000079  0.001181 -0.000079  0.000252  \n",
       "28 -0.009181 -0.000393  0.000157  0.000079 -0.000079  0.001181  0.000189  \n",
       "29  0.026502 -0.000157 -0.000393  0.000157  0.000079 -0.000079 -0.000079  \n",
       "30  0.029618 -0.174841 -0.000157 -0.000393  0.000157  0.000079 -0.035031  "
      ]
     },
     "execution_count": 35,
     "metadata": {},
     "output_type": "execute_result"
    }
   ],
   "source": [
    "feature_engineered_yields = feature_engineering_pipeline.fit_transform(X_train.copy())\n",
    "feature_engineered_yields"
   ]
  },
  {
   "attachments": {},
   "cell_type": "markdown",
   "metadata": {},
   "source": [
    "### 3. Regressor Pipeline"
   ]
  },
  {
   "cell_type": "code",
   "execution_count": 36,
   "metadata": {},
   "outputs": [],
   "source": [
    "\n",
    "def build_regressor_pipeline() -> Pipeline:\n",
    "    \"\"\"\n",
    "    Factory function used to build the final regressor.\n",
    "    One key thing is that the model (e.g., RandomForestRegressor) should always be the last unit within the pipeline.\n",
    "    Otherwise, you can compose the transformations how you wish.\n",
    "    \"\"\"\n",
    "\n",
    "    return make_pipeline(\n",
    "        build_feature_engineering_pipeline(),\n",
    "        MinMaxScaler(),\n",
    "        RandomForestRegressor(n_estimators=100),\n",
    "        memory=\"cache\",\n",
    "        verbose=True\n",
    "    )"
   ]
  },
  {
   "cell_type": "code",
   "execution_count": 37,
   "metadata": {},
   "outputs": [
    {
     "data": {
      "text/html": [
       "<style>#sk-container-id-3 {color: black;background-color: white;}#sk-container-id-3 pre{padding: 0;}#sk-container-id-3 div.sk-toggleable {background-color: white;}#sk-container-id-3 label.sk-toggleable__label {cursor: pointer;display: block;width: 100%;margin-bottom: 0;padding: 0.3em;box-sizing: border-box;text-align: center;}#sk-container-id-3 label.sk-toggleable__label-arrow:before {content: \"▸\";float: left;margin-right: 0.25em;color: #696969;}#sk-container-id-3 label.sk-toggleable__label-arrow:hover:before {color: black;}#sk-container-id-3 div.sk-estimator:hover label.sk-toggleable__label-arrow:before {color: black;}#sk-container-id-3 div.sk-toggleable__content {max-height: 0;max-width: 0;overflow: hidden;text-align: left;background-color: #f0f8ff;}#sk-container-id-3 div.sk-toggleable__content pre {margin: 0.2em;color: black;border-radius: 0.25em;background-color: #f0f8ff;}#sk-container-id-3 input.sk-toggleable__control:checked~div.sk-toggleable__content {max-height: 200px;max-width: 100%;overflow: auto;}#sk-container-id-3 input.sk-toggleable__control:checked~label.sk-toggleable__label-arrow:before {content: \"▾\";}#sk-container-id-3 div.sk-estimator input.sk-toggleable__control:checked~label.sk-toggleable__label {background-color: #d4ebff;}#sk-container-id-3 div.sk-label input.sk-toggleable__control:checked~label.sk-toggleable__label {background-color: #d4ebff;}#sk-container-id-3 input.sk-hidden--visually {border: 0;clip: rect(1px 1px 1px 1px);clip: rect(1px, 1px, 1px, 1px);height: 1px;margin: -1px;overflow: hidden;padding: 0;position: absolute;width: 1px;}#sk-container-id-3 div.sk-estimator {font-family: monospace;background-color: #f0f8ff;border: 1px dotted black;border-radius: 0.25em;box-sizing: border-box;margin-bottom: 0.5em;}#sk-container-id-3 div.sk-estimator:hover {background-color: #d4ebff;}#sk-container-id-3 div.sk-parallel-item::after {content: \"\";width: 100%;border-bottom: 1px solid gray;flex-grow: 1;}#sk-container-id-3 div.sk-label:hover label.sk-toggleable__label {background-color: #d4ebff;}#sk-container-id-3 div.sk-serial::before {content: \"\";position: absolute;border-left: 1px solid gray;box-sizing: border-box;top: 0;bottom: 0;left: 50%;z-index: 0;}#sk-container-id-3 div.sk-serial {display: flex;flex-direction: column;align-items: center;background-color: white;padding-right: 0.2em;padding-left: 0.2em;position: relative;}#sk-container-id-3 div.sk-item {position: relative;z-index: 1;}#sk-container-id-3 div.sk-parallel {display: flex;align-items: stretch;justify-content: center;background-color: white;position: relative;}#sk-container-id-3 div.sk-item::before, #sk-container-id-3 div.sk-parallel-item::before {content: \"\";position: absolute;border-left: 1px solid gray;box-sizing: border-box;top: 0;bottom: 0;left: 50%;z-index: -1;}#sk-container-id-3 div.sk-parallel-item {display: flex;flex-direction: column;z-index: 1;position: relative;background-color: white;}#sk-container-id-3 div.sk-parallel-item:first-child::after {align-self: flex-end;width: 50%;}#sk-container-id-3 div.sk-parallel-item:last-child::after {align-self: flex-start;width: 50%;}#sk-container-id-3 div.sk-parallel-item:only-child::after {width: 0;}#sk-container-id-3 div.sk-dashed-wrapped {border: 1px dashed gray;margin: 0 0.4em 0.5em 0.4em;box-sizing: border-box;padding-bottom: 0.4em;background-color: white;}#sk-container-id-3 div.sk-label label {font-family: monospace;font-weight: bold;display: inline-block;line-height: 1.2em;}#sk-container-id-3 div.sk-label-container {text-align: center;}#sk-container-id-3 div.sk-container {/* jupyter's `normalize.less` sets `[hidden] { display: none; }` but bootstrap.min.css set `[hidden] { display: none !important; }` so we also need the `!important` here to be able to override the default hidden behavior on the sphinx rendered scikit-learn.org. See: https://github.com/scikit-learn/scikit-learn/issues/21755 */display: inline-block !important;position: relative;}#sk-container-id-3 div.sk-text-repr-fallback {display: none;}</style><div id=\"sk-container-id-3\" class=\"sk-top-container\"><div class=\"sk-text-repr-fallback\"><pre>Pipeline(memory=&#x27;cache&#x27;,\n",
       "         steps=[(&#x27;pipeline&#x27;,\n",
       "                 Pipeline(memory=&#x27;cache&#x27;,\n",
       "                          steps=[(&#x27;pipeline&#x27;,\n",
       "                                  Pipeline(memory=&#x27;cache&#x27;,\n",
       "                                           steps=[(&#x27;functiontransformer-1&#x27;,\n",
       "                                                   FunctionTransformer(func=functools.partial(&lt;function time_series_imputer at 0x7f7973df93f0&gt;, method=&#x27;bfill&#x27;))),\n",
       "                                                  (&#x27;functiontransformer-2&#x27;,\n",
       "                                                   FunctionTransformer(func=functools.partial(&lt;function time_series_imputer at 0x7...\n",
       "                                  FunctionTransformer(func=functools.partial(&lt;function time_series_imputer at 0x7f7973df93f0&gt;, method=&#x27;bfill&#x27;))),\n",
       "                                 (&#x27;functiontransformer-2&#x27;,\n",
       "                                  FunctionTransformer(func=functools.partial(&lt;function time_series_imputer at 0x7f7973df93f0&gt;, method=&#x27;ffill&#x27;))),\n",
       "                                 (&#x27;droprowstransformer&#x27;,\n",
       "                                  DropRowsTransformer(num_rows=5))],\n",
       "                          verbose=True)),\n",
       "                (&#x27;minmaxscaler&#x27;, MinMaxScaler()),\n",
       "                (&#x27;randomforestregressor&#x27;, RandomForestRegressor())],\n",
       "         verbose=True)</pre><b>In a Jupyter environment, please rerun this cell to show the HTML representation or trust the notebook. <br />On GitHub, the HTML representation is unable to render, please try loading this page with nbviewer.org.</b></div><div class=\"sk-container\" hidden><div class=\"sk-item sk-dashed-wrapped\"><div class=\"sk-label-container\"><div class=\"sk-label sk-toggleable\"><input class=\"sk-toggleable__control sk-hidden--visually\" id=\"sk-estimator-id-28\" type=\"checkbox\" ><label for=\"sk-estimator-id-28\" class=\"sk-toggleable__label sk-toggleable__label-arrow\">Pipeline</label><div class=\"sk-toggleable__content\"><pre>Pipeline(memory=&#x27;cache&#x27;,\n",
       "         steps=[(&#x27;pipeline&#x27;,\n",
       "                 Pipeline(memory=&#x27;cache&#x27;,\n",
       "                          steps=[(&#x27;pipeline&#x27;,\n",
       "                                  Pipeline(memory=&#x27;cache&#x27;,\n",
       "                                           steps=[(&#x27;functiontransformer-1&#x27;,\n",
       "                                                   FunctionTransformer(func=functools.partial(&lt;function time_series_imputer at 0x7f7973df93f0&gt;, method=&#x27;bfill&#x27;))),\n",
       "                                                  (&#x27;functiontransformer-2&#x27;,\n",
       "                                                   FunctionTransformer(func=functools.partial(&lt;function time_series_imputer at 0x7...\n",
       "                                  FunctionTransformer(func=functools.partial(&lt;function time_series_imputer at 0x7f7973df93f0&gt;, method=&#x27;bfill&#x27;))),\n",
       "                                 (&#x27;functiontransformer-2&#x27;,\n",
       "                                  FunctionTransformer(func=functools.partial(&lt;function time_series_imputer at 0x7f7973df93f0&gt;, method=&#x27;ffill&#x27;))),\n",
       "                                 (&#x27;droprowstransformer&#x27;,\n",
       "                                  DropRowsTransformer(num_rows=5))],\n",
       "                          verbose=True)),\n",
       "                (&#x27;minmaxscaler&#x27;, MinMaxScaler()),\n",
       "                (&#x27;randomforestregressor&#x27;, RandomForestRegressor())],\n",
       "         verbose=True)</pre></div></div></div><div class=\"sk-serial\"><div class=\"sk-item\"><div class=\"sk-label-container\"><div class=\"sk-label sk-toggleable\"><input class=\"sk-toggleable__control sk-hidden--visually\" id=\"sk-estimator-id-29\" type=\"checkbox\" ><label for=\"sk-estimator-id-29\" class=\"sk-toggleable__label sk-toggleable__label-arrow\">pipeline: Pipeline</label><div class=\"sk-toggleable__content\"><pre>Pipeline(memory=&#x27;cache&#x27;,\n",
       "         steps=[(&#x27;pipeline&#x27;,\n",
       "                 Pipeline(memory=&#x27;cache&#x27;,\n",
       "                          steps=[(&#x27;functiontransformer-1&#x27;,\n",
       "                                  FunctionTransformer(func=functools.partial(&lt;function time_series_imputer at 0x7f7973df93f0&gt;, method=&#x27;bfill&#x27;))),\n",
       "                                 (&#x27;functiontransformer-2&#x27;,\n",
       "                                  FunctionTransformer(func=functools.partial(&lt;function time_series_imputer at 0x7f7973df93f0&gt;, method=&#x27;ffill&#x27;))),\n",
       "                                 (&#x27;logtransfo...\n",
       "                                                  [&#x27;locations&#x27;])])),\n",
       "                (&#x27;functiontransformer-1&#x27;,\n",
       "                 FunctionTransformer(func=functools.partial(&lt;function time_series_imputer at 0x7f7973df93f0&gt;, method=&#x27;bfill&#x27;))),\n",
       "                (&#x27;functiontransformer-2&#x27;,\n",
       "                 FunctionTransformer(func=functools.partial(&lt;function time_series_imputer at 0x7f7973df93f0&gt;, method=&#x27;ffill&#x27;))),\n",
       "                (&#x27;droprowstransformer&#x27;, DropRowsTransformer(num_rows=5))],\n",
       "         verbose=True)</pre></div></div></div><div class=\"sk-serial\"><div class=\"sk-item\"><div class=\"sk-label-container\"><div class=\"sk-label sk-toggleable\"><input class=\"sk-toggleable__control sk-hidden--visually\" id=\"sk-estimator-id-30\" type=\"checkbox\" ><label for=\"sk-estimator-id-30\" class=\"sk-toggleable__label sk-toggleable__label-arrow\">pipeline: Pipeline</label><div class=\"sk-toggleable__content\"><pre>Pipeline(memory=&#x27;cache&#x27;,\n",
       "         steps=[(&#x27;functiontransformer-1&#x27;,\n",
       "                 FunctionTransformer(func=functools.partial(&lt;function time_series_imputer at 0x7f7973df93f0&gt;, method=&#x27;bfill&#x27;))),\n",
       "                (&#x27;functiontransformer-2&#x27;,\n",
       "                 FunctionTransformer(func=functools.partial(&lt;function time_series_imputer at 0x7f7973df93f0&gt;, method=&#x27;ffill&#x27;))),\n",
       "                (&#x27;logtransformer&#x27;, LogTransformer()),\n",
       "                (&#x27;differencetransformer&#x27;,\n",
       "                 DifferenceTransformer(num_observed_points=5))],\n",
       "         verbose=True)</pre></div></div></div><div class=\"sk-serial\"><div class=\"sk-item\"><div class=\"sk-estimator sk-toggleable\"><input class=\"sk-toggleable__control sk-hidden--visually\" id=\"sk-estimator-id-31\" type=\"checkbox\" ><label for=\"sk-estimator-id-31\" class=\"sk-toggleable__label sk-toggleable__label-arrow\">FunctionTransformer</label><div class=\"sk-toggleable__content\"><pre>FunctionTransformer(func=functools.partial(&lt;function time_series_imputer at 0x7f7973df93f0&gt;, method=&#x27;bfill&#x27;))</pre></div></div></div><div class=\"sk-item\"><div class=\"sk-estimator sk-toggleable\"><input class=\"sk-toggleable__control sk-hidden--visually\" id=\"sk-estimator-id-32\" type=\"checkbox\" ><label for=\"sk-estimator-id-32\" class=\"sk-toggleable__label sk-toggleable__label-arrow\">FunctionTransformer</label><div class=\"sk-toggleable__content\"><pre>FunctionTransformer(func=functools.partial(&lt;function time_series_imputer at 0x7f7973df93f0&gt;, method=&#x27;ffill&#x27;))</pre></div></div></div><div class=\"sk-item\"><div class=\"sk-estimator sk-toggleable\"><input class=\"sk-toggleable__control sk-hidden--visually\" id=\"sk-estimator-id-33\" type=\"checkbox\" ><label for=\"sk-estimator-id-33\" class=\"sk-toggleable__label sk-toggleable__label-arrow\">LogTransformer</label><div class=\"sk-toggleable__content\"><pre>LogTransformer()</pre></div></div></div><div class=\"sk-item\"><div class=\"sk-estimator sk-toggleable\"><input class=\"sk-toggleable__control sk-hidden--visually\" id=\"sk-estimator-id-34\" type=\"checkbox\" ><label for=\"sk-estimator-id-34\" class=\"sk-toggleable__label sk-toggleable__label-arrow\">DifferenceTransformer</label><div class=\"sk-toggleable__content\"><pre>DifferenceTransformer(num_observed_points=5)</pre></div></div></div></div></div><div class=\"sk-item sk-dashed-wrapped\"><div class=\"sk-label-container\"><div class=\"sk-label sk-toggleable\"><input class=\"sk-toggleable__control sk-hidden--visually\" id=\"sk-estimator-id-35\" type=\"checkbox\" ><label for=\"sk-estimator-id-35\" class=\"sk-toggleable__label sk-toggleable__label-arrow\">columntransformer: ColumnTransformer</label><div class=\"sk-toggleable__content\"><pre>ColumnTransformer(transformers=[(&#x27;featureunion-1&#x27;,\n",
       "                                 FeatureUnion(transformer_list=[(&#x27;functiontransformer&#x27;,\n",
       "                                                                 FunctionTransformer(func=functools.partial(&lt;function time_series_shift at 0x7f79743f49d0&gt;, n_past=5))),\n",
       "                                                                (&#x27;pipeline-1&#x27;,\n",
       "                                                                 Pipeline(steps=[(&#x27;functiontransformer-1&#x27;,\n",
       "                                                                                  FunctionTransformer(func=functools.partial(&lt;function rolling_average_transformer at 0x7f79743f4...\n",
       "                                                                 FunctionTransformer(func=functools.partial(&lt;function time_series_shift at 0x7f79743f49d0&gt;, n_past=5))),\n",
       "                                                                (&#x27;pipeline&#x27;,\n",
       "                                                                 Pipeline(steps=[(&#x27;functiontransformer-1&#x27;,\n",
       "                                                                                  FunctionTransformer(func=functools.partial(&lt;function rolling_average_transformer at 0x7f79743f4940&gt;, window=5))),\n",
       "                                                                                 (&#x27;functiontransformer-2&#x27;,\n",
       "                                                                                  FunctionTransformer(func=functools.partial(&lt;function time_series_shift at 0x7f79743f49d0&gt;, n_past=1)))]))]),\n",
       "                                 [&#x27;locations&#x27;])])</pre></div></div></div><div class=\"sk-parallel\"><div class=\"sk-parallel-item\"><div class=\"sk-item\"><div class=\"sk-label-container\"><div class=\"sk-label sk-toggleable\"><input class=\"sk-toggleable__control sk-hidden--visually\" id=\"sk-estimator-id-36\" type=\"checkbox\" ><label for=\"sk-estimator-id-36\" class=\"sk-toggleable__label sk-toggleable__label-arrow\">featureunion-1</label><div class=\"sk-toggleable__content\"><pre>[&#x27;mean_yield&#x27;]</pre></div></div></div><div class=\"sk-serial\"><div class=\"sk-item sk-dashed-wrapped\"><div class=\"sk-parallel\"><div class=\"sk-parallel-item\"><div class=\"sk-item\"><div class=\"sk-label-container\"><div class=\"sk-label sk-toggleable\"><label>functiontransformer</label></div></div><div class=\"sk-serial\"><div class=\"sk-item\"><div class=\"sk-estimator sk-toggleable\"><input class=\"sk-toggleable__control sk-hidden--visually\" id=\"sk-estimator-id-37\" type=\"checkbox\" ><label for=\"sk-estimator-id-37\" class=\"sk-toggleable__label sk-toggleable__label-arrow\">FunctionTransformer</label><div class=\"sk-toggleable__content\"><pre>FunctionTransformer(func=functools.partial(&lt;function time_series_shift at 0x7f79743f49d0&gt;, n_past=5))</pre></div></div></div></div></div></div><div class=\"sk-parallel-item\"><div class=\"sk-item\"><div class=\"sk-label-container\"><div class=\"sk-label sk-toggleable\"><label>pipeline-1</label></div></div><div class=\"sk-serial\"><div class=\"sk-item\"><div class=\"sk-serial\"><div class=\"sk-item\"><div class=\"sk-estimator sk-toggleable\"><input class=\"sk-toggleable__control sk-hidden--visually\" id=\"sk-estimator-id-38\" type=\"checkbox\" ><label for=\"sk-estimator-id-38\" class=\"sk-toggleable__label sk-toggleable__label-arrow\">FunctionTransformer</label><div class=\"sk-toggleable__content\"><pre>FunctionTransformer(func=functools.partial(&lt;function rolling_average_transformer at 0x7f79743f4940&gt;, window=5))</pre></div></div></div><div class=\"sk-item\"><div class=\"sk-estimator sk-toggleable\"><input class=\"sk-toggleable__control sk-hidden--visually\" id=\"sk-estimator-id-39\" type=\"checkbox\" ><label for=\"sk-estimator-id-39\" class=\"sk-toggleable__label sk-toggleable__label-arrow\">FunctionTransformer</label><div class=\"sk-toggleable__content\"><pre>FunctionTransformer(func=functools.partial(&lt;function time_series_shift at 0x7f79743f49d0&gt;, n_past=1))</pre></div></div></div></div></div></div></div></div><div class=\"sk-parallel-item\"><div class=\"sk-item\"><div class=\"sk-label-container\"><div class=\"sk-label sk-toggleable\"><label>pipeline-2</label></div></div><div class=\"sk-serial\"><div class=\"sk-item\"><div class=\"sk-serial\"><div class=\"sk-item\"><div class=\"sk-estimator sk-toggleable\"><input class=\"sk-toggleable__control sk-hidden--visually\" id=\"sk-estimator-id-40\" type=\"checkbox\" ><label for=\"sk-estimator-id-40\" class=\"sk-toggleable__label sk-toggleable__label-arrow\">FunctionTransformer</label><div class=\"sk-toggleable__content\"><pre>FunctionTransformer(func=functools.partial(&lt;function rolling_std_transformer at 0x7f79743f4820&gt;, window=5))</pre></div></div></div><div class=\"sk-item\"><div class=\"sk-estimator sk-toggleable\"><input class=\"sk-toggleable__control sk-hidden--visually\" id=\"sk-estimator-id-41\" type=\"checkbox\" ><label for=\"sk-estimator-id-41\" class=\"sk-toggleable__label sk-toggleable__label-arrow\">FunctionTransformer</label><div class=\"sk-toggleable__content\"><pre>FunctionTransformer(func=functools.partial(&lt;function time_series_shift at 0x7f79743f49d0&gt;, n_past=1))</pre></div></div></div></div></div></div></div></div><div class=\"sk-parallel-item\"><div class=\"sk-item\"><div class=\"sk-label-container\"><div class=\"sk-label sk-toggleable\"><label>pipeline-3</label></div></div><div class=\"sk-serial\"><div class=\"sk-item\"><div class=\"sk-serial\"><div class=\"sk-item\"><div class=\"sk-estimator sk-toggleable\"><input class=\"sk-toggleable__control sk-hidden--visually\" id=\"sk-estimator-id-42\" type=\"checkbox\" ><label for=\"sk-estimator-id-42\" class=\"sk-toggleable__label sk-toggleable__label-arrow\">FunctionTransformer</label><div class=\"sk-toggleable__content\"><pre>FunctionTransformer(func=functools.partial(&lt;function rolling_median_transformer at 0x7f79743f48b0&gt;, window=5))</pre></div></div></div><div class=\"sk-item\"><div class=\"sk-estimator sk-toggleable\"><input class=\"sk-toggleable__control sk-hidden--visually\" id=\"sk-estimator-id-43\" type=\"checkbox\" ><label for=\"sk-estimator-id-43\" class=\"sk-toggleable__label sk-toggleable__label-arrow\">FunctionTransformer</label><div class=\"sk-toggleable__content\"><pre>FunctionTransformer(func=functools.partial(&lt;function time_series_shift at 0x7f79743f49d0&gt;, n_past=1))</pre></div></div></div></div></div></div></div></div></div></div></div></div></div><div class=\"sk-parallel-item\"><div class=\"sk-item\"><div class=\"sk-label-container\"><div class=\"sk-label sk-toggleable\"><input class=\"sk-toggleable__control sk-hidden--visually\" id=\"sk-estimator-id-44\" type=\"checkbox\" ><label for=\"sk-estimator-id-44\" class=\"sk-toggleable__label sk-toggleable__label-arrow\">featureunion-2</label><div class=\"sk-toggleable__content\"><pre>[&#x27;locations&#x27;]</pre></div></div></div><div class=\"sk-serial\"><div class=\"sk-item sk-dashed-wrapped\"><div class=\"sk-parallel\"><div class=\"sk-parallel-item\"><div class=\"sk-item\"><div class=\"sk-label-container\"><div class=\"sk-label sk-toggleable\"><label>functiontransformer</label></div></div><div class=\"sk-serial\"><div class=\"sk-item\"><div class=\"sk-estimator sk-toggleable\"><input class=\"sk-toggleable__control sk-hidden--visually\" id=\"sk-estimator-id-45\" type=\"checkbox\" ><label for=\"sk-estimator-id-45\" class=\"sk-toggleable__label sk-toggleable__label-arrow\">FunctionTransformer</label><div class=\"sk-toggleable__content\"><pre>FunctionTransformer(func=functools.partial(&lt;function time_series_shift at 0x7f79743f49d0&gt;, n_past=5))</pre></div></div></div></div></div></div><div class=\"sk-parallel-item\"><div class=\"sk-item\"><div class=\"sk-label-container\"><div class=\"sk-label sk-toggleable\"><label>pipeline</label></div></div><div class=\"sk-serial\"><div class=\"sk-item\"><div class=\"sk-serial\"><div class=\"sk-item\"><div class=\"sk-estimator sk-toggleable\"><input class=\"sk-toggleable__control sk-hidden--visually\" id=\"sk-estimator-id-46\" type=\"checkbox\" ><label for=\"sk-estimator-id-46\" class=\"sk-toggleable__label sk-toggleable__label-arrow\">FunctionTransformer</label><div class=\"sk-toggleable__content\"><pre>FunctionTransformer(func=functools.partial(&lt;function rolling_average_transformer at 0x7f79743f4940&gt;, window=5))</pre></div></div></div><div class=\"sk-item\"><div class=\"sk-estimator sk-toggleable\"><input class=\"sk-toggleable__control sk-hidden--visually\" id=\"sk-estimator-id-47\" type=\"checkbox\" ><label for=\"sk-estimator-id-47\" class=\"sk-toggleable__label sk-toggleable__label-arrow\">FunctionTransformer</label><div class=\"sk-toggleable__content\"><pre>FunctionTransformer(func=functools.partial(&lt;function time_series_shift at 0x7f79743f49d0&gt;, n_past=1))</pre></div></div></div></div></div></div></div></div></div></div></div></div></div></div></div><div class=\"sk-item\"><div class=\"sk-estimator sk-toggleable\"><input class=\"sk-toggleable__control sk-hidden--visually\" id=\"sk-estimator-id-48\" type=\"checkbox\" ><label for=\"sk-estimator-id-48\" class=\"sk-toggleable__label sk-toggleable__label-arrow\">FunctionTransformer</label><div class=\"sk-toggleable__content\"><pre>FunctionTransformer(func=functools.partial(&lt;function time_series_imputer at 0x7f7973df93f0&gt;, method=&#x27;bfill&#x27;))</pre></div></div></div><div class=\"sk-item\"><div class=\"sk-estimator sk-toggleable\"><input class=\"sk-toggleable__control sk-hidden--visually\" id=\"sk-estimator-id-49\" type=\"checkbox\" ><label for=\"sk-estimator-id-49\" class=\"sk-toggleable__label sk-toggleable__label-arrow\">FunctionTransformer</label><div class=\"sk-toggleable__content\"><pre>FunctionTransformer(func=functools.partial(&lt;function time_series_imputer at 0x7f7973df93f0&gt;, method=&#x27;ffill&#x27;))</pre></div></div></div><div class=\"sk-item\"><div class=\"sk-estimator sk-toggleable\"><input class=\"sk-toggleable__control sk-hidden--visually\" id=\"sk-estimator-id-50\" type=\"checkbox\" ><label for=\"sk-estimator-id-50\" class=\"sk-toggleable__label sk-toggleable__label-arrow\">DropRowsTransformer</label><div class=\"sk-toggleable__content\"><pre>DropRowsTransformer(num_rows=5)</pre></div></div></div></div></div><div class=\"sk-item\"><div class=\"sk-estimator sk-toggleable\"><input class=\"sk-toggleable__control sk-hidden--visually\" id=\"sk-estimator-id-51\" type=\"checkbox\" ><label for=\"sk-estimator-id-51\" class=\"sk-toggleable__label sk-toggleable__label-arrow\">MinMaxScaler</label><div class=\"sk-toggleable__content\"><pre>MinMaxScaler()</pre></div></div></div><div class=\"sk-item\"><div class=\"sk-estimator sk-toggleable\"><input class=\"sk-toggleable__control sk-hidden--visually\" id=\"sk-estimator-id-52\" type=\"checkbox\" ><label for=\"sk-estimator-id-52\" class=\"sk-toggleable__label sk-toggleable__label-arrow\">RandomForestRegressor</label><div class=\"sk-toggleable__content\"><pre>RandomForestRegressor()</pre></div></div></div></div></div></div></div>"
      ],
      "text/plain": [
       "Pipeline(memory='cache',\n",
       "         steps=[('pipeline',\n",
       "                 Pipeline(memory='cache',\n",
       "                          steps=[('pipeline',\n",
       "                                  Pipeline(memory='cache',\n",
       "                                           steps=[('functiontransformer-1',\n",
       "                                                   FunctionTransformer(func=functools.partial(<function time_series_imputer at 0x7f7973df93f0>, method='bfill'))),\n",
       "                                                  ('functiontransformer-2',\n",
       "                                                   FunctionTransformer(func=functools.partial(<function time_series_imputer at 0x7...\n",
       "                                  FunctionTransformer(func=functools.partial(<function time_series_imputer at 0x7f7973df93f0>, method='bfill'))),\n",
       "                                 ('functiontransformer-2',\n",
       "                                  FunctionTransformer(func=functools.partial(<function time_series_imputer at 0x7f7973df93f0>, method='ffill'))),\n",
       "                                 ('droprowstransformer',\n",
       "                                  DropRowsTransformer(num_rows=5))],\n",
       "                          verbose=True)),\n",
       "                ('minmaxscaler', MinMaxScaler()),\n",
       "                ('randomforestregressor', RandomForestRegressor())],\n",
       "         verbose=True)"
      ]
     },
     "execution_count": 37,
     "metadata": {},
     "output_type": "execute_result"
    }
   ],
   "source": [
    "\n",
    "regressor_pipeline = build_regressor_pipeline()\n",
    "regressor_pipeline"
   ]
  },
  {
   "attachments": {},
   "cell_type": "markdown",
   "metadata": {},
   "source": [
    "### 4. Target Pipeline"
   ]
  },
  {
   "cell_type": "code",
   "execution_count": 38,
   "metadata": {},
   "outputs": [],
   "source": [
    "def build_target_pipeline() -> Pipeline:\n",
    "    \"\"\"Factory function used to build the target (e.g., y) pipeline.\"\"\"\n",
    "\n",
    "    return make_pipeline(\n",
    "       build_stationarity_pipeline(source=\"target\"),\n",
    "       memory=\"cache\",\n",
    "       verbose=True\n",
    "       )"
   ]
  },
  {
   "cell_type": "code",
   "execution_count": 39,
   "metadata": {},
   "outputs": [],
   "source": [
    "target_pipeline = build_target_pipeline()"
   ]
  },
  {
   "cell_type": "code",
   "execution_count": 40,
   "metadata": {},
   "outputs": [
    {
     "data": {
      "text/html": [
       "<style>#sk-container-id-4 {color: black;background-color: white;}#sk-container-id-4 pre{padding: 0;}#sk-container-id-4 div.sk-toggleable {background-color: white;}#sk-container-id-4 label.sk-toggleable__label {cursor: pointer;display: block;width: 100%;margin-bottom: 0;padding: 0.3em;box-sizing: border-box;text-align: center;}#sk-container-id-4 label.sk-toggleable__label-arrow:before {content: \"▸\";float: left;margin-right: 0.25em;color: #696969;}#sk-container-id-4 label.sk-toggleable__label-arrow:hover:before {color: black;}#sk-container-id-4 div.sk-estimator:hover label.sk-toggleable__label-arrow:before {color: black;}#sk-container-id-4 div.sk-toggleable__content {max-height: 0;max-width: 0;overflow: hidden;text-align: left;background-color: #f0f8ff;}#sk-container-id-4 div.sk-toggleable__content pre {margin: 0.2em;color: black;border-radius: 0.25em;background-color: #f0f8ff;}#sk-container-id-4 input.sk-toggleable__control:checked~div.sk-toggleable__content {max-height: 200px;max-width: 100%;overflow: auto;}#sk-container-id-4 input.sk-toggleable__control:checked~label.sk-toggleable__label-arrow:before {content: \"▾\";}#sk-container-id-4 div.sk-estimator input.sk-toggleable__control:checked~label.sk-toggleable__label {background-color: #d4ebff;}#sk-container-id-4 div.sk-label input.sk-toggleable__control:checked~label.sk-toggleable__label {background-color: #d4ebff;}#sk-container-id-4 input.sk-hidden--visually {border: 0;clip: rect(1px 1px 1px 1px);clip: rect(1px, 1px, 1px, 1px);height: 1px;margin: -1px;overflow: hidden;padding: 0;position: absolute;width: 1px;}#sk-container-id-4 div.sk-estimator {font-family: monospace;background-color: #f0f8ff;border: 1px dotted black;border-radius: 0.25em;box-sizing: border-box;margin-bottom: 0.5em;}#sk-container-id-4 div.sk-estimator:hover {background-color: #d4ebff;}#sk-container-id-4 div.sk-parallel-item::after {content: \"\";width: 100%;border-bottom: 1px solid gray;flex-grow: 1;}#sk-container-id-4 div.sk-label:hover label.sk-toggleable__label {background-color: #d4ebff;}#sk-container-id-4 div.sk-serial::before {content: \"\";position: absolute;border-left: 1px solid gray;box-sizing: border-box;top: 0;bottom: 0;left: 50%;z-index: 0;}#sk-container-id-4 div.sk-serial {display: flex;flex-direction: column;align-items: center;background-color: white;padding-right: 0.2em;padding-left: 0.2em;position: relative;}#sk-container-id-4 div.sk-item {position: relative;z-index: 1;}#sk-container-id-4 div.sk-parallel {display: flex;align-items: stretch;justify-content: center;background-color: white;position: relative;}#sk-container-id-4 div.sk-item::before, #sk-container-id-4 div.sk-parallel-item::before {content: \"\";position: absolute;border-left: 1px solid gray;box-sizing: border-box;top: 0;bottom: 0;left: 50%;z-index: -1;}#sk-container-id-4 div.sk-parallel-item {display: flex;flex-direction: column;z-index: 1;position: relative;background-color: white;}#sk-container-id-4 div.sk-parallel-item:first-child::after {align-self: flex-end;width: 50%;}#sk-container-id-4 div.sk-parallel-item:last-child::after {align-self: flex-start;width: 50%;}#sk-container-id-4 div.sk-parallel-item:only-child::after {width: 0;}#sk-container-id-4 div.sk-dashed-wrapped {border: 1px dashed gray;margin: 0 0.4em 0.5em 0.4em;box-sizing: border-box;padding-bottom: 0.4em;background-color: white;}#sk-container-id-4 div.sk-label label {font-family: monospace;font-weight: bold;display: inline-block;line-height: 1.2em;}#sk-container-id-4 div.sk-label-container {text-align: center;}#sk-container-id-4 div.sk-container {/* jupyter's `normalize.less` sets `[hidden] { display: none; }` but bootstrap.min.css set `[hidden] { display: none !important; }` so we also need the `!important` here to be able to override the default hidden behavior on the sphinx rendered scikit-learn.org. See: https://github.com/scikit-learn/scikit-learn/issues/21755 */display: inline-block !important;position: relative;}#sk-container-id-4 div.sk-text-repr-fallback {display: none;}</style><div id=\"sk-container-id-4\" class=\"sk-top-container\"><div class=\"sk-text-repr-fallback\"><pre>Pipeline(memory=&#x27;cache&#x27;,\n",
       "         steps=[(&#x27;pipeline&#x27;,\n",
       "                 Pipeline(memory=&#x27;cache&#x27;,\n",
       "                          steps=[(&#x27;functiontransformer-1&#x27;,\n",
       "                                  FunctionTransformer(func=functools.partial(&lt;function time_series_imputer at 0x7f7973df93f0&gt;, method=&#x27;bfill&#x27;))),\n",
       "                                 (&#x27;functiontransformer-2&#x27;,\n",
       "                                  FunctionTransformer(func=functools.partial(&lt;function time_series_imputer at 0x7f7973df93f0&gt;, method=&#x27;ffill&#x27;))),\n",
       "                                 (&#x27;logtransformer&#x27;, LogTransformer()),\n",
       "                                 (&#x27;differencetransformer&#x27;,\n",
       "                                  DifferenceTransformer(num_observed_points=0))],\n",
       "                          verbose=True))],\n",
       "         verbose=True)</pre><b>In a Jupyter environment, please rerun this cell to show the HTML representation or trust the notebook. <br />On GitHub, the HTML representation is unable to render, please try loading this page with nbviewer.org.</b></div><div class=\"sk-container\" hidden><div class=\"sk-item sk-dashed-wrapped\"><div class=\"sk-label-container\"><div class=\"sk-label sk-toggleable\"><input class=\"sk-toggleable__control sk-hidden--visually\" id=\"sk-estimator-id-53\" type=\"checkbox\" ><label for=\"sk-estimator-id-53\" class=\"sk-toggleable__label sk-toggleable__label-arrow\">Pipeline</label><div class=\"sk-toggleable__content\"><pre>Pipeline(memory=&#x27;cache&#x27;,\n",
       "         steps=[(&#x27;pipeline&#x27;,\n",
       "                 Pipeline(memory=&#x27;cache&#x27;,\n",
       "                          steps=[(&#x27;functiontransformer-1&#x27;,\n",
       "                                  FunctionTransformer(func=functools.partial(&lt;function time_series_imputer at 0x7f7973df93f0&gt;, method=&#x27;bfill&#x27;))),\n",
       "                                 (&#x27;functiontransformer-2&#x27;,\n",
       "                                  FunctionTransformer(func=functools.partial(&lt;function time_series_imputer at 0x7f7973df93f0&gt;, method=&#x27;ffill&#x27;))),\n",
       "                                 (&#x27;logtransformer&#x27;, LogTransformer()),\n",
       "                                 (&#x27;differencetransformer&#x27;,\n",
       "                                  DifferenceTransformer(num_observed_points=0))],\n",
       "                          verbose=True))],\n",
       "         verbose=True)</pre></div></div></div><div class=\"sk-serial\"><div class=\"sk-item\"><div class=\"sk-label-container\"><div class=\"sk-label sk-toggleable\"><input class=\"sk-toggleable__control sk-hidden--visually\" id=\"sk-estimator-id-54\" type=\"checkbox\" ><label for=\"sk-estimator-id-54\" class=\"sk-toggleable__label sk-toggleable__label-arrow\">pipeline: Pipeline</label><div class=\"sk-toggleable__content\"><pre>Pipeline(memory=&#x27;cache&#x27;,\n",
       "         steps=[(&#x27;functiontransformer-1&#x27;,\n",
       "                 FunctionTransformer(func=functools.partial(&lt;function time_series_imputer at 0x7f7973df93f0&gt;, method=&#x27;bfill&#x27;))),\n",
       "                (&#x27;functiontransformer-2&#x27;,\n",
       "                 FunctionTransformer(func=functools.partial(&lt;function time_series_imputer at 0x7f7973df93f0&gt;, method=&#x27;ffill&#x27;))),\n",
       "                (&#x27;logtransformer&#x27;, LogTransformer()),\n",
       "                (&#x27;differencetransformer&#x27;,\n",
       "                 DifferenceTransformer(num_observed_points=0))],\n",
       "         verbose=True)</pre></div></div></div><div class=\"sk-serial\"><div class=\"sk-item\"><div class=\"sk-estimator sk-toggleable\"><input class=\"sk-toggleable__control sk-hidden--visually\" id=\"sk-estimator-id-55\" type=\"checkbox\" ><label for=\"sk-estimator-id-55\" class=\"sk-toggleable__label sk-toggleable__label-arrow\">FunctionTransformer</label><div class=\"sk-toggleable__content\"><pre>FunctionTransformer(func=functools.partial(&lt;function time_series_imputer at 0x7f7973df93f0&gt;, method=&#x27;bfill&#x27;))</pre></div></div></div><div class=\"sk-item\"><div class=\"sk-estimator sk-toggleable\"><input class=\"sk-toggleable__control sk-hidden--visually\" id=\"sk-estimator-id-56\" type=\"checkbox\" ><label for=\"sk-estimator-id-56\" class=\"sk-toggleable__label sk-toggleable__label-arrow\">FunctionTransformer</label><div class=\"sk-toggleable__content\"><pre>FunctionTransformer(func=functools.partial(&lt;function time_series_imputer at 0x7f7973df93f0&gt;, method=&#x27;ffill&#x27;))</pre></div></div></div><div class=\"sk-item\"><div class=\"sk-estimator sk-toggleable\"><input class=\"sk-toggleable__control sk-hidden--visually\" id=\"sk-estimator-id-57\" type=\"checkbox\" ><label for=\"sk-estimator-id-57\" class=\"sk-toggleable__label sk-toggleable__label-arrow\">LogTransformer</label><div class=\"sk-toggleable__content\"><pre>LogTransformer()</pre></div></div></div><div class=\"sk-item\"><div class=\"sk-estimator sk-toggleable\"><input class=\"sk-toggleable__control sk-hidden--visually\" id=\"sk-estimator-id-58\" type=\"checkbox\" ><label for=\"sk-estimator-id-58\" class=\"sk-toggleable__label sk-toggleable__label-arrow\">DifferenceTransformer</label><div class=\"sk-toggleable__content\"><pre>DifferenceTransformer(num_observed_points=0)</pre></div></div></div></div></div></div></div></div></div>"
      ],
      "text/plain": [
       "Pipeline(memory='cache',\n",
       "         steps=[('pipeline',\n",
       "                 Pipeline(memory='cache',\n",
       "                          steps=[('functiontransformer-1',\n",
       "                                  FunctionTransformer(func=functools.partial(<function time_series_imputer at 0x7f7973df93f0>, method='bfill'))),\n",
       "                                 ('functiontransformer-2',\n",
       "                                  FunctionTransformer(func=functools.partial(<function time_series_imputer at 0x7f7973df93f0>, method='ffill'))),\n",
       "                                 ('logtransformer', LogTransformer()),\n",
       "                                 ('differencetransformer',\n",
       "                                  DifferenceTransformer(num_observed_points=0))],\n",
       "                          verbose=True))],\n",
       "         verbose=True)"
      ]
     },
     "execution_count": 40,
     "metadata": {},
     "output_type": "execute_result"
    }
   ],
   "source": [
    "target_pipeline"
   ]
  },
  {
   "attachments": {},
   "cell_type": "markdown",
   "metadata": {},
   "source": [
    "Global Pipeline. Let's Put Things Together."
   ]
  },
  {
   "attachments": {},
   "cell_type": "markdown",
   "metadata": {},
   "source": [
    "TransformedTargetRegressor를 사용한다.  \n",
    "- regressor : 앞에서 사용한 regressor_pipeline를 사용  \n",
    "- transformer : 파이프라인 내에 정의된 fit() 및 transform() 메서드를 사용할 때 모델이 기준 진실로 사용할 레이블을 전처리할 target_pipeline을 입력으로 받습니다. 또한 예측을 할 때 inverse_transform()을 호출하는 모델의 출력을 후처리합니다. 얼마나 멋진가요? 마지막으로, 모든 단계를 하나의 논리 단위로 묶는 방법입니다."
   ]
  },
  {
   "cell_type": "code",
   "execution_count": 41,
   "metadata": {},
   "outputs": [],
   "source": [
    "def build_global_pipeline() -> Pipeline:\n",
    "    \"\"\"Factor function used to build the final pipeline.\"\"\"\n",
    "\n",
    "    return make_pipeline(\n",
    "        TransformedTargetRegressor(\n",
    "            regressor=build_regressor_pipeline(),\n",
    "            transformer=build_target_pipeline(),\n",
    "            check_inverse=False\n",
    "        ),\n",
    "        memory=\"cache\",\n",
    "        verbose=True\n",
    "    )"
   ]
  },
  {
   "cell_type": "code",
   "execution_count": 42,
   "metadata": {},
   "outputs": [],
   "source": [
    "pipeline = build_global_pipeline()"
   ]
  },
  {
   "cell_type": "code",
   "execution_count": 43,
   "metadata": {},
   "outputs": [
    {
     "data": {
      "text/html": [
       "<style>#sk-container-id-5 {color: black;background-color: white;}#sk-container-id-5 pre{padding: 0;}#sk-container-id-5 div.sk-toggleable {background-color: white;}#sk-container-id-5 label.sk-toggleable__label {cursor: pointer;display: block;width: 100%;margin-bottom: 0;padding: 0.3em;box-sizing: border-box;text-align: center;}#sk-container-id-5 label.sk-toggleable__label-arrow:before {content: \"▸\";float: left;margin-right: 0.25em;color: #696969;}#sk-container-id-5 label.sk-toggleable__label-arrow:hover:before {color: black;}#sk-container-id-5 div.sk-estimator:hover label.sk-toggleable__label-arrow:before {color: black;}#sk-container-id-5 div.sk-toggleable__content {max-height: 0;max-width: 0;overflow: hidden;text-align: left;background-color: #f0f8ff;}#sk-container-id-5 div.sk-toggleable__content pre {margin: 0.2em;color: black;border-radius: 0.25em;background-color: #f0f8ff;}#sk-container-id-5 input.sk-toggleable__control:checked~div.sk-toggleable__content {max-height: 200px;max-width: 100%;overflow: auto;}#sk-container-id-5 input.sk-toggleable__control:checked~label.sk-toggleable__label-arrow:before {content: \"▾\";}#sk-container-id-5 div.sk-estimator input.sk-toggleable__control:checked~label.sk-toggleable__label {background-color: #d4ebff;}#sk-container-id-5 div.sk-label input.sk-toggleable__control:checked~label.sk-toggleable__label {background-color: #d4ebff;}#sk-container-id-5 input.sk-hidden--visually {border: 0;clip: rect(1px 1px 1px 1px);clip: rect(1px, 1px, 1px, 1px);height: 1px;margin: -1px;overflow: hidden;padding: 0;position: absolute;width: 1px;}#sk-container-id-5 div.sk-estimator {font-family: monospace;background-color: #f0f8ff;border: 1px dotted black;border-radius: 0.25em;box-sizing: border-box;margin-bottom: 0.5em;}#sk-container-id-5 div.sk-estimator:hover {background-color: #d4ebff;}#sk-container-id-5 div.sk-parallel-item::after {content: \"\";width: 100%;border-bottom: 1px solid gray;flex-grow: 1;}#sk-container-id-5 div.sk-label:hover label.sk-toggleable__label {background-color: #d4ebff;}#sk-container-id-5 div.sk-serial::before {content: \"\";position: absolute;border-left: 1px solid gray;box-sizing: border-box;top: 0;bottom: 0;left: 50%;z-index: 0;}#sk-container-id-5 div.sk-serial {display: flex;flex-direction: column;align-items: center;background-color: white;padding-right: 0.2em;padding-left: 0.2em;position: relative;}#sk-container-id-5 div.sk-item {position: relative;z-index: 1;}#sk-container-id-5 div.sk-parallel {display: flex;align-items: stretch;justify-content: center;background-color: white;position: relative;}#sk-container-id-5 div.sk-item::before, #sk-container-id-5 div.sk-parallel-item::before {content: \"\";position: absolute;border-left: 1px solid gray;box-sizing: border-box;top: 0;bottom: 0;left: 50%;z-index: -1;}#sk-container-id-5 div.sk-parallel-item {display: flex;flex-direction: column;z-index: 1;position: relative;background-color: white;}#sk-container-id-5 div.sk-parallel-item:first-child::after {align-self: flex-end;width: 50%;}#sk-container-id-5 div.sk-parallel-item:last-child::after {align-self: flex-start;width: 50%;}#sk-container-id-5 div.sk-parallel-item:only-child::after {width: 0;}#sk-container-id-5 div.sk-dashed-wrapped {border: 1px dashed gray;margin: 0 0.4em 0.5em 0.4em;box-sizing: border-box;padding-bottom: 0.4em;background-color: white;}#sk-container-id-5 div.sk-label label {font-family: monospace;font-weight: bold;display: inline-block;line-height: 1.2em;}#sk-container-id-5 div.sk-label-container {text-align: center;}#sk-container-id-5 div.sk-container {/* jupyter's `normalize.less` sets `[hidden] { display: none; }` but bootstrap.min.css set `[hidden] { display: none !important; }` so we also need the `!important` here to be able to override the default hidden behavior on the sphinx rendered scikit-learn.org. See: https://github.com/scikit-learn/scikit-learn/issues/21755 */display: inline-block !important;position: relative;}#sk-container-id-5 div.sk-text-repr-fallback {display: none;}</style><div id=\"sk-container-id-5\" class=\"sk-top-container\"><div class=\"sk-text-repr-fallback\"><pre>Pipeline(memory=&#x27;cache&#x27;,\n",
       "         steps=[(&#x27;transformedtargetregressor&#x27;,\n",
       "                 TransformedTargetRegressor(check_inverse=False,\n",
       "                                            regressor=Pipeline(memory=&#x27;cache&#x27;,\n",
       "                                                               steps=[(&#x27;pipeline&#x27;,\n",
       "                                                                       Pipeline(memory=&#x27;cache&#x27;,\n",
       "                                                                                steps=[(&#x27;pipeline&#x27;,\n",
       "                                                                                        Pipeline(memory=&#x27;cache&#x27;,\n",
       "                                                                                                 steps=[(&#x27;functiontransformer-1&#x27;,\n",
       "                                                                                                         FunctionTransformer(func=functools.partial(&lt;function time_series_imputer at 0x7f7973df93f0&gt;, m...\n",
       "                                                                                          FunctionTransformer(func=functools.partial(&lt;function time_series_imputer at 0x7f7973df93f0&gt;, method=&#x27;bfill&#x27;))),\n",
       "                                                                                         (&#x27;functiontransformer-2&#x27;,\n",
       "                                                                                          FunctionTransformer(func=functools.partial(&lt;function time_series_imputer at 0x7f7973df93f0&gt;, method=&#x27;ffill&#x27;))),\n",
       "                                                                                         (&#x27;logtransformer&#x27;,\n",
       "                                                                                          LogTransformer()),\n",
       "                                                                                         (&#x27;differencetransformer&#x27;,\n",
       "                                                                                          DifferenceTransformer(num_observed_points=0))],\n",
       "                                                                                  verbose=True))],\n",
       "                                                                 verbose=True)))],\n",
       "         verbose=True)</pre><b>In a Jupyter environment, please rerun this cell to show the HTML representation or trust the notebook. <br />On GitHub, the HTML representation is unable to render, please try loading this page with nbviewer.org.</b></div><div class=\"sk-container\" hidden><div class=\"sk-item sk-dashed-wrapped\"><div class=\"sk-label-container\"><div class=\"sk-label sk-toggleable\"><input class=\"sk-toggleable__control sk-hidden--visually\" id=\"sk-estimator-id-59\" type=\"checkbox\" ><label for=\"sk-estimator-id-59\" class=\"sk-toggleable__label sk-toggleable__label-arrow\">Pipeline</label><div class=\"sk-toggleable__content\"><pre>Pipeline(memory=&#x27;cache&#x27;,\n",
       "         steps=[(&#x27;transformedtargetregressor&#x27;,\n",
       "                 TransformedTargetRegressor(check_inverse=False,\n",
       "                                            regressor=Pipeline(memory=&#x27;cache&#x27;,\n",
       "                                                               steps=[(&#x27;pipeline&#x27;,\n",
       "                                                                       Pipeline(memory=&#x27;cache&#x27;,\n",
       "                                                                                steps=[(&#x27;pipeline&#x27;,\n",
       "                                                                                        Pipeline(memory=&#x27;cache&#x27;,\n",
       "                                                                                                 steps=[(&#x27;functiontransformer-1&#x27;,\n",
       "                                                                                                         FunctionTransformer(func=functools.partial(&lt;function time_series_imputer at 0x7f7973df93f0&gt;, m...\n",
       "                                                                                          FunctionTransformer(func=functools.partial(&lt;function time_series_imputer at 0x7f7973df93f0&gt;, method=&#x27;bfill&#x27;))),\n",
       "                                                                                         (&#x27;functiontransformer-2&#x27;,\n",
       "                                                                                          FunctionTransformer(func=functools.partial(&lt;function time_series_imputer at 0x7f7973df93f0&gt;, method=&#x27;ffill&#x27;))),\n",
       "                                                                                         (&#x27;logtransformer&#x27;,\n",
       "                                                                                          LogTransformer()),\n",
       "                                                                                         (&#x27;differencetransformer&#x27;,\n",
       "                                                                                          DifferenceTransformer(num_observed_points=0))],\n",
       "                                                                                  verbose=True))],\n",
       "                                                                 verbose=True)))],\n",
       "         verbose=True)</pre></div></div></div><div class=\"sk-serial\"><div class=\"sk-item sk-dashed-wrapped\"><div class=\"sk-label-container\"><div class=\"sk-label sk-toggleable\"><input class=\"sk-toggleable__control sk-hidden--visually\" id=\"sk-estimator-id-60\" type=\"checkbox\" ><label for=\"sk-estimator-id-60\" class=\"sk-toggleable__label sk-toggleable__label-arrow\">transformedtargetregressor: TransformedTargetRegressor</label><div class=\"sk-toggleable__content\"><pre>TransformedTargetRegressor(check_inverse=False,\n",
       "                           regressor=Pipeline(memory=&#x27;cache&#x27;,\n",
       "                                              steps=[(&#x27;pipeline&#x27;,\n",
       "                                                      Pipeline(memory=&#x27;cache&#x27;,\n",
       "                                                               steps=[(&#x27;pipeline&#x27;,\n",
       "                                                                       Pipeline(memory=&#x27;cache&#x27;,\n",
       "                                                                                steps=[(&#x27;functiontransformer-1&#x27;,\n",
       "                                                                                        FunctionTransformer(func=functools.partial(&lt;function time_series_imputer at 0x7f7973df93f0&gt;, method=&#x27;bfill&#x27;))),\n",
       "                                                                                       (&#x27;functiontransformer-2&#x27;,\n",
       "                                                                                        FunctionTransformer...\n",
       "                                                                         FunctionTransformer(func=functools.partial(&lt;function time_series_imputer at 0x7f7973df93f0&gt;, method=&#x27;bfill&#x27;))),\n",
       "                                                                        (&#x27;functiontransformer-2&#x27;,\n",
       "                                                                         FunctionTransformer(func=functools.partial(&lt;function time_series_imputer at 0x7f7973df93f0&gt;, method=&#x27;ffill&#x27;))),\n",
       "                                                                        (&#x27;logtransformer&#x27;,\n",
       "                                                                         LogTransformer()),\n",
       "                                                                        (&#x27;differencetransformer&#x27;,\n",
       "                                                                         DifferenceTransformer(num_observed_points=0))],\n",
       "                                                                 verbose=True))],\n",
       "                                                verbose=True))</pre></div></div></div><div class=\"sk-parallel\"><div class=\"sk-parallel-item\"><div class=\"sk-item\"><div class=\"sk-label-container\"><div class=\"sk-label sk-toggleable\"><input class=\"sk-toggleable__control sk-hidden--visually\" id=\"sk-estimator-id-61\" type=\"checkbox\" ><label for=\"sk-estimator-id-61\" class=\"sk-toggleable__label sk-toggleable__label-arrow\">regressor: Pipeline</label><div class=\"sk-toggleable__content\"><pre>Pipeline(memory=&#x27;cache&#x27;,\n",
       "         steps=[(&#x27;pipeline&#x27;,\n",
       "                 Pipeline(memory=&#x27;cache&#x27;,\n",
       "                          steps=[(&#x27;pipeline&#x27;,\n",
       "                                  Pipeline(memory=&#x27;cache&#x27;,\n",
       "                                           steps=[(&#x27;functiontransformer-1&#x27;,\n",
       "                                                   FunctionTransformer(func=functools.partial(&lt;function time_series_imputer at 0x7f7973df93f0&gt;, method=&#x27;bfill&#x27;))),\n",
       "                                                  (&#x27;functiontransformer-2&#x27;,\n",
       "                                                   FunctionTransformer(func=functools.partial(&lt;function time_series_imputer at 0x7...\n",
       "                                  FunctionTransformer(func=functools.partial(&lt;function time_series_imputer at 0x7f7973df93f0&gt;, method=&#x27;bfill&#x27;))),\n",
       "                                 (&#x27;functiontransformer-2&#x27;,\n",
       "                                  FunctionTransformer(func=functools.partial(&lt;function time_series_imputer at 0x7f7973df93f0&gt;, method=&#x27;ffill&#x27;))),\n",
       "                                 (&#x27;droprowstransformer&#x27;,\n",
       "                                  DropRowsTransformer(num_rows=5))],\n",
       "                          verbose=True)),\n",
       "                (&#x27;minmaxscaler&#x27;, MinMaxScaler()),\n",
       "                (&#x27;randomforestregressor&#x27;, RandomForestRegressor())],\n",
       "         verbose=True)</pre></div></div></div><div class=\"sk-serial\"><div class=\"sk-item\"><div class=\"sk-serial\"><div class=\"sk-item\"><div class=\"sk-label-container\"><div class=\"sk-label sk-toggleable\"><input class=\"sk-toggleable__control sk-hidden--visually\" id=\"sk-estimator-id-62\" type=\"checkbox\" ><label for=\"sk-estimator-id-62\" class=\"sk-toggleable__label sk-toggleable__label-arrow\">pipeline: Pipeline</label><div class=\"sk-toggleable__content\"><pre>Pipeline(memory=&#x27;cache&#x27;,\n",
       "         steps=[(&#x27;pipeline&#x27;,\n",
       "                 Pipeline(memory=&#x27;cache&#x27;,\n",
       "                          steps=[(&#x27;functiontransformer-1&#x27;,\n",
       "                                  FunctionTransformer(func=functools.partial(&lt;function time_series_imputer at 0x7f7973df93f0&gt;, method=&#x27;bfill&#x27;))),\n",
       "                                 (&#x27;functiontransformer-2&#x27;,\n",
       "                                  FunctionTransformer(func=functools.partial(&lt;function time_series_imputer at 0x7f7973df93f0&gt;, method=&#x27;ffill&#x27;))),\n",
       "                                 (&#x27;logtransfo...\n",
       "                                                  [&#x27;locations&#x27;])])),\n",
       "                (&#x27;functiontransformer-1&#x27;,\n",
       "                 FunctionTransformer(func=functools.partial(&lt;function time_series_imputer at 0x7f7973df93f0&gt;, method=&#x27;bfill&#x27;))),\n",
       "                (&#x27;functiontransformer-2&#x27;,\n",
       "                 FunctionTransformer(func=functools.partial(&lt;function time_series_imputer at 0x7f7973df93f0&gt;, method=&#x27;ffill&#x27;))),\n",
       "                (&#x27;droprowstransformer&#x27;, DropRowsTransformer(num_rows=5))],\n",
       "         verbose=True)</pre></div></div></div><div class=\"sk-serial\"><div class=\"sk-item\"><div class=\"sk-label-container\"><div class=\"sk-label sk-toggleable\"><input class=\"sk-toggleable__control sk-hidden--visually\" id=\"sk-estimator-id-63\" type=\"checkbox\" ><label for=\"sk-estimator-id-63\" class=\"sk-toggleable__label sk-toggleable__label-arrow\">pipeline: Pipeline</label><div class=\"sk-toggleable__content\"><pre>Pipeline(memory=&#x27;cache&#x27;,\n",
       "         steps=[(&#x27;functiontransformer-1&#x27;,\n",
       "                 FunctionTransformer(func=functools.partial(&lt;function time_series_imputer at 0x7f7973df93f0&gt;, method=&#x27;bfill&#x27;))),\n",
       "                (&#x27;functiontransformer-2&#x27;,\n",
       "                 FunctionTransformer(func=functools.partial(&lt;function time_series_imputer at 0x7f7973df93f0&gt;, method=&#x27;ffill&#x27;))),\n",
       "                (&#x27;logtransformer&#x27;, LogTransformer()),\n",
       "                (&#x27;differencetransformer&#x27;,\n",
       "                 DifferenceTransformer(num_observed_points=5))],\n",
       "         verbose=True)</pre></div></div></div><div class=\"sk-serial\"><div class=\"sk-item\"><div class=\"sk-estimator sk-toggleable\"><input class=\"sk-toggleable__control sk-hidden--visually\" id=\"sk-estimator-id-64\" type=\"checkbox\" ><label for=\"sk-estimator-id-64\" class=\"sk-toggleable__label sk-toggleable__label-arrow\">FunctionTransformer</label><div class=\"sk-toggleable__content\"><pre>FunctionTransformer(func=functools.partial(&lt;function time_series_imputer at 0x7f7973df93f0&gt;, method=&#x27;bfill&#x27;))</pre></div></div></div><div class=\"sk-item\"><div class=\"sk-estimator sk-toggleable\"><input class=\"sk-toggleable__control sk-hidden--visually\" id=\"sk-estimator-id-65\" type=\"checkbox\" ><label for=\"sk-estimator-id-65\" class=\"sk-toggleable__label sk-toggleable__label-arrow\">FunctionTransformer</label><div class=\"sk-toggleable__content\"><pre>FunctionTransformer(func=functools.partial(&lt;function time_series_imputer at 0x7f7973df93f0&gt;, method=&#x27;ffill&#x27;))</pre></div></div></div><div class=\"sk-item\"><div class=\"sk-estimator sk-toggleable\"><input class=\"sk-toggleable__control sk-hidden--visually\" id=\"sk-estimator-id-66\" type=\"checkbox\" ><label for=\"sk-estimator-id-66\" class=\"sk-toggleable__label sk-toggleable__label-arrow\">LogTransformer</label><div class=\"sk-toggleable__content\"><pre>LogTransformer()</pre></div></div></div><div class=\"sk-item\"><div class=\"sk-estimator sk-toggleable\"><input class=\"sk-toggleable__control sk-hidden--visually\" id=\"sk-estimator-id-67\" type=\"checkbox\" ><label for=\"sk-estimator-id-67\" class=\"sk-toggleable__label sk-toggleable__label-arrow\">DifferenceTransformer</label><div class=\"sk-toggleable__content\"><pre>DifferenceTransformer(num_observed_points=5)</pre></div></div></div></div></div><div class=\"sk-item sk-dashed-wrapped\"><div class=\"sk-label-container\"><div class=\"sk-label sk-toggleable\"><input class=\"sk-toggleable__control sk-hidden--visually\" id=\"sk-estimator-id-68\" type=\"checkbox\" ><label for=\"sk-estimator-id-68\" class=\"sk-toggleable__label sk-toggleable__label-arrow\">columntransformer: ColumnTransformer</label><div class=\"sk-toggleable__content\"><pre>ColumnTransformer(transformers=[(&#x27;featureunion-1&#x27;,\n",
       "                                 FeatureUnion(transformer_list=[(&#x27;functiontransformer&#x27;,\n",
       "                                                                 FunctionTransformer(func=functools.partial(&lt;function time_series_shift at 0x7f79743f49d0&gt;, n_past=5))),\n",
       "                                                                (&#x27;pipeline-1&#x27;,\n",
       "                                                                 Pipeline(steps=[(&#x27;functiontransformer-1&#x27;,\n",
       "                                                                                  FunctionTransformer(func=functools.partial(&lt;function rolling_average_transformer at 0x7f79743f4...\n",
       "                                                                 FunctionTransformer(func=functools.partial(&lt;function time_series_shift at 0x7f79743f49d0&gt;, n_past=5))),\n",
       "                                                                (&#x27;pipeline&#x27;,\n",
       "                                                                 Pipeline(steps=[(&#x27;functiontransformer-1&#x27;,\n",
       "                                                                                  FunctionTransformer(func=functools.partial(&lt;function rolling_average_transformer at 0x7f79743f4940&gt;, window=5))),\n",
       "                                                                                 (&#x27;functiontransformer-2&#x27;,\n",
       "                                                                                  FunctionTransformer(func=functools.partial(&lt;function time_series_shift at 0x7f79743f49d0&gt;, n_past=1)))]))]),\n",
       "                                 [&#x27;locations&#x27;])])</pre></div></div></div><div class=\"sk-parallel\"><div class=\"sk-parallel-item\"><div class=\"sk-item\"><div class=\"sk-label-container\"><div class=\"sk-label sk-toggleable\"><input class=\"sk-toggleable__control sk-hidden--visually\" id=\"sk-estimator-id-69\" type=\"checkbox\" ><label for=\"sk-estimator-id-69\" class=\"sk-toggleable__label sk-toggleable__label-arrow\">featureunion-1</label><div class=\"sk-toggleable__content\"><pre>[&#x27;mean_yield&#x27;]</pre></div></div></div><div class=\"sk-serial\"><div class=\"sk-item sk-dashed-wrapped\"><div class=\"sk-parallel\"><div class=\"sk-parallel-item\"><div class=\"sk-item\"><div class=\"sk-label-container\"><div class=\"sk-label sk-toggleable\"><label>functiontransformer</label></div></div><div class=\"sk-serial\"><div class=\"sk-item\"><div class=\"sk-estimator sk-toggleable\"><input class=\"sk-toggleable__control sk-hidden--visually\" id=\"sk-estimator-id-70\" type=\"checkbox\" ><label for=\"sk-estimator-id-70\" class=\"sk-toggleable__label sk-toggleable__label-arrow\">FunctionTransformer</label><div class=\"sk-toggleable__content\"><pre>FunctionTransformer(func=functools.partial(&lt;function time_series_shift at 0x7f79743f49d0&gt;, n_past=5))</pre></div></div></div></div></div></div><div class=\"sk-parallel-item\"><div class=\"sk-item\"><div class=\"sk-label-container\"><div class=\"sk-label sk-toggleable\"><label>pipeline-1</label></div></div><div class=\"sk-serial\"><div class=\"sk-item\"><div class=\"sk-serial\"><div class=\"sk-item\"><div class=\"sk-estimator sk-toggleable\"><input class=\"sk-toggleable__control sk-hidden--visually\" id=\"sk-estimator-id-71\" type=\"checkbox\" ><label for=\"sk-estimator-id-71\" class=\"sk-toggleable__label sk-toggleable__label-arrow\">FunctionTransformer</label><div class=\"sk-toggleable__content\"><pre>FunctionTransformer(func=functools.partial(&lt;function rolling_average_transformer at 0x7f79743f4940&gt;, window=5))</pre></div></div></div><div class=\"sk-item\"><div class=\"sk-estimator sk-toggleable\"><input class=\"sk-toggleable__control sk-hidden--visually\" id=\"sk-estimator-id-72\" type=\"checkbox\" ><label for=\"sk-estimator-id-72\" class=\"sk-toggleable__label sk-toggleable__label-arrow\">FunctionTransformer</label><div class=\"sk-toggleable__content\"><pre>FunctionTransformer(func=functools.partial(&lt;function time_series_shift at 0x7f79743f49d0&gt;, n_past=1))</pre></div></div></div></div></div></div></div></div><div class=\"sk-parallel-item\"><div class=\"sk-item\"><div class=\"sk-label-container\"><div class=\"sk-label sk-toggleable\"><label>pipeline-2</label></div></div><div class=\"sk-serial\"><div class=\"sk-item\"><div class=\"sk-serial\"><div class=\"sk-item\"><div class=\"sk-estimator sk-toggleable\"><input class=\"sk-toggleable__control sk-hidden--visually\" id=\"sk-estimator-id-73\" type=\"checkbox\" ><label for=\"sk-estimator-id-73\" class=\"sk-toggleable__label sk-toggleable__label-arrow\">FunctionTransformer</label><div class=\"sk-toggleable__content\"><pre>FunctionTransformer(func=functools.partial(&lt;function rolling_std_transformer at 0x7f79743f4820&gt;, window=5))</pre></div></div></div><div class=\"sk-item\"><div class=\"sk-estimator sk-toggleable\"><input class=\"sk-toggleable__control sk-hidden--visually\" id=\"sk-estimator-id-74\" type=\"checkbox\" ><label for=\"sk-estimator-id-74\" class=\"sk-toggleable__label sk-toggleable__label-arrow\">FunctionTransformer</label><div class=\"sk-toggleable__content\"><pre>FunctionTransformer(func=functools.partial(&lt;function time_series_shift at 0x7f79743f49d0&gt;, n_past=1))</pre></div></div></div></div></div></div></div></div><div class=\"sk-parallel-item\"><div class=\"sk-item\"><div class=\"sk-label-container\"><div class=\"sk-label sk-toggleable\"><label>pipeline-3</label></div></div><div class=\"sk-serial\"><div class=\"sk-item\"><div class=\"sk-serial\"><div class=\"sk-item\"><div class=\"sk-estimator sk-toggleable\"><input class=\"sk-toggleable__control sk-hidden--visually\" id=\"sk-estimator-id-75\" type=\"checkbox\" ><label for=\"sk-estimator-id-75\" class=\"sk-toggleable__label sk-toggleable__label-arrow\">FunctionTransformer</label><div class=\"sk-toggleable__content\"><pre>FunctionTransformer(func=functools.partial(&lt;function rolling_median_transformer at 0x7f79743f48b0&gt;, window=5))</pre></div></div></div><div class=\"sk-item\"><div class=\"sk-estimator sk-toggleable\"><input class=\"sk-toggleable__control sk-hidden--visually\" id=\"sk-estimator-id-76\" type=\"checkbox\" ><label for=\"sk-estimator-id-76\" class=\"sk-toggleable__label sk-toggleable__label-arrow\">FunctionTransformer</label><div class=\"sk-toggleable__content\"><pre>FunctionTransformer(func=functools.partial(&lt;function time_series_shift at 0x7f79743f49d0&gt;, n_past=1))</pre></div></div></div></div></div></div></div></div></div></div></div></div></div><div class=\"sk-parallel-item\"><div class=\"sk-item\"><div class=\"sk-label-container\"><div class=\"sk-label sk-toggleable\"><input class=\"sk-toggleable__control sk-hidden--visually\" id=\"sk-estimator-id-77\" type=\"checkbox\" ><label for=\"sk-estimator-id-77\" class=\"sk-toggleable__label sk-toggleable__label-arrow\">featureunion-2</label><div class=\"sk-toggleable__content\"><pre>[&#x27;locations&#x27;]</pre></div></div></div><div class=\"sk-serial\"><div class=\"sk-item sk-dashed-wrapped\"><div class=\"sk-parallel\"><div class=\"sk-parallel-item\"><div class=\"sk-item\"><div class=\"sk-label-container\"><div class=\"sk-label sk-toggleable\"><label>functiontransformer</label></div></div><div class=\"sk-serial\"><div class=\"sk-item\"><div class=\"sk-estimator sk-toggleable\"><input class=\"sk-toggleable__control sk-hidden--visually\" id=\"sk-estimator-id-78\" type=\"checkbox\" ><label for=\"sk-estimator-id-78\" class=\"sk-toggleable__label sk-toggleable__label-arrow\">FunctionTransformer</label><div class=\"sk-toggleable__content\"><pre>FunctionTransformer(func=functools.partial(&lt;function time_series_shift at 0x7f79743f49d0&gt;, n_past=5))</pre></div></div></div></div></div></div><div class=\"sk-parallel-item\"><div class=\"sk-item\"><div class=\"sk-label-container\"><div class=\"sk-label sk-toggleable\"><label>pipeline</label></div></div><div class=\"sk-serial\"><div class=\"sk-item\"><div class=\"sk-serial\"><div class=\"sk-item\"><div class=\"sk-estimator sk-toggleable\"><input class=\"sk-toggleable__control sk-hidden--visually\" id=\"sk-estimator-id-79\" type=\"checkbox\" ><label for=\"sk-estimator-id-79\" class=\"sk-toggleable__label sk-toggleable__label-arrow\">FunctionTransformer</label><div class=\"sk-toggleable__content\"><pre>FunctionTransformer(func=functools.partial(&lt;function rolling_average_transformer at 0x7f79743f4940&gt;, window=5))</pre></div></div></div><div class=\"sk-item\"><div class=\"sk-estimator sk-toggleable\"><input class=\"sk-toggleable__control sk-hidden--visually\" id=\"sk-estimator-id-80\" type=\"checkbox\" ><label for=\"sk-estimator-id-80\" class=\"sk-toggleable__label sk-toggleable__label-arrow\">FunctionTransformer</label><div class=\"sk-toggleable__content\"><pre>FunctionTransformer(func=functools.partial(&lt;function time_series_shift at 0x7f79743f49d0&gt;, n_past=1))</pre></div></div></div></div></div></div></div></div></div></div></div></div></div></div></div><div class=\"sk-item\"><div class=\"sk-estimator sk-toggleable\"><input class=\"sk-toggleable__control sk-hidden--visually\" id=\"sk-estimator-id-81\" type=\"checkbox\" ><label for=\"sk-estimator-id-81\" class=\"sk-toggleable__label sk-toggleable__label-arrow\">FunctionTransformer</label><div class=\"sk-toggleable__content\"><pre>FunctionTransformer(func=functools.partial(&lt;function time_series_imputer at 0x7f7973df93f0&gt;, method=&#x27;bfill&#x27;))</pre></div></div></div><div class=\"sk-item\"><div class=\"sk-estimator sk-toggleable\"><input class=\"sk-toggleable__control sk-hidden--visually\" id=\"sk-estimator-id-82\" type=\"checkbox\" ><label for=\"sk-estimator-id-82\" class=\"sk-toggleable__label sk-toggleable__label-arrow\">FunctionTransformer</label><div class=\"sk-toggleable__content\"><pre>FunctionTransformer(func=functools.partial(&lt;function time_series_imputer at 0x7f7973df93f0&gt;, method=&#x27;ffill&#x27;))</pre></div></div></div><div class=\"sk-item\"><div class=\"sk-estimator sk-toggleable\"><input class=\"sk-toggleable__control sk-hidden--visually\" id=\"sk-estimator-id-83\" type=\"checkbox\" ><label for=\"sk-estimator-id-83\" class=\"sk-toggleable__label sk-toggleable__label-arrow\">DropRowsTransformer</label><div class=\"sk-toggleable__content\"><pre>DropRowsTransformer(num_rows=5)</pre></div></div></div></div></div><div class=\"sk-item\"><div class=\"sk-estimator sk-toggleable\"><input class=\"sk-toggleable__control sk-hidden--visually\" id=\"sk-estimator-id-84\" type=\"checkbox\" ><label for=\"sk-estimator-id-84\" class=\"sk-toggleable__label sk-toggleable__label-arrow\">MinMaxScaler</label><div class=\"sk-toggleable__content\"><pre>MinMaxScaler()</pre></div></div></div><div class=\"sk-item\"><div class=\"sk-estimator sk-toggleable\"><input class=\"sk-toggleable__control sk-hidden--visually\" id=\"sk-estimator-id-85\" type=\"checkbox\" ><label for=\"sk-estimator-id-85\" class=\"sk-toggleable__label sk-toggleable__label-arrow\">RandomForestRegressor</label><div class=\"sk-toggleable__content\"><pre>RandomForestRegressor()</pre></div></div></div></div></div></div></div></div><div class=\"sk-parallel-item\"><div class=\"sk-item\"><div class=\"sk-label-container\"><div class=\"sk-label sk-toggleable\"><input class=\"sk-toggleable__control sk-hidden--visually\" id=\"sk-estimator-id-86\" type=\"checkbox\" ><label for=\"sk-estimator-id-86\" class=\"sk-toggleable__label sk-toggleable__label-arrow\">transformer: Pipeline</label><div class=\"sk-toggleable__content\"><pre>Pipeline(memory=&#x27;cache&#x27;,\n",
       "         steps=[(&#x27;pipeline&#x27;,\n",
       "                 Pipeline(memory=&#x27;cache&#x27;,\n",
       "                          steps=[(&#x27;functiontransformer-1&#x27;,\n",
       "                                  FunctionTransformer(func=functools.partial(&lt;function time_series_imputer at 0x7f7973df93f0&gt;, method=&#x27;bfill&#x27;))),\n",
       "                                 (&#x27;functiontransformer-2&#x27;,\n",
       "                                  FunctionTransformer(func=functools.partial(&lt;function time_series_imputer at 0x7f7973df93f0&gt;, method=&#x27;ffill&#x27;))),\n",
       "                                 (&#x27;logtransformer&#x27;, LogTransformer()),\n",
       "                                 (&#x27;differencetransformer&#x27;,\n",
       "                                  DifferenceTransformer(num_observed_points=0))],\n",
       "                          verbose=True))],\n",
       "         verbose=True)</pre></div></div></div><div class=\"sk-serial\"><div class=\"sk-item\"><div class=\"sk-serial\"><div class=\"sk-item\"><div class=\"sk-label-container\"><div class=\"sk-label sk-toggleable\"><input class=\"sk-toggleable__control sk-hidden--visually\" id=\"sk-estimator-id-87\" type=\"checkbox\" ><label for=\"sk-estimator-id-87\" class=\"sk-toggleable__label sk-toggleable__label-arrow\">pipeline: Pipeline</label><div class=\"sk-toggleable__content\"><pre>Pipeline(memory=&#x27;cache&#x27;,\n",
       "         steps=[(&#x27;functiontransformer-1&#x27;,\n",
       "                 FunctionTransformer(func=functools.partial(&lt;function time_series_imputer at 0x7f7973df93f0&gt;, method=&#x27;bfill&#x27;))),\n",
       "                (&#x27;functiontransformer-2&#x27;,\n",
       "                 FunctionTransformer(func=functools.partial(&lt;function time_series_imputer at 0x7f7973df93f0&gt;, method=&#x27;ffill&#x27;))),\n",
       "                (&#x27;logtransformer&#x27;, LogTransformer()),\n",
       "                (&#x27;differencetransformer&#x27;,\n",
       "                 DifferenceTransformer(num_observed_points=0))],\n",
       "         verbose=True)</pre></div></div></div><div class=\"sk-serial\"><div class=\"sk-item\"><div class=\"sk-estimator sk-toggleable\"><input class=\"sk-toggleable__control sk-hidden--visually\" id=\"sk-estimator-id-88\" type=\"checkbox\" ><label for=\"sk-estimator-id-88\" class=\"sk-toggleable__label sk-toggleable__label-arrow\">FunctionTransformer</label><div class=\"sk-toggleable__content\"><pre>FunctionTransformer(func=functools.partial(&lt;function time_series_imputer at 0x7f7973df93f0&gt;, method=&#x27;bfill&#x27;))</pre></div></div></div><div class=\"sk-item\"><div class=\"sk-estimator sk-toggleable\"><input class=\"sk-toggleable__control sk-hidden--visually\" id=\"sk-estimator-id-89\" type=\"checkbox\" ><label for=\"sk-estimator-id-89\" class=\"sk-toggleable__label sk-toggleable__label-arrow\">FunctionTransformer</label><div class=\"sk-toggleable__content\"><pre>FunctionTransformer(func=functools.partial(&lt;function time_series_imputer at 0x7f7973df93f0&gt;, method=&#x27;ffill&#x27;))</pre></div></div></div><div class=\"sk-item\"><div class=\"sk-estimator sk-toggleable\"><input class=\"sk-toggleable__control sk-hidden--visually\" id=\"sk-estimator-id-90\" type=\"checkbox\" ><label for=\"sk-estimator-id-90\" class=\"sk-toggleable__label sk-toggleable__label-arrow\">LogTransformer</label><div class=\"sk-toggleable__content\"><pre>LogTransformer()</pre></div></div></div><div class=\"sk-item\"><div class=\"sk-estimator sk-toggleable\"><input class=\"sk-toggleable__control sk-hidden--visually\" id=\"sk-estimator-id-91\" type=\"checkbox\" ><label for=\"sk-estimator-id-91\" class=\"sk-toggleable__label sk-toggleable__label-arrow\">DifferenceTransformer</label><div class=\"sk-toggleable__content\"><pre>DifferenceTransformer(num_observed_points=0)</pre></div></div></div></div></div></div></div></div></div></div></div></div></div></div></div></div>"
      ],
      "text/plain": [
       "Pipeline(memory='cache',\n",
       "         steps=[('transformedtargetregressor',\n",
       "                 TransformedTargetRegressor(check_inverse=False,\n",
       "                                            regressor=Pipeline(memory='cache',\n",
       "                                                               steps=[('pipeline',\n",
       "                                                                       Pipeline(memory='cache',\n",
       "                                                                                steps=[('pipeline',\n",
       "                                                                                        Pipeline(memory='cache',\n",
       "                                                                                                 steps=[('functiontransformer-1',\n",
       "                                                                                                         FunctionTransformer(func=functools.partial(<function time_series_imputer at 0x7f7973df93f0>, m...\n",
       "                                                                                          FunctionTransformer(func=functools.partial(<function time_series_imputer at 0x7f7973df93f0>, method='bfill'))),\n",
       "                                                                                         ('functiontransformer-2',\n",
       "                                                                                          FunctionTransformer(func=functools.partial(<function time_series_imputer at 0x7f7973df93f0>, method='ffill'))),\n",
       "                                                                                         ('logtransformer',\n",
       "                                                                                          LogTransformer()),\n",
       "                                                                                         ('differencetransformer',\n",
       "                                                                                          DifferenceTransformer(num_observed_points=0))],\n",
       "                                                                                  verbose=True))],\n",
       "                                                                 verbose=True)))],\n",
       "         verbose=True)"
      ]
     },
     "execution_count": 43,
     "metadata": {},
     "output_type": "execute_result"
    }
   ],
   "source": [
    "pipeline"
   ]
  },
  {
   "cell_type": "code",
   "execution_count": 44,
   "metadata": {},
   "outputs": [
    {
     "data": {
      "text/plain": [
       "{'transformedtargetregressor': TransformedTargetRegressor(check_inverse=False,\n",
       "                            regressor=Pipeline(memory='cache',\n",
       "                                               steps=[('pipeline',\n",
       "                                                       Pipeline(memory='cache',\n",
       "                                                                steps=[('pipeline',\n",
       "                                                                        Pipeline(memory='cache',\n",
       "                                                                                 steps=[('functiontransformer-1',\n",
       "                                                                                         FunctionTransformer(func=functools.partial(<function time_series_imputer at 0x7f7973df93f0>, method='bfill'))),\n",
       "                                                                                        ('functiontransformer-2',\n",
       "                                                                                         FunctionTransformer...\n",
       "                                                                          FunctionTransformer(func=functools.partial(<function time_series_imputer at 0x7f7973df93f0>, method='bfill'))),\n",
       "                                                                         ('functiontransformer-2',\n",
       "                                                                          FunctionTransformer(func=functools.partial(<function time_series_imputer at 0x7f7973df93f0>, method='ffill'))),\n",
       "                                                                         ('logtransformer',\n",
       "                                                                          LogTransformer()),\n",
       "                                                                         ('differencetransformer',\n",
       "                                                                          DifferenceTransformer(num_observed_points=0))],\n",
       "                                                                  verbose=True))],\n",
       "                                                 verbose=True))}"
      ]
     },
     "execution_count": 44,
     "metadata": {},
     "output_type": "execute_result"
    }
   ],
   "source": [
    "pipeline.named_steps"
   ]
  },
  {
   "attachments": {},
   "cell_type": "markdown",
   "metadata": {},
   "source": [
    "How to Use the Global Pipeline"
   ]
  },
  {
   "attachments": {},
   "cell_type": "markdown",
   "metadata": {},
   "source": [
    "학습"
   ]
  },
  {
   "cell_type": "code",
   "execution_count": 45,
   "metadata": {},
   "outputs": [
    {
     "name": "stderr",
     "output_type": "stream",
     "text": [
      "DEBUG:sklearn-pipelines:DifferenceTransformer X (fit): (27, 1)\n",
      "DEBUG:sklearn-pipelines:time_series_imputer (transform): (27, 1)\n",
      "DEBUG:sklearn-pipelines:time_series_imputer (transform): (27, 1)\n",
      "DEBUG:sklearn-pipelines:LogTransformer (transform): (27, 1)\n",
      "DEBUG:sklearn-pipelines:DifferenceTransformer (transform): (26, 1)\n"
     ]
    },
    {
     "name": "stdout",
     "output_type": "stream",
     "text": [
      "[Pipeline]  (step 4 of 4) Processing differencetransformer, total=   0.0s\n",
      "[Pipeline] .......... (step 1 of 1) Processing pipeline, total=   0.0s\n",
      "[Pipeline] ...... (step 2 of 3) Processing minmaxscaler, total=   0.0s\n",
      "[Pipeline]  (step 3 of 3) Processing randomforestregressor, total=   0.1s\n",
      "[Pipeline]  (step 1 of 1) Processing transformedtargetregressor, total=   0.1s\n"
     ]
    },
    {
     "data": {
      "text/html": [
       "<style>#sk-container-id-6 {color: black;background-color: white;}#sk-container-id-6 pre{padding: 0;}#sk-container-id-6 div.sk-toggleable {background-color: white;}#sk-container-id-6 label.sk-toggleable__label {cursor: pointer;display: block;width: 100%;margin-bottom: 0;padding: 0.3em;box-sizing: border-box;text-align: center;}#sk-container-id-6 label.sk-toggleable__label-arrow:before {content: \"▸\";float: left;margin-right: 0.25em;color: #696969;}#sk-container-id-6 label.sk-toggleable__label-arrow:hover:before {color: black;}#sk-container-id-6 div.sk-estimator:hover label.sk-toggleable__label-arrow:before {color: black;}#sk-container-id-6 div.sk-toggleable__content {max-height: 0;max-width: 0;overflow: hidden;text-align: left;background-color: #f0f8ff;}#sk-container-id-6 div.sk-toggleable__content pre {margin: 0.2em;color: black;border-radius: 0.25em;background-color: #f0f8ff;}#sk-container-id-6 input.sk-toggleable__control:checked~div.sk-toggleable__content {max-height: 200px;max-width: 100%;overflow: auto;}#sk-container-id-6 input.sk-toggleable__control:checked~label.sk-toggleable__label-arrow:before {content: \"▾\";}#sk-container-id-6 div.sk-estimator input.sk-toggleable__control:checked~label.sk-toggleable__label {background-color: #d4ebff;}#sk-container-id-6 div.sk-label input.sk-toggleable__control:checked~label.sk-toggleable__label {background-color: #d4ebff;}#sk-container-id-6 input.sk-hidden--visually {border: 0;clip: rect(1px 1px 1px 1px);clip: rect(1px, 1px, 1px, 1px);height: 1px;margin: -1px;overflow: hidden;padding: 0;position: absolute;width: 1px;}#sk-container-id-6 div.sk-estimator {font-family: monospace;background-color: #f0f8ff;border: 1px dotted black;border-radius: 0.25em;box-sizing: border-box;margin-bottom: 0.5em;}#sk-container-id-6 div.sk-estimator:hover {background-color: #d4ebff;}#sk-container-id-6 div.sk-parallel-item::after {content: \"\";width: 100%;border-bottom: 1px solid gray;flex-grow: 1;}#sk-container-id-6 div.sk-label:hover label.sk-toggleable__label {background-color: #d4ebff;}#sk-container-id-6 div.sk-serial::before {content: \"\";position: absolute;border-left: 1px solid gray;box-sizing: border-box;top: 0;bottom: 0;left: 50%;z-index: 0;}#sk-container-id-6 div.sk-serial {display: flex;flex-direction: column;align-items: center;background-color: white;padding-right: 0.2em;padding-left: 0.2em;position: relative;}#sk-container-id-6 div.sk-item {position: relative;z-index: 1;}#sk-container-id-6 div.sk-parallel {display: flex;align-items: stretch;justify-content: center;background-color: white;position: relative;}#sk-container-id-6 div.sk-item::before, #sk-container-id-6 div.sk-parallel-item::before {content: \"\";position: absolute;border-left: 1px solid gray;box-sizing: border-box;top: 0;bottom: 0;left: 50%;z-index: -1;}#sk-container-id-6 div.sk-parallel-item {display: flex;flex-direction: column;z-index: 1;position: relative;background-color: white;}#sk-container-id-6 div.sk-parallel-item:first-child::after {align-self: flex-end;width: 50%;}#sk-container-id-6 div.sk-parallel-item:last-child::after {align-self: flex-start;width: 50%;}#sk-container-id-6 div.sk-parallel-item:only-child::after {width: 0;}#sk-container-id-6 div.sk-dashed-wrapped {border: 1px dashed gray;margin: 0 0.4em 0.5em 0.4em;box-sizing: border-box;padding-bottom: 0.4em;background-color: white;}#sk-container-id-6 div.sk-label label {font-family: monospace;font-weight: bold;display: inline-block;line-height: 1.2em;}#sk-container-id-6 div.sk-label-container {text-align: center;}#sk-container-id-6 div.sk-container {/* jupyter's `normalize.less` sets `[hidden] { display: none; }` but bootstrap.min.css set `[hidden] { display: none !important; }` so we also need the `!important` here to be able to override the default hidden behavior on the sphinx rendered scikit-learn.org. See: https://github.com/scikit-learn/scikit-learn/issues/21755 */display: inline-block !important;position: relative;}#sk-container-id-6 div.sk-text-repr-fallback {display: none;}</style><div id=\"sk-container-id-6\" class=\"sk-top-container\"><div class=\"sk-text-repr-fallback\"><pre>Pipeline(memory=&#x27;cache&#x27;,\n",
       "         steps=[(&#x27;transformedtargetregressor&#x27;,\n",
       "                 TransformedTargetRegressor(check_inverse=False,\n",
       "                                            regressor=Pipeline(memory=&#x27;cache&#x27;,\n",
       "                                                               steps=[(&#x27;pipeline&#x27;,\n",
       "                                                                       Pipeline(memory=&#x27;cache&#x27;,\n",
       "                                                                                steps=[(&#x27;pipeline&#x27;,\n",
       "                                                                                        Pipeline(memory=&#x27;cache&#x27;,\n",
       "                                                                                                 steps=[(&#x27;functiontransformer-1&#x27;,\n",
       "                                                                                                         FunctionTransformer(func=functools.partial(&lt;function time_series_imputer at 0x7f7973df93f0&gt;, m...\n",
       "                                                                                          FunctionTransformer(func=functools.partial(&lt;function time_series_imputer at 0x7f7973df93f0&gt;, method=&#x27;bfill&#x27;))),\n",
       "                                                                                         (&#x27;functiontransformer-2&#x27;,\n",
       "                                                                                          FunctionTransformer(func=functools.partial(&lt;function time_series_imputer at 0x7f7973df93f0&gt;, method=&#x27;ffill&#x27;))),\n",
       "                                                                                         (&#x27;logtransformer&#x27;,\n",
       "                                                                                          LogTransformer()),\n",
       "                                                                                         (&#x27;differencetransformer&#x27;,\n",
       "                                                                                          DifferenceTransformer(num_observed_points=0))],\n",
       "                                                                                  verbose=True))],\n",
       "                                                                 verbose=True)))],\n",
       "         verbose=True)</pre><b>In a Jupyter environment, please rerun this cell to show the HTML representation or trust the notebook. <br />On GitHub, the HTML representation is unable to render, please try loading this page with nbviewer.org.</b></div><div class=\"sk-container\" hidden><div class=\"sk-item sk-dashed-wrapped\"><div class=\"sk-label-container\"><div class=\"sk-label sk-toggleable\"><input class=\"sk-toggleable__control sk-hidden--visually\" id=\"sk-estimator-id-92\" type=\"checkbox\" ><label for=\"sk-estimator-id-92\" class=\"sk-toggleable__label sk-toggleable__label-arrow\">Pipeline</label><div class=\"sk-toggleable__content\"><pre>Pipeline(memory=&#x27;cache&#x27;,\n",
       "         steps=[(&#x27;transformedtargetregressor&#x27;,\n",
       "                 TransformedTargetRegressor(check_inverse=False,\n",
       "                                            regressor=Pipeline(memory=&#x27;cache&#x27;,\n",
       "                                                               steps=[(&#x27;pipeline&#x27;,\n",
       "                                                                       Pipeline(memory=&#x27;cache&#x27;,\n",
       "                                                                                steps=[(&#x27;pipeline&#x27;,\n",
       "                                                                                        Pipeline(memory=&#x27;cache&#x27;,\n",
       "                                                                                                 steps=[(&#x27;functiontransformer-1&#x27;,\n",
       "                                                                                                         FunctionTransformer(func=functools.partial(&lt;function time_series_imputer at 0x7f7973df93f0&gt;, m...\n",
       "                                                                                          FunctionTransformer(func=functools.partial(&lt;function time_series_imputer at 0x7f7973df93f0&gt;, method=&#x27;bfill&#x27;))),\n",
       "                                                                                         (&#x27;functiontransformer-2&#x27;,\n",
       "                                                                                          FunctionTransformer(func=functools.partial(&lt;function time_series_imputer at 0x7f7973df93f0&gt;, method=&#x27;ffill&#x27;))),\n",
       "                                                                                         (&#x27;logtransformer&#x27;,\n",
       "                                                                                          LogTransformer()),\n",
       "                                                                                         (&#x27;differencetransformer&#x27;,\n",
       "                                                                                          DifferenceTransformer(num_observed_points=0))],\n",
       "                                                                                  verbose=True))],\n",
       "                                                                 verbose=True)))],\n",
       "         verbose=True)</pre></div></div></div><div class=\"sk-serial\"><div class=\"sk-item sk-dashed-wrapped\"><div class=\"sk-label-container\"><div class=\"sk-label sk-toggleable\"><input class=\"sk-toggleable__control sk-hidden--visually\" id=\"sk-estimator-id-93\" type=\"checkbox\" ><label for=\"sk-estimator-id-93\" class=\"sk-toggleable__label sk-toggleable__label-arrow\">transformedtargetregressor: TransformedTargetRegressor</label><div class=\"sk-toggleable__content\"><pre>TransformedTargetRegressor(check_inverse=False,\n",
       "                           regressor=Pipeline(memory=&#x27;cache&#x27;,\n",
       "                                              steps=[(&#x27;pipeline&#x27;,\n",
       "                                                      Pipeline(memory=&#x27;cache&#x27;,\n",
       "                                                               steps=[(&#x27;pipeline&#x27;,\n",
       "                                                                       Pipeline(memory=&#x27;cache&#x27;,\n",
       "                                                                                steps=[(&#x27;functiontransformer-1&#x27;,\n",
       "                                                                                        FunctionTransformer(func=functools.partial(&lt;function time_series_imputer at 0x7f7973df93f0&gt;, method=&#x27;bfill&#x27;))),\n",
       "                                                                                       (&#x27;functiontransformer-2&#x27;,\n",
       "                                                                                        FunctionTransformer...\n",
       "                                                                         FunctionTransformer(func=functools.partial(&lt;function time_series_imputer at 0x7f7973df93f0&gt;, method=&#x27;bfill&#x27;))),\n",
       "                                                                        (&#x27;functiontransformer-2&#x27;,\n",
       "                                                                         FunctionTransformer(func=functools.partial(&lt;function time_series_imputer at 0x7f7973df93f0&gt;, method=&#x27;ffill&#x27;))),\n",
       "                                                                        (&#x27;logtransformer&#x27;,\n",
       "                                                                         LogTransformer()),\n",
       "                                                                        (&#x27;differencetransformer&#x27;,\n",
       "                                                                         DifferenceTransformer(num_observed_points=0))],\n",
       "                                                                 verbose=True))],\n",
       "                                                verbose=True))</pre></div></div></div><div class=\"sk-parallel\"><div class=\"sk-parallel-item\"><div class=\"sk-item\"><div class=\"sk-label-container\"><div class=\"sk-label sk-toggleable\"><input class=\"sk-toggleable__control sk-hidden--visually\" id=\"sk-estimator-id-94\" type=\"checkbox\" ><label for=\"sk-estimator-id-94\" class=\"sk-toggleable__label sk-toggleable__label-arrow\">regressor: Pipeline</label><div class=\"sk-toggleable__content\"><pre>Pipeline(memory=&#x27;cache&#x27;,\n",
       "         steps=[(&#x27;pipeline&#x27;,\n",
       "                 Pipeline(memory=&#x27;cache&#x27;,\n",
       "                          steps=[(&#x27;pipeline&#x27;,\n",
       "                                  Pipeline(memory=&#x27;cache&#x27;,\n",
       "                                           steps=[(&#x27;functiontransformer-1&#x27;,\n",
       "                                                   FunctionTransformer(func=functools.partial(&lt;function time_series_imputer at 0x7f7973df93f0&gt;, method=&#x27;bfill&#x27;))),\n",
       "                                                  (&#x27;functiontransformer-2&#x27;,\n",
       "                                                   FunctionTransformer(func=functools.partial(&lt;function time_series_imputer at 0x7...\n",
       "                                  FunctionTransformer(func=functools.partial(&lt;function time_series_imputer at 0x7f7973df93f0&gt;, method=&#x27;bfill&#x27;))),\n",
       "                                 (&#x27;functiontransformer-2&#x27;,\n",
       "                                  FunctionTransformer(func=functools.partial(&lt;function time_series_imputer at 0x7f7973df93f0&gt;, method=&#x27;ffill&#x27;))),\n",
       "                                 (&#x27;droprowstransformer&#x27;,\n",
       "                                  DropRowsTransformer(num_rows=5))],\n",
       "                          verbose=True)),\n",
       "                (&#x27;minmaxscaler&#x27;, MinMaxScaler()),\n",
       "                (&#x27;randomforestregressor&#x27;, RandomForestRegressor())],\n",
       "         verbose=True)</pre></div></div></div><div class=\"sk-serial\"><div class=\"sk-item\"><div class=\"sk-serial\"><div class=\"sk-item\"><div class=\"sk-label-container\"><div class=\"sk-label sk-toggleable\"><input class=\"sk-toggleable__control sk-hidden--visually\" id=\"sk-estimator-id-95\" type=\"checkbox\" ><label for=\"sk-estimator-id-95\" class=\"sk-toggleable__label sk-toggleable__label-arrow\">pipeline: Pipeline</label><div class=\"sk-toggleable__content\"><pre>Pipeline(memory=&#x27;cache&#x27;,\n",
       "         steps=[(&#x27;pipeline&#x27;,\n",
       "                 Pipeline(memory=&#x27;cache&#x27;,\n",
       "                          steps=[(&#x27;functiontransformer-1&#x27;,\n",
       "                                  FunctionTransformer(func=functools.partial(&lt;function time_series_imputer at 0x7f7973df93f0&gt;, method=&#x27;bfill&#x27;))),\n",
       "                                 (&#x27;functiontransformer-2&#x27;,\n",
       "                                  FunctionTransformer(func=functools.partial(&lt;function time_series_imputer at 0x7f7973df93f0&gt;, method=&#x27;ffill&#x27;))),\n",
       "                                 (&#x27;logtransfo...\n",
       "                                                  [&#x27;locations&#x27;])])),\n",
       "                (&#x27;functiontransformer-1&#x27;,\n",
       "                 FunctionTransformer(func=functools.partial(&lt;function time_series_imputer at 0x7f7973df93f0&gt;, method=&#x27;bfill&#x27;))),\n",
       "                (&#x27;functiontransformer-2&#x27;,\n",
       "                 FunctionTransformer(func=functools.partial(&lt;function time_series_imputer at 0x7f7973df93f0&gt;, method=&#x27;ffill&#x27;))),\n",
       "                (&#x27;droprowstransformer&#x27;, DropRowsTransformer(num_rows=5))],\n",
       "         verbose=True)</pre></div></div></div><div class=\"sk-serial\"><div class=\"sk-item\"><div class=\"sk-label-container\"><div class=\"sk-label sk-toggleable\"><input class=\"sk-toggleable__control sk-hidden--visually\" id=\"sk-estimator-id-96\" type=\"checkbox\" ><label for=\"sk-estimator-id-96\" class=\"sk-toggleable__label sk-toggleable__label-arrow\">pipeline: Pipeline</label><div class=\"sk-toggleable__content\"><pre>Pipeline(memory=&#x27;cache&#x27;,\n",
       "         steps=[(&#x27;functiontransformer-1&#x27;,\n",
       "                 FunctionTransformer(func=functools.partial(&lt;function time_series_imputer at 0x7f7973df93f0&gt;, method=&#x27;bfill&#x27;))),\n",
       "                (&#x27;functiontransformer-2&#x27;,\n",
       "                 FunctionTransformer(func=functools.partial(&lt;function time_series_imputer at 0x7f7973df93f0&gt;, method=&#x27;ffill&#x27;))),\n",
       "                (&#x27;logtransformer&#x27;, LogTransformer()),\n",
       "                (&#x27;differencetransformer&#x27;,\n",
       "                 DifferenceTransformer(num_observed_points=5))],\n",
       "         verbose=True)</pre></div></div></div><div class=\"sk-serial\"><div class=\"sk-item\"><div class=\"sk-estimator sk-toggleable\"><input class=\"sk-toggleable__control sk-hidden--visually\" id=\"sk-estimator-id-97\" type=\"checkbox\" ><label for=\"sk-estimator-id-97\" class=\"sk-toggleable__label sk-toggleable__label-arrow\">FunctionTransformer</label><div class=\"sk-toggleable__content\"><pre>FunctionTransformer(func=functools.partial(&lt;function time_series_imputer at 0x7f7973df93f0&gt;, method=&#x27;bfill&#x27;))</pre></div></div></div><div class=\"sk-item\"><div class=\"sk-estimator sk-toggleable\"><input class=\"sk-toggleable__control sk-hidden--visually\" id=\"sk-estimator-id-98\" type=\"checkbox\" ><label for=\"sk-estimator-id-98\" class=\"sk-toggleable__label sk-toggleable__label-arrow\">FunctionTransformer</label><div class=\"sk-toggleable__content\"><pre>FunctionTransformer(func=functools.partial(&lt;function time_series_imputer at 0x7f7973df93f0&gt;, method=&#x27;ffill&#x27;))</pre></div></div></div><div class=\"sk-item\"><div class=\"sk-estimator sk-toggleable\"><input class=\"sk-toggleable__control sk-hidden--visually\" id=\"sk-estimator-id-99\" type=\"checkbox\" ><label for=\"sk-estimator-id-99\" class=\"sk-toggleable__label sk-toggleable__label-arrow\">LogTransformer</label><div class=\"sk-toggleable__content\"><pre>LogTransformer()</pre></div></div></div><div class=\"sk-item\"><div class=\"sk-estimator sk-toggleable\"><input class=\"sk-toggleable__control sk-hidden--visually\" id=\"sk-estimator-id-100\" type=\"checkbox\" ><label for=\"sk-estimator-id-100\" class=\"sk-toggleable__label sk-toggleable__label-arrow\">DifferenceTransformer</label><div class=\"sk-toggleable__content\"><pre>DifferenceTransformer(num_observed_points=5)</pre></div></div></div></div></div><div class=\"sk-item sk-dashed-wrapped\"><div class=\"sk-label-container\"><div class=\"sk-label sk-toggleable\"><input class=\"sk-toggleable__control sk-hidden--visually\" id=\"sk-estimator-id-101\" type=\"checkbox\" ><label for=\"sk-estimator-id-101\" class=\"sk-toggleable__label sk-toggleable__label-arrow\">columntransformer: ColumnTransformer</label><div class=\"sk-toggleable__content\"><pre>ColumnTransformer(transformers=[(&#x27;featureunion-1&#x27;,\n",
       "                                 FeatureUnion(transformer_list=[(&#x27;functiontransformer&#x27;,\n",
       "                                                                 FunctionTransformer(func=functools.partial(&lt;function time_series_shift at 0x7f79743f49d0&gt;, n_past=5))),\n",
       "                                                                (&#x27;pipeline-1&#x27;,\n",
       "                                                                 Pipeline(steps=[(&#x27;functiontransformer-1&#x27;,\n",
       "                                                                                  FunctionTransformer(func=functools.partial(&lt;function rolling_average_transformer at 0x7f79743f4...\n",
       "                                                                 FunctionTransformer(func=functools.partial(&lt;function time_series_shift at 0x7f79743f49d0&gt;, n_past=5))),\n",
       "                                                                (&#x27;pipeline&#x27;,\n",
       "                                                                 Pipeline(steps=[(&#x27;functiontransformer-1&#x27;,\n",
       "                                                                                  FunctionTransformer(func=functools.partial(&lt;function rolling_average_transformer at 0x7f79743f4940&gt;, window=5))),\n",
       "                                                                                 (&#x27;functiontransformer-2&#x27;,\n",
       "                                                                                  FunctionTransformer(func=functools.partial(&lt;function time_series_shift at 0x7f79743f49d0&gt;, n_past=1)))]))]),\n",
       "                                 [&#x27;locations&#x27;])])</pre></div></div></div><div class=\"sk-parallel\"><div class=\"sk-parallel-item\"><div class=\"sk-item\"><div class=\"sk-label-container\"><div class=\"sk-label sk-toggleable\"><input class=\"sk-toggleable__control sk-hidden--visually\" id=\"sk-estimator-id-102\" type=\"checkbox\" ><label for=\"sk-estimator-id-102\" class=\"sk-toggleable__label sk-toggleable__label-arrow\">featureunion-1</label><div class=\"sk-toggleable__content\"><pre>[&#x27;mean_yield&#x27;]</pre></div></div></div><div class=\"sk-serial\"><div class=\"sk-item sk-dashed-wrapped\"><div class=\"sk-parallel\"><div class=\"sk-parallel-item\"><div class=\"sk-item\"><div class=\"sk-label-container\"><div class=\"sk-label sk-toggleable\"><label>functiontransformer</label></div></div><div class=\"sk-serial\"><div class=\"sk-item\"><div class=\"sk-estimator sk-toggleable\"><input class=\"sk-toggleable__control sk-hidden--visually\" id=\"sk-estimator-id-103\" type=\"checkbox\" ><label for=\"sk-estimator-id-103\" class=\"sk-toggleable__label sk-toggleable__label-arrow\">FunctionTransformer</label><div class=\"sk-toggleable__content\"><pre>FunctionTransformer(func=functools.partial(&lt;function time_series_shift at 0x7f79743f49d0&gt;, n_past=5))</pre></div></div></div></div></div></div><div class=\"sk-parallel-item\"><div class=\"sk-item\"><div class=\"sk-label-container\"><div class=\"sk-label sk-toggleable\"><label>pipeline-1</label></div></div><div class=\"sk-serial\"><div class=\"sk-item\"><div class=\"sk-serial\"><div class=\"sk-item\"><div class=\"sk-estimator sk-toggleable\"><input class=\"sk-toggleable__control sk-hidden--visually\" id=\"sk-estimator-id-104\" type=\"checkbox\" ><label for=\"sk-estimator-id-104\" class=\"sk-toggleable__label sk-toggleable__label-arrow\">FunctionTransformer</label><div class=\"sk-toggleable__content\"><pre>FunctionTransformer(func=functools.partial(&lt;function rolling_average_transformer at 0x7f79743f4940&gt;, window=5))</pre></div></div></div><div class=\"sk-item\"><div class=\"sk-estimator sk-toggleable\"><input class=\"sk-toggleable__control sk-hidden--visually\" id=\"sk-estimator-id-105\" type=\"checkbox\" ><label for=\"sk-estimator-id-105\" class=\"sk-toggleable__label sk-toggleable__label-arrow\">FunctionTransformer</label><div class=\"sk-toggleable__content\"><pre>FunctionTransformer(func=functools.partial(&lt;function time_series_shift at 0x7f79743f49d0&gt;, n_past=1))</pre></div></div></div></div></div></div></div></div><div class=\"sk-parallel-item\"><div class=\"sk-item\"><div class=\"sk-label-container\"><div class=\"sk-label sk-toggleable\"><label>pipeline-2</label></div></div><div class=\"sk-serial\"><div class=\"sk-item\"><div class=\"sk-serial\"><div class=\"sk-item\"><div class=\"sk-estimator sk-toggleable\"><input class=\"sk-toggleable__control sk-hidden--visually\" id=\"sk-estimator-id-106\" type=\"checkbox\" ><label for=\"sk-estimator-id-106\" class=\"sk-toggleable__label sk-toggleable__label-arrow\">FunctionTransformer</label><div class=\"sk-toggleable__content\"><pre>FunctionTransformer(func=functools.partial(&lt;function rolling_std_transformer at 0x7f79743f4820&gt;, window=5))</pre></div></div></div><div class=\"sk-item\"><div class=\"sk-estimator sk-toggleable\"><input class=\"sk-toggleable__control sk-hidden--visually\" id=\"sk-estimator-id-107\" type=\"checkbox\" ><label for=\"sk-estimator-id-107\" class=\"sk-toggleable__label sk-toggleable__label-arrow\">FunctionTransformer</label><div class=\"sk-toggleable__content\"><pre>FunctionTransformer(func=functools.partial(&lt;function time_series_shift at 0x7f79743f49d0&gt;, n_past=1))</pre></div></div></div></div></div></div></div></div><div class=\"sk-parallel-item\"><div class=\"sk-item\"><div class=\"sk-label-container\"><div class=\"sk-label sk-toggleable\"><label>pipeline-3</label></div></div><div class=\"sk-serial\"><div class=\"sk-item\"><div class=\"sk-serial\"><div class=\"sk-item\"><div class=\"sk-estimator sk-toggleable\"><input class=\"sk-toggleable__control sk-hidden--visually\" id=\"sk-estimator-id-108\" type=\"checkbox\" ><label for=\"sk-estimator-id-108\" class=\"sk-toggleable__label sk-toggleable__label-arrow\">FunctionTransformer</label><div class=\"sk-toggleable__content\"><pre>FunctionTransformer(func=functools.partial(&lt;function rolling_median_transformer at 0x7f79743f48b0&gt;, window=5))</pre></div></div></div><div class=\"sk-item\"><div class=\"sk-estimator sk-toggleable\"><input class=\"sk-toggleable__control sk-hidden--visually\" id=\"sk-estimator-id-109\" type=\"checkbox\" ><label for=\"sk-estimator-id-109\" class=\"sk-toggleable__label sk-toggleable__label-arrow\">FunctionTransformer</label><div class=\"sk-toggleable__content\"><pre>FunctionTransformer(func=functools.partial(&lt;function time_series_shift at 0x7f79743f49d0&gt;, n_past=1))</pre></div></div></div></div></div></div></div></div></div></div></div></div></div><div class=\"sk-parallel-item\"><div class=\"sk-item\"><div class=\"sk-label-container\"><div class=\"sk-label sk-toggleable\"><input class=\"sk-toggleable__control sk-hidden--visually\" id=\"sk-estimator-id-110\" type=\"checkbox\" ><label for=\"sk-estimator-id-110\" class=\"sk-toggleable__label sk-toggleable__label-arrow\">featureunion-2</label><div class=\"sk-toggleable__content\"><pre>[&#x27;locations&#x27;]</pre></div></div></div><div class=\"sk-serial\"><div class=\"sk-item sk-dashed-wrapped\"><div class=\"sk-parallel\"><div class=\"sk-parallel-item\"><div class=\"sk-item\"><div class=\"sk-label-container\"><div class=\"sk-label sk-toggleable\"><label>functiontransformer</label></div></div><div class=\"sk-serial\"><div class=\"sk-item\"><div class=\"sk-estimator sk-toggleable\"><input class=\"sk-toggleable__control sk-hidden--visually\" id=\"sk-estimator-id-111\" type=\"checkbox\" ><label for=\"sk-estimator-id-111\" class=\"sk-toggleable__label sk-toggleable__label-arrow\">FunctionTransformer</label><div class=\"sk-toggleable__content\"><pre>FunctionTransformer(func=functools.partial(&lt;function time_series_shift at 0x7f79743f49d0&gt;, n_past=5))</pre></div></div></div></div></div></div><div class=\"sk-parallel-item\"><div class=\"sk-item\"><div class=\"sk-label-container\"><div class=\"sk-label sk-toggleable\"><label>pipeline</label></div></div><div class=\"sk-serial\"><div class=\"sk-item\"><div class=\"sk-serial\"><div class=\"sk-item\"><div class=\"sk-estimator sk-toggleable\"><input class=\"sk-toggleable__control sk-hidden--visually\" id=\"sk-estimator-id-112\" type=\"checkbox\" ><label for=\"sk-estimator-id-112\" class=\"sk-toggleable__label sk-toggleable__label-arrow\">FunctionTransformer</label><div class=\"sk-toggleable__content\"><pre>FunctionTransformer(func=functools.partial(&lt;function rolling_average_transformer at 0x7f79743f4940&gt;, window=5))</pre></div></div></div><div class=\"sk-item\"><div class=\"sk-estimator sk-toggleable\"><input class=\"sk-toggleable__control sk-hidden--visually\" id=\"sk-estimator-id-113\" type=\"checkbox\" ><label for=\"sk-estimator-id-113\" class=\"sk-toggleable__label sk-toggleable__label-arrow\">FunctionTransformer</label><div class=\"sk-toggleable__content\"><pre>FunctionTransformer(func=functools.partial(&lt;function time_series_shift at 0x7f79743f49d0&gt;, n_past=1))</pre></div></div></div></div></div></div></div></div></div></div></div></div></div></div></div><div class=\"sk-item\"><div class=\"sk-estimator sk-toggleable\"><input class=\"sk-toggleable__control sk-hidden--visually\" id=\"sk-estimator-id-114\" type=\"checkbox\" ><label for=\"sk-estimator-id-114\" class=\"sk-toggleable__label sk-toggleable__label-arrow\">FunctionTransformer</label><div class=\"sk-toggleable__content\"><pre>FunctionTransformer(func=functools.partial(&lt;function time_series_imputer at 0x7f7973df93f0&gt;, method=&#x27;bfill&#x27;))</pre></div></div></div><div class=\"sk-item\"><div class=\"sk-estimator sk-toggleable\"><input class=\"sk-toggleable__control sk-hidden--visually\" id=\"sk-estimator-id-115\" type=\"checkbox\" ><label for=\"sk-estimator-id-115\" class=\"sk-toggleable__label sk-toggleable__label-arrow\">FunctionTransformer</label><div class=\"sk-toggleable__content\"><pre>FunctionTransformer(func=functools.partial(&lt;function time_series_imputer at 0x7f7973df93f0&gt;, method=&#x27;ffill&#x27;))</pre></div></div></div><div class=\"sk-item\"><div class=\"sk-estimator sk-toggleable\"><input class=\"sk-toggleable__control sk-hidden--visually\" id=\"sk-estimator-id-116\" type=\"checkbox\" ><label for=\"sk-estimator-id-116\" class=\"sk-toggleable__label sk-toggleable__label-arrow\">DropRowsTransformer</label><div class=\"sk-toggleable__content\"><pre>DropRowsTransformer(num_rows=5)</pre></div></div></div></div></div><div class=\"sk-item\"><div class=\"sk-estimator sk-toggleable\"><input class=\"sk-toggleable__control sk-hidden--visually\" id=\"sk-estimator-id-117\" type=\"checkbox\" ><label for=\"sk-estimator-id-117\" class=\"sk-toggleable__label sk-toggleable__label-arrow\">MinMaxScaler</label><div class=\"sk-toggleable__content\"><pre>MinMaxScaler()</pre></div></div></div><div class=\"sk-item\"><div class=\"sk-estimator sk-toggleable\"><input class=\"sk-toggleable__control sk-hidden--visually\" id=\"sk-estimator-id-118\" type=\"checkbox\" ><label for=\"sk-estimator-id-118\" class=\"sk-toggleable__label sk-toggleable__label-arrow\">RandomForestRegressor</label><div class=\"sk-toggleable__content\"><pre>RandomForestRegressor()</pre></div></div></div></div></div></div></div></div><div class=\"sk-parallel-item\"><div class=\"sk-item\"><div class=\"sk-label-container\"><div class=\"sk-label sk-toggleable\"><input class=\"sk-toggleable__control sk-hidden--visually\" id=\"sk-estimator-id-119\" type=\"checkbox\" ><label for=\"sk-estimator-id-119\" class=\"sk-toggleable__label sk-toggleable__label-arrow\">transformer: Pipeline</label><div class=\"sk-toggleable__content\"><pre>Pipeline(memory=&#x27;cache&#x27;,\n",
       "         steps=[(&#x27;pipeline&#x27;,\n",
       "                 Pipeline(memory=&#x27;cache&#x27;,\n",
       "                          steps=[(&#x27;functiontransformer-1&#x27;,\n",
       "                                  FunctionTransformer(func=functools.partial(&lt;function time_series_imputer at 0x7f7973df93f0&gt;, method=&#x27;bfill&#x27;))),\n",
       "                                 (&#x27;functiontransformer-2&#x27;,\n",
       "                                  FunctionTransformer(func=functools.partial(&lt;function time_series_imputer at 0x7f7973df93f0&gt;, method=&#x27;ffill&#x27;))),\n",
       "                                 (&#x27;logtransformer&#x27;, LogTransformer()),\n",
       "                                 (&#x27;differencetransformer&#x27;,\n",
       "                                  DifferenceTransformer(num_observed_points=0))],\n",
       "                          verbose=True))],\n",
       "         verbose=True)</pre></div></div></div><div class=\"sk-serial\"><div class=\"sk-item\"><div class=\"sk-serial\"><div class=\"sk-item\"><div class=\"sk-label-container\"><div class=\"sk-label sk-toggleable\"><input class=\"sk-toggleable__control sk-hidden--visually\" id=\"sk-estimator-id-120\" type=\"checkbox\" ><label for=\"sk-estimator-id-120\" class=\"sk-toggleable__label sk-toggleable__label-arrow\">pipeline: Pipeline</label><div class=\"sk-toggleable__content\"><pre>Pipeline(memory=&#x27;cache&#x27;,\n",
       "         steps=[(&#x27;functiontransformer-1&#x27;,\n",
       "                 FunctionTransformer(func=functools.partial(&lt;function time_series_imputer at 0x7f7973df93f0&gt;, method=&#x27;bfill&#x27;))),\n",
       "                (&#x27;functiontransformer-2&#x27;,\n",
       "                 FunctionTransformer(func=functools.partial(&lt;function time_series_imputer at 0x7f7973df93f0&gt;, method=&#x27;ffill&#x27;))),\n",
       "                (&#x27;logtransformer&#x27;, LogTransformer()),\n",
       "                (&#x27;differencetransformer&#x27;,\n",
       "                 DifferenceTransformer(num_observed_points=0))],\n",
       "         verbose=True)</pre></div></div></div><div class=\"sk-serial\"><div class=\"sk-item\"><div class=\"sk-estimator sk-toggleable\"><input class=\"sk-toggleable__control sk-hidden--visually\" id=\"sk-estimator-id-121\" type=\"checkbox\" ><label for=\"sk-estimator-id-121\" class=\"sk-toggleable__label sk-toggleable__label-arrow\">FunctionTransformer</label><div class=\"sk-toggleable__content\"><pre>FunctionTransformer(func=functools.partial(&lt;function time_series_imputer at 0x7f7973df93f0&gt;, method=&#x27;bfill&#x27;))</pre></div></div></div><div class=\"sk-item\"><div class=\"sk-estimator sk-toggleable\"><input class=\"sk-toggleable__control sk-hidden--visually\" id=\"sk-estimator-id-122\" type=\"checkbox\" ><label for=\"sk-estimator-id-122\" class=\"sk-toggleable__label sk-toggleable__label-arrow\">FunctionTransformer</label><div class=\"sk-toggleable__content\"><pre>FunctionTransformer(func=functools.partial(&lt;function time_series_imputer at 0x7f7973df93f0&gt;, method=&#x27;ffill&#x27;))</pre></div></div></div><div class=\"sk-item\"><div class=\"sk-estimator sk-toggleable\"><input class=\"sk-toggleable__control sk-hidden--visually\" id=\"sk-estimator-id-123\" type=\"checkbox\" ><label for=\"sk-estimator-id-123\" class=\"sk-toggleable__label sk-toggleable__label-arrow\">LogTransformer</label><div class=\"sk-toggleable__content\"><pre>LogTransformer()</pre></div></div></div><div class=\"sk-item\"><div class=\"sk-estimator sk-toggleable\"><input class=\"sk-toggleable__control sk-hidden--visually\" id=\"sk-estimator-id-124\" type=\"checkbox\" ><label for=\"sk-estimator-id-124\" class=\"sk-toggleable__label sk-toggleable__label-arrow\">DifferenceTransformer</label><div class=\"sk-toggleable__content\"><pre>DifferenceTransformer(num_observed_points=0)</pre></div></div></div></div></div></div></div></div></div></div></div></div></div></div></div></div>"
      ],
      "text/plain": [
       "Pipeline(memory='cache',\n",
       "         steps=[('transformedtargetregressor',\n",
       "                 TransformedTargetRegressor(check_inverse=False,\n",
       "                                            regressor=Pipeline(memory='cache',\n",
       "                                                               steps=[('pipeline',\n",
       "                                                                       Pipeline(memory='cache',\n",
       "                                                                                steps=[('pipeline',\n",
       "                                                                                        Pipeline(memory='cache',\n",
       "                                                                                                 steps=[('functiontransformer-1',\n",
       "                                                                                                         FunctionTransformer(func=functools.partial(<function time_series_imputer at 0x7f7973df93f0>, m...\n",
       "                                                                                          FunctionTransformer(func=functools.partial(<function time_series_imputer at 0x7f7973df93f0>, method='bfill'))),\n",
       "                                                                                         ('functiontransformer-2',\n",
       "                                                                                          FunctionTransformer(func=functools.partial(<function time_series_imputer at 0x7f7973df93f0>, method='ffill'))),\n",
       "                                                                                         ('logtransformer',\n",
       "                                                                                          LogTransformer()),\n",
       "                                                                                         ('differencetransformer',\n",
       "                                                                                          DifferenceTransformer(num_observed_points=0))],\n",
       "                                                                                  verbose=True))],\n",
       "                                                                 verbose=True)))],\n",
       "         verbose=True)"
      ]
     },
     "execution_count": 45,
     "metadata": {},
     "output_type": "execute_result"
    }
   ],
   "source": [
    "pipeline.fit(X = X_train.copy(), y= y_train.copy())"
   ]
  },
  {
   "cell_type": "code",
   "execution_count": 46,
   "metadata": {},
   "outputs": [
    {
     "name": "stderr",
     "output_type": "stream",
     "text": [
      "DEBUG:sklearn-pipelines:time_series_imputer (transform): (10, 2)\n",
      "DEBUG:sklearn-pipelines:time_series_imputer (transform): (10, 2)\n",
      "DEBUG:sklearn-pipelines:LogTransformer (transform): (10, 2)\n",
      "DEBUG:sklearn-pipelines:DifferenceTransformer (transform): (9, 2)\n",
      "DEBUG:sklearn-pipelines:time_series_shift (transform): (9, 5)\n",
      "DEBUG:sklearn-pipelines:rolling_average_transformer (transform): (9, 1)\n",
      "DEBUG:sklearn-pipelines:time_series_shift (transform): (9, 1)\n",
      "DEBUG:sklearn-pipelines:rolling_std_transformer (transform): (9, 1)\n",
      "DEBUG:sklearn-pipelines:time_series_shift (transform): (9, 1)\n",
      "DEBUG:sklearn-pipelines:rolling_median_transformer (transform): (9, 1)\n",
      "DEBUG:sklearn-pipelines:time_series_shift (transform): (9, 1)\n",
      "DEBUG:sklearn-pipelines:time_series_shift (transform): (9, 5)\n",
      "DEBUG:sklearn-pipelines:rolling_average_transformer (transform): (9, 1)\n",
      "DEBUG:sklearn-pipelines:time_series_shift (transform): (9, 1)\n",
      "DEBUG:sklearn-pipelines:time_series_imputer (transform): (9, 14)\n",
      "DEBUG:sklearn-pipelines:time_series_imputer (transform): (9, 14)\n",
      "DEBUG:sklearn-pipelines:DropRowsTransformer (transform): (4, 14)\n",
      "DEBUG:sklearn-pipelines:DifferenceTransformer (inverse_transform): (5, 1)\n",
      "DEBUG:sklearn-pipelines:LogTransformer (inverse_transform): (5, 1)\n"
     ]
    },
    {
     "data": {
      "text/plain": [
       "26    4.026584\n",
       "0     4.082920\n",
       "1     4.033498\n",
       "2     4.086468\n",
       "3     4.298615\n",
       "Name: 0, dtype: float64"
      ]
     },
     "execution_count": 46,
     "metadata": {},
     "output_type": "execute_result"
    }
   ],
   "source": [
    "y_pred = pipeline.predict(X_test.copy())\n",
    "y_pred"
   ]
  },
  {
   "attachments": {},
   "cell_type": "markdown",
   "metadata": {},
   "source": [
    "Test"
   ]
  },
  {
   "cell_type": "code",
   "execution_count": 47,
   "metadata": {},
   "outputs": [
    {
     "data": {
      "text/plain": [
       "4"
      ]
     },
     "execution_count": 47,
     "metadata": {},
     "output_type": "execute_result"
    }
   ],
   "source": [
    "SIZE_TEST_SPLIT"
   ]
  },
  {
   "cell_type": "code",
   "execution_count": 48,
   "metadata": {},
   "outputs": [
    {
     "data": {
      "text/plain": [
       "2013    4.190502\n",
       "2014    4.151844\n",
       "2015    3.911601\n",
       "2016    4.293674\n",
       "Name: mean_yield, dtype: float32"
      ]
     },
     "execution_count": 48,
     "metadata": {},
     "output_type": "execute_result"
    }
   ],
   "source": [
    "y_test[-4:]"
   ]
  },
  {
   "cell_type": "code",
   "execution_count": 49,
   "metadata": {},
   "outputs": [
    {
     "data": {
      "text/plain": [
       "2012    4.026584\n",
       "2013    4.190502\n",
       "2014    4.151844\n",
       "2015    3.911601\n",
       "2016    4.293674\n",
       "Name: mean_yield, dtype: float32"
      ]
     },
     "execution_count": 49,
     "metadata": {},
     "output_type": "execute_result"
    }
   ],
   "source": [
    "y_test"
   ]
  },
  {
   "cell_type": "code",
   "execution_count": 50,
   "metadata": {},
   "outputs": [],
   "source": [
    "def evaluate(y_test, y_pred):\n",
    "    y_test = y_test.iloc[-SIZE_TEST_SPLIT:]\n",
    "    y_pred = y_pred.iloc[-SIZE_TEST_SPLIT:]\n",
    "\n",
    "    logger.info(f\"RMSE: {mean_squared_error(y_test, y_pred, squared=False):.6f}\")\n",
    "    logger.info(f\"MAPE: {mean_absolute_percentage_error(y_test, y_pred):.6f}\")"
   ]
  },
  {
   "cell_type": "code",
   "execution_count": 51,
   "metadata": {},
   "outputs": [
    {
     "name": "stderr",
     "output_type": "stream",
     "text": [
      "INFO:sklearn-pipelines:RMSE: 0.118514\n",
      "INFO:sklearn-pipelines:MAPE: 0.025008\n"
     ]
    }
   ],
   "source": [
    "evaluate(y_test, y_pred)"
   ]
  },
  {
   "cell_type": "code",
   "execution_count": null,
   "metadata": {},
   "outputs": [],
   "source": []
  }
 ],
 "metadata": {
  "kernelspec": {
   "display_name": "base",
   "language": "python",
   "name": "python3"
  },
  "language_info": {
   "codemirror_mode": {
    "name": "ipython",
    "version": 3
   },
   "file_extension": ".py",
   "mimetype": "text/x-python",
   "name": "python",
   "nbconvert_exporter": "python",
   "pygments_lexer": "ipython3",
   "version": "3.10.9"
  },
  "orig_nbformat": 4
 },
 "nbformat": 4,
 "nbformat_minor": 2
}
