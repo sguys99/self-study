{
 "cells": [
  {
   "attachments": {},
   "cell_type": "markdown",
   "metadata": {},
   "source": [
    "## 02 - Preprocessing London Smart Meter Dataset\n",
    "\n",
    "- https://github.com/PacktPublishing/Modern-Time-Series-Forecasting-with-Python/blob/main/notebooks/Chapter02/02%20-%20Preprocessing%20London%20Smart%20Meter%20Dataset.ipynb"
   ]
  },
  {
   "cell_type": "code",
   "execution_count": 1,
   "metadata": {},
   "outputs": [],
   "source": [
    "\n",
    "import os\n",
    "import sys\n",
    "import time\n",
    "import numpy as np\n",
    "import pandas as pd\n",
    "import matplotlib as mpl\n",
    "import matplotlib.pyplot as plt\n",
    "import warnings; warnings.filterwarnings('ignore')\n",
    "plt.style.use(\"seaborn-v0_8-whitegrid\")\n",
    "%matplotlib inline\n",
    "\n",
    "pd.options.display.max_columns = 999"
   ]
  },
  {
   "cell_type": "code",
   "execution_count": 2,
   "metadata": {},
   "outputs": [],
   "source": [
    "#!pip install git+https://github.com/TimeSynth/TimeSynth.git"
   ]
  },
  {
   "cell_type": "code",
   "execution_count": 3,
   "metadata": {},
   "outputs": [],
   "source": [
    "import numpy as np\n",
    "import matplotlib.pyplot as plt\n",
    "import plotly.express as px\n",
    "import os\n",
    "import plotly.io as pio\n",
    "pio.templates.default = \"plotly_white\"\n",
    "import pandas as pd\n",
    "from pathlib import Path\n",
    "from tqdm.autonotebook import tqdm\n",
    "# %load_ext autoreload\n",
    "# %autoreload 2\n",
    "np.random.seed()\n",
    "tqdm.pandas()"
   ]
  },
  {
   "cell_type": "markdown",
   "metadata": {},
   "source": [
    "## 데이터 집합 정보\n",
    "\n",
    "무료 개방형 데이터 공유 포털인 런던 데이터 스토어에서 이 데이터 세트를 제공했으며, Jean-Michel D.가 수집하고 보강하여 Kaggle(https://www.kaggle.com/jeanmidev/smart-meters-in-london)에 업로드했습니다. \n",
    "이 데이터 세트에는 2011년 11월부터 2014년 2월까지 영국 전력 네트워크가 주도한 저탄소 런던 프로젝트에 참여한 5,567개의 런던 가구 샘플에 대한 에너지 소비량 측정값이 포함되어 있습니다. 판독값은 30분 간격으로 측정되었습니다. 가구에 대한 일부 메타데이터도 데이터 세트의 일부로 제공됩니다.\n",
    "\n",
    "## 데이터 랭글링\n",
    "Kaggle 데이터 집합에는 일 단위로 사전 처리되고 모든 개별 파일 등을 결합한 시계열 데이터도 있습니다. 하지만 이러한 파일은 무시하고 hhblock_dataset 폴더에 있는 원시 파일부터 시작하겠습니다."
   ]
  },
  {
   "cell_type": "markdown",
   "metadata": {},
   "source": [
    "### Converting the half hourly block level dataset into a time series data \n",
    "\n",
    "Let's pick one block and see how we can transform the data."
   ]
  },
  {
   "cell_type": "code",
   "execution_count": 4,
   "metadata": {},
   "outputs": [],
   "source": [
    "source_data = Path(\"../data/london_smart_meters/\")\n",
    "block_data_path = source_data/\"hhblock_dataset\"/\"hhblock_dataset\""
   ]
  },
  {
   "cell_type": "code",
   "execution_count": 5,
   "metadata": {},
   "outputs": [
    {
     "data": {
      "text/html": [
       "<div>\n",
       "<style scoped>\n",
       "    .dataframe tbody tr th:only-of-type {\n",
       "        vertical-align: middle;\n",
       "    }\n",
       "\n",
       "    .dataframe tbody tr th {\n",
       "        vertical-align: top;\n",
       "    }\n",
       "\n",
       "    .dataframe thead th {\n",
       "        text-align: right;\n",
       "    }\n",
       "</style>\n",
       "<table border=\"1\" class=\"dataframe\">\n",
       "  <thead>\n",
       "    <tr style=\"text-align: right;\">\n",
       "      <th></th>\n",
       "      <th>LCLid</th>\n",
       "      <th>day</th>\n",
       "      <th>hh_0</th>\n",
       "      <th>hh_1</th>\n",
       "      <th>hh_2</th>\n",
       "      <th>hh_3</th>\n",
       "      <th>hh_4</th>\n",
       "      <th>hh_5</th>\n",
       "      <th>hh_6</th>\n",
       "      <th>hh_7</th>\n",
       "      <th>hh_8</th>\n",
       "      <th>hh_9</th>\n",
       "      <th>hh_10</th>\n",
       "      <th>hh_11</th>\n",
       "      <th>hh_12</th>\n",
       "      <th>hh_13</th>\n",
       "      <th>hh_14</th>\n",
       "      <th>hh_15</th>\n",
       "      <th>hh_16</th>\n",
       "      <th>hh_17</th>\n",
       "      <th>hh_18</th>\n",
       "      <th>hh_19</th>\n",
       "      <th>hh_20</th>\n",
       "      <th>hh_21</th>\n",
       "      <th>hh_22</th>\n",
       "      <th>hh_23</th>\n",
       "      <th>hh_24</th>\n",
       "      <th>hh_25</th>\n",
       "      <th>hh_26</th>\n",
       "      <th>hh_27</th>\n",
       "      <th>hh_28</th>\n",
       "      <th>hh_29</th>\n",
       "      <th>hh_30</th>\n",
       "      <th>hh_31</th>\n",
       "      <th>hh_32</th>\n",
       "      <th>hh_33</th>\n",
       "      <th>hh_34</th>\n",
       "      <th>hh_35</th>\n",
       "      <th>hh_36</th>\n",
       "      <th>hh_37</th>\n",
       "      <th>hh_38</th>\n",
       "      <th>hh_39</th>\n",
       "      <th>hh_40</th>\n",
       "      <th>hh_41</th>\n",
       "      <th>hh_42</th>\n",
       "      <th>hh_43</th>\n",
       "      <th>hh_44</th>\n",
       "      <th>hh_45</th>\n",
       "      <th>hh_46</th>\n",
       "      <th>hh_47</th>\n",
       "    </tr>\n",
       "  </thead>\n",
       "  <tbody>\n",
       "    <tr>\n",
       "      <th>0</th>\n",
       "      <td>MAC000002</td>\n",
       "      <td>2012-10-13</td>\n",
       "      <td>0.263</td>\n",
       "      <td>0.269</td>\n",
       "      <td>0.275</td>\n",
       "      <td>0.256</td>\n",
       "      <td>0.211</td>\n",
       "      <td>0.136</td>\n",
       "      <td>0.161</td>\n",
       "      <td>0.119</td>\n",
       "      <td>0.167</td>\n",
       "      <td>0.109</td>\n",
       "      <td>0.168</td>\n",
       "      <td>0.107</td>\n",
       "      <td>0.166</td>\n",
       "      <td>0.117</td>\n",
       "      <td>0.157</td>\n",
       "      <td>0.126</td>\n",
       "      <td>0.146</td>\n",
       "      <td>0.106</td>\n",
       "      <td>0.135</td>\n",
       "      <td>0.191</td>\n",
       "      <td>0.915</td>\n",
       "      <td>0.933</td>\n",
       "      <td>0.122</td>\n",
       "      <td>0.138</td>\n",
       "      <td>0.076</td>\n",
       "      <td>0.133</td>\n",
       "      <td>0.076</td>\n",
       "      <td>0.133</td>\n",
       "      <td>0.085</td>\n",
       "      <td>0.263</td>\n",
       "      <td>0.134</td>\n",
       "      <td>0.235</td>\n",
       "      <td>0.124</td>\n",
       "      <td>0.184</td>\n",
       "      <td>0.230</td>\n",
       "      <td>0.176</td>\n",
       "      <td>0.388</td>\n",
       "      <td>0.260</td>\n",
       "      <td>0.918</td>\n",
       "      <td>0.278</td>\n",
       "      <td>0.267</td>\n",
       "      <td>0.239</td>\n",
       "      <td>0.230</td>\n",
       "      <td>0.233</td>\n",
       "      <td>0.235</td>\n",
       "      <td>0.188</td>\n",
       "      <td>0.259</td>\n",
       "      <td>0.250</td>\n",
       "    </tr>\n",
       "    <tr>\n",
       "      <th>1</th>\n",
       "      <td>MAC000002</td>\n",
       "      <td>2012-10-14</td>\n",
       "      <td>0.262</td>\n",
       "      <td>0.166</td>\n",
       "      <td>0.226</td>\n",
       "      <td>0.088</td>\n",
       "      <td>0.126</td>\n",
       "      <td>0.082</td>\n",
       "      <td>0.123</td>\n",
       "      <td>0.083</td>\n",
       "      <td>0.120</td>\n",
       "      <td>0.079</td>\n",
       "      <td>0.121</td>\n",
       "      <td>0.075</td>\n",
       "      <td>0.124</td>\n",
       "      <td>0.073</td>\n",
       "      <td>0.125</td>\n",
       "      <td>0.070</td>\n",
       "      <td>0.130</td>\n",
       "      <td>0.108</td>\n",
       "      <td>0.196</td>\n",
       "      <td>0.346</td>\n",
       "      <td>0.524</td>\n",
       "      <td>0.076</td>\n",
       "      <td>0.129</td>\n",
       "      <td>0.667</td>\n",
       "      <td>0.230</td>\n",
       "      <td>0.220</td>\n",
       "      <td>0.163</td>\n",
       "      <td>0.091</td>\n",
       "      <td>0.170</td>\n",
       "      <td>0.110</td>\n",
       "      <td>0.110</td>\n",
       "      <td>0.121</td>\n",
       "      <td>0.099</td>\n",
       "      <td>0.157</td>\n",
       "      <td>0.093</td>\n",
       "      <td>0.371</td>\n",
       "      <td>0.386</td>\n",
       "      <td>1.085</td>\n",
       "      <td>1.075</td>\n",
       "      <td>0.956</td>\n",
       "      <td>0.821</td>\n",
       "      <td>0.745</td>\n",
       "      <td>0.712</td>\n",
       "      <td>0.511</td>\n",
       "      <td>0.231</td>\n",
       "      <td>0.210</td>\n",
       "      <td>0.278</td>\n",
       "      <td>0.159</td>\n",
       "    </tr>\n",
       "    <tr>\n",
       "      <th>2</th>\n",
       "      <td>MAC000002</td>\n",
       "      <td>2012-10-15</td>\n",
       "      <td>0.192</td>\n",
       "      <td>0.097</td>\n",
       "      <td>0.141</td>\n",
       "      <td>0.083</td>\n",
       "      <td>0.132</td>\n",
       "      <td>0.070</td>\n",
       "      <td>0.130</td>\n",
       "      <td>0.074</td>\n",
       "      <td>0.124</td>\n",
       "      <td>0.078</td>\n",
       "      <td>0.118</td>\n",
       "      <td>0.082</td>\n",
       "      <td>0.112</td>\n",
       "      <td>0.087</td>\n",
       "      <td>0.106</td>\n",
       "      <td>0.140</td>\n",
       "      <td>0.120</td>\n",
       "      <td>1.075</td>\n",
       "      <td>0.146</td>\n",
       "      <td>0.123</td>\n",
       "      <td>0.082</td>\n",
       "      <td>0.127</td>\n",
       "      <td>0.077</td>\n",
       "      <td>0.551</td>\n",
       "      <td>0.149</td>\n",
       "      <td>0.129</td>\n",
       "      <td>0.075</td>\n",
       "      <td>0.130</td>\n",
       "      <td>0.075</td>\n",
       "      <td>0.129</td>\n",
       "      <td>0.075</td>\n",
       "      <td>0.128</td>\n",
       "      <td>0.166</td>\n",
       "      <td>0.194</td>\n",
       "      <td>0.695</td>\n",
       "      <td>0.260</td>\n",
       "      <td>0.227</td>\n",
       "      <td>0.255</td>\n",
       "      <td>1.164</td>\n",
       "      <td>0.249</td>\n",
       "      <td>0.225</td>\n",
       "      <td>0.258</td>\n",
       "      <td>0.260</td>\n",
       "      <td>0.334</td>\n",
       "      <td>0.299</td>\n",
       "      <td>0.236</td>\n",
       "      <td>0.241</td>\n",
       "      <td>0.237</td>\n",
       "    </tr>\n",
       "    <tr>\n",
       "      <th>3</th>\n",
       "      <td>MAC000002</td>\n",
       "      <td>2012-10-16</td>\n",
       "      <td>0.237</td>\n",
       "      <td>0.237</td>\n",
       "      <td>0.193</td>\n",
       "      <td>0.118</td>\n",
       "      <td>0.098</td>\n",
       "      <td>0.107</td>\n",
       "      <td>0.094</td>\n",
       "      <td>0.109</td>\n",
       "      <td>0.091</td>\n",
       "      <td>0.105</td>\n",
       "      <td>0.091</td>\n",
       "      <td>0.104</td>\n",
       "      <td>0.092</td>\n",
       "      <td>0.103</td>\n",
       "      <td>0.093</td>\n",
       "      <td>0.101</td>\n",
       "      <td>0.144</td>\n",
       "      <td>0.100</td>\n",
       "      <td>0.408</td>\n",
       "      <td>0.102</td>\n",
       "      <td>0.100</td>\n",
       "      <td>0.116</td>\n",
       "      <td>0.354</td>\n",
       "      <td>0.146</td>\n",
       "      <td>0.190</td>\n",
       "      <td>0.991</td>\n",
       "      <td>0.310</td>\n",
       "      <td>0.121</td>\n",
       "      <td>0.113</td>\n",
       "      <td>0.094</td>\n",
       "      <td>0.119</td>\n",
       "      <td>0.087</td>\n",
       "      <td>0.130</td>\n",
       "      <td>0.238</td>\n",
       "      <td>0.204</td>\n",
       "      <td>0.284</td>\n",
       "      <td>0.447</td>\n",
       "      <td>0.266</td>\n",
       "      <td>0.966</td>\n",
       "      <td>0.172</td>\n",
       "      <td>0.192</td>\n",
       "      <td>0.228</td>\n",
       "      <td>0.203</td>\n",
       "      <td>0.211</td>\n",
       "      <td>0.188</td>\n",
       "      <td>0.213</td>\n",
       "      <td>0.157</td>\n",
       "      <td>0.202</td>\n",
       "    </tr>\n",
       "    <tr>\n",
       "      <th>4</th>\n",
       "      <td>MAC000002</td>\n",
       "      <td>2012-10-17</td>\n",
       "      <td>0.157</td>\n",
       "      <td>0.211</td>\n",
       "      <td>0.155</td>\n",
       "      <td>0.169</td>\n",
       "      <td>0.101</td>\n",
       "      <td>0.117</td>\n",
       "      <td>0.084</td>\n",
       "      <td>0.118</td>\n",
       "      <td>0.080</td>\n",
       "      <td>0.119</td>\n",
       "      <td>0.075</td>\n",
       "      <td>0.123</td>\n",
       "      <td>0.071</td>\n",
       "      <td>0.126</td>\n",
       "      <td>0.067</td>\n",
       "      <td>0.124</td>\n",
       "      <td>0.118</td>\n",
       "      <td>0.132</td>\n",
       "      <td>0.358</td>\n",
       "      <td>0.628</td>\n",
       "      <td>0.784</td>\n",
       "      <td>0.681</td>\n",
       "      <td>0.749</td>\n",
       "      <td>0.593</td>\n",
       "      <td>0.502</td>\n",
       "      <td>0.115</td>\n",
       "      <td>0.113</td>\n",
       "      <td>0.092</td>\n",
       "      <td>0.124</td>\n",
       "      <td>0.084</td>\n",
       "      <td>0.125</td>\n",
       "      <td>0.078</td>\n",
       "      <td>0.136</td>\n",
       "      <td>0.227</td>\n",
       "      <td>0.207</td>\n",
       "      <td>0.141</td>\n",
       "      <td>0.258</td>\n",
       "      <td>0.217</td>\n",
       "      <td>0.223</td>\n",
       "      <td>0.075</td>\n",
       "      <td>0.230</td>\n",
       "      <td>0.208</td>\n",
       "      <td>0.265</td>\n",
       "      <td>0.377</td>\n",
       "      <td>0.327</td>\n",
       "      <td>0.277</td>\n",
       "      <td>0.288</td>\n",
       "      <td>0.256</td>\n",
       "    </tr>\n",
       "  </tbody>\n",
       "</table>\n",
       "</div>"
      ],
      "text/plain": [
       "       LCLid        day   hh_0   hh_1   hh_2   hh_3   hh_4   hh_5   hh_6  \\\n",
       "0  MAC000002 2012-10-13  0.263  0.269  0.275  0.256  0.211  0.136  0.161   \n",
       "1  MAC000002 2012-10-14  0.262  0.166  0.226  0.088  0.126  0.082  0.123   \n",
       "2  MAC000002 2012-10-15  0.192  0.097  0.141  0.083  0.132  0.070  0.130   \n",
       "3  MAC000002 2012-10-16  0.237  0.237  0.193  0.118  0.098  0.107  0.094   \n",
       "4  MAC000002 2012-10-17  0.157  0.211  0.155  0.169  0.101  0.117  0.084   \n",
       "\n",
       "    hh_7   hh_8   hh_9  hh_10  hh_11  hh_12  hh_13  hh_14  hh_15  hh_16  \\\n",
       "0  0.119  0.167  0.109  0.168  0.107  0.166  0.117  0.157  0.126  0.146   \n",
       "1  0.083  0.120  0.079  0.121  0.075  0.124  0.073  0.125  0.070  0.130   \n",
       "2  0.074  0.124  0.078  0.118  0.082  0.112  0.087  0.106  0.140  0.120   \n",
       "3  0.109  0.091  0.105  0.091  0.104  0.092  0.103  0.093  0.101  0.144   \n",
       "4  0.118  0.080  0.119  0.075  0.123  0.071  0.126  0.067  0.124  0.118   \n",
       "\n",
       "   hh_17  hh_18  hh_19  hh_20  hh_21  hh_22  hh_23  hh_24  hh_25  hh_26  \\\n",
       "0  0.106  0.135  0.191  0.915  0.933  0.122  0.138  0.076  0.133  0.076   \n",
       "1  0.108  0.196  0.346  0.524  0.076  0.129  0.667  0.230  0.220  0.163   \n",
       "2  1.075  0.146  0.123  0.082  0.127  0.077  0.551  0.149  0.129  0.075   \n",
       "3  0.100  0.408  0.102  0.100  0.116  0.354  0.146  0.190  0.991  0.310   \n",
       "4  0.132  0.358  0.628  0.784  0.681  0.749  0.593  0.502  0.115  0.113   \n",
       "\n",
       "   hh_27  hh_28  hh_29  hh_30  hh_31  hh_32  hh_33  hh_34  hh_35  hh_36  \\\n",
       "0  0.133  0.085  0.263  0.134  0.235  0.124  0.184  0.230  0.176  0.388   \n",
       "1  0.091  0.170  0.110  0.110  0.121  0.099  0.157  0.093  0.371  0.386   \n",
       "2  0.130  0.075  0.129  0.075  0.128  0.166  0.194  0.695  0.260  0.227   \n",
       "3  0.121  0.113  0.094  0.119  0.087  0.130  0.238  0.204  0.284  0.447   \n",
       "4  0.092  0.124  0.084  0.125  0.078  0.136  0.227  0.207  0.141  0.258   \n",
       "\n",
       "   hh_37  hh_38  hh_39  hh_40  hh_41  hh_42  hh_43  hh_44  hh_45  hh_46  hh_47  \n",
       "0  0.260  0.918  0.278  0.267  0.239  0.230  0.233  0.235  0.188  0.259  0.250  \n",
       "1  1.085  1.075  0.956  0.821  0.745  0.712  0.511  0.231  0.210  0.278  0.159  \n",
       "2  0.255  1.164  0.249  0.225  0.258  0.260  0.334  0.299  0.236  0.241  0.237  \n",
       "3  0.266  0.966  0.172  0.192  0.228  0.203  0.211  0.188  0.213  0.157  0.202  \n",
       "4  0.217  0.223  0.075  0.230  0.208  0.265  0.377  0.327  0.277  0.288  0.256  "
      ]
     },
     "execution_count": 5,
     "metadata": {},
     "output_type": "execute_result"
    }
   ],
   "source": [
    "block_1 = pd.read_csv(block_data_path/\"block_0.csv\", parse_dates=False)\n",
    "block_1['day'] = pd.to_datetime(block_1['day'], yearfirst=True)\n",
    "block_1.head()"
   ]
  },
  {
   "cell_type": "markdown",
   "metadata": {},
   "source": [
    "Find the Global End Date"
   ]
  },
  {
   "cell_type": "code",
   "execution_count": 6,
   "metadata": {},
   "outputs": [
    {
     "data": {
      "text/plain": [
       "LCLid\n",
       "MAC003844   2014-02-27\n",
       "MAC003422   2014-02-27\n",
       "MAC003388   2014-02-27\n",
       "MAC000246   2014-02-27\n",
       "MAC003856   2014-02-27\n",
       "MAC003423   2014-02-27\n",
       "MAC004034   2013-09-18\n",
       "MAC003680   2014-02-27\n",
       "MAC003737   2014-02-27\n",
       "MAC003874   2014-02-27\n",
       "Name: day, dtype: datetime64[ns]"
      ]
     },
     "execution_count": 6,
     "metadata": {},
     "output_type": "execute_result"
    }
   ],
   "source": [
    "block_1.groupby(\"LCLid\")['day'].max().sample(10)# 종료일이 같은지 확인"
   ]
  },
  {
   "cell_type": "code",
   "execution_count": 7,
   "metadata": {},
   "outputs": [
    {
     "data": {
      "application/vnd.jupyter.widget-view+json": {
       "model_id": "670b2c2e3f66480dbb5572ac8ab5c804",
       "version_major": 2,
       "version_minor": 0
      },
      "text/plain": [
       "0it [00:00, ?it/s]"
      ]
     },
     "metadata": {},
     "output_type": "display_data"
    },
    {
     "name": "stdout",
     "output_type": "stream",
     "text": [
      "Max Date across all blocks: 2014-02-27 00:00:00\n"
     ]
    }
   ],
   "source": [
    "max_date = None\n",
    "for f in tqdm(block_data_path.glob(\"*.csv\")):\n",
    "    df = pd.read_csv(f, parse_dates=False)\n",
    "    df['day'] = pd.to_datetime(df['day'], yearfirst=True)\n",
    "    if max_date is None:\n",
    "        max_date = df['day'].max()\n",
    "    else:\n",
    "        if df['day'].max()>max_date:\n",
    "            max_date = df['day'].max()\n",
    "print(f\"Max Date across all blocks: {max_date}\")\n",
    "del df"
   ]
  },
  {
   "cell_type": "markdown",
   "metadata": {},
   "source": [
    "Basic Preprocessing: 시간대를 세로 방향으로 reshaping"
   ]
  },
  {
   "cell_type": "code",
   "execution_count": 8,
   "metadata": {},
   "outputs": [
    {
     "data": {
      "text/html": [
       "<div>\n",
       "<style scoped>\n",
       "    .dataframe tbody tr th:only-of-type {\n",
       "        vertical-align: middle;\n",
       "    }\n",
       "\n",
       "    .dataframe tbody tr th {\n",
       "        vertical-align: top;\n",
       "    }\n",
       "\n",
       "    .dataframe thead th {\n",
       "        text-align: right;\n",
       "    }\n",
       "</style>\n",
       "<table border=\"1\" class=\"dataframe\">\n",
       "  <thead>\n",
       "    <tr style=\"text-align: right;\">\n",
       "      <th></th>\n",
       "      <th></th>\n",
       "      <th>hh_0</th>\n",
       "      <th>hh_1</th>\n",
       "      <th>hh_2</th>\n",
       "      <th>hh_3</th>\n",
       "      <th>hh_4</th>\n",
       "      <th>hh_5</th>\n",
       "      <th>hh_6</th>\n",
       "      <th>hh_7</th>\n",
       "      <th>hh_8</th>\n",
       "      <th>hh_9</th>\n",
       "      <th>hh_10</th>\n",
       "      <th>hh_11</th>\n",
       "      <th>hh_12</th>\n",
       "      <th>hh_13</th>\n",
       "      <th>hh_14</th>\n",
       "      <th>hh_15</th>\n",
       "      <th>hh_16</th>\n",
       "      <th>hh_17</th>\n",
       "      <th>hh_18</th>\n",
       "      <th>hh_19</th>\n",
       "      <th>hh_20</th>\n",
       "      <th>hh_21</th>\n",
       "      <th>hh_22</th>\n",
       "      <th>hh_23</th>\n",
       "      <th>hh_24</th>\n",
       "      <th>hh_25</th>\n",
       "      <th>hh_26</th>\n",
       "      <th>hh_27</th>\n",
       "      <th>hh_28</th>\n",
       "      <th>hh_29</th>\n",
       "      <th>hh_30</th>\n",
       "      <th>hh_31</th>\n",
       "      <th>hh_32</th>\n",
       "      <th>hh_33</th>\n",
       "      <th>hh_34</th>\n",
       "      <th>hh_35</th>\n",
       "      <th>hh_36</th>\n",
       "      <th>hh_37</th>\n",
       "      <th>hh_38</th>\n",
       "      <th>hh_39</th>\n",
       "      <th>hh_40</th>\n",
       "      <th>hh_41</th>\n",
       "      <th>hh_42</th>\n",
       "      <th>hh_43</th>\n",
       "      <th>hh_44</th>\n",
       "      <th>hh_45</th>\n",
       "      <th>hh_46</th>\n",
       "      <th>hh_47</th>\n",
       "    </tr>\n",
       "    <tr>\n",
       "      <th>LCLid</th>\n",
       "      <th>day</th>\n",
       "      <th></th>\n",
       "      <th></th>\n",
       "      <th></th>\n",
       "      <th></th>\n",
       "      <th></th>\n",
       "      <th></th>\n",
       "      <th></th>\n",
       "      <th></th>\n",
       "      <th></th>\n",
       "      <th></th>\n",
       "      <th></th>\n",
       "      <th></th>\n",
       "      <th></th>\n",
       "      <th></th>\n",
       "      <th></th>\n",
       "      <th></th>\n",
       "      <th></th>\n",
       "      <th></th>\n",
       "      <th></th>\n",
       "      <th></th>\n",
       "      <th></th>\n",
       "      <th></th>\n",
       "      <th></th>\n",
       "      <th></th>\n",
       "      <th></th>\n",
       "      <th></th>\n",
       "      <th></th>\n",
       "      <th></th>\n",
       "      <th></th>\n",
       "      <th></th>\n",
       "      <th></th>\n",
       "      <th></th>\n",
       "      <th></th>\n",
       "      <th></th>\n",
       "      <th></th>\n",
       "      <th></th>\n",
       "      <th></th>\n",
       "      <th></th>\n",
       "      <th></th>\n",
       "      <th></th>\n",
       "      <th></th>\n",
       "      <th></th>\n",
       "      <th></th>\n",
       "      <th></th>\n",
       "      <th></th>\n",
       "      <th></th>\n",
       "      <th></th>\n",
       "      <th></th>\n",
       "    </tr>\n",
       "  </thead>\n",
       "  <tbody>\n",
       "    <tr>\n",
       "      <th rowspan=\"5\" valign=\"top\">MAC000002</th>\n",
       "      <th>2012-10-13</th>\n",
       "      <td>0.263</td>\n",
       "      <td>0.269</td>\n",
       "      <td>0.275</td>\n",
       "      <td>0.256</td>\n",
       "      <td>0.211</td>\n",
       "      <td>0.136</td>\n",
       "      <td>0.161</td>\n",
       "      <td>0.119</td>\n",
       "      <td>0.167</td>\n",
       "      <td>0.109</td>\n",
       "      <td>0.168</td>\n",
       "      <td>0.107</td>\n",
       "      <td>0.166</td>\n",
       "      <td>0.117</td>\n",
       "      <td>0.157</td>\n",
       "      <td>0.126</td>\n",
       "      <td>0.146</td>\n",
       "      <td>0.106</td>\n",
       "      <td>0.135</td>\n",
       "      <td>0.191</td>\n",
       "      <td>0.915</td>\n",
       "      <td>0.933</td>\n",
       "      <td>0.122</td>\n",
       "      <td>0.138</td>\n",
       "      <td>0.076</td>\n",
       "      <td>0.133</td>\n",
       "      <td>0.076</td>\n",
       "      <td>0.133</td>\n",
       "      <td>0.085</td>\n",
       "      <td>0.263</td>\n",
       "      <td>0.134</td>\n",
       "      <td>0.235</td>\n",
       "      <td>0.124</td>\n",
       "      <td>0.184</td>\n",
       "      <td>0.230</td>\n",
       "      <td>0.176</td>\n",
       "      <td>0.388</td>\n",
       "      <td>0.260</td>\n",
       "      <td>0.918</td>\n",
       "      <td>0.278</td>\n",
       "      <td>0.267</td>\n",
       "      <td>0.239</td>\n",
       "      <td>0.230</td>\n",
       "      <td>0.233</td>\n",
       "      <td>0.235</td>\n",
       "      <td>0.188</td>\n",
       "      <td>0.259</td>\n",
       "      <td>0.250</td>\n",
       "    </tr>\n",
       "    <tr>\n",
       "      <th>2012-10-14</th>\n",
       "      <td>0.262</td>\n",
       "      <td>0.166</td>\n",
       "      <td>0.226</td>\n",
       "      <td>0.088</td>\n",
       "      <td>0.126</td>\n",
       "      <td>0.082</td>\n",
       "      <td>0.123</td>\n",
       "      <td>0.083</td>\n",
       "      <td>0.120</td>\n",
       "      <td>0.079</td>\n",
       "      <td>0.121</td>\n",
       "      <td>0.075</td>\n",
       "      <td>0.124</td>\n",
       "      <td>0.073</td>\n",
       "      <td>0.125</td>\n",
       "      <td>0.070</td>\n",
       "      <td>0.130</td>\n",
       "      <td>0.108</td>\n",
       "      <td>0.196</td>\n",
       "      <td>0.346</td>\n",
       "      <td>0.524</td>\n",
       "      <td>0.076</td>\n",
       "      <td>0.129</td>\n",
       "      <td>0.667</td>\n",
       "      <td>0.230</td>\n",
       "      <td>0.220</td>\n",
       "      <td>0.163</td>\n",
       "      <td>0.091</td>\n",
       "      <td>0.170</td>\n",
       "      <td>0.110</td>\n",
       "      <td>0.110</td>\n",
       "      <td>0.121</td>\n",
       "      <td>0.099</td>\n",
       "      <td>0.157</td>\n",
       "      <td>0.093</td>\n",
       "      <td>0.371</td>\n",
       "      <td>0.386</td>\n",
       "      <td>1.085</td>\n",
       "      <td>1.075</td>\n",
       "      <td>0.956</td>\n",
       "      <td>0.821</td>\n",
       "      <td>0.745</td>\n",
       "      <td>0.712</td>\n",
       "      <td>0.511</td>\n",
       "      <td>0.231</td>\n",
       "      <td>0.210</td>\n",
       "      <td>0.278</td>\n",
       "      <td>0.159</td>\n",
       "    </tr>\n",
       "    <tr>\n",
       "      <th>2012-10-15</th>\n",
       "      <td>0.192</td>\n",
       "      <td>0.097</td>\n",
       "      <td>0.141</td>\n",
       "      <td>0.083</td>\n",
       "      <td>0.132</td>\n",
       "      <td>0.070</td>\n",
       "      <td>0.130</td>\n",
       "      <td>0.074</td>\n",
       "      <td>0.124</td>\n",
       "      <td>0.078</td>\n",
       "      <td>0.118</td>\n",
       "      <td>0.082</td>\n",
       "      <td>0.112</td>\n",
       "      <td>0.087</td>\n",
       "      <td>0.106</td>\n",
       "      <td>0.140</td>\n",
       "      <td>0.120</td>\n",
       "      <td>1.075</td>\n",
       "      <td>0.146</td>\n",
       "      <td>0.123</td>\n",
       "      <td>0.082</td>\n",
       "      <td>0.127</td>\n",
       "      <td>0.077</td>\n",
       "      <td>0.551</td>\n",
       "      <td>0.149</td>\n",
       "      <td>0.129</td>\n",
       "      <td>0.075</td>\n",
       "      <td>0.130</td>\n",
       "      <td>0.075</td>\n",
       "      <td>0.129</td>\n",
       "      <td>0.075</td>\n",
       "      <td>0.128</td>\n",
       "      <td>0.166</td>\n",
       "      <td>0.194</td>\n",
       "      <td>0.695</td>\n",
       "      <td>0.260</td>\n",
       "      <td>0.227</td>\n",
       "      <td>0.255</td>\n",
       "      <td>1.164</td>\n",
       "      <td>0.249</td>\n",
       "      <td>0.225</td>\n",
       "      <td>0.258</td>\n",
       "      <td>0.260</td>\n",
       "      <td>0.334</td>\n",
       "      <td>0.299</td>\n",
       "      <td>0.236</td>\n",
       "      <td>0.241</td>\n",
       "      <td>0.237</td>\n",
       "    </tr>\n",
       "    <tr>\n",
       "      <th>2012-10-16</th>\n",
       "      <td>0.237</td>\n",
       "      <td>0.237</td>\n",
       "      <td>0.193</td>\n",
       "      <td>0.118</td>\n",
       "      <td>0.098</td>\n",
       "      <td>0.107</td>\n",
       "      <td>0.094</td>\n",
       "      <td>0.109</td>\n",
       "      <td>0.091</td>\n",
       "      <td>0.105</td>\n",
       "      <td>0.091</td>\n",
       "      <td>0.104</td>\n",
       "      <td>0.092</td>\n",
       "      <td>0.103</td>\n",
       "      <td>0.093</td>\n",
       "      <td>0.101</td>\n",
       "      <td>0.144</td>\n",
       "      <td>0.100</td>\n",
       "      <td>0.408</td>\n",
       "      <td>0.102</td>\n",
       "      <td>0.100</td>\n",
       "      <td>0.116</td>\n",
       "      <td>0.354</td>\n",
       "      <td>0.146</td>\n",
       "      <td>0.190</td>\n",
       "      <td>0.991</td>\n",
       "      <td>0.310</td>\n",
       "      <td>0.121</td>\n",
       "      <td>0.113</td>\n",
       "      <td>0.094</td>\n",
       "      <td>0.119</td>\n",
       "      <td>0.087</td>\n",
       "      <td>0.130</td>\n",
       "      <td>0.238</td>\n",
       "      <td>0.204</td>\n",
       "      <td>0.284</td>\n",
       "      <td>0.447</td>\n",
       "      <td>0.266</td>\n",
       "      <td>0.966</td>\n",
       "      <td>0.172</td>\n",
       "      <td>0.192</td>\n",
       "      <td>0.228</td>\n",
       "      <td>0.203</td>\n",
       "      <td>0.211</td>\n",
       "      <td>0.188</td>\n",
       "      <td>0.213</td>\n",
       "      <td>0.157</td>\n",
       "      <td>0.202</td>\n",
       "    </tr>\n",
       "    <tr>\n",
       "      <th>2012-10-17</th>\n",
       "      <td>0.157</td>\n",
       "      <td>0.211</td>\n",
       "      <td>0.155</td>\n",
       "      <td>0.169</td>\n",
       "      <td>0.101</td>\n",
       "      <td>0.117</td>\n",
       "      <td>0.084</td>\n",
       "      <td>0.118</td>\n",
       "      <td>0.080</td>\n",
       "      <td>0.119</td>\n",
       "      <td>0.075</td>\n",
       "      <td>0.123</td>\n",
       "      <td>0.071</td>\n",
       "      <td>0.126</td>\n",
       "      <td>0.067</td>\n",
       "      <td>0.124</td>\n",
       "      <td>0.118</td>\n",
       "      <td>0.132</td>\n",
       "      <td>0.358</td>\n",
       "      <td>0.628</td>\n",
       "      <td>0.784</td>\n",
       "      <td>0.681</td>\n",
       "      <td>0.749</td>\n",
       "      <td>0.593</td>\n",
       "      <td>0.502</td>\n",
       "      <td>0.115</td>\n",
       "      <td>0.113</td>\n",
       "      <td>0.092</td>\n",
       "      <td>0.124</td>\n",
       "      <td>0.084</td>\n",
       "      <td>0.125</td>\n",
       "      <td>0.078</td>\n",
       "      <td>0.136</td>\n",
       "      <td>0.227</td>\n",
       "      <td>0.207</td>\n",
       "      <td>0.141</td>\n",
       "      <td>0.258</td>\n",
       "      <td>0.217</td>\n",
       "      <td>0.223</td>\n",
       "      <td>0.075</td>\n",
       "      <td>0.230</td>\n",
       "      <td>0.208</td>\n",
       "      <td>0.265</td>\n",
       "      <td>0.377</td>\n",
       "      <td>0.327</td>\n",
       "      <td>0.277</td>\n",
       "      <td>0.288</td>\n",
       "      <td>0.256</td>\n",
       "    </tr>\n",
       "    <tr>\n",
       "      <th>...</th>\n",
       "      <th>...</th>\n",
       "      <td>...</td>\n",
       "      <td>...</td>\n",
       "      <td>...</td>\n",
       "      <td>...</td>\n",
       "      <td>...</td>\n",
       "      <td>...</td>\n",
       "      <td>...</td>\n",
       "      <td>...</td>\n",
       "      <td>...</td>\n",
       "      <td>...</td>\n",
       "      <td>...</td>\n",
       "      <td>...</td>\n",
       "      <td>...</td>\n",
       "      <td>...</td>\n",
       "      <td>...</td>\n",
       "      <td>...</td>\n",
       "      <td>...</td>\n",
       "      <td>...</td>\n",
       "      <td>...</td>\n",
       "      <td>...</td>\n",
       "      <td>...</td>\n",
       "      <td>...</td>\n",
       "      <td>...</td>\n",
       "      <td>...</td>\n",
       "      <td>...</td>\n",
       "      <td>...</td>\n",
       "      <td>...</td>\n",
       "      <td>...</td>\n",
       "      <td>...</td>\n",
       "      <td>...</td>\n",
       "      <td>...</td>\n",
       "      <td>...</td>\n",
       "      <td>...</td>\n",
       "      <td>...</td>\n",
       "      <td>...</td>\n",
       "      <td>...</td>\n",
       "      <td>...</td>\n",
       "      <td>...</td>\n",
       "      <td>...</td>\n",
       "      <td>...</td>\n",
       "      <td>...</td>\n",
       "      <td>...</td>\n",
       "      <td>...</td>\n",
       "      <td>...</td>\n",
       "      <td>...</td>\n",
       "      <td>...</td>\n",
       "      <td>...</td>\n",
       "      <td>...</td>\n",
       "    </tr>\n",
       "    <tr>\n",
       "      <th rowspan=\"5\" valign=\"top\">MAC005492</th>\n",
       "      <th>2014-02-23</th>\n",
       "      <td>0.165</td>\n",
       "      <td>0.206</td>\n",
       "      <td>0.149</td>\n",
       "      <td>0.101</td>\n",
       "      <td>0.115</td>\n",
       "      <td>0.120</td>\n",
       "      <td>0.102</td>\n",
       "      <td>0.105</td>\n",
       "      <td>0.125</td>\n",
       "      <td>0.106</td>\n",
       "      <td>0.103</td>\n",
       "      <td>0.131</td>\n",
       "      <td>0.133</td>\n",
       "      <td>0.102</td>\n",
       "      <td>0.101</td>\n",
       "      <td>0.130</td>\n",
       "      <td>0.281</td>\n",
       "      <td>0.211</td>\n",
       "      <td>0.149</td>\n",
       "      <td>0.224</td>\n",
       "      <td>0.216</td>\n",
       "      <td>0.379</td>\n",
       "      <td>0.179</td>\n",
       "      <td>0.215</td>\n",
       "      <td>0.208</td>\n",
       "      <td>0.194</td>\n",
       "      <td>0.203</td>\n",
       "      <td>0.265</td>\n",
       "      <td>0.187</td>\n",
       "      <td>0.196</td>\n",
       "      <td>0.168</td>\n",
       "      <td>0.122</td>\n",
       "      <td>0.131</td>\n",
       "      <td>0.128</td>\n",
       "      <td>0.135</td>\n",
       "      <td>0.163</td>\n",
       "      <td>0.494</td>\n",
       "      <td>0.290</td>\n",
       "      <td>0.296</td>\n",
       "      <td>0.750</td>\n",
       "      <td>0.315</td>\n",
       "      <td>0.326</td>\n",
       "      <td>0.293</td>\n",
       "      <td>0.287</td>\n",
       "      <td>0.213</td>\n",
       "      <td>0.287</td>\n",
       "      <td>0.245</td>\n",
       "      <td>0.222</td>\n",
       "    </tr>\n",
       "    <tr>\n",
       "      <th>2014-02-24</th>\n",
       "      <td>0.219</td>\n",
       "      <td>0.236</td>\n",
       "      <td>0.288</td>\n",
       "      <td>0.219</td>\n",
       "      <td>0.165</td>\n",
       "      <td>0.086</td>\n",
       "      <td>0.111</td>\n",
       "      <td>0.095</td>\n",
       "      <td>0.084</td>\n",
       "      <td>0.081</td>\n",
       "      <td>0.105</td>\n",
       "      <td>0.129</td>\n",
       "      <td>0.087</td>\n",
       "      <td>0.079</td>\n",
       "      <td>0.089</td>\n",
       "      <td>0.111</td>\n",
       "      <td>0.133</td>\n",
       "      <td>0.133</td>\n",
       "      <td>0.188</td>\n",
       "      <td>0.208</td>\n",
       "      <td>0.168</td>\n",
       "      <td>0.238</td>\n",
       "      <td>0.160</td>\n",
       "      <td>0.250</td>\n",
       "      <td>0.175</td>\n",
       "      <td>0.080</td>\n",
       "      <td>0.082</td>\n",
       "      <td>0.116</td>\n",
       "      <td>0.088</td>\n",
       "      <td>0.206</td>\n",
       "      <td>0.161</td>\n",
       "      <td>0.203</td>\n",
       "      <td>0.150</td>\n",
       "      <td>0.096</td>\n",
       "      <td>0.263</td>\n",
       "      <td>0.234</td>\n",
       "      <td>0.254</td>\n",
       "      <td>0.273</td>\n",
       "      <td>0.303</td>\n",
       "      <td>0.378</td>\n",
       "      <td>0.253</td>\n",
       "      <td>0.193</td>\n",
       "      <td>0.212</td>\n",
       "      <td>0.193</td>\n",
       "      <td>0.192</td>\n",
       "      <td>0.297</td>\n",
       "      <td>0.168</td>\n",
       "      <td>0.170</td>\n",
       "    </tr>\n",
       "    <tr>\n",
       "      <th>2014-02-25</th>\n",
       "      <td>0.194</td>\n",
       "      <td>0.185</td>\n",
       "      <td>0.150</td>\n",
       "      <td>0.095</td>\n",
       "      <td>0.081</td>\n",
       "      <td>0.082</td>\n",
       "      <td>0.081</td>\n",
       "      <td>0.112</td>\n",
       "      <td>0.094</td>\n",
       "      <td>0.082</td>\n",
       "      <td>0.079</td>\n",
       "      <td>0.124</td>\n",
       "      <td>0.125</td>\n",
       "      <td>0.082</td>\n",
       "      <td>0.080</td>\n",
       "      <td>0.084</td>\n",
       "      <td>0.080</td>\n",
       "      <td>0.120</td>\n",
       "      <td>0.082</td>\n",
       "      <td>0.348</td>\n",
       "      <td>0.195</td>\n",
       "      <td>0.198</td>\n",
       "      <td>0.210</td>\n",
       "      <td>0.185</td>\n",
       "      <td>0.174</td>\n",
       "      <td>0.204</td>\n",
       "      <td>0.179</td>\n",
       "      <td>0.156</td>\n",
       "      <td>0.137</td>\n",
       "      <td>0.137</td>\n",
       "      <td>0.132</td>\n",
       "      <td>0.109</td>\n",
       "      <td>0.170</td>\n",
       "      <td>0.119</td>\n",
       "      <td>0.155</td>\n",
       "      <td>0.155</td>\n",
       "      <td>0.111</td>\n",
       "      <td>0.272</td>\n",
       "      <td>0.545</td>\n",
       "      <td>0.233</td>\n",
       "      <td>0.245</td>\n",
       "      <td>0.194</td>\n",
       "      <td>0.215</td>\n",
       "      <td>0.201</td>\n",
       "      <td>0.241</td>\n",
       "      <td>0.162</td>\n",
       "      <td>0.157</td>\n",
       "      <td>0.167</td>\n",
       "    </tr>\n",
       "    <tr>\n",
       "      <th>2014-02-26</th>\n",
       "      <td>0.205</td>\n",
       "      <td>0.183</td>\n",
       "      <td>0.186</td>\n",
       "      <td>0.165</td>\n",
       "      <td>0.194</td>\n",
       "      <td>0.114</td>\n",
       "      <td>0.080</td>\n",
       "      <td>0.090</td>\n",
       "      <td>0.106</td>\n",
       "      <td>0.082</td>\n",
       "      <td>0.080</td>\n",
       "      <td>0.125</td>\n",
       "      <td>0.117</td>\n",
       "      <td>0.081</td>\n",
       "      <td>0.079</td>\n",
       "      <td>0.083</td>\n",
       "      <td>0.142</td>\n",
       "      <td>0.186</td>\n",
       "      <td>0.153</td>\n",
       "      <td>0.653</td>\n",
       "      <td>0.235</td>\n",
       "      <td>0.144</td>\n",
       "      <td>0.162</td>\n",
       "      <td>0.176</td>\n",
       "      <td>0.145</td>\n",
       "      <td>0.118</td>\n",
       "      <td>0.168</td>\n",
       "      <td>0.104</td>\n",
       "      <td>0.081</td>\n",
       "      <td>0.129</td>\n",
       "      <td>0.083</td>\n",
       "      <td>0.082</td>\n",
       "      <td>0.098</td>\n",
       "      <td>0.123</td>\n",
       "      <td>0.193</td>\n",
       "      <td>0.141</td>\n",
       "      <td>0.141</td>\n",
       "      <td>0.687</td>\n",
       "      <td>0.298</td>\n",
       "      <td>0.224</td>\n",
       "      <td>0.239</td>\n",
       "      <td>0.242</td>\n",
       "      <td>0.237</td>\n",
       "      <td>0.246</td>\n",
       "      <td>0.333</td>\n",
       "      <td>0.202</td>\n",
       "      <td>0.232</td>\n",
       "      <td>0.203</td>\n",
       "    </tr>\n",
       "    <tr>\n",
       "      <th>2014-02-27</th>\n",
       "      <td>0.167</td>\n",
       "      <td>0.112</td>\n",
       "      <td>0.120</td>\n",
       "      <td>0.083</td>\n",
       "      <td>0.083</td>\n",
       "      <td>0.112</td>\n",
       "      <td>0.081</td>\n",
       "      <td>0.082</td>\n",
       "      <td>0.092</td>\n",
       "      <td>0.105</td>\n",
       "      <td>0.080</td>\n",
       "      <td>0.110</td>\n",
       "      <td>0.086</td>\n",
       "      <td>0.109</td>\n",
       "      <td>0.079</td>\n",
       "      <td>0.081</td>\n",
       "      <td>0.155</td>\n",
       "      <td>0.110</td>\n",
       "      <td>0.100</td>\n",
       "      <td>0.114</td>\n",
       "      <td>0.375</td>\n",
       "      <td>0.114</td>\n",
       "      <td>0.161</td>\n",
       "      <td>0.136</td>\n",
       "      <td>0.146</td>\n",
       "      <td>0.122</td>\n",
       "      <td>0.099</td>\n",
       "      <td>0.157</td>\n",
       "      <td>0.146</td>\n",
       "      <td>0.091</td>\n",
       "      <td>0.079</td>\n",
       "      <td>0.082</td>\n",
       "      <td>0.084</td>\n",
       "      <td>0.137</td>\n",
       "      <td>0.108</td>\n",
       "      <td>0.110</td>\n",
       "      <td>0.137</td>\n",
       "      <td>0.478</td>\n",
       "      <td>0.325</td>\n",
       "      <td>0.258</td>\n",
       "      <td>0.259</td>\n",
       "      <td>0.243</td>\n",
       "      <td>0.222</td>\n",
       "      <td>0.250</td>\n",
       "      <td>0.182</td>\n",
       "      <td>0.122</td>\n",
       "      <td>0.140</td>\n",
       "      <td>0.192</td>\n",
       "    </tr>\n",
       "  </tbody>\n",
       "</table>\n",
       "<p>25286 rows × 48 columns</p>\n",
       "</div>"
      ],
      "text/plain": [
       "                       hh_0   hh_1   hh_2   hh_3   hh_4   hh_5   hh_6   hh_7  \\\n",
       "LCLid     day                                                                  \n",
       "MAC000002 2012-10-13  0.263  0.269  0.275  0.256  0.211  0.136  0.161  0.119   \n",
       "          2012-10-14  0.262  0.166  0.226  0.088  0.126  0.082  0.123  0.083   \n",
       "          2012-10-15  0.192  0.097  0.141  0.083  0.132  0.070  0.130  0.074   \n",
       "          2012-10-16  0.237  0.237  0.193  0.118  0.098  0.107  0.094  0.109   \n",
       "          2012-10-17  0.157  0.211  0.155  0.169  0.101  0.117  0.084  0.118   \n",
       "...                     ...    ...    ...    ...    ...    ...    ...    ...   \n",
       "MAC005492 2014-02-23  0.165  0.206  0.149  0.101  0.115  0.120  0.102  0.105   \n",
       "          2014-02-24  0.219  0.236  0.288  0.219  0.165  0.086  0.111  0.095   \n",
       "          2014-02-25  0.194  0.185  0.150  0.095  0.081  0.082  0.081  0.112   \n",
       "          2014-02-26  0.205  0.183  0.186  0.165  0.194  0.114  0.080  0.090   \n",
       "          2014-02-27  0.167  0.112  0.120  0.083  0.083  0.112  0.081  0.082   \n",
       "\n",
       "                       hh_8   hh_9  hh_10  hh_11  hh_12  hh_13  hh_14  hh_15  \\\n",
       "LCLid     day                                                                  \n",
       "MAC000002 2012-10-13  0.167  0.109  0.168  0.107  0.166  0.117  0.157  0.126   \n",
       "          2012-10-14  0.120  0.079  0.121  0.075  0.124  0.073  0.125  0.070   \n",
       "          2012-10-15  0.124  0.078  0.118  0.082  0.112  0.087  0.106  0.140   \n",
       "          2012-10-16  0.091  0.105  0.091  0.104  0.092  0.103  0.093  0.101   \n",
       "          2012-10-17  0.080  0.119  0.075  0.123  0.071  0.126  0.067  0.124   \n",
       "...                     ...    ...    ...    ...    ...    ...    ...    ...   \n",
       "MAC005492 2014-02-23  0.125  0.106  0.103  0.131  0.133  0.102  0.101  0.130   \n",
       "          2014-02-24  0.084  0.081  0.105  0.129  0.087  0.079  0.089  0.111   \n",
       "          2014-02-25  0.094  0.082  0.079  0.124  0.125  0.082  0.080  0.084   \n",
       "          2014-02-26  0.106  0.082  0.080  0.125  0.117  0.081  0.079  0.083   \n",
       "          2014-02-27  0.092  0.105  0.080  0.110  0.086  0.109  0.079  0.081   \n",
       "\n",
       "                      hh_16  hh_17  hh_18  hh_19  hh_20  hh_21  hh_22  hh_23  \\\n",
       "LCLid     day                                                                  \n",
       "MAC000002 2012-10-13  0.146  0.106  0.135  0.191  0.915  0.933  0.122  0.138   \n",
       "          2012-10-14  0.130  0.108  0.196  0.346  0.524  0.076  0.129  0.667   \n",
       "          2012-10-15  0.120  1.075  0.146  0.123  0.082  0.127  0.077  0.551   \n",
       "          2012-10-16  0.144  0.100  0.408  0.102  0.100  0.116  0.354  0.146   \n",
       "          2012-10-17  0.118  0.132  0.358  0.628  0.784  0.681  0.749  0.593   \n",
       "...                     ...    ...    ...    ...    ...    ...    ...    ...   \n",
       "MAC005492 2014-02-23  0.281  0.211  0.149  0.224  0.216  0.379  0.179  0.215   \n",
       "          2014-02-24  0.133  0.133  0.188  0.208  0.168  0.238  0.160  0.250   \n",
       "          2014-02-25  0.080  0.120  0.082  0.348  0.195  0.198  0.210  0.185   \n",
       "          2014-02-26  0.142  0.186  0.153  0.653  0.235  0.144  0.162  0.176   \n",
       "          2014-02-27  0.155  0.110  0.100  0.114  0.375  0.114  0.161  0.136   \n",
       "\n",
       "                      hh_24  hh_25  hh_26  hh_27  hh_28  hh_29  hh_30  hh_31  \\\n",
       "LCLid     day                                                                  \n",
       "MAC000002 2012-10-13  0.076  0.133  0.076  0.133  0.085  0.263  0.134  0.235   \n",
       "          2012-10-14  0.230  0.220  0.163  0.091  0.170  0.110  0.110  0.121   \n",
       "          2012-10-15  0.149  0.129  0.075  0.130  0.075  0.129  0.075  0.128   \n",
       "          2012-10-16  0.190  0.991  0.310  0.121  0.113  0.094  0.119  0.087   \n",
       "          2012-10-17  0.502  0.115  0.113  0.092  0.124  0.084  0.125  0.078   \n",
       "...                     ...    ...    ...    ...    ...    ...    ...    ...   \n",
       "MAC005492 2014-02-23  0.208  0.194  0.203  0.265  0.187  0.196  0.168  0.122   \n",
       "          2014-02-24  0.175  0.080  0.082  0.116  0.088  0.206  0.161  0.203   \n",
       "          2014-02-25  0.174  0.204  0.179  0.156  0.137  0.137  0.132  0.109   \n",
       "          2014-02-26  0.145  0.118  0.168  0.104  0.081  0.129  0.083  0.082   \n",
       "          2014-02-27  0.146  0.122  0.099  0.157  0.146  0.091  0.079  0.082   \n",
       "\n",
       "                      hh_32  hh_33  hh_34  hh_35  hh_36  hh_37  hh_38  hh_39  \\\n",
       "LCLid     day                                                                  \n",
       "MAC000002 2012-10-13  0.124  0.184  0.230  0.176  0.388  0.260  0.918  0.278   \n",
       "          2012-10-14  0.099  0.157  0.093  0.371  0.386  1.085  1.075  0.956   \n",
       "          2012-10-15  0.166  0.194  0.695  0.260  0.227  0.255  1.164  0.249   \n",
       "          2012-10-16  0.130  0.238  0.204  0.284  0.447  0.266  0.966  0.172   \n",
       "          2012-10-17  0.136  0.227  0.207  0.141  0.258  0.217  0.223  0.075   \n",
       "...                     ...    ...    ...    ...    ...    ...    ...    ...   \n",
       "MAC005492 2014-02-23  0.131  0.128  0.135  0.163  0.494  0.290  0.296  0.750   \n",
       "          2014-02-24  0.150  0.096  0.263  0.234  0.254  0.273  0.303  0.378   \n",
       "          2014-02-25  0.170  0.119  0.155  0.155  0.111  0.272  0.545  0.233   \n",
       "          2014-02-26  0.098  0.123  0.193  0.141  0.141  0.687  0.298  0.224   \n",
       "          2014-02-27  0.084  0.137  0.108  0.110  0.137  0.478  0.325  0.258   \n",
       "\n",
       "                      hh_40  hh_41  hh_42  hh_43  hh_44  hh_45  hh_46  hh_47  \n",
       "LCLid     day                                                                 \n",
       "MAC000002 2012-10-13  0.267  0.239  0.230  0.233  0.235  0.188  0.259  0.250  \n",
       "          2012-10-14  0.821  0.745  0.712  0.511  0.231  0.210  0.278  0.159  \n",
       "          2012-10-15  0.225  0.258  0.260  0.334  0.299  0.236  0.241  0.237  \n",
       "          2012-10-16  0.192  0.228  0.203  0.211  0.188  0.213  0.157  0.202  \n",
       "          2012-10-17  0.230  0.208  0.265  0.377  0.327  0.277  0.288  0.256  \n",
       "...                     ...    ...    ...    ...    ...    ...    ...    ...  \n",
       "MAC005492 2014-02-23  0.315  0.326  0.293  0.287  0.213  0.287  0.245  0.222  \n",
       "          2014-02-24  0.253  0.193  0.212  0.193  0.192  0.297  0.168  0.170  \n",
       "          2014-02-25  0.245  0.194  0.215  0.201  0.241  0.162  0.157  0.167  \n",
       "          2014-02-26  0.239  0.242  0.237  0.246  0.333  0.202  0.232  0.203  \n",
       "          2014-02-27  0.259  0.243  0.222  0.250  0.182  0.122  0.140  0.192  \n",
       "\n",
       "[25286 rows x 48 columns]"
      ]
     },
     "execution_count": 8,
     "metadata": {},
     "output_type": "execute_result"
    }
   ],
   "source": [
    "block_1.set_index([\"LCLid\", \"day\"])"
   ]
  },
  {
   "cell_type": "code",
   "execution_count": 9,
   "metadata": {},
   "outputs": [
    {
     "data": {
      "text/plain": [
       "LCLid      day              \n",
       "MAC000002  2012-10-13  hh_0     0.263\n",
       "                       hh_1     0.269\n",
       "                       hh_2     0.275\n",
       "                       hh_3     0.256\n",
       "                       hh_4     0.211\n",
       "                                ...  \n",
       "MAC005492  2014-02-27  hh_43    0.250\n",
       "                       hh_44    0.182\n",
       "                       hh_45    0.122\n",
       "                       hh_46    0.140\n",
       "                       hh_47    0.192\n",
       "Length: 1213678, dtype: float64"
      ]
     },
     "execution_count": 9,
     "metadata": {},
     "output_type": "execute_result"
    }
   ],
   "source": [
    "block_1.set_index([\"LCLid\", \"day\"]).stack()"
   ]
  },
  {
   "cell_type": "code",
   "execution_count": 10,
   "metadata": {},
   "outputs": [
    {
     "data": {
      "text/html": [
       "<div>\n",
       "<style scoped>\n",
       "    .dataframe tbody tr th:only-of-type {\n",
       "        vertical-align: middle;\n",
       "    }\n",
       "\n",
       "    .dataframe tbody tr th {\n",
       "        vertical-align: top;\n",
       "    }\n",
       "\n",
       "    .dataframe thead th {\n",
       "        text-align: right;\n",
       "    }\n",
       "</style>\n",
       "<table border=\"1\" class=\"dataframe\">\n",
       "  <thead>\n",
       "    <tr style=\"text-align: right;\">\n",
       "      <th></th>\n",
       "      <th>LCLid</th>\n",
       "      <th>day</th>\n",
       "      <th>level_2</th>\n",
       "      <th>0</th>\n",
       "    </tr>\n",
       "  </thead>\n",
       "  <tbody>\n",
       "    <tr>\n",
       "      <th>0</th>\n",
       "      <td>MAC000002</td>\n",
       "      <td>2012-10-13</td>\n",
       "      <td>hh_0</td>\n",
       "      <td>0.263</td>\n",
       "    </tr>\n",
       "    <tr>\n",
       "      <th>1</th>\n",
       "      <td>MAC000002</td>\n",
       "      <td>2012-10-13</td>\n",
       "      <td>hh_1</td>\n",
       "      <td>0.269</td>\n",
       "    </tr>\n",
       "    <tr>\n",
       "      <th>2</th>\n",
       "      <td>MAC000002</td>\n",
       "      <td>2012-10-13</td>\n",
       "      <td>hh_2</td>\n",
       "      <td>0.275</td>\n",
       "    </tr>\n",
       "    <tr>\n",
       "      <th>3</th>\n",
       "      <td>MAC000002</td>\n",
       "      <td>2012-10-13</td>\n",
       "      <td>hh_3</td>\n",
       "      <td>0.256</td>\n",
       "    </tr>\n",
       "    <tr>\n",
       "      <th>4</th>\n",
       "      <td>MAC000002</td>\n",
       "      <td>2012-10-13</td>\n",
       "      <td>hh_4</td>\n",
       "      <td>0.211</td>\n",
       "    </tr>\n",
       "    <tr>\n",
       "      <th>...</th>\n",
       "      <td>...</td>\n",
       "      <td>...</td>\n",
       "      <td>...</td>\n",
       "      <td>...</td>\n",
       "    </tr>\n",
       "    <tr>\n",
       "      <th>1213673</th>\n",
       "      <td>MAC005492</td>\n",
       "      <td>2014-02-27</td>\n",
       "      <td>hh_43</td>\n",
       "      <td>0.250</td>\n",
       "    </tr>\n",
       "    <tr>\n",
       "      <th>1213674</th>\n",
       "      <td>MAC005492</td>\n",
       "      <td>2014-02-27</td>\n",
       "      <td>hh_44</td>\n",
       "      <td>0.182</td>\n",
       "    </tr>\n",
       "    <tr>\n",
       "      <th>1213675</th>\n",
       "      <td>MAC005492</td>\n",
       "      <td>2014-02-27</td>\n",
       "      <td>hh_45</td>\n",
       "      <td>0.122</td>\n",
       "    </tr>\n",
       "    <tr>\n",
       "      <th>1213676</th>\n",
       "      <td>MAC005492</td>\n",
       "      <td>2014-02-27</td>\n",
       "      <td>hh_46</td>\n",
       "      <td>0.140</td>\n",
       "    </tr>\n",
       "    <tr>\n",
       "      <th>1213677</th>\n",
       "      <td>MAC005492</td>\n",
       "      <td>2014-02-27</td>\n",
       "      <td>hh_47</td>\n",
       "      <td>0.192</td>\n",
       "    </tr>\n",
       "  </tbody>\n",
       "</table>\n",
       "<p>1213678 rows × 4 columns</p>\n",
       "</div>"
      ],
      "text/plain": [
       "             LCLid        day level_2      0\n",
       "0        MAC000002 2012-10-13    hh_0  0.263\n",
       "1        MAC000002 2012-10-13    hh_1  0.269\n",
       "2        MAC000002 2012-10-13    hh_2  0.275\n",
       "3        MAC000002 2012-10-13    hh_3  0.256\n",
       "4        MAC000002 2012-10-13    hh_4  0.211\n",
       "...            ...        ...     ...    ...\n",
       "1213673  MAC005492 2014-02-27   hh_43  0.250\n",
       "1213674  MAC005492 2014-02-27   hh_44  0.182\n",
       "1213675  MAC005492 2014-02-27   hh_45  0.122\n",
       "1213676  MAC005492 2014-02-27   hh_46  0.140\n",
       "1213677  MAC005492 2014-02-27   hh_47  0.192\n",
       "\n",
       "[1213678 rows x 4 columns]"
      ]
     },
     "execution_count": 10,
     "metadata": {},
     "output_type": "execute_result"
    }
   ],
   "source": [
    "block_1.set_index([\"LCLid\", \"day\"]).stack().reset_index()"
   ]
  },
  {
   "cell_type": "markdown",
   "metadata": {},
   "source": [
    "정리하기"
   ]
  },
  {
   "cell_type": "code",
   "execution_count": 11,
   "metadata": {},
   "outputs": [
    {
     "data": {
      "text/html": [
       "<div>\n",
       "<style scoped>\n",
       "    .dataframe tbody tr th:only-of-type {\n",
       "        vertical-align: middle;\n",
       "    }\n",
       "\n",
       "    .dataframe tbody tr th {\n",
       "        vertical-align: top;\n",
       "    }\n",
       "\n",
       "    .dataframe thead th {\n",
       "        text-align: right;\n",
       "    }\n",
       "</style>\n",
       "<table border=\"1\" class=\"dataframe\">\n",
       "  <thead>\n",
       "    <tr style=\"text-align: right;\">\n",
       "      <th></th>\n",
       "      <th>LCLid</th>\n",
       "      <th>day</th>\n",
       "      <th>hour_block</th>\n",
       "      <th>energy_consumption</th>\n",
       "      <th>offset</th>\n",
       "    </tr>\n",
       "  </thead>\n",
       "  <tbody>\n",
       "    <tr>\n",
       "      <th>0</th>\n",
       "      <td>MAC000002</td>\n",
       "      <td>2012-10-13</td>\n",
       "      <td>hh_0</td>\n",
       "      <td>0.263</td>\n",
       "      <td>0</td>\n",
       "    </tr>\n",
       "    <tr>\n",
       "      <th>1</th>\n",
       "      <td>MAC000002</td>\n",
       "      <td>2012-10-13</td>\n",
       "      <td>hh_1</td>\n",
       "      <td>0.269</td>\n",
       "      <td>1</td>\n",
       "    </tr>\n",
       "    <tr>\n",
       "      <th>2</th>\n",
       "      <td>MAC000002</td>\n",
       "      <td>2012-10-13</td>\n",
       "      <td>hh_2</td>\n",
       "      <td>0.275</td>\n",
       "      <td>2</td>\n",
       "    </tr>\n",
       "    <tr>\n",
       "      <th>3</th>\n",
       "      <td>MAC000002</td>\n",
       "      <td>2012-10-13</td>\n",
       "      <td>hh_3</td>\n",
       "      <td>0.256</td>\n",
       "      <td>3</td>\n",
       "    </tr>\n",
       "    <tr>\n",
       "      <th>4</th>\n",
       "      <td>MAC000002</td>\n",
       "      <td>2012-10-13</td>\n",
       "      <td>hh_4</td>\n",
       "      <td>0.211</td>\n",
       "      <td>4</td>\n",
       "    </tr>\n",
       "  </tbody>\n",
       "</table>\n",
       "</div>"
      ],
      "text/plain": [
       "       LCLid        day hour_block  energy_consumption  offset\n",
       "0  MAC000002 2012-10-13       hh_0               0.263       0\n",
       "1  MAC000002 2012-10-13       hh_1               0.269       1\n",
       "2  MAC000002 2012-10-13       hh_2               0.275       2\n",
       "3  MAC000002 2012-10-13       hh_3               0.256       3\n",
       "4  MAC000002 2012-10-13       hh_4               0.211       4"
      ]
     },
     "execution_count": 11,
     "metadata": {},
     "output_type": "execute_result"
    }
   ],
   "source": [
    "#Reshaping the dataframe into the long form with hour blocks along the rows\n",
    "block_1 = block_1.set_index(['LCLid', \"day\"]).stack().reset_index().rename(columns={\"level_2\": \"hour_block\", 0: \"energy_consumption\"})\n",
    "#Creating a numerical hourblock column\n",
    "block_1['offset'] = block_1['hour_block'].str.replace(\"hh_\", \"\").astype(int)\n",
    "\n",
    "block_1.head()"
   ]
  },
  {
   "cell_type": "markdown",
   "metadata": {},
   "source": [
    "각 데이터 집합을 컴팩트 또는 확장된 형식으로 변환하기 위해 수행해야 하는 단계는 다를 수 있습니다.  \n",
    "원본 데이터가 어떻게 구조화되어 있는지에 따라 다릅니다.  \n",
    "여기서는 런던 스마트 미터 데이터 집합을 어떻게 변환하여 이러한 학습 내용을 다른 데이터 집합으로 옮길 수 있는지 살펴보겠습니다. \n",
    "\n",
    "데이터를 compact 또는 expanded 형태로 처리하기 전에 수행해야 할 두 가지 단계가 있습니다:"
   ]
  },
  {
   "cell_type": "markdown",
   "metadata": {},
   "source": [
    "1. 글로벌 종료 날짜를 찾습니다: 시계열의 글로벌 종료 날짜를 알 수 있도록 모든 블록 파일에서 최대 날짜를 찾아야 합니다.\n",
    "\n",
    "2. 기본 전처리: hhblock_dataset의 구조를 기억하신다면, 각 행에 날짜가 있고 열을 따라 30분마다 블록이 있다는 것을 기억하실 것입니다. 이를 각 행에 날짜와 30분 단위의 단일 블록이 있는 긴 형태로 재구성해야 합니다. 이렇게 하면 처리하기가 더 쉽습니다."
   ]
  },
  {
   "cell_type": "markdown",
   "metadata": {},
   "source": [
    "Expanded form"
   ]
  },
  {
   "cell_type": "markdown",
   "metadata": {},
   "source": [
    "1. 시작 날짜를 찾습니다.\n",
    "\n",
    "2. 시작 날짜와 전역 종료 날짜를 사용하여 표준 데이터 프레임을 만듭니다.\n",
    "\n",
    "3. 누락된 데이터는 np.nan으로 남겨두고 LCLid용 데이터 프레임을 표준 데이터 프레임에 왼쪽으로 병합합니다.\n",
    "\n",
    "4. 병합된 데이터 프레임을 반환합니다."
   ]
  },
  {
   "cell_type": "code",
   "execution_count": 12,
   "metadata": {},
   "outputs": [],
   "source": [
    "def preprocess_expanded(x):\n",
    "    start_date = x['day'].min()\n",
    "    ### Fill missing dates with NaN ###\n",
    "    # Create a date range from  min to max\n",
    "    dr = pd.date_range(start=x['day'].min(), end=x['day'].max(), freq=\"1D\")\n",
    "    # Add hh_0 to hh_47 to columns and with some unstack magic recreating date-hh_x combinations\n",
    "    dr = pd.DataFrame(columns=[f\"hh_{i}\" for i in range(48)], index=dr).unstack().reset_index()\n",
    "    # renaming the columns\n",
    "    dr.columns = [\"hour_block\", \"day\", \"_\"]\n",
    "    # left merging the dataframe to the standard dataframe\n",
    "    # now the missing values will be left as NaN\n",
    "    dr = dr.merge(x, on=['hour_block','day'], how='left')\n",
    "    dr['series_length'] = len(dr)\n",
    "    return dr"
   ]
  },
  {
   "cell_type": "code",
   "execution_count": 13,
   "metadata": {},
   "outputs": [],
   "source": [
    "def load_process_block_expanded(block_df, freq=\"30min\"):\n",
    "    grps = block_df.groupby('LCLid')\n",
    "    all_series = []\n",
    "    for idx, df in tqdm(grps, leave=False):\n",
    "        ts = preprocess_expanded(df)\n",
    "        all_series.append(ts)\n",
    "\n",
    "    block_df = pd.concat(all_series)\n",
    "    # Recreate Offset because there would be null rows now\n",
    "    block_df['offset'] = block_df['hour_block'].str.replace(\"hh_\", \"\").astype(int)\n",
    "    # Creating a datetime column with the date | Will take some time because operation is not vectorized\n",
    "    block_df['timestamp'] = block_df['day'] + block_df['offset']*30*pd.offsets.Minute()\n",
    "    block_df['frequency'] = freq\n",
    "    block_df.sort_values([\"LCLid\",\"timestamp\"], inplace=True)\n",
    "    block_df.drop(columns=[\"_\", \"hour_block\", \"offset\", \"day\"], inplace=True)\n",
    "    return block_df"
   ]
  },
  {
   "cell_type": "code",
   "execution_count": 14,
   "metadata": {},
   "outputs": [
    {
     "data": {
      "application/vnd.jupyter.widget-view+json": {
       "model_id": "950fd4adaa394c98ba729c57860e75cb",
       "version_major": 2,
       "version_minor": 0
      },
      "text/plain": [
       "  0%|          | 0/50 [00:00<?, ?it/s]"
      ]
     },
     "metadata": {},
     "output_type": "display_data"
    }
   ],
   "source": [
    "block_1_expanded = load_process_block_expanded(\n",
    "    block_1,\n",
    "    freq='30min'\n",
    "    )"
   ]
  },
  {
   "cell_type": "code",
   "execution_count": 15,
   "metadata": {},
   "outputs": [
    {
     "data": {
      "text/html": [
       "<div>\n",
       "<style scoped>\n",
       "    .dataframe tbody tr th:only-of-type {\n",
       "        vertical-align: middle;\n",
       "    }\n",
       "\n",
       "    .dataframe tbody tr th {\n",
       "        vertical-align: top;\n",
       "    }\n",
       "\n",
       "    .dataframe thead th {\n",
       "        text-align: right;\n",
       "    }\n",
       "</style>\n",
       "<table border=\"1\" class=\"dataframe\">\n",
       "  <thead>\n",
       "    <tr style=\"text-align: right;\">\n",
       "      <th></th>\n",
       "      <th>LCLid</th>\n",
       "      <th>energy_consumption</th>\n",
       "      <th>series_length</th>\n",
       "      <th>timestamp</th>\n",
       "      <th>frequency</th>\n",
       "    </tr>\n",
       "  </thead>\n",
       "  <tbody>\n",
       "    <tr>\n",
       "      <th>0</th>\n",
       "      <td>MAC000002</td>\n",
       "      <td>0.263</td>\n",
       "      <td>24144</td>\n",
       "      <td>2012-10-13 00:00:00</td>\n",
       "      <td>30min</td>\n",
       "    </tr>\n",
       "    <tr>\n",
       "      <th>503</th>\n",
       "      <td>MAC000002</td>\n",
       "      <td>0.269</td>\n",
       "      <td>24144</td>\n",
       "      <td>2012-10-13 00:30:00</td>\n",
       "      <td>30min</td>\n",
       "    </tr>\n",
       "    <tr>\n",
       "      <th>1006</th>\n",
       "      <td>MAC000002</td>\n",
       "      <td>0.275</td>\n",
       "      <td>24144</td>\n",
       "      <td>2012-10-13 01:00:00</td>\n",
       "      <td>30min</td>\n",
       "    </tr>\n",
       "    <tr>\n",
       "      <th>1509</th>\n",
       "      <td>MAC000002</td>\n",
       "      <td>0.256</td>\n",
       "      <td>24144</td>\n",
       "      <td>2012-10-13 01:30:00</td>\n",
       "      <td>30min</td>\n",
       "    </tr>\n",
       "    <tr>\n",
       "      <th>2012</th>\n",
       "      <td>MAC000002</td>\n",
       "      <td>0.211</td>\n",
       "      <td>24144</td>\n",
       "      <td>2012-10-13 02:00:00</td>\n",
       "      <td>30min</td>\n",
       "    </tr>\n",
       "  </tbody>\n",
       "</table>\n",
       "</div>"
      ],
      "text/plain": [
       "          LCLid  energy_consumption  series_length            timestamp  \\\n",
       "0     MAC000002               0.263          24144  2012-10-13 00:00:00   \n",
       "503   MAC000002               0.269          24144  2012-10-13 00:30:00   \n",
       "1006  MAC000002               0.275          24144  2012-10-13 01:00:00   \n",
       "1509  MAC000002               0.256          24144  2012-10-13 01:30:00   \n",
       "2012  MAC000002               0.211          24144  2012-10-13 02:00:00   \n",
       "\n",
       "     frequency  \n",
       "0        30min  \n",
       "503      30min  \n",
       "1006     30min  \n",
       "1509     30min  \n",
       "2012     30min  "
      ]
     },
     "execution_count": 15,
     "metadata": {},
     "output_type": "execute_result"
    }
   ],
   "source": [
    "block_1_expanded.head()"
   ]
  },
  {
   "cell_type": "code",
   "execution_count": 16,
   "metadata": {},
   "outputs": [
    {
     "data": {
      "text/plain": [
       "Index                 9834240\n",
       "LCLid                 9834240\n",
       "energy_consumption    9834240\n",
       "series_length         9834240\n",
       "timestamp             9834240\n",
       "frequency             9834240\n",
       "dtype: int64"
      ]
     },
     "metadata": {},
     "output_type": "display_data"
    },
    {
     "name": "stdout",
     "output_type": "stream",
     "text": [
      "Total: 56.27197265625 MB\n"
     ]
    }
   ],
   "source": [
    "display(block_1_expanded.memory_usage())\n",
    "print(f\"Total: {block_1_expanded.memory_usage().sum()/1024**2} MB\")"
   ]
  },
  {
   "cell_type": "markdown",
   "metadata": {},
   "source": [
    "- 메모리 많이 소요"
   ]
  },
  {
   "cell_type": "markdown",
   "metadata": {},
   "source": [
    "Compact form    \n",
    "\n",
    "1. 시작 날짜와 시계열 식별자를 찾습니다.  \n",
    "2. 시작 날짜와 전역 종료 날짜를 사용하여 표준 데이터 프레임을 만듭니다.  \n",
    "3. LCLid 데이터 프레임을 left merge로 표준 데이터 프레임에 병합하고 누락된 데이터는 np.nan으로 남깁니다.  \n",
    "4. 날짜를 기준으로 값을 정렬합니다.\n",
    "5. 시계열 배열을 시계열 식별자, 시작 날짜 및 시계열 길이와 함께 반환합니다."
   ]
  },
  {
   "cell_type": "markdown",
   "metadata": {},
   "source": [
    "각 LCLid에 대한 이 정보를 확보하면 이를 데이터프레임으로 컴파일하고 빈도로 30분을 추가할 수 있습니다. 한 블록의 경우, 이 표현은 약 0.002MB의 메모리만 차지합니다. 작업하기 쉽고 리소스를 훨씬 덜 소모하는 컴팩트한 형태를 사용할 것입니다."
   ]
  },
  {
   "cell_type": "code",
   "execution_count": 17,
   "metadata": {},
   "outputs": [],
   "source": [
    "def preprocess_compact(x):\n",
    "    start_date = x['day'].min()\n",
    "    name = x['LCLid'].unique()[0]\n",
    "    ### Fill missing dates with NaN ###\n",
    "    # Create a date range from  min to max\n",
    "    dr = pd.date_range(start=x['day'].min(), end=max_date, freq=\"1D\")\n",
    "    # Add hh_0 to hh_47 to columns and with some unstack magic recreating date-hh_x combinations\n",
    "    dr = pd.DataFrame(columns=[f\"hh_{i}\" for i in range(48)], index=dr).unstack().reset_index()\n",
    "    # renaming the columns\n",
    "    dr.columns = [\"hour_block\", \"day\", \"_\"]\n",
    "    # left merging the dataframe to the standard dataframe\n",
    "    # now the missing values will be left as NaN\n",
    "    dr = dr.merge(x, on=['hour_block','day'], how='left')\n",
    "    # sorting the rows\n",
    "    dr.sort_values(['day',\"offset\"], inplace=True)\n",
    "    # extracting the timeseries array\n",
    "    ts = dr['energy_consumption'].values\n",
    "    len_ts = len(ts)\n",
    "    return start_date, name, ts, len_ts"
   ]
  },
  {
   "cell_type": "code",
   "execution_count": 18,
   "metadata": {},
   "outputs": [],
   "source": [
    "def load_process_block_compact(block_df, freq=\"30min\", ts_identifier=\"series_name\", value_name=\"series_value\"):\n",
    "    grps = block_df.groupby('LCLid')\n",
    "    all_series = []\n",
    "    all_start_dates = []\n",
    "    all_names = []\n",
    "    all_data = {}\n",
    "    all_len = []\n",
    "    for idx, df in tqdm(grps, leave=False):\n",
    "        start_date, name, ts, len_ts = preprocess_compact(df)\n",
    "        all_series.append(ts)\n",
    "        all_start_dates.append(start_date)\n",
    "        all_names.append(name)\n",
    "        all_len.append(len_ts)\n",
    "\n",
    "    all_data[ts_identifier] = all_names\n",
    "    all_data['start_timestamp'] = all_start_dates\n",
    "    all_data['frequency'] = freq\n",
    "    all_data[value_name] = all_series\n",
    "    all_data['series_length'] = all_len\n",
    "    return pd.DataFrame(all_data)"
   ]
  },
  {
   "cell_type": "code",
   "execution_count": 19,
   "metadata": {},
   "outputs": [
    {
     "data": {
      "application/vnd.jupyter.widget-view+json": {
       "model_id": "77de24a75f814d7a811d4bc8a386d37a",
       "version_major": 2,
       "version_minor": 0
      },
      "text/plain": [
       "  0%|          | 0/50 [00:00<?, ?it/s]"
      ]
     },
     "metadata": {},
     "output_type": "display_data"
    }
   ],
   "source": [
    "block1_compact = load_process_block_compact(\n",
    "    block_1, \n",
    "    freq=\"30min\", \n",
    "    ts_identifier=\"LCLid\", \n",
    "    value_name=\"energy_consumption\"\n",
    "    )"
   ]
  },
  {
   "cell_type": "code",
   "execution_count": 20,
   "metadata": {},
   "outputs": [
    {
     "data": {
      "text/html": [
       "<div>\n",
       "<style scoped>\n",
       "    .dataframe tbody tr th:only-of-type {\n",
       "        vertical-align: middle;\n",
       "    }\n",
       "\n",
       "    .dataframe tbody tr th {\n",
       "        vertical-align: top;\n",
       "    }\n",
       "\n",
       "    .dataframe thead th {\n",
       "        text-align: right;\n",
       "    }\n",
       "</style>\n",
       "<table border=\"1\" class=\"dataframe\">\n",
       "  <thead>\n",
       "    <tr style=\"text-align: right;\">\n",
       "      <th></th>\n",
       "      <th>LCLid</th>\n",
       "      <th>start_timestamp</th>\n",
       "      <th>frequency</th>\n",
       "      <th>energy_consumption</th>\n",
       "      <th>series_length</th>\n",
       "    </tr>\n",
       "  </thead>\n",
       "  <tbody>\n",
       "    <tr>\n",
       "      <th>0</th>\n",
       "      <td>MAC000002</td>\n",
       "      <td>2012-10-13</td>\n",
       "      <td>30min</td>\n",
       "      <td>[0.263, 0.2689999999999999, 0.275, 0.256, 0.21...</td>\n",
       "      <td>24144</td>\n",
       "    </tr>\n",
       "    <tr>\n",
       "      <th>1</th>\n",
       "      <td>MAC000246</td>\n",
       "      <td>2011-12-04</td>\n",
       "      <td>30min</td>\n",
       "      <td>[0.175, 0.098, 0.144, 0.065, 0.071, 0.037, 0.0...</td>\n",
       "      <td>39216</td>\n",
       "    </tr>\n",
       "    <tr>\n",
       "      <th>2</th>\n",
       "      <td>MAC000450</td>\n",
       "      <td>2012-03-23</td>\n",
       "      <td>30min</td>\n",
       "      <td>[1.337, 1.426, 0.996, 0.971, 0.994, 0.952, 0.8...</td>\n",
       "      <td>33936</td>\n",
       "    </tr>\n",
       "    <tr>\n",
       "      <th>3</th>\n",
       "      <td>MAC001074</td>\n",
       "      <td>2012-05-09</td>\n",
       "      <td>30min</td>\n",
       "      <td>[0.18, 0.086, 0.106, 0.173, 0.146, 0.223, 0.21...</td>\n",
       "      <td>31680</td>\n",
       "    </tr>\n",
       "    <tr>\n",
       "      <th>4</th>\n",
       "      <td>MAC003223</td>\n",
       "      <td>2012-09-18</td>\n",
       "      <td>30min</td>\n",
       "      <td>[0.076, 0.079, 0.123, 0.109, 0.051, 0.069, 0.0...</td>\n",
       "      <td>25344</td>\n",
       "    </tr>\n",
       "  </tbody>\n",
       "</table>\n",
       "</div>"
      ],
      "text/plain": [
       "       LCLid start_timestamp frequency  \\\n",
       "0  MAC000002      2012-10-13     30min   \n",
       "1  MAC000246      2011-12-04     30min   \n",
       "2  MAC000450      2012-03-23     30min   \n",
       "3  MAC001074      2012-05-09     30min   \n",
       "4  MAC003223      2012-09-18     30min   \n",
       "\n",
       "                                  energy_consumption  series_length  \n",
       "0  [0.263, 0.2689999999999999, 0.275, 0.256, 0.21...          24144  \n",
       "1  [0.175, 0.098, 0.144, 0.065, 0.071, 0.037, 0.0...          39216  \n",
       "2  [1.337, 1.426, 0.996, 0.971, 0.994, 0.952, 0.8...          33936  \n",
       "3  [0.18, 0.086, 0.106, 0.173, 0.146, 0.223, 0.21...          31680  \n",
       "4  [0.076, 0.079, 0.123, 0.109, 0.051, 0.069, 0.0...          25344  "
      ]
     },
     "execution_count": 20,
     "metadata": {},
     "output_type": "execute_result"
    }
   ],
   "source": [
    "block1_compact.head()"
   ]
  },
  {
   "cell_type": "code",
   "execution_count": 21,
   "metadata": {},
   "outputs": [
    {
     "data": {
      "text/plain": [
       "Index                  128\n",
       "LCLid                 3300\n",
       "start_timestamp        400\n",
       "frequency             3100\n",
       "energy_consumption    6000\n",
       "series_length          400\n",
       "dtype: int64"
      ]
     },
     "metadata": {},
     "output_type": "display_data"
    },
    {
     "name": "stdout",
     "output_type": "stream",
     "text": [
      "Total: 0.0127105712890625 MB\n"
     ]
    }
   ],
   "source": [
    "display(block1_compact.memory_usage(deep=True))\n",
    "print(f\"Total: {block1_compact.memory_usage(deep=True).sum()/1024**2} MB\")"
   ]
  },
  {
   "cell_type": "code",
   "execution_count": 22,
   "metadata": {},
   "outputs": [],
   "source": [
    "del block_1_expanded, block_1, block1_compact"
   ]
  },
  {
   "cell_type": "markdown",
   "metadata": {},
   "source": [
    "#### Reading and combining all the block data into a single dataframe"
   ]
  },
  {
   "cell_type": "code",
   "execution_count": 23,
   "metadata": {},
   "outputs": [
    {
     "data": {
      "application/vnd.jupyter.widget-view+json": {
       "model_id": "21c2e2d421814b1fbb77511e852e64ca",
       "version_major": 2,
       "version_minor": 0
      },
      "text/plain": [
       "Processing Blocks..:   0%|          | 0/112 [00:00<?, ?it/s]"
      ]
     },
     "metadata": {},
     "output_type": "display_data"
    },
    {
     "data": {
      "application/vnd.jupyter.widget-view+json": {
       "model_id": "889def6d1f0247f08b46e7ee8a191690",
       "version_major": 2,
       "version_minor": 0
      },
      "text/plain": [
       "  0%|          | 0/50 [00:00<?, ?it/s]"
      ]
     },
     "metadata": {},
     "output_type": "display_data"
    },
    {
     "data": {
      "application/vnd.jupyter.widget-view+json": {
       "model_id": "28cc789285d2418485a095472c5d4585",
       "version_major": 2,
       "version_minor": 0
      },
      "text/plain": [
       "  0%|          | 0/50 [00:00<?, ?it/s]"
      ]
     },
     "metadata": {},
     "output_type": "display_data"
    },
    {
     "data": {
      "application/vnd.jupyter.widget-view+json": {
       "model_id": "83557f1ab47d44818a0e984ebb1ae145",
       "version_major": 2,
       "version_minor": 0
      },
      "text/plain": [
       "  0%|          | 0/50 [00:00<?, ?it/s]"
      ]
     },
     "metadata": {},
     "output_type": "display_data"
    },
    {
     "data": {
      "application/vnd.jupyter.widget-view+json": {
       "model_id": "d7bd2e4b76c54ee3b51d59db9fc4a1fb",
       "version_major": 2,
       "version_minor": 0
      },
      "text/plain": [
       "  0%|          | 0/50 [00:00<?, ?it/s]"
      ]
     },
     "metadata": {},
     "output_type": "display_data"
    },
    {
     "data": {
      "application/vnd.jupyter.widget-view+json": {
       "model_id": "dd6e0fef258949878b8038a0042f3891",
       "version_major": 2,
       "version_minor": 0
      },
      "text/plain": [
       "  0%|          | 0/50 [00:00<?, ?it/s]"
      ]
     },
     "metadata": {},
     "output_type": "display_data"
    },
    {
     "data": {
      "application/vnd.jupyter.widget-view+json": {
       "model_id": "a94272b7b5b94172a63a5ebba1ef017c",
       "version_major": 2,
       "version_minor": 0
      },
      "text/plain": [
       "  0%|          | 0/50 [00:00<?, ?it/s]"
      ]
     },
     "metadata": {},
     "output_type": "display_data"
    },
    {
     "data": {
      "application/vnd.jupyter.widget-view+json": {
       "model_id": "586dfb8fde5f4924a635d40477cb5dc2",
       "version_major": 2,
       "version_minor": 0
      },
      "text/plain": [
       "  0%|          | 0/50 [00:00<?, ?it/s]"
      ]
     },
     "metadata": {},
     "output_type": "display_data"
    },
    {
     "data": {
      "application/vnd.jupyter.widget-view+json": {
       "model_id": "2c3dbfe564b54bfda5ff7629e46e5222",
       "version_major": 2,
       "version_minor": 0
      },
      "text/plain": [
       "  0%|          | 0/50 [00:00<?, ?it/s]"
      ]
     },
     "metadata": {},
     "output_type": "display_data"
    },
    {
     "data": {
      "application/vnd.jupyter.widget-view+json": {
       "model_id": "1d4d1cb15ae14cf1a9bd447bd8c77ad6",
       "version_major": 2,
       "version_minor": 0
      },
      "text/plain": [
       "  0%|          | 0/50 [00:00<?, ?it/s]"
      ]
     },
     "metadata": {},
     "output_type": "display_data"
    },
    {
     "data": {
      "application/vnd.jupyter.widget-view+json": {
       "model_id": "a2e64a607b37453abf0d591f737c7bde",
       "version_major": 2,
       "version_minor": 0
      },
      "text/plain": [
       "  0%|          | 0/50 [00:00<?, ?it/s]"
      ]
     },
     "metadata": {},
     "output_type": "display_data"
    },
    {
     "data": {
      "application/vnd.jupyter.widget-view+json": {
       "model_id": "87d3f738d55b4117b9d74ee0c203b954",
       "version_major": 2,
       "version_minor": 0
      },
      "text/plain": [
       "  0%|          | 0/50 [00:00<?, ?it/s]"
      ]
     },
     "metadata": {},
     "output_type": "display_data"
    },
    {
     "data": {
      "application/vnd.jupyter.widget-view+json": {
       "model_id": "1558e000b1b14f07a055dfb9a9e29f6e",
       "version_major": 2,
       "version_minor": 0
      },
      "text/plain": [
       "  0%|          | 0/50 [00:00<?, ?it/s]"
      ]
     },
     "metadata": {},
     "output_type": "display_data"
    },
    {
     "data": {
      "application/vnd.jupyter.widget-view+json": {
       "model_id": "90517751fe99425f9291f94777152861",
       "version_major": 2,
       "version_minor": 0
      },
      "text/plain": [
       "  0%|          | 0/48 [00:00<?, ?it/s]"
      ]
     },
     "metadata": {},
     "output_type": "display_data"
    },
    {
     "data": {
      "application/vnd.jupyter.widget-view+json": {
       "model_id": "18c3d7996f584af6be97c2c0905a22ea",
       "version_major": 2,
       "version_minor": 0
      },
      "text/plain": [
       "  0%|          | 0/50 [00:00<?, ?it/s]"
      ]
     },
     "metadata": {},
     "output_type": "display_data"
    },
    {
     "data": {
      "application/vnd.jupyter.widget-view+json": {
       "model_id": "880476ab8230430eabf35a0f8f97a519",
       "version_major": 2,
       "version_minor": 0
      },
      "text/plain": [
       "  0%|          | 0/50 [00:00<?, ?it/s]"
      ]
     },
     "metadata": {},
     "output_type": "display_data"
    },
    {
     "data": {
      "application/vnd.jupyter.widget-view+json": {
       "model_id": "9d3390e81c5e414783cee994aae81e90",
       "version_major": 2,
       "version_minor": 0
      },
      "text/plain": [
       "  0%|          | 0/16 [00:00<?, ?it/s]"
      ]
     },
     "metadata": {},
     "output_type": "display_data"
    },
    {
     "data": {
      "application/vnd.jupyter.widget-view+json": {
       "model_id": "d89df8e087844c17823dabc43402a497",
       "version_major": 2,
       "version_minor": 0
      },
      "text/plain": [
       "  0%|          | 0/50 [00:00<?, ?it/s]"
      ]
     },
     "metadata": {},
     "output_type": "display_data"
    },
    {
     "data": {
      "application/vnd.jupyter.widget-view+json": {
       "model_id": "26b4c407fd4746438beea368df4144bf",
       "version_major": 2,
       "version_minor": 0
      },
      "text/plain": [
       "  0%|          | 0/50 [00:00<?, ?it/s]"
      ]
     },
     "metadata": {},
     "output_type": "display_data"
    },
    {
     "data": {
      "application/vnd.jupyter.widget-view+json": {
       "model_id": "b664bfbd32df4965a0ca9ab4e18f421d",
       "version_major": 2,
       "version_minor": 0
      },
      "text/plain": [
       "  0%|          | 0/50 [00:00<?, ?it/s]"
      ]
     },
     "metadata": {},
     "output_type": "display_data"
    },
    {
     "data": {
      "application/vnd.jupyter.widget-view+json": {
       "model_id": "f6714b4b411a41669b78ea2f026c9383",
       "version_major": 2,
       "version_minor": 0
      },
      "text/plain": [
       "  0%|          | 0/50 [00:00<?, ?it/s]"
      ]
     },
     "metadata": {},
     "output_type": "display_data"
    },
    {
     "data": {
      "application/vnd.jupyter.widget-view+json": {
       "model_id": "87dcb53f83474452bc4341b3d600971e",
       "version_major": 2,
       "version_minor": 0
      },
      "text/plain": [
       "  0%|          | 0/50 [00:00<?, ?it/s]"
      ]
     },
     "metadata": {},
     "output_type": "display_data"
    },
    {
     "data": {
      "application/vnd.jupyter.widget-view+json": {
       "model_id": "6f453d25543e46c8a05486c144b3fc6a",
       "version_major": 2,
       "version_minor": 0
      },
      "text/plain": [
       "  0%|          | 0/50 [00:00<?, ?it/s]"
      ]
     },
     "metadata": {},
     "output_type": "display_data"
    },
    {
     "data": {
      "application/vnd.jupyter.widget-view+json": {
       "model_id": "27bb73174a9a4f1eb42d3e0fb9604151",
       "version_major": 2,
       "version_minor": 0
      },
      "text/plain": [
       "  0%|          | 0/50 [00:00<?, ?it/s]"
      ]
     },
     "metadata": {},
     "output_type": "display_data"
    },
    {
     "data": {
      "application/vnd.jupyter.widget-view+json": {
       "model_id": "047d6dd0ff9941aa9db4a217376f49b0",
       "version_major": 2,
       "version_minor": 0
      },
      "text/plain": [
       "  0%|          | 0/50 [00:00<?, ?it/s]"
      ]
     },
     "metadata": {},
     "output_type": "display_data"
    },
    {
     "data": {
      "application/vnd.jupyter.widget-view+json": {
       "model_id": "d060ab5fd5df4f9593fd213f15ebd676",
       "version_major": 2,
       "version_minor": 0
      },
      "text/plain": [
       "  0%|          | 0/50 [00:00<?, ?it/s]"
      ]
     },
     "metadata": {},
     "output_type": "display_data"
    },
    {
     "data": {
      "application/vnd.jupyter.widget-view+json": {
       "model_id": "bc38391724ea416a9945efba01718892",
       "version_major": 2,
       "version_minor": 0
      },
      "text/plain": [
       "  0%|          | 0/50 [00:00<?, ?it/s]"
      ]
     },
     "metadata": {},
     "output_type": "display_data"
    },
    {
     "data": {
      "application/vnd.jupyter.widget-view+json": {
       "model_id": "42e66ef83d774562904f22bb396b63b1",
       "version_major": 2,
       "version_minor": 0
      },
      "text/plain": [
       "  0%|          | 0/50 [00:00<?, ?it/s]"
      ]
     },
     "metadata": {},
     "output_type": "display_data"
    },
    {
     "data": {
      "application/vnd.jupyter.widget-view+json": {
       "model_id": "12b6647887284818a77032bb6a49228b",
       "version_major": 2,
       "version_minor": 0
      },
      "text/plain": [
       "  0%|          | 0/50 [00:00<?, ?it/s]"
      ]
     },
     "metadata": {},
     "output_type": "display_data"
    },
    {
     "data": {
      "application/vnd.jupyter.widget-view+json": {
       "model_id": "18238d008ccd42beb92d479837c57e5a",
       "version_major": 2,
       "version_minor": 0
      },
      "text/plain": [
       "  0%|          | 0/50 [00:00<?, ?it/s]"
      ]
     },
     "metadata": {},
     "output_type": "display_data"
    },
    {
     "data": {
      "application/vnd.jupyter.widget-view+json": {
       "model_id": "2d86b1271347471c82b9a6575d5e91be",
       "version_major": 2,
       "version_minor": 0
      },
      "text/plain": [
       "  0%|          | 0/50 [00:00<?, ?it/s]"
      ]
     },
     "metadata": {},
     "output_type": "display_data"
    },
    {
     "data": {
      "application/vnd.jupyter.widget-view+json": {
       "model_id": "d61325839e53450f96c4b1c490fd0f7a",
       "version_major": 2,
       "version_minor": 0
      },
      "text/plain": [
       "  0%|          | 0/50 [00:00<?, ?it/s]"
      ]
     },
     "metadata": {},
     "output_type": "display_data"
    },
    {
     "data": {
      "application/vnd.jupyter.widget-view+json": {
       "model_id": "64072de17142434894cf568243ddfd3e",
       "version_major": 2,
       "version_minor": 0
      },
      "text/plain": [
       "  0%|          | 0/50 [00:00<?, ?it/s]"
      ]
     },
     "metadata": {},
     "output_type": "display_data"
    },
    {
     "data": {
      "application/vnd.jupyter.widget-view+json": {
       "model_id": "2019cf8169a74020b070b7f31abd3bcd",
       "version_major": 2,
       "version_minor": 0
      },
      "text/plain": [
       "  0%|          | 0/50 [00:00<?, ?it/s]"
      ]
     },
     "metadata": {},
     "output_type": "display_data"
    },
    {
     "data": {
      "application/vnd.jupyter.widget-view+json": {
       "model_id": "5e4150dab8db494e9ef32aac08924719",
       "version_major": 2,
       "version_minor": 0
      },
      "text/plain": [
       "  0%|          | 0/50 [00:00<?, ?it/s]"
      ]
     },
     "metadata": {},
     "output_type": "display_data"
    },
    {
     "data": {
      "application/vnd.jupyter.widget-view+json": {
       "model_id": "92d9025bf01d43288d489bdf2ef12644",
       "version_major": 2,
       "version_minor": 0
      },
      "text/plain": [
       "  0%|          | 0/50 [00:00<?, ?it/s]"
      ]
     },
     "metadata": {},
     "output_type": "display_data"
    },
    {
     "data": {
      "application/vnd.jupyter.widget-view+json": {
       "model_id": "0b119a56ac094403b9f73913b0bb110d",
       "version_major": 2,
       "version_minor": 0
      },
      "text/plain": [
       "  0%|          | 0/50 [00:00<?, ?it/s]"
      ]
     },
     "metadata": {},
     "output_type": "display_data"
    },
    {
     "data": {
      "application/vnd.jupyter.widget-view+json": {
       "model_id": "4afe987f263c4f7688b69793c9a681fd",
       "version_major": 2,
       "version_minor": 0
      },
      "text/plain": [
       "  0%|          | 0/50 [00:00<?, ?it/s]"
      ]
     },
     "metadata": {},
     "output_type": "display_data"
    },
    {
     "data": {
      "application/vnd.jupyter.widget-view+json": {
       "model_id": "d06aeb84dd414e629696df2f52f23f51",
       "version_major": 2,
       "version_minor": 0
      },
      "text/plain": [
       "  0%|          | 0/50 [00:00<?, ?it/s]"
      ]
     },
     "metadata": {},
     "output_type": "display_data"
    },
    {
     "data": {
      "application/vnd.jupyter.widget-view+json": {
       "model_id": "1f449669514642d69e2456c96c4964af",
       "version_major": 2,
       "version_minor": 0
      },
      "text/plain": [
       "  0%|          | 0/50 [00:00<?, ?it/s]"
      ]
     },
     "metadata": {},
     "output_type": "display_data"
    },
    {
     "data": {
      "application/vnd.jupyter.widget-view+json": {
       "model_id": "8bf8d7ee5b2d476b83a7af72c88ea4d7",
       "version_major": 2,
       "version_minor": 0
      },
      "text/plain": [
       "  0%|          | 0/50 [00:00<?, ?it/s]"
      ]
     },
     "metadata": {},
     "output_type": "display_data"
    },
    {
     "data": {
      "application/vnd.jupyter.widget-view+json": {
       "model_id": "2fab2f40a8884269a6a38d2b2dcf2889",
       "version_major": 2,
       "version_minor": 0
      },
      "text/plain": [
       "  0%|          | 0/50 [00:00<?, ?it/s]"
      ]
     },
     "metadata": {},
     "output_type": "display_data"
    },
    {
     "data": {
      "application/vnd.jupyter.widget-view+json": {
       "model_id": "20394850ab384aa1aa1808bbc3a8786e",
       "version_major": 2,
       "version_minor": 0
      },
      "text/plain": [
       "  0%|          | 0/50 [00:00<?, ?it/s]"
      ]
     },
     "metadata": {},
     "output_type": "display_data"
    },
    {
     "data": {
      "application/vnd.jupyter.widget-view+json": {
       "model_id": "9aae292a03614ccaaee58a919ba37b59",
       "version_major": 2,
       "version_minor": 0
      },
      "text/plain": [
       "  0%|          | 0/50 [00:00<?, ?it/s]"
      ]
     },
     "metadata": {},
     "output_type": "display_data"
    },
    {
     "data": {
      "application/vnd.jupyter.widget-view+json": {
       "model_id": "3dcb5d16b6884dd89ee7a214a0d69650",
       "version_major": 2,
       "version_minor": 0
      },
      "text/plain": [
       "  0%|          | 0/50 [00:00<?, ?it/s]"
      ]
     },
     "metadata": {},
     "output_type": "display_data"
    },
    {
     "data": {
      "application/vnd.jupyter.widget-view+json": {
       "model_id": "d5edbfc4649e44e6a70b2a6bd6aa0470",
       "version_major": 2,
       "version_minor": 0
      },
      "text/plain": [
       "  0%|          | 0/50 [00:00<?, ?it/s]"
      ]
     },
     "metadata": {},
     "output_type": "display_data"
    },
    {
     "data": {
      "application/vnd.jupyter.widget-view+json": {
       "model_id": "d3348a3dc5be4cbb9fd8972caa7dbb2c",
       "version_major": 2,
       "version_minor": 0
      },
      "text/plain": [
       "  0%|          | 0/50 [00:00<?, ?it/s]"
      ]
     },
     "metadata": {},
     "output_type": "display_data"
    },
    {
     "data": {
      "application/vnd.jupyter.widget-view+json": {
       "model_id": "984a4e1b36cc44969de641820b4e38e7",
       "version_major": 2,
       "version_minor": 0
      },
      "text/plain": [
       "  0%|          | 0/50 [00:00<?, ?it/s]"
      ]
     },
     "metadata": {},
     "output_type": "display_data"
    },
    {
     "data": {
      "application/vnd.jupyter.widget-view+json": {
       "model_id": "f3ca6370378f416c9ce4a60465c8ccf2",
       "version_major": 2,
       "version_minor": 0
      },
      "text/plain": [
       "  0%|          | 0/50 [00:00<?, ?it/s]"
      ]
     },
     "metadata": {},
     "output_type": "display_data"
    },
    {
     "data": {
      "application/vnd.jupyter.widget-view+json": {
       "model_id": "309550ae3a6a43d79679101a93ce6253",
       "version_major": 2,
       "version_minor": 0
      },
      "text/plain": [
       "  0%|          | 0/50 [00:00<?, ?it/s]"
      ]
     },
     "metadata": {},
     "output_type": "display_data"
    },
    {
     "data": {
      "application/vnd.jupyter.widget-view+json": {
       "model_id": "7ef57ec3ae1e49a984126d146d23eb8a",
       "version_major": 2,
       "version_minor": 0
      },
      "text/plain": [
       "  0%|          | 0/50 [00:00<?, ?it/s]"
      ]
     },
     "metadata": {},
     "output_type": "display_data"
    },
    {
     "data": {
      "application/vnd.jupyter.widget-view+json": {
       "model_id": "8eca7a87562c4d719f7b1725cdef1254",
       "version_major": 2,
       "version_minor": 0
      },
      "text/plain": [
       "  0%|          | 0/50 [00:00<?, ?it/s]"
      ]
     },
     "metadata": {},
     "output_type": "display_data"
    },
    {
     "data": {
      "application/vnd.jupyter.widget-view+json": {
       "model_id": "96edb52faf7c4abaa52c63535fdc1427",
       "version_major": 2,
       "version_minor": 0
      },
      "text/plain": [
       "  0%|          | 0/50 [00:00<?, ?it/s]"
      ]
     },
     "metadata": {},
     "output_type": "display_data"
    },
    {
     "data": {
      "application/vnd.jupyter.widget-view+json": {
       "model_id": "d3bcb919a82343a48463a9071143dda1",
       "version_major": 2,
       "version_minor": 0
      },
      "text/plain": [
       "  0%|          | 0/50 [00:00<?, ?it/s]"
      ]
     },
     "metadata": {},
     "output_type": "display_data"
    },
    {
     "data": {
      "application/vnd.jupyter.widget-view+json": {
       "model_id": "fc93654192974b908191927be0506bf9",
       "version_major": 2,
       "version_minor": 0
      },
      "text/plain": [
       "  0%|          | 0/50 [00:00<?, ?it/s]"
      ]
     },
     "metadata": {},
     "output_type": "display_data"
    },
    {
     "data": {
      "application/vnd.jupyter.widget-view+json": {
       "model_id": "0b0fd3796eef49ada5be3686350bf645",
       "version_major": 2,
       "version_minor": 0
      },
      "text/plain": [
       "  0%|          | 0/50 [00:00<?, ?it/s]"
      ]
     },
     "metadata": {},
     "output_type": "display_data"
    },
    {
     "data": {
      "application/vnd.jupyter.widget-view+json": {
       "model_id": "c6a4a6eee39e4b49a87a49f1d598c629",
       "version_major": 2,
       "version_minor": 0
      },
      "text/plain": [
       "  0%|          | 0/50 [00:00<?, ?it/s]"
      ]
     },
     "metadata": {},
     "output_type": "display_data"
    },
    {
     "data": {
      "application/vnd.jupyter.widget-view+json": {
       "model_id": "7f29ef26c9044f86b6ac304bfce569f5",
       "version_major": 2,
       "version_minor": 0
      },
      "text/plain": [
       "  0%|          | 0/50 [00:00<?, ?it/s]"
      ]
     },
     "metadata": {},
     "output_type": "display_data"
    },
    {
     "data": {
      "application/vnd.jupyter.widget-view+json": {
       "model_id": "43d1aa0661f342ac87119a224f0f28c3",
       "version_major": 2,
       "version_minor": 0
      },
      "text/plain": [
       "  0%|          | 0/50 [00:00<?, ?it/s]"
      ]
     },
     "metadata": {},
     "output_type": "display_data"
    },
    {
     "data": {
      "application/vnd.jupyter.widget-view+json": {
       "model_id": "bf32b8c2d69f46a6812add251fac7fea",
       "version_major": 2,
       "version_minor": 0
      },
      "text/plain": [
       "  0%|          | 0/50 [00:00<?, ?it/s]"
      ]
     },
     "metadata": {},
     "output_type": "display_data"
    },
    {
     "data": {
      "application/vnd.jupyter.widget-view+json": {
       "model_id": "cfd5da1d94e846fb822ed108186859ba",
       "version_major": 2,
       "version_minor": 0
      },
      "text/plain": [
       "  0%|          | 0/50 [00:00<?, ?it/s]"
      ]
     },
     "metadata": {},
     "output_type": "display_data"
    },
    {
     "data": {
      "application/vnd.jupyter.widget-view+json": {
       "model_id": "1dd1c7f2c43b443ba32c195f93c24b1a",
       "version_major": 2,
       "version_minor": 0
      },
      "text/plain": [
       "  0%|          | 0/50 [00:00<?, ?it/s]"
      ]
     },
     "metadata": {},
     "output_type": "display_data"
    },
    {
     "data": {
      "application/vnd.jupyter.widget-view+json": {
       "model_id": "0839d1e0bbd24d108a12c817b7391054",
       "version_major": 2,
       "version_minor": 0
      },
      "text/plain": [
       "  0%|          | 0/50 [00:00<?, ?it/s]"
      ]
     },
     "metadata": {},
     "output_type": "display_data"
    },
    {
     "data": {
      "application/vnd.jupyter.widget-view+json": {
       "model_id": "6a9bb83765f6437fb56a60c528a96807",
       "version_major": 2,
       "version_minor": 0
      },
      "text/plain": [
       "  0%|          | 0/50 [00:00<?, ?it/s]"
      ]
     },
     "metadata": {},
     "output_type": "display_data"
    },
    {
     "data": {
      "application/vnd.jupyter.widget-view+json": {
       "model_id": "92e55e23ed2345f69d0c722a3976d133",
       "version_major": 2,
       "version_minor": 0
      },
      "text/plain": [
       "  0%|          | 0/50 [00:00<?, ?it/s]"
      ]
     },
     "metadata": {},
     "output_type": "display_data"
    },
    {
     "data": {
      "application/vnd.jupyter.widget-view+json": {
       "model_id": "5b3bd856fa6b423fb455a5f2017070d2",
       "version_major": 2,
       "version_minor": 0
      },
      "text/plain": [
       "  0%|          | 0/50 [00:00<?, ?it/s]"
      ]
     },
     "metadata": {},
     "output_type": "display_data"
    },
    {
     "data": {
      "application/vnd.jupyter.widget-view+json": {
       "model_id": "95771ddf6ead4a2e86b21550ca269fb9",
       "version_major": 2,
       "version_minor": 0
      },
      "text/plain": [
       "  0%|          | 0/50 [00:00<?, ?it/s]"
      ]
     },
     "metadata": {},
     "output_type": "display_data"
    },
    {
     "data": {
      "application/vnd.jupyter.widget-view+json": {
       "model_id": "973c65ffe2584baa915a038dbb073de9",
       "version_major": 2,
       "version_minor": 0
      },
      "text/plain": [
       "  0%|          | 0/50 [00:00<?, ?it/s]"
      ]
     },
     "metadata": {},
     "output_type": "display_data"
    },
    {
     "data": {
      "application/vnd.jupyter.widget-view+json": {
       "model_id": "38926b2bb8d640f183b423a84d2fb5b8",
       "version_major": 2,
       "version_minor": 0
      },
      "text/plain": [
       "  0%|          | 0/50 [00:00<?, ?it/s]"
      ]
     },
     "metadata": {},
     "output_type": "display_data"
    },
    {
     "data": {
      "application/vnd.jupyter.widget-view+json": {
       "model_id": "5b942fe0324a44a6b69bacce60a2d916",
       "version_major": 2,
       "version_minor": 0
      },
      "text/plain": [
       "  0%|          | 0/49 [00:00<?, ?it/s]"
      ]
     },
     "metadata": {},
     "output_type": "display_data"
    },
    {
     "data": {
      "application/vnd.jupyter.widget-view+json": {
       "model_id": "b6ebbf5a2b7b4367aae7f3f0f02c420f",
       "version_major": 2,
       "version_minor": 0
      },
      "text/plain": [
       "  0%|          | 0/50 [00:00<?, ?it/s]"
      ]
     },
     "metadata": {},
     "output_type": "display_data"
    },
    {
     "data": {
      "application/vnd.jupyter.widget-view+json": {
       "model_id": "48e39c2046ee40a091acadcddd8fc8be",
       "version_major": 2,
       "version_minor": 0
      },
      "text/plain": [
       "  0%|          | 0/50 [00:00<?, ?it/s]"
      ]
     },
     "metadata": {},
     "output_type": "display_data"
    },
    {
     "data": {
      "application/vnd.jupyter.widget-view+json": {
       "model_id": "d532755ebb504459ba4fa545966d4bed",
       "version_major": 2,
       "version_minor": 0
      },
      "text/plain": [
       "  0%|          | 0/50 [00:00<?, ?it/s]"
      ]
     },
     "metadata": {},
     "output_type": "display_data"
    },
    {
     "data": {
      "application/vnd.jupyter.widget-view+json": {
       "model_id": "799a5695e5b94da8b561c0694369e4ec",
       "version_major": 2,
       "version_minor": 0
      },
      "text/plain": [
       "  0%|          | 0/50 [00:00<?, ?it/s]"
      ]
     },
     "metadata": {},
     "output_type": "display_data"
    },
    {
     "data": {
      "application/vnd.jupyter.widget-view+json": {
       "model_id": "ce84de7be6b54200852dfbc57a980d2b",
       "version_major": 2,
       "version_minor": 0
      },
      "text/plain": [
       "  0%|          | 0/50 [00:00<?, ?it/s]"
      ]
     },
     "metadata": {},
     "output_type": "display_data"
    },
    {
     "data": {
      "application/vnd.jupyter.widget-view+json": {
       "model_id": "a3e210a5a0cd422e920a254b84b1489c",
       "version_major": 2,
       "version_minor": 0
      },
      "text/plain": [
       "  0%|          | 0/50 [00:00<?, ?it/s]"
      ]
     },
     "metadata": {},
     "output_type": "display_data"
    },
    {
     "data": {
      "application/vnd.jupyter.widget-view+json": {
       "model_id": "68ee8380bde6413bbdb3a1bf8d5c5254",
       "version_major": 2,
       "version_minor": 0
      },
      "text/plain": [
       "  0%|          | 0/49 [00:00<?, ?it/s]"
      ]
     },
     "metadata": {},
     "output_type": "display_data"
    },
    {
     "data": {
      "application/vnd.jupyter.widget-view+json": {
       "model_id": "705eaa13f8ea4a01a21ff6d79544a84d",
       "version_major": 2,
       "version_minor": 0
      },
      "text/plain": [
       "  0%|          | 0/50 [00:00<?, ?it/s]"
      ]
     },
     "metadata": {},
     "output_type": "display_data"
    },
    {
     "data": {
      "application/vnd.jupyter.widget-view+json": {
       "model_id": "c8549429e5364d159f9293c897fdd468",
       "version_major": 2,
       "version_minor": 0
      },
      "text/plain": [
       "  0%|          | 0/50 [00:00<?, ?it/s]"
      ]
     },
     "metadata": {},
     "output_type": "display_data"
    },
    {
     "data": {
      "application/vnd.jupyter.widget-view+json": {
       "model_id": "92d18fceda26496ba7094f5e90b0293f",
       "version_major": 2,
       "version_minor": 0
      },
      "text/plain": [
       "  0%|          | 0/50 [00:00<?, ?it/s]"
      ]
     },
     "metadata": {},
     "output_type": "display_data"
    },
    {
     "data": {
      "application/vnd.jupyter.widget-view+json": {
       "model_id": "d15249e28f194f4396d98e3db30b13f8",
       "version_major": 2,
       "version_minor": 0
      },
      "text/plain": [
       "  0%|          | 0/50 [00:00<?, ?it/s]"
      ]
     },
     "metadata": {},
     "output_type": "display_data"
    },
    {
     "data": {
      "application/vnd.jupyter.widget-view+json": {
       "model_id": "a5d07d90c1c346e991ce419c92fbb390",
       "version_major": 2,
       "version_minor": 0
      },
      "text/plain": [
       "  0%|          | 0/50 [00:00<?, ?it/s]"
      ]
     },
     "metadata": {},
     "output_type": "display_data"
    },
    {
     "data": {
      "application/vnd.jupyter.widget-view+json": {
       "model_id": "1746c4a3b38743988455bf040360a0fe",
       "version_major": 2,
       "version_minor": 0
      },
      "text/plain": [
       "  0%|          | 0/50 [00:00<?, ?it/s]"
      ]
     },
     "metadata": {},
     "output_type": "display_data"
    },
    {
     "data": {
      "application/vnd.jupyter.widget-view+json": {
       "model_id": "a8bead9f53114c0e9bfbea7dc11ebefe",
       "version_major": 2,
       "version_minor": 0
      },
      "text/plain": [
       "  0%|          | 0/50 [00:00<?, ?it/s]"
      ]
     },
     "metadata": {},
     "output_type": "display_data"
    },
    {
     "data": {
      "application/vnd.jupyter.widget-view+json": {
       "model_id": "86e2aeeab45f4e4c94719779a6fc2dc0",
       "version_major": 2,
       "version_minor": 0
      },
      "text/plain": [
       "  0%|          | 0/49 [00:00<?, ?it/s]"
      ]
     },
     "metadata": {},
     "output_type": "display_data"
    },
    {
     "data": {
      "application/vnd.jupyter.widget-view+json": {
       "model_id": "bcf475c8759f45e1a06aa7d0cae4b892",
       "version_major": 2,
       "version_minor": 0
      },
      "text/plain": [
       "  0%|          | 0/50 [00:00<?, ?it/s]"
      ]
     },
     "metadata": {},
     "output_type": "display_data"
    },
    {
     "data": {
      "application/vnd.jupyter.widget-view+json": {
       "model_id": "b9eb11f824fc4b47834aaa969e96fb28",
       "version_major": 2,
       "version_minor": 0
      },
      "text/plain": [
       "  0%|          | 0/50 [00:00<?, ?it/s]"
      ]
     },
     "metadata": {},
     "output_type": "display_data"
    },
    {
     "data": {
      "application/vnd.jupyter.widget-view+json": {
       "model_id": "9908aebbe1f7427daf48cdc693f30934",
       "version_major": 2,
       "version_minor": 0
      },
      "text/plain": [
       "  0%|          | 0/50 [00:00<?, ?it/s]"
      ]
     },
     "metadata": {},
     "output_type": "display_data"
    },
    {
     "data": {
      "application/vnd.jupyter.widget-view+json": {
       "model_id": "4b9c575b0d164c5091487ef5908c7fb4",
       "version_major": 2,
       "version_minor": 0
      },
      "text/plain": [
       "  0%|          | 0/50 [00:00<?, ?it/s]"
      ]
     },
     "metadata": {},
     "output_type": "display_data"
    },
    {
     "data": {
      "application/vnd.jupyter.widget-view+json": {
       "model_id": "49f59ea2d0ce46028bb6ce72459bd395",
       "version_major": 2,
       "version_minor": 0
      },
      "text/plain": [
       "  0%|          | 0/50 [00:00<?, ?it/s]"
      ]
     },
     "metadata": {},
     "output_type": "display_data"
    },
    {
     "data": {
      "application/vnd.jupyter.widget-view+json": {
       "model_id": "1cb1160faaf349af82fdd79e7712c81d",
       "version_major": 2,
       "version_minor": 0
      },
      "text/plain": [
       "  0%|          | 0/50 [00:00<?, ?it/s]"
      ]
     },
     "metadata": {},
     "output_type": "display_data"
    },
    {
     "data": {
      "application/vnd.jupyter.widget-view+json": {
       "model_id": "9d0b4aa3a020434a987b9e7b0fac6dca",
       "version_major": 2,
       "version_minor": 0
      },
      "text/plain": [
       "  0%|          | 0/50 [00:00<?, ?it/s]"
      ]
     },
     "metadata": {},
     "output_type": "display_data"
    },
    {
     "data": {
      "application/vnd.jupyter.widget-view+json": {
       "model_id": "c9dda096f64d4a1dab8652173fbc5543",
       "version_major": 2,
       "version_minor": 0
      },
      "text/plain": [
       "  0%|          | 0/50 [00:00<?, ?it/s]"
      ]
     },
     "metadata": {},
     "output_type": "display_data"
    },
    {
     "data": {
      "application/vnd.jupyter.widget-view+json": {
       "model_id": "29467d97d01441549d58f51b87652518",
       "version_major": 2,
       "version_minor": 0
      },
      "text/plain": [
       "  0%|          | 0/50 [00:00<?, ?it/s]"
      ]
     },
     "metadata": {},
     "output_type": "display_data"
    },
    {
     "data": {
      "application/vnd.jupyter.widget-view+json": {
       "model_id": "ab96fecb38f44fd6971b311eebce2444",
       "version_major": 2,
       "version_minor": 0
      },
      "text/plain": [
       "  0%|          | 0/50 [00:00<?, ?it/s]"
      ]
     },
     "metadata": {},
     "output_type": "display_data"
    },
    {
     "data": {
      "application/vnd.jupyter.widget-view+json": {
       "model_id": "55af7b9e2b254b40bbb03c2cbb462590",
       "version_major": 2,
       "version_minor": 0
      },
      "text/plain": [
       "  0%|          | 0/50 [00:00<?, ?it/s]"
      ]
     },
     "metadata": {},
     "output_type": "display_data"
    },
    {
     "data": {
      "application/vnd.jupyter.widget-view+json": {
       "model_id": "2c63382040ae4d689722cccae670fa7f",
       "version_major": 2,
       "version_minor": 0
      },
      "text/plain": [
       "  0%|          | 0/50 [00:00<?, ?it/s]"
      ]
     },
     "metadata": {},
     "output_type": "display_data"
    },
    {
     "data": {
      "application/vnd.jupyter.widget-view+json": {
       "model_id": "00c1950123fa42389ecfefd4e8477479",
       "version_major": 2,
       "version_minor": 0
      },
      "text/plain": [
       "  0%|          | 0/50 [00:00<?, ?it/s]"
      ]
     },
     "metadata": {},
     "output_type": "display_data"
    },
    {
     "data": {
      "application/vnd.jupyter.widget-view+json": {
       "model_id": "77d3917db17146dfbce566ac79efba55",
       "version_major": 2,
       "version_minor": 0
      },
      "text/plain": [
       "  0%|          | 0/50 [00:00<?, ?it/s]"
      ]
     },
     "metadata": {},
     "output_type": "display_data"
    },
    {
     "data": {
      "application/vnd.jupyter.widget-view+json": {
       "model_id": "0c9baf1f709548c38b26377b4cae449e",
       "version_major": 2,
       "version_minor": 0
      },
      "text/plain": [
       "  0%|          | 0/50 [00:00<?, ?it/s]"
      ]
     },
     "metadata": {},
     "output_type": "display_data"
    },
    {
     "data": {
      "application/vnd.jupyter.widget-view+json": {
       "model_id": "eb41d7be02524dab86e0af62c9af6c74",
       "version_major": 2,
       "version_minor": 0
      },
      "text/plain": [
       "  0%|          | 0/50 [00:00<?, ?it/s]"
      ]
     },
     "metadata": {},
     "output_type": "display_data"
    },
    {
     "data": {
      "application/vnd.jupyter.widget-view+json": {
       "model_id": "439e05730f714013a02057ba69f6d8e2",
       "version_major": 2,
       "version_minor": 0
      },
      "text/plain": [
       "  0%|          | 0/50 [00:00<?, ?it/s]"
      ]
     },
     "metadata": {},
     "output_type": "display_data"
    },
    {
     "data": {
      "application/vnd.jupyter.widget-view+json": {
       "model_id": "a0442e1a55ad41f69292f49491078d14",
       "version_major": 2,
       "version_minor": 0
      },
      "text/plain": [
       "  0%|          | 0/50 [00:00<?, ?it/s]"
      ]
     },
     "metadata": {},
     "output_type": "display_data"
    },
    {
     "data": {
      "application/vnd.jupyter.widget-view+json": {
       "model_id": "e215126840d545129dbf640f21b15eef",
       "version_major": 2,
       "version_minor": 0
      },
      "text/plain": [
       "  0%|          | 0/50 [00:00<?, ?it/s]"
      ]
     },
     "metadata": {},
     "output_type": "display_data"
    },
    {
     "data": {
      "application/vnd.jupyter.widget-view+json": {
       "model_id": "fd12e7b445e04a208cf22c789d9a06e0",
       "version_major": 2,
       "version_minor": 0
      },
      "text/plain": [
       "  0%|          | 0/50 [00:00<?, ?it/s]"
      ]
     },
     "metadata": {},
     "output_type": "display_data"
    },
    {
     "data": {
      "application/vnd.jupyter.widget-view+json": {
       "model_id": "79461e2e4203443a825b8c0954794d30",
       "version_major": 2,
       "version_minor": 0
      },
      "text/plain": [
       "  0%|          | 0/49 [00:00<?, ?it/s]"
      ]
     },
     "metadata": {},
     "output_type": "display_data"
    },
    {
     "data": {
      "application/vnd.jupyter.widget-view+json": {
       "model_id": "b45a9fc94bc645779f5c839d25ee1cac",
       "version_major": 2,
       "version_minor": 0
      },
      "text/plain": [
       "  0%|          | 0/50 [00:00<?, ?it/s]"
      ]
     },
     "metadata": {},
     "output_type": "display_data"
    },
    {
     "data": {
      "application/vnd.jupyter.widget-view+json": {
       "model_id": "4865fe505ee34f468f1a6461ae84556d",
       "version_major": 2,
       "version_minor": 0
      },
      "text/plain": [
       "  0%|          | 0/50 [00:00<?, ?it/s]"
      ]
     },
     "metadata": {},
     "output_type": "display_data"
    },
    {
     "data": {
      "application/vnd.jupyter.widget-view+json": {
       "model_id": "d672d805f9034e3793d781417e6247f4",
       "version_major": 2,
       "version_minor": 0
      },
      "text/plain": [
       "  0%|          | 0/50 [00:00<?, ?it/s]"
      ]
     },
     "metadata": {},
     "output_type": "display_data"
    },
    {
     "data": {
      "application/vnd.jupyter.widget-view+json": {
       "model_id": "f569b776fba943c394c9272c01cbb972",
       "version_major": 2,
       "version_minor": 0
      },
      "text/plain": [
       "  0%|          | 0/50 [00:00<?, ?it/s]"
      ]
     },
     "metadata": {},
     "output_type": "display_data"
    },
    {
     "data": {
      "application/vnd.jupyter.widget-view+json": {
       "model_id": "5e4c8d70f2684168a2cf79fd49f437ee",
       "version_major": 2,
       "version_minor": 0
      },
      "text/plain": [
       "  0%|          | 0/50 [00:00<?, ?it/s]"
      ]
     },
     "metadata": {},
     "output_type": "display_data"
    },
    {
     "data": {
      "application/vnd.jupyter.widget-view+json": {
       "model_id": "0d43d009bfc24395a9c5bc48c66524c7",
       "version_major": 2,
       "version_minor": 0
      },
      "text/plain": [
       "  0%|          | 0/50 [00:00<?, ?it/s]"
      ]
     },
     "metadata": {},
     "output_type": "display_data"
    },
    {
     "data": {
      "application/vnd.jupyter.widget-view+json": {
       "model_id": "7ef5ff2635e343e69b232ed37740ed21",
       "version_major": 2,
       "version_minor": 0
      },
      "text/plain": [
       "  0%|          | 0/50 [00:00<?, ?it/s]"
      ]
     },
     "metadata": {},
     "output_type": "display_data"
    }
   ],
   "source": [
    "block_df_l = []\n",
    "for file in tqdm(sorted(list(block_data_path.glob(\"*.csv\"))), desc=\"Processing Blocks..\"):\n",
    "    block_df = pd.read_csv(file, parse_dates=False)\n",
    "    block_df['day'] = pd.to_datetime(block_df['day'], yearfirst=True)\n",
    "    # Taking only from 2012-01-01\n",
    "    block_df = block_df.loc[block_df['day']>=\"2012-01-01\"]\n",
    "    #Reshaping the dataframe into the long form with hour blocks along the rows\n",
    "    block_df = block_df.set_index(['LCLid', \"day\"]).stack().reset_index().rename(columns={\"level_2\": \"hour_block\", 0: \"energy_consumption\"})\n",
    "    #Creating a numerical hourblock column\n",
    "    block_df['offset'] = block_df['hour_block'].str.replace(\"hh_\", \"\").astype(int)\n",
    "    block_df_l.append(load_process_block_compact(block_df, freq=\"30min\", ts_identifier=\"LCLid\", value_name=\"energy_consumption\"))"
   ]
  },
  {
   "cell_type": "code",
   "execution_count": 24,
   "metadata": {},
   "outputs": [
    {
     "data": {
      "text/plain": [
       "Index                  44480\n",
       "LCLid                 366960\n",
       "start_timestamp        44480\n",
       "frequency             344720\n",
       "energy_consumption    667200\n",
       "series_length          44480\n",
       "dtype: int64"
      ]
     },
     "metadata": {},
     "output_type": "display_data"
    },
    {
     "name": "stdout",
     "output_type": "stream",
     "text": [
      "Total: 1.4422607421875 MB\n"
     ]
    }
   ],
   "source": [
    "hhblock_df = pd.concat(block_df_l)\n",
    "del block_df_l\n",
    "display(hhblock_df.memory_usage(deep=True))\n",
    "print(f\"Total: {hhblock_df.memory_usage(deep=True).sum()/1024**2} MB\")"
   ]
  },
  {
   "cell_type": "code",
   "execution_count": 25,
   "metadata": {},
   "outputs": [
    {
     "data": {
      "text/html": [
       "<div>\n",
       "<style scoped>\n",
       "    .dataframe tbody tr th:only-of-type {\n",
       "        vertical-align: middle;\n",
       "    }\n",
       "\n",
       "    .dataframe tbody tr th {\n",
       "        vertical-align: top;\n",
       "    }\n",
       "\n",
       "    .dataframe thead th {\n",
       "        text-align: right;\n",
       "    }\n",
       "</style>\n",
       "<table border=\"1\" class=\"dataframe\">\n",
       "  <thead>\n",
       "    <tr style=\"text-align: right;\">\n",
       "      <th></th>\n",
       "      <th>LCLid</th>\n",
       "      <th>start_timestamp</th>\n",
       "      <th>frequency</th>\n",
       "      <th>energy_consumption</th>\n",
       "      <th>series_length</th>\n",
       "    </tr>\n",
       "  </thead>\n",
       "  <tbody>\n",
       "    <tr>\n",
       "      <th>0</th>\n",
       "      <td>MAC000002</td>\n",
       "      <td>2012-10-13</td>\n",
       "      <td>30min</td>\n",
       "      <td>[0.263, 0.2689999999999999, 0.275, 0.256, 0.21...</td>\n",
       "      <td>24144</td>\n",
       "    </tr>\n",
       "    <tr>\n",
       "      <th>1</th>\n",
       "      <td>MAC000246</td>\n",
       "      <td>2012-01-01</td>\n",
       "      <td>30min</td>\n",
       "      <td>[0.509, 0.317, 0.253, 0.249, 0.93, 0.607, 0.10...</td>\n",
       "      <td>37872</td>\n",
       "    </tr>\n",
       "    <tr>\n",
       "      <th>2</th>\n",
       "      <td>MAC000450</td>\n",
       "      <td>2012-03-23</td>\n",
       "      <td>30min</td>\n",
       "      <td>[1.337, 1.426, 0.996, 0.971, 0.994, 0.952, 0.8...</td>\n",
       "      <td>33936</td>\n",
       "    </tr>\n",
       "    <tr>\n",
       "      <th>3</th>\n",
       "      <td>MAC001074</td>\n",
       "      <td>2012-05-09</td>\n",
       "      <td>30min</td>\n",
       "      <td>[0.18, 0.086, 0.106, 0.173, 0.146, 0.223, 0.21...</td>\n",
       "      <td>31680</td>\n",
       "    </tr>\n",
       "    <tr>\n",
       "      <th>4</th>\n",
       "      <td>MAC003223</td>\n",
       "      <td>2012-09-18</td>\n",
       "      <td>30min</td>\n",
       "      <td>[0.076, 0.079, 0.123, 0.109, 0.051, 0.069, 0.0...</td>\n",
       "      <td>25344</td>\n",
       "    </tr>\n",
       "  </tbody>\n",
       "</table>\n",
       "</div>"
      ],
      "text/plain": [
       "       LCLid start_timestamp frequency  \\\n",
       "0  MAC000002      2012-10-13     30min   \n",
       "1  MAC000246      2012-01-01     30min   \n",
       "2  MAC000450      2012-03-23     30min   \n",
       "3  MAC001074      2012-05-09     30min   \n",
       "4  MAC003223      2012-09-18     30min   \n",
       "\n",
       "                                  energy_consumption  series_length  \n",
       "0  [0.263, 0.2689999999999999, 0.275, 0.256, 0.21...          24144  \n",
       "1  [0.509, 0.317, 0.253, 0.249, 0.93, 0.607, 0.10...          37872  \n",
       "2  [1.337, 1.426, 0.996, 0.971, 0.994, 0.952, 0.8...          33936  \n",
       "3  [0.18, 0.086, 0.106, 0.173, 0.146, 0.223, 0.21...          31680  \n",
       "4  [0.076, 0.079, 0.123, 0.109, 0.051, 0.069, 0.0...          25344  "
      ]
     },
     "execution_count": 25,
     "metadata": {},
     "output_type": "execute_result"
    }
   ],
   "source": [
    "hhblock_df.head()"
   ]
  },
  {
   "cell_type": "markdown",
   "metadata": {},
   "source": [
    "### Mapping additional information"
   ]
  },
  {
   "cell_type": "markdown",
   "metadata": {},
   "source": [
    "앞서 준비한 데이터 모델에서 매핑해야 하는 세 가지 주요 파일이 있습니다:  \n",
    "가구 정보, 날씨, 공휴일입니다.  \n",
    "informations_households.csv 파일에는 가구에 대한 메타 데이터가 포함되어 있습니다.  \n",
    "시간에 의존하지 않는 정적 기능이 있습니다.  \n",
    "이를 위해 시계열 식별자인 LCLid를 기반으로 정보를_가구_csv를 압축된 형태로 병합하기만 하면 됩니다."
   ]
  },
  {
   "cell_type": "markdown",
   "metadata": {},
   "source": [
    "best practice  \n",
    "\n",
    "판다스 병합을 수행하는 동안 가장 일반적이고 예상치 못한 결과 중 하나는 작업 전후의 행 수가 동일하지 않다는 것입니다(왼쪽 병합을 수행하는 경우에도).  \n",
    "이는 일반적으로 병합하는 키에 중복이 있기 때문에 발생합니다.  \n",
    "모범 사례로, 병합하는 동안 이 검사가 수행되고 가정이 충족되지 않으면 오류가 발생하도록 one_to_one 및 many_to_one과 같은 입력을 받는 pandas 병합에서 validate 매개 변수를 사용할 수 있습니다. 자세한 내용은 https://pandas.pydata.org/docs/reference/api/pandas.merge.html 에서 확인하세요."
   ]
  },
  {
   "cell_type": "markdown",
   "metadata": {},
   "source": [
    "반면에 공휴일과 날씨는 시간에 따라 변하는 기능이므로 그에 따라 처리해야 합니다. 명심해야 할 가장 중요한 측면은 이 정보를 매핑할 때 이미 배열로 저장한 시계열과 완벽하게 일치해야 한다는 것입니다.    \n",
    "\n",
    "uk_bank_holidays.csv는 휴일 날짜와 휴일 종류가 포함된 파일로, 공휴일에는 가족 구성원들이 집에서 함께 시간을 보내거나 TV를 시청하는 등 에너지 소비 패턴이 달라질 수 있으므로 휴일 정보가 매우 중요합니다.  \n",
    "이 파일을 처리하려면 다음 단계를 따르세요:"
   ]
  },
  {
   "cell_type": "markdown",
   "metadata": {},
   "source": [
    "1. 날짜 열을 날짜/시간 형식으로 변환하고 이를 데이터프레임의 인덱스로 설정합니다.   \n",
    "\n",
    "2. 앞서 살펴본 리샘플링 함수를 사용하여 시계열의 빈도인 30분마다 인덱스가 리샘플링되도록 해야 합니다.  \n",
    "\n",
    "3. 하루 이내의 공휴일을 포워드 채우고 나머지 NaN 값은 NO_HOLIDAY로 채웁니다.  "
   ]
  },
  {
   "cell_type": "markdown",
   "metadata": {},
   "source": [
    "이제 휴일 파일을 30분 간격마다 행이 있는 데이터 프레임으로 변환했습니다.  \n",
    "각 행에는 해당 날짜가 휴일인지 아닌지를 지정하는 열이 있습니다.  \n",
    "weather_hourly_darksky.csv는 다시 한 번 일별 빈도로 된 파일입니다.  \n",
    "여기에 매핑해야 하는 데이터는 30분 단위의 빈도로 되어 있으므로 30분 빈도로 다운샘플링해야 합니다.  \n",
    "이렇게 하지 않으면 날씨가 시간별 타임스탬프에만 매핑되고 30분별 타임스탬프는 비어 있게 됩니다.  \n",
    "이 파일을 처리하기 위해 따라야 하는 단계도 휴일을 처리하는 방식과 유사합니다:"
   ]
  },
  {
   "cell_type": "markdown",
   "metadata": {},
   "source": [
    "1. 날짜 열을 날짜/시간 형식으로 변환하고 이를 데이터프레임의 인덱스로 설정합니다. \n",
    "\n",
    "2. 리샘플링 함수를 사용하여 시계열의 빈도인 30분마다 인덱스가 리샘플링되도록 해야 합니다.\n",
    "\n",
    "3. 리샘플링하는 동안 생성된 누락된 값을 채우기 위해 날씨 기능을 앞으로 채웁니다."
   ]
  },
  {
   "cell_type": "markdown",
   "metadata": {},
   "source": [
    "이제 시계열과 시간 변화 기능 간의 정렬이 보장되었는지 확인했으므로 각 시계열을 반복하여 날씨 및 공휴일 배열을 추출한 다음 데이터 프레임의 해당 행에 저장할 수 있습니다."
   ]
  },
  {
   "cell_type": "markdown",
   "metadata": {},
   "source": [
    "#### Household information"
   ]
  },
  {
   "cell_type": "code",
   "execution_count": 26,
   "metadata": {},
   "outputs": [
    {
     "data": {
      "text/html": [
       "<div>\n",
       "<style scoped>\n",
       "    .dataframe tbody tr th:only-of-type {\n",
       "        vertical-align: middle;\n",
       "    }\n",
       "\n",
       "    .dataframe tbody tr th {\n",
       "        vertical-align: top;\n",
       "    }\n",
       "\n",
       "    .dataframe thead th {\n",
       "        text-align: right;\n",
       "    }\n",
       "</style>\n",
       "<table border=\"1\" class=\"dataframe\">\n",
       "  <thead>\n",
       "    <tr style=\"text-align: right;\">\n",
       "      <th></th>\n",
       "      <th>LCLid</th>\n",
       "      <th>stdorToU</th>\n",
       "      <th>Acorn</th>\n",
       "      <th>Acorn_grouped</th>\n",
       "      <th>file</th>\n",
       "    </tr>\n",
       "  </thead>\n",
       "  <tbody>\n",
       "    <tr>\n",
       "      <th>0</th>\n",
       "      <td>MAC005492</td>\n",
       "      <td>ToU</td>\n",
       "      <td>ACORN-</td>\n",
       "      <td>ACORN-</td>\n",
       "      <td>block_0</td>\n",
       "    </tr>\n",
       "    <tr>\n",
       "      <th>1</th>\n",
       "      <td>MAC001074</td>\n",
       "      <td>ToU</td>\n",
       "      <td>ACORN-</td>\n",
       "      <td>ACORN-</td>\n",
       "      <td>block_0</td>\n",
       "    </tr>\n",
       "    <tr>\n",
       "      <th>2</th>\n",
       "      <td>MAC000002</td>\n",
       "      <td>Std</td>\n",
       "      <td>ACORN-A</td>\n",
       "      <td>Affluent</td>\n",
       "      <td>block_0</td>\n",
       "    </tr>\n",
       "    <tr>\n",
       "      <th>3</th>\n",
       "      <td>MAC003613</td>\n",
       "      <td>Std</td>\n",
       "      <td>ACORN-A</td>\n",
       "      <td>Affluent</td>\n",
       "      <td>block_0</td>\n",
       "    </tr>\n",
       "    <tr>\n",
       "      <th>4</th>\n",
       "      <td>MAC003597</td>\n",
       "      <td>Std</td>\n",
       "      <td>ACORN-A</td>\n",
       "      <td>Affluent</td>\n",
       "      <td>block_0</td>\n",
       "    </tr>\n",
       "  </tbody>\n",
       "</table>\n",
       "</div>"
      ],
      "text/plain": [
       "       LCLid stdorToU    Acorn Acorn_grouped     file\n",
       "0  MAC005492      ToU   ACORN-        ACORN-  block_0\n",
       "1  MAC001074      ToU   ACORN-        ACORN-  block_0\n",
       "2  MAC000002      Std  ACORN-A      Affluent  block_0\n",
       "3  MAC003613      Std  ACORN-A      Affluent  block_0\n",
       "4  MAC003597      Std  ACORN-A      Affluent  block_0"
      ]
     },
     "execution_count": 26,
     "metadata": {},
     "output_type": "execute_result"
    }
   ],
   "source": [
    "household_info = pd.read_csv(source_data/\"informations_households.csv\")\n",
    "household_info.head()"
   ]
  },
  {
   "cell_type": "code",
   "execution_count": 27,
   "metadata": {},
   "outputs": [
    {
     "data": {
      "text/html": [
       "<div>\n",
       "<style scoped>\n",
       "    .dataframe tbody tr th:only-of-type {\n",
       "        vertical-align: middle;\n",
       "    }\n",
       "\n",
       "    .dataframe tbody tr th {\n",
       "        vertical-align: top;\n",
       "    }\n",
       "\n",
       "    .dataframe thead th {\n",
       "        text-align: right;\n",
       "    }\n",
       "</style>\n",
       "<table border=\"1\" class=\"dataframe\">\n",
       "  <thead>\n",
       "    <tr style=\"text-align: right;\">\n",
       "      <th></th>\n",
       "      <th>LCLid</th>\n",
       "      <th>start_timestamp</th>\n",
       "      <th>frequency</th>\n",
       "      <th>energy_consumption</th>\n",
       "      <th>series_length</th>\n",
       "      <th>stdorToU</th>\n",
       "      <th>Acorn</th>\n",
       "      <th>Acorn_grouped</th>\n",
       "      <th>file</th>\n",
       "    </tr>\n",
       "  </thead>\n",
       "  <tbody>\n",
       "    <tr>\n",
       "      <th>0</th>\n",
       "      <td>MAC000002</td>\n",
       "      <td>2012-10-13</td>\n",
       "      <td>30min</td>\n",
       "      <td>[0.263, 0.2689999999999999, 0.275, 0.256, 0.21...</td>\n",
       "      <td>24144</td>\n",
       "      <td>Std</td>\n",
       "      <td>ACORN-A</td>\n",
       "      <td>Affluent</td>\n",
       "      <td>block_0</td>\n",
       "    </tr>\n",
       "    <tr>\n",
       "      <th>1</th>\n",
       "      <td>MAC000246</td>\n",
       "      <td>2012-01-01</td>\n",
       "      <td>30min</td>\n",
       "      <td>[0.509, 0.317, 0.253, 0.249, 0.93, 0.607, 0.10...</td>\n",
       "      <td>37872</td>\n",
       "      <td>Std</td>\n",
       "      <td>ACORN-A</td>\n",
       "      <td>Affluent</td>\n",
       "      <td>block_0</td>\n",
       "    </tr>\n",
       "    <tr>\n",
       "      <th>2</th>\n",
       "      <td>MAC000450</td>\n",
       "      <td>2012-03-23</td>\n",
       "      <td>30min</td>\n",
       "      <td>[1.337, 1.426, 0.996, 0.971, 0.994, 0.952, 0.8...</td>\n",
       "      <td>33936</td>\n",
       "      <td>Std</td>\n",
       "      <td>ACORN-A</td>\n",
       "      <td>Affluent</td>\n",
       "      <td>block_0</td>\n",
       "    </tr>\n",
       "    <tr>\n",
       "      <th>3</th>\n",
       "      <td>MAC001074</td>\n",
       "      <td>2012-05-09</td>\n",
       "      <td>30min</td>\n",
       "      <td>[0.18, 0.086, 0.106, 0.173, 0.146, 0.223, 0.21...</td>\n",
       "      <td>31680</td>\n",
       "      <td>ToU</td>\n",
       "      <td>ACORN-</td>\n",
       "      <td>ACORN-</td>\n",
       "      <td>block_0</td>\n",
       "    </tr>\n",
       "    <tr>\n",
       "      <th>4</th>\n",
       "      <td>MAC003223</td>\n",
       "      <td>2012-09-18</td>\n",
       "      <td>30min</td>\n",
       "      <td>[0.076, 0.079, 0.123, 0.109, 0.051, 0.069, 0.0...</td>\n",
       "      <td>25344</td>\n",
       "      <td>Std</td>\n",
       "      <td>ACORN-A</td>\n",
       "      <td>Affluent</td>\n",
       "      <td>block_0</td>\n",
       "    </tr>\n",
       "  </tbody>\n",
       "</table>\n",
       "</div>"
      ],
      "text/plain": [
       "       LCLid start_timestamp frequency  \\\n",
       "0  MAC000002      2012-10-13     30min   \n",
       "1  MAC000246      2012-01-01     30min   \n",
       "2  MAC000450      2012-03-23     30min   \n",
       "3  MAC001074      2012-05-09     30min   \n",
       "4  MAC003223      2012-09-18     30min   \n",
       "\n",
       "                                  energy_consumption  series_length stdorToU  \\\n",
       "0  [0.263, 0.2689999999999999, 0.275, 0.256, 0.21...          24144      Std   \n",
       "1  [0.509, 0.317, 0.253, 0.249, 0.93, 0.607, 0.10...          37872      Std   \n",
       "2  [1.337, 1.426, 0.996, 0.971, 0.994, 0.952, 0.8...          33936      Std   \n",
       "3  [0.18, 0.086, 0.106, 0.173, 0.146, 0.223, 0.21...          31680      ToU   \n",
       "4  [0.076, 0.079, 0.123, 0.109, 0.051, 0.069, 0.0...          25344      Std   \n",
       "\n",
       "     Acorn Acorn_grouped     file  \n",
       "0  ACORN-A      Affluent  block_0  \n",
       "1  ACORN-A      Affluent  block_0  \n",
       "2  ACORN-A      Affluent  block_0  \n",
       "3   ACORN-        ACORN-  block_0  \n",
       "4  ACORN-A      Affluent  block_0  "
      ]
     },
     "execution_count": 27,
     "metadata": {},
     "output_type": "execute_result"
    }
   ],
   "source": [
    "hhblock_df = hhblock_df.merge(household_info, on='LCLid', validate=\"one_to_one\")\n",
    "hhblock_df.head()"
   ]
  },
  {
   "cell_type": "markdown",
   "metadata": {},
   "source": [
    "#### Weather and Bank Holidays"
   ]
  },
  {
   "cell_type": "code",
   "execution_count": 28,
   "metadata": {},
   "outputs": [
    {
     "data": {
      "text/html": [
       "<div>\n",
       "<style scoped>\n",
       "    .dataframe tbody tr th:only-of-type {\n",
       "        vertical-align: middle;\n",
       "    }\n",
       "\n",
       "    .dataframe tbody tr th {\n",
       "        vertical-align: top;\n",
       "    }\n",
       "\n",
       "    .dataframe thead th {\n",
       "        text-align: right;\n",
       "    }\n",
       "</style>\n",
       "<table border=\"1\" class=\"dataframe\">\n",
       "  <thead>\n",
       "    <tr style=\"text-align: right;\">\n",
       "      <th></th>\n",
       "      <th>Type</th>\n",
       "    </tr>\n",
       "    <tr>\n",
       "      <th>Bank holidays</th>\n",
       "      <th></th>\n",
       "    </tr>\n",
       "  </thead>\n",
       "  <tbody>\n",
       "    <tr>\n",
       "      <th>2012-12-26</th>\n",
       "      <td>Boxing Day</td>\n",
       "    </tr>\n",
       "    <tr>\n",
       "      <th>2012-12-25</th>\n",
       "      <td>Christmas Day</td>\n",
       "    </tr>\n",
       "    <tr>\n",
       "      <th>2012-08-27</th>\n",
       "      <td>Summer bank holiday</td>\n",
       "    </tr>\n",
       "    <tr>\n",
       "      <th>2012-05-06</th>\n",
       "      <td>Queen?s Diamond Jubilee (extra bank holiday)</td>\n",
       "    </tr>\n",
       "    <tr>\n",
       "      <th>2012-04-06</th>\n",
       "      <td>Spring bank holiday (substitute day)</td>\n",
       "    </tr>\n",
       "  </tbody>\n",
       "</table>\n",
       "</div>"
      ],
      "text/plain": [
       "                                                       Type\n",
       "Bank holidays                                              \n",
       "2012-12-26                                       Boxing Day\n",
       "2012-12-25                                    Christmas Day\n",
       "2012-08-27                              Summer bank holiday\n",
       "2012-05-06     Queen?s Diamond Jubilee (extra bank holiday)\n",
       "2012-04-06             Spring bank holiday (substitute day)"
      ]
     },
     "execution_count": 28,
     "metadata": {},
     "output_type": "execute_result"
    }
   ],
   "source": [
    "bank_holidays = pd.read_csv(source_data/\"uk_bank_holidays.csv\", parse_dates=False)\n",
    "bank_holidays['Bank holidays'] = pd.to_datetime(bank_holidays['Bank holidays'], yearfirst=True)\n",
    "bank_holidays.set_index(\"Bank holidays\", inplace=True)\n",
    "bank_holidays.head()"
   ]
  },
  {
   "cell_type": "code",
   "execution_count": 29,
   "metadata": {},
   "outputs": [
    {
     "data": {
      "text/html": [
       "<div>\n",
       "<style scoped>\n",
       "    .dataframe tbody tr th:only-of-type {\n",
       "        vertical-align: middle;\n",
       "    }\n",
       "\n",
       "    .dataframe tbody tr th {\n",
       "        vertical-align: top;\n",
       "    }\n",
       "\n",
       "    .dataframe thead th {\n",
       "        text-align: right;\n",
       "    }\n",
       "</style>\n",
       "<table border=\"1\" class=\"dataframe\">\n",
       "  <thead>\n",
       "    <tr style=\"text-align: right;\">\n",
       "      <th></th>\n",
       "      <th>Type</th>\n",
       "    </tr>\n",
       "    <tr>\n",
       "      <th>datetime</th>\n",
       "      <th></th>\n",
       "    </tr>\n",
       "  </thead>\n",
       "  <tbody>\n",
       "    <tr>\n",
       "      <th>2012-02-01 00:00:00</th>\n",
       "      <td>New Year?s Day (substitute day)</td>\n",
       "    </tr>\n",
       "    <tr>\n",
       "      <th>2012-02-01 00:30:00</th>\n",
       "      <td>New Year?s Day (substitute day)</td>\n",
       "    </tr>\n",
       "    <tr>\n",
       "      <th>2012-02-01 01:00:00</th>\n",
       "      <td>New Year?s Day (substitute day)</td>\n",
       "    </tr>\n",
       "    <tr>\n",
       "      <th>2012-02-01 01:30:00</th>\n",
       "      <td>New Year?s Day (substitute day)</td>\n",
       "    </tr>\n",
       "    <tr>\n",
       "      <th>2012-02-01 02:00:00</th>\n",
       "      <td>New Year?s Day (substitute day)</td>\n",
       "    </tr>\n",
       "  </tbody>\n",
       "</table>\n",
       "</div>"
      ],
      "text/plain": [
       "                                                Type\n",
       "datetime                                            \n",
       "2012-02-01 00:00:00  New Year?s Day (substitute day)\n",
       "2012-02-01 00:30:00  New Year?s Day (substitute day)\n",
       "2012-02-01 01:00:00  New Year?s Day (substitute day)\n",
       "2012-02-01 01:30:00  New Year?s Day (substitute day)\n",
       "2012-02-01 02:00:00  New Year?s Day (substitute day)"
      ]
     },
     "execution_count": 29,
     "metadata": {},
     "output_type": "execute_result"
    }
   ],
   "source": [
    "#Reindex on standard date range\n",
    "bank_holidays = bank_holidays.resample(\"30min\").asfreq()\n",
    "bank_holidays = bank_holidays.groupby(bank_holidays.index.date).ffill().fillna(\"NO_HOLIDAY\")\n",
    "bank_holidays.index.name=\"datetime\"\n",
    "bank_holidays.head()"
   ]
  },
  {
   "cell_type": "code",
   "execution_count": 30,
   "metadata": {},
   "outputs": [
    {
     "data": {
      "text/html": [
       "<div>\n",
       "<style scoped>\n",
       "    .dataframe tbody tr th:only-of-type {\n",
       "        vertical-align: middle;\n",
       "    }\n",
       "\n",
       "    .dataframe tbody tr th {\n",
       "        vertical-align: top;\n",
       "    }\n",
       "\n",
       "    .dataframe thead th {\n",
       "        text-align: right;\n",
       "    }\n",
       "</style>\n",
       "<table border=\"1\" class=\"dataframe\">\n",
       "  <thead>\n",
       "    <tr style=\"text-align: right;\">\n",
       "      <th></th>\n",
       "      <th>visibility</th>\n",
       "      <th>windBearing</th>\n",
       "      <th>temperature</th>\n",
       "      <th>dewPoint</th>\n",
       "      <th>pressure</th>\n",
       "      <th>apparentTemperature</th>\n",
       "      <th>windSpeed</th>\n",
       "      <th>precipType</th>\n",
       "      <th>icon</th>\n",
       "      <th>humidity</th>\n",
       "      <th>summary</th>\n",
       "    </tr>\n",
       "    <tr>\n",
       "      <th>time</th>\n",
       "      <th></th>\n",
       "      <th></th>\n",
       "      <th></th>\n",
       "      <th></th>\n",
       "      <th></th>\n",
       "      <th></th>\n",
       "      <th></th>\n",
       "      <th></th>\n",
       "      <th></th>\n",
       "      <th></th>\n",
       "      <th></th>\n",
       "    </tr>\n",
       "  </thead>\n",
       "  <tbody>\n",
       "    <tr>\n",
       "      <th>2011-11-11 00:00:00</th>\n",
       "      <td>5.97</td>\n",
       "      <td>104</td>\n",
       "      <td>10.24</td>\n",
       "      <td>8.86</td>\n",
       "      <td>1016.76</td>\n",
       "      <td>10.24</td>\n",
       "      <td>2.77</td>\n",
       "      <td>rain</td>\n",
       "      <td>partly-cloudy-night</td>\n",
       "      <td>0.91</td>\n",
       "      <td>Partly Cloudy</td>\n",
       "    </tr>\n",
       "    <tr>\n",
       "      <th>2011-11-11 01:00:00</th>\n",
       "      <td>4.88</td>\n",
       "      <td>99</td>\n",
       "      <td>9.76</td>\n",
       "      <td>8.83</td>\n",
       "      <td>1016.63</td>\n",
       "      <td>8.24</td>\n",
       "      <td>2.95</td>\n",
       "      <td>rain</td>\n",
       "      <td>partly-cloudy-night</td>\n",
       "      <td>0.94</td>\n",
       "      <td>Partly Cloudy</td>\n",
       "    </tr>\n",
       "    <tr>\n",
       "      <th>2011-11-11 02:00:00</th>\n",
       "      <td>3.70</td>\n",
       "      <td>98</td>\n",
       "      <td>9.46</td>\n",
       "      <td>8.79</td>\n",
       "      <td>1016.36</td>\n",
       "      <td>7.76</td>\n",
       "      <td>3.17</td>\n",
       "      <td>rain</td>\n",
       "      <td>partly-cloudy-night</td>\n",
       "      <td>0.96</td>\n",
       "      <td>Partly Cloudy</td>\n",
       "    </tr>\n",
       "    <tr>\n",
       "      <th>2011-11-11 03:00:00</th>\n",
       "      <td>3.12</td>\n",
       "      <td>99</td>\n",
       "      <td>9.23</td>\n",
       "      <td>8.63</td>\n",
       "      <td>1016.28</td>\n",
       "      <td>7.44</td>\n",
       "      <td>3.25</td>\n",
       "      <td>rain</td>\n",
       "      <td>fog</td>\n",
       "      <td>0.96</td>\n",
       "      <td>Foggy</td>\n",
       "    </tr>\n",
       "    <tr>\n",
       "      <th>2011-11-11 04:00:00</th>\n",
       "      <td>1.85</td>\n",
       "      <td>111</td>\n",
       "      <td>9.26</td>\n",
       "      <td>9.21</td>\n",
       "      <td>1015.98</td>\n",
       "      <td>7.24</td>\n",
       "      <td>3.70</td>\n",
       "      <td>rain</td>\n",
       "      <td>fog</td>\n",
       "      <td>1.00</td>\n",
       "      <td>Foggy</td>\n",
       "    </tr>\n",
       "  </tbody>\n",
       "</table>\n",
       "</div>"
      ],
      "text/plain": [
       "                     visibility  windBearing  temperature  dewPoint  pressure  \\\n",
       "time                                                                            \n",
       "2011-11-11 00:00:00        5.97          104        10.24      8.86   1016.76   \n",
       "2011-11-11 01:00:00        4.88           99         9.76      8.83   1016.63   \n",
       "2011-11-11 02:00:00        3.70           98         9.46      8.79   1016.36   \n",
       "2011-11-11 03:00:00        3.12           99         9.23      8.63   1016.28   \n",
       "2011-11-11 04:00:00        1.85          111         9.26      9.21   1015.98   \n",
       "\n",
       "                     apparentTemperature  windSpeed precipType  \\\n",
       "time                                                             \n",
       "2011-11-11 00:00:00                10.24       2.77       rain   \n",
       "2011-11-11 01:00:00                 8.24       2.95       rain   \n",
       "2011-11-11 02:00:00                 7.76       3.17       rain   \n",
       "2011-11-11 03:00:00                 7.44       3.25       rain   \n",
       "2011-11-11 04:00:00                 7.24       3.70       rain   \n",
       "\n",
       "                                    icon  humidity        summary  \n",
       "time                                                               \n",
       "2011-11-11 00:00:00  partly-cloudy-night      0.91  Partly Cloudy  \n",
       "2011-11-11 01:00:00  partly-cloudy-night      0.94  Partly Cloudy  \n",
       "2011-11-11 02:00:00  partly-cloudy-night      0.96  Partly Cloudy  \n",
       "2011-11-11 03:00:00                  fog      0.96          Foggy  \n",
       "2011-11-11 04:00:00                  fog      1.00          Foggy  "
      ]
     },
     "execution_count": 30,
     "metadata": {},
     "output_type": "execute_result"
    }
   ],
   "source": [
    "weather_hourly = pd.read_csv(source_data/\"weather_hourly_darksky.csv\", parse_dates=False)\n",
    "weather_hourly['time'] = pd.to_datetime(weather_hourly['time'], yearfirst=True)\n",
    "weather_hourly.set_index(\"time\", inplace=True)\n",
    "weather_hourly.head()"
   ]
  },
  {
   "cell_type": "code",
   "execution_count": 31,
   "metadata": {},
   "outputs": [
    {
     "data": {
      "text/html": [
       "<div>\n",
       "<style scoped>\n",
       "    .dataframe tbody tr th:only-of-type {\n",
       "        vertical-align: middle;\n",
       "    }\n",
       "\n",
       "    .dataframe tbody tr th {\n",
       "        vertical-align: top;\n",
       "    }\n",
       "\n",
       "    .dataframe thead th {\n",
       "        text-align: right;\n",
       "    }\n",
       "</style>\n",
       "<table border=\"1\" class=\"dataframe\">\n",
       "  <thead>\n",
       "    <tr style=\"text-align: right;\">\n",
       "      <th></th>\n",
       "      <th>visibility</th>\n",
       "      <th>windBearing</th>\n",
       "      <th>temperature</th>\n",
       "      <th>dewPoint</th>\n",
       "      <th>pressure</th>\n",
       "      <th>apparentTemperature</th>\n",
       "      <th>windSpeed</th>\n",
       "      <th>precipType</th>\n",
       "      <th>icon</th>\n",
       "      <th>humidity</th>\n",
       "      <th>summary</th>\n",
       "    </tr>\n",
       "    <tr>\n",
       "      <th>time</th>\n",
       "      <th></th>\n",
       "      <th></th>\n",
       "      <th></th>\n",
       "      <th></th>\n",
       "      <th></th>\n",
       "      <th></th>\n",
       "      <th></th>\n",
       "      <th></th>\n",
       "      <th></th>\n",
       "      <th></th>\n",
       "      <th></th>\n",
       "    </tr>\n",
       "  </thead>\n",
       "  <tbody>\n",
       "    <tr>\n",
       "      <th>2011-11-01 00:00:00</th>\n",
       "      <td>13.63</td>\n",
       "      <td>160</td>\n",
       "      <td>13.49</td>\n",
       "      <td>11.48</td>\n",
       "      <td>1008.14</td>\n",
       "      <td>13.49</td>\n",
       "      <td>3.11</td>\n",
       "      <td>rain</td>\n",
       "      <td>clear-night</td>\n",
       "      <td>0.88</td>\n",
       "      <td>Clear</td>\n",
       "    </tr>\n",
       "    <tr>\n",
       "      <th>2011-11-01 00:30:00</th>\n",
       "      <td>13.63</td>\n",
       "      <td>160</td>\n",
       "      <td>13.49</td>\n",
       "      <td>11.48</td>\n",
       "      <td>1008.14</td>\n",
       "      <td>13.49</td>\n",
       "      <td>3.11</td>\n",
       "      <td>rain</td>\n",
       "      <td>clear-night</td>\n",
       "      <td>0.88</td>\n",
       "      <td>Clear</td>\n",
       "    </tr>\n",
       "    <tr>\n",
       "      <th>2011-11-01 01:00:00</th>\n",
       "      <td>13.26</td>\n",
       "      <td>154</td>\n",
       "      <td>12.73</td>\n",
       "      <td>11.58</td>\n",
       "      <td>1007.88</td>\n",
       "      <td>12.73</td>\n",
       "      <td>3.08</td>\n",
       "      <td>rain</td>\n",
       "      <td>partly-cloudy-night</td>\n",
       "      <td>0.93</td>\n",
       "      <td>Partly Cloudy</td>\n",
       "    </tr>\n",
       "    <tr>\n",
       "      <th>2011-11-01 01:30:00</th>\n",
       "      <td>13.26</td>\n",
       "      <td>154</td>\n",
       "      <td>12.73</td>\n",
       "      <td>11.58</td>\n",
       "      <td>1007.88</td>\n",
       "      <td>12.73</td>\n",
       "      <td>3.08</td>\n",
       "      <td>rain</td>\n",
       "      <td>partly-cloudy-night</td>\n",
       "      <td>0.93</td>\n",
       "      <td>Partly Cloudy</td>\n",
       "    </tr>\n",
       "    <tr>\n",
       "      <th>2011-11-01 02:00:00</th>\n",
       "      <td>12.94</td>\n",
       "      <td>161</td>\n",
       "      <td>13.65</td>\n",
       "      <td>12.14</td>\n",
       "      <td>1007.09</td>\n",
       "      <td>13.65</td>\n",
       "      <td>3.71</td>\n",
       "      <td>rain</td>\n",
       "      <td>clear-night</td>\n",
       "      <td>0.91</td>\n",
       "      <td>Clear</td>\n",
       "    </tr>\n",
       "  </tbody>\n",
       "</table>\n",
       "</div>"
      ],
      "text/plain": [
       "                     visibility  windBearing  temperature  dewPoint  pressure  \\\n",
       "time                                                                            \n",
       "2011-11-01 00:00:00       13.63          160        13.49     11.48   1008.14   \n",
       "2011-11-01 00:30:00       13.63          160        13.49     11.48   1008.14   \n",
       "2011-11-01 01:00:00       13.26          154        12.73     11.58   1007.88   \n",
       "2011-11-01 01:30:00       13.26          154        12.73     11.58   1007.88   \n",
       "2011-11-01 02:00:00       12.94          161        13.65     12.14   1007.09   \n",
       "\n",
       "                     apparentTemperature  windSpeed precipType  \\\n",
       "time                                                             \n",
       "2011-11-01 00:00:00                13.49       3.11       rain   \n",
       "2011-11-01 00:30:00                13.49       3.11       rain   \n",
       "2011-11-01 01:00:00                12.73       3.08       rain   \n",
       "2011-11-01 01:30:00                12.73       3.08       rain   \n",
       "2011-11-01 02:00:00                13.65       3.71       rain   \n",
       "\n",
       "                                    icon  humidity        summary  \n",
       "time                                                               \n",
       "2011-11-01 00:00:00          clear-night      0.88          Clear  \n",
       "2011-11-01 00:30:00          clear-night      0.88          Clear  \n",
       "2011-11-01 01:00:00  partly-cloudy-night      0.93  Partly Cloudy  \n",
       "2011-11-01 01:30:00  partly-cloudy-night      0.93  Partly Cloudy  \n",
       "2011-11-01 02:00:00          clear-night      0.91          Clear  "
      ]
     },
     "execution_count": 31,
     "metadata": {},
     "output_type": "execute_result"
    }
   ],
   "source": [
    "#Resampling at 30min and forward fill\n",
    "weather_hourly = weather_hourly.resample(\"30min\").ffill()\n",
    "weather_hourly.head()"
   ]
  },
  {
   "cell_type": "code",
   "execution_count": 32,
   "metadata": {},
   "outputs": [],
   "source": [
    "def map_weather_holidays(row):\n",
    "    date_range = pd.date_range(row['start_timestamp'], periods=row['series_length'], freq=row['frequency'])\n",
    "    std_df = pd.DataFrame(index=date_range)\n",
    "    #Filling Na iwth NO_HOLIDAY cause rows before earliers holiday will be NaN\n",
    "    holidays = std_df.join(bank_holidays, how=\"left\").fillna(\"NO_HOLIDAY\")\n",
    "    weather = std_df.join(weather_hourly, how='left')\n",
    "    assert len(holidays)==row['series_length'], \"Length of holidays should be same as series length\"\n",
    "    assert len(weather)==row['series_length'], \"Length of weather should be same as series length\"\n",
    "    row['holidays'] = holidays['Type'].values\n",
    "    for col in weather:\n",
    "        row[col] = weather[col].values\n",
    "    return row"
   ]
  },
  {
   "cell_type": "code",
   "execution_count": 33,
   "metadata": {},
   "outputs": [
    {
     "data": {
      "application/vnd.jupyter.widget-view+json": {
       "model_id": "9e46f754eee84dfcae5d8f9b5d1cdcab",
       "version_major": 2,
       "version_minor": 0
      },
      "text/plain": [
       "  0%|          | 0/5560 [00:00<?, ?it/s]"
      ]
     },
     "metadata": {},
     "output_type": "display_data"
    }
   ],
   "source": [
    "hhblock_df = hhblock_df.progress_apply(map_weather_holidays, axis=1)"
   ]
  },
  {
   "cell_type": "code",
   "execution_count": 34,
   "metadata": {},
   "outputs": [
    {
     "data": {
      "text/html": [
       "<div>\n",
       "<style scoped>\n",
       "    .dataframe tbody tr th:only-of-type {\n",
       "        vertical-align: middle;\n",
       "    }\n",
       "\n",
       "    .dataframe tbody tr th {\n",
       "        vertical-align: top;\n",
       "    }\n",
       "\n",
       "    .dataframe thead th {\n",
       "        text-align: right;\n",
       "    }\n",
       "</style>\n",
       "<table border=\"1\" class=\"dataframe\">\n",
       "  <thead>\n",
       "    <tr style=\"text-align: right;\">\n",
       "      <th></th>\n",
       "      <th>LCLid</th>\n",
       "      <th>start_timestamp</th>\n",
       "      <th>frequency</th>\n",
       "      <th>energy_consumption</th>\n",
       "      <th>series_length</th>\n",
       "      <th>stdorToU</th>\n",
       "      <th>Acorn</th>\n",
       "      <th>Acorn_grouped</th>\n",
       "      <th>file</th>\n",
       "      <th>holidays</th>\n",
       "      <th>visibility</th>\n",
       "      <th>windBearing</th>\n",
       "      <th>temperature</th>\n",
       "      <th>dewPoint</th>\n",
       "      <th>pressure</th>\n",
       "      <th>apparentTemperature</th>\n",
       "      <th>windSpeed</th>\n",
       "      <th>precipType</th>\n",
       "      <th>icon</th>\n",
       "      <th>humidity</th>\n",
       "      <th>summary</th>\n",
       "    </tr>\n",
       "  </thead>\n",
       "  <tbody>\n",
       "    <tr>\n",
       "      <th>0</th>\n",
       "      <td>MAC000002</td>\n",
       "      <td>2012-10-13</td>\n",
       "      <td>30min</td>\n",
       "      <td>[0.263, 0.2689999999999999, 0.275, 0.256, 0.21...</td>\n",
       "      <td>24144</td>\n",
       "      <td>Std</td>\n",
       "      <td>ACORN-A</td>\n",
       "      <td>Affluent</td>\n",
       "      <td>block_0</td>\n",
       "      <td>[NO_HOLIDAY, NO_HOLIDAY, NO_HOLIDAY, NO_HOLIDA...</td>\n",
       "      <td>[13.08, 13.08, 13.42, 13.42, 13.94, 13.94, 13....</td>\n",
       "      <td>[186, 186, 188, 188, 190, 190, 203, 203, 206, ...</td>\n",
       "      <td>[8.78, 8.78, 8.27, 8.27, 7.87, 7.87, 7.89, 7.8...</td>\n",
       "      <td>[6.28, 6.28, 6.21, 6.21, 6.22, 6.22, 6.76, 6.7...</td>\n",
       "      <td>[1007.7, 1007.7, 1007.36, 1007.36, 1006.73, 10...</td>\n",
       "      <td>[7.55, 7.55, 7.34, 7.34, 6.75, 6.75, 6.89, 6.8...</td>\n",
       "      <td>[2.28, 2.28, 1.81, 1.81, 1.95, 1.95, 1.83, 1.8...</td>\n",
       "      <td>[rain, rain, rain, rain, rain, rain, rain, rai...</td>\n",
       "      <td>[clear-night, clear-night, clear-night, clear-...</td>\n",
       "      <td>[0.84, 0.84, 0.87, 0.87, 0.89, 0.89, 0.93, 0.9...</td>\n",
       "      <td>[Clear, Clear, Clear, Clear, Partly Cloudy, Pa...</td>\n",
       "    </tr>\n",
       "    <tr>\n",
       "      <th>1</th>\n",
       "      <td>MAC000246</td>\n",
       "      <td>2012-01-01</td>\n",
       "      <td>30min</td>\n",
       "      <td>[0.509, 0.317, 0.253, 0.249, 0.93, 0.607, 0.10...</td>\n",
       "      <td>37872</td>\n",
       "      <td>Std</td>\n",
       "      <td>ACORN-A</td>\n",
       "      <td>Affluent</td>\n",
       "      <td>block_0</td>\n",
       "      <td>[NO_HOLIDAY, NO_HOLIDAY, NO_HOLIDAY, NO_HOLIDA...</td>\n",
       "      <td>[12.99, 12.99, 12.89, 12.89, 11.54, 11.54, 13....</td>\n",
       "      <td>[229, 229, 238, 238, 229, 229, 231, 231, 227, ...</td>\n",
       "      <td>[12.12, 12.12, 12.59, 12.59, 12.45, 12.45, 12....</td>\n",
       "      <td>[10.97, 10.97, 11.02, 11.02, 11.04, 11.04, 10....</td>\n",
       "      <td>[1008.1, 1008.1, 1007.88, 1007.88, 1007.95, 10...</td>\n",
       "      <td>[12.12, 12.12, 12.59, 12.59, 12.45, 12.45, 12....</td>\n",
       "      <td>[5.9, 5.9, 6.06, 6.06, 5.31, 5.31, 4.68, 4.68,...</td>\n",
       "      <td>[rain, rain, rain, rain, rain, rain, rain, rai...</td>\n",
       "      <td>[partly-cloudy-night, partly-cloudy-night, clo...</td>\n",
       "      <td>[0.93, 0.93, 0.9, 0.9, 0.91, 0.91, 0.93, 0.93,...</td>\n",
       "      <td>[Mostly Cloudy, Mostly Cloudy, Overcast, Overc...</td>\n",
       "    </tr>\n",
       "    <tr>\n",
       "      <th>2</th>\n",
       "      <td>MAC000450</td>\n",
       "      <td>2012-03-23</td>\n",
       "      <td>30min</td>\n",
       "      <td>[1.337, 1.426, 0.996, 0.971, 0.994, 0.952, 0.8...</td>\n",
       "      <td>33936</td>\n",
       "      <td>Std</td>\n",
       "      <td>ACORN-A</td>\n",
       "      <td>Affluent</td>\n",
       "      <td>block_0</td>\n",
       "      <td>[NO_HOLIDAY, NO_HOLIDAY, NO_HOLIDAY, NO_HOLIDA...</td>\n",
       "      <td>[3.19, 3.19, 2.48, 2.48, 2.41, 2.41, 1.82, 1.8...</td>\n",
       "      <td>[78, 78, 73, 73, 81, 81, 80, 80, 75, 75, 71, 7...</td>\n",
       "      <td>[8.76, 8.76, 8.54, 8.54, 8.09, 8.09, 7.34, 7.3...</td>\n",
       "      <td>[7.25, 7.25, 7.12, 7.12, 7.17, 7.17, 6.68, 6.6...</td>\n",
       "      <td>[1027.41, 1027.41, 1026.91, 1026.91, 1026.54, ...</td>\n",
       "      <td>[7.59, 7.59, 7.43, 7.43, 7.24, 7.24, 7.34, 7.3...</td>\n",
       "      <td>[2.18, 2.18, 2.07, 2.07, 1.72, 1.72, 1.34, 1.3...</td>\n",
       "      <td>[rain, rain, rain, rain, rain, rain, rain, rai...</td>\n",
       "      <td>[fog, fog, fog, fog, fog, fog, fog, fog, fog, ...</td>\n",
       "      <td>[0.9, 0.9, 0.91, 0.91, 0.94, 0.94, 0.96, 0.96,...</td>\n",
       "      <td>[Foggy, Foggy, Foggy, Foggy, Foggy, Foggy, Fog...</td>\n",
       "    </tr>\n",
       "    <tr>\n",
       "      <th>3</th>\n",
       "      <td>MAC001074</td>\n",
       "      <td>2012-05-09</td>\n",
       "      <td>30min</td>\n",
       "      <td>[0.18, 0.086, 0.106, 0.173, 0.146, 0.223, 0.21...</td>\n",
       "      <td>31680</td>\n",
       "      <td>ToU</td>\n",
       "      <td>ACORN-</td>\n",
       "      <td>ACORN-</td>\n",
       "      <td>block_0</td>\n",
       "      <td>[NO_HOLIDAY, NO_HOLIDAY, NO_HOLIDAY, NO_HOLIDA...</td>\n",
       "      <td>[10.51, 10.51, 9.43, 9.43, 6.69, 6.69, 5.29, 5...</td>\n",
       "      <td>[215, 215, 207, 207, 215, 215, 216, 216, 126, ...</td>\n",
       "      <td>[11.46, 11.46, 11.38, 11.38, 11.38, 11.38, 10....</td>\n",
       "      <td>[10.23, 10.23, 10.17, 10.17, 10.24, 10.24, 10....</td>\n",
       "      <td>[1007.39, 1007.39, 1007.21, 1007.21, 1007.06, ...</td>\n",
       "      <td>[11.46, 11.46, 11.38, 11.38, 11.38, 11.38, 10....</td>\n",
       "      <td>[2.35, 2.35, 2.15, 2.15, 1.84, 1.84, 1.22, 1.2...</td>\n",
       "      <td>[rain, rain, rain, rain, rain, rain, rain, rai...</td>\n",
       "      <td>[partly-cloudy-night, partly-cloudy-night, par...</td>\n",
       "      <td>[0.92, 0.92, 0.92, 0.92, 0.93, 0.93, 0.95, 0.9...</td>\n",
       "      <td>[Partly Cloudy, Partly Cloudy, Mostly Cloudy, ...</td>\n",
       "    </tr>\n",
       "    <tr>\n",
       "      <th>4</th>\n",
       "      <td>MAC003223</td>\n",
       "      <td>2012-09-18</td>\n",
       "      <td>30min</td>\n",
       "      <td>[0.076, 0.079, 0.123, 0.109, 0.051, 0.069, 0.0...</td>\n",
       "      <td>25344</td>\n",
       "      <td>Std</td>\n",
       "      <td>ACORN-A</td>\n",
       "      <td>Affluent</td>\n",
       "      <td>block_0</td>\n",
       "      <td>[NO_HOLIDAY, NO_HOLIDAY, NO_HOLIDAY, NO_HOLIDA...</td>\n",
       "      <td>[13.44, 13.44, 13.36, 13.36, 13.29, 13.29, 13....</td>\n",
       "      <td>[236, 236, 240, 240, 242, 242, 244, 244, 248, ...</td>\n",
       "      <td>[14.06, 14.06, 13.12, 13.12, 12.53, 12.53, 12....</td>\n",
       "      <td>[10.82, 10.82, 10.29, 10.29, 9.86, 9.86, 9.83,...</td>\n",
       "      <td>[1011.09, 1011.09, 1010.82, 1010.82, 1010.65, ...</td>\n",
       "      <td>[14.06, 14.06, 13.12, 13.12, 12.53, 12.53, 12....</td>\n",
       "      <td>[3.86, 3.86, 3.81, 3.81, 4.27, 4.27, 4.12, 4.1...</td>\n",
       "      <td>[rain, rain, rain, rain, rain, rain, rain, rai...</td>\n",
       "      <td>[clear-night, clear-night, clear-night, clear-...</td>\n",
       "      <td>[0.81, 0.81, 0.83, 0.83, 0.84, 0.84, 0.86, 0.8...</td>\n",
       "      <td>[Clear, Clear, Clear, Clear, Clear, Clear, Par...</td>\n",
       "    </tr>\n",
       "  </tbody>\n",
       "</table>\n",
       "</div>"
      ],
      "text/plain": [
       "       LCLid start_timestamp frequency  \\\n",
       "0  MAC000002      2012-10-13     30min   \n",
       "1  MAC000246      2012-01-01     30min   \n",
       "2  MAC000450      2012-03-23     30min   \n",
       "3  MAC001074      2012-05-09     30min   \n",
       "4  MAC003223      2012-09-18     30min   \n",
       "\n",
       "                                  energy_consumption  series_length stdorToU  \\\n",
       "0  [0.263, 0.2689999999999999, 0.275, 0.256, 0.21...          24144      Std   \n",
       "1  [0.509, 0.317, 0.253, 0.249, 0.93, 0.607, 0.10...          37872      Std   \n",
       "2  [1.337, 1.426, 0.996, 0.971, 0.994, 0.952, 0.8...          33936      Std   \n",
       "3  [0.18, 0.086, 0.106, 0.173, 0.146, 0.223, 0.21...          31680      ToU   \n",
       "4  [0.076, 0.079, 0.123, 0.109, 0.051, 0.069, 0.0...          25344      Std   \n",
       "\n",
       "     Acorn Acorn_grouped     file  \\\n",
       "0  ACORN-A      Affluent  block_0   \n",
       "1  ACORN-A      Affluent  block_0   \n",
       "2  ACORN-A      Affluent  block_0   \n",
       "3   ACORN-        ACORN-  block_0   \n",
       "4  ACORN-A      Affluent  block_0   \n",
       "\n",
       "                                            holidays  \\\n",
       "0  [NO_HOLIDAY, NO_HOLIDAY, NO_HOLIDAY, NO_HOLIDA...   \n",
       "1  [NO_HOLIDAY, NO_HOLIDAY, NO_HOLIDAY, NO_HOLIDA...   \n",
       "2  [NO_HOLIDAY, NO_HOLIDAY, NO_HOLIDAY, NO_HOLIDA...   \n",
       "3  [NO_HOLIDAY, NO_HOLIDAY, NO_HOLIDAY, NO_HOLIDA...   \n",
       "4  [NO_HOLIDAY, NO_HOLIDAY, NO_HOLIDAY, NO_HOLIDA...   \n",
       "\n",
       "                                          visibility  \\\n",
       "0  [13.08, 13.08, 13.42, 13.42, 13.94, 13.94, 13....   \n",
       "1  [12.99, 12.99, 12.89, 12.89, 11.54, 11.54, 13....   \n",
       "2  [3.19, 3.19, 2.48, 2.48, 2.41, 2.41, 1.82, 1.8...   \n",
       "3  [10.51, 10.51, 9.43, 9.43, 6.69, 6.69, 5.29, 5...   \n",
       "4  [13.44, 13.44, 13.36, 13.36, 13.29, 13.29, 13....   \n",
       "\n",
       "                                         windBearing  \\\n",
       "0  [186, 186, 188, 188, 190, 190, 203, 203, 206, ...   \n",
       "1  [229, 229, 238, 238, 229, 229, 231, 231, 227, ...   \n",
       "2  [78, 78, 73, 73, 81, 81, 80, 80, 75, 75, 71, 7...   \n",
       "3  [215, 215, 207, 207, 215, 215, 216, 216, 126, ...   \n",
       "4  [236, 236, 240, 240, 242, 242, 244, 244, 248, ...   \n",
       "\n",
       "                                         temperature  \\\n",
       "0  [8.78, 8.78, 8.27, 8.27, 7.87, 7.87, 7.89, 7.8...   \n",
       "1  [12.12, 12.12, 12.59, 12.59, 12.45, 12.45, 12....   \n",
       "2  [8.76, 8.76, 8.54, 8.54, 8.09, 8.09, 7.34, 7.3...   \n",
       "3  [11.46, 11.46, 11.38, 11.38, 11.38, 11.38, 10....   \n",
       "4  [14.06, 14.06, 13.12, 13.12, 12.53, 12.53, 12....   \n",
       "\n",
       "                                            dewPoint  \\\n",
       "0  [6.28, 6.28, 6.21, 6.21, 6.22, 6.22, 6.76, 6.7...   \n",
       "1  [10.97, 10.97, 11.02, 11.02, 11.04, 11.04, 10....   \n",
       "2  [7.25, 7.25, 7.12, 7.12, 7.17, 7.17, 6.68, 6.6...   \n",
       "3  [10.23, 10.23, 10.17, 10.17, 10.24, 10.24, 10....   \n",
       "4  [10.82, 10.82, 10.29, 10.29, 9.86, 9.86, 9.83,...   \n",
       "\n",
       "                                            pressure  \\\n",
       "0  [1007.7, 1007.7, 1007.36, 1007.36, 1006.73, 10...   \n",
       "1  [1008.1, 1008.1, 1007.88, 1007.88, 1007.95, 10...   \n",
       "2  [1027.41, 1027.41, 1026.91, 1026.91, 1026.54, ...   \n",
       "3  [1007.39, 1007.39, 1007.21, 1007.21, 1007.06, ...   \n",
       "4  [1011.09, 1011.09, 1010.82, 1010.82, 1010.65, ...   \n",
       "\n",
       "                                 apparentTemperature  \\\n",
       "0  [7.55, 7.55, 7.34, 7.34, 6.75, 6.75, 6.89, 6.8...   \n",
       "1  [12.12, 12.12, 12.59, 12.59, 12.45, 12.45, 12....   \n",
       "2  [7.59, 7.59, 7.43, 7.43, 7.24, 7.24, 7.34, 7.3...   \n",
       "3  [11.46, 11.46, 11.38, 11.38, 11.38, 11.38, 10....   \n",
       "4  [14.06, 14.06, 13.12, 13.12, 12.53, 12.53, 12....   \n",
       "\n",
       "                                           windSpeed  \\\n",
       "0  [2.28, 2.28, 1.81, 1.81, 1.95, 1.95, 1.83, 1.8...   \n",
       "1  [5.9, 5.9, 6.06, 6.06, 5.31, 5.31, 4.68, 4.68,...   \n",
       "2  [2.18, 2.18, 2.07, 2.07, 1.72, 1.72, 1.34, 1.3...   \n",
       "3  [2.35, 2.35, 2.15, 2.15, 1.84, 1.84, 1.22, 1.2...   \n",
       "4  [3.86, 3.86, 3.81, 3.81, 4.27, 4.27, 4.12, 4.1...   \n",
       "\n",
       "                                          precipType  \\\n",
       "0  [rain, rain, rain, rain, rain, rain, rain, rai...   \n",
       "1  [rain, rain, rain, rain, rain, rain, rain, rai...   \n",
       "2  [rain, rain, rain, rain, rain, rain, rain, rai...   \n",
       "3  [rain, rain, rain, rain, rain, rain, rain, rai...   \n",
       "4  [rain, rain, rain, rain, rain, rain, rain, rai...   \n",
       "\n",
       "                                                icon  \\\n",
       "0  [clear-night, clear-night, clear-night, clear-...   \n",
       "1  [partly-cloudy-night, partly-cloudy-night, clo...   \n",
       "2  [fog, fog, fog, fog, fog, fog, fog, fog, fog, ...   \n",
       "3  [partly-cloudy-night, partly-cloudy-night, par...   \n",
       "4  [clear-night, clear-night, clear-night, clear-...   \n",
       "\n",
       "                                            humidity  \\\n",
       "0  [0.84, 0.84, 0.87, 0.87, 0.89, 0.89, 0.93, 0.9...   \n",
       "1  [0.93, 0.93, 0.9, 0.9, 0.91, 0.91, 0.93, 0.93,...   \n",
       "2  [0.9, 0.9, 0.91, 0.91, 0.94, 0.94, 0.96, 0.96,...   \n",
       "3  [0.92, 0.92, 0.92, 0.92, 0.93, 0.93, 0.95, 0.9...   \n",
       "4  [0.81, 0.81, 0.83, 0.83, 0.84, 0.84, 0.86, 0.8...   \n",
       "\n",
       "                                             summary  \n",
       "0  [Clear, Clear, Clear, Clear, Partly Cloudy, Pa...  \n",
       "1  [Mostly Cloudy, Mostly Cloudy, Overcast, Overc...  \n",
       "2  [Foggy, Foggy, Foggy, Foggy, Foggy, Foggy, Fog...  \n",
       "3  [Partly Cloudy, Partly Cloudy, Mostly Cloudy, ...  \n",
       "4  [Clear, Clear, Clear, Clear, Clear, Clear, Par...  "
      ]
     },
     "execution_count": 34,
     "metadata": {},
     "output_type": "execute_result"
    }
   ],
   "source": [
    "hhblock_df.head()"
   ]
  },
  {
   "cell_type": "code",
   "execution_count": 35,
   "metadata": {},
   "outputs": [],
   "source": [
    "del block_df, weather_hourly, bank_holidays, household_info"
   ]
  },
  {
   "cell_type": "code",
   "execution_count": 36,
   "metadata": {},
   "outputs": [
    {
     "data": {
      "text/plain": [
       "Index                     128\n",
       "LCLid                  366960\n",
       "start_timestamp         44480\n",
       "frequency              344720\n",
       "energy_consumption     667200\n",
       "series_length           44480\n",
       "stdorToU               333600\n",
       "Acorn                  355838\n",
       "Acorn_grouped          367675\n",
       "file                   361465\n",
       "holidays               667200\n",
       "visibility             667200\n",
       "windBearing            667200\n",
       "temperature            667200\n",
       "dewPoint               667200\n",
       "pressure               667200\n",
       "apparentTemperature    667200\n",
       "windSpeed              667200\n",
       "precipType             667200\n",
       "icon                   667200\n",
       "humidity               667200\n",
       "summary                667200\n",
       "dtype: int64"
      ]
     },
     "metadata": {},
     "output_type": "display_data"
    },
    {
     "name": "stdout",
     "output_type": "stream",
     "text": [
      "Total: 10.388322830200195 MB\n"
     ]
    }
   ],
   "source": [
    "display(hhblock_df.memory_usage(deep=True))\n",
    "print(f\"Total: {hhblock_df.memory_usage(deep=True).sum()/1024**2} MB\")"
   ]
  },
  {
   "cell_type": "code",
   "execution_count": 37,
   "metadata": {},
   "outputs": [
    {
     "data": {
      "text/plain": [
       "['01 - pandas.ipynb', '02 - preprocessing london smard meter dataset.ipynb']"
      ]
     },
     "execution_count": 37,
     "metadata": {},
     "output_type": "execute_result"
    }
   ],
   "source": [
    "os.listdir()"
   ]
  },
  {
   "cell_type": "code",
   "execution_count": 38,
   "metadata": {},
   "outputs": [],
   "source": [
    "os.makedirs(\"../data/london_smart_meters/preprocessed\", exist_ok=True)"
   ]
  },
  {
   "cell_type": "code",
   "execution_count": 39,
   "metadata": {},
   "outputs": [],
   "source": [
    "# Saving the LCLid - Acorn map as a pickle to be used later\n",
    "hhblock_df[['LCLid',\"file\", \"Acorn_grouped\"]].to_pickle(f\"../data/london_smart_meters/preprocessed/london_smart_meters_lclid_acorn_map.pkl\")"
   ]
  },
  {
   "cell_type": "markdown",
   "metadata": {},
   "source": [
    "Saving blocks in 8 chunks as parquet"
   ]
  },
  {
   "cell_type": "code",
   "execution_count": 40,
   "metadata": {},
   "outputs": [],
   "source": [
    "# Splitting the blocks into 8 chunks\n",
    "blocks = [f\"block_{i}\" for i in range(111)]\n",
    "\n",
    "n_chunks= 8\n",
    "split_blocks = [blocks[i:i + n_chunks] for i in range(0, len(blocks), n_chunks)] "
   ]
  },
  {
   "cell_type": "code",
   "execution_count": 42,
   "metadata": {},
   "outputs": [
    {
     "data": {
      "application/vnd.jupyter.widget-view+json": {
       "model_id": "0cb11bea1ba646a7a279b80dd48c0c58",
       "version_major": 2,
       "version_minor": 0
      },
      "text/plain": [
       "  0%|          | 0/14 [00:00<?, ?it/s]"
      ]
     },
     "metadata": {},
     "output_type": "display_data"
    }
   ],
   "source": [
    "#Writing each chunk to disk\n",
    "for blk in tqdm(split_blocks):\n",
    "    df = hhblock_df.loc[hhblock_df.file.isin(blk)]\n",
    "    blk = [int(b.replace(\"block_\",\"\")) for b in blk]\n",
    "    block_str = f\"block_{min(blk)}-{max(blk)}\"\n",
    "    df.to_parquet(f\"../data/london_smart_meters/preprocessed/london_smart_meters_merged_{block_str}.parquet\")"
   ]
  },
  {
   "cell_type": "code",
   "execution_count": null,
   "metadata": {},
   "outputs": [],
   "source": []
  }
 ],
 "metadata": {
  "kernelspec": {
   "display_name": "base",
   "language": "python",
   "name": "python3"
  },
  "language_info": {
   "codemirror_mode": {
    "name": "ipython",
    "version": 3
   },
   "file_extension": ".py",
   "mimetype": "text/x-python",
   "name": "python",
   "nbconvert_exporter": "python",
   "pygments_lexer": "ipython3",
   "version": "3.9.18"
  },
  "orig_nbformat": 4
 },
 "nbformat": 4,
 "nbformat_minor": 2
}
