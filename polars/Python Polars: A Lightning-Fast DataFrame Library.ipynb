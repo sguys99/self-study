{
 "cells": [
  {
   "attachments": {},
   "cell_type": "markdown",
   "metadata": {},
   "source": [
    "## Python Polars: A Lightning-Fast DataFrame Library\n",
    "\n",
    "- https://realpython.com/polars-python/"
   ]
  },
  {
   "cell_type": "code",
   "execution_count": 1,
   "metadata": {},
   "outputs": [],
   "source": [
    "\n",
    "import os\n",
    "import sys\n",
    "import time\n",
    "import numpy as np\n",
    "import pandas as pd\n",
    "import matplotlib as mpl\n",
    "import matplotlib.pyplot as plt\n",
    "import warnings; warnings.filterwarnings('ignore')\n",
    "plt.style.use(\"seaborn-v0_8-whitegrid\")\n",
    "%matplotlib inline\n",
    "\n",
    "pd.options.display.max_columns = 999"
   ]
  },
  {
   "cell_type": "markdown",
   "metadata": {},
   "source": [
    "## DataFrames, Expressions, and Contexts"
   ]
  },
  {
   "cell_type": "markdown",
   "metadata": {},
   "source": [
    "### Getting Started With Polars DataFrames"
   ]
  },
  {
   "cell_type": "markdown",
   "metadata": {},
   "source": [
    "폴라스 데이터 프레임 만들기"
   ]
  },
  {
   "cell_type": "code",
   "execution_count": 3,
   "metadata": {},
   "outputs": [],
   "source": [
    "import polars as pl"
   ]
  },
  {
   "cell_type": "code",
   "execution_count": 4,
   "metadata": {},
   "outputs": [
    {
     "data": {
      "text/plain": [
       "Generator(PCG64) at 0x1201D50E0"
      ]
     },
     "execution_count": 4,
     "metadata": {},
     "output_type": "execute_result"
    }
   ],
   "source": [
    "num_rows = 5000\n",
    "rng = np.random.default_rng(seed = 7)\n",
    "rng"
   ]
  },
  {
   "cell_type": "code",
   "execution_count": 5,
   "metadata": {},
   "outputs": [
    {
     "data": {
      "text/plain": [
       "{'sqft': array([ 707.52925579, 1025.20334829,  568.54865738, ...,   57.56205856,\n",
       "        3728.0889487 ,  686.67834497]),\n",
       " 'year': array([1996, 2020, 2012, ..., 2019, 2020, 2011]),\n",
       " 'building_type': array(['C', 'C', 'A', ..., 'C', 'C', 'C'], dtype='<U1')}"
      ]
     },
     "execution_count": 5,
     "metadata": {},
     "output_type": "execute_result"
    }
   ],
   "source": [
    "buildings_data = {\n",
    "    'sqft': rng.exponential(scale = 1000, size=num_rows),\n",
    "    'year': rng.integers(low = 1995, high=2023, size=num_rows),\n",
    "    'building_type': rng.choice([\"A\", \"B\", \"C\"], size = num_rows),\n",
    "}\n",
    "\n",
    "buildings_data"
   ]
  },
  {
   "cell_type": "code",
   "execution_count": 6,
   "metadata": {},
   "outputs": [],
   "source": [
    "buildings  = pl.DataFrame(buildings_data)"
   ]
  },
  {
   "cell_type": "code",
   "execution_count": 8,
   "metadata": {},
   "outputs": [
    {
     "data": {
      "text/html": [
       "<div><style>\n",
       ".dataframe > thead > tr > th,\n",
       ".dataframe > tbody > tr > td {\n",
       "  text-align: right;\n",
       "  white-space: pre-wrap;\n",
       "}\n",
       "</style>\n",
       "<small>shape: (5, 3)</small><table border=\"1\" class=\"dataframe\"><thead><tr><th>sqft</th><th>year</th><th>building_type</th></tr><tr><td>f64</td><td>i64</td><td>str</td></tr></thead><tbody><tr><td>707.529256</td><td>1996</td><td>&quot;C&quot;</td></tr><tr><td>1025.203348</td><td>2020</td><td>&quot;C&quot;</td></tr><tr><td>568.548657</td><td>2012</td><td>&quot;A&quot;</td></tr><tr><td>895.109864</td><td>2000</td><td>&quot;A&quot;</td></tr><tr><td>206.532754</td><td>2011</td><td>&quot;A&quot;</td></tr></tbody></table></div>"
      ],
      "text/plain": [
       "shape: (5, 3)\n",
       "┌─────────────┬──────┬───────────────┐\n",
       "│ sqft        ┆ year ┆ building_type │\n",
       "│ ---         ┆ ---  ┆ ---           │\n",
       "│ f64         ┆ i64  ┆ str           │\n",
       "╞═════════════╪══════╪═══════════════╡\n",
       "│ 707.529256  ┆ 1996 ┆ C             │\n",
       "│ 1025.203348 ┆ 2020 ┆ C             │\n",
       "│ 568.548657  ┆ 2012 ┆ A             │\n",
       "│ 895.109864  ┆ 2000 ┆ A             │\n",
       "│ 206.532754  ┆ 2011 ┆ A             │\n",
       "└─────────────┴──────┴───────────────┘"
      ]
     },
     "execution_count": 8,
     "metadata": {},
     "output_type": "execute_result"
    }
   ],
   "source": [
    "buildings.head()"
   ]
  },
  {
   "cell_type": "code",
   "execution_count": 9,
   "metadata": {},
   "outputs": [
    {
     "data": {
      "text/plain": [
       "(5000, 3)"
      ]
     },
     "execution_count": 9,
     "metadata": {},
     "output_type": "execute_result"
    }
   ],
   "source": [
    "buildings.shape"
   ]
  },
  {
   "cell_type": "code",
   "execution_count": null,
   "metadata": {},
   "outputs": [],
   "source": []
  }
 ],
 "metadata": {
  "kernelspec": {
   "display_name": "base",
   "language": "python",
   "name": "python3"
  },
  "language_info": {
   "codemirror_mode": {
    "name": "ipython",
    "version": 3
   },
   "file_extension": ".py",
   "mimetype": "text/x-python",
   "name": "python",
   "nbconvert_exporter": "python",
   "pygments_lexer": "ipython3",
   "version": "3.11.5"
  },
  "orig_nbformat": 4
 },
 "nbformat": 4,
 "nbformat_minor": 2
}
