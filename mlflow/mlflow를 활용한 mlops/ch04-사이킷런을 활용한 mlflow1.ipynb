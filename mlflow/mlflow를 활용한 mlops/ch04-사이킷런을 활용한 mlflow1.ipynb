{
 "cells": [
  {
   "cell_type": "markdown",
   "id": "c5b472a1",
   "metadata": {},
   "source": [
    "## ch04-사이킷런을 활용한 mlflow"
   ]
  },
  {
   "cell_type": "markdown",
   "id": "a0d69857",
   "metadata": {},
   "source": [
    "<div style=\"text-align: right\"> Initial upload: 2022.04.05 </div>\n",
    "<div style=\"text-align: right\"> Last update: 2022.04.05</div>"
   ]
  },
  {
   "cell_type": "code",
   "execution_count": 28,
   "id": "18345158",
   "metadata": {},
   "outputs": [],
   "source": [
    "import numpy as np\n",
    "import pandas as pd\n",
    "import matplotlib.pyplot as plt\n",
    "import seaborn as sns\n",
    "import warnings; warnings.filterwarnings('ignore')\n",
    "plt.style.use('ggplot')\n",
    "%matplotlib inline\n",
    "\n",
    "# Options for pandas\n",
    "pd.options.display.max_columns = 50\n",
    "\n",
    "from pylab import rcParams\n",
    "\n",
    "rcParams['figure.figsize'] = 14, 8"
   ]
  },
  {
   "cell_type": "code",
   "execution_count": 29,
   "id": "b65a3852",
   "metadata": {},
   "outputs": [],
   "source": [
    "from sklearn.linear_model import LogisticRegression\n",
    "from sklearn.model_selection import train_test_split\n",
    "from sklearn.preprocessing import StandardScaler\n",
    "from sklearn.metrics import roc_auc_score, plot_roc_curve, confusion_matrix\n",
    "from sklearn.model_selection import KFold"
   ]
  },
  {
   "cell_type": "code",
   "execution_count": 30,
   "id": "ba2054f5",
   "metadata": {},
   "outputs": [],
   "source": [
    "import mlflow\n",
    "import mlflow.sklearn"
   ]
  },
  {
   "cell_type": "code",
   "execution_count": 31,
   "id": "cefa448e",
   "metadata": {},
   "outputs": [],
   "source": [
    "df = pd.read_csv('data/creditcard.csv')\n",
    "df = df.drop('Time', axis = 1)"
   ]
  },
  {
   "cell_type": "code",
   "execution_count": 32,
   "id": "83f6515f",
   "metadata": {},
   "outputs": [
    {
     "data": {
      "text/html": [
       "<div>\n",
       "<style scoped>\n",
       "    .dataframe tbody tr th:only-of-type {\n",
       "        vertical-align: middle;\n",
       "    }\n",
       "\n",
       "    .dataframe tbody tr th {\n",
       "        vertical-align: top;\n",
       "    }\n",
       "\n",
       "    .dataframe thead th {\n",
       "        text-align: right;\n",
       "    }\n",
       "</style>\n",
       "<table border=\"1\" class=\"dataframe\">\n",
       "  <thead>\n",
       "    <tr style=\"text-align: right;\">\n",
       "      <th></th>\n",
       "      <th>V1</th>\n",
       "      <th>V2</th>\n",
       "      <th>V3</th>\n",
       "      <th>V4</th>\n",
       "      <th>V5</th>\n",
       "      <th>V6</th>\n",
       "      <th>V7</th>\n",
       "      <th>V8</th>\n",
       "      <th>V9</th>\n",
       "      <th>V10</th>\n",
       "      <th>V11</th>\n",
       "      <th>V12</th>\n",
       "      <th>V13</th>\n",
       "      <th>V14</th>\n",
       "      <th>V15</th>\n",
       "      <th>V16</th>\n",
       "      <th>V17</th>\n",
       "      <th>V18</th>\n",
       "      <th>V19</th>\n",
       "      <th>V20</th>\n",
       "      <th>V21</th>\n",
       "      <th>V22</th>\n",
       "      <th>V23</th>\n",
       "      <th>V24</th>\n",
       "      <th>V25</th>\n",
       "      <th>V26</th>\n",
       "      <th>V27</th>\n",
       "      <th>V28</th>\n",
       "      <th>Amount</th>\n",
       "      <th>Class</th>\n",
       "    </tr>\n",
       "  </thead>\n",
       "  <tbody>\n",
       "    <tr>\n",
       "      <th>0</th>\n",
       "      <td>-1.359807</td>\n",
       "      <td>-0.072781</td>\n",
       "      <td>2.536347</td>\n",
       "      <td>1.378155</td>\n",
       "      <td>-0.338321</td>\n",
       "      <td>0.462388</td>\n",
       "      <td>0.239599</td>\n",
       "      <td>0.098698</td>\n",
       "      <td>0.363787</td>\n",
       "      <td>0.090794</td>\n",
       "      <td>-0.551600</td>\n",
       "      <td>-0.617801</td>\n",
       "      <td>-0.991390</td>\n",
       "      <td>-0.311169</td>\n",
       "      <td>1.468177</td>\n",
       "      <td>-0.470401</td>\n",
       "      <td>0.207971</td>\n",
       "      <td>0.025791</td>\n",
       "      <td>0.403993</td>\n",
       "      <td>0.251412</td>\n",
       "      <td>-0.018307</td>\n",
       "      <td>0.277838</td>\n",
       "      <td>-0.110474</td>\n",
       "      <td>0.066928</td>\n",
       "      <td>0.128539</td>\n",
       "      <td>-0.189115</td>\n",
       "      <td>0.133558</td>\n",
       "      <td>-0.021053</td>\n",
       "      <td>149.62</td>\n",
       "      <td>0</td>\n",
       "    </tr>\n",
       "    <tr>\n",
       "      <th>1</th>\n",
       "      <td>1.191857</td>\n",
       "      <td>0.266151</td>\n",
       "      <td>0.166480</td>\n",
       "      <td>0.448154</td>\n",
       "      <td>0.060018</td>\n",
       "      <td>-0.082361</td>\n",
       "      <td>-0.078803</td>\n",
       "      <td>0.085102</td>\n",
       "      <td>-0.255425</td>\n",
       "      <td>-0.166974</td>\n",
       "      <td>1.612727</td>\n",
       "      <td>1.065235</td>\n",
       "      <td>0.489095</td>\n",
       "      <td>-0.143772</td>\n",
       "      <td>0.635558</td>\n",
       "      <td>0.463917</td>\n",
       "      <td>-0.114805</td>\n",
       "      <td>-0.183361</td>\n",
       "      <td>-0.145783</td>\n",
       "      <td>-0.069083</td>\n",
       "      <td>-0.225775</td>\n",
       "      <td>-0.638672</td>\n",
       "      <td>0.101288</td>\n",
       "      <td>-0.339846</td>\n",
       "      <td>0.167170</td>\n",
       "      <td>0.125895</td>\n",
       "      <td>-0.008983</td>\n",
       "      <td>0.014724</td>\n",
       "      <td>2.69</td>\n",
       "      <td>0</td>\n",
       "    </tr>\n",
       "    <tr>\n",
       "      <th>2</th>\n",
       "      <td>-1.358354</td>\n",
       "      <td>-1.340163</td>\n",
       "      <td>1.773209</td>\n",
       "      <td>0.379780</td>\n",
       "      <td>-0.503198</td>\n",
       "      <td>1.800499</td>\n",
       "      <td>0.791461</td>\n",
       "      <td>0.247676</td>\n",
       "      <td>-1.514654</td>\n",
       "      <td>0.207643</td>\n",
       "      <td>0.624501</td>\n",
       "      <td>0.066084</td>\n",
       "      <td>0.717293</td>\n",
       "      <td>-0.165946</td>\n",
       "      <td>2.345865</td>\n",
       "      <td>-2.890083</td>\n",
       "      <td>1.109969</td>\n",
       "      <td>-0.121359</td>\n",
       "      <td>-2.261857</td>\n",
       "      <td>0.524980</td>\n",
       "      <td>0.247998</td>\n",
       "      <td>0.771679</td>\n",
       "      <td>0.909412</td>\n",
       "      <td>-0.689281</td>\n",
       "      <td>-0.327642</td>\n",
       "      <td>-0.139097</td>\n",
       "      <td>-0.055353</td>\n",
       "      <td>-0.059752</td>\n",
       "      <td>378.66</td>\n",
       "      <td>0</td>\n",
       "    </tr>\n",
       "    <tr>\n",
       "      <th>3</th>\n",
       "      <td>-0.966272</td>\n",
       "      <td>-0.185226</td>\n",
       "      <td>1.792993</td>\n",
       "      <td>-0.863291</td>\n",
       "      <td>-0.010309</td>\n",
       "      <td>1.247203</td>\n",
       "      <td>0.237609</td>\n",
       "      <td>0.377436</td>\n",
       "      <td>-1.387024</td>\n",
       "      <td>-0.054952</td>\n",
       "      <td>-0.226487</td>\n",
       "      <td>0.178228</td>\n",
       "      <td>0.507757</td>\n",
       "      <td>-0.287924</td>\n",
       "      <td>-0.631418</td>\n",
       "      <td>-1.059647</td>\n",
       "      <td>-0.684093</td>\n",
       "      <td>1.965775</td>\n",
       "      <td>-1.232622</td>\n",
       "      <td>-0.208038</td>\n",
       "      <td>-0.108300</td>\n",
       "      <td>0.005274</td>\n",
       "      <td>-0.190321</td>\n",
       "      <td>-1.175575</td>\n",
       "      <td>0.647376</td>\n",
       "      <td>-0.221929</td>\n",
       "      <td>0.062723</td>\n",
       "      <td>0.061458</td>\n",
       "      <td>123.50</td>\n",
       "      <td>0</td>\n",
       "    </tr>\n",
       "    <tr>\n",
       "      <th>4</th>\n",
       "      <td>-1.158233</td>\n",
       "      <td>0.877737</td>\n",
       "      <td>1.548718</td>\n",
       "      <td>0.403034</td>\n",
       "      <td>-0.407193</td>\n",
       "      <td>0.095921</td>\n",
       "      <td>0.592941</td>\n",
       "      <td>-0.270533</td>\n",
       "      <td>0.817739</td>\n",
       "      <td>0.753074</td>\n",
       "      <td>-0.822843</td>\n",
       "      <td>0.538196</td>\n",
       "      <td>1.345852</td>\n",
       "      <td>-1.119670</td>\n",
       "      <td>0.175121</td>\n",
       "      <td>-0.451449</td>\n",
       "      <td>-0.237033</td>\n",
       "      <td>-0.038195</td>\n",
       "      <td>0.803487</td>\n",
       "      <td>0.408542</td>\n",
       "      <td>-0.009431</td>\n",
       "      <td>0.798278</td>\n",
       "      <td>-0.137458</td>\n",
       "      <td>0.141267</td>\n",
       "      <td>-0.206010</td>\n",
       "      <td>0.502292</td>\n",
       "      <td>0.219422</td>\n",
       "      <td>0.215153</td>\n",
       "      <td>69.99</td>\n",
       "      <td>0</td>\n",
       "    </tr>\n",
       "  </tbody>\n",
       "</table>\n",
       "</div>"
      ],
      "text/plain": [
       "         V1        V2        V3        V4        V5        V6        V7  \\\n",
       "0 -1.359807 -0.072781  2.536347  1.378155 -0.338321  0.462388  0.239599   \n",
       "1  1.191857  0.266151  0.166480  0.448154  0.060018 -0.082361 -0.078803   \n",
       "2 -1.358354 -1.340163  1.773209  0.379780 -0.503198  1.800499  0.791461   \n",
       "3 -0.966272 -0.185226  1.792993 -0.863291 -0.010309  1.247203  0.237609   \n",
       "4 -1.158233  0.877737  1.548718  0.403034 -0.407193  0.095921  0.592941   \n",
       "\n",
       "         V8        V9       V10       V11       V12       V13       V14  \\\n",
       "0  0.098698  0.363787  0.090794 -0.551600 -0.617801 -0.991390 -0.311169   \n",
       "1  0.085102 -0.255425 -0.166974  1.612727  1.065235  0.489095 -0.143772   \n",
       "2  0.247676 -1.514654  0.207643  0.624501  0.066084  0.717293 -0.165946   \n",
       "3  0.377436 -1.387024 -0.054952 -0.226487  0.178228  0.507757 -0.287924   \n",
       "4 -0.270533  0.817739  0.753074 -0.822843  0.538196  1.345852 -1.119670   \n",
       "\n",
       "        V15       V16       V17       V18       V19       V20       V21  \\\n",
       "0  1.468177 -0.470401  0.207971  0.025791  0.403993  0.251412 -0.018307   \n",
       "1  0.635558  0.463917 -0.114805 -0.183361 -0.145783 -0.069083 -0.225775   \n",
       "2  2.345865 -2.890083  1.109969 -0.121359 -2.261857  0.524980  0.247998   \n",
       "3 -0.631418 -1.059647 -0.684093  1.965775 -1.232622 -0.208038 -0.108300   \n",
       "4  0.175121 -0.451449 -0.237033 -0.038195  0.803487  0.408542 -0.009431   \n",
       "\n",
       "        V22       V23       V24       V25       V26       V27       V28  \\\n",
       "0  0.277838 -0.110474  0.066928  0.128539 -0.189115  0.133558 -0.021053   \n",
       "1 -0.638672  0.101288 -0.339846  0.167170  0.125895 -0.008983  0.014724   \n",
       "2  0.771679  0.909412 -0.689281 -0.327642 -0.139097 -0.055353 -0.059752   \n",
       "3  0.005274 -0.190321 -1.175575  0.647376 -0.221929  0.062723  0.061458   \n",
       "4  0.798278 -0.137458  0.141267 -0.206010  0.502292  0.219422  0.215153   \n",
       "\n",
       "   Amount  Class  \n",
       "0  149.62      0  \n",
       "1    2.69      0  \n",
       "2  378.66      0  \n",
       "3  123.50      0  \n",
       "4   69.99      0  "
      ]
     },
     "execution_count": 32,
     "metadata": {},
     "output_type": "execute_result"
    }
   ],
   "source": [
    "df.head()"
   ]
  },
  {
   "cell_type": "markdown",
   "id": "44a33ade",
   "metadata": {},
   "source": [
    "정상, 비정상 분할하기"
   ]
  },
  {
   "cell_type": "code",
   "execution_count": 33,
   "id": "c6d7a44b",
   "metadata": {},
   "outputs": [],
   "source": [
    "normal = df[df['Class']==0].sample(frac= 0.5, random_state=2020).reset_index(drop = True)\n",
    "anomaly = df[df['Class']==1]"
   ]
  },
  {
   "cell_type": "code",
   "execution_count": 34,
   "id": "273bea0a",
   "metadata": {},
   "outputs": [
    {
     "name": "stdout",
     "output_type": "stream",
     "text": [
      "Normal: (142158, 30)\n",
      "Anormal: (492, 30)\n"
     ]
    }
   ],
   "source": [
    "print(f'Normal: {normal.shape}')\n",
    "print(f'Anormal: {anomaly.shape}')"
   ]
  },
  {
   "cell_type": "markdown",
   "id": "7a1753e8",
   "metadata": {},
   "source": [
    "데이터셋 분할"
   ]
  },
  {
   "cell_type": "code",
   "execution_count": 35,
   "id": "808e8591",
   "metadata": {},
   "outputs": [],
   "source": [
    "normal_train, normal_test = train_test_split(normal, test_size=.2, random_state=2020)\n",
    "anomaly_train, anomaly_test = train_test_split(anomaly, test_size=0.2, random_state=2020)\n",
    "\n",
    "normal_train, normal_validate = train_test_split(normal_train, test_size=0.25, random_state=2020)\n",
    "anomaly_train, anomaly_validate = train_test_split(anomaly_train, test_size=0.25, random_state=2020)"
   ]
  },
  {
   "cell_type": "code",
   "execution_count": 36,
   "id": "e66a2c37",
   "metadata": {},
   "outputs": [],
   "source": [
    "X_train = pd.concat((normal_train, anomaly_train))\n",
    "X_test = pd.concat((normal_test, anomaly_test))\n",
    "X_validate = pd.concat((normal_validate, anomaly_validate))\n",
    "\n",
    "y_train = np.array(X_train['Class'])\n",
    "y_test = np.array(X_test['Class'])\n",
    "y_validate = np.array(X_validate['Class'])\n",
    "\n",
    "X_train = X_train.drop('Class', axis = 1)\n",
    "X_test = X_test.drop('Class', axis = 1)\n",
    "X_validate = X_validate.drop('Class', axis = 1)"
   ]
  },
  {
   "cell_type": "code",
   "execution_count": 37,
   "id": "f508f2ad",
   "metadata": {},
   "outputs": [
    {
     "name": "stdout",
     "output_type": "stream",
     "text": [
      "(85588, 29)\n",
      "(85588,)\n"
     ]
    }
   ],
   "source": [
    "print(X_train.shape)\n",
    "print(y_train.shape)"
   ]
  },
  {
   "cell_type": "code",
   "execution_count": 38,
   "id": "9235364c",
   "metadata": {},
   "outputs": [
    {
     "name": "stdout",
     "output_type": "stream",
     "text": [
      "(28531, 29)\n",
      "(28531,)\n"
     ]
    }
   ],
   "source": [
    "print(X_test.shape)\n",
    "print(y_test.shape)"
   ]
  },
  {
   "cell_type": "code",
   "execution_count": 39,
   "id": "9d668dc5",
   "metadata": {},
   "outputs": [
    {
     "name": "stdout",
     "output_type": "stream",
     "text": [
      "(28531, 29)\n",
      "(28531,)\n"
     ]
    }
   ],
   "source": [
    "print(X_validate.shape)\n",
    "print(y_validate.shape)"
   ]
  },
  {
   "cell_type": "markdown",
   "id": "4af82332",
   "metadata": {},
   "source": [
    "스케일러"
   ]
  },
  {
   "cell_type": "code",
   "execution_count": 40,
   "id": "e63a2af5",
   "metadata": {},
   "outputs": [],
   "source": [
    "scaler = StandardScaler()\n",
    "scaler.fit(pd.concat((normal, anomaly)).drop('Class', axis = 1))\n",
    "\n",
    "X_train = scaler.transform(X_train)\n",
    "X_test = scaler.transform(X_test)\n",
    "X_validate = scaler.transform(X_validate)"
   ]
  },
  {
   "cell_type": "markdown",
   "id": "1591cdb7",
   "metadata": {},
   "source": [
    "### MLFlow를 통한 학습 및 평가"
   ]
  },
  {
   "cell_type": "markdown",
   "id": "c43a4774",
   "metadata": {},
   "source": [
    "학습함수 구현하기"
   ]
  },
  {
   "cell_type": "code",
   "execution_count": 41,
   "id": "5af0cd34",
   "metadata": {},
   "outputs": [],
   "source": [
    "def train(sk_model, X_train, y_train):\n",
    "    sk_model = sk_model.fit(X_train, y_train)\n",
    "    train_acc = sk_model.score(X_train, y_train)\n",
    "    mlflow.log_metric('train_acc', train_acc) # mlflow에서 기록할 지표 정의\n",
    "    print(f'Training Accuracy: {train_acc: .3%}')"
   ]
  },
  {
   "cell_type": "markdown",
   "id": "9144ad27",
   "metadata": {},
   "source": [
    "평가함수 구현하기"
   ]
  },
  {
   "cell_type": "code",
   "execution_count": 44,
   "id": "adffb536",
   "metadata": {},
   "outputs": [],
   "source": [
    "def evaluate(sk_model, X_test, y_test):\n",
    "    eval_acc = sk_model.score(X_test, y_test)\n",
    "    preds = sk_model.predict(X_test)\n",
    "    auc_score = roc_auc_score(y_test, preds)\n",
    "    mlflow.log_metric('eval_acc', eval_acc) # 지표 로깅\n",
    "    mlflow.log_metric('auc_score', auc_score)\n",
    "    \n",
    "    print(f'Auc Score: {auc_score: .3%}')\n",
    "    print(f'Eval Score: {eval_acc: .3%}')\n",
    "    roc_plot = plot_roc_curve(sk_model, X_test, y_test, name = 'scikit-learn ROC Curve')\n",
    "    plt.savefig(\"sklearn_roc_plot.png\")\n",
    "    plt.show()\n",
    "    plt.clf()\n",
    "    \n",
    "    conf_matrix = confusion_matrix(y_test, preds)\n",
    "    ax = sns.heatmap(conf_matrix, annot=True, fmt='g')\n",
    "    ax.invert_xaxis()\n",
    "    ax.invert_yaxis()\n",
    "    plt.ylabel('Actual')\n",
    "    plt.xlabel('Predicted')\n",
    "    plt.title('Confusion Matrix')\n",
    "    plt.savefig('sklearn_conf_matrix.png')\n",
    "    \n",
    "    mlflow.log_artifact(\"sklearn_roc_plot.png\") # 평가 이미지도 로깅\n",
    "    mlflow.log_artifact(\"sklearn_conf_matrix.png\")"
   ]
  },
  {
   "cell_type": "markdown",
   "id": "0d0ba84f",
   "metadata": {},
   "source": [
    "### MLFlow 실행 로깅 및 확인"
   ]
  },
  {
   "cell_type": "code",
   "execution_count": 45,
   "id": "e0226493",
   "metadata": {},
   "outputs": [
    {
     "name": "stdout",
     "output_type": "stream",
     "text": [
      "Training Accuracy:  99.893%\n",
      "Auc Score:  85.341%\n",
      "Eval Score:  99.874%\n"
     ]
    },
    {
     "data": {
      "image/png": "[encoded data removed]",
      "text/plain": [
       "<Figure size 1008x576 with 1 Axes>"
      ]
     },
     "metadata": {
      "needs_background": "light"
     },
     "output_type": "display_data"
    },
    {
     "name": "stderr",
     "output_type": "stream",
     "text": [
      "2022/04/11 15:57:03 WARNING mlflow.utils.environment: Encountered an unexpected error while inferring pip requirements (model URI: C:\\Users\\KM24A6~1.YU9\\AppData\\Local\\Temp\\tmpv6u_l1fb\\model\\model.pkl, flavor: sklearn), fall back to return ['scikit-learn==1.0.2', 'cloudpickle==2.0.0']. Set logging level to DEBUG to see the full traceback.\n"
     ]
    },
    {
     "name": "stdout",
     "output_type": "stream",
     "text": [
      "Model run:  0260eca333f247fc8ff6c57ef965c61a\n"
     ]
    },
    {
     "data": {
      "image/png": "[encoded data removed]",
      "text/plain": [
       "<Figure size 1008x576 with 2 Axes>"
      ]
     },
     "metadata": {
      "needs_background": "light"
     },
     "output_type": "display_data"
    }
   ],
   "source": [
    "sk_model = LogisticRegression(random_state=None, max_iter=400, solver = 'newton-cg')\n",
    "\n",
    "mlflow.set_experiment('scikit_learn_experiment') # 실험 설정  \n",
    "with mlflow.start_run():\n",
    "    train(sk_model, X_train, y_train)\n",
    "    evaluate(sk_model, X_test, y_test)\n",
    "    mlflow.sklearn.log_model(sk_model, 'log_reg_model')# Pyspark 모델을 로깅하려명 mlfow.spark를 실행하면 된다.\n",
    "    print('Model run: ', mlflow.active_run().info.run_uuid)\n",
    "mlflow.end_run()"
   ]
  },
  {
   "cell_type": "code",
   "execution_count": 46,
   "id": "068f8854",
   "metadata": {},
   "outputs": [
    {
     "name": "stdout",
     "output_type": "stream",
     "text": [
      "^C\n"
     ]
    }
   ],
   "source": [
    "!mlflow ui -p 1234"
   ]
  },
  {
   "cell_type": "markdown",
   "id": "a2bc53e9",
   "metadata": {},
   "source": [
    "### 로깅된 모델 로드"
   ]
  },
  {
   "cell_type": "markdown",
   "id": "4b8e1fff",
   "metadata": {},
   "source": [
    "모델을 로드하려면 mlflow ui나 폴더에서 실행ID(Run ID)를 알아야 한다."
   ]
  },
  {
   "cell_type": "code",
   "execution_count": 48,
   "id": "365ec9ff",
   "metadata": {},
   "outputs": [],
   "source": [
    "loaded_model = mlflow.sklearn.load_model('runs:/0260eca333f247fc8ff6c57ef965c61a/log_reg_model')"
   ]
  },
  {
   "cell_type": "code",
   "execution_count": 49,
   "id": "b32fc2ab",
   "metadata": {},
   "outputs": [
    {
     "data": {
      "text/plain": [
       "LogisticRegression(max_iter=400, solver='newton-cg')"
      ]
     },
     "execution_count": 49,
     "metadata": {},
     "output_type": "execute_result"
    }
   ],
   "source": [
    "loaded_model"
   ]
  },
  {
   "cell_type": "markdown",
   "id": "bdd5692c",
   "metadata": {},
   "source": [
    "모델 사용해보기"
   ]
  },
  {
   "cell_type": "code",
   "execution_count": 50,
   "id": "51e5e0ac",
   "metadata": {},
   "outputs": [
    {
     "data": {
      "text/plain": [
       "0.9987382145736217"
      ]
     },
     "execution_count": 50,
     "metadata": {},
     "output_type": "execute_result"
    }
   ],
   "source": [
    "loaded_model.score(X_test, y_test)"
   ]
  },
  {
   "cell_type": "markdown",
   "id": "a25b1b59",
   "metadata": {},
   "source": [
    "### MLFlow를 사용한 모델 검증(파라미터 튜닝)"
   ]
  },
  {
   "cell_type": "markdown",
   "id": "a2d62dc8",
   "metadata": {},
   "source": [
    "#### 그리드서치"
   ]
  },
  {
   "cell_type": "code",
   "execution_count": 51,
   "id": "5f2492db",
   "metadata": {},
   "outputs": [],
   "source": [
    "anomaly_weights = [1, 5, 10, 15]\n",
    "num_folds = 5\n",
    "kfold = KFold(n_splits=num_folds, shuffle=True, random_state=2020)"
   ]
  },
  {
   "cell_type": "code",
   "execution_count": 52,
   "id": "e55bab9c",
   "metadata": {
    "scrolled": true
   },
   "outputs": [
    {
     "name": "stderr",
     "output_type": "stream",
     "text": [
      "2022/04/12 14:13:58 INFO mlflow.tracking.fluent: Experiment with name 'sklearn_creditcard_broad_search' does not exist. Creating a new experiment.\n"
     ]
    },
    {
     "name": "stdout",
     "output_type": "stream",
     "text": [
      "----------------------------------------\n",
      "flod 1\n",
      "Anomaly Weight: 1\n",
      "AUC: 0.8\n",
      "eval: 0.9985982127212195\n",
      "----------------------------------------\n",
      "flod 2\n",
      "Anomaly Weight: 1\n",
      "AUC: 0.8568790049001132\n",
      "eval: 0.998422712933754\n",
      "----------------------------------------\n",
      "flod 3\n",
      "Anomaly Weight: 1\n",
      "AUC: 0.8406451922461774\n",
      "eval: 0.9982474588152822\n",
      "----------------------------------------\n",
      "flod 4\n",
      "Anomaly Weight: 1\n",
      "AUC: 0.8682452129973255\n",
      "eval: 0.9987732211706976\n",
      "----------------------------------------\n",
      "flod 5\n",
      "Anomaly Weight: 1\n",
      "AUC: 0.8528532875621686\n",
      "eval: 0.9989484752891693\n",
      "----------------------------------------\n",
      "flod 1\n",
      "Anomaly Weight: 5\n",
      "AUC: 0.8748241603657465\n",
      "eval: 0.9987734361310671\n",
      "----------------------------------------\n",
      "flod 2\n",
      "Anomaly Weight: 5\n",
      "AUC: 0.975398919462244\n",
      "eval: 0.9982474588152822\n",
      "----------------------------------------\n",
      "flod 3\n",
      "Anomaly Weight: 5\n",
      "AUC: 0.9314663169342972\n",
      "eval: 0.9987732211706976\n",
      "----------------------------------------\n",
      "flod 4\n",
      "Anomaly Weight: 5\n",
      "AUC: 0.8943851628367561\n",
      "eval: 0.9985979670522257\n",
      "----------------------------------------\n",
      "flod 5\n",
      "Anomaly Weight: 5\n",
      "AUC: 0.8820013855427915\n",
      "eval: 0.9985979670522257\n",
      "----------------------------------------\n",
      "flod 1\n",
      "Anomaly Weight: 10\n",
      "AUC: 0.9243845612801126\n",
      "eval: 0.9982477659015244\n",
      "----------------------------------------\n",
      "flod 2\n",
      "Anomaly Weight: 10\n",
      "AUC: 0.9753109687146626\n",
      "eval: 0.9980722046968104\n",
      "----------------------------------------\n",
      "flod 3\n",
      "Anomaly Weight: 10\n",
      "AUC: 0.9313783507133262\n",
      "eval: 0.9985979670522257\n",
      "----------------------------------------\n",
      "flod 4\n",
      "Anomaly Weight: 10\n",
      "AUC: 0.8943851628367561\n",
      "eval: 0.9985979670522257\n",
      "----------------------------------------\n",
      "flod 5\n",
      "Anomaly Weight: 10\n",
      "AUC: 0.8820013855427915\n",
      "eval: 0.9985979670522257\n",
      "----------------------------------------\n",
      "flod 1\n",
      "Anomaly Weight: 15\n",
      "AUC: 0.9242966414629858\n",
      "eval: 0.9980725424916769\n",
      "----------------------------------------\n",
      "flod 2\n",
      "Anomaly Weight: 15\n",
      "AUC: 0.9751350672194998\n",
      "eval: 0.9977216964598669\n",
      "----------------------------------------\n",
      "flod 3\n",
      "Anomaly Weight: 15\n",
      "AUC: 0.9312903844923551\n",
      "eval: 0.998422712933754\n",
      "----------------------------------------\n",
      "flod 4\n",
      "Anomaly Weight: 15\n",
      "AUC: 0.8940334835682489\n",
      "eval: 0.9978969505783386\n",
      "----------------------------------------\n",
      "flod 5\n",
      "Anomaly Weight: 15\n",
      "AUC: 0.8813861631838532\n",
      "eval: 0.9973711882229233\n"
     ]
    }
   ],
   "source": [
    "mlflow.set_experiment('sklearn_creditcard_broad_search')\n",
    "logs = []\n",
    "\n",
    "for f in range((len(anomaly_weights))):\n",
    "    fold = 1\n",
    "    accuracies = []\n",
    "    auc_scores = []\n",
    "    \n",
    "    for train, test in kfold.split(X_validate, y_validate):\n",
    "        with mlflow.start_run():\n",
    "            weight = anomaly_weights[f]\n",
    "            mlflow.log_param('anomaly_weight', weight)\n",
    "            class_weights = {0: 1, 1: weight}\n",
    "            \n",
    "            sk_model = LogisticRegression(random_state=None, max_iter=400, solver='newton-cg',\n",
    "                                         class_weight=class_weights).fit(X_validate[train], y_validate[train])\n",
    "            \n",
    "            for h in range(40): print('-', end=\"\")\n",
    "            \n",
    "            print(f'\\nflod {fold}\\nAnomaly Weight: {weight}')\n",
    "            train_acc = sk_model.score(X_validate[train], y_validate[train])\n",
    "            mlflow.log_metric('train_acc', train_acc)\n",
    "            \n",
    "            eval_acc = sk_model.score(X_validate[test], y_validate[test])\n",
    "            preds = sk_model.predict(X_validate[test])\n",
    "            mlflow.log_metric('eval_acc', eval_acc)\n",
    "            \n",
    "            try:\n",
    "                auc_score = roc_auc_score(y_validate[test], preds)\n",
    "            except:\n",
    "                auc_score = -1\n",
    "                \n",
    "            mlflow.log_metric('auc_score', auc_score)\n",
    "            print(\"AUC: {}\\neval: {}\".format(auc_score, eval_acc))\n",
    "            accuracies.append(eval_acc)\n",
    "            auc_scores.append(auc_score)\n",
    "            \n",
    "            log = [sk_model, X_validate[test], y_validate[test], preds]\n",
    "            logs.append(log)\n",
    "            \n",
    "            mlflow.sklearn.log_model(sk_model, f'anom_weight_{weight}_fold_{fold}')\n",
    "            fold = fold + 1\n",
    "            mlflow.end_run()"
   ]
  },
  {
   "cell_type": "code",
   "execution_count": 54,
   "id": "a95675c8",
   "metadata": {},
   "outputs": [
    {
     "name": "stdout",
     "output_type": "stream",
     "text": [
      "\n",
      "Averages: \n",
      "Accuracy:  0.9978970181373118\n",
      "AUC:  0.9212283479853886\n",
      "Best: \n",
      "Accuracy:  0.998422712933754\n",
      "AUC:  0.9751350672194998\n"
     ]
    }
   ],
   "source": [
    "print('\\nAverages: ')\n",
    "print(\"Accuracy: \", np.mean(accuracies))\n",
    "print('AUC: ', np.mean(auc_scores))\n",
    "print('Best: ')\n",
    "print('Accuracy: ', np.max(accuracies))\n",
    "print('AUC: ', np.max(auc_scores))"
   ]
  },
  {
   "attachments": {
    "image.png": {
     "image/png": "[encoded data removed]"
    }
   },
   "cell_type": "markdown",
   "id": "a48b69b9",
   "metadata": {},
   "source": [
    "![image.png](attachment:image.png)"
   ]
  },
  {
   "cell_type": "markdown",
   "id": "fa2f8866",
   "metadata": {},
   "source": [
    "... 생략"
   ]
  },
  {
   "cell_type": "markdown",
   "id": "57f471f4",
   "metadata": {},
   "source": [
    "#### guided search"
   ]
  },
  {
   "cell_type": "markdown",
   "id": "3833747b",
   "metadata": {},
   "source": [
    "앞에서 이상 가중치가 10, 15일 때 성능이 가장 좋았지만, 이상 가중치가 증가할수록 상승추세인 것 같다.\n",
    "\n",
    "\n",
    "가중치를 수정하고 다시 실험해보자."
   ]
  },
  {
   "cell_type": "code",
   "execution_count": 55,
   "id": "72c63b02",
   "metadata": {},
   "outputs": [],
   "source": [
    "anomaly_weights = [10, 50, 100, 150, 200]\n",
    "num_folds = 5\n",
    "kfold = KFold(n_splits=num_folds, shuffle=True, random_state=2020)"
   ]
  },
  {
   "cell_type": "code",
   "execution_count": 56,
   "id": "98be5480",
   "metadata": {
    "scrolled": true
   },
   "outputs": [
    {
     "name": "stderr",
     "output_type": "stream",
     "text": [
      "2022/04/12 14:31:57 INFO mlflow.tracking.fluent: Experiment with name 'sklearn_creditcard_guided_search' does not exist. Creating a new experiment.\n"
     ]
    },
    {
     "name": "stdout",
     "output_type": "stream",
     "text": [
      "----------------------------------------\n",
      "fold 1\n",
      "Anomaly Weight: 10\n",
      "AUC: 0.9243845612801126\n",
      "eval: 0.9982477659015244\n",
      "----------------------------------------\n",
      "fold 2\n",
      "Anomaly Weight: 10\n",
      "AUC: 0.9753109687146626\n",
      "eval: 0.9980722046968104\n",
      "----------------------------------------\n",
      "fold 3\n",
      "Anomaly Weight: 10\n",
      "AUC: 0.9313783507133262\n",
      "eval: 0.9985979670522257\n",
      "----------------------------------------\n",
      "fold 4\n",
      "Anomaly Weight: 10\n",
      "AUC: 0.8943851628367561\n",
      "eval: 0.9985979670522257\n",
      "----------------------------------------\n",
      "fold 5\n",
      "Anomaly Weight: 10\n",
      "AUC: 0.8820013855427915\n",
      "eval: 0.9985979670522257\n",
      "----------------------------------------\n",
      "fold 1\n",
      "Anomaly Weight: 50\n",
      "AUC: 0.922626164937577\n",
      "eval: 0.9947432977045734\n",
      "----------------------------------------\n",
      "fold 2\n",
      "Anomaly Weight: 50\n",
      "AUC: 0.9734640030154541\n",
      "eval: 0.9943918682089029\n",
      "----------------------------------------\n",
      "fold 3\n",
      "Anomaly Weight: 50\n",
      "AUC: 0.9296190262939033\n",
      "eval: 0.99509288468279\n",
      "----------------------------------------\n",
      "fold 4\n",
      "Anomaly Weight: 50\n",
      "AUC: 0.9183271172480171\n",
      "eval: 0.9940413599719593\n",
      "----------------------------------------\n",
      "fold 5\n",
      "Anomaly Weight: 50\n",
      "AUC: 0.8797162739238779\n",
      "eval: 0.9940413599719593\n",
      "----------------------------------------\n",
      "fold 1\n",
      "Anomaly Weight: 100\n",
      "AUC: 0.9205160893265342\n",
      "eval: 0.990537935868232\n",
      "----------------------------------------\n",
      "fold 2\n",
      "Anomaly Weight: 100\n",
      "AUC: 0.9951627088830255\n",
      "eval: 0.9903610234840519\n",
      "----------------------------------------\n",
      "fold 3\n",
      "Anomaly Weight: 100\n",
      "AUC: 0.9268920734437976\n",
      "eval: 0.9896600070101648\n",
      "----------------------------------------\n",
      "fold 4\n",
      "Anomaly Weight: 100\n",
      "AUC: 0.9429724301962926\n",
      "eval: 0.9908867858394672\n",
      "----------------------------------------\n",
      "fold 5\n",
      "Anomaly Weight: 100\n",
      "AUC: 0.8777827179386432\n",
      "eval: 0.9901857693655801\n",
      "----------------------------------------\n",
      "fold 1\n",
      "Anomaly Weight: 150\n",
      "AUC: 0.9186697731668719\n",
      "eval: 0.9868582442614333\n",
      "----------------------------------------\n",
      "fold 2\n",
      "Anomaly Weight: 150\n",
      "AUC: 0.9927000879507476\n",
      "eval: 0.985453908166842\n",
      "----------------------------------------\n",
      "fold 3\n",
      "Anomaly Weight: 150\n",
      "AUC: 0.9247808841404901\n",
      "eval: 0.985453908166842\n",
      "----------------------------------------\n",
      "fold 4\n",
      "Anomaly Weight: 150\n",
      "AUC: 0.9411261140366303\n",
      "eval: 0.9872064493515598\n",
      "----------------------------------------\n",
      "fold 5\n",
      "Anomaly Weight: 150\n",
      "AUC: 0.9053488155677106\n",
      "eval: 0.9866806869961444\n",
      "----------------------------------------\n",
      "fold 1\n",
      "Anomaly Weight: 200\n",
      "AUC: 0.9427026551784772\n",
      "eval: 0.9851060101629577\n",
      "----------------------------------------\n",
      "fold 2\n",
      "Anomaly Weight: 200\n",
      "AUC: 0.9904133685136324\n",
      "eval: 0.9808973010865756\n",
      "----------------------------------------\n",
      "fold 3\n",
      "Anomaly Weight: 200\n",
      "AUC: 0.9226696948371826\n",
      "eval: 0.9812478093235191\n",
      "----------------------------------------\n",
      "fold 4\n",
      "Anomaly Weight: 200\n",
      "AUC: 0.9391039582427143\n",
      "eval: 0.9831756046267087\n",
      "----------------------------------------\n",
      "fold 5\n",
      "Anomaly Weight: 200\n",
      "AUC: 0.9029758150403772\n",
      "eval: 0.9819488257974063\n"
     ]
    }
   ],
   "source": [
    "mlflow.set_experiment('sklearn_creditcard_guided_search') # 이부분 수정\n",
    "logs = []\n",
    "\n",
    "for f in range((len(anomaly_weights))):\n",
    "    fold = 1\n",
    "    accuracies = []\n",
    "    auc_scores = []\n",
    "    \n",
    "    for train, test in kfold.split(X_validate, y_validate):\n",
    "        with mlflow.start_run():\n",
    "            weight = anomaly_weights[f]\n",
    "            mlflow.log_param('anomaly_weight', weight)\n",
    "            class_weights = {0: 1, 1: weight}\n",
    "            \n",
    "            sk_model = LogisticRegression(random_state=None, max_iter=400, solver='newton-cg',\n",
    "                                         class_weight=class_weights).fit(X_validate[train], y_validate[train])\n",
    "            \n",
    "            for h in range(40): print('-', end=\"\")\n",
    "            \n",
    "            print(f'\\nfold {fold}\\nAnomaly Weight: {weight}')\n",
    "            train_acc = sk_model.score(X_validate[train], y_validate[train])\n",
    "            mlflow.log_metric('train_acc', train_acc)\n",
    "            \n",
    "            eval_acc = sk_model.score(X_validate[test], y_validate[test])\n",
    "            preds = sk_model.predict(X_validate[test])\n",
    "            mlflow.log_metric('eval_acc', eval_acc)\n",
    "            \n",
    "            try:\n",
    "                auc_score = roc_auc_score(y_validate[test], preds)\n",
    "            except:\n",
    "                auc_score = -1\n",
    "                \n",
    "            mlflow.log_metric('auc_score', auc_score)\n",
    "            print(\"AUC: {}\\neval: {}\".format(auc_score, eval_acc))\n",
    "            accuracies.append(eval_acc)\n",
    "            auc_scores.append(auc_score)\n",
    "            \n",
    "            log = [sk_model, X_validate[test], y_validate[test], preds]\n",
    "            logs.append(log)\n",
    "            \n",
    "            mlflow.sklearn.log_model(sk_model, f'anom_weight_{weight}_fold_{fold}')\n",
    "            fold = fold + 1\n",
    "            mlflow.end_run()"
   ]
  },
  {
   "cell_type": "code",
   "execution_count": 57,
   "id": "545e6e90",
   "metadata": {},
   "outputs": [
    {
     "name": "stdout",
     "output_type": "stream",
     "text": [
      "\n",
      "Averages: \n",
      "Accuracy:  0.9824751101994336\n",
      "AUC:  0.9395730983624768\n",
      "Best: \n",
      "Accuracy:  0.9851060101629577\n",
      "AUC:  0.9904133685136324\n"
     ]
    }
   ],
   "source": [
    "print('\\nAverages: ')\n",
    "print(\"Accuracy: \", np.mean(accuracies))\n",
    "print('AUC: ', np.mean(auc_scores))\n",
    "print('Best: ')\n",
    "print('Accuracy: ', np.max(accuracies))\n",
    "print('AUC: ', np.max(auc_scores))"
   ]
  },
  {
   "attachments": {
    "image.png": {
     "image/png": "[encoded data removed]"
    }
   },
   "cell_type": "markdown",
   "id": "81c77797",
   "metadata": {},
   "source": [
    "![image.png](attachment:image.png)"
   ]
  },
  {
   "cell_type": "code",
   "execution_count": null,
   "id": "d8f86de3",
   "metadata": {},
   "outputs": [],
   "source": []
  }
 ],
 "metadata": {
  "kernelspec": {
   "display_name": "Python 3 (ipykernel)",
   "language": "python",
   "name": "python3"
  },
  "language_info": {
   "codemirror_mode": {
    "name": "ipython",
    "version": 3
   },
   "file_extension": ".py",
   "mimetype": "text/x-python",
   "name": "python",
   "nbconvert_exporter": "python",
   "pygments_lexer": "ipython3",
   "version": "3.8.12"
  }
 },
 "nbformat": 4,
 "nbformat_minor": 5
}
