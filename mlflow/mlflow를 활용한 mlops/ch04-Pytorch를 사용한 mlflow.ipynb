{
 "cells": [
  {
   "cell_type": "markdown",
   "id": "7ee60a0e",
   "metadata": {},
   "source": [
    "## ch04-Pytorch를 사용한 mlflow"
   ]
  },
  {
   "cell_type": "markdown",
   "id": "3ed9f9dd",
   "metadata": {},
   "source": [
    "<div style=\"text-align: right\"> Initial upload: 2022.04.18 </div>\n",
    "<div style=\"text-align: right\"> Last update: 2022.04.18</div>"
   ]
  },
  {
   "cell_type": "code",
   "execution_count": 1,
   "id": "ee7e158e",
   "metadata": {},
   "outputs": [],
   "source": [
    "import numpy as np\n",
    "import pandas as pd\n",
    "import matplotlib.pyplot as plt\n",
    "import seaborn as sns\n",
    "import warnings; warnings.filterwarnings('ignore')\n",
    "plt.style.use('ggplot')\n",
    "%matplotlib inline\n",
    "\n",
    "# Options for pandas\n",
    "pd.options.display.max_columns = 50\n",
    "\n",
    "from pylab import rcParams\n",
    "\n",
    "rcParams['figure.figsize'] = 14, 8"
   ]
  },
  {
   "cell_type": "code",
   "execution_count": 2,
   "id": "970d3ae7",
   "metadata": {},
   "outputs": [],
   "source": [
    "import torch\n",
    "import torch.nn"
   ]
  },
  {
   "cell_type": "code",
   "execution_count": null,
   "id": "1aa41404",
   "metadata": {},
   "outputs": [],
   "source": []
  }
 ],
 "metadata": {
  "kernelspec": {
   "display_name": "Python 3",
   "language": "python",
   "name": "python3"
  },
  "language_info": {
   "codemirror_mode": {
    "name": "ipython",
    "version": 3
   },
   "file_extension": ".py",
   "mimetype": "text/x-python",
   "name": "python",
   "nbconvert_exporter": "python",
   "pygments_lexer": "ipython3",
   "version": "3.8.8"
  }
 },
 "nbformat": 4,
 "nbformat_minor": 5
}
