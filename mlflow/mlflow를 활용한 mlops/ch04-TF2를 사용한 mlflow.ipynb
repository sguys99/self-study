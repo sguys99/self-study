{
 "cells": [
  {
   "cell_type": "markdown",
   "id": "c5b472a1",
   "metadata": {},
   "source": [
    "## ch04-TF2를 사용한 mlflow"
   ]
  },
  {
   "cell_type": "markdown",
   "id": "a0d69857",
   "metadata": {},
   "source": [
    "<div style=\"text-align: right\"> Initial upload: 2022.04.05 </div>\n",
    "<div style=\"text-align: right\"> Last update: 2022.04.05</div>"
   ]
  },
  {
   "cell_type": "code",
   "execution_count": 24,
   "id": "18345158",
   "metadata": {},
   "outputs": [],
   "source": [
    "import numpy as np\n",
    "import pandas as pd\n",
    "import matplotlib.pyplot as plt\n",
    "import seaborn as sns\n",
    "import warnings; warnings.filterwarnings('ignore')\n",
    "plt.style.use('ggplot')\n",
    "%matplotlib inline\n",
    "\n",
    "# Options for pandas\n",
    "pd.options.display.max_columns = 50\n",
    "\n",
    "from pylab import rcParams\n",
    "\n",
    "rcParams['figure.figsize'] = 14, 8"
   ]
  },
  {
   "cell_type": "markdown",
   "id": "1da51f43",
   "metadata": {},
   "source": [
    "mlflows는 tf 2.0이상 버전과쉽게 통합됨"
   ]
  },
  {
   "cell_type": "code",
   "execution_count": 25,
   "id": "b65a3852",
   "metadata": {},
   "outputs": [],
   "source": [
    "import tensorflow as tf\n",
    "from tensorflow.keras.models import Sequential\n",
    "from tensorflow.keras.layers import Dense, Conv2D, Flatten\n",
    "from tensorflow.keras.datasets import mnist\n",
    "\n",
    "import sklearn\n",
    "from sklearn.metrics import roc_auc_score"
   ]
  },
  {
   "cell_type": "code",
   "execution_count": 26,
   "id": "ba2054f5",
   "metadata": {},
   "outputs": [],
   "source": [
    "import mlflow\n",
    "import mlflow.tensorflow"
   ]
  },
  {
   "cell_type": "code",
   "execution_count": 27,
   "id": "f8f7134e",
   "metadata": {},
   "outputs": [],
   "source": [
    "(X_train, y_train), (X_test, y_test) = mnist.load_data()"
   ]
  },
  {
   "cell_type": "code",
   "execution_count": 28,
   "id": "5cba04a1",
   "metadata": {},
   "outputs": [
    {
     "name": "stdout",
     "output_type": "stream",
     "text": [
      "(60000, 28, 28)\n",
      "(10000, 28, 28)\n"
     ]
    }
   ],
   "source": [
    "print(X_train.shape)\n",
    "print(X_test.shape)"
   ]
  },
  {
   "cell_type": "code",
   "execution_count": 29,
   "id": "5a81a825",
   "metadata": {},
   "outputs": [
    {
     "name": "stdout",
     "output_type": "stream",
     "text": [
      "Class:  5\n"
     ]
    },
    {
     "data": {
      "text/plain": [
       "(<matplotlib.image.AxesImage at 0x25899f82910>, None)"
      ]
     },
     "execution_count": 29,
     "metadata": {},
     "output_type": "execute_result"
    },
    {
     "data": {
      "image/png": "[encoded data removed]",
      "text/plain": [
       "<Figure size 1008x576 with 1 Axes>"
      ]
     },
     "metadata": {
      "needs_background": "light"
     },
     "output_type": "display_data"
    }
   ],
   "source": [
    "plt.imshow(X_train[0], cmap= 'gray'), print('Class: ', y_train[0])"
   ]
  },
  {
   "cell_type": "code",
   "execution_count": 30,
   "id": "f17bb4ab",
   "metadata": {},
   "outputs": [],
   "source": [
    "X_train = X_train.reshape(X_train.shape[0], X_train.shape[1], X_train.shape[2], 1)"
   ]
  },
  {
   "cell_type": "code",
   "execution_count": 31,
   "id": "181139be",
   "metadata": {},
   "outputs": [],
   "source": [
    "X_test = X_test.reshape(X_test.shape[0], X_test.shape[1], X_test.shape[2], 1)"
   ]
  },
  {
   "cell_type": "code",
   "execution_count": 32,
   "id": "0828b96a",
   "metadata": {},
   "outputs": [
    {
     "data": {
      "text/plain": [
       "(60000, 28, 28, 1)"
      ]
     },
     "execution_count": 32,
     "metadata": {},
     "output_type": "execute_result"
    }
   ],
   "source": [
    "X_train.shape"
   ]
  },
  {
   "cell_type": "code",
   "execution_count": 33,
   "id": "2def9049",
   "metadata": {},
   "outputs": [],
   "source": [
    "y_train = tf.keras.utils.to_categorical(y_train) # 원핫인코딩\n",
    "y_test = tf.keras.utils.to_categorical(y_test)"
   ]
  },
  {
   "cell_type": "code",
   "execution_count": 34,
   "id": "48cf6d77",
   "metadata": {},
   "outputs": [
    {
     "data": {
      "text/plain": [
       "array([[0., 0., 0., ..., 0., 0., 0.],\n",
       "       [1., 0., 0., ..., 0., 0., 0.],\n",
       "       [0., 0., 0., ..., 0., 0., 0.],\n",
       "       ...,\n",
       "       [0., 0., 0., ..., 0., 0., 0.],\n",
       "       [0., 0., 0., ..., 0., 0., 0.],\n",
       "       [0., 0., 0., ..., 0., 1., 0.]], dtype=float32)"
      ]
     },
     "execution_count": 34,
     "metadata": {},
     "output_type": "execute_result"
    }
   ],
   "source": [
    "y_train"
   ]
  },
  {
   "cell_type": "code",
   "execution_count": 35,
   "id": "f07a347e",
   "metadata": {},
   "outputs": [
    {
     "name": "stdout",
     "output_type": "stream",
     "text": [
      "(60000, 28, 28, 1)\n",
      "(10000, 28, 28, 1)\n",
      "(60000, 10)\n",
      "(10000, 10)\n"
     ]
    }
   ],
   "source": [
    "print(X_train.shape)\n",
    "print(X_test.shape)\n",
    "print(y_train.shape)\n",
    "print(y_test.shape)"
   ]
  },
  {
   "cell_type": "markdown",
   "id": "f4e8b251",
   "metadata": {},
   "source": [
    "### mlflow 실행"
   ]
  },
  {
   "cell_type": "code",
   "execution_count": 36,
   "id": "81529948",
   "metadata": {},
   "outputs": [
    {
     "name": "stdout",
     "output_type": "stream",
     "text": [
      "Model: \"sequential\"\n",
      "_________________________________________________________________\n",
      "Layer (type)                 Output Shape              Param #   \n",
      "=================================================================\n",
      "conv2d (Conv2D)              (None, 14, 14, 16)        160       \n",
      "_________________________________________________________________\n",
      "conv2d_1 (Conv2D)            (None, 7, 7, 8)           1160      \n",
      "_________________________________________________________________\n",
      "flatten (Flatten)            (None, 392)               0         \n",
      "_________________________________________________________________\n",
      "dense (Dense)                (None, 30)                11790     \n",
      "_________________________________________________________________\n",
      "dense_1 (Dense)              (None, 20)                620       \n",
      "_________________________________________________________________\n",
      "dense_2 (Dense)              (None, 10)                210       \n",
      "=================================================================\n",
      "Total params: 13,940\n",
      "Trainable params: 13,940\n",
      "Non-trainable params: 0\n",
      "_________________________________________________________________\n"
     ]
    }
   ],
   "source": [
    "model = Sequential()\n",
    "model.add(Conv2D(filters=16, kernel_size= 3, strides = 2, padding = 'same',\n",
    "                input_shape = (28, 28, 1), activation = 'relu'))\n",
    "model.add(Conv2D(filters=8, kernel_size= 3, strides = 2, padding = 'same',\n",
    "                input_shape = (28, 28, 1), activation = 'relu'))\n",
    "model.add(Flatten())\n",
    "model.add(Dense(30, activation='relu'))\n",
    "model.add(Dense(20, activation='relu'))\n",
    "model.add(Dense(10, activation='softmax'))\n",
    "model.summary()"
   ]
  },
  {
   "cell_type": "code",
   "execution_count": 37,
   "id": "8946fa5c",
   "metadata": {},
   "outputs": [],
   "source": [
    "model.compile(optimizer='Adam', loss = 'categorical_crossentropy', metrics=['accuracy'])"
   ]
  },
  {
   "cell_type": "markdown",
   "id": "d5222299",
   "metadata": {},
   "source": [
    "이제 mlflow에 실행을 기록하도록 지시"
   ]
  },
  {
   "cell_type": "code",
   "execution_count": 38,
   "id": "1a58fa35",
   "metadata": {
    "scrolled": true
   },
   "outputs": [
    {
     "name": "stderr",
     "output_type": "stream",
     "text": [
      "2022/04/14 10:08:33 INFO mlflow.tracking.fluent: Experiment with name 'TF_Keras_MNIST' does not exist. Creating a new experiment.\n"
     ]
    },
    {
     "name": "stdout",
     "output_type": "stream",
     "text": [
      "Epoch 1/10\n",
      "  3/235 [..............................] - ETA: 20s - loss: 13.2298 - accuracy: 0.1250WARNING:tensorflow:Callback method `on_train_batch_end` is slow compared to the batch time (batch time: 0.0052s vs `on_train_batch_end` time: 0.0297s). Check your callbacks.\n",
      "235/235 [==============================] - 8s 7ms/step - loss: 1.3006 - accuracy: 0.6497\n",
      "Epoch 2/10\n",
      "235/235 [==============================] - 1s 4ms/step - loss: 0.2614 - accuracy: 0.9201\n",
      "Epoch 3/10\n",
      "235/235 [==============================] - 1s 4ms/step - loss: 0.1687 - accuracy: 0.9488\n",
      "Epoch 4/10\n",
      "235/235 [==============================] - 1s 4ms/step - loss: 0.1314 - accuracy: 0.9607\n",
      "Epoch 5/10\n",
      "235/235 [==============================] - 1s 4ms/step - loss: 0.1079 - accuracy: 0.9680\n",
      "Epoch 6/10\n",
      "235/235 [==============================] - 1s 4ms/step - loss: 0.0899 - accuracy: 0.9725\n",
      "Epoch 7/10\n",
      "235/235 [==============================] - 1s 4ms/step - loss: 0.0782 - accuracy: 0.9766\n",
      "Epoch 8/10\n",
      "235/235 [==============================] - 1s 4ms/step - loss: 0.0680 - accuracy: 0.9786\n",
      "Epoch 9/10\n",
      "235/235 [==============================] - 1s 4ms/step - loss: 0.0624 - accuracy: 0.9810\n",
      "Epoch 10/10\n",
      "235/235 [==============================] - 1s 4ms/step - loss: 0.0551 - accuracy: 0.9829\n",
      "INFO:tensorflow:Assets written to: C:\\Users\\KM24A6~1.YU9\\AppData\\Local\\Temp\\tmpg6lj3zft\\model\\data\\model\\assets\n",
      "313/313 [==============================] - 1s 2ms/step - loss: 0.0698 - accuracy: 0.9768\n",
      "eval_acc:  0.9768000245094299\n",
      "auc_score:  0.9861771147863042\n"
     ]
    }
   ],
   "source": [
    "mlflow.set_experiment('TF_Keras_MNIST')\n",
    "with mlflow.start_run():\n",
    "    mlflow.tensorflow.autolog()\n",
    "    model.fit(X_train, y_train, batch_size=256, epochs=10)\n",
    "    preds = model.predict(X_test)\n",
    "    preds = np.round(preds)\n",
    "    eval_acc = model.evaluate(X_test, y_test)[1]\n",
    "    auc_score = roc_auc_score(y_test, preds)\n",
    "    print('eval_acc: ', eval_acc)\n",
    "    print('auc_score: ', auc_score)\n",
    "    mlflow.tensorflow.mlflow.log_metric('eval_acc', eval_acc)\n",
    "    mlflow.tensorflow.mlflow.log_metric('auc_score', auc_score)\n",
    "mlflow.end_run()"
   ]
  },
  {
   "cell_type": "code",
   "execution_count": null,
   "id": "dea76062",
   "metadata": {},
   "outputs": [],
   "source": []
  }
 ],
 "metadata": {
  "kernelspec": {
   "display_name": "Python 3 (ipykernel)",
   "language": "python",
   "name": "python3"
  },
  "language_info": {
   "codemirror_mode": {
    "name": "ipython",
    "version": 3
   },
   "file_extension": ".py",
   "mimetype": "text/x-python",
   "name": "python",
   "nbconvert_exporter": "python",
   "pygments_lexer": "ipython3",
   "version": "3.8.12"
  }
 },
 "nbformat": 4,
 "nbformat_minor": 5
}
