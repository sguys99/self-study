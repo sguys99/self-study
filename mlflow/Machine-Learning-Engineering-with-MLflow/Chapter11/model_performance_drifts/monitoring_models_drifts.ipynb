{
 "cells": [
  {
   "cell_type": "markdown",
   "metadata": {},
   "source": [
    "# Import relevant libraries"
   ]
  },
  {
   "cell_type": "code",
   "execution_count": 1,
   "metadata": {},
   "outputs": [],
   "source": [
    "import xgboost as xgb\n",
    "import mlflow\n",
    "import pandas as pd\n",
    "from evidently.tabs import ClassificationPerformanceTab\n",
    "from sklearn.model_selection import train_test_split\n",
    "from evidently.dashboard import Dashboard"
   ]
  },
  {
   "cell_type": "markdown",
   "metadata": {},
   "source": [
    "# Get reference dataset"
   ]
  },
  {
   "cell_type": "code",
   "execution_count": 2,
   "metadata": {},
   "outputs": [],
   "source": [
    "reference_data = pd.read_csv(\"training_data.csv\",\n",
    "                                            header=None,\n",
    "                                            names=[ \"day{}\".format(i) for i in range(0,14) ]+[\"target\"] )\n",
    "\n",
    "X=reference_data.iloc[:,:-1]\n",
    "Y=reference_data.iloc[:,-1]\n",
    "\n",
    "reference, production, y_train, y_test = train_test_split(X, Y, test_size=0.33, random_state=4284, stratify=Y)\n",
    "\n",
    "reference_train = xgb.DMatrix(reference,label=y_train)\n",
    "dproduction= xgb.DMatrix(production)\n",
    "dreference=xgb.DMatrix(reference)\n"
   ]
  },
  {
   "cell_type": "markdown",
   "metadata": {},
   "source": [
    "# Train your model"
   ]
  },
  {
   "cell_type": "code",
   "execution_count": 3,
   "metadata": {},
   "outputs": [
    {
     "name": "stderr",
     "output_type": "stream",
     "text": [
      "2021/07/05 19:12:22 WARNING mlflow.xgboost: Failed to infer model signature: could not sample data to infer model signature: please ensure that autologging is enabled before constructing the dataset.\n"
     ]
    }
   ],
   "source": [
    "mlflow.xgboost.autolog()\n",
    "EXPERIMENT_NAME=\"reports_model_performance\"\n",
    "mlflow.set_experiment(EXPERIMENT_NAME)\n",
    "threshold=0.5\n",
    "with mlflow.start_run() as run:\n",
    "\n",
    "    model=xgb.train(dtrain=reference_train,params={})\n",
    "    \n",
    "    train_proba_predict = model.predict(dreference)\n",
    "    test_proba_predict = model.predict(dproduction)\n",
    "    test_predictions = [1. if y_cont > threshold else 0. for y_cont in test_proba_predict]\n",
    "    train_predictions = [1. if y_cont > threshold else 0. for y_cont in train_proba_predict]\n",
    "    reference['target'] = y_train\n",
    "    reference['prediction'] = train_predictions\n",
    "    production['target'] = y_test\n",
    "    production['prediction'] = test_predictions\n",
    "    classification_performance = Dashboard( \n",
    "                       tabs=[ClassificationPerformanceTab])\n",
    "    classification_performance.calculate(reference,production)\n",
    "\n",
    "    classification_performance.save('.reports/'+EXPERIMENT_NAME+'.html')\n",
    "    mlflow.log_artifact('.reports/'+EXPERIMENT_NAME+'.html')\n",
    "\n",
    "\n"
   ]
  },
  {
   "cell_type": "code",
   "execution_count": null,
   "metadata": {},
   "outputs": [],
   "source": []
  }
 ],
 "metadata": {
  "kernelspec": {
   "display_name": "Python 3",
   "language": "python",
   "name": "python3"
  },
  "language_info": {
   "codemirror_mode": {
    "name": "ipython",
    "version": 3
   },
   "file_extension": ".py",
   "mimetype": "text/x-python",
   "name": "python",
   "nbconvert_exporter": "python",
   "pygments_lexer": "ipython3",
   "version": "3.8.6"
  }
 },
 "nbformat": 4,
 "nbformat_minor": 4
}
