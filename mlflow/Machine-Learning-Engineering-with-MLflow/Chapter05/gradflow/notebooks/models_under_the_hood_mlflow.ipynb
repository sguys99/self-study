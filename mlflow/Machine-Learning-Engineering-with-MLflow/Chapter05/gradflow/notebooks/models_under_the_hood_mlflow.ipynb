{
 "cells": [
  {
   "cell_type": "markdown",
   "metadata": {},
   "source": [
    "# Reviewing a simple sklearn model"
   ]
  },
  {
   "cell_type": "code",
   "execution_count": 4,
   "metadata": {},
   "outputs": [
    {
     "name": "stderr",
     "output_type": "stream",
     "text": [
      "2021/03/12 02:54:47 INFO mlflow.utils.autologging_utils: sklearn autologging will track hyperparameters, performance metrics, model artifacts, and lineage information for the current sklearn workflow to the MLflow run with ID '2101c0ff7c704fbfbd0535760e094d57'\n",
      "2021/03/12 02:54:48 WARNING mlflow.utils.autologging_utils: MLflow issued a warning during sklearn autologging: \"/opt/conda/lib/python3.7/site-packages/mlflow/models/signature.py:124: UserWarning: Hint: Inferred schema contains integer column(s). Integer columns in Python cannot represent missing values. If your input data contains missing values at inference time, it will be encoded as floats and will cause a schema enforcement error. The best way to avoid this problem is to infer the model schema based on a realistic data sample (training dataset) that includes missing values. Alternatively, you can declare integer columns as doubles (float64) whenever these columns may have missing values. See `Handling Integers With Missing Values <https://www.mlflow.org/docs/latest/models.html#handling-integers-with-missing-values>`_ for more details.\"\n"
     ]
    }
   ],
   "source": [
    "# flatten the images\n",
    "from sklearn import datasets, svm, metrics\n",
    "from sklearn.model_selection import train_test_split\n",
    "import mlflow\n",
    "\n",
    "n_samples = len(digits.images)\n",
    "data = digits.images.reshape((n_samples, -1))\n",
    "\n",
    "# Create a classifier: a support vector classifier\n",
    "clf = svm.SVC(gamma=0.003)\n",
    "\n",
    "# Split data into 50% train and 50% test subsets\n",
    "X_train, X_test, y_train, y_test = train_test_split(\n",
    "    data, digits.target, test_size=0.5, shuffle=False)\n",
    "\n",
    "# enable autologging\n",
    "mlflow.sklearn.autolog()\n",
    "\n",
    "# Learn the digits on the train subset\n",
    "with mlflow.start_run():\n",
    "    clf.fit(X_train, y_train)\n",
    "\n"
   ]
  },
  {
   "cell_type": "code",
   "execution_count": null,
   "metadata": {},
   "outputs": [],
   "source": [
    "artifact_path: model\n",
    "flavors:\n",
    "  python_function:\n",
    "    env: conda.yaml\n",
    "    loader_module: mlflow.sklearn\n",
    "    model_path: model.pkl\n",
    "    python_version: 3.7.6\n",
    "  sklearn:\n",
    "    pickled_model: model.pkl\n",
    "    serialization_format: cloudpickle\n",
    "    sklearn_version: 0.22.2.post1\n",
    "run_id: 57d4216eeea1499c8607b1d3f6265775\n",
    "signature:\n",
    "  inputs: '[{\"type\": \"double\"}, {\"type\": \"double\"}, {\"type\": \"double\"}, {\"type\": \"double\"},\n",
    "    {\"type\": \"double\"}, {\"type\": \"double\"}, {\"type\": \"double\"}, {\"type\": \"double\"},\n",
    "    {\"type\": \"double\"}, {\"type\": \"double\"}, {\"type\": \"double\"}, {\"type\": \"double\"},\n",
    "    {\"type\": \"double\"}, {\"type\": \"double\"}, {\"type\": \"double\"}, {\"type\": \"double\"},\n",
    "    {\"type\": \"double\"}, {\"type\": \"double\"}, {\"type\": \"double\"}, {\"type\": \"double\"},\n",
    "    {\"type\": \"double\"}, {\"type\": \"double\"}, {\"type\": \"double\"}, {\"type\": \"double\"},\n",
    "    {\"type\": \"double\"}, {\"type\": \"double\"}, {\"type\": \"double\"}, {\"type\": \"double\"}]'\n",
    "  outputs: '[{\"type\": \"long\"}]'\n",
    "utc_time_created: '2021-03-11 19:28:54.202276'"
   ]
  }
 ],
 "metadata": {
  "kernelspec": {
   "display_name": "Python 3",
   "language": "python",
   "name": "python3"
  },
  "language_info": {
   "codemirror_mode": {
    "name": "ipython",
    "version": 3
   },
   "file_extension": ".py",
   "mimetype": "text/x-python",
   "name": "python",
   "nbconvert_exporter": "python",
   "pygments_lexer": "ipython3",
   "version": "3.7.6"
  },
  "toc": {
   "base_numbering": 1,
   "nav_menu": {},
   "number_sections": true,
   "sideBar": true,
   "skip_h1_title": false,
   "title_cell": "Table of Contents",
   "title_sidebar": "Contents",
   "toc_cell": false,
   "toc_position": {},
   "toc_section_display": true,
   "toc_window_display": false
  }
 },
 "nbformat": 4,
 "nbformat_minor": 4
}
