{
 "cells": [
  {
   "attachments": {},
   "cell_type": "markdown",
   "metadata": {},
   "source": [
    "## Quickstart : Training a model"
   ]
  },
  {
   "attachments": {},
   "cell_type": "markdown",
   "metadata": {},
   "source": [
    "- https://skorch.readthedocs.io/en/stable/user/quickstart.html"
   ]
  },
  {
   "attachments": {},
   "cell_type": "markdown",
   "metadata": {},
   "source": [
    "<div style=\"text-align: right\"> <b>Author : Kwang Myung Yu</b></div>\n",
    "<div style=\"text-align: right\"> Initial upload: 2023. 7. 10</div>\n",
    "<div style=\"text-align: right\"> Last update: 2023. 7.10</div>"
   ]
  },
  {
   "cell_type": "code",
   "execution_count": 1,
   "metadata": {},
   "outputs": [],
   "source": [
    "import os\n",
    "import sys\n",
    "import time\n",
    "import numpy as np\n",
    "import pandas as pd\n",
    "import matplotlib as mpl\n",
    "import matplotlib.pyplot as plt\n",
    "import matplotlib.gridspec as gridspec\n",
    "import seaborn as sns\n",
    "from scipy import stats\n",
    "import warnings; warnings.filterwarnings('ignore')\n",
    "#plt.style.use('ggplot')\n",
    "plt.style.use('seaborn-whitegrid')\n",
    "%matplotlib inline"
   ]
  },
  {
   "cell_type": "code",
   "execution_count": 2,
   "metadata": {},
   "outputs": [],
   "source": [
    "from sklearn.datasets import make_classification\n",
    "from torch import nn\n",
    "\n",
    "from skorch import NeuralNetClassifier"
   ]
  },
  {
   "cell_type": "code",
   "execution_count": 3,
   "metadata": {},
   "outputs": [],
   "source": [
    "X, y = make_classification(n_samples=1000, n_features=20,\n",
    "                           n_informative=10, random_state=10)\n",
    "\n",
    "X = X.astype(np.float32)\n",
    "y = y.astype(np.int64)"
   ]
  },
  {
   "cell_type": "code",
   "execution_count": 4,
   "metadata": {},
   "outputs": [],
   "source": [
    "class MyModule(nn.Module):\n",
    "    def __init__(self, num_units=10, nonlin=nn.ReLU()):\n",
    "        super().__init__()\n",
    "\n",
    "        self.dense0 = nn.Linear(20, num_units)\n",
    "        self.nonlin = nonlin\n",
    "        self.dropout = nn.Dropout(0.5)\n",
    "        self.dense1 = nn.Linear(num_units, num_units)\n",
    "        self.output = nn.Linear(num_units, 2)\n",
    "\n",
    "    def forward(self, X, **kwargs):\n",
    "        X = self.nonlin(self.dense0(X))\n",
    "        X = self.dropout(X)\n",
    "        X = self.nonlin(self.dense1(X))\n",
    "        X = self.output(X)\n",
    "        return X"
   ]
  },
  {
   "cell_type": "code",
   "execution_count": 5,
   "metadata": {},
   "outputs": [],
   "source": [
    "net = NeuralNetClassifier(\n",
    "    MyModule,\n",
    "    max_epochs = 10,\n",
    "    criterion=nn.CrossEntropyLoss(),\n",
    "    lr = 0.1,\n",
    "    iterator_train__shuffle=True, # Shuffle training data on each epoch\n",
    ")"
   ]
  },
  {
   "cell_type": "code",
   "execution_count": 6,
   "metadata": {},
   "outputs": [
    {
     "data": {
      "text/plain": [
       "<class 'skorch.classifier.NeuralNetClassifier'>[uninitialized](\n",
       "  module=<class '__main__.MyModule'>,\n",
       ")"
      ]
     },
     "execution_count": 6,
     "metadata": {},
     "output_type": "execute_result"
    }
   ],
   "source": [
    "net"
   ]
  },
  {
   "cell_type": "code",
   "execution_count": 7,
   "metadata": {},
   "outputs": [
    {
     "name": "stdout",
     "output_type": "stream",
     "text": [
      "  epoch    train_loss    valid_acc    valid_loss     dur\n",
      "-------  ------------  -----------  ------------  ------\n",
      "      1        \u001b[36m0.7343\u001b[0m       \u001b[32m0.5050\u001b[0m        \u001b[35m0.6814\u001b[0m  0.1546\n",
      "      2        \u001b[36m0.6827\u001b[0m       \u001b[32m0.6300\u001b[0m        \u001b[35m0.6561\u001b[0m  0.0077\n",
      "      3        \u001b[36m0.6581\u001b[0m       \u001b[32m0.7600\u001b[0m        \u001b[35m0.6284\u001b[0m  0.0062\n",
      "      4        \u001b[36m0.6406\u001b[0m       0.7500        \u001b[35m0.5970\u001b[0m  0.0074\n",
      "      5        \u001b[36m0.6193\u001b[0m       \u001b[32m0.7750\u001b[0m        \u001b[35m0.5692\u001b[0m  0.0057\n",
      "      6        \u001b[36m0.5955\u001b[0m       \u001b[32m0.8050\u001b[0m        \u001b[35m0.5357\u001b[0m  0.0073\n",
      "      7        \u001b[36m0.5766\u001b[0m       \u001b[32m0.8100\u001b[0m        \u001b[35m0.5074\u001b[0m  0.0055\n",
      "      8        0.5790       \u001b[32m0.8250\u001b[0m        \u001b[35m0.4898\u001b[0m  0.0081\n",
      "      9        \u001b[36m0.5468\u001b[0m       0.8050        \u001b[35m0.4682\u001b[0m  0.0057\n",
      "     10        \u001b[36m0.5324\u001b[0m       0.8200        \u001b[35m0.4468\u001b[0m  0.0102\n"
     ]
    },
    {
     "data": {
      "text/plain": [
       "<class 'skorch.classifier.NeuralNetClassifier'>[initialized](\n",
       "  module_=MyModule(\n",
       "    (dense0): Linear(in_features=20, out_features=10, bias=True)\n",
       "    (nonlin): ReLU()\n",
       "    (dropout): Dropout(p=0.5, inplace=False)\n",
       "    (dense1): Linear(in_features=10, out_features=10, bias=True)\n",
       "    (output): Linear(in_features=10, out_features=2, bias=True)\n",
       "  ),\n",
       ")"
      ]
     },
     "execution_count": 7,
     "metadata": {},
     "output_type": "execute_result"
    }
   ],
   "source": [
    "net.fit(X, y)"
   ]
  },
  {
   "cell_type": "code",
   "execution_count": 8,
   "metadata": {},
   "outputs": [],
   "source": [
    "y_proba = net.predict_proba(X)"
   ]
  },
  {
   "cell_type": "code",
   "execution_count": 9,
   "metadata": {},
   "outputs": [
    {
     "data": {
      "text/plain": [
       "array([[0.21821484, 0.7817852 ],\n",
       "       [0.7066223 , 0.29337773],\n",
       "       [0.5109845 , 0.48901558],\n",
       "       ...,\n",
       "       [0.509295  , 0.49070507],\n",
       "       [0.78450555, 0.21549445],\n",
       "       [0.13525324, 0.86474675]], dtype=float32)"
      ]
     },
     "execution_count": 9,
     "metadata": {},
     "output_type": "execute_result"
    }
   ],
   "source": [
    "y_proba"
   ]
  },
  {
   "attachments": {},
   "cell_type": "markdown",
   "metadata": {},
   "source": [
    "### Sklearn pipeline 사용하기"
   ]
  },
  {
   "cell_type": "code",
   "execution_count": 10,
   "metadata": {},
   "outputs": [],
   "source": [
    "from sklearn.pipeline import Pipeline\n",
    "from sklearn.preprocessing import StandardScaler"
   ]
  },
  {
   "cell_type": "code",
   "execution_count": 11,
   "metadata": {},
   "outputs": [
    {
     "name": "stdout",
     "output_type": "stream",
     "text": [
      "Re-initializing module.\n",
      "Re-initializing criterion.\n",
      "Re-initializing optimizer.\n",
      "  epoch    train_loss    valid_acc    valid_loss     dur\n",
      "-------  ------------  -----------  ------------  ------\n",
      "      1        \u001b[36m0.6903\u001b[0m       \u001b[32m0.5450\u001b[0m        \u001b[35m0.6886\u001b[0m  0.0080\n",
      "      2        \u001b[36m0.6852\u001b[0m       \u001b[32m0.5750\u001b[0m        \u001b[35m0.6840\u001b[0m  0.0093\n",
      "      3        \u001b[36m0.6788\u001b[0m       \u001b[32m0.6150\u001b[0m        \u001b[35m0.6787\u001b[0m  0.0080\n",
      "      4        \u001b[36m0.6773\u001b[0m       \u001b[32m0.6250\u001b[0m        \u001b[35m0.6734\u001b[0m  0.0073\n",
      "      5        \u001b[36m0.6658\u001b[0m       \u001b[32m0.6500\u001b[0m        \u001b[35m0.6656\u001b[0m  0.0109\n",
      "      6        \u001b[36m0.6621\u001b[0m       \u001b[32m0.6650\u001b[0m        \u001b[35m0.6574\u001b[0m  0.0073\n"
     ]
    },
    {
     "name": "stdout",
     "output_type": "stream",
     "text": [
      "      7        \u001b[36m0.6526\u001b[0m       \u001b[32m0.6850\u001b[0m        \u001b[35m0.6447\u001b[0m  0.0067\n",
      "      8        \u001b[36m0.6415\u001b[0m       \u001b[32m0.7250\u001b[0m        \u001b[35m0.6303\u001b[0m  0.0088\n",
      "      9        \u001b[36m0.6293\u001b[0m       \u001b[32m0.7450\u001b[0m        \u001b[35m0.6121\u001b[0m  0.0066\n",
      "     10        \u001b[36m0.6099\u001b[0m       \u001b[32m0.7750\u001b[0m        \u001b[35m0.5915\u001b[0m  0.0065\n"
     ]
    }
   ],
   "source": [
    "pipe = Pipeline([\n",
    "    ('scale', StandardScaler()),\n",
    "    ('net', net),\n",
    "])\n",
    "pipe.fit(X, y)\n",
    "y_proba = pipe.predict_proba(X)"
   ]
  },
  {
   "cell_type": "code",
   "execution_count": 12,
   "metadata": {},
   "outputs": [
    {
     "data": {
      "text/plain": [
       "array([[0.4202679 , 0.57973206],\n",
       "       [0.63516164, 0.36483833],\n",
       "       [0.48618823, 0.5138117 ],\n",
       "       ...,\n",
       "       [0.44923657, 0.5507635 ],\n",
       "       [0.56587446, 0.4341256 ],\n",
       "       [0.35765237, 0.64234763]], dtype=float32)"
      ]
     },
     "execution_count": 12,
     "metadata": {},
     "output_type": "execute_result"
    }
   ],
   "source": [
    "y_proba"
   ]
  },
  {
   "attachments": {},
   "cell_type": "markdown",
   "metadata": {},
   "source": [
    "### Grid search"
   ]
  },
  {
   "cell_type": "code",
   "execution_count": 13,
   "metadata": {},
   "outputs": [
    {
     "name": "stdout",
     "output_type": "stream",
     "text": [
      "0.7340124555693418 {'lr': 0.02, 'max_epochs': 20, 'module__num_units': 20}\n"
     ]
    }
   ],
   "source": [
    "from sklearn.model_selection import GridSearchCV\n",
    "\n",
    "net.set_params(train_split=False, verbose=0)\n",
    "params = {\n",
    "    'lr': [0.01, 0.02],\n",
    "    'max_epochs': [10, 20],\n",
    "    'module__num_units': [10, 20],\n",
    "}\n",
    "gs = GridSearchCV(net, params, refit=False, cv=3, scoring='accuracy')\n",
    "\n",
    "gs.fit(X, y)\n",
    "print(gs.best_score_, gs.best_params_)"
   ]
  },
  {
   "attachments": {},
   "cell_type": "markdown",
   "metadata": {},
   "source": [
    "### Regression"
   ]
  },
  {
   "cell_type": "code",
   "execution_count": 14,
   "metadata": {},
   "outputs": [],
   "source": [
    "import torch\n",
    "from torch import nn\n",
    "import torch.nn.functional as F"
   ]
  },
  {
   "cell_type": "code",
   "execution_count": 15,
   "metadata": {},
   "outputs": [
    {
     "data": {
      "text/plain": [
       "True"
      ]
     },
     "execution_count": 15,
     "metadata": {},
     "output_type": "execute_result"
    }
   ],
   "source": [
    "torch.cuda.is_available()"
   ]
  },
  {
   "cell_type": "code",
   "execution_count": 16,
   "metadata": {},
   "outputs": [],
   "source": [
    "from sklearn.datasets import make_regression\n",
    "\n",
    "X_regr, y_regr = make_regression(1000, 20, n_informative=10, random_state=0)\n",
    "X_regr = X_regr.astype(np.float32)\n",
    "y_regr = y_regr.astype(np.float32) / 100\n",
    "y_regr = y_regr.reshape(-1, 1)"
   ]
  },
  {
   "cell_type": "code",
   "execution_count": 17,
   "metadata": {},
   "outputs": [
    {
     "data": {
      "text/plain": [
       "((1000, 20), (1000, 1), -6.4901485, 6.154505)"
      ]
     },
     "execution_count": 17,
     "metadata": {},
     "output_type": "execute_result"
    }
   ],
   "source": [
    "X_regr.shape, y_regr.shape, y_regr.min(), y_regr.max()"
   ]
  },
  {
   "cell_type": "code",
   "execution_count": 18,
   "metadata": {},
   "outputs": [
    {
     "data": {
      "text/plain": [
       "'cuda'"
      ]
     },
     "execution_count": 18,
     "metadata": {},
     "output_type": "execute_result"
    }
   ],
   "source": [
    "device = 'cuda' if torch.cuda.is_available() else 'cpu'\n",
    "device"
   ]
  },
  {
   "cell_type": "code",
   "execution_count": 19,
   "metadata": {},
   "outputs": [],
   "source": [
    "from skorch import NeuralNetRegressor"
   ]
  },
  {
   "cell_type": "code",
   "execution_count": 20,
   "metadata": {},
   "outputs": [],
   "source": [
    "class RegressorModule(nn.Module):\n",
    "    def __init__(\n",
    "        self,\n",
    "        num_units = 10,\n",
    "        nonlin = F.relu,\n",
    "    ):\n",
    "        super(RegressorModule, self).__init__()\n",
    "        self.num_units = num_units\n",
    "        self.nonlin = nonlin\n",
    "        \n",
    "        self.dense0 = nn.Linear(20, num_units)\n",
    "        self.nonlin = nonlin\n",
    "        self.dense1 = nn.Linear(num_units, 10)\n",
    "        self.output = nn.Linear(10, 1)\n",
    "        \n",
    "    def forward(self, X, **kwargs):\n",
    "        X = self.nonlin(self.dense0(X))\n",
    "        X = F.relu(self.dense1(X))\n",
    "        X = self.output(X)\n",
    "        return X"
   ]
  },
  {
   "cell_type": "code",
   "execution_count": 21,
   "metadata": {},
   "outputs": [],
   "source": [
    "net_regr = NeuralNetRegressor(\n",
    "    RegressorModule,\n",
    "    max_epochs = 20,\n",
    "    lr = 0.1,\n",
    "    device = device\n",
    ")"
   ]
  },
  {
   "cell_type": "code",
   "execution_count": 22,
   "metadata": {},
   "outputs": [
    {
     "name": "stdout",
     "output_type": "stream",
     "text": [
      "  epoch    train_loss    valid_loss     dur\n",
      "-------  ------------  ------------  ------\n",
      "      1        \u001b[36m4.5306\u001b[0m        \u001b[32m3.7274\u001b[0m  0.8688\n",
      "      2        \u001b[36m3.3071\u001b[0m        \u001b[32m1.5840\u001b[0m  0.0112\n",
      "      3        \u001b[36m0.9924\u001b[0m        \u001b[32m0.9718\u001b[0m  0.0120\n",
      "      4        1.2342        \u001b[32m0.6791\u001b[0m  0.0122\n",
      "      5        \u001b[36m0.3962\u001b[0m        \u001b[32m0.1578\u001b[0m  0.0122\n",
      "      6        \u001b[36m0.1068\u001b[0m        \u001b[32m0.0900\u001b[0m  0.0114\n",
      "      7        \u001b[36m0.0672\u001b[0m        \u001b[32m0.0694\u001b[0m  0.0115\n",
      "      8        \u001b[36m0.0514\u001b[0m        \u001b[32m0.0566\u001b[0m  0.0113\n",
      "      9        \u001b[36m0.0398\u001b[0m        \u001b[32m0.0457\u001b[0m  0.0109\n",
      "     10        \u001b[36m0.0310\u001b[0m        \u001b[32m0.0374\u001b[0m  0.0110\n",
      "     11        \u001b[36m0.0244\u001b[0m        \u001b[32m0.0315\u001b[0m  0.0113\n",
      "     12        \u001b[36m0.0198\u001b[0m        \u001b[32m0.0271\u001b[0m  0.0105\n",
      "     13        \u001b[36m0.0165\u001b[0m        \u001b[32m0.0239\u001b[0m  0.0102\n",
      "     14        \u001b[36m0.0141\u001b[0m        \u001b[32m0.0215\u001b[0m  0.0117\n",
      "     15        \u001b[36m0.0123\u001b[0m        \u001b[32m0.0196\u001b[0m  0.0114\n",
      "     16        \u001b[36m0.0109\u001b[0m        \u001b[32m0.0180\u001b[0m  0.0111\n",
      "     17        \u001b[36m0.0098\u001b[0m        \u001b[32m0.0168\u001b[0m  0.0117\n",
      "     18        \u001b[36m0.0089\u001b[0m        \u001b[32m0.0157\u001b[0m  0.0110\n",
      "     19        \u001b[36m0.0081\u001b[0m        \u001b[32m0.0147\u001b[0m  0.0118\n",
      "     20        \u001b[36m0.0074\u001b[0m        \u001b[32m0.0138\u001b[0m  0.0105\n"
     ]
    },
    {
     "data": {
      "text/plain": [
       "<class 'skorch.regressor.NeuralNetRegressor'>[initialized](\n",
       "  module_=RegressorModule(\n",
       "    (dense0): Linear(in_features=20, out_features=10, bias=True)\n",
       "    (dense1): Linear(in_features=10, out_features=10, bias=True)\n",
       "    (output): Linear(in_features=10, out_features=1, bias=True)\n",
       "  ),\n",
       ")"
      ]
     },
     "execution_count": 22,
     "metadata": {},
     "output_type": "execute_result"
    }
   ],
   "source": [
    "net_regr.fit(X_regr, y_regr)"
   ]
  },
  {
   "cell_type": "code",
   "execution_count": 23,
   "metadata": {},
   "outputs": [
    {
     "data": {
      "text/plain": [
       "array([[ 0.60129064],\n",
       "       [-1.447263  ],\n",
       "       [-0.5105232 ],\n",
       "       [-0.25952503],\n",
       "       [-0.7679593 ]], dtype=float32)"
      ]
     },
     "execution_count": 23,
     "metadata": {},
     "output_type": "execute_result"
    }
   ],
   "source": [
    "# Making prediction for first 5 data points of X\n",
    "y_pred = net_regr.predict(X_regr[:5])\n",
    "y_pred"
   ]
  },
  {
   "attachments": {},
   "cell_type": "markdown",
   "metadata": {},
   "source": [
    "전체 모델 저장"
   ]
  },
  {
   "cell_type": "code",
   "execution_count": 24,
   "metadata": {},
   "outputs": [],
   "source": [
    "import pickle"
   ]
  },
  {
   "cell_type": "code",
   "execution_count": 25,
   "metadata": {},
   "outputs": [],
   "source": [
    "file_name = \"../model/skorch_reg.pkl\"\n",
    "\n",
    "with open(file_name, \"wb\") as f:\n",
    "    pickle.dump(net_regr, f)"
   ]
  },
  {
   "cell_type": "code",
   "execution_count": 26,
   "metadata": {},
   "outputs": [],
   "source": [
    "with open(file_name, \"rb\") as f:\n",
    "    new_net = pickle.load(f)"
   ]
  },
  {
   "cell_type": "code",
   "execution_count": 27,
   "metadata": {},
   "outputs": [
    {
     "data": {
      "text/plain": [
       "array([[ 0.60129064],\n",
       "       [-1.447263  ],\n",
       "       [-0.5105232 ],\n",
       "       [-0.25952503],\n",
       "       [-0.7679593 ]], dtype=float32)"
      ]
     },
     "execution_count": 27,
     "metadata": {},
     "output_type": "execute_result"
    }
   ],
   "source": [
    "new_net.predict(X_regr[:5])"
   ]
  },
  {
   "attachments": {},
   "cell_type": "markdown",
   "metadata": {},
   "source": [
    "파라미터만 저장하기"
   ]
  },
  {
   "attachments": {},
   "cell_type": "markdown",
   "metadata": {},
   "source": [
    "- 이방법은 모델의 파라미터만 저장함  \n",
    "- 따라서 lr, max_epochs 같은 파라미터는 저장하지 않음"
   ]
  },
  {
   "cell_type": "code",
   "execution_count": 28,
   "metadata": {},
   "outputs": [],
   "source": [
    "param_name = \"../model/skorch_reg_params.pkl\"\n",
    "\n",
    "new_net.save_params(f_params=param_name)"
   ]
  },
  {
   "cell_type": "code",
   "execution_count": 29,
   "metadata": {},
   "outputs": [],
   "source": [
    "new_net = NeuralNetRegressor(\n",
    "    RegressorModule,\n",
    "    max_epochs = 20,\n",
    "    lr = 0.1,\n",
    ").initialize()"
   ]
  },
  {
   "cell_type": "code",
   "execution_count": 30,
   "metadata": {},
   "outputs": [],
   "source": [
    "new_net.load_params(param_name)"
   ]
  },
  {
   "cell_type": "code",
   "execution_count": 31,
   "metadata": {},
   "outputs": [
    {
     "data": {
      "text/plain": [
       "array([[ 0.60129064],\n",
       "       [-1.447263  ],\n",
       "       [-0.5105232 ],\n",
       "       [-0.25952503],\n",
       "       [-0.76795924]], dtype=float32)"
      ]
     },
     "execution_count": 31,
     "metadata": {},
     "output_type": "execute_result"
    }
   ],
   "source": [
    "new_net.predict(X_regr[:5])"
   ]
  },
  {
   "attachments": {},
   "cell_type": "markdown",
   "metadata": {},
   "source": [
    "사이킷런 파이프라인"
   ]
  },
  {
   "cell_type": "code",
   "execution_count": 32,
   "metadata": {},
   "outputs": [],
   "source": [
    "from sklearn.pipeline import Pipeline\n",
    "from sklearn.preprocessing import StandardScaler"
   ]
  },
  {
   "cell_type": "code",
   "execution_count": 33,
   "metadata": {},
   "outputs": [],
   "source": [
    "pipe = Pipeline([\n",
    "    ('scale', StandardScaler()),\n",
    "    ('net', net_regr)\n",
    "])"
   ]
  },
  {
   "cell_type": "code",
   "execution_count": 34,
   "metadata": {},
   "outputs": [
    {
     "data": {
      "text/html": [
       "<style>#sk-container-id-1 {color: black;}#sk-container-id-1 pre{padding: 0;}#sk-container-id-1 div.sk-toggleable {background-color: white;}#sk-container-id-1 label.sk-toggleable__label {cursor: pointer;display: block;width: 100%;margin-bottom: 0;padding: 0.3em;box-sizing: border-box;text-align: center;}#sk-container-id-1 label.sk-toggleable__label-arrow:before {content: \"▸\";float: left;margin-right: 0.25em;color: #696969;}#sk-container-id-1 label.sk-toggleable__label-arrow:hover:before {color: black;}#sk-container-id-1 div.sk-estimator:hover label.sk-toggleable__label-arrow:before {color: black;}#sk-container-id-1 div.sk-toggleable__content {max-height: 0;max-width: 0;overflow: hidden;text-align: left;background-color: #f0f8ff;}#sk-container-id-1 div.sk-toggleable__content pre {margin: 0.2em;color: black;border-radius: 0.25em;background-color: #f0f8ff;}#sk-container-id-1 input.sk-toggleable__control:checked~div.sk-toggleable__content {max-height: 200px;max-width: 100%;overflow: auto;}#sk-container-id-1 input.sk-toggleable__control:checked~label.sk-toggleable__label-arrow:before {content: \"▾\";}#sk-container-id-1 div.sk-estimator input.sk-toggleable__control:checked~label.sk-toggleable__label {background-color: #d4ebff;}#sk-container-id-1 div.sk-label input.sk-toggleable__control:checked~label.sk-toggleable__label {background-color: #d4ebff;}#sk-container-id-1 input.sk-hidden--visually {border: 0;clip: rect(1px 1px 1px 1px);clip: rect(1px, 1px, 1px, 1px);height: 1px;margin: -1px;overflow: hidden;padding: 0;position: absolute;width: 1px;}#sk-container-id-1 div.sk-estimator {font-family: monospace;background-color: #f0f8ff;border: 1px dotted black;border-radius: 0.25em;box-sizing: border-box;margin-bottom: 0.5em;}#sk-container-id-1 div.sk-estimator:hover {background-color: #d4ebff;}#sk-container-id-1 div.sk-parallel-item::after {content: \"\";width: 100%;border-bottom: 1px solid gray;flex-grow: 1;}#sk-container-id-1 div.sk-label:hover label.sk-toggleable__label {background-color: #d4ebff;}#sk-container-id-1 div.sk-serial::before {content: \"\";position: absolute;border-left: 1px solid gray;box-sizing: border-box;top: 0;bottom: 0;left: 50%;z-index: 0;}#sk-container-id-1 div.sk-serial {display: flex;flex-direction: column;align-items: center;background-color: white;padding-right: 0.2em;padding-left: 0.2em;position: relative;}#sk-container-id-1 div.sk-item {position: relative;z-index: 1;}#sk-container-id-1 div.sk-parallel {display: flex;align-items: stretch;justify-content: center;background-color: white;position: relative;}#sk-container-id-1 div.sk-item::before, #sk-container-id-1 div.sk-parallel-item::before {content: \"\";position: absolute;border-left: 1px solid gray;box-sizing: border-box;top: 0;bottom: 0;left: 50%;z-index: -1;}#sk-container-id-1 div.sk-parallel-item {display: flex;flex-direction: column;z-index: 1;position: relative;background-color: white;}#sk-container-id-1 div.sk-parallel-item:first-child::after {align-self: flex-end;width: 50%;}#sk-container-id-1 div.sk-parallel-item:last-child::after {align-self: flex-start;width: 50%;}#sk-container-id-1 div.sk-parallel-item:only-child::after {width: 0;}#sk-container-id-1 div.sk-dashed-wrapped {border: 1px dashed gray;margin: 0 0.4em 0.5em 0.4em;box-sizing: border-box;padding-bottom: 0.4em;background-color: white;}#sk-container-id-1 div.sk-label label {font-family: monospace;font-weight: bold;display: inline-block;line-height: 1.2em;}#sk-container-id-1 div.sk-label-container {text-align: center;}#sk-container-id-1 div.sk-container {/* jupyter's `normalize.less` sets `[hidden] { display: none; }` but bootstrap.min.css set `[hidden] { display: none !important; }` so we also need the `!important` here to be able to override the default hidden behavior on the sphinx rendered scikit-learn.org. See: https://github.com/scikit-learn/scikit-learn/issues/21755 */display: inline-block !important;position: relative;}#sk-container-id-1 div.sk-text-repr-fallback {display: none;}</style><div id=\"sk-container-id-1\" class=\"sk-top-container\"><div class=\"sk-text-repr-fallback\"><pre>Pipeline(steps=[(&#x27;scale&#x27;, StandardScaler()),\n",
       "                (&#x27;net&#x27;,\n",
       "                 &lt;class &#x27;skorch.regressor.NeuralNetRegressor&#x27;&gt;[initialized](\n",
       "  module_=RegressorModule(\n",
       "    (dense0): Linear(in_features=20, out_features=10, bias=True)\n",
       "    (dense1): Linear(in_features=10, out_features=10, bias=True)\n",
       "    (output): Linear(in_features=10, out_features=1, bias=True)\n",
       "  ),\n",
       "))])</pre><b>In a Jupyter environment, please rerun this cell to show the HTML representation or trust the notebook. <br />On GitHub, the HTML representation is unable to render, please try loading this page with nbviewer.org.</b></div><div class=\"sk-container\" hidden><div class=\"sk-item sk-dashed-wrapped\"><div class=\"sk-label-container\"><div class=\"sk-label sk-toggleable\"><input class=\"sk-toggleable__control sk-hidden--visually\" id=\"sk-estimator-id-1\" type=\"checkbox\" ><label for=\"sk-estimator-id-1\" class=\"sk-toggleable__label sk-toggleable__label-arrow\">Pipeline</label><div class=\"sk-toggleable__content\"><pre>Pipeline(steps=[(&#x27;scale&#x27;, StandardScaler()),\n",
       "                (&#x27;net&#x27;,\n",
       "                 &lt;class &#x27;skorch.regressor.NeuralNetRegressor&#x27;&gt;[initialized](\n",
       "  module_=RegressorModule(\n",
       "    (dense0): Linear(in_features=20, out_features=10, bias=True)\n",
       "    (dense1): Linear(in_features=10, out_features=10, bias=True)\n",
       "    (output): Linear(in_features=10, out_features=1, bias=True)\n",
       "  ),\n",
       "))])</pre></div></div></div><div class=\"sk-serial\"><div class=\"sk-item\"><div class=\"sk-estimator sk-toggleable\"><input class=\"sk-toggleable__control sk-hidden--visually\" id=\"sk-estimator-id-2\" type=\"checkbox\" ><label for=\"sk-estimator-id-2\" class=\"sk-toggleable__label sk-toggleable__label-arrow\">StandardScaler</label><div class=\"sk-toggleable__content\"><pre>StandardScaler()</pre></div></div></div><div class=\"sk-item\"><div class=\"sk-estimator sk-toggleable\"><input class=\"sk-toggleable__control sk-hidden--visually\" id=\"sk-estimator-id-3\" type=\"checkbox\" ><label for=\"sk-estimator-id-3\" class=\"sk-toggleable__label sk-toggleable__label-arrow\">NeuralNetRegressor</label><div class=\"sk-toggleable__content\"><pre>&lt;class &#x27;skorch.regressor.NeuralNetRegressor&#x27;&gt;[initialized](\n",
       "  module_=RegressorModule(\n",
       "    (dense0): Linear(in_features=20, out_features=10, bias=True)\n",
       "    (dense1): Linear(in_features=10, out_features=10, bias=True)\n",
       "    (output): Linear(in_features=10, out_features=1, bias=True)\n",
       "  ),\n",
       ")</pre></div></div></div></div></div></div></div>"
      ],
      "text/plain": [
       "Pipeline(steps=[('scale', StandardScaler()),\n",
       "                ('net',\n",
       "                 <class 'skorch.regressor.NeuralNetRegressor'>[initialized](\n",
       "  module_=RegressorModule(\n",
       "    (dense0): Linear(in_features=20, out_features=10, bias=True)\n",
       "    (dense1): Linear(in_features=10, out_features=10, bias=True)\n",
       "    (output): Linear(in_features=10, out_features=1, bias=True)\n",
       "  ),\n",
       "))])"
      ]
     },
     "execution_count": 34,
     "metadata": {},
     "output_type": "execute_result"
    }
   ],
   "source": [
    "pipe"
   ]
  },
  {
   "cell_type": "code",
   "execution_count": 35,
   "metadata": {},
   "outputs": [
    {
     "name": "stdout",
     "output_type": "stream",
     "text": [
      "Re-initializing module.\n",
      "Re-initializing criterion.\n",
      "Re-initializing optimizer.\n",
      "  epoch    train_loss    valid_loss     dur\n",
      "-------  ------------  ------------  ------\n",
      "      1        \u001b[36m4.6679\u001b[0m        \u001b[32m3.9519\u001b[0m  0.0158\n",
      "      2        \u001b[36m4.4123\u001b[0m        \u001b[32m3.4078\u001b[0m  0.0115\n",
      "      3        \u001b[36m2.8493\u001b[0m        \u001b[32m1.2331\u001b[0m  0.0123\n",
      "      4        \u001b[36m0.9822\u001b[0m        \u001b[32m0.5511\u001b[0m  0.0130\n",
      "      5        \u001b[36m0.4767\u001b[0m        \u001b[32m0.3299\u001b[0m  0.0126\n",
      "      6        \u001b[36m0.3146\u001b[0m        0.7192  0.0218\n",
      "      7        1.1051        \u001b[32m0.2318\u001b[0m  0.0148\n",
      "      8        0.5604        0.4048  0.0145\n",
      "      9        0.4989        0.4355  0.0147\n",
      "     10        0.5613        \u001b[32m0.2157\u001b[0m  0.0119\n",
      "     11        \u001b[36m0.2372\u001b[0m        0.2630  0.0130\n",
      "     12        0.3281        \u001b[32m0.1639\u001b[0m  0.0115\n",
      "     13        \u001b[36m0.1639\u001b[0m        0.1855  0.0124\n",
      "     14        0.2158        \u001b[32m0.1202\u001b[0m  0.0131\n",
      "     15        \u001b[36m0.1103\u001b[0m        0.1403  0.0127\n",
      "     16        0.1510        \u001b[32m0.0866\u001b[0m  0.0124\n",
      "     17        \u001b[36m0.0746\u001b[0m        0.1074  0.0124\n",
      "     18        0.1055        \u001b[32m0.0631\u001b[0m  0.0119\n",
      "     19        \u001b[36m0.0502\u001b[0m        0.0862  0.0142\n",
      "     20        0.0797        \u001b[32m0.0500\u001b[0m  0.0139\n"
     ]
    },
    {
     "data": {
      "text/html": [
       "<style>#sk-container-id-2 {color: black;}#sk-container-id-2 pre{padding: 0;}#sk-container-id-2 div.sk-toggleable {background-color: white;}#sk-container-id-2 label.sk-toggleable__label {cursor: pointer;display: block;width: 100%;margin-bottom: 0;padding: 0.3em;box-sizing: border-box;text-align: center;}#sk-container-id-2 label.sk-toggleable__label-arrow:before {content: \"▸\";float: left;margin-right: 0.25em;color: #696969;}#sk-container-id-2 label.sk-toggleable__label-arrow:hover:before {color: black;}#sk-container-id-2 div.sk-estimator:hover label.sk-toggleable__label-arrow:before {color: black;}#sk-container-id-2 div.sk-toggleable__content {max-height: 0;max-width: 0;overflow: hidden;text-align: left;background-color: #f0f8ff;}#sk-container-id-2 div.sk-toggleable__content pre {margin: 0.2em;color: black;border-radius: 0.25em;background-color: #f0f8ff;}#sk-container-id-2 input.sk-toggleable__control:checked~div.sk-toggleable__content {max-height: 200px;max-width: 100%;overflow: auto;}#sk-container-id-2 input.sk-toggleable__control:checked~label.sk-toggleable__label-arrow:before {content: \"▾\";}#sk-container-id-2 div.sk-estimator input.sk-toggleable__control:checked~label.sk-toggleable__label {background-color: #d4ebff;}#sk-container-id-2 div.sk-label input.sk-toggleable__control:checked~label.sk-toggleable__label {background-color: #d4ebff;}#sk-container-id-2 input.sk-hidden--visually {border: 0;clip: rect(1px 1px 1px 1px);clip: rect(1px, 1px, 1px, 1px);height: 1px;margin: -1px;overflow: hidden;padding: 0;position: absolute;width: 1px;}#sk-container-id-2 div.sk-estimator {font-family: monospace;background-color: #f0f8ff;border: 1px dotted black;border-radius: 0.25em;box-sizing: border-box;margin-bottom: 0.5em;}#sk-container-id-2 div.sk-estimator:hover {background-color: #d4ebff;}#sk-container-id-2 div.sk-parallel-item::after {content: \"\";width: 100%;border-bottom: 1px solid gray;flex-grow: 1;}#sk-container-id-2 div.sk-label:hover label.sk-toggleable__label {background-color: #d4ebff;}#sk-container-id-2 div.sk-serial::before {content: \"\";position: absolute;border-left: 1px solid gray;box-sizing: border-box;top: 0;bottom: 0;left: 50%;z-index: 0;}#sk-container-id-2 div.sk-serial {display: flex;flex-direction: column;align-items: center;background-color: white;padding-right: 0.2em;padding-left: 0.2em;position: relative;}#sk-container-id-2 div.sk-item {position: relative;z-index: 1;}#sk-container-id-2 div.sk-parallel {display: flex;align-items: stretch;justify-content: center;background-color: white;position: relative;}#sk-container-id-2 div.sk-item::before, #sk-container-id-2 div.sk-parallel-item::before {content: \"\";position: absolute;border-left: 1px solid gray;box-sizing: border-box;top: 0;bottom: 0;left: 50%;z-index: -1;}#sk-container-id-2 div.sk-parallel-item {display: flex;flex-direction: column;z-index: 1;position: relative;background-color: white;}#sk-container-id-2 div.sk-parallel-item:first-child::after {align-self: flex-end;width: 50%;}#sk-container-id-2 div.sk-parallel-item:last-child::after {align-self: flex-start;width: 50%;}#sk-container-id-2 div.sk-parallel-item:only-child::after {width: 0;}#sk-container-id-2 div.sk-dashed-wrapped {border: 1px dashed gray;margin: 0 0.4em 0.5em 0.4em;box-sizing: border-box;padding-bottom: 0.4em;background-color: white;}#sk-container-id-2 div.sk-label label {font-family: monospace;font-weight: bold;display: inline-block;line-height: 1.2em;}#sk-container-id-2 div.sk-label-container {text-align: center;}#sk-container-id-2 div.sk-container {/* jupyter's `normalize.less` sets `[hidden] { display: none; }` but bootstrap.min.css set `[hidden] { display: none !important; }` so we also need the `!important` here to be able to override the default hidden behavior on the sphinx rendered scikit-learn.org. See: https://github.com/scikit-learn/scikit-learn/issues/21755 */display: inline-block !important;position: relative;}#sk-container-id-2 div.sk-text-repr-fallback {display: none;}</style><div id=\"sk-container-id-2\" class=\"sk-top-container\"><div class=\"sk-text-repr-fallback\"><pre>Pipeline(steps=[(&#x27;scale&#x27;, StandardScaler()),\n",
       "                (&#x27;net&#x27;,\n",
       "                 &lt;class &#x27;skorch.regressor.NeuralNetRegressor&#x27;&gt;[initialized](\n",
       "  module_=RegressorModule(\n",
       "    (dense0): Linear(in_features=20, out_features=10, bias=True)\n",
       "    (dense1): Linear(in_features=10, out_features=10, bias=True)\n",
       "    (output): Linear(in_features=10, out_features=1, bias=True)\n",
       "  ),\n",
       "))])</pre><b>In a Jupyter environment, please rerun this cell to show the HTML representation or trust the notebook. <br />On GitHub, the HTML representation is unable to render, please try loading this page with nbviewer.org.</b></div><div class=\"sk-container\" hidden><div class=\"sk-item sk-dashed-wrapped\"><div class=\"sk-label-container\"><div class=\"sk-label sk-toggleable\"><input class=\"sk-toggleable__control sk-hidden--visually\" id=\"sk-estimator-id-4\" type=\"checkbox\" ><label for=\"sk-estimator-id-4\" class=\"sk-toggleable__label sk-toggleable__label-arrow\">Pipeline</label><div class=\"sk-toggleable__content\"><pre>Pipeline(steps=[(&#x27;scale&#x27;, StandardScaler()),\n",
       "                (&#x27;net&#x27;,\n",
       "                 &lt;class &#x27;skorch.regressor.NeuralNetRegressor&#x27;&gt;[initialized](\n",
       "  module_=RegressorModule(\n",
       "    (dense0): Linear(in_features=20, out_features=10, bias=True)\n",
       "    (dense1): Linear(in_features=10, out_features=10, bias=True)\n",
       "    (output): Linear(in_features=10, out_features=1, bias=True)\n",
       "  ),\n",
       "))])</pre></div></div></div><div class=\"sk-serial\"><div class=\"sk-item\"><div class=\"sk-estimator sk-toggleable\"><input class=\"sk-toggleable__control sk-hidden--visually\" id=\"sk-estimator-id-5\" type=\"checkbox\" ><label for=\"sk-estimator-id-5\" class=\"sk-toggleable__label sk-toggleable__label-arrow\">StandardScaler</label><div class=\"sk-toggleable__content\"><pre>StandardScaler()</pre></div></div></div><div class=\"sk-item\"><div class=\"sk-estimator sk-toggleable\"><input class=\"sk-toggleable__control sk-hidden--visually\" id=\"sk-estimator-id-6\" type=\"checkbox\" ><label for=\"sk-estimator-id-6\" class=\"sk-toggleable__label sk-toggleable__label-arrow\">NeuralNetRegressor</label><div class=\"sk-toggleable__content\"><pre>&lt;class &#x27;skorch.regressor.NeuralNetRegressor&#x27;&gt;[initialized](\n",
       "  module_=RegressorModule(\n",
       "    (dense0): Linear(in_features=20, out_features=10, bias=True)\n",
       "    (dense1): Linear(in_features=10, out_features=10, bias=True)\n",
       "    (output): Linear(in_features=10, out_features=1, bias=True)\n",
       "  ),\n",
       ")</pre></div></div></div></div></div></div></div>"
      ],
      "text/plain": [
       "Pipeline(steps=[('scale', StandardScaler()),\n",
       "                ('net',\n",
       "                 <class 'skorch.regressor.NeuralNetRegressor'>[initialized](\n",
       "  module_=RegressorModule(\n",
       "    (dense0): Linear(in_features=20, out_features=10, bias=True)\n",
       "    (dense1): Linear(in_features=10, out_features=10, bias=True)\n",
       "    (output): Linear(in_features=10, out_features=1, bias=True)\n",
       "  ),\n",
       "))])"
      ]
     },
     "execution_count": 35,
     "metadata": {},
     "output_type": "execute_result"
    }
   ],
   "source": [
    "pipe.fit(X_regr, y_regr)"
   ]
  },
  {
   "cell_type": "code",
   "execution_count": 36,
   "metadata": {},
   "outputs": [
    {
     "data": {
      "text/plain": [
       "array([[ 0.6341337 ],\n",
       "       [-1.2901615 ],\n",
       "       [-0.42953563],\n",
       "       [-0.1663003 ],\n",
       "       [-0.5268229 ]], dtype=float32)"
      ]
     },
     "execution_count": 36,
     "metadata": {},
     "output_type": "execute_result"
    }
   ],
   "source": [
    "pipe.predict_proba(X_regr[:5])"
   ]
  },
  {
   "attachments": {},
   "cell_type": "markdown",
   "metadata": {},
   "source": [
    "### Calbacks"
   ]
  },
  {
   "attachments": {},
   "cell_type": "markdown",
   "metadata": {},
   "source": [
    "여기서는 ROC(AUC) 점수 아래 영역을 결정하는 새 콜백을 추가하는 방법을 보여줍니다."
   ]
  },
  {
   "cell_type": "code",
   "execution_count": 37,
   "metadata": {},
   "outputs": [],
   "source": [
    "from skorch.callbacks import EpochScoring"
   ]
  },
  {
   "attachments": {},
   "cell_type": "markdown",
   "metadata": {},
   "source": [
    "EpochScoring을 사용하여 계산할 점수를 지정해야 합니다.  \n",
    "3가지 선택지가 있습니다:   \n",
    "- 문자열 전달 : sklearn에서 유효한 메트릭이어야 함\n",
    "- None 전달 : .score 메서드를 구현한후, scoring=None을 전달하면 skorch가 이를 사용하도록 지시함\n",
    "- 함수 또는 callable 전달하기"
   ]
  },
  {
   "attachments": {},
   "cell_type": "markdown",
   "metadata": {},
   "source": [
    "sklearn에는dlau 'roc_auc'가 있기 때문에 이를 사용한다."
   ]
  },
  {
   "cell_type": "code",
   "execution_count": 38,
   "metadata": {},
   "outputs": [],
   "source": [
    "auc =EpochScoring(scoring = 'roc_auc', lower_is_better=False)"
   ]
  },
  {
   "cell_type": "code",
   "execution_count": 39,
   "metadata": {},
   "outputs": [],
   "source": [
    "class ClassifierModule(nn.Module):\n",
    "    def __init__(\n",
    "            self,\n",
    "            num_units=10,\n",
    "            nonlin=F.relu,\n",
    "            dropout=0.5,\n",
    "    ):\n",
    "        super(ClassifierModule, self).__init__()\n",
    "        self.num_units = num_units\n",
    "        self.nonlin = nonlin\n",
    "        self.dropout = dropout\n",
    "\n",
    "        self.dense0 = nn.Linear(20, num_units)\n",
    "        self.nonlin = nonlin\n",
    "        self.dropout = nn.Dropout(dropout)\n",
    "        self.dense1 = nn.Linear(num_units, 10)\n",
    "        self.output = nn.Linear(10, 2)\n",
    "\n",
    "    def forward(self, X, **kwargs):\n",
    "        X = self.nonlin(self.dense0(X))\n",
    "        X = self.dropout(X)\n",
    "        X = F.relu(self.dense1(X))\n",
    "        X = F.softmax(self.output(X), dim=-1)\n",
    "        return X"
   ]
  },
  {
   "cell_type": "code",
   "execution_count": 40,
   "metadata": {},
   "outputs": [],
   "source": [
    "net = NeuralNetClassifier(\n",
    "    ClassifierModule,\n",
    "    max_epochs=20,\n",
    "    lr=0.1,\n",
    "    callbacks=[auc],\n",
    ")"
   ]
  },
  {
   "cell_type": "code",
   "execution_count": 41,
   "metadata": {},
   "outputs": [
    {
     "name": "stdout",
     "output_type": "stream",
     "text": [
      "  epoch    roc_auc    train_loss    valid_acc    valid_loss     dur\n",
      "-------  ---------  ------------  -----------  ------------  ------\n",
      "      1     \u001b[36m0.4850\u001b[0m        \u001b[32m0.7101\u001b[0m       \u001b[35m0.4950\u001b[0m        \u001b[31m0.7039\u001b[0m  0.0112\n",
      "      2     \u001b[36m0.5474\u001b[0m        \u001b[32m0.6893\u001b[0m       \u001b[35m0.5100\u001b[0m        \u001b[31m0.6957\u001b[0m  0.0085\n",
      "      3     \u001b[36m0.6027\u001b[0m        \u001b[32m0.6874\u001b[0m       \u001b[35m0.5250\u001b[0m        \u001b[31m0.6887\u001b[0m  0.0067\n",
      "      4     \u001b[36m0.6564\u001b[0m        \u001b[32m0.6696\u001b[0m       \u001b[35m0.5500\u001b[0m        \u001b[31m0.6800\u001b[0m  0.0087\n",
      "      5     \u001b[36m0.7237\u001b[0m        \u001b[32m0.6635\u001b[0m       \u001b[35m0.6400\u001b[0m        \u001b[31m0.6653\u001b[0m  0.0078\n",
      "      6     \u001b[36m0.7883\u001b[0m        \u001b[32m0.6470\u001b[0m       \u001b[35m0.6850\u001b[0m        \u001b[31m0.6454\u001b[0m  0.0072\n",
      "      7     \u001b[36m0.8426\u001b[0m        \u001b[32m0.6421\u001b[0m       \u001b[35m0.7150\u001b[0m        \u001b[31m0.6324\u001b[0m  0.0111\n",
      "      8     \u001b[36m0.8723\u001b[0m        \u001b[32m0.6268\u001b[0m       \u001b[35m0.7700\u001b[0m        \u001b[31m0.6066\u001b[0m  0.0073\n",
      "      9     \u001b[36m0.9070\u001b[0m        \u001b[32m0.6154\u001b[0m       \u001b[35m0.8300\u001b[0m        \u001b[31m0.5800\u001b[0m  0.0072\n",
      "     10     \u001b[36m0.9287\u001b[0m        \u001b[32m0.5898\u001b[0m       \u001b[35m0.8500\u001b[0m        \u001b[31m0.5470\u001b[0m  0.0095\n",
      "     11     \u001b[36m0.9427\u001b[0m        \u001b[32m0.5574\u001b[0m       0.8450        \u001b[31m0.5120\u001b[0m  0.0101\n",
      "     12     0.9421        \u001b[32m0.5283\u001b[0m       \u001b[35m0.8700\u001b[0m        \u001b[31m0.4711\u001b[0m  0.0086\n",
      "     13     \u001b[36m0.9431\u001b[0m        0.5368       0.8650        \u001b[31m0.4437\u001b[0m  0.0093\n"
     ]
    },
    {
     "name": "stdout",
     "output_type": "stream",
     "text": [
      "     14     \u001b[36m0.9449\u001b[0m        0.5296       0.8600        \u001b[31m0.4302\u001b[0m  0.0087\n",
      "     15     0.9428        \u001b[32m0.4848\u001b[0m       0.8500        \u001b[31m0.4049\u001b[0m  0.0089\n",
      "     16     \u001b[36m0.9454\u001b[0m        0.4881       0.8600        \u001b[31m0.3891\u001b[0m  0.0102\n",
      "     17     \u001b[36m0.9458\u001b[0m        0.4850       0.8550        \u001b[31m0.3836\u001b[0m  0.0121\n",
      "     18     \u001b[36m0.9491\u001b[0m        \u001b[32m0.4749\u001b[0m       0.8550        \u001b[31m0.3773\u001b[0m  0.0136\n",
      "     19     \u001b[36m0.9514\u001b[0m        \u001b[32m0.4598\u001b[0m       0.8700        \u001b[31m0.3684\u001b[0m  0.0167\n",
      "     20     0.9506        0.4796       0.8650        \u001b[31m0.3676\u001b[0m  0.0067\n"
     ]
    },
    {
     "data": {
      "text/plain": [
       "<class 'skorch.classifier.NeuralNetClassifier'>[initialized](\n",
       "  module_=ClassifierModule(\n",
       "    (dense0): Linear(in_features=20, out_features=10, bias=True)\n",
       "    (dropout): Dropout(p=0.5, inplace=False)\n",
       "    (dense1): Linear(in_features=10, out_features=10, bias=True)\n",
       "    (output): Linear(in_features=10, out_features=2, bias=True)\n",
       "  ),\n",
       ")"
      ]
     },
     "execution_count": 41,
     "metadata": {},
     "output_type": "execute_result"
    }
   ],
   "source": [
    "net.fit(X, y)"
   ]
  },
  {
   "attachments": {},
   "cell_type": "markdown",
   "metadata": {},
   "source": [
    "### Usage with sklearn GridSearchCV"
   ]
  },
  {
   "attachments": {},
   "cell_type": "markdown",
   "metadata": {},
   "source": [
    "The NeuralNet class allows to directly access parameters of the pytorch module by using the module__ prefix. So e.g. if you defined the module to have a num_units parameter, you can set it via the module__num_units argument. This is exactly the same logic that allows to access estimator parameters in sklearn Pipelines and FeatureUnions.\n",
    "\n",
    "This feature is useful in several ways. For one, it allows to set those parameters in the model definition. Furthermore, it allows you to set parameters in an sklearn GridSearchCV as shown below.\n",
    "\n",
    "In addition to the parameters prefixed by module__, you may access a couple of other attributes, such as those of the optimizer by using the optimizer__ prefix (again, see below). All those special prefixes are stored in the prefixes_ attribute:"
   ]
  },
  {
   "cell_type": "code",
   "execution_count": 42,
   "metadata": {},
   "outputs": [
    {
     "data": {
      "text/plain": [
       "['iterator_train',\n",
       " 'iterator_valid',\n",
       " 'callbacks',\n",
       " 'dataset',\n",
       " 'compile',\n",
       " 'module',\n",
       " 'criterion',\n",
       " 'optimizer']"
      ]
     },
     "execution_count": 42,
     "metadata": {},
     "output_type": "execute_result"
    }
   ],
   "source": [
    "net.prefixes_"
   ]
  },
  {
   "cell_type": "code",
   "execution_count": 43,
   "metadata": {},
   "outputs": [
    {
     "data": {
      "text/plain": [
       "ClassifierModule(\n",
       "  (dense0): Linear(in_features=20, out_features=10, bias=True)\n",
       "  (dropout): Dropout(p=0.5, inplace=False)\n",
       "  (dense1): Linear(in_features=10, out_features=10, bias=True)\n",
       "  (output): Linear(in_features=10, out_features=2, bias=True)\n",
       ")"
      ]
     },
     "execution_count": 43,
     "metadata": {},
     "output_type": "execute_result"
    }
   ],
   "source": [
    "net.module_"
   ]
  },
  {
   "cell_type": "code",
   "execution_count": 44,
   "metadata": {},
   "outputs": [
    {
     "data": {
      "text/plain": [
       "10"
      ]
     },
     "execution_count": 44,
     "metadata": {},
     "output_type": "execute_result"
    }
   ],
   "source": [
    "net.module_.num_units"
   ]
  },
  {
   "cell_type": "code",
   "execution_count": 45,
   "metadata": {},
   "outputs": [],
   "source": [
    "from sklearn.model_selection import GridSearchCV"
   ]
  },
  {
   "cell_type": "code",
   "execution_count": 46,
   "metadata": {},
   "outputs": [],
   "source": [
    "net = NeuralNetClassifier(\n",
    "    ClassifierModule,\n",
    "    max_epochs=20,\n",
    "    lr=0.1,\n",
    "    optimizer__momentum=0.9,\n",
    "    verbose=0,\n",
    "    train_split=False,\n",
    ")"
   ]
  },
  {
   "cell_type": "code",
   "execution_count": 47,
   "metadata": {},
   "outputs": [],
   "source": [
    "params = {\n",
    "    'lr': [0.05, 0.1],\n",
    "    'module__num_units': [10, 20],\n",
    "    'module__dropout': [0, 0.5],\n",
    "    'optimizer__nesterov': [False, True],\n",
    "}"
   ]
  },
  {
   "cell_type": "code",
   "execution_count": 48,
   "metadata": {},
   "outputs": [],
   "source": [
    "gs = GridSearchCV(net, params, refit=False, cv=3, scoring='accuracy', verbose=2)"
   ]
  },
  {
   "cell_type": "code",
   "execution_count": 49,
   "metadata": {},
   "outputs": [
    {
     "name": "stdout",
     "output_type": "stream",
     "text": [
      "Fitting 3 folds for each of 16 candidates, totalling 48 fits\n",
      "[CV] END lr=0.05, module__dropout=0, module__num_units=10, optimizer__nesterov=False; total time=   0.1s\n",
      "[CV] END lr=0.05, module__dropout=0, module__num_units=10, optimizer__nesterov=False; total time=   0.1s\n",
      "[CV] END lr=0.05, module__dropout=0, module__num_units=10, optimizer__nesterov=False; total time=   0.1s\n",
      "[CV] END lr=0.05, module__dropout=0, module__num_units=10, optimizer__nesterov=True; total time=   0.1s\n",
      "[CV] END lr=0.05, module__dropout=0, module__num_units=10, optimizer__nesterov=True; total time=   0.1s\n",
      "[CV] END lr=0.05, module__dropout=0, module__num_units=10, optimizer__nesterov=True; total time=   0.1s\n",
      "[CV] END lr=0.05, module__dropout=0, module__num_units=20, optimizer__nesterov=False; total time=   0.1s\n",
      "[CV] END lr=0.05, module__dropout=0, module__num_units=20, optimizer__nesterov=False; total time=   0.1s\n",
      "[CV] END lr=0.05, module__dropout=0, module__num_units=20, optimizer__nesterov=False; total time=   0.1s\n",
      "[CV] END lr=0.05, module__dropout=0, module__num_units=20, optimizer__nesterov=True; total time=   0.1s\n",
      "[CV] END lr=0.05, module__dropout=0, module__num_units=20, optimizer__nesterov=True; total time=   0.1s\n",
      "[CV] END lr=0.05, module__dropout=0, module__num_units=20, optimizer__nesterov=True; total time=   0.1s\n",
      "[CV] END lr=0.05, module__dropout=0.5, module__num_units=10, optimizer__nesterov=False; total time=   0.1s\n",
      "[CV] END lr=0.05, module__dropout=0.5, module__num_units=10, optimizer__nesterov=False; total time=   0.1s\n",
      "[CV] END lr=0.05, module__dropout=0.5, module__num_units=10, optimizer__nesterov=False; total time=   0.1s\n",
      "[CV] END lr=0.05, module__dropout=0.5, module__num_units=10, optimizer__nesterov=True; total time=   0.1s\n",
      "[CV] END lr=0.05, module__dropout=0.5, module__num_units=10, optimizer__nesterov=True; total time=   0.1s\n",
      "[CV] END lr=0.05, module__dropout=0.5, module__num_units=10, optimizer__nesterov=True; total time=   0.1s\n",
      "[CV] END lr=0.05, module__dropout=0.5, module__num_units=20, optimizer__nesterov=False; total time=   0.1s\n",
      "[CV] END lr=0.05, module__dropout=0.5, module__num_units=20, optimizer__nesterov=False; total time=   0.1s\n",
      "[CV] END lr=0.05, module__dropout=0.5, module__num_units=20, optimizer__nesterov=False; total time=   0.1s\n",
      "[CV] END lr=0.05, module__dropout=0.5, module__num_units=20, optimizer__nesterov=True; total time=   0.1s\n",
      "[CV] END lr=0.05, module__dropout=0.5, module__num_units=20, optimizer__nesterov=True; total time=   0.1s\n",
      "[CV] END lr=0.05, module__dropout=0.5, module__num_units=20, optimizer__nesterov=True; total time=   0.1s\n",
      "[CV] END lr=0.1, module__dropout=0, module__num_units=10, optimizer__nesterov=False; total time=   0.1s\n",
      "[CV] END lr=0.1, module__dropout=0, module__num_units=10, optimizer__nesterov=False; total time=   0.1s\n",
      "[CV] END lr=0.1, module__dropout=0, module__num_units=10, optimizer__nesterov=False; total time=   0.1s\n",
      "[CV] END lr=0.1, module__dropout=0, module__num_units=10, optimizer__nesterov=True; total time=   0.1s\n",
      "[CV] END lr=0.1, module__dropout=0, module__num_units=10, optimizer__nesterov=True; total time=   0.1s\n",
      "[CV] END lr=0.1, module__dropout=0, module__num_units=10, optimizer__nesterov=True; total time=   0.1s\n",
      "[CV] END lr=0.1, module__dropout=0, module__num_units=20, optimizer__nesterov=False; total time=   0.1s\n",
      "[CV] END lr=0.1, module__dropout=0, module__num_units=20, optimizer__nesterov=False; total time=   0.1s\n",
      "[CV] END lr=0.1, module__dropout=0, module__num_units=20, optimizer__nesterov=False; total time=   0.1s\n",
      "[CV] END lr=0.1, module__dropout=0, module__num_units=20, optimizer__nesterov=True; total time=   0.1s\n",
      "[CV] END lr=0.1, module__dropout=0, module__num_units=20, optimizer__nesterov=True; total time=   0.1s\n",
      "[CV] END lr=0.1, module__dropout=0, module__num_units=20, optimizer__nesterov=True; total time=   0.1s\n",
      "[CV] END lr=0.1, module__dropout=0.5, module__num_units=10, optimizer__nesterov=False; total time=   0.1s\n",
      "[CV] END lr=0.1, module__dropout=0.5, module__num_units=10, optimizer__nesterov=False; total time=   0.1s\n",
      "[CV] END lr=0.1, module__dropout=0.5, module__num_units=10, optimizer__nesterov=False; total time=   0.1s\n",
      "[CV] END lr=0.1, module__dropout=0.5, module__num_units=10, optimizer__nesterov=True; total time=   0.1s\n",
      "[CV] END lr=0.1, module__dropout=0.5, module__num_units=10, optimizer__nesterov=True; total time=   0.1s\n",
      "[CV] END lr=0.1, module__dropout=0.5, module__num_units=10, optimizer__nesterov=True; total time=   0.1s\n",
      "[CV] END lr=0.1, module__dropout=0.5, module__num_units=20, optimizer__nesterov=False; total time=   0.1s\n",
      "[CV] END lr=0.1, module__dropout=0.5, module__num_units=20, optimizer__nesterov=False; total time=   0.1s\n",
      "[CV] END lr=0.1, module__dropout=0.5, module__num_units=20, optimizer__nesterov=False; total time=   0.1s\n",
      "[CV] END lr=0.1, module__dropout=0.5, module__num_units=20, optimizer__nesterov=True; total time=   0.1s\n",
      "[CV] END lr=0.1, module__dropout=0.5, module__num_units=20, optimizer__nesterov=True; total time=   0.1s\n",
      "[CV] END lr=0.1, module__dropout=0.5, module__num_units=20, optimizer__nesterov=True; total time=   0.1s\n"
     ]
    },
    {
     "data": {
      "text/html": [
       "<style>#sk-container-id-3 {color: black;}#sk-container-id-3 pre{padding: 0;}#sk-container-id-3 div.sk-toggleable {background-color: white;}#sk-container-id-3 label.sk-toggleable__label {cursor: pointer;display: block;width: 100%;margin-bottom: 0;padding: 0.3em;box-sizing: border-box;text-align: center;}#sk-container-id-3 label.sk-toggleable__label-arrow:before {content: \"▸\";float: left;margin-right: 0.25em;color: #696969;}#sk-container-id-3 label.sk-toggleable__label-arrow:hover:before {color: black;}#sk-container-id-3 div.sk-estimator:hover label.sk-toggleable__label-arrow:before {color: black;}#sk-container-id-3 div.sk-toggleable__content {max-height: 0;max-width: 0;overflow: hidden;text-align: left;background-color: #f0f8ff;}#sk-container-id-3 div.sk-toggleable__content pre {margin: 0.2em;color: black;border-radius: 0.25em;background-color: #f0f8ff;}#sk-container-id-3 input.sk-toggleable__control:checked~div.sk-toggleable__content {max-height: 200px;max-width: 100%;overflow: auto;}#sk-container-id-3 input.sk-toggleable__control:checked~label.sk-toggleable__label-arrow:before {content: \"▾\";}#sk-container-id-3 div.sk-estimator input.sk-toggleable__control:checked~label.sk-toggleable__label {background-color: #d4ebff;}#sk-container-id-3 div.sk-label input.sk-toggleable__control:checked~label.sk-toggleable__label {background-color: #d4ebff;}#sk-container-id-3 input.sk-hidden--visually {border: 0;clip: rect(1px 1px 1px 1px);clip: rect(1px, 1px, 1px, 1px);height: 1px;margin: -1px;overflow: hidden;padding: 0;position: absolute;width: 1px;}#sk-container-id-3 div.sk-estimator {font-family: monospace;background-color: #f0f8ff;border: 1px dotted black;border-radius: 0.25em;box-sizing: border-box;margin-bottom: 0.5em;}#sk-container-id-3 div.sk-estimator:hover {background-color: #d4ebff;}#sk-container-id-3 div.sk-parallel-item::after {content: \"\";width: 100%;border-bottom: 1px solid gray;flex-grow: 1;}#sk-container-id-3 div.sk-label:hover label.sk-toggleable__label {background-color: #d4ebff;}#sk-container-id-3 div.sk-serial::before {content: \"\";position: absolute;border-left: 1px solid gray;box-sizing: border-box;top: 0;bottom: 0;left: 50%;z-index: 0;}#sk-container-id-3 div.sk-serial {display: flex;flex-direction: column;align-items: center;background-color: white;padding-right: 0.2em;padding-left: 0.2em;position: relative;}#sk-container-id-3 div.sk-item {position: relative;z-index: 1;}#sk-container-id-3 div.sk-parallel {display: flex;align-items: stretch;justify-content: center;background-color: white;position: relative;}#sk-container-id-3 div.sk-item::before, #sk-container-id-3 div.sk-parallel-item::before {content: \"\";position: absolute;border-left: 1px solid gray;box-sizing: border-box;top: 0;bottom: 0;left: 50%;z-index: -1;}#sk-container-id-3 div.sk-parallel-item {display: flex;flex-direction: column;z-index: 1;position: relative;background-color: white;}#sk-container-id-3 div.sk-parallel-item:first-child::after {align-self: flex-end;width: 50%;}#sk-container-id-3 div.sk-parallel-item:last-child::after {align-self: flex-start;width: 50%;}#sk-container-id-3 div.sk-parallel-item:only-child::after {width: 0;}#sk-container-id-3 div.sk-dashed-wrapped {border: 1px dashed gray;margin: 0 0.4em 0.5em 0.4em;box-sizing: border-box;padding-bottom: 0.4em;background-color: white;}#sk-container-id-3 div.sk-label label {font-family: monospace;font-weight: bold;display: inline-block;line-height: 1.2em;}#sk-container-id-3 div.sk-label-container {text-align: center;}#sk-container-id-3 div.sk-container {/* jupyter's `normalize.less` sets `[hidden] { display: none; }` but bootstrap.min.css set `[hidden] { display: none !important; }` so we also need the `!important` here to be able to override the default hidden behavior on the sphinx rendered scikit-learn.org. See: https://github.com/scikit-learn/scikit-learn/issues/21755 */display: inline-block !important;position: relative;}#sk-container-id-3 div.sk-text-repr-fallback {display: none;}</style><div id=\"sk-container-id-3\" class=\"sk-top-container\"><div class=\"sk-text-repr-fallback\"><pre>GridSearchCV(cv=3,\n",
       "             estimator=&lt;class &#x27;skorch.classifier.NeuralNetClassifier&#x27;&gt;[uninitialized](\n",
       "  module=&lt;class &#x27;__main__.ClassifierModule&#x27;&gt;,\n",
       "),\n",
       "             param_grid={&#x27;lr&#x27;: [0.05, 0.1], &#x27;module__dropout&#x27;: [0, 0.5],\n",
       "                         &#x27;module__num_units&#x27;: [10, 20],\n",
       "                         &#x27;optimizer__nesterov&#x27;: [False, True]},\n",
       "             refit=False, scoring=&#x27;accuracy&#x27;, verbose=2)</pre><b>In a Jupyter environment, please rerun this cell to show the HTML representation or trust the notebook. <br />On GitHub, the HTML representation is unable to render, please try loading this page with nbviewer.org.</b></div><div class=\"sk-container\" hidden><div class=\"sk-item sk-dashed-wrapped\"><div class=\"sk-label-container\"><div class=\"sk-label sk-toggleable\"><input class=\"sk-toggleable__control sk-hidden--visually\" id=\"sk-estimator-id-7\" type=\"checkbox\" ><label for=\"sk-estimator-id-7\" class=\"sk-toggleable__label sk-toggleable__label-arrow\">GridSearchCV</label><div class=\"sk-toggleable__content\"><pre>GridSearchCV(cv=3,\n",
       "             estimator=&lt;class &#x27;skorch.classifier.NeuralNetClassifier&#x27;&gt;[uninitialized](\n",
       "  module=&lt;class &#x27;__main__.ClassifierModule&#x27;&gt;,\n",
       "),\n",
       "             param_grid={&#x27;lr&#x27;: [0.05, 0.1], &#x27;module__dropout&#x27;: [0, 0.5],\n",
       "                         &#x27;module__num_units&#x27;: [10, 20],\n",
       "                         &#x27;optimizer__nesterov&#x27;: [False, True]},\n",
       "             refit=False, scoring=&#x27;accuracy&#x27;, verbose=2)</pre></div></div></div><div class=\"sk-parallel\"><div class=\"sk-parallel-item\"><div class=\"sk-item\"><div class=\"sk-label-container\"><div class=\"sk-label sk-toggleable\"><input class=\"sk-toggleable__control sk-hidden--visually\" id=\"sk-estimator-id-8\" type=\"checkbox\" ><label for=\"sk-estimator-id-8\" class=\"sk-toggleable__label sk-toggleable__label-arrow\">estimator: NeuralNetClassifier</label><div class=\"sk-toggleable__content\"><pre>&lt;class &#x27;skorch.classifier.NeuralNetClassifier&#x27;&gt;[uninitialized](\n",
       "  module=&lt;class &#x27;__main__.ClassifierModule&#x27;&gt;,\n",
       ")</pre></div></div></div><div class=\"sk-serial\"><div class=\"sk-item\"><div class=\"sk-estimator sk-toggleable\"><input class=\"sk-toggleable__control sk-hidden--visually\" id=\"sk-estimator-id-9\" type=\"checkbox\" ><label for=\"sk-estimator-id-9\" class=\"sk-toggleable__label sk-toggleable__label-arrow\">NeuralNetClassifier</label><div class=\"sk-toggleable__content\"><pre>&lt;class &#x27;skorch.classifier.NeuralNetClassifier&#x27;&gt;[uninitialized](\n",
       "  module=&lt;class &#x27;__main__.ClassifierModule&#x27;&gt;,\n",
       ")</pre></div></div></div></div></div></div></div></div></div></div>"
      ],
      "text/plain": [
       "GridSearchCV(cv=3,\n",
       "             estimator=<class 'skorch.classifier.NeuralNetClassifier'>[uninitialized](\n",
       "  module=<class '__main__.ClassifierModule'>,\n",
       "),\n",
       "             param_grid={'lr': [0.05, 0.1], 'module__dropout': [0, 0.5],\n",
       "                         'module__num_units': [10, 20],\n",
       "                         'optimizer__nesterov': [False, True]},\n",
       "             refit=False, scoring='accuracy', verbose=2)"
      ]
     },
     "execution_count": 49,
     "metadata": {},
     "output_type": "execute_result"
    }
   ],
   "source": [
    "gs.fit(X, y)"
   ]
  },
  {
   "cell_type": "code",
   "execution_count": 50,
   "metadata": {},
   "outputs": [
    {
     "name": "stdout",
     "output_type": "stream",
     "text": [
      "0.9099728470985956\n"
     ]
    }
   ],
   "source": [
    "print(gs.best_score_)"
   ]
  },
  {
   "cell_type": "code",
   "execution_count": 51,
   "metadata": {},
   "outputs": [
    {
     "name": "stdout",
     "output_type": "stream",
     "text": [
      "{'lr': 0.05, 'module__dropout': 0, 'module__num_units': 20, 'optimizer__nesterov': False}\n"
     ]
    }
   ],
   "source": [
    "print(gs.best_params_)"
   ]
  },
  {
   "cell_type": "code",
   "execution_count": null,
   "metadata": {},
   "outputs": [],
   "source": []
  }
 ],
 "metadata": {
  "kernelspec": {
   "display_name": "torch",
   "language": "python",
   "name": "python3"
  },
  "language_info": {
   "codemirror_mode": {
    "name": "ipython",
    "version": 3
   },
   "file_extension": ".py",
   "mimetype": "text/x-python",
   "name": "python",
   "nbconvert_exporter": "python",
   "pygments_lexer": "ipython3",
   "version": "3.9.16"
  },
  "orig_nbformat": 4
 },
 "nbformat": 4,
 "nbformat_minor": 2
}
