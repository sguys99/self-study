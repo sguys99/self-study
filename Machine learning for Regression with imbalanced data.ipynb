{
 "cells": [
  {
   "attachments": {},
   "cell_type": "markdown",
   "metadata": {},
   "source": [
    "## Machine Learning for Regression with Imbalanced Data\n",
    "\n",
    "- https://towardsdatascience.com/machine-learning-for-regression-with-imbalanced-data-62629d7ad330"
   ]
  },
  {
   "cell_type": "code",
   "execution_count": 1,
   "metadata": {},
   "outputs": [],
   "source": [
    "\n",
    "import os\n",
    "import sys\n",
    "import time\n",
    "import numpy as np\n",
    "import pandas as pd\n",
    "import matplotlib as mpl\n",
    "import matplotlib.pyplot as plt\n",
    "import matplotlib.gridspec as gridspec\n",
    "import seaborn as sns\n",
    "from scipy import stats\n",
    "import warnings; warnings.filterwarnings('ignore')\n",
    "#plt.style.use('ggplot')\n",
    "%matplotlib inline\n",
    "\n",
    "pd.options.display.max_columns = 999"
   ]
  },
  {
   "cell_type": "markdown",
   "metadata": {},
   "source": [
    "여기서는 불균형이 존재하는 데이터셋에 사분위수 평가를 사용하여 알고리즘의 성능을 정량화하는 방법을 보여주며, 알고리즘의 성능을 개선하기 위한 세 가지 전략을 보여드리고자 합니다."
   ]
  },
  {
   "cell_type": "markdown",
   "metadata": {},
   "source": [
    "### Example dataset for regression: California housing"
   ]
  },
  {
   "cell_type": "code",
   "execution_count": 2,
   "metadata": {},
   "outputs": [],
   "source": [
    "from sklearn import datasets"
   ]
  },
  {
   "cell_type": "code",
   "execution_count": 3,
   "metadata": {},
   "outputs": [],
   "source": [
    "df = pd.DataFrame(datasets.fetch_california_housing(as_frame=True).frame)\n",
    "df = df[df['MedHouseVal'] < 5] # focus on samples with house price < 5M$\n",
    "X = df.iloc[:, :-1]\n",
    "y = df.iloc[:, -1]"
   ]
  },
  {
   "cell_type": "code",
   "execution_count": 4,
   "metadata": {},
   "outputs": [
    {
     "data": {
      "text/html": [
       "<div>\n",
       "<style scoped>\n",
       "    .dataframe tbody tr th:only-of-type {\n",
       "        vertical-align: middle;\n",
       "    }\n",
       "\n",
       "    .dataframe tbody tr th {\n",
       "        vertical-align: top;\n",
       "    }\n",
       "\n",
       "    .dataframe thead th {\n",
       "        text-align: right;\n",
       "    }\n",
       "</style>\n",
       "<table border=\"1\" class=\"dataframe\">\n",
       "  <thead>\n",
       "    <tr style=\"text-align: right;\">\n",
       "      <th></th>\n",
       "      <th>MedInc</th>\n",
       "      <th>HouseAge</th>\n",
       "      <th>AveRooms</th>\n",
       "      <th>AveBedrms</th>\n",
       "      <th>Population</th>\n",
       "      <th>AveOccup</th>\n",
       "      <th>Latitude</th>\n",
       "      <th>Longitude</th>\n",
       "      <th>MedHouseVal</th>\n",
       "    </tr>\n",
       "  </thead>\n",
       "  <tbody>\n",
       "    <tr>\n",
       "      <th>0</th>\n",
       "      <td>8.3252</td>\n",
       "      <td>41.0</td>\n",
       "      <td>6.984127</td>\n",
       "      <td>1.023810</td>\n",
       "      <td>322.0</td>\n",
       "      <td>2.555556</td>\n",
       "      <td>37.88</td>\n",
       "      <td>-122.23</td>\n",
       "      <td>4.526</td>\n",
       "    </tr>\n",
       "    <tr>\n",
       "      <th>1</th>\n",
       "      <td>8.3014</td>\n",
       "      <td>21.0</td>\n",
       "      <td>6.238137</td>\n",
       "      <td>0.971880</td>\n",
       "      <td>2401.0</td>\n",
       "      <td>2.109842</td>\n",
       "      <td>37.86</td>\n",
       "      <td>-122.22</td>\n",
       "      <td>3.585</td>\n",
       "    </tr>\n",
       "    <tr>\n",
       "      <th>2</th>\n",
       "      <td>7.2574</td>\n",
       "      <td>52.0</td>\n",
       "      <td>8.288136</td>\n",
       "      <td>1.073446</td>\n",
       "      <td>496.0</td>\n",
       "      <td>2.802260</td>\n",
       "      <td>37.85</td>\n",
       "      <td>-122.24</td>\n",
       "      <td>3.521</td>\n",
       "    </tr>\n",
       "    <tr>\n",
       "      <th>3</th>\n",
       "      <td>5.6431</td>\n",
       "      <td>52.0</td>\n",
       "      <td>5.817352</td>\n",
       "      <td>1.073059</td>\n",
       "      <td>558.0</td>\n",
       "      <td>2.547945</td>\n",
       "      <td>37.85</td>\n",
       "      <td>-122.25</td>\n",
       "      <td>3.413</td>\n",
       "    </tr>\n",
       "    <tr>\n",
       "      <th>4</th>\n",
       "      <td>3.8462</td>\n",
       "      <td>52.0</td>\n",
       "      <td>6.281853</td>\n",
       "      <td>1.081081</td>\n",
       "      <td>565.0</td>\n",
       "      <td>2.181467</td>\n",
       "      <td>37.85</td>\n",
       "      <td>-122.25</td>\n",
       "      <td>3.422</td>\n",
       "    </tr>\n",
       "  </tbody>\n",
       "</table>\n",
       "</div>"
      ],
      "text/plain": [
       "   MedInc  HouseAge  AveRooms  AveBedrms  Population  AveOccup  Latitude  \\\n",
       "0  8.3252      41.0  6.984127   1.023810       322.0  2.555556     37.88   \n",
       "1  8.3014      21.0  6.238137   0.971880      2401.0  2.109842     37.86   \n",
       "2  7.2574      52.0  8.288136   1.073446       496.0  2.802260     37.85   \n",
       "3  5.6431      52.0  5.817352   1.073059       558.0  2.547945     37.85   \n",
       "4  3.8462      52.0  6.281853   1.081081       565.0  2.181467     37.85   \n",
       "\n",
       "   Longitude  MedHouseVal  \n",
       "0    -122.23        4.526  \n",
       "1    -122.22        3.585  \n",
       "2    -122.24        3.521  \n",
       "3    -122.25        3.413  \n",
       "4    -122.25        3.422  "
      ]
     },
     "execution_count": 4,
     "metadata": {},
     "output_type": "execute_result"
    }
   ],
   "source": [
    "df.head()"
   ]
  },
  {
   "cell_type": "code",
   "execution_count": 5,
   "metadata": {},
   "outputs": [
    {
     "data": {
      "text/plain": [
       "<matplotlib.collections.LineCollection at 0x2985be4d0>"
      ]
     },
     "execution_count": 5,
     "metadata": {},
     "output_type": "execute_result"
    },
    {
     "data": {
      "image/png": "[encoded data removed]",
      "text/plain": [
       "<Figure size 1200x500 with 1 Axes>"
      ]
     },
     "metadata": {},
     "output_type": "display_data"
    }
   ],
   "source": [
    "# Histogram plot\n",
    "plt.figure(figsize=(12, 5))\n",
    "sns.histplot(y)\n",
    "plt.xlabel('Median house value (M$)')\n",
    "plt.ylabel('Data count')\n",
    "plt.vlines(np.mean(y), 0, 1000, color='red')"
   ]
  },
  {
   "cell_type": "markdown",
   "metadata": {},
   "source": [
    "집 가격이 균등하게 분포되어 있지 않다.  \n",
    "평균 값은 1.9이고 std는 0.98이다.  \n",
    "그러나 정규분포를 따르지 않는다.   \n",
    "분포는 skewed 상태이다."
   ]
  },
  {
   "cell_type": "markdown",
   "metadata": {},
   "source": [
    "### Mean squared error loss function"
   ]
  },
  {
   "cell_type": "code",
   "execution_count": 6,
   "metadata": {},
   "outputs": [],
   "source": [
    "import keras\n",
    "from sklearn.preprocessing import StandardScaler\n",
    "from sklearn.model_selection import train_test_split\n",
    "from sklearn.metrics import mean_squared_error"
   ]
  },
  {
   "cell_type": "code",
   "execution_count": 7,
   "metadata": {},
   "outputs": [],
   "source": [
    "X_train, X_test, y_train, y_test = train_test_split(X, y, test_size=0.35, random_state=117)\n",
    "scaler = StandardScaler()\n",
    "\n",
    "X_train = scaler.fit_transform(X_train)\n",
    "X_test = scaler.transform(X_test)"
   ]
  },
  {
   "cell_type": "code",
   "execution_count": 8,
   "metadata": {},
   "outputs": [
    {
     "name": "stderr",
     "output_type": "stream",
     "text": [
      "2023-09-26 16:34:56.835288: I metal_plugin/src/device/metal_device.cc:1154] Metal device set to: Apple M1 Max\n",
      "2023-09-26 16:34:56.835307: I metal_plugin/src/device/metal_device.cc:296] systemMemory: 64.00 GB\n",
      "2023-09-26 16:34:56.835312: I metal_plugin/src/device/metal_device.cc:313] maxCacheSize: 24.00 GB\n",
      "2023-09-26 16:34:56.835347: I tensorflow/core/common_runtime/pluggable_device/pluggable_device_factory.cc:303] Could not identify NUMA node of platform GPU ID 0, defaulting to 0. Your kernel may not have been built with NUMA support.\n",
      "2023-09-26 16:34:56.835362: I tensorflow/core/common_runtime/pluggable_device/pluggable_device_factory.cc:269] Created TensorFlow device (/job:localhost/replica:0/task:0/device:GPU:0 with 0 MB memory) -> physical PluggableDevice (device: 0, name: METAL, pci bus id: <undefined>)\n"
     ]
    }
   ],
   "source": [
    "model = keras.Sequential([keras.Input(shape=(8,)),\n",
    "                          keras.layers.Dense(32, activation='relu'),\n",
    "                          keras.layers.Dense(1)\n",
    "                          ])\n",
    "\n",
    "model.compile(loss=\"mean_squared_error\", optimizer=\"adam\", metrics=[\"mean_squared_error\"])"
   ]
  },
  {
   "cell_type": "code",
   "execution_count": 9,
   "metadata": {},
   "outputs": [
    {
     "name": "stdout",
     "output_type": "stream",
     "text": [
      "Epoch 1/50\n",
      " 13/360 [>.............................] - ETA: 1s - loss: 5.9955 - mean_squared_error: 5.9955  "
     ]
    },
    {
     "name": "stderr",
     "output_type": "stream",
     "text": [
      "2023-09-26 16:34:57.087335: I tensorflow/core/grappler/optimizers/custom_graph_optimizer_registry.cc:114] Plugin optimizer for device_type GPU is enabled.\n"
     ]
    },
    {
     "name": "stdout",
     "output_type": "stream",
     "text": [
      "360/360 [==============================] - 2s 5ms/step - loss: 2.1896 - mean_squared_error: 2.1896 - val_loss: 0.5966 - val_mean_squared_error: 0.5966\n",
      "Epoch 2/50\n",
      " 13/360 [>.............................] - ETA: 1s - loss: 0.6663 - mean_squared_error: 0.6663"
     ]
    },
    {
     "name": "stderr",
     "output_type": "stream",
     "text": [
      "2023-09-26 16:34:58.823354: I tensorflow/core/grappler/optimizers/custom_graph_optimizer_registry.cc:114] Plugin optimizer for device_type GPU is enabled.\n"
     ]
    },
    {
     "name": "stdout",
     "output_type": "stream",
     "text": [
      "360/360 [==============================] - 2s 5ms/step - loss: 0.9231 - mean_squared_error: 0.9231 - val_loss: 0.4485 - val_mean_squared_error: 0.4485\n",
      "Epoch 3/50\n",
      "360/360 [==============================] - 2s 4ms/step - loss: 0.9472 - mean_squared_error: 0.9472 - val_loss: 0.3991 - val_mean_squared_error: 0.3991\n",
      "Epoch 4/50\n",
      "360/360 [==============================] - 2s 5ms/step - loss: 0.9097 - mean_squared_error: 0.9097 - val_loss: 0.3896 - val_mean_squared_error: 0.3896\n",
      "Epoch 5/50\n",
      "360/360 [==============================] - 2s 5ms/step - loss: 0.8052 - mean_squared_error: 0.8052 - val_loss: 0.3921 - val_mean_squared_error: 0.3921\n",
      "Epoch 6/50\n",
      "360/360 [==============================] - 2s 4ms/step - loss: 0.8696 - mean_squared_error: 0.8696 - val_loss: 0.4047 - val_mean_squared_error: 0.4047\n",
      "Epoch 7/50\n",
      "360/360 [==============================] - 2s 4ms/step - loss: 0.5760 - mean_squared_error: 0.5760 - val_loss: 0.3971 - val_mean_squared_error: 0.3971\n",
      "Epoch 8/50\n",
      "360/360 [==============================] - 2s 4ms/step - loss: 0.7014 - mean_squared_error: 0.7014 - val_loss: 0.4103 - val_mean_squared_error: 0.4103\n"
     ]
    },
    {
     "data": {
      "text/plain": [
       "<keras.src.callbacks.History at 0x2aacfc5e0>"
      ]
     },
     "execution_count": 9,
     "metadata": {},
     "output_type": "execute_result"
    }
   ],
   "source": [
    "model.fit(X_train, y_train, batch_size=32, epochs=50, validation_split=0.1, \n",
    "          callbacks=keras.callbacks.EarlyStopping(monitor='val_loss', patience=4))"
   ]
  },
  {
   "cell_type": "markdown",
   "metadata": {},
   "source": [
    "### Evaluation using quantiles of the target variable"
   ]
  },
  {
   "cell_type": "markdown",
   "metadata": {},
   "source": [
    "학습데이터에 대한 loss 0.5551, 시험 데이터에 대한 loss 0.4045 정도가 나왔다."
   ]
  },
  {
   "cell_type": "markdown",
   "metadata": {},
   "source": [
    "타겟 변수를 1M 가격 범위에 해당하는 구간으로 나누고 각 구간내 샘플에 대한 MSE를 계산해본다."
   ]
  },
  {
   "cell_type": "code",
   "execution_count": 10,
   "metadata": {},
   "outputs": [
    {
     "name": "stdout",
     "output_type": "stream",
     "text": [
      "109/215 [==============>...............] - ETA: 0s"
     ]
    },
    {
     "name": "stderr",
     "output_type": "stream",
     "text": [
      "2023-09-26 16:35:10.324245: I tensorflow/core/grappler/optimizers/custom_graph_optimizer_registry.cc:114] Plugin optimizer for device_type GPU is enabled.\n"
     ]
    },
    {
     "name": "stdout",
     "output_type": "stream",
     "text": [
      "215/215 [==============================] - 0s 1ms/step\n"
     ]
    }
   ],
   "source": [
    "y_pred = model.predict(X_test)\n",
    "\n",
    "bins = np.arange(0, 5, 1)\n",
    "ix = np.digitize(y_test, bins=bins)"
   ]
  },
  {
   "cell_type": "code",
   "execution_count": 11,
   "metadata": {},
   "outputs": [
    {
     "data": {
      "text/plain": [
       "array([0, 1, 2, 3, 4])"
      ]
     },
     "execution_count": 11,
     "metadata": {},
     "output_type": "execute_result"
    }
   ],
   "source": [
    "bins"
   ]
  },
  {
   "cell_type": "code",
   "execution_count": 12,
   "metadata": {},
   "outputs": [
    {
     "data": {
      "text/plain": [
       "array([4, 2, 3, ..., 3, 4, 1])"
      ]
     },
     "execution_count": 12,
     "metadata": {},
     "output_type": "execute_result"
    }
   ],
   "source": [
    "ix"
   ]
  },
  {
   "cell_type": "code",
   "execution_count": 13,
   "metadata": {},
   "outputs": [
    {
     "data": {
      "text/plain": [
       "6877"
      ]
     },
     "execution_count": 13,
     "metadata": {},
     "output_type": "execute_result"
    }
   ],
   "source": [
    "len(ix)"
   ]
  },
  {
   "cell_type": "code",
   "execution_count": 14,
   "metadata": {},
   "outputs": [
    {
     "data": {
      "text/plain": [
       "(6877,)"
      ]
     },
     "execution_count": 14,
     "metadata": {},
     "output_type": "execute_result"
    }
   ],
   "source": [
    "y_test.shape"
   ]
  },
  {
   "cell_type": "code",
   "execution_count": 15,
   "metadata": {},
   "outputs": [
    {
     "data": {
      "text/plain": [
       "[Text(0, 0, '< 1'),\n",
       " Text(1, 0, '1-2'),\n",
       " Text(2, 0, '2-3'),\n",
       " Text(3, 0, '3-4'),\n",
       " Text(4, 0, '4-5')]"
      ]
     },
     "execution_count": 15,
     "metadata": {},
     "output_type": "execute_result"
    },
    {
     "data": {
      "image/png": "[encoded data removed]",
      "text/plain": [
       "<Figure size 640x480 with 1 Axes>"
      ]
     },
     "metadata": {},
     "output_type": "display_data"
    }
   ],
   "source": [
    "cats = []\n",
    "scores = []\n",
    "\n",
    "# calculate the associated MSE per bin\n",
    "for ii in np.unique(ix):\n",
    "    cond = ix == ii\n",
    "    cats.append(ii)\n",
    "    scores.append(mean_squared_error(y_test[cond], y_pred[cond]))\n",
    "    \n",
    "df_mse = pd.DataFrame(dict(bins=bins, mse=scores))\n",
    "\n",
    "sns.barplot(data=df_mse, x='bins', y='mse')\n",
    "ax=plt.gca()\n",
    "ax.set_xlabel('Median house value (M$)')\n",
    "ax.set_ylabel('Mean squared error')\n",
    "ax.set_xticks([0, 1, 2, 3, 4])\n",
    "ax.set_xticklabels(['< 1', '1-2', '2-3', '3-4', '4-5'])"
   ]
  },
  {
   "cell_type": "markdown",
   "metadata": {},
   "source": [
    "- 위 그림에서 보는 바와 같이 ML 모델은 타겟의 평균에 가까운 샘플에서 우수한 성능을 보인다.  \n",
    "- 4백만 달러를 초과하는 구간에서는 오차가 크게 발생한다."
   ]
  },
  {
   "cell_type": "markdown",
   "metadata": {},
   "source": [
    "quantile evaluation은 ML이 데이터 셋의 여러 영역에서 어떻게 수행되었는지 살펴볼 수 있는 좋은 방법입니다.  이 빠른 분석은 실험 설정의 문제를 직접적으로 지적할 수 있으며, 전체 데이터 세트의 평균 성능 메트릭만 보고하기 전에 항상 이를 고려해야 합니다."
   ]
  },
  {
   "cell_type": "markdown",
   "metadata": {},
   "source": [
    "### Why does the model struggle to predict high house prices?  \n",
    "Shortcut learning"
   ]
  },
  {
   "cell_type": "markdown",
   "metadata": {},
   "source": [
    "모델은 대부분의 샘플에서 좋은 예측을 보였다.  \n",
    "다만 400만달러를 초과하는 주택은 학습 데이터의 4% 정도밖에 안되기 때문에 모델이 예측에 우선순위를 두지 않는다.   \n",
    "\n",
    "머신러닝 모들은 숏컷러닝에 빠지기 쉽다"
   ]
  },
  {
   "cell_type": "markdown",
   "metadata": {},
   "source": [
    "숏컷은 표준 벤치마크에서는 잘 동작하지만 실제 시나리오 같이 더 까다로운 테스트 조건에서는 잘 동작하지 못하는 의사결정 규칙이다.   \n",
    "비교 심리학, 교육학, 언어학에서는 지름길 학습이 생물학적, 인공적인 학습 시스템의 공통적인 특징일 수 있다는 점을 시사하는 관련 이슈가 알려져 있습니다."
   ]
  },
  {
   "cell_type": "markdown",
   "metadata": {},
   "source": [
    "Asking the right questions"
   ]
  },
  {
   "cell_type": "markdown",
   "metadata": {},
   "source": [
    "따라서 주로 가치 있는 주택의 가격을을 추정하는 데 관심이 있는 **고급 부동산 중개인**을 위한 알고리즘을 개발 중이라고 가정해 보겠습니다.   \n",
    "이 고객의 경우 현재 알고리즘은 관심 있는 주택의 종류에 대해 성능이 좋지 않기 때문에 원하는 예측력을 제공하지 못할 것입니다."
   ]
  },
  {
   "cell_type": "markdown",
   "metadata": {},
   "source": [
    "### Working with imbalanced data"
   ]
  },
  {
   "cell_type": "markdown",
   "metadata": {},
   "source": [
    "Strategy 1: Increase the batch size"
   ]
  },
  {
   "cell_type": "markdown",
   "metadata": {},
   "source": [
    "배치 크기를 늘리면 훈련 중에 표시되는 모든 배치에 대표성이 부족한 그룹의 샘플이 포함될 가능성이 높아집니다. 배치 크기를 512로 설정하고 모델 훈련을 반복합니다."
   ]
  },
  {
   "cell_type": "markdown",
   "metadata": {},
   "source": [
    "Strategy 2: Introduce weights in the loss function"
   ]
  },
  {
   "cell_type": "markdown",
   "metadata": {},
   "source": [
    "여기서는 머신 러닝 알고리즘이 학습 중에 잘 드러나지 않는 샘플에 집중하도록 요청합니다. 이러한 샘플은 더 높은 가중치와 연관됩니다. 가중치는 직접 계산하여 Keras의 model.fit(..., sample_weights=...) 함수에 전달할 수 있습니다."
   ]
  },
  {
   "cell_type": "markdown",
   "metadata": {},
   "source": [
    "가중치 계산은 다음과 같이 진행한다.\n",
    "\n",
    "- 빈당 샘플 발생 횟수 계산\n",
    "- 총 샘플 수로 나누면 주어진 빈에 대한 샘플의 빈도를 얻을 수 있습니다.\n",
    "- 이 값의 역은 관련 가중치입니다."
   ]
  },
  {
   "cell_type": "code",
   "execution_count": 16,
   "metadata": {},
   "outputs": [],
   "source": [
    "weights = np.zeros(len(y_train))\n",
    "train_ix = np.digitize(y_train, bins=bins)\n",
    "\n",
    "for ii in np.unique(train_ix):\n",
    "    cond = train_ix == ii\n",
    "    weights[cond] = 1 / (np.sum(cond) / len(cond))\n",
    "    \n",
    "# normalize weights to 1\n",
    "weights /= np.sum(weights)"
   ]
  },
  {
   "cell_type": "code",
   "execution_count": 17,
   "metadata": {},
   "outputs": [
    {
     "data": {
      "text/plain": [
       "array([3.74601985e-05, 1.46735143e-04, 3.74601985e-05, ...,\n",
       "       3.74601985e-05, 6.25782228e-05, 1.46735143e-04])"
      ]
     },
     "execution_count": 17,
     "metadata": {},
     "output_type": "execute_result"
    }
   ],
   "source": [
    "weights"
   ]
  },
  {
   "cell_type": "code",
   "execution_count": 18,
   "metadata": {},
   "outputs": [
    {
     "name": "stdout",
     "output_type": "stream",
     "text": [
      "Epoch 1/50\n"
     ]
    },
    {
     "name": "stdout",
     "output_type": "stream",
     "text": [
      " 10/360 [..............................] - ETA: 1s - loss: 6.7168e-04 - mean_squared_error: 5.0870 - weighted_mean_squared_error: 8.1750   "
     ]
    },
    {
     "name": "stderr",
     "output_type": "stream",
     "text": [
      "2023-09-26 16:35:10.972172: I tensorflow/core/grappler/optimizers/custom_graph_optimizer_registry.cc:114] Plugin optimizer for device_type GPU is enabled.\n"
     ]
    },
    {
     "name": "stdout",
     "output_type": "stream",
     "text": [
      "360/360 [==============================] - 2s 6ms/step - loss: 2.3892e-04 - mean_squared_error: 1.8194 - weighted_mean_squared_error: 3.0618 - val_loss: 8.0301e-05 - val_mean_squared_error: 0.5298 - val_weighted_mean_squared_error: 0.9945\n",
      "Epoch 2/50\n"
     ]
    },
    {
     "name": "stderr",
     "output_type": "stream",
     "text": [
      "2023-09-26 16:35:13.094139: I tensorflow/core/grappler/optimizers/custom_graph_optimizer_registry.cc:114] Plugin optimizer for device_type GPU is enabled.\n"
     ]
    },
    {
     "name": "stdout",
     "output_type": "stream",
     "text": [
      "360/360 [==============================] - 2s 6ms/step - loss: 1.0239e-04 - mean_squared_error: 1.2571 - weighted_mean_squared_error: 1.3122 - val_loss: 6.0762e-05 - val_mean_squared_error: 0.4995 - val_weighted_mean_squared_error: 0.7525\n",
      "Epoch 3/50\n",
      "360/360 [==============================] - 2s 6ms/step - loss: 1.0553e-04 - mean_squared_error: 1.3742 - weighted_mean_squared_error: 1.3524 - val_loss: 5.5703e-05 - val_mean_squared_error: 0.4752 - val_weighted_mean_squared_error: 0.6899\n",
      "Epoch 4/50\n",
      "360/360 [==============================] - 2s 6ms/step - loss: 1.0421e-04 - mean_squared_error: 1.3903 - weighted_mean_squared_error: 1.3356 - val_loss: 5.2281e-05 - val_mean_squared_error: 0.4614 - val_weighted_mean_squared_error: 0.6475\n",
      "Epoch 5/50\n",
      "360/360 [==============================] - 2s 6ms/step - loss: 1.2107e-04 - mean_squared_error: 1.9311 - weighted_mean_squared_error: 1.5516 - val_loss: 5.2857e-05 - val_mean_squared_error: 0.5040 - val_weighted_mean_squared_error: 0.6546\n",
      "Epoch 6/50\n",
      "360/360 [==============================] - 2s 6ms/step - loss: 8.8450e-05 - mean_squared_error: 1.2866 - weighted_mean_squared_error: 1.1335 - val_loss: 5.2417e-05 - val_mean_squared_error: 0.4634 - val_weighted_mean_squared_error: 0.6492\n",
      "Epoch 7/50\n",
      "360/360 [==============================] - 2s 6ms/step - loss: 8.6953e-05 - mean_squared_error: 1.1769 - weighted_mean_squared_error: 1.1143 - val_loss: 5.2097e-05 - val_mean_squared_error: 0.4877 - val_weighted_mean_squared_error: 0.6452\n",
      "Epoch 8/50\n",
      "360/360 [==============================] - 2s 6ms/step - loss: 6.9350e-05 - mean_squared_error: 0.8499 - weighted_mean_squared_error: 0.8887 - val_loss: 5.3013e-05 - val_mean_squared_error: 0.5279 - val_weighted_mean_squared_error: 0.6566\n",
      "Epoch 9/50\n",
      "360/360 [==============================] - 2s 6ms/step - loss: 6.4530e-05 - mean_squared_error: 0.7159 - weighted_mean_squared_error: 0.8270 - val_loss: 5.3459e-05 - val_mean_squared_error: 0.5129 - val_weighted_mean_squared_error: 0.6621\n",
      "Epoch 10/50\n",
      "360/360 [==============================] - 2s 6ms/step - loss: 5.6251e-05 - mean_squared_error: 0.6166 - weighted_mean_squared_error: 0.7209 - val_loss: 5.4410e-05 - val_mean_squared_error: 0.5061 - val_weighted_mean_squared_error: 0.6739\n",
      "Epoch 11/50\n",
      "360/360 [==============================] - 2s 6ms/step - loss: 5.6122e-05 - mean_squared_error: 0.5892 - weighted_mean_squared_error: 0.7192 - val_loss: 5.5859e-05 - val_mean_squared_error: 0.5434 - val_weighted_mean_squared_error: 0.6918\n"
     ]
    },
    {
     "data": {
      "text/plain": [
       "<keras.src.callbacks.History at 0x2ad548280>"
      ]
     },
     "execution_count": 18,
     "metadata": {},
     "output_type": "execute_result"
    }
   ],
   "source": [
    "model = keras.Sequential([keras.Input(shape=(8,)), \n",
    "                          keras.layers.Dense(32, activation='relu'), keras.layers.Dense(1)])\n",
    "model.compile(loss=\"mean_squared_error\", optimizer=\"adam\", \n",
    "              metrics=[\"mean_squared_error\"], weighted_metrics=[\"mean_squared_error\"])\n",
    "model.fit(X_train, y_train, sample_weight=weights, batch_size=32, epochs=50, validation_split=0.1, \n",
    "          callbacks=keras.callbacks.EarlyStopping(monitor='val_weighted_mean_squared_error', patience=4))"
   ]
  },
  {
   "cell_type": "code",
   "execution_count": 19,
   "metadata": {},
   "outputs": [
    {
     "name": "stdout",
     "output_type": "stream",
     "text": [
      " 94/215 [============>.................] - ETA: 0s"
     ]
    },
    {
     "name": "stderr",
     "output_type": "stream",
     "text": [
      "2023-09-26 16:35:34.735211: I tensorflow/core/grappler/optimizers/custom_graph_optimizer_registry.cc:114] Plugin optimizer for device_type GPU is enabled.\n"
     ]
    },
    {
     "name": "stdout",
     "output_type": "stream",
     "text": [
      "215/215 [==============================] - 0s 2ms/step\n"
     ]
    },
    {
     "data": {
      "text/plain": [
       "[Text(0, 0, '< 1'),\n",
       " Text(1, 0, '1-2'),\n",
       " Text(2, 0, '2-3'),\n",
       " Text(3, 0, '3-4'),\n",
       " Text(4, 0, '4-5')]"
      ]
     },
     "execution_count": 19,
     "metadata": {},
     "output_type": "execute_result"
    },
    {
     "data": {
      "image/png": "[encoded data removed]",
      "text/plain": [
       "<Figure size 640x480 with 1 Axes>"
      ]
     },
     "metadata": {},
     "output_type": "display_data"
    }
   ],
   "source": [
    "y_pred = model.predict(X_test)\n",
    "\n",
    "bins = np.arange(0, 5, 1)\n",
    "ix = np.digitize(y_test, bins=bins)\n",
    "\n",
    "cats = []\n",
    "scores = []\n",
    "\n",
    "# calculate the associated MSE per bin\n",
    "for ii in np.unique(ix):\n",
    "    cond = ix == ii\n",
    "    cats.append(ii)\n",
    "    scores.append(mean_squared_error(y_test[cond], y_pred[cond]))\n",
    "    \n",
    "df_mse = pd.DataFrame(dict(bins=bins, mse=scores))\n",
    "\n",
    "sns.barplot(data=df_mse, x='bins', y='mse')\n",
    "ax=plt.gca()\n",
    "ax.set_xlabel('Median house value (M$)')\n",
    "ax.set_ylabel('Mean squared error')\n",
    "ax.set_xticks([0, 1, 2, 3, 4])\n",
    "ax.set_xticklabels(['< 1', '1-2', '2-3', '3-4', '4-5'])"
   ]
  },
  {
   "cell_type": "markdown",
   "metadata": {},
   "source": [
    "Strategy 3: Cast target values to normal distribution"
   ]
  },
  {
   "cell_type": "markdown",
   "metadata": {},
   "source": [
    "타겟 변수가 정규 분포를 따르도록 변환합니다.  \n",
    "정규 분포는 MSE 손실에 가장 적합하며 이상값의 특성을 줄여줍니다.  \n",
    "중요 - 평가하기 전에 예측 값의 스케일을 다시 조정하는 것을 잊지 마세요!"
   ]
  },
  {
   "cell_type": "code",
   "execution_count": 20,
   "metadata": {},
   "outputs": [],
   "source": [
    "yscaler = StandardScaler()\n",
    "y_train = yscaler.fit_transform(y_train.values.reshape(-1, 1)).squeeze()"
   ]
  },
  {
   "cell_type": "code",
   "execution_count": 21,
   "metadata": {},
   "outputs": [
    {
     "name": "stdout",
     "output_type": "stream",
     "text": [
      "Epoch 1/50\n",
      " 25/360 [=>............................] - ETA: 1s - loss: 1.5319 - mean_squared_error: 1.5319"
     ]
    },
    {
     "name": "stderr",
     "output_type": "stream",
     "text": [
      "2023-09-26 16:35:35.373336: I tensorflow/core/grappler/optimizers/custom_graph_optimizer_registry.cc:114] Plugin optimizer for device_type GPU is enabled.\n"
     ]
    },
    {
     "name": "stdout",
     "output_type": "stream",
     "text": [
      "360/360 [==============================] - 2s 5ms/step - loss: 1.0005 - mean_squared_error: 1.0005 - val_loss: 0.4569 - val_mean_squared_error: 0.4569\n",
      "Epoch 2/50\n",
      " 12/360 [>.............................] - ETA: 1s - loss: 0.3479 - mean_squared_error: 0.3479"
     ]
    },
    {
     "name": "stderr",
     "output_type": "stream",
     "text": [
      "2023-09-26 16:35:37.266202: I tensorflow/core/grappler/optimizers/custom_graph_optimizer_registry.cc:114] Plugin optimizer for device_type GPU is enabled.\n"
     ]
    },
    {
     "name": "stdout",
     "output_type": "stream",
     "text": [
      "360/360 [==============================] - 2s 5ms/step - loss: 0.9524 - mean_squared_error: 0.9524 - val_loss: 0.4246 - val_mean_squared_error: 0.4246\n",
      "Epoch 3/50\n",
      "360/360 [==============================] - 2s 5ms/step - loss: 0.7725 - mean_squared_error: 0.7725 - val_loss: 0.4184 - val_mean_squared_error: 0.4184\n",
      "Epoch 4/50\n",
      "360/360 [==============================] - 2s 5ms/step - loss: 0.7911 - mean_squared_error: 0.7911 - val_loss: 0.4499 - val_mean_squared_error: 0.4499\n",
      "Epoch 5/50\n",
      "360/360 [==============================] - 2s 5ms/step - loss: 0.6096 - mean_squared_error: 0.6096 - val_loss: 0.4399 - val_mean_squared_error: 0.4399\n",
      "Epoch 6/50\n",
      "360/360 [==============================] - 2s 5ms/step - loss: 0.4809 - mean_squared_error: 0.4809 - val_loss: 0.4258 - val_mean_squared_error: 0.4258\n",
      "Epoch 7/50\n",
      "360/360 [==============================] - 2s 5ms/step - loss: 0.4803 - mean_squared_error: 0.4803 - val_loss: 0.4310 - val_mean_squared_error: 0.4310\n"
     ]
    },
    {
     "data": {
      "text/plain": [
       "<keras.src.callbacks.History at 0x2ad81bfa0>"
      ]
     },
     "execution_count": 21,
     "metadata": {},
     "output_type": "execute_result"
    }
   ],
   "source": [
    "model = keras.Sequential([keras.Input(shape=(8,)),\n",
    "                          keras.layers.Dense(32, activation='relu'),\n",
    "                          keras.layers.Dense(1)\n",
    "                          ])\n",
    "\n",
    "model.compile(loss=\"mean_squared_error\", optimizer=\"adam\", metrics=[\"mean_squared_error\"])\n",
    "model.fit(X_train, y_train, batch_size=32, epochs=50, validation_split=0.1, \n",
    "          callbacks=keras.callbacks.EarlyStopping(monitor='val_loss', patience=4))"
   ]
  },
  {
   "cell_type": "code",
   "execution_count": 22,
   "metadata": {},
   "outputs": [
    {
     "name": "stdout",
     "output_type": "stream",
     "text": [
      "121/215 [===============>..............] - ETA: 0s"
     ]
    },
    {
     "name": "stderr",
     "output_type": "stream",
     "text": [
      "2023-09-26 16:35:48.117973: I tensorflow/core/grappler/optimizers/custom_graph_optimizer_registry.cc:114] Plugin optimizer for device_type GPU is enabled.\n"
     ]
    },
    {
     "name": "stdout",
     "output_type": "stream",
     "text": [
      "215/215 [==============================] - 0s 1ms/step\n"
     ]
    }
   ],
   "source": [
    "y_pred = model.predict(X_test)\n",
    "y_pred = yscaler.inverse_transform(y_pred.reshape(-1, 1)).squeeze()"
   ]
  },
  {
   "cell_type": "code",
   "execution_count": 23,
   "metadata": {},
   "outputs": [
    {
     "data": {
      "text/plain": [
       "[Text(0, 0, '< 1'),\n",
       " Text(1, 0, '1-2'),\n",
       " Text(2, 0, '2-3'),\n",
       " Text(3, 0, '3-4'),\n",
       " Text(4, 0, '4-5')]"
      ]
     },
     "execution_count": 23,
     "metadata": {},
     "output_type": "execute_result"
    },
    {
     "data": {
      "image/png": "[encoded data removed]",
      "text/plain": [
       "<Figure size 640x480 with 1 Axes>"
      ]
     },
     "metadata": {},
     "output_type": "display_data"
    }
   ],
   "source": [
    "bins = np.arange(0, 5, 1)\n",
    "ix = np.digitize(y_test, bins=bins)\n",
    "\n",
    "cats = []\n",
    "scores = []\n",
    "\n",
    "# calculate the associated MSE per bin\n",
    "for ii in np.unique(ix):\n",
    "    cond = ix == ii\n",
    "    cats.append(ii)\n",
    "    scores.append(mean_squared_error(y_test[cond], y_pred[cond]))\n",
    "    \n",
    "df_mse = pd.DataFrame(dict(bins=bins, mse=scores))\n",
    "\n",
    "sns.barplot(data=df_mse, x='bins', y='mse')\n",
    "ax=plt.gca()\n",
    "ax.set_xlabel('Median house value (M$)')\n",
    "ax.set_ylabel('Mean squared error')\n",
    "ax.set_xticks([0, 1, 2, 3, 4])\n",
    "ax.set_xticklabels(['< 1', '1-2', '2-3', '3-4', '4-5'])"
   ]
  },
  {
   "cell_type": "markdown",
   "metadata": {},
   "source": [
    "### Evaluation"
   ]
  },
  {
   "cell_type": "markdown",
   "metadata": {},
   "source": [
    "Which strategy performed best?"
   ]
  },
  {
   "cell_type": "markdown",
   "metadata": {},
   "source": [
    "이제 세 가지 전략을 비교할 차례입니다.   \n",
    "아래 그림에 요약된 대로 각 전략의 목표 변수 구간당 평균 제곱 오차를 추적했습니다.   \n",
    "가장 높은 구간에만 집중할 경우 가중치 손실이 가장 좋은 성능을 보였습니다.   \n",
    "평균 주택 가격에서는 알고리즘 성능이 떨어지지만, 가장 관심 있는 지역의 경우 예측력이 향상됩니다.   \n",
    "배치 크기를 늘리고 대상 변수를 확장하는 다른 두 가지 전략은 최고 구간에서 평균 제곱 오차를 증가시키기도 합니다.   \n",
    "따라서 이 방법들은 문제 해결에 도움이 되지 않는 것으로 입증되었습니다."
   ]
  },
  {
   "cell_type": "markdown",
   "metadata": {},
   "source": [
    "따라서 **고급 부동산 중개인**에게 가중치를 사용하여 데이터 세트에서 과소 대표되는 샘플을 강조하는 머신 러닝 알고리즘을 추천할 수 있습니다.   \n",
    "그러나 머신 러닝은 경험적 과학이며, 다른 데이터 세트의 경우 불균형한 데이터 세트 문제에 대한 다른 해결책을 찾을 수 있습니다."
   ]
  },
  {
   "cell_type": "markdown",
   "metadata": {},
   "source": [
    "![Alt text](image.png)"
   ]
  },
  {
   "cell_type": "markdown",
   "metadata": {},
   "source": []
  }
 ],
 "metadata": {
  "kernelspec": {
   "display_name": "base",
   "language": "python",
   "name": "python3"
  },
  "language_info": {
   "codemirror_mode": {
    "name": "ipython",
    "version": 3
   },
   "file_extension": ".py",
   "mimetype": "text/x-python",
   "name": "python",
   "nbconvert_exporter": "python",
   "pygments_lexer": "ipython3",
   "version": "3.10.8"
  },
  "orig_nbformat": 4
 },
 "nbformat": 4,
 "nbformat_minor": 2
}
