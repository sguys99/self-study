{
 "cells": [
  {
   "cell_type": "markdown",
   "id": "5e5f897c",
   "metadata": {},
   "source": [
    "## 9. Time Series Forecasting-Ensemble Learning"
   ]
  },
  {
   "cell_type": "markdown",
   "id": "ef5b4ffc",
   "metadata": {},
   "source": [
    "- https://towardsdatascience.com/time-series-forecasting-ensemble-learning-df5fcbb48581"
   ]
  },
  {
   "cell_type": "code",
   "execution_count": 1,
   "id": "feeadc26",
   "metadata": {},
   "outputs": [],
   "source": [
    "import numpy as np\n",
    "import pandas as pd\n",
    "import matplotlib as mpl\n",
    "import matplotlib.pyplot as plt\n",
    "import seaborn as sns\n",
    "import scipy as sp\n",
    "import datetime\n",
    "import missingno as msno\n",
    "import warnings; warnings.filterwarnings('ignore')\n",
    "plt.style.use('ggplot')\n",
    "%matplotlib inline\n",
    "\n",
    "# Options for pandas\n",
    "pd.options.display.max_columns = 150"
   ]
  },
  {
   "cell_type": "code",
   "execution_count": 2,
   "id": "ae138705",
   "metadata": {},
   "outputs": [],
   "source": [
    "import lightgbm as lgb\n",
    "import sklearn\n",
    "from statsmodels.tsa.arima.model import ARIMA"
   ]
  },
  {
   "cell_type": "code",
   "execution_count": 3,
   "id": "c1a6148a",
   "metadata": {},
   "outputs": [],
   "source": [
    "buildings = pd.read_csv('data/ashrae-energy-prediction/building_metadata.csv')\n",
    "df = pd.read_csv('data/ashrae-energy-prediction/train.csv')\n",
    "\n",
    "df['timestamp'] = pd.to_datetime(df['timestamp'])\n",
    "df = df[df['meter'] ==3].reset_index(drop = True) # 3, hotwater 만 추출"
   ]
  },
  {
   "cell_type": "code",
   "execution_count": 4,
   "id": "36160ce6",
   "metadata": {},
   "outputs": [
    {
     "data": {
      "text/plain": [
       "Education                        549\n",
       "Office                           279\n",
       "Entertainment/public assembly    184\n",
       "Public services                  156\n",
       "Lodging/residential              147\n",
       "Other                             25\n",
       "Healthcare                        23\n",
       "Parking                           22\n",
       "Warehouse/storage                 13\n",
       "Manufacturing/industrial          12\n",
       "Retail                            11\n",
       "Services                          10\n",
       "Technology/science                 6\n",
       "Food sales and service             5\n",
       "Utility                            4\n",
       "Religious worship                  3\n",
       "Name: primary_use, dtype: int64"
      ]
     },
     "execution_count": 4,
     "metadata": {},
     "output_type": "execute_result"
    }
   ],
   "source": [
    "buildings['primary_use'].value_counts()"
   ]
  },
  {
   "cell_type": "code",
   "execution_count": null,
   "id": "1d865c6d",
   "metadata": {},
   "outputs": [],
   "source": []
  },
  {
   "cell_type": "code",
   "execution_count": null,
   "id": "2e900003",
   "metadata": {},
   "outputs": [],
   "source": []
  },
  {
   "cell_type": "code",
   "execution_count": null,
   "id": "90f37a75",
   "metadata": {},
   "outputs": [],
   "source": []
  },
  {
   "cell_type": "code",
   "execution_count": null,
   "id": "75f58023",
   "metadata": {},
   "outputs": [],
   "source": []
  },
  {
   "cell_type": "code",
   "execution_count": null,
   "id": "2cf34fe0",
   "metadata": {},
   "outputs": [],
   "source": []
  }
 ],
 "metadata": {
  "kernelspec": {
   "display_name": "Python 3 (ipykernel)",
   "language": "python",
   "name": "python3"
  },
  "language_info": {
   "codemirror_mode": {
    "name": "ipython",
    "version": 3
   },
   "file_extension": ".py",
   "mimetype": "text/x-python",
   "name": "python",
   "nbconvert_exporter": "python",
   "pygments_lexer": "ipython3",
   "version": "3.9.12"
  }
 },
 "nbformat": 4,
 "nbformat_minor": 5
}
