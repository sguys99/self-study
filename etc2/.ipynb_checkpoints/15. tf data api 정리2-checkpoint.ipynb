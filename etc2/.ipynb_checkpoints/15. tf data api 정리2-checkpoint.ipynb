{
 "cells": [
  {
   "cell_type": "markdown",
   "id": "5e5f897c",
   "metadata": {},
   "source": [
    "## 14. tf data api 정리"
   ]
  },
  {
   "cell_type": "markdown",
   "id": "ef5b4ffc",
   "metadata": {},
   "source": [
    "- https://m.blog.naver.com/euue717/222086046496"
   ]
  },
  {
   "cell_type": "code",
   "execution_count": 1,
   "id": "feeadc26",
   "metadata": {},
   "outputs": [],
   "source": [
    "import os\n",
    "import numpy as np\n",
    "import pandas as pd\n",
    "import matplotlib as mpl\n",
    "import matplotlib.pyplot as plt\n",
    "import seaborn as sns\n",
    "import scipy as sp\n",
    "import datetime\n",
    "import warnings; warnings.filterwarnings('ignore')\n",
    "plt.style.use('ggplot')\n",
    "%matplotlib inline\n",
    "\n",
    "# Options for pandas\n",
    "pd.options.display.max_columns = 150"
   ]
  },
  {
   "cell_type": "code",
   "execution_count": 2,
   "id": "1d865c6d",
   "metadata": {},
   "outputs": [],
   "source": [
    "import tensorflow as tf\n",
    "import tensorflow.keras as keras # 케라스 쓸때 반드시 이것 추가... 주의https://stackoverflow.com/questions/72409779/modulenotfounderror-no-module-named-tensorflow-keras-i-tried-almost-everyth"
   ]
  },
  {
   "cell_type": "markdown",
   "id": "9287bfef",
   "metadata": {},
   "source": [
    "- tf.data는 데이터 입력 파이프 라인 빌드를 위한 텐서플로우의 서브패키지, 혹은 다른 말로 API이다. 로컬 파일이나 메모리에 올려져 있는 데이터를 모델에 집어넣기 적합한 텐서로 변환하는 작업을 한다.    \n",
    "- 하위 tf.data.dataset 은 tf.data의 추상 클래스로써 데이터의 병렬 처리가 용이한 형태, 즉 GPU가 연산이 끝나면 다음 데이터를 바로바로 가져다가(Pre-Fetch) 빠르게 처리할 수 있도록 고안되었다.  \n",
    "- Numpy나 Pandas, 혹은 Tensorflow 2.0 부터된 아예 통합된 Keras 등 모델에 집어넣기 위해 데이터 전처리(Pre-Processing) 용도로 자주 쓰이고 그만큼 유명한 여러 모듈들이 있다. 하지만 텐서플로우에서 제공하는 tf.data.dataset 클래스가 성능적으로는 가장 최적화되어 있다고 볼 수 있다. 원래는 텐서플로우에서 제공하는 클래스는 아니고 Contributor가 제공한 것이지만, 1.8인가서부터는 공식적으로 제공되고 있다."
   ]
  },
  {
   "cell_type": "markdown",
   "id": "ea0736f9",
   "metadata": {},
   "source": [
    "### 사용법"
   ]
  },
  {
   "cell_type": "markdown",
   "id": "f66fbdf8",
   "metadata": {},
   "source": [
    "설계한 모델에 데이터를 집어넣기 위해서는 메모리나 로컬에 존재하는 배열이나 리스트 같은 데이터를 tf.data.Dataset 객체로 변환해야한다. 머신 러닝에서 흔히 쓰이는 일련된 데이터 묶음인 CSV(엑셀에서 흔히 쓴다), Numpy 배열 혹은 이미지나 오디오 데이터를 소스로 Dataset를 생성하면 된다."
   ]
  },
  {
   "cell_type": "code",
   "execution_count": 9,
   "id": "339028e8",
   "metadata": {},
   "outputs": [],
   "source": [
    "def printDs(ds, take=5):\n",
    "    for ex in ds.take(take):\n",
    "        print(ex)"
   ]
  },
  {
   "cell_type": "markdown",
   "id": "2d7c5fdc",
   "metadata": {},
   "source": [
    "1) from_tensors"
   ]
  },
  {
   "cell_type": "code",
   "execution_count": 5,
   "id": "df2e7f0b",
   "metadata": {},
   "outputs": [],
   "source": [
    "data0 = tf.data.Dataset.from_tensors(np.array(range(5)))"
   ]
  },
  {
   "cell_type": "code",
   "execution_count": 6,
   "id": "4d78d1a8",
   "metadata": {},
   "outputs": [
    {
     "data": {
      "text/plain": [
       "<TensorDataset shapes: (5,), types: tf.int32>"
      ]
     },
     "execution_count": 6,
     "metadata": {},
     "output_type": "execute_result"
    }
   ],
   "source": [
    "data0"
   ]
  },
  {
   "cell_type": "markdown",
   "id": "b1daf35c",
   "metadata": {},
   "source": [
    "- 1차원 상수를 받아 5크기의 텐서가 저장됨"
   ]
  },
  {
   "cell_type": "code",
   "execution_count": 10,
   "id": "ec1331b5",
   "metadata": {},
   "outputs": [
    {
     "name": "stdout",
     "output_type": "stream",
     "text": [
      "tf.Tensor([0 1 2 3 4], shape=(5,), dtype=int32)\n"
     ]
    }
   ],
   "source": [
    "printDs(data0)"
   ]
  },
  {
   "cell_type": "markdown",
   "id": "78fe7b7f",
   "metadata": {},
   "source": [
    "- 한개 element만 있다."
   ]
  },
  {
   "cell_type": "markdown",
   "id": "b7ab04ed",
   "metadata": {},
   "source": [
    "2) from_tensor_slices"
   ]
  },
  {
   "cell_type": "code",
   "execution_count": 7,
   "id": "1f16174f",
   "metadata": {},
   "outputs": [],
   "source": [
    "data1 = tf.data.Dataset.from_tensor_slices(np.array(range(5)))"
   ]
  },
  {
   "cell_type": "code",
   "execution_count": 8,
   "id": "30b5dee1",
   "metadata": {},
   "outputs": [
    {
     "data": {
      "text/plain": [
       "<TensorSliceDataset shapes: (), types: tf.int32>"
      ]
     },
     "execution_count": 8,
     "metadata": {},
     "output_type": "execute_result"
    }
   ],
   "source": [
    "data1"
   ]
  },
  {
   "cell_type": "code",
   "execution_count": 11,
   "id": "010b06c1",
   "metadata": {},
   "outputs": [
    {
     "name": "stdout",
     "output_type": "stream",
     "text": [
      "tf.Tensor(0, shape=(), dtype=int32)\n",
      "tf.Tensor(1, shape=(), dtype=int32)\n",
      "tf.Tensor(2, shape=(), dtype=int32)\n",
      "tf.Tensor(3, shape=(), dtype=int32)\n",
      "tf.Tensor(4, shape=(), dtype=int32)\n"
     ]
    }
   ],
   "source": [
    "printDs(data1)"
   ]
  },
  {
   "cell_type": "markdown",
   "id": "b64315c0",
   "metadata": {},
   "source": [
    "- 크기가 1인 텐서 5개로 쪼개짐"
   ]
  },
  {
   "cell_type": "code",
   "execution_count": 17,
   "id": "88f928dc",
   "metadata": {},
   "outputs": [],
   "source": [
    "rand_data = tf.random.uniform([4, 10])"
   ]
  },
  {
   "cell_type": "code",
   "execution_count": 18,
   "id": "9d3fd078",
   "metadata": {},
   "outputs": [
    {
     "data": {
      "text/plain": [
       "<tf.Tensor: shape=(4, 10), dtype=float32, numpy=\n",
       "array([[0.42815912, 0.00710964, 0.3391682 , 0.4658395 , 0.93045926,\n",
       "        0.92477214, 0.65005493, 0.6798675 , 0.13161397, 0.4779011 ],\n",
       "       [0.75340486, 0.20953739, 0.38959002, 0.8471327 , 0.94131374,\n",
       "        0.36750066, 0.2918458 , 0.56763077, 0.50440013, 0.1936599 ],\n",
       "       [0.2197808 , 0.9261099 , 0.27181804, 0.45327055, 0.33639467,\n",
       "        0.05484879, 0.7402874 , 0.4730903 , 0.18069291, 0.3343612 ],\n",
       "       [0.55200195, 0.40253496, 0.1013273 , 0.1842655 , 0.99668753,\n",
       "        0.5639099 , 0.7377974 , 0.12682056, 0.52265275, 0.9695517 ]],\n",
       "      dtype=float32)>"
      ]
     },
     "execution_count": 18,
     "metadata": {},
     "output_type": "execute_result"
    }
   ],
   "source": [
    "rand_data"
   ]
  },
  {
   "cell_type": "code",
   "execution_count": 19,
   "id": "dac8ba0a",
   "metadata": {},
   "outputs": [
    {
     "data": {
      "text/plain": [
       "TensorShape([4, 10])"
      ]
     },
     "execution_count": 19,
     "metadata": {},
     "output_type": "execute_result"
    }
   ],
   "source": [
    "rand_data.shape"
   ]
  },
  {
   "cell_type": "code",
   "execution_count": 20,
   "id": "9bb6bf07",
   "metadata": {},
   "outputs": [],
   "source": [
    "data2 = tf.data.Dataset.from_tensor_slices(rand_data)"
   ]
  },
  {
   "cell_type": "code",
   "execution_count": 21,
   "id": "d8eaca37",
   "metadata": {},
   "outputs": [
    {
     "data": {
      "text/plain": [
       "<TensorSliceDataset shapes: (10,), types: tf.float32>"
      ]
     },
     "execution_count": 21,
     "metadata": {},
     "output_type": "execute_result"
    }
   ],
   "source": [
    "data2"
   ]
  },
  {
   "cell_type": "markdown",
   "id": "e86cc2fe",
   "metadata": {},
   "source": [
    "- 크기가 10인 텐서 4개로 나누어짐"
   ]
  },
  {
   "cell_type": "code",
   "execution_count": 22,
   "id": "c117ceef",
   "metadata": {},
   "outputs": [
    {
     "name": "stdout",
     "output_type": "stream",
     "text": [
      "tf.Tensor(\n",
      "[0.42815912 0.00710964 0.3391682  0.4658395  0.93045926 0.92477214\n",
      " 0.65005493 0.6798675  0.13161397 0.4779011 ], shape=(10,), dtype=float32)\n",
      "tf.Tensor(\n",
      "[0.75340486 0.20953739 0.38959002 0.8471327  0.94131374 0.36750066\n",
      " 0.2918458  0.56763077 0.50440013 0.1936599 ], shape=(10,), dtype=float32)\n",
      "tf.Tensor(\n",
      "[0.2197808  0.9261099  0.27181804 0.45327055 0.33639467 0.05484879\n",
      " 0.7402874  0.4730903  0.18069291 0.3343612 ], shape=(10,), dtype=float32)\n",
      "tf.Tensor(\n",
      "[0.55200195 0.40253496 0.1013273  0.1842655  0.99668753 0.5639099\n",
      " 0.7377974  0.12682056 0.52265275 0.9695517 ], shape=(10,), dtype=float32)\n"
     ]
    }
   ],
   "source": [
    "printDs(data2)"
   ]
  },
  {
   "cell_type": "code",
   "execution_count": null,
   "id": "98fcfd79",
   "metadata": {},
   "outputs": [],
   "source": []
  },
  {
   "cell_type": "markdown",
   "id": "7f082420",
   "metadata": {},
   "source": [
    "### 기타"
   ]
  },
  {
   "cell_type": "markdown",
   "id": "ba259f6a",
   "metadata": {},
   "source": [
    "tf.data.Dataset은 기본적으로 파이썬의 반복 가능 객체이다. 즉 iterator로 꺼내쓸 수 있다."
   ]
  },
  {
   "cell_type": "code",
   "execution_count": 24,
   "id": "744766ef",
   "metadata": {},
   "outputs": [
    {
     "name": "stdout",
     "output_type": "stream",
     "text": [
      "tf.Tensor(\n",
      "[0.42815912 0.00710964 0.3391682  0.4658395  0.93045926 0.92477214\n",
      " 0.65005493 0.6798675  0.13161397 0.4779011 ], shape=(10,), dtype=float32)\n",
      "\n",
      "tf.Tensor(\n",
      "[0.75340486 0.20953739 0.38959002 0.8471327  0.94131374 0.36750066\n",
      " 0.2918458  0.56763077 0.50440013 0.1936599 ], shape=(10,), dtype=float32)\n",
      "\n",
      "tf.Tensor(\n",
      "[0.2197808  0.9261099  0.27181804 0.45327055 0.33639467 0.05484879\n",
      " 0.7402874  0.4730903  0.18069291 0.3343612 ], shape=(10,), dtype=float32)\n",
      "\n",
      "tf.Tensor(\n",
      "[0.55200195 0.40253496 0.1013273  0.1842655  0.99668753 0.5639099\n",
      " 0.7377974  0.12682056 0.52265275 0.9695517 ], shape=(10,), dtype=float32)\n",
      "\n"
     ]
    }
   ],
   "source": [
    "for i in data2:\n",
    "    print(i)\n",
    "    print('')"
   ]
  },
  {
   "cell_type": "code",
   "execution_count": null,
   "id": "6e3518c2",
   "metadata": {},
   "outputs": [],
   "source": []
  },
  {
   "cell_type": "code",
   "execution_count": null,
   "id": "7d4024e4",
   "metadata": {},
   "outputs": [],
   "source": []
  },
  {
   "cell_type": "code",
   "execution_count": null,
   "id": "8dd7e446",
   "metadata": {},
   "outputs": [],
   "source": []
  },
  {
   "cell_type": "code",
   "execution_count": null,
   "id": "4e82bada",
   "metadata": {},
   "outputs": [],
   "source": []
  },
  {
   "cell_type": "code",
   "execution_count": null,
   "id": "926e0166",
   "metadata": {},
   "outputs": [],
   "source": []
  },
  {
   "cell_type": "code",
   "execution_count": null,
   "id": "4c36d48b",
   "metadata": {},
   "outputs": [],
   "source": []
  },
  {
   "cell_type": "code",
   "execution_count": null,
   "id": "e0347ed3",
   "metadata": {},
   "outputs": [],
   "source": []
  },
  {
   "cell_type": "code",
   "execution_count": null,
   "id": "8646f49e",
   "metadata": {},
   "outputs": [],
   "source": []
  },
  {
   "cell_type": "code",
   "execution_count": null,
   "id": "edac2c42",
   "metadata": {},
   "outputs": [],
   "source": []
  },
  {
   "cell_type": "code",
   "execution_count": null,
   "id": "690af6ee",
   "metadata": {},
   "outputs": [],
   "source": []
  },
  {
   "cell_type": "code",
   "execution_count": null,
   "id": "f895f741",
   "metadata": {},
   "outputs": [],
   "source": []
  },
  {
   "cell_type": "code",
   "execution_count": null,
   "id": "f0d99801",
   "metadata": {},
   "outputs": [],
   "source": []
  },
  {
   "cell_type": "code",
   "execution_count": null,
   "id": "8cc0653e",
   "metadata": {},
   "outputs": [],
   "source": []
  }
 ],
 "metadata": {
  "kernelspec": {
   "display_name": "Python 3 (ipykernel)",
   "language": "python",
   "name": "python3"
  },
  "language_info": {
   "codemirror_mode": {
    "name": "ipython",
    "version": 3
   },
   "file_extension": ".py",
   "mimetype": "text/x-python",
   "name": "python",
   "nbconvert_exporter": "python",
   "pygments_lexer": "ipython3",
   "version": "3.9.12"
  }
 },
 "nbformat": 4,
 "nbformat_minor": 5
}
