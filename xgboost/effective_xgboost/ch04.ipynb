{
 "cells": [
  {
   "attachments": {},
   "cell_type": "markdown",
   "metadata": {},
   "source": [
    "## ch04 Tree Creation\n",
    "- https://github.com/mattharrison/effective_xgboost_book/blob/main/xgbcode.ipynb"
   ]
  },
  {
   "attachments": {},
   "cell_type": "markdown",
   "metadata": {},
   "source": [
    "<div style=\"text-align: right\"> <b>Author : Kwang Myung Yu</b></div>\n",
    "<div style=\"text-align: right\"> Initial upload: 2023.7.18</div>\n",
    "<div style=\"text-align: right\"> Last update: 2023.7.18</div>"
   ]
  },
  {
   "cell_type": "code",
   "execution_count": 7,
   "metadata": {},
   "outputs": [],
   "source": [
    "import os\n",
    "import sys\n",
    "import time\n",
    "import numpy as np\n",
    "import pandas as pd\n",
    "import matplotlib as mpl\n",
    "import matplotlib.pyplot as plt\n",
    "import matplotlib.gridspec as gridspec\n",
    "import seaborn as sns\n",
    "from scipy import stats\n",
    "import warnings; warnings.filterwarnings('ignore')\n",
    "#plt.style.use('ggplot')\n",
    "plt.style.use('seaborn-whitegrid')\n",
    "%matplotlib inline"
   ]
  },
  {
   "cell_type": "markdown",
   "metadata": {},
   "source": [
    "### 4.1 The Gini Coefficient"
   ]
  },
  {
   "cell_type": "markdown",
   "metadata": {},
   "source": [
    "지니계수는 빈도 분포에서 불평등 레벨을 계량화 한것이다.  \n",
    "- 0 : 완전 평등  \n",
    "- 1 : 값들 간 최대의 불평등  "
   ]
  },
  {
   "cell_type": "markdown",
   "metadata": {},
   "source": [
    "$$Gini = 1 - \\sum_{i=1}^{c}{p_{i}^2}$$"
   ]
  },
  {
   "cell_type": "markdown",
   "metadata": {},
   "source": [
    "- 위에서 c는 클래스의 수이다.  \n",
    "- pi는 클래스 i의 관측 비율이다."
   ]
  },
  {
   "cell_type": "markdown",
   "metadata": {},
   "source": [
    "최적의 트리 splitting을 이해하기 위해 두개 클래스와 2개 피처를 가지는 데이터셋을 만들어 실험한다.  \n",
    "일부 피처 클래스가 겹친다. 즉 트리 분할 양쪽 모두에 클래스 관측 값이 있다.   \n",
    "\n",
    "우리는 올바를 클래스로 나누는 피처 threshold를 찾아본다."
   ]
  },
  {
   "cell_type": "markdown",
   "metadata": {},
   "source": [
    "두개의 랜덤 변수를 만들고 positive, negative로 레이블링 해보자."
   ]
  },
  {
   "cell_type": "code",
   "execution_count": 8,
   "metadata": {},
   "outputs": [],
   "source": [
    "import numpy as np\n",
    "import numpy.random as rn"
   ]
  },
  {
   "cell_type": "code",
   "execution_count": 9,
   "metadata": {},
   "outputs": [],
   "source": [
    "pos_center = 12\n",
    "pos_count = 100\n",
    "neg_center = 7\n",
    "neg_count = 1000\n",
    "rs = rn.RandomState(rn.MT19937(rn.SeedSequence(42)))"
   ]
  },
  {
   "cell_type": "code",
   "execution_count": 10,
   "metadata": {},
   "outputs": [],
   "source": [
    "gini = pd.DataFrame(\n",
    "    {\n",
    "        'value': np.append((pos_center) + rs.randn(pos_count), (neg_center) + rs.randn(neg_count)),\n",
    "        'label': ['pos']*pos_count + ['neg']*neg_count\n",
    "    }\n",
    ")"
   ]
  },
  {
   "cell_type": "code",
   "execution_count": 11,
   "metadata": {},
   "outputs": [
    {
     "data": {
      "text/html": [
       "<div>\n",
       "<style scoped>\n",
       "    .dataframe tbody tr th:only-of-type {\n",
       "        vertical-align: middle;\n",
       "    }\n",
       "\n",
       "    .dataframe tbody tr th {\n",
       "        vertical-align: top;\n",
       "    }\n",
       "\n",
       "    .dataframe thead th {\n",
       "        text-align: right;\n",
       "    }\n",
       "</style>\n",
       "<table border=\"1\" class=\"dataframe\">\n",
       "  <thead>\n",
       "    <tr style=\"text-align: right;\">\n",
       "      <th></th>\n",
       "      <th>value</th>\n",
       "      <th>label</th>\n",
       "    </tr>\n",
       "  </thead>\n",
       "  <tbody>\n",
       "    <tr>\n",
       "      <th>0</th>\n",
       "      <td>14.210352</td>\n",
       "      <td>pos</td>\n",
       "    </tr>\n",
       "    <tr>\n",
       "      <th>1</th>\n",
       "      <td>12.775662</td>\n",
       "      <td>pos</td>\n",
       "    </tr>\n",
       "    <tr>\n",
       "      <th>2</th>\n",
       "      <td>12.346531</td>\n",
       "      <td>pos</td>\n",
       "    </tr>\n",
       "    <tr>\n",
       "      <th>3</th>\n",
       "      <td>12.977911</td>\n",
       "      <td>pos</td>\n",
       "    </tr>\n",
       "    <tr>\n",
       "      <th>4</th>\n",
       "      <td>13.146511</td>\n",
       "      <td>pos</td>\n",
       "    </tr>\n",
       "    <tr>\n",
       "      <th>...</th>\n",
       "      <td>...</td>\n",
       "      <td>...</td>\n",
       "    </tr>\n",
       "    <tr>\n",
       "      <th>1095</th>\n",
       "      <td>6.633856</td>\n",
       "      <td>neg</td>\n",
       "    </tr>\n",
       "    <tr>\n",
       "      <th>1096</th>\n",
       "      <td>6.116057</td>\n",
       "      <td>neg</td>\n",
       "    </tr>\n",
       "    <tr>\n",
       "      <th>1097</th>\n",
       "      <td>6.586057</td>\n",
       "      <td>neg</td>\n",
       "    </tr>\n",
       "    <tr>\n",
       "      <th>1098</th>\n",
       "      <td>6.990318</td>\n",
       "      <td>neg</td>\n",
       "    </tr>\n",
       "    <tr>\n",
       "      <th>1099</th>\n",
       "      <td>7.443125</td>\n",
       "      <td>neg</td>\n",
       "    </tr>\n",
       "  </tbody>\n",
       "</table>\n",
       "<p>1100 rows × 2 columns</p>\n",
       "</div>"
      ],
      "text/plain": [
       "          value label\n",
       "0     14.210352   pos\n",
       "1     12.775662   pos\n",
       "2     12.346531   pos\n",
       "3     12.977911   pos\n",
       "4     13.146511   pos\n",
       "...         ...   ...\n",
       "1095   6.633856   neg\n",
       "1096   6.116057   neg\n",
       "1097   6.586057   neg\n",
       "1098   6.990318   neg\n",
       "1099   7.443125   neg\n",
       "\n",
       "[1100 rows x 2 columns]"
      ]
     },
     "execution_count": 11,
     "metadata": {},
     "output_type": "execute_result"
    }
   ],
   "source": [
    "gini"
   ]
  },
  {
   "cell_type": "code",
   "execution_count": 12,
   "metadata": {},
   "outputs": [
    {
     "data": {
      "text/plain": [
       "<matplotlib.legend.Legend at 0x16d1a04f0>"
      ]
     },
     "execution_count": 12,
     "metadata": {},
     "output_type": "execute_result"
    },
    {
     "data": {
      "image/png": "[encoded data removed]",
      "text/plain": [
       "<Figure size 800x400 with 1 Axes>"
      ]
     },
     "metadata": {},
     "output_type": "display_data"
    }
   ],
   "source": [
    "fig, ax = plt.subplots(figsize = (8, 4))\n",
    "\n",
    "_ = (gini\n",
    "     .groupby('label')\n",
    "     [['value']]\n",
    "     .plot.hist(bins = 30, alpha = .5, ax = ax, edgecolor = 'black')\n",
    "     )\n",
    "ax.legend(['Neg', 'Pos'])"
   ]
  },
  {
   "cell_type": "markdown",
   "metadata": {},
   "source": [
    "- 9 ~ 10 사이에 오버랩이 있다."
   ]
  },
  {
   "cell_type": "markdown",
   "metadata": {},
   "source": [
    "이제 피처를 보고 값이 pos, neg 인지 결정해야 한다고 가정해보자.  \n",
    "지니계수가 도움이 될 수 있다.  \n",
    "지니계수를 계산하려면 pos, neg 결정 지점(split_point)를 고려해야한다.   \n",
    "\n",
    "\n",
    "실제 레이블이 있으면, true positive, false positive, true negative, and false negative를 계한할 수 있다.  \n",
    "그런 다음 1에서 TP와 FP의 비율을 제곱한 값을 뺀 가중 평균을 계산합니다.   \n",
    "또한 가중 평균에서 1을 뺸 값에서 TP, FP의 비율의 제곱을 계산한다.    \n",
    "\n",
    "이 두 값의 가중 평균이 지니계수이다."
   ]
  },
  {
   "cell_type": "markdown",
   "metadata": {},
   "source": []
  }
 ],
 "metadata": {
  "kernelspec": {
   "display_name": "base",
   "language": "python",
   "name": "python3"
  },
  "language_info": {
   "codemirror_mode": {
    "name": "ipython",
    "version": 3
   },
   "file_extension": ".py",
   "mimetype": "text/x-python",
   "name": "python",
   "nbconvert_exporter": "python",
   "pygments_lexer": "ipython3",
   "version": "3.9.13"
  },
  "orig_nbformat": 4
 },
 "nbformat": 4,
 "nbformat_minor": 2
}
