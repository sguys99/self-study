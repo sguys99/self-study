{
 "cells": [
  {
   "attachments": {},
   "cell_type": "markdown",
   "metadata": {},
   "source": [
    "## ch11 XGBoost Hyperparameters\n",
    "- https://github.com/mattharrison/effective_xgboost_book/blob/main/xgbcode.ipynb"
   ]
  },
  {
   "attachments": {},
   "cell_type": "markdown",
   "metadata": {},
   "source": [
    "<div style=\"text-align: right\"> <b>Author : Kwang Myung Yu</b></div>\n",
    "<div style=\"text-align: right\"> Initial upload: 2023.7.31</div>\n",
    "<div style=\"text-align: right\"> Last update: 2023.7.31</div>"
   ]
  },
  {
   "cell_type": "code",
   "execution_count": 1,
   "metadata": {},
   "outputs": [],
   "source": [
    "import os\n",
    "import sys\n",
    "import time\n",
    "import numpy as np\n",
    "import pandas as pd\n",
    "import matplotlib as mpl\n",
    "import matplotlib.pyplot as plt\n",
    "import matplotlib.gridspec as gridspec\n",
    "import seaborn as sns\n",
    "from scipy import stats\n",
    "import warnings; warnings.filterwarnings('ignore')\n",
    "#plt.style.use('ggplot')\n",
    "plt.style.use('seaborn-whitegrid')\n",
    "%matplotlib inline"
   ]
  },
  {
   "cell_type": "markdown",
   "metadata": {},
   "source": [
    "새롭게 라이브러리를 로드 하자."
   ]
  },
  {
   "cell_type": "code",
   "execution_count": 2,
   "metadata": {},
   "outputs": [],
   "source": [
    "import dtreeviz\n",
    "from feature_engine import encoding, imputation\n",
    "import numpy as np\n",
    "import pandas as pd\n",
    "from sklearn import base, compose, datasets, ensemble, \\\n",
    "    metrics, model_selection, pipeline, preprocessing, tree\n",
    "import scikitplot\n",
    "import xgboost as xgb\n",
    "import yellowbrick.model_selection as ms\n",
    "from yellowbrick import classifier\n",
    "\n",
    "import urllib\n",
    "import zipfile\n",
    "\n",
    "import xg_helpers as xhelp"
   ]
  },
  {
   "cell_type": "code",
   "execution_count": 3,
   "metadata": {},
   "outputs": [],
   "source": [
    "url = 'https://github.com/mattharrison/datasets/raw/master/data/'\\\n",
    "'kaggle-survey-2018.zip'\n",
    "fname = 'kaggle-survey-2018.zip'\n",
    "member_name = 'multipleChoiceResponses.csv'"
   ]
  },
  {
   "cell_type": "code",
   "execution_count": 4,
   "metadata": {},
   "outputs": [],
   "source": [
    "raw = xhelp.extract_zip(url, fname, member_name)\n",
    "## Create raw X and raw y\n",
    "kag_X, kag_y = xhelp.get_rawX_y(raw, 'Q6')"
   ]
  },
  {
   "cell_type": "code",
   "execution_count": 5,
   "metadata": {},
   "outputs": [],
   "source": [
    "## Split data\n",
    "kag_X_train, kag_X_test, kag_y_train, kag_y_test = \\\n",
    "model_selection.train_test_split(\n",
    "kag_X, kag_y, test_size=.3, random_state=42, stratify=kag_y)"
   ]
  },
  {
   "cell_type": "code",
   "execution_count": 6,
   "metadata": {},
   "outputs": [],
   "source": [
    "## Transform X with pipeline\n",
    "X_train = xhelp.kag_pl.fit_transform(kag_X_train)\n",
    "X_test = xhelp.kag_pl.transform(kag_X_test)\n",
    "## Transform y with label encoder\n",
    "label_encoder = preprocessing.LabelEncoder()\n",
    "label_encoder.fit(kag_y_train)\n",
    "y_train = label_encoder.transform(kag_y_train)\n",
    "y_test = label_encoder.transform(kag_y_test)\n",
    "# Combined Data for cross validation/etc\n",
    "X = pd.concat([X_train, X_test], axis='index')\n",
    "y = pd.Series([*y_train, *y_test], index=X.index)"
   ]
  },
  {
   "cell_type": "code",
   "execution_count": 7,
   "metadata": {},
   "outputs": [
    {
     "data": {
      "text/html": [
       "<div>\n",
       "<style scoped>\n",
       "    .dataframe tbody tr th:only-of-type {\n",
       "        vertical-align: middle;\n",
       "    }\n",
       "\n",
       "    .dataframe tbody tr th {\n",
       "        vertical-align: top;\n",
       "    }\n",
       "\n",
       "    .dataframe thead th {\n",
       "        text-align: right;\n",
       "    }\n",
       "</style>\n",
       "<table border=\"1\" class=\"dataframe\">\n",
       "  <thead>\n",
       "    <tr style=\"text-align: right;\">\n",
       "      <th></th>\n",
       "      <th>age</th>\n",
       "      <th>education</th>\n",
       "      <th>years_exp</th>\n",
       "      <th>compensation</th>\n",
       "      <th>python</th>\n",
       "      <th>r</th>\n",
       "      <th>sql</th>\n",
       "      <th>Q1_Male</th>\n",
       "      <th>Q1_Female</th>\n",
       "      <th>Q1_Prefer not to say</th>\n",
       "      <th>Q1_Prefer to self-describe</th>\n",
       "      <th>Q3_United States of America</th>\n",
       "      <th>Q3_India</th>\n",
       "      <th>Q3_China</th>\n",
       "      <th>major_cs</th>\n",
       "      <th>major_other</th>\n",
       "      <th>major_eng</th>\n",
       "      <th>major_stat</th>\n",
       "    </tr>\n",
       "  </thead>\n",
       "  <tbody>\n",
       "    <tr>\n",
       "      <th>587</th>\n",
       "      <td>25</td>\n",
       "      <td>18.0</td>\n",
       "      <td>4.0</td>\n",
       "      <td>0</td>\n",
       "      <td>1</td>\n",
       "      <td>0</td>\n",
       "      <td>1</td>\n",
       "      <td>1</td>\n",
       "      <td>0</td>\n",
       "      <td>0</td>\n",
       "      <td>0</td>\n",
       "      <td>0</td>\n",
       "      <td>1</td>\n",
       "      <td>0</td>\n",
       "      <td>0</td>\n",
       "      <td>1</td>\n",
       "      <td>0</td>\n",
       "      <td>0</td>\n",
       "    </tr>\n",
       "    <tr>\n",
       "      <th>3065</th>\n",
       "      <td>22</td>\n",
       "      <td>16.0</td>\n",
       "      <td>1.0</td>\n",
       "      <td>10000</td>\n",
       "      <td>1</td>\n",
       "      <td>0</td>\n",
       "      <td>0</td>\n",
       "      <td>1</td>\n",
       "      <td>0</td>\n",
       "      <td>0</td>\n",
       "      <td>0</td>\n",
       "      <td>0</td>\n",
       "      <td>1</td>\n",
       "      <td>0</td>\n",
       "      <td>1</td>\n",
       "      <td>0</td>\n",
       "      <td>0</td>\n",
       "      <td>0</td>\n",
       "    </tr>\n",
       "    <tr>\n",
       "      <th>8435</th>\n",
       "      <td>22</td>\n",
       "      <td>18.0</td>\n",
       "      <td>1.0</td>\n",
       "      <td>0</td>\n",
       "      <td>1</td>\n",
       "      <td>0</td>\n",
       "      <td>0</td>\n",
       "      <td>1</td>\n",
       "      <td>0</td>\n",
       "      <td>0</td>\n",
       "      <td>0</td>\n",
       "      <td>0</td>\n",
       "      <td>1</td>\n",
       "      <td>0</td>\n",
       "      <td>0</td>\n",
       "      <td>1</td>\n",
       "      <td>0</td>\n",
       "      <td>0</td>\n",
       "    </tr>\n",
       "    <tr>\n",
       "      <th>3110</th>\n",
       "      <td>40</td>\n",
       "      <td>20.0</td>\n",
       "      <td>3.0</td>\n",
       "      <td>125000</td>\n",
       "      <td>1</td>\n",
       "      <td>0</td>\n",
       "      <td>1</td>\n",
       "      <td>0</td>\n",
       "      <td>1</td>\n",
       "      <td>0</td>\n",
       "      <td>0</td>\n",
       "      <td>1</td>\n",
       "      <td>0</td>\n",
       "      <td>0</td>\n",
       "      <td>0</td>\n",
       "      <td>1</td>\n",
       "      <td>0</td>\n",
       "      <td>0</td>\n",
       "    </tr>\n",
       "    <tr>\n",
       "      <th>16372</th>\n",
       "      <td>45</td>\n",
       "      <td>12.0</td>\n",
       "      <td>5.0</td>\n",
       "      <td>100000</td>\n",
       "      <td>1</td>\n",
       "      <td>0</td>\n",
       "      <td>1</td>\n",
       "      <td>1</td>\n",
       "      <td>0</td>\n",
       "      <td>0</td>\n",
       "      <td>0</td>\n",
       "      <td>1</td>\n",
       "      <td>0</td>\n",
       "      <td>0</td>\n",
       "      <td>0</td>\n",
       "      <td>1</td>\n",
       "      <td>0</td>\n",
       "      <td>0</td>\n",
       "    </tr>\n",
       "  </tbody>\n",
       "</table>\n",
       "</div>"
      ],
      "text/plain": [
       "       age  education  years_exp  compensation  python  r  sql  Q1_Male  \\\n",
       "587     25       18.0        4.0             0       1  0    1        1   \n",
       "3065    22       16.0        1.0         10000       1  0    0        1   \n",
       "8435    22       18.0        1.0             0       1  0    0        1   \n",
       "3110    40       20.0        3.0        125000       1  0    1        0   \n",
       "16372   45       12.0        5.0        100000       1  0    1        1   \n",
       "\n",
       "       Q1_Female  Q1_Prefer not to say  Q1_Prefer to self-describe  \\\n",
       "587            0                     0                           0   \n",
       "3065           0                     0                           0   \n",
       "8435           0                     0                           0   \n",
       "3110           1                     0                           0   \n",
       "16372          0                     0                           0   \n",
       "\n",
       "       Q3_United States of America  Q3_India  Q3_China  major_cs  major_other  \\\n",
       "587                              0         1         0         0            1   \n",
       "3065                             0         1         0         1            0   \n",
       "8435                             0         1         0         0            1   \n",
       "3110                             1         0         0         0            1   \n",
       "16372                            1         0         0         0            1   \n",
       "\n",
       "       major_eng  major_stat  \n",
       "587            0           0  \n",
       "3065           0           0  \n",
       "8435           0           0  \n",
       "3110           0           0  \n",
       "16372          0           0  "
      ]
     },
     "execution_count": 7,
     "metadata": {},
     "output_type": "execute_result"
    }
   ],
   "source": [
    "X.head()"
   ]
  },
  {
   "cell_type": "code",
   "execution_count": 8,
   "metadata": {},
   "outputs": [
    {
     "data": {
      "text/plain": [
       "587      1\n",
       "3065     0\n",
       "8435     0\n",
       "3110     0\n",
       "16372    1\n",
       "dtype: int64"
      ]
     },
     "execution_count": 8,
     "metadata": {},
     "output_type": "execute_result"
    }
   ],
   "source": [
    "y.head()"
   ]
  },
  {
   "cell_type": "markdown",
   "metadata": {},
   "source": [
    "### 11.1 Hyperparameters"
   ]
  },
  {
   "cell_type": "markdown",
   "metadata": {},
   "source": [
    "하이퍼파라미터는 다음과 같은 형태로 분류할 수 있다.\n",
    "- tree creation,\n",
    "- sampling, \n",
    "- categorical data, \n",
    "- ensembling, \n",
    "- regularization, \n",
    "- imbalanced data"
   ]
  },
  {
   "cell_type": "markdown",
   "metadata": {},
   "source": [
    "tree 하이퍼파라미터는 다음과 같다.  \n",
    "- max_depth=6 : 트리 깊이. 얼마나 많은 피처 상호작용을 할 수 있는지입니다. 클수록 더 복잡합니다(과적합 가능성이 높습니다). 각 레벨은 시간을 두 배로 늘립니다. 범위 [0, ∞].  \n",
    "- max_leaves=0 : 트리의 잎 수입니다. 숫자가 클수록 더 복잡합니다. (Not tree_method='exact'에서 지원되지 않음). 범위 [0, ∞].  \n",
    "- min_child_weight=1 : 자식에게 필요한 헤시안(무게)의 최소 합계입니다. 값이 클수록 값이 클수록 더 보수적입니다. 범위 [0,∞].  \n",
    "- grow_policy=\"depthwise\"' - (tree_method가 'hist', 'approx' 또는 'gpu_hist' 일때만 진행. 루트에 가장 가까운 노드를 분할합니다. \"lossguide\"(최대_뎁스=0으로 설정)로 설정하면 LightGBM 동작을 모방합니다.  \n",
    "- tree_method=\"auto\" : 히스토그램 버킷링을 사용하고 성능을 높이려면 \"hist\"를 사용합니다.\n",
    "  - `auto`로 설정하면\n",
    "    - 'exact' for small data\n",
    "    – 'approx' for larger data\n",
    "    – 'hist' for histograms (limit bins with max_bins (default 256))"
   ]
  },
  {
   "cell_type": "markdown",
   "metadata": {},
   "source": [
    "sampling 하이퍼 파라미터. 이 파라미터들은 순차적으로 동작한다.  \n",
    "- tree -> level -> 노드 순이다.  \n",
    "예를 들어 colsample_bytree, colsample_bylevel 및 colsample_bynode가 모두 .5인 경우 트리는 원본 열의 12.5%(.5 * .5 * .5) 만 보게 됩니다.   \n",
    "\n",
    "- colsample_bytree=1 : 각 트리에서 컬럼을 서브 샘플링합니다. 범위 (0,1]. [.5, 1] 를 권장\n",
    "- colsample_bylevel=1 : 각 레벨에서 컬럼을 서브 샘플링합니다(트리 컬럼 colsample_bytree에서). 범위 (0,1]. [.5, 1]를 권장\n",
    "- colsample_bynode=1 : 각 노드 분할에서 컬럼을 서브 샘플링합니다(트리 컬럼 colsample_bytree에서). 범위 (0,1]. [.5, 1]를 권장\n",
    "- subsample=1 : 각 부스팅 라운드 전 학습 데이터(rows)의 샘플 비율. 범위 (0,1]. 더 보수적으로 만들려면 낮게 설정합니다. (1.0이 아닌 경우 모델은 확률적 경사 하강을 수행합니다. 즉, 모델에 약간의 무작위성이 있습니다.) [.5, 1] 범위를 권장.\n",
    "- sampling_method='uniform' : 샘플링 방법. uniform 확률의 경우 'uniform'. gradient_based 샘플은 정규화된 그라데이션 절대값에 비례합니다(tree_method=\"gpu_hist\"에서만 지원).\n",
    "\n"
   ]
  },
  {
   "cell_type": "markdown",
   "metadata": {},
   "source": []
  }
 ],
 "metadata": {
  "kernelspec": {
   "display_name": "base",
   "language": "python",
   "name": "python3"
  },
  "language_info": {
   "codemirror_mode": {
    "name": "ipython",
    "version": 3
   },
   "file_extension": ".py",
   "mimetype": "text/x-python",
   "name": "python",
   "nbconvert_exporter": "python",
   "pygments_lexer": "ipython3",
   "version": "3.9.13"
  },
  "orig_nbformat": 4
 },
 "nbformat": 4,
 "nbformat_minor": 2
}
