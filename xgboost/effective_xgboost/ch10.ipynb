{
 "cells": [
  {
   "attachments": {},
   "cell_type": "markdown",
   "metadata": {},
   "source": [
    "## ch10 Early Stopping\n",
    "- https://github.com/mattharrison/effective_xgboost_book/blob/main/xgbcode.ipynb"
   ]
  },
  {
   "attachments": {},
   "cell_type": "markdown",
   "metadata": {},
   "source": [
    "<div style=\"text-align: right\"> <b>Author : Kwang Myung Yu</b></div>\n",
    "<div style=\"text-align: right\"> Initial upload: 2023.7.31</div>\n",
    "<div style=\"text-align: right\"> Last update: 2023.7.31</div>"
   ]
  },
  {
   "cell_type": "code",
   "execution_count": 1,
   "metadata": {},
   "outputs": [],
   "source": [
    "import os\n",
    "import sys\n",
    "import time\n",
    "import numpy as np\n",
    "import pandas as pd\n",
    "import matplotlib as mpl\n",
    "import matplotlib.pyplot as plt\n",
    "import matplotlib.gridspec as gridspec\n",
    "import seaborn as sns\n",
    "from scipy import stats\n",
    "import warnings; warnings.filterwarnings('ignore')\n",
    "#plt.style.use('ggplot')\n",
    "plt.style.use('seaborn-whitegrid')\n",
    "%matplotlib inline"
   ]
  },
  {
   "cell_type": "markdown",
   "metadata": {},
   "source": [
    "새롭게 라이브러리를 로드 하자."
   ]
  },
  {
   "cell_type": "code",
   "execution_count": 2,
   "metadata": {},
   "outputs": [],
   "source": [
    "import dtreeviz\n",
    "from feature_engine import encoding, imputation\n",
    "import numpy as np\n",
    "import pandas as pd\n",
    "from sklearn import base, compose, datasets, ensemble, \\\n",
    "    metrics, model_selection, pipeline, preprocessing, tree\n",
    "import scikitplot\n",
    "import xgboost as xgb\n",
    "import yellowbrick.model_selection as ms\n",
    "from yellowbrick import classifier\n",
    "\n",
    "import urllib\n",
    "import zipfile\n",
    "\n",
    "import xg_helpers as xhelp"
   ]
  },
  {
   "cell_type": "code",
   "execution_count": 3,
   "metadata": {},
   "outputs": [],
   "source": [
    "url = 'https://github.com/mattharrison/datasets/raw/master/data/'\\\n",
    "'kaggle-survey-2018.zip'\n",
    "fname = 'kaggle-survey-2018.zip'\n",
    "member_name = 'multipleChoiceResponses.csv'"
   ]
  },
  {
   "cell_type": "code",
   "execution_count": 4,
   "metadata": {},
   "outputs": [],
   "source": [
    "raw = xhelp.extract_zip(url, fname, member_name)\n",
    "## Create raw X and raw y\n",
    "kag_X, kag_y = xhelp.get_rawX_y(raw, 'Q6')"
   ]
  },
  {
   "cell_type": "code",
   "execution_count": 5,
   "metadata": {},
   "outputs": [],
   "source": [
    "## Split data\n",
    "kag_X_train, kag_X_test, kag_y_train, kag_y_test = \\\n",
    "model_selection.train_test_split(\n",
    "kag_X, kag_y, test_size=.3, random_state=42, stratify=kag_y)"
   ]
  },
  {
   "cell_type": "code",
   "execution_count": 6,
   "metadata": {},
   "outputs": [],
   "source": [
    "## Transform X with pipeline\n",
    "X_train = xhelp.kag_pl.fit_transform(kag_X_train)\n",
    "X_test = xhelp.kag_pl.transform(kag_X_test)\n",
    "## Transform y with label encoder\n",
    "label_encoder = preprocessing.LabelEncoder()\n",
    "label_encoder.fit(kag_y_train)\n",
    "y_train = label_encoder.transform(kag_y_train)\n",
    "y_test = label_encoder.transform(kag_y_test)\n",
    "# Combined Data for cross validation/etc\n",
    "X = pd.concat([X_train, X_test], axis='index')\n",
    "y = pd.Series([*y_train, *y_test], index=X.index)"
   ]
  },
  {
   "cell_type": "code",
   "execution_count": 7,
   "metadata": {},
   "outputs": [
    {
     "data": {
      "text/html": [
       "<div>\n",
       "<style scoped>\n",
       "    .dataframe tbody tr th:only-of-type {\n",
       "        vertical-align: middle;\n",
       "    }\n",
       "\n",
       "    .dataframe tbody tr th {\n",
       "        vertical-align: top;\n",
       "    }\n",
       "\n",
       "    .dataframe thead th {\n",
       "        text-align: right;\n",
       "    }\n",
       "</style>\n",
       "<table border=\"1\" class=\"dataframe\">\n",
       "  <thead>\n",
       "    <tr style=\"text-align: right;\">\n",
       "      <th></th>\n",
       "      <th>age</th>\n",
       "      <th>education</th>\n",
       "      <th>years_exp</th>\n",
       "      <th>compensation</th>\n",
       "      <th>python</th>\n",
       "      <th>r</th>\n",
       "      <th>sql</th>\n",
       "      <th>Q1_Male</th>\n",
       "      <th>Q1_Female</th>\n",
       "      <th>Q1_Prefer not to say</th>\n",
       "      <th>Q1_Prefer to self-describe</th>\n",
       "      <th>Q3_United States of America</th>\n",
       "      <th>Q3_India</th>\n",
       "      <th>Q3_China</th>\n",
       "      <th>major_cs</th>\n",
       "      <th>major_other</th>\n",
       "      <th>major_eng</th>\n",
       "      <th>major_stat</th>\n",
       "    </tr>\n",
       "  </thead>\n",
       "  <tbody>\n",
       "    <tr>\n",
       "      <th>587</th>\n",
       "      <td>25</td>\n",
       "      <td>18.0</td>\n",
       "      <td>4.0</td>\n",
       "      <td>0</td>\n",
       "      <td>1</td>\n",
       "      <td>0</td>\n",
       "      <td>1</td>\n",
       "      <td>1</td>\n",
       "      <td>0</td>\n",
       "      <td>0</td>\n",
       "      <td>0</td>\n",
       "      <td>0</td>\n",
       "      <td>1</td>\n",
       "      <td>0</td>\n",
       "      <td>0</td>\n",
       "      <td>1</td>\n",
       "      <td>0</td>\n",
       "      <td>0</td>\n",
       "    </tr>\n",
       "    <tr>\n",
       "      <th>3065</th>\n",
       "      <td>22</td>\n",
       "      <td>16.0</td>\n",
       "      <td>1.0</td>\n",
       "      <td>10000</td>\n",
       "      <td>1</td>\n",
       "      <td>0</td>\n",
       "      <td>0</td>\n",
       "      <td>1</td>\n",
       "      <td>0</td>\n",
       "      <td>0</td>\n",
       "      <td>0</td>\n",
       "      <td>0</td>\n",
       "      <td>1</td>\n",
       "      <td>0</td>\n",
       "      <td>1</td>\n",
       "      <td>0</td>\n",
       "      <td>0</td>\n",
       "      <td>0</td>\n",
       "    </tr>\n",
       "    <tr>\n",
       "      <th>8435</th>\n",
       "      <td>22</td>\n",
       "      <td>18.0</td>\n",
       "      <td>1.0</td>\n",
       "      <td>0</td>\n",
       "      <td>1</td>\n",
       "      <td>0</td>\n",
       "      <td>0</td>\n",
       "      <td>1</td>\n",
       "      <td>0</td>\n",
       "      <td>0</td>\n",
       "      <td>0</td>\n",
       "      <td>0</td>\n",
       "      <td>1</td>\n",
       "      <td>0</td>\n",
       "      <td>0</td>\n",
       "      <td>1</td>\n",
       "      <td>0</td>\n",
       "      <td>0</td>\n",
       "    </tr>\n",
       "    <tr>\n",
       "      <th>3110</th>\n",
       "      <td>40</td>\n",
       "      <td>20.0</td>\n",
       "      <td>3.0</td>\n",
       "      <td>125000</td>\n",
       "      <td>1</td>\n",
       "      <td>0</td>\n",
       "      <td>1</td>\n",
       "      <td>0</td>\n",
       "      <td>1</td>\n",
       "      <td>0</td>\n",
       "      <td>0</td>\n",
       "      <td>1</td>\n",
       "      <td>0</td>\n",
       "      <td>0</td>\n",
       "      <td>0</td>\n",
       "      <td>1</td>\n",
       "      <td>0</td>\n",
       "      <td>0</td>\n",
       "    </tr>\n",
       "    <tr>\n",
       "      <th>16372</th>\n",
       "      <td>45</td>\n",
       "      <td>12.0</td>\n",
       "      <td>5.0</td>\n",
       "      <td>100000</td>\n",
       "      <td>1</td>\n",
       "      <td>0</td>\n",
       "      <td>1</td>\n",
       "      <td>1</td>\n",
       "      <td>0</td>\n",
       "      <td>0</td>\n",
       "      <td>0</td>\n",
       "      <td>1</td>\n",
       "      <td>0</td>\n",
       "      <td>0</td>\n",
       "      <td>0</td>\n",
       "      <td>1</td>\n",
       "      <td>0</td>\n",
       "      <td>0</td>\n",
       "    </tr>\n",
       "  </tbody>\n",
       "</table>\n",
       "</div>"
      ],
      "text/plain": [
       "       age  education  years_exp  compensation  python  r  sql  Q1_Male  \\\n",
       "587     25       18.0        4.0             0       1  0    1        1   \n",
       "3065    22       16.0        1.0         10000       1  0    0        1   \n",
       "8435    22       18.0        1.0             0       1  0    0        1   \n",
       "3110    40       20.0        3.0        125000       1  0    1        0   \n",
       "16372   45       12.0        5.0        100000       1  0    1        1   \n",
       "\n",
       "       Q1_Female  Q1_Prefer not to say  Q1_Prefer to self-describe  \\\n",
       "587            0                     0                           0   \n",
       "3065           0                     0                           0   \n",
       "8435           0                     0                           0   \n",
       "3110           1                     0                           0   \n",
       "16372          0                     0                           0   \n",
       "\n",
       "       Q3_United States of America  Q3_India  Q3_China  major_cs  major_other  \\\n",
       "587                              0         1         0         0            1   \n",
       "3065                             0         1         0         1            0   \n",
       "8435                             0         1         0         0            1   \n",
       "3110                             1         0         0         0            1   \n",
       "16372                            1         0         0         0            1   \n",
       "\n",
       "       major_eng  major_stat  \n",
       "587            0           0  \n",
       "3065           0           0  \n",
       "8435           0           0  \n",
       "3110           0           0  \n",
       "16372          0           0  "
      ]
     },
     "execution_count": 7,
     "metadata": {},
     "output_type": "execute_result"
    }
   ],
   "source": [
    "X.head()"
   ]
  },
  {
   "cell_type": "code",
   "execution_count": 8,
   "metadata": {},
   "outputs": [
    {
     "data": {
      "text/plain": [
       "587      1\n",
       "3065     0\n",
       "8435     0\n",
       "3110     0\n",
       "16372    1\n",
       "dtype: int64"
      ]
     },
     "execution_count": 8,
     "metadata": {},
     "output_type": "execute_result"
    }
   ],
   "source": [
    "y.head()"
   ]
  },
  {
   "cell_type": "markdown",
   "metadata": {},
   "source": [
    "early stopping을 사용하면 오버피팅을 줄일수 있다."
   ]
  },
  {
   "cell_type": "markdown",
   "metadata": {},
   "source": [
    "### 10.1 Early Stopping Rounds"
   ]
  },
  {
   "cell_type": "code",
   "execution_count": 9,
   "metadata": {},
   "outputs": [
    {
     "data": {
      "text/plain": [
       "0.7458563535911602"
      ]
     },
     "execution_count": 9,
     "metadata": {},
     "output_type": "execute_result"
    }
   ],
   "source": [
    "xg = xgb.XGBClassifier()\n",
    "xg.fit(X_train, y_train)\n",
    "xg.score(X_test, y_test)"
   ]
  },
  {
   "cell_type": "markdown",
   "metadata": {},
   "source": [
    "이제 early_stopping_rounds를 설정해보자.  \n",
    "그리고 eval_set도 설정해보자. eval_set은 validation data를 지정하는 부분이다. 여기서는 학습, 시험 데이터를 지정한다.  \n",
    "여기서는 early_stopping_rounds=20으로 설정하였다. 다시말해 20번 rounds(트리)를 진행해서 성능 개선이 없으면 학습을 정지하는 것이다.  \n",
    "트리수는 디펄트로 100개로 진행한다.\n"
   ]
  },
  {
   "cell_type": "code",
   "execution_count": 10,
   "metadata": {},
   "outputs": [
    {
     "name": "stdout",
     "output_type": "stream",
     "text": [
      "[0]\tvalidation_0-logloss:0.61534\tvalidation_1-logloss:0.61775\n",
      "[1]\tvalidation_0-logloss:0.57046\tvalidation_1-logloss:0.57623\n",
      "[2]\tvalidation_0-logloss:0.54011\tvalidation_1-logloss:0.55333\n",
      "[3]\tvalidation_0-logloss:0.51965\tvalidation_1-logloss:0.53711\n",
      "[4]\tvalidation_0-logloss:0.50419\tvalidation_1-logloss:0.52511\n",
      "[5]\tvalidation_0-logloss:0.49176\tvalidation_1-logloss:0.51741\n",
      "[6]\tvalidation_0-logloss:0.48159\tvalidation_1-logloss:0.51277\n",
      "[7]\tvalidation_0-logloss:0.47221\tvalidation_1-logloss:0.51040\n",
      "[8]\tvalidation_0-logloss:0.46221\tvalidation_1-logloss:0.50713\n",
      "[9]\tvalidation_0-logloss:0.45700\tvalidation_1-logloss:0.50583\n",
      "[10]\tvalidation_0-logloss:0.45062\tvalidation_1-logloss:0.50430\n",
      "[11]\tvalidation_0-logloss:0.44533\tvalidation_1-logloss:0.50338\n",
      "[12]\tvalidation_0-logloss:0.43736\tvalidation_1-logloss:0.50033\n",
      "[13]\tvalidation_0-logloss:0.43399\tvalidation_1-logloss:0.50034\n",
      "[14]\tvalidation_0-logloss:0.43004\tvalidation_1-logloss:0.50192\n",
      "[15]\tvalidation_0-logloss:0.42550\tvalidation_1-logloss:0.50268\n",
      "[16]\tvalidation_0-logloss:0.42169\tvalidation_1-logloss:0.50196\n",
      "[17]\tvalidation_0-logloss:0.41854\tvalidation_1-logloss:0.50223\n",
      "[18]\tvalidation_0-logloss:0.41485\tvalidation_1-logloss:0.50360\n",
      "[19]\tvalidation_0-logloss:0.41228\tvalidation_1-logloss:0.50527\n",
      "[20]\tvalidation_0-logloss:0.40872\tvalidation_1-logloss:0.50839\n",
      "[21]\tvalidation_0-logloss:0.40490\tvalidation_1-logloss:0.50623\n",
      "[22]\tvalidation_0-logloss:0.40280\tvalidation_1-logloss:0.50806\n",
      "[23]\tvalidation_0-logloss:0.39942\tvalidation_1-logloss:0.51007\n",
      "[24]\tvalidation_0-logloss:0.39807\tvalidation_1-logloss:0.50987\n",
      "[25]\tvalidation_0-logloss:0.39473\tvalidation_1-logloss:0.51189\n",
      "[26]\tvalidation_0-logloss:0.39389\tvalidation_1-logloss:0.51170\n",
      "[27]\tvalidation_0-logloss:0.39040\tvalidation_1-logloss:0.51218\n",
      "[28]\tvalidation_0-logloss:0.38837\tvalidation_1-logloss:0.51135\n",
      "[29]\tvalidation_0-logloss:0.38569\tvalidation_1-logloss:0.51202\n",
      "[30]\tvalidation_0-logloss:0.37945\tvalidation_1-logloss:0.51352\n",
      "[31]\tvalidation_0-logloss:0.37840\tvalidation_1-logloss:0.51545\n",
      "[32]\tvalidation_0-logloss:0.37538\tvalidation_1-logloss:0.51581\n"
     ]
    },
    {
     "data": {
      "text/html": [
       "<style>#sk-container-id-1 {color: black;background-color: white;}#sk-container-id-1 pre{padding: 0;}#sk-container-id-1 div.sk-toggleable {background-color: white;}#sk-container-id-1 label.sk-toggleable__label {cursor: pointer;display: block;width: 100%;margin-bottom: 0;padding: 0.3em;box-sizing: border-box;text-align: center;}#sk-container-id-1 label.sk-toggleable__label-arrow:before {content: \"▸\";float: left;margin-right: 0.25em;color: #696969;}#sk-container-id-1 label.sk-toggleable__label-arrow:hover:before {color: black;}#sk-container-id-1 div.sk-estimator:hover label.sk-toggleable__label-arrow:before {color: black;}#sk-container-id-1 div.sk-toggleable__content {max-height: 0;max-width: 0;overflow: hidden;text-align: left;background-color: #f0f8ff;}#sk-container-id-1 div.sk-toggleable__content pre {margin: 0.2em;color: black;border-radius: 0.25em;background-color: #f0f8ff;}#sk-container-id-1 input.sk-toggleable__control:checked~div.sk-toggleable__content {max-height: 200px;max-width: 100%;overflow: auto;}#sk-container-id-1 input.sk-toggleable__control:checked~label.sk-toggleable__label-arrow:before {content: \"▾\";}#sk-container-id-1 div.sk-estimator input.sk-toggleable__control:checked~label.sk-toggleable__label {background-color: #d4ebff;}#sk-container-id-1 div.sk-label input.sk-toggleable__control:checked~label.sk-toggleable__label {background-color: #d4ebff;}#sk-container-id-1 input.sk-hidden--visually {border: 0;clip: rect(1px 1px 1px 1px);clip: rect(1px, 1px, 1px, 1px);height: 1px;margin: -1px;overflow: hidden;padding: 0;position: absolute;width: 1px;}#sk-container-id-1 div.sk-estimator {font-family: monospace;background-color: #f0f8ff;border: 1px dotted black;border-radius: 0.25em;box-sizing: border-box;margin-bottom: 0.5em;}#sk-container-id-1 div.sk-estimator:hover {background-color: #d4ebff;}#sk-container-id-1 div.sk-parallel-item::after {content: \"\";width: 100%;border-bottom: 1px solid gray;flex-grow: 1;}#sk-container-id-1 div.sk-label:hover label.sk-toggleable__label {background-color: #d4ebff;}#sk-container-id-1 div.sk-serial::before {content: \"\";position: absolute;border-left: 1px solid gray;box-sizing: border-box;top: 0;bottom: 0;left: 50%;z-index: 0;}#sk-container-id-1 div.sk-serial {display: flex;flex-direction: column;align-items: center;background-color: white;padding-right: 0.2em;padding-left: 0.2em;position: relative;}#sk-container-id-1 div.sk-item {position: relative;z-index: 1;}#sk-container-id-1 div.sk-parallel {display: flex;align-items: stretch;justify-content: center;background-color: white;position: relative;}#sk-container-id-1 div.sk-item::before, #sk-container-id-1 div.sk-parallel-item::before {content: \"\";position: absolute;border-left: 1px solid gray;box-sizing: border-box;top: 0;bottom: 0;left: 50%;z-index: -1;}#sk-container-id-1 div.sk-parallel-item {display: flex;flex-direction: column;z-index: 1;position: relative;background-color: white;}#sk-container-id-1 div.sk-parallel-item:first-child::after {align-self: flex-end;width: 50%;}#sk-container-id-1 div.sk-parallel-item:last-child::after {align-self: flex-start;width: 50%;}#sk-container-id-1 div.sk-parallel-item:only-child::after {width: 0;}#sk-container-id-1 div.sk-dashed-wrapped {border: 1px dashed gray;margin: 0 0.4em 0.5em 0.4em;box-sizing: border-box;padding-bottom: 0.4em;background-color: white;}#sk-container-id-1 div.sk-label label {font-family: monospace;font-weight: bold;display: inline-block;line-height: 1.2em;}#sk-container-id-1 div.sk-label-container {text-align: center;}#sk-container-id-1 div.sk-container {/* jupyter's `normalize.less` sets `[hidden] { display: none; }` but bootstrap.min.css set `[hidden] { display: none !important; }` so we also need the `!important` here to be able to override the default hidden behavior on the sphinx rendered scikit-learn.org. See: https://github.com/scikit-learn/scikit-learn/issues/21755 */display: inline-block !important;position: relative;}#sk-container-id-1 div.sk-text-repr-fallback {display: none;}</style><div id=\"sk-container-id-1\" class=\"sk-top-container\"><div class=\"sk-text-repr-fallback\"><pre>XGBClassifier(base_score=None, booster=None, callbacks=None,\n",
       "              colsample_bylevel=None, colsample_bynode=None,\n",
       "              colsample_bytree=None, early_stopping_rounds=20,\n",
       "              enable_categorical=False, eval_metric=None, feature_types=None,\n",
       "              gamma=None, gpu_id=None, grow_policy=None, importance_type=None,\n",
       "              interaction_constraints=None, learning_rate=None, max_bin=None,\n",
       "              max_cat_threshold=None, max_cat_to_onehot=None,\n",
       "              max_delta_step=None, max_depth=None, max_leaves=None,\n",
       "              min_child_weight=None, missing=nan, monotone_constraints=None,\n",
       "              n_estimators=100, n_jobs=None, num_parallel_tree=None,\n",
       "              predictor=None, random_state=None, ...)</pre><b>In a Jupyter environment, please rerun this cell to show the HTML representation or trust the notebook. <br />On GitHub, the HTML representation is unable to render, please try loading this page with nbviewer.org.</b></div><div class=\"sk-container\" hidden><div class=\"sk-item\"><div class=\"sk-estimator sk-toggleable\"><input class=\"sk-toggleable__control sk-hidden--visually\" id=\"sk-estimator-id-1\" type=\"checkbox\" checked><label for=\"sk-estimator-id-1\" class=\"sk-toggleable__label sk-toggleable__label-arrow\">XGBClassifier</label><div class=\"sk-toggleable__content\"><pre>XGBClassifier(base_score=None, booster=None, callbacks=None,\n",
       "              colsample_bylevel=None, colsample_bynode=None,\n",
       "              colsample_bytree=None, early_stopping_rounds=20,\n",
       "              enable_categorical=False, eval_metric=None, feature_types=None,\n",
       "              gamma=None, gpu_id=None, grow_policy=None, importance_type=None,\n",
       "              interaction_constraints=None, learning_rate=None, max_bin=None,\n",
       "              max_cat_threshold=None, max_cat_to_onehot=None,\n",
       "              max_delta_step=None, max_depth=None, max_leaves=None,\n",
       "              min_child_weight=None, missing=nan, monotone_constraints=None,\n",
       "              n_estimators=100, n_jobs=None, num_parallel_tree=None,\n",
       "              predictor=None, random_state=None, ...)</pre></div></div></div></div></div>"
      ],
      "text/plain": [
       "XGBClassifier(base_score=None, booster=None, callbacks=None,\n",
       "              colsample_bylevel=None, colsample_bynode=None,\n",
       "              colsample_bytree=None, early_stopping_rounds=20,\n",
       "              enable_categorical=False, eval_metric=None, feature_types=None,\n",
       "              gamma=None, gpu_id=None, grow_policy=None, importance_type=None,\n",
       "              interaction_constraints=None, learning_rate=None, max_bin=None,\n",
       "              max_cat_threshold=None, max_cat_to_onehot=None,\n",
       "              max_delta_step=None, max_depth=None, max_leaves=None,\n",
       "              min_child_weight=None, missing=nan, monotone_constraints=None,\n",
       "              n_estimators=100, n_jobs=None, num_parallel_tree=None,\n",
       "              predictor=None, random_state=None, ...)"
      ]
     },
     "execution_count": 10,
     "metadata": {},
     "output_type": "execute_result"
    }
   ],
   "source": [
    "xg = xgb.XGBClassifier(early_stopping_rounds = 20)\n",
    "xg.fit(X_train, y_train,\n",
    "       eval_set = [(X_train, y_train),\n",
    "                   (X_test, y_test)\n",
    "                   ]\n",
    "       )"
   ]
  },
  {
   "cell_type": "code",
   "execution_count": 11,
   "metadata": {},
   "outputs": [
    {
     "data": {
      "text/plain": [
       "0.7558011049723757"
      ]
     },
     "execution_count": 11,
     "metadata": {},
     "output_type": "execute_result"
    }
   ],
   "source": [
    "xg.score(X_test, y_test)"
   ]
  },
  {
   "cell_type": "markdown",
   "metadata": {},
   "source": [
    "이제 모델 수를 살펴보자."
   ]
  },
  {
   "cell_type": "code",
   "execution_count": 12,
   "metadata": {},
   "outputs": [
    {
     "data": {
      "text/plain": [
       "13"
      ]
     },
     "execution_count": 12,
     "metadata": {},
     "output_type": "execute_result"
    }
   ],
   "source": [
    "xg.best_ntree_limit"
   ]
  },
  {
   "cell_type": "markdown",
   "metadata": {},
   "source": [
    "### 10.2 Plotting Tree Performance"
   ]
  },
  {
   "cell_type": "markdown",
   "metadata": {},
   "source": [
    ".eval_results() 함수를 실행하면, eval_dataset에 대한 결과를 출력한다.  \n",
    "- validation_0 is for training data\n",
    "- validation_1 is for testing data\n"
   ]
  },
  {
   "cell_type": "code",
   "execution_count": 13,
   "metadata": {},
   "outputs": [
    {
     "data": {
      "text/plain": [
       "{'validation_0': OrderedDict([('logloss',\n",
       "               [0.6153406503923696,\n",
       "                0.5704566627034644,\n",
       "                0.5401074953836288,\n",
       "                0.519646179894983,\n",
       "                0.5041859194071372,\n",
       "                0.49175883369140716,\n",
       "                0.4815858465553177,\n",
       "                0.4722135672319274,\n",
       "                0.46221246084118905,\n",
       "                0.4570046103131291,\n",
       "                0.45062119092139025,\n",
       "                0.44533101600634545,\n",
       "                0.4373589513231934,\n",
       "                0.4339914069003403,\n",
       "                0.4300442738158372,\n",
       "                0.42550266018419824,\n",
       "                0.42168949383456633,\n",
       "                0.41853931894949614,\n",
       "                0.41485192559138645,\n",
       "                0.4122836278413833,\n",
       "                0.4087179538231096,\n",
       "                0.404898268053467,\n",
       "                0.4027963532207719,\n",
       "                0.39941699938733854,\n",
       "                0.3980718078477953,\n",
       "                0.39473153180519993,\n",
       "                0.39388538948800944,\n",
       "                0.39039599470886893,\n",
       "                0.38837148147752126,\n",
       "                0.38569152626668,\n",
       "                0.3794510693344513,\n",
       "                0.37840359436957194,\n",
       "                0.37538466192241227])]),\n",
       " 'validation_1': OrderedDict([('logloss',\n",
       "               [0.6177459120091813,\n",
       "                0.5762297115602546,\n",
       "                0.5533292921537852,\n",
       "                0.5371078260695736,\n",
       "                0.5251118483299708,\n",
       "                0.5174100387491574,\n",
       "                0.5127666981510036,\n",
       "                0.5103968678752362,\n",
       "                0.5071349115538004,\n",
       "                0.5058257413585542,\n",
       "                0.5043005662687247,\n",
       "                0.5033770955193438,\n",
       "                0.5003349146419797,\n",
       "                0.5003436393562437,\n",
       "                0.5019165392779843,\n",
       "                0.502677517614806,\n",
       "                0.501961292550791,\n",
       "                0.5022262006329157,\n",
       "                0.5035970173261607,\n",
       "                0.5052709663297096,\n",
       "                0.508388655664636,\n",
       "                0.5062287504923689,\n",
       "                0.5080608455824424,\n",
       "                0.5100736726054829,\n",
       "                0.5098673969229365,\n",
       "                0.5118910041889845,\n",
       "                0.5117007332982608,\n",
       "                0.5121825202836434,\n",
       "                0.5113475993625531,\n",
       "                0.5120185821281118,\n",
       "                0.5135189292720874,\n",
       "                0.5154504034915188,\n",
       "                0.5158137131755071])])}"
      ]
     },
     "execution_count": 13,
     "metadata": {},
     "output_type": "execute_result"
    }
   ],
   "source": [
    "results = xg.evals_result()\n",
    "results"
   ]
  },
  {
   "cell_type": "code",
   "execution_count": 14,
   "metadata": {},
   "outputs": [
    {
     "data": {
      "text/plain": [
       "Text(0.5, 0, 'ntrees')"
      ]
     },
     "execution_count": 14,
     "metadata": {},
     "output_type": "execute_result"
    },
    {
     "data": {
      "image/png": "[encoded data removed]",
      "text/plain": [
       "<Figure size 500x400 with 1 Axes>"
      ]
     },
     "metadata": {},
     "output_type": "display_data"
    }
   ],
   "source": [
    "# Testing score is best at 13 trees\n",
    "results = xg.evals_result()\n",
    "fig, ax = plt.subplots(figsize=(8, 4))\n",
    "ax = (pd.DataFrame({'training': results['validation_0']['logloss'],\n",
    "'testing': results['validation_1']['logloss']})\n",
    ".assign(ntrees=lambda adf: range(1, len(adf)+1))\n",
    ".set_index('ntrees')\n",
    ".plot(figsize=(5,4), ax=ax,\n",
    "title='eval_results with early_stopping')\n",
    ")\n",
    "ax.annotate('Best number \\nof trees (13)', xy=(13, .498),\n",
    "xytext=(20,.42), arrowprops={'color':'k'})\n",
    "ax.set_xlabel('ntrees')"
   ]
  },
  {
   "cell_type": "code",
   "execution_count": 15,
   "metadata": {},
   "outputs": [
    {
     "name": "stdout",
     "output_type": "stream",
     "text": [
      "100\n",
      "13\n"
     ]
    }
   ],
   "source": [
    "print(xg.n_estimators)\n",
    "print(xg.best_ntree_limit)"
   ]
  },
  {
   "cell_type": "markdown",
   "metadata": {},
   "source": [
    "early stopping을 하지 않았을 때보다 성능이 좋다.   \n",
    "오버피팅을 방지해준다."
   ]
  },
  {
   "cell_type": "markdown",
   "metadata": {},
   "source": [
    "### 10.3 Different eval_metrics"
   ]
  },
  {
   "cell_type": "markdown",
   "metadata": {},
   "source": [
    "eval_metric 옵션을 사용하면 평가용 메트릭을 설정할 수 있다.   \n",
    "분류용 eval_metric은 다음과 같다.  \n",
    "\n",
    "- Log loss(`loglos`) : 디펄트 값\n",
    "- AUC(`auc`)  \n",
    "- Accuracy(`error`)  \n",
    "- 커스텀 함수도 사용가능"
   ]
  },
  {
   "cell_type": "code",
   "execution_count": 16,
   "metadata": {},
   "outputs": [
    {
     "name": "stdout",
     "output_type": "stream",
     "text": [
      "[0]\tvalidation_0-error:0.24739\tvalidation_1-error:0.27072\n",
      "[1]\tvalidation_0-error:0.24218\tvalidation_1-error:0.26188\n",
      "[2]\tvalidation_0-error:0.23839\tvalidation_1-error:0.24751\n",
      "[3]\tvalidation_0-error:0.23697\tvalidation_1-error:0.25193\n",
      "[4]\tvalidation_0-error:0.23081\tvalidation_1-error:0.24530\n",
      "[5]\tvalidation_0-error:0.22607\tvalidation_1-error:0.24420\n",
      "[6]\tvalidation_0-error:0.22180\tvalidation_1-error:0.24862\n",
      "[7]\tvalidation_0-error:0.21801\tvalidation_1-error:0.24862\n",
      "[8]\tvalidation_0-error:0.21280\tvalidation_1-error:0.25304\n",
      "[9]\tvalidation_0-error:0.21043\tvalidation_1-error:0.25304\n",
      "[10]\tvalidation_0-error:0.20806\tvalidation_1-error:0.24641\n",
      "[11]\tvalidation_0-error:0.20284\tvalidation_1-error:0.25193\n",
      "[12]\tvalidation_0-error:0.20047\tvalidation_1-error:0.24420\n",
      "[13]\tvalidation_0-error:0.19668\tvalidation_1-error:0.24420\n",
      "[14]\tvalidation_0-error:0.19384\tvalidation_1-error:0.24530\n",
      "[15]\tvalidation_0-error:0.18815\tvalidation_1-error:0.24199\n",
      "[16]\tvalidation_0-error:0.18531\tvalidation_1-error:0.24199\n",
      "[17]\tvalidation_0-error:0.18389\tvalidation_1-error:0.23867\n",
      "[18]\tvalidation_0-error:0.18531\tvalidation_1-error:0.23757\n",
      "[19]\tvalidation_0-error:0.18815\tvalidation_1-error:0.23867\n",
      "[20]\tvalidation_0-error:0.18246\tvalidation_1-error:0.24199\n",
      "[21]\tvalidation_0-error:0.17915\tvalidation_1-error:0.24862\n",
      "[22]\tvalidation_0-error:0.17867\tvalidation_1-error:0.24751\n",
      "[23]\tvalidation_0-error:0.17630\tvalidation_1-error:0.24199\n",
      "[24]\tvalidation_0-error:0.17488\tvalidation_1-error:0.24309\n",
      "[25]\tvalidation_0-error:0.17251\tvalidation_1-error:0.24530\n",
      "[26]\tvalidation_0-error:0.17204\tvalidation_1-error:0.24309\n",
      "[27]\tvalidation_0-error:0.16825\tvalidation_1-error:0.24199\n",
      "[28]\tvalidation_0-error:0.16730\tvalidation_1-error:0.24088\n",
      "[29]\tvalidation_0-error:0.16019\tvalidation_1-error:0.24199\n",
      "[30]\tvalidation_0-error:0.15782\tvalidation_1-error:0.24972\n",
      "[31]\tvalidation_0-error:0.15972\tvalidation_1-error:0.24862\n",
      "[32]\tvalidation_0-error:0.15924\tvalidation_1-error:0.24641\n",
      "[33]\tvalidation_0-error:0.15403\tvalidation_1-error:0.25635\n",
      "[34]\tvalidation_0-error:0.15261\tvalidation_1-error:0.25525\n",
      "[35]\tvalidation_0-error:0.15213\tvalidation_1-error:0.25525\n",
      "[36]\tvalidation_0-error:0.15166\tvalidation_1-error:0.25525\n",
      "[37]\tvalidation_0-error:0.14550\tvalidation_1-error:0.25525\n"
     ]
    },
    {
     "data": {
      "text/html": [
       "<style>#sk-container-id-2 {color: black;background-color: white;}#sk-container-id-2 pre{padding: 0;}#sk-container-id-2 div.sk-toggleable {background-color: white;}#sk-container-id-2 label.sk-toggleable__label {cursor: pointer;display: block;width: 100%;margin-bottom: 0;padding: 0.3em;box-sizing: border-box;text-align: center;}#sk-container-id-2 label.sk-toggleable__label-arrow:before {content: \"▸\";float: left;margin-right: 0.25em;color: #696969;}#sk-container-id-2 label.sk-toggleable__label-arrow:hover:before {color: black;}#sk-container-id-2 div.sk-estimator:hover label.sk-toggleable__label-arrow:before {color: black;}#sk-container-id-2 div.sk-toggleable__content {max-height: 0;max-width: 0;overflow: hidden;text-align: left;background-color: #f0f8ff;}#sk-container-id-2 div.sk-toggleable__content pre {margin: 0.2em;color: black;border-radius: 0.25em;background-color: #f0f8ff;}#sk-container-id-2 input.sk-toggleable__control:checked~div.sk-toggleable__content {max-height: 200px;max-width: 100%;overflow: auto;}#sk-container-id-2 input.sk-toggleable__control:checked~label.sk-toggleable__label-arrow:before {content: \"▾\";}#sk-container-id-2 div.sk-estimator input.sk-toggleable__control:checked~label.sk-toggleable__label {background-color: #d4ebff;}#sk-container-id-2 div.sk-label input.sk-toggleable__control:checked~label.sk-toggleable__label {background-color: #d4ebff;}#sk-container-id-2 input.sk-hidden--visually {border: 0;clip: rect(1px 1px 1px 1px);clip: rect(1px, 1px, 1px, 1px);height: 1px;margin: -1px;overflow: hidden;padding: 0;position: absolute;width: 1px;}#sk-container-id-2 div.sk-estimator {font-family: monospace;background-color: #f0f8ff;border: 1px dotted black;border-radius: 0.25em;box-sizing: border-box;margin-bottom: 0.5em;}#sk-container-id-2 div.sk-estimator:hover {background-color: #d4ebff;}#sk-container-id-2 div.sk-parallel-item::after {content: \"\";width: 100%;border-bottom: 1px solid gray;flex-grow: 1;}#sk-container-id-2 div.sk-label:hover label.sk-toggleable__label {background-color: #d4ebff;}#sk-container-id-2 div.sk-serial::before {content: \"\";position: absolute;border-left: 1px solid gray;box-sizing: border-box;top: 0;bottom: 0;left: 50%;z-index: 0;}#sk-container-id-2 div.sk-serial {display: flex;flex-direction: column;align-items: center;background-color: white;padding-right: 0.2em;padding-left: 0.2em;position: relative;}#sk-container-id-2 div.sk-item {position: relative;z-index: 1;}#sk-container-id-2 div.sk-parallel {display: flex;align-items: stretch;justify-content: center;background-color: white;position: relative;}#sk-container-id-2 div.sk-item::before, #sk-container-id-2 div.sk-parallel-item::before {content: \"\";position: absolute;border-left: 1px solid gray;box-sizing: border-box;top: 0;bottom: 0;left: 50%;z-index: -1;}#sk-container-id-2 div.sk-parallel-item {display: flex;flex-direction: column;z-index: 1;position: relative;background-color: white;}#sk-container-id-2 div.sk-parallel-item:first-child::after {align-self: flex-end;width: 50%;}#sk-container-id-2 div.sk-parallel-item:last-child::after {align-self: flex-start;width: 50%;}#sk-container-id-2 div.sk-parallel-item:only-child::after {width: 0;}#sk-container-id-2 div.sk-dashed-wrapped {border: 1px dashed gray;margin: 0 0.4em 0.5em 0.4em;box-sizing: border-box;padding-bottom: 0.4em;background-color: white;}#sk-container-id-2 div.sk-label label {font-family: monospace;font-weight: bold;display: inline-block;line-height: 1.2em;}#sk-container-id-2 div.sk-label-container {text-align: center;}#sk-container-id-2 div.sk-container {/* jupyter's `normalize.less` sets `[hidden] { display: none; }` but bootstrap.min.css set `[hidden] { display: none !important; }` so we also need the `!important` here to be able to override the default hidden behavior on the sphinx rendered scikit-learn.org. See: https://github.com/scikit-learn/scikit-learn/issues/21755 */display: inline-block !important;position: relative;}#sk-container-id-2 div.sk-text-repr-fallback {display: none;}</style><div id=\"sk-container-id-2\" class=\"sk-top-container\"><div class=\"sk-text-repr-fallback\"><pre>XGBClassifier(base_score=None, booster=None, callbacks=None,\n",
       "              colsample_bylevel=None, colsample_bynode=None,\n",
       "              colsample_bytree=None, early_stopping_rounds=20,\n",
       "              enable_categorical=False, eval_metric=&#x27;error&#x27;, feature_types=None,\n",
       "              gamma=None, gpu_id=None, grow_policy=None, importance_type=None,\n",
       "              interaction_constraints=None, learning_rate=None, max_bin=None,\n",
       "              max_cat_threshold=None, max_cat_to_onehot=None,\n",
       "              max_delta_step=None, max_depth=None, max_leaves=None,\n",
       "              min_child_weight=None, missing=nan, monotone_constraints=None,\n",
       "              n_estimators=100, n_jobs=None, num_parallel_tree=None,\n",
       "              predictor=None, random_state=None, ...)</pre><b>In a Jupyter environment, please rerun this cell to show the HTML representation or trust the notebook. <br />On GitHub, the HTML representation is unable to render, please try loading this page with nbviewer.org.</b></div><div class=\"sk-container\" hidden><div class=\"sk-item\"><div class=\"sk-estimator sk-toggleable\"><input class=\"sk-toggleable__control sk-hidden--visually\" id=\"sk-estimator-id-2\" type=\"checkbox\" checked><label for=\"sk-estimator-id-2\" class=\"sk-toggleable__label sk-toggleable__label-arrow\">XGBClassifier</label><div class=\"sk-toggleable__content\"><pre>XGBClassifier(base_score=None, booster=None, callbacks=None,\n",
       "              colsample_bylevel=None, colsample_bynode=None,\n",
       "              colsample_bytree=None, early_stopping_rounds=20,\n",
       "              enable_categorical=False, eval_metric=&#x27;error&#x27;, feature_types=None,\n",
       "              gamma=None, gpu_id=None, grow_policy=None, importance_type=None,\n",
       "              interaction_constraints=None, learning_rate=None, max_bin=None,\n",
       "              max_cat_threshold=None, max_cat_to_onehot=None,\n",
       "              max_delta_step=None, max_depth=None, max_leaves=None,\n",
       "              min_child_weight=None, missing=nan, monotone_constraints=None,\n",
       "              n_estimators=100, n_jobs=None, num_parallel_tree=None,\n",
       "              predictor=None, random_state=None, ...)</pre></div></div></div></div></div>"
      ],
      "text/plain": [
       "XGBClassifier(base_score=None, booster=None, callbacks=None,\n",
       "              colsample_bylevel=None, colsample_bynode=None,\n",
       "              colsample_bytree=None, early_stopping_rounds=20,\n",
       "              enable_categorical=False, eval_metric='error', feature_types=None,\n",
       "              gamma=None, gpu_id=None, grow_policy=None, importance_type=None,\n",
       "              interaction_constraints=None, learning_rate=None, max_bin=None,\n",
       "              max_cat_threshold=None, max_cat_to_onehot=None,\n",
       "              max_delta_step=None, max_depth=None, max_leaves=None,\n",
       "              min_child_weight=None, missing=nan, monotone_constraints=None,\n",
       "              n_estimators=100, n_jobs=None, num_parallel_tree=None,\n",
       "              predictor=None, random_state=None, ...)"
      ]
     },
     "execution_count": 16,
     "metadata": {},
     "output_type": "execute_result"
    }
   ],
   "source": [
    "xg_err = xgb.XGBClassifier(early_stopping_rounds = 20,\n",
    "                           eval_metric = 'error'\n",
    "                           )\n",
    "xg_err.fit(X_train, y_train,\n",
    "       eval_set = [(X_train, y_train),\n",
    "                   (X_test, y_test)\n",
    "                   ]\n",
    "       )"
   ]
  },
  {
   "cell_type": "code",
   "execution_count": 17,
   "metadata": {},
   "outputs": [
    {
     "data": {
      "text/plain": [
       "19"
      ]
     },
     "execution_count": 17,
     "metadata": {},
     "output_type": "execute_result"
    }
   ],
   "source": [
    "xg_err.best_ntree_limit"
   ]
  },
  {
   "cell_type": "code",
   "execution_count": null,
   "metadata": {},
   "outputs": [],
   "source": []
  }
 ],
 "metadata": {
  "kernelspec": {
   "display_name": "base",
   "language": "python",
   "name": "python3"
  },
  "language_info": {
   "codemirror_mode": {
    "name": "ipython",
    "version": 3
   },
   "file_extension": ".py",
   "mimetype": "text/x-python",
   "name": "python",
   "nbconvert_exporter": "python",
   "pygments_lexer": "ipython3",
   "version": "3.9.13"
  },
  "orig_nbformat": 4
 },
 "nbformat": 4,
 "nbformat_minor": 2
}
