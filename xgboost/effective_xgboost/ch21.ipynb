{
 "cells": [
  {
   "attachments": {},
   "cell_type": "markdown",
   "metadata": {},
   "source": [
    "## ch21 Serving Models with MLFLOW\n",
    "- https://github.com/mattharrison/effective_xgboost_book/blob/main/xgbcode.ipynb"
   ]
  },
  {
   "attachments": {},
   "cell_type": "markdown",
   "metadata": {},
   "source": [
    "<div style=\"text-align: right\"> <b>Author : Kwang Myung Yu</b></div>\n",
    "<div style=\"text-align: right\"> Initial upload: 2023.8.18</div>\n",
    "<div style=\"text-align: right\"> Last update: 2023.8.18</div>"
   ]
  },
  {
   "cell_type": "code",
   "execution_count": 1,
   "metadata": {},
   "outputs": [],
   "source": [
    "import os\n",
    "import sys\n",
    "import time\n",
    "import numpy as np\n",
    "import pandas as pd\n",
    "import matplotlib as mpl\n",
    "import matplotlib.pyplot as plt\n",
    "import matplotlib.gridspec as gridspec\n",
    "import seaborn as sns\n",
    "from scipy import stats\n",
    "import warnings; warnings.filterwarnings('ignore')\n",
    "#plt.style.use('ggplot')\n",
    "plt.style.use('seaborn-whitegrid')\n",
    "%matplotlib inline"
   ]
  },
  {
   "attachments": {},
   "cell_type": "markdown",
   "metadata": {},
   "source": [
    "### 21.1 Installation and Setup"
   ]
  },
  {
   "cell_type": "code",
   "execution_count": 2,
   "metadata": {},
   "outputs": [],
   "source": [
    "from feature_engine import encoding, imputation\n",
    "from hyperopt import fmin, tpe, hp, STATUS_OK, Trials\n",
    "import matplotlib.pyplot as plt\n",
    "import mlflow\n",
    "import numpy as np\n",
    "import pandas as pd\n",
    "from sklearn import base, metrics, model_selection, \\\n",
    "pipeline, preprocessing\n",
    "from sklearn.metrics import accuracy_score, roc_auc_score\n",
    "import xgboost as xgb\n",
    "import urllib\n",
    "import zipfile\n",
    "\n",
    "from sklearn import model_selection, preprocessing\n",
    "import xg_helpers as xhelp"
   ]
  },
  {
   "cell_type": "code",
   "execution_count": 3,
   "metadata": {},
   "outputs": [],
   "source": [
    "url = 'https://github.com/mattharrison/datasets/raw/master/data/'\\\n",
    "'kaggle-survey-2018.zip'\n",
    "fname = 'kaggle-survey-2018.zip'\n",
    "member_name = 'multipleChoiceResponses.csv'"
   ]
  },
  {
   "cell_type": "code",
   "execution_count": 4,
   "metadata": {},
   "outputs": [],
   "source": [
    "raw = xhelp.extract_zip(url, fname, member_name)\n",
    "## Create raw X and raw y\n",
    "kag_X, kag_y = xhelp.get_rawX_y(raw, 'Q6')"
   ]
  },
  {
   "cell_type": "code",
   "execution_count": 5,
   "metadata": {},
   "outputs": [],
   "source": [
    "## Split data\n",
    "kag_X_train, kag_X_test, kag_y_train, kag_y_test = \\\n",
    "model_selection.train_test_split(\n",
    "kag_X, kag_y, test_size=.3, random_state=42, stratify=kag_y)"
   ]
  },
  {
   "cell_type": "code",
   "execution_count": 6,
   "metadata": {},
   "outputs": [],
   "source": [
    "## Transform X with pipeline\n",
    "X_train = xhelp.kag_pl.fit_transform(kag_X_train)\n",
    "X_test = xhelp.kag_pl.transform(kag_X_test)\n",
    "## Transform y with label encoder\n",
    "label_encoder = preprocessing.LabelEncoder()\n",
    "label_encoder.fit(kag_y_train)\n",
    "y_train = label_encoder.transform(kag_y_train)\n",
    "y_test = label_encoder.transform(kag_y_test)\n",
    "# Combined Data for cross validation/etc\n",
    "X = pd.concat([X_train, X_test], axis='index')\n",
    "y = pd.Series([*y_train, *y_test], index=X.index)"
   ]
  },
  {
   "cell_type": "markdown",
   "metadata": {},
   "source": [
    "모델 학습을 위해 hyperopt를 사용   \n",
    "로깅을 위해 mlflow 사용"
   ]
  },
  {
   "cell_type": "code",
   "execution_count": 7,
   "metadata": {},
   "outputs": [],
   "source": [
    "from hyperopt import fmin, tpe, hp, STATUS_OK, Trials\n",
    "import mlflow\n",
    "from sklearn import metrics\n",
    "import xgboost as xgb"
   ]
  },
  {
   "cell_type": "code",
   "execution_count": 8,
   "metadata": {},
   "outputs": [
    {
     "data": {
      "text/plain": [
       "<Experiment: artifact_location='/Users/sguys99/Desktop/project/self-study/xgboost/effective_xgboost/ex2path', creation_time=1692832509739, experiment_id='861349195765381159', last_update_time=1692832509739, lifecycle_stage='active', name='ex3', tags={}>"
      ]
     },
     "execution_count": 8,
     "metadata": {},
     "output_type": "execute_result"
    }
   ],
   "source": [
    "ex_id = mlflow.create_experiment(name='ex3', artifact_location='ex2path')\n",
    "mlflow.set_experiment(experiment_name='ex3')"
   ]
  },
  {
   "cell_type": "code",
   "execution_count": 9,
   "metadata": {},
   "outputs": [
    {
     "name": "stdout",
     "output_type": "stream",
     "text": [
      "100%|██████████| 10/10 [00:01<00:00,  6.70trial/s, best loss: -0.7657458563535912]\n",
      "[0]\tvalidation_0-logloss:0.61792\tvalidation_1-logloss:0.61927\n",
      "[1]\tvalidation_0-logloss:0.57478\tvalidation_1-logloss:0.57918\n",
      "[2]\tvalidation_0-logloss:0.54551\tvalidation_1-logloss:0.55309\n",
      "[3]\tvalidation_0-logloss:0.52702\tvalidation_1-logloss:0.53567\n",
      "[4]\tvalidation_0-logloss:0.51445\tvalidation_1-logloss:0.52740\n",
      "[5]\tvalidation_0-logloss:0.50370\tvalidation_1-logloss:0.52021\n",
      "[6]\tvalidation_0-logloss:0.49590\tvalidation_1-logloss:0.51482\n",
      "[7]\tvalidation_0-logloss:0.48841\tvalidation_1-logloss:0.51205\n",
      "[8]\tvalidation_0-logloss:0.48254\tvalidation_1-logloss:0.50750\n",
      "[9]\tvalidation_0-logloss:0.47883\tvalidation_1-logloss:0.50669\n",
      "[10]\tvalidation_0-logloss:0.47578\tvalidation_1-logloss:0.50609\n",
      "[11]\tvalidation_0-logloss:0.46857\tvalidation_1-logloss:0.50519\n",
      "[12]\tvalidation_0-logloss:0.46562\tvalidation_1-logloss:0.50602\n",
      "[13]\tvalidation_0-logloss:0.46320\tvalidation_1-logloss:0.50568\n",
      "[14]\tvalidation_0-logloss:0.45946\tvalidation_1-logloss:0.50447\n",
      "[15]\tvalidation_0-logloss:0.45686\tvalidation_1-logloss:0.50398\n",
      "[16]\tvalidation_0-logloss:0.45118\tvalidation_1-logloss:0.50277\n",
      "[17]\tvalidation_0-logloss:0.44599\tvalidation_1-logloss:0.50422\n",
      "[18]\tvalidation_0-logloss:0.43949\tvalidation_1-logloss:0.50291\n",
      "[19]\tvalidation_0-logloss:0.43783\tvalidation_1-logloss:0.50214\n",
      "[20]\tvalidation_0-logloss:0.43667\tvalidation_1-logloss:0.50182\n",
      "[21]\tvalidation_0-logloss:0.43479\tvalidation_1-logloss:0.50362\n",
      "[22]\tvalidation_0-logloss:0.43311\tvalidation_1-logloss:0.50302\n",
      "[23]\tvalidation_0-logloss:0.43173\tvalidation_1-logloss:0.50319\n",
      "[24]\tvalidation_0-logloss:0.43073\tvalidation_1-logloss:0.50267\n",
      "[25]\tvalidation_0-logloss:0.42944\tvalidation_1-logloss:0.50384\n",
      "[26]\tvalidation_0-logloss:0.42774\tvalidation_1-logloss:0.50541\n",
      "[27]\tvalidation_0-logloss:0.42384\tvalidation_1-logloss:0.50675\n",
      "[28]\tvalidation_0-logloss:0.42332\tvalidation_1-logloss:0.50655\n",
      "[29]\tvalidation_0-logloss:0.42242\tvalidation_1-logloss:0.50652\n",
      "[30]\tvalidation_0-logloss:0.42111\tvalidation_1-logloss:0.50693\n",
      "[31]\tvalidation_0-logloss:0.41993\tvalidation_1-logloss:0.50432\n",
      "[32]\tvalidation_0-logloss:0.41874\tvalidation_1-logloss:0.50509\n",
      "[33]\tvalidation_0-logloss:0.41546\tvalidation_1-logloss:0.50475\n",
      "[34]\tvalidation_0-logloss:0.41481\tvalidation_1-logloss:0.50528\n",
      "[35]\tvalidation_0-logloss:0.41429\tvalidation_1-logloss:0.50578\n",
      "[36]\tvalidation_0-logloss:0.41395\tvalidation_1-logloss:0.50633\n",
      "[37]\tvalidation_0-logloss:0.41369\tvalidation_1-logloss:0.50642\n",
      "[38]\tvalidation_0-logloss:0.41297\tvalidation_1-logloss:0.50665\n",
      "[39]\tvalidation_0-logloss:0.41010\tvalidation_1-logloss:0.50671\n",
      "[40]\tvalidation_0-logloss:0.40749\tvalidation_1-logloss:0.50758\n",
      "[41]\tvalidation_0-logloss:0.40680\tvalidation_1-logloss:0.50706\n",
      "[42]\tvalidation_0-logloss:0.40585\tvalidation_1-logloss:0.50654\n",
      "[43]\tvalidation_0-logloss:0.40257\tvalidation_1-logloss:0.50829\n",
      "[44]\tvalidation_0-logloss:0.40153\tvalidation_1-logloss:0.50814\n",
      "[45]\tvalidation_0-logloss:0.40008\tvalidation_1-logloss:0.50947\n",
      "[46]\tvalidation_0-logloss:0.39854\tvalidation_1-logloss:0.50944\n",
      "[47]\tvalidation_0-logloss:0.39581\tvalidation_1-logloss:0.51199\n",
      "[48]\tvalidation_0-logloss:0.39409\tvalidation_1-logloss:0.51292\n",
      "[49]\tvalidation_0-logloss:0.39124\tvalidation_1-logloss:0.51340\n",
      "[50]\tvalidation_0-logloss:0.38888\tvalidation_1-logloss:0.51255\n",
      "[51]\tvalidation_0-logloss:0.38858\tvalidation_1-logloss:0.51261\n",
      "[52]\tvalidation_0-logloss:0.38681\tvalidation_1-logloss:0.51424\n",
      "[53]\tvalidation_0-logloss:0.38602\tvalidation_1-logloss:0.51465\n",
      "[54]\tvalidation_0-logloss:0.38550\tvalidation_1-logloss:0.51475\n",
      "[55]\tvalidation_0-logloss:0.38331\tvalidation_1-logloss:0.51484\n",
      "[56]\tvalidation_0-logloss:0.38305\tvalidation_1-logloss:0.51504\n",
      "[57]\tvalidation_0-logloss:0.38264\tvalidation_1-logloss:0.51498\n",
      "[58]\tvalidation_0-logloss:0.38149\tvalidation_1-logloss:0.51506\n",
      "[59]\tvalidation_0-logloss:0.38024\tvalidation_1-logloss:0.51510\n",
      "[60]\tvalidation_0-logloss:0.37729\tvalidation_1-logloss:0.51582\n",
      "[61]\tvalidation_0-logloss:0.37484\tvalidation_1-logloss:0.51598\n",
      "[62]\tvalidation_0-logloss:0.37291\tvalidation_1-logloss:0.51719\n",
      "[63]\tvalidation_0-logloss:0.37155\tvalidation_1-logloss:0.51772\n",
      "[64]\tvalidation_0-logloss:0.37081\tvalidation_1-logloss:0.51899\n",
      "[65]\tvalidation_0-logloss:0.36895\tvalidation_1-logloss:0.51905\n",
      "[66]\tvalidation_0-logloss:0.36757\tvalidation_1-logloss:0.51890\n",
      "[67]\tvalidation_0-logloss:0.36690\tvalidation_1-logloss:0.51871\n",
      "[68]\tvalidation_0-logloss:0.36605\tvalidation_1-logloss:0.51864\n",
      "[69]\tvalidation_0-logloss:0.36456\tvalidation_1-logloss:0.51821\n",
      "[70]\tvalidation_0-logloss:0.36245\tvalidation_1-logloss:0.51809\n",
      "100%|██████████| 10/10 [00:01<00:00,  9.12trial/s, best loss: -0.7624309392265194]\n",
      "[0]\tvalidation_0-logloss:0.62109\tvalidation_1-logloss:0.62391\n",
      "[1]\tvalidation_0-logloss:0.57598\tvalidation_1-logloss:0.58213\n",
      "[2]\tvalidation_0-logloss:0.55126\tvalidation_1-logloss:0.55835\n",
      "[3]\tvalidation_0-logloss:0.53161\tvalidation_1-logloss:0.54102\n",
      "[4]\tvalidation_0-logloss:0.51980\tvalidation_1-logloss:0.53381\n",
      "[5]\tvalidation_0-logloss:0.50649\tvalidation_1-logloss:0.52388\n",
      "[6]\tvalidation_0-logloss:0.49861\tvalidation_1-logloss:0.51814\n",
      "[7]\tvalidation_0-logloss:0.48903\tvalidation_1-logloss:0.51332\n",
      "[8]\tvalidation_0-logloss:0.48551\tvalidation_1-logloss:0.51051\n",
      "[9]\tvalidation_0-logloss:0.48036\tvalidation_1-logloss:0.50766\n",
      "[10]\tvalidation_0-logloss:0.47373\tvalidation_1-logloss:0.50686\n",
      "[11]\tvalidation_0-logloss:0.46855\tvalidation_1-logloss:0.50468\n",
      "[12]\tvalidation_0-logloss:0.46397\tvalidation_1-logloss:0.50336\n",
      "[13]\tvalidation_0-logloss:0.46060\tvalidation_1-logloss:0.50415\n",
      "[14]\tvalidation_0-logloss:0.45683\tvalidation_1-logloss:0.50413\n",
      "[15]\tvalidation_0-logloss:0.45335\tvalidation_1-logloss:0.50473\n",
      "[16]\tvalidation_0-logloss:0.44928\tvalidation_1-logloss:0.50340\n",
      "[17]\tvalidation_0-logloss:0.44732\tvalidation_1-logloss:0.50339\n",
      "[18]\tvalidation_0-logloss:0.44479\tvalidation_1-logloss:0.50303\n",
      "[19]\tvalidation_0-logloss:0.43887\tvalidation_1-logloss:0.50323\n",
      "[20]\tvalidation_0-logloss:0.43529\tvalidation_1-logloss:0.50311\n",
      "[21]\tvalidation_0-logloss:0.43327\tvalidation_1-logloss:0.50505\n",
      "[22]\tvalidation_0-logloss:0.43251\tvalidation_1-logloss:0.50547\n",
      "[23]\tvalidation_0-logloss:0.42846\tvalidation_1-logloss:0.50617\n",
      "[24]\tvalidation_0-logloss:0.42702\tvalidation_1-logloss:0.50613\n",
      "[25]\tvalidation_0-logloss:0.42439\tvalidation_1-logloss:0.50771\n",
      "[26]\tvalidation_0-logloss:0.42133\tvalidation_1-logloss:0.50775\n",
      "[27]\tvalidation_0-logloss:0.41892\tvalidation_1-logloss:0.50901\n",
      "[28]\tvalidation_0-logloss:0.41802\tvalidation_1-logloss:0.51056\n",
      "[29]\tvalidation_0-logloss:0.41568\tvalidation_1-logloss:0.51055\n",
      "[30]\tvalidation_0-logloss:0.41200\tvalidation_1-logloss:0.50846\n",
      "[31]\tvalidation_0-logloss:0.40845\tvalidation_1-logloss:0.50978\n",
      "[32]\tvalidation_0-logloss:0.40390\tvalidation_1-logloss:0.51299\n",
      "[33]\tvalidation_0-logloss:0.40153\tvalidation_1-logloss:0.51202\n",
      "[34]\tvalidation_0-logloss:0.39962\tvalidation_1-logloss:0.51168\n",
      "[35]\tvalidation_0-logloss:0.39806\tvalidation_1-logloss:0.51173\n",
      "[36]\tvalidation_0-logloss:0.39591\tvalidation_1-logloss:0.51106\n",
      "[37]\tvalidation_0-logloss:0.39381\tvalidation_1-logloss:0.51189\n",
      "[38]\tvalidation_0-logloss:0.39115\tvalidation_1-logloss:0.51336\n",
      "[39]\tvalidation_0-logloss:0.39018\tvalidation_1-logloss:0.51277\n",
      "[40]\tvalidation_0-logloss:0.38922\tvalidation_1-logloss:0.51297\n",
      "[41]\tvalidation_0-logloss:0.38824\tvalidation_1-logloss:0.51219\n",
      "[42]\tvalidation_0-logloss:0.38733\tvalidation_1-logloss:0.51359\n",
      "[43]\tvalidation_0-logloss:0.38618\tvalidation_1-logloss:0.51364\n",
      "[44]\tvalidation_0-logloss:0.38597\tvalidation_1-logloss:0.51376\n",
      "[45]\tvalidation_0-logloss:0.38432\tvalidation_1-logloss:0.51433\n",
      "[46]\tvalidation_0-logloss:0.38197\tvalidation_1-logloss:0.51479\n",
      "[47]\tvalidation_0-logloss:0.38068\tvalidation_1-logloss:0.51488\n",
      "[48]\tvalidation_0-logloss:0.37893\tvalidation_1-logloss:0.51434\n",
      "[49]\tvalidation_0-logloss:0.37779\tvalidation_1-logloss:0.51556\n",
      "[50]\tvalidation_0-logloss:0.37618\tvalidation_1-logloss:0.51708\n",
      "[51]\tvalidation_0-logloss:0.37445\tvalidation_1-logloss:0.51715\n",
      "[52]\tvalidation_0-logloss:0.37357\tvalidation_1-logloss:0.51790\n",
      "[53]\tvalidation_0-logloss:0.37223\tvalidation_1-logloss:0.51789\n",
      "[54]\tvalidation_0-logloss:0.37057\tvalidation_1-logloss:0.51922\n",
      "[55]\tvalidation_0-logloss:0.36830\tvalidation_1-logloss:0.51828\n",
      "[56]\tvalidation_0-logloss:0.36733\tvalidation_1-logloss:0.51811\n",
      "[57]\tvalidation_0-logloss:0.36486\tvalidation_1-logloss:0.51850\n",
      "[58]\tvalidation_0-logloss:0.36346\tvalidation_1-logloss:0.51748\n",
      "[59]\tvalidation_0-logloss:0.36259\tvalidation_1-logloss:0.51713\n",
      "[60]\tvalidation_0-logloss:0.36103\tvalidation_1-logloss:0.51810\n",
      "[61]\tvalidation_0-logloss:0.35943\tvalidation_1-logloss:0.51814\n",
      "[62]\tvalidation_0-logloss:0.35813\tvalidation_1-logloss:0.51863\n",
      "[63]\tvalidation_0-logloss:0.35666\tvalidation_1-logloss:0.51933\n",
      "[64]\tvalidation_0-logloss:0.35533\tvalidation_1-logloss:0.51884\n",
      "[65]\tvalidation_0-logloss:0.35389\tvalidation_1-logloss:0.51854\n",
      "[66]\tvalidation_0-logloss:0.35190\tvalidation_1-logloss:0.51993\n",
      "[67]\tvalidation_0-logloss:0.35135\tvalidation_1-logloss:0.52040\n",
      "[68]\tvalidation_0-logloss:0.35021\tvalidation_1-logloss:0.52067\n",
      "100%|██████████| 10/10 [00:01<00:00,  7.26trial/s, best loss: -0.7701657458563536]\n",
      "[0]\tvalidation_0-logloss:0.62133\tvalidation_1-logloss:0.62350\n",
      "[1]\tvalidation_0-logloss:0.57657\tvalidation_1-logloss:0.58206\n",
      "[2]\tvalidation_0-logloss:0.55159\tvalidation_1-logloss:0.55842\n",
      "[3]\tvalidation_0-logloss:0.53185\tvalidation_1-logloss:0.54083\n",
      "[4]\tvalidation_0-logloss:0.51948\tvalidation_1-logloss:0.53277\n",
      "[5]\tvalidation_0-logloss:0.50685\tvalidation_1-logloss:0.52329\n",
      "[6]\tvalidation_0-logloss:0.49799\tvalidation_1-logloss:0.51779\n",
      "[7]\tvalidation_0-logloss:0.48872\tvalidation_1-logloss:0.51270\n",
      "[8]\tvalidation_0-logloss:0.48494\tvalidation_1-logloss:0.50937\n",
      "[9]\tvalidation_0-logloss:0.48020\tvalidation_1-logloss:0.50455\n",
      "[10]\tvalidation_0-logloss:0.47582\tvalidation_1-logloss:0.50467\n",
      "[11]\tvalidation_0-logloss:0.47210\tvalidation_1-logloss:0.50153\n",
      "[12]\tvalidation_0-logloss:0.46773\tvalidation_1-logloss:0.50031\n",
      "[13]\tvalidation_0-logloss:0.46486\tvalidation_1-logloss:0.49805\n",
      "[14]\tvalidation_0-logloss:0.45967\tvalidation_1-logloss:0.49642\n",
      "[15]\tvalidation_0-logloss:0.45355\tvalidation_1-logloss:0.49623\n",
      "[16]\tvalidation_0-logloss:0.44978\tvalidation_1-logloss:0.49545\n",
      "[17]\tvalidation_0-logloss:0.44672\tvalidation_1-logloss:0.49488\n",
      "[18]\tvalidation_0-logloss:0.44409\tvalidation_1-logloss:0.49400\n",
      "[19]\tvalidation_0-logloss:0.43945\tvalidation_1-logloss:0.49457\n",
      "[20]\tvalidation_0-logloss:0.43615\tvalidation_1-logloss:0.49601\n",
      "[21]\tvalidation_0-logloss:0.43533\tvalidation_1-logloss:0.49608\n",
      "[22]\tvalidation_0-logloss:0.43458\tvalidation_1-logloss:0.49537\n",
      "[23]\tvalidation_0-logloss:0.43126\tvalidation_1-logloss:0.49511\n",
      "[24]\tvalidation_0-logloss:0.43021\tvalidation_1-logloss:0.49500\n",
      "[25]\tvalidation_0-logloss:0.42771\tvalidation_1-logloss:0.49285\n",
      "[26]\tvalidation_0-logloss:0.42418\tvalidation_1-logloss:0.49204\n",
      "[27]\tvalidation_0-logloss:0.42379\tvalidation_1-logloss:0.49250\n",
      "[28]\tvalidation_0-logloss:0.42152\tvalidation_1-logloss:0.49263\n",
      "[29]\tvalidation_0-logloss:0.41896\tvalidation_1-logloss:0.49410\n",
      "[30]\tvalidation_0-logloss:0.41690\tvalidation_1-logloss:0.49470\n",
      "[31]\tvalidation_0-logloss:0.41486\tvalidation_1-logloss:0.49472\n",
      "[32]\tvalidation_0-logloss:0.41218\tvalidation_1-logloss:0.49603\n",
      "[33]\tvalidation_0-logloss:0.41030\tvalidation_1-logloss:0.49667\n",
      "[34]\tvalidation_0-logloss:0.40847\tvalidation_1-logloss:0.49798\n",
      "[35]\tvalidation_0-logloss:0.40782\tvalidation_1-logloss:0.49776\n",
      "[36]\tvalidation_0-logloss:0.40539\tvalidation_1-logloss:0.49869\n",
      "[37]\tvalidation_0-logloss:0.40266\tvalidation_1-logloss:0.49947\n",
      "[38]\tvalidation_0-logloss:0.39970\tvalidation_1-logloss:0.50141\n",
      "[39]\tvalidation_0-logloss:0.39867\tvalidation_1-logloss:0.50156\n",
      "[40]\tvalidation_0-logloss:0.39744\tvalidation_1-logloss:0.50230\n",
      "[41]\tvalidation_0-logloss:0.39593\tvalidation_1-logloss:0.50212\n",
      "[42]\tvalidation_0-logloss:0.39404\tvalidation_1-logloss:0.50357\n",
      "[43]\tvalidation_0-logloss:0.39287\tvalidation_1-logloss:0.50285\n",
      "[44]\tvalidation_0-logloss:0.39190\tvalidation_1-logloss:0.50394\n",
      "[45]\tvalidation_0-logloss:0.39075\tvalidation_1-logloss:0.50382\n",
      "[46]\tvalidation_0-logloss:0.38971\tvalidation_1-logloss:0.50363\n",
      "[47]\tvalidation_0-logloss:0.38786\tvalidation_1-logloss:0.50246\n",
      "[48]\tvalidation_0-logloss:0.38740\tvalidation_1-logloss:0.50342\n",
      "[49]\tvalidation_0-logloss:0.38688\tvalidation_1-logloss:0.50285\n",
      "[50]\tvalidation_0-logloss:0.38560\tvalidation_1-logloss:0.50466\n",
      "[51]\tvalidation_0-logloss:0.38467\tvalidation_1-logloss:0.50542\n",
      "[52]\tvalidation_0-logloss:0.38434\tvalidation_1-logloss:0.50525\n",
      "[53]\tvalidation_0-logloss:0.38320\tvalidation_1-logloss:0.50428\n",
      "[54]\tvalidation_0-logloss:0.38174\tvalidation_1-logloss:0.50596\n",
      "[55]\tvalidation_0-logloss:0.37973\tvalidation_1-logloss:0.50729\n",
      "[56]\tvalidation_0-logloss:0.37900\tvalidation_1-logloss:0.50723\n",
      "[57]\tvalidation_0-logloss:0.37797\tvalidation_1-logloss:0.50907\n",
      "[58]\tvalidation_0-logloss:0.37680\tvalidation_1-logloss:0.50804\n",
      "[59]\tvalidation_0-logloss:0.37534\tvalidation_1-logloss:0.50660\n",
      "[60]\tvalidation_0-logloss:0.37368\tvalidation_1-logloss:0.50557\n",
      "[61]\tvalidation_0-logloss:0.37272\tvalidation_1-logloss:0.50584\n",
      "[62]\tvalidation_0-logloss:0.37059\tvalidation_1-logloss:0.50564\n",
      "[63]\tvalidation_0-logloss:0.36900\tvalidation_1-logloss:0.50592\n",
      "[64]\tvalidation_0-logloss:0.36799\tvalidation_1-logloss:0.50573\n",
      "[65]\tvalidation_0-logloss:0.36674\tvalidation_1-logloss:0.50490\n",
      "[66]\tvalidation_0-logloss:0.36584\tvalidation_1-logloss:0.50414\n",
      "[67]\tvalidation_0-logloss:0.36573\tvalidation_1-logloss:0.50373\n",
      "[68]\tvalidation_0-logloss:0.36459\tvalidation_1-logloss:0.50385\n",
      "[69]\tvalidation_0-logloss:0.36375\tvalidation_1-logloss:0.50527\n",
      "[70]\tvalidation_0-logloss:0.36307\tvalidation_1-logloss:0.50538\n",
      "[71]\tvalidation_0-logloss:0.36156\tvalidation_1-logloss:0.50646\n",
      "[72]\tvalidation_0-logloss:0.36084\tvalidation_1-logloss:0.50678\n",
      "[73]\tvalidation_0-logloss:0.36036\tvalidation_1-logloss:0.50782\n",
      "[74]\tvalidation_0-logloss:0.36014\tvalidation_1-logloss:0.50806\n",
      "[75]\tvalidation_0-logloss:0.35906\tvalidation_1-logloss:0.50911\n",
      "[76]\tvalidation_0-logloss:0.35809\tvalidation_1-logloss:0.51092\n",
      "100%|██████████| 10/10 [00:01<00:00,  6.52trial/s, best loss: -0.7668508287292818]\n",
      "[0]\tvalidation_0-logloss:0.65938\tvalidation_1-logloss:0.66030\n",
      "[1]\tvalidation_0-logloss:0.63092\tvalidation_1-logloss:0.63345\n",
      "[2]\tvalidation_0-logloss:0.61074\tvalidation_1-logloss:0.61384\n",
      "[3]\tvalidation_0-logloss:0.59275\tvalidation_1-logloss:0.59818\n",
      "[4]\tvalidation_0-logloss:0.57979\tvalidation_1-logloss:0.58721\n",
      "[5]\tvalidation_0-logloss:0.56714\tvalidation_1-logloss:0.57622\n",
      "[6]\tvalidation_0-logloss:0.55689\tvalidation_1-logloss:0.56652\n",
      "[7]\tvalidation_0-logloss:0.54734\tvalidation_1-logloss:0.55700\n",
      "[8]\tvalidation_0-logloss:0.54043\tvalidation_1-logloss:0.55059\n",
      "[9]\tvalidation_0-logloss:0.53303\tvalidation_1-logloss:0.54298\n",
      "[10]\tvalidation_0-logloss:0.52702\tvalidation_1-logloss:0.53993\n",
      "[11]\tvalidation_0-logloss:0.52028\tvalidation_1-logloss:0.53452\n",
      "[12]\tvalidation_0-logloss:0.51420\tvalidation_1-logloss:0.52919\n",
      "[13]\tvalidation_0-logloss:0.50929\tvalidation_1-logloss:0.52378\n",
      "[14]\tvalidation_0-logloss:0.50547\tvalidation_1-logloss:0.52077\n",
      "[15]\tvalidation_0-logloss:0.50069\tvalidation_1-logloss:0.51802\n",
      "[16]\tvalidation_0-logloss:0.49616\tvalidation_1-logloss:0.51611\n",
      "[17]\tvalidation_0-logloss:0.49373\tvalidation_1-logloss:0.51409\n",
      "[18]\tvalidation_0-logloss:0.48983\tvalidation_1-logloss:0.51192\n",
      "[19]\tvalidation_0-logloss:0.48628\tvalidation_1-logloss:0.51087\n",
      "[20]\tvalidation_0-logloss:0.48295\tvalidation_1-logloss:0.50983\n",
      "[21]\tvalidation_0-logloss:0.48058\tvalidation_1-logloss:0.50854\n",
      "[22]\tvalidation_0-logloss:0.47888\tvalidation_1-logloss:0.50786\n",
      "[23]\tvalidation_0-logloss:0.47651\tvalidation_1-logloss:0.50675\n",
      "[24]\tvalidation_0-logloss:0.47525\tvalidation_1-logloss:0.50638\n",
      "[25]\tvalidation_0-logloss:0.47292\tvalidation_1-logloss:0.50579\n",
      "[26]\tvalidation_0-logloss:0.47077\tvalidation_1-logloss:0.50450\n",
      "[27]\tvalidation_0-logloss:0.46912\tvalidation_1-logloss:0.50405\n",
      "[28]\tvalidation_0-logloss:0.46681\tvalidation_1-logloss:0.50378\n",
      "[29]\tvalidation_0-logloss:0.46355\tvalidation_1-logloss:0.50208\n",
      "[30]\tvalidation_0-logloss:0.46178\tvalidation_1-logloss:0.50060\n",
      "[31]\tvalidation_0-logloss:0.46030\tvalidation_1-logloss:0.49987\n",
      "[32]\tvalidation_0-logloss:0.45871\tvalidation_1-logloss:0.49953\n",
      "[33]\tvalidation_0-logloss:0.45622\tvalidation_1-logloss:0.49943\n",
      "[34]\tvalidation_0-logloss:0.45481\tvalidation_1-logloss:0.49900\n",
      "[35]\tvalidation_0-logloss:0.45334\tvalidation_1-logloss:0.49883\n",
      "[36]\tvalidation_0-logloss:0.45172\tvalidation_1-logloss:0.49884\n",
      "[37]\tvalidation_0-logloss:0.45007\tvalidation_1-logloss:0.49906\n",
      "[38]\tvalidation_0-logloss:0.44774\tvalidation_1-logloss:0.49955\n",
      "[39]\tvalidation_0-logloss:0.44733\tvalidation_1-logloss:0.49952\n",
      "[40]\tvalidation_0-logloss:0.44647\tvalidation_1-logloss:0.50009\n",
      "[41]\tvalidation_0-logloss:0.44527\tvalidation_1-logloss:0.49983\n",
      "[42]\tvalidation_0-logloss:0.44434\tvalidation_1-logloss:0.49956\n",
      "[43]\tvalidation_0-logloss:0.44384\tvalidation_1-logloss:0.49955\n",
      "[44]\tvalidation_0-logloss:0.44182\tvalidation_1-logloss:0.49851\n",
      "[45]\tvalidation_0-logloss:0.44028\tvalidation_1-logloss:0.49796\n",
      "[46]\tvalidation_0-logloss:0.43942\tvalidation_1-logloss:0.49783\n",
      "[47]\tvalidation_0-logloss:0.43782\tvalidation_1-logloss:0.49743\n",
      "[48]\tvalidation_0-logloss:0.43622\tvalidation_1-logloss:0.49689\n",
      "[49]\tvalidation_0-logloss:0.43551\tvalidation_1-logloss:0.49664\n",
      "[50]\tvalidation_0-logloss:0.43411\tvalidation_1-logloss:0.49684\n",
      "[51]\tvalidation_0-logloss:0.43258\tvalidation_1-logloss:0.49595\n",
      "[52]\tvalidation_0-logloss:0.43201\tvalidation_1-logloss:0.49612\n",
      "[53]\tvalidation_0-logloss:0.43082\tvalidation_1-logloss:0.49557\n",
      "[54]\tvalidation_0-logloss:0.43025\tvalidation_1-logloss:0.49600\n",
      "[55]\tvalidation_0-logloss:0.42788\tvalidation_1-logloss:0.49680\n",
      "[56]\tvalidation_0-logloss:0.42675\tvalidation_1-logloss:0.49674\n",
      "[57]\tvalidation_0-logloss:0.42594\tvalidation_1-logloss:0.49623\n",
      "[58]\tvalidation_0-logloss:0.42548\tvalidation_1-logloss:0.49633\n",
      "[59]\tvalidation_0-logloss:0.42473\tvalidation_1-logloss:0.49650\n",
      "[60]\tvalidation_0-logloss:0.42357\tvalidation_1-logloss:0.49664\n",
      "[61]\tvalidation_0-logloss:0.42227\tvalidation_1-logloss:0.49596\n",
      "[62]\tvalidation_0-logloss:0.42177\tvalidation_1-logloss:0.49640\n",
      "[63]\tvalidation_0-logloss:0.42085\tvalidation_1-logloss:0.49637\n",
      "[64]\tvalidation_0-logloss:0.41996\tvalidation_1-logloss:0.49632\n",
      "[65]\tvalidation_0-logloss:0.41919\tvalidation_1-logloss:0.49522\n",
      "[66]\tvalidation_0-logloss:0.41879\tvalidation_1-logloss:0.49506\n",
      "[67]\tvalidation_0-logloss:0.41784\tvalidation_1-logloss:0.49471\n",
      "[68]\tvalidation_0-logloss:0.41716\tvalidation_1-logloss:0.49476\n",
      "[69]\tvalidation_0-logloss:0.41612\tvalidation_1-logloss:0.49538\n",
      "[70]\tvalidation_0-logloss:0.41524\tvalidation_1-logloss:0.49578\n",
      "[71]\tvalidation_0-logloss:0.41387\tvalidation_1-logloss:0.49579\n",
      "[72]\tvalidation_0-logloss:0.41342\tvalidation_1-logloss:0.49600\n",
      "[73]\tvalidation_0-logloss:0.41307\tvalidation_1-logloss:0.49629\n",
      "[74]\tvalidation_0-logloss:0.41237\tvalidation_1-logloss:0.49670\n",
      "[75]\tvalidation_0-logloss:0.41137\tvalidation_1-logloss:0.49723\n",
      "[76]\tvalidation_0-logloss:0.41097\tvalidation_1-logloss:0.49712\n",
      "[77]\tvalidation_0-logloss:0.41013\tvalidation_1-logloss:0.49689\n",
      "[78]\tvalidation_0-logloss:0.40994\tvalidation_1-logloss:0.49660\n",
      "[79]\tvalidation_0-logloss:0.40900\tvalidation_1-logloss:0.49683\n",
      "[80]\tvalidation_0-logloss:0.40866\tvalidation_1-logloss:0.49726\n",
      "[81]\tvalidation_0-logloss:0.40805\tvalidation_1-logloss:0.49783\n",
      "[82]\tvalidation_0-logloss:0.40679\tvalidation_1-logloss:0.49763\n",
      "[83]\tvalidation_0-logloss:0.40535\tvalidation_1-logloss:0.49764\n",
      "[84]\tvalidation_0-logloss:0.40414\tvalidation_1-logloss:0.49733\n",
      "[85]\tvalidation_0-logloss:0.40321\tvalidation_1-logloss:0.49672\n",
      "[86]\tvalidation_0-logloss:0.40195\tvalidation_1-logloss:0.49758\n",
      "[87]\tvalidation_0-logloss:0.40107\tvalidation_1-logloss:0.49730\n",
      "[88]\tvalidation_0-logloss:0.40043\tvalidation_1-logloss:0.49802\n",
      "[89]\tvalidation_0-logloss:0.40004\tvalidation_1-logloss:0.49797\n",
      "[90]\tvalidation_0-logloss:0.39953\tvalidation_1-logloss:0.49855\n",
      "[91]\tvalidation_0-logloss:0.39918\tvalidation_1-logloss:0.49842\n",
      "[92]\tvalidation_0-logloss:0.39890\tvalidation_1-logloss:0.49867\n",
      "[93]\tvalidation_0-logloss:0.39829\tvalidation_1-logloss:0.49874\n",
      "[94]\tvalidation_0-logloss:0.39778\tvalidation_1-logloss:0.49870\n",
      "[95]\tvalidation_0-logloss:0.39737\tvalidation_1-logloss:0.49926\n",
      "[96]\tvalidation_0-logloss:0.39693\tvalidation_1-logloss:0.49960\n",
      "[97]\tvalidation_0-logloss:0.39645\tvalidation_1-logloss:0.50029\n",
      "[98]\tvalidation_0-logloss:0.39593\tvalidation_1-logloss:0.50082\n",
      "[99]\tvalidation_0-logloss:0.39517\tvalidation_1-logloss:0.50093\n"
     ]
    }
   ],
   "source": [
    "with mlflow.start_run():\n",
    "    params = {'random_state': 42}\n",
    "    rounds = [{'max_depth': hp.quniform('max_depth', 1, 12, 1),  # tree\n",
    "               'min_child_weight': hp.loguniform('min_child_weight', -2, 3)},\n",
    "              {'subsample': hp.uniform('subsample', 0.5, 1),   # stochastic\n",
    "               'colsample_bytree': hp.uniform('colsample_bytree', 0.5, 1)},\n",
    "              {'gamma': hp.loguniform('gamma', -10, 10)}, # regularization\n",
    "              {'learning_rate': hp.loguniform('learning_rate', -7, 0)} # boosting\n",
    "    ]\n",
    "\n",
    "    for round in rounds:\n",
    "        params = {**params, **round}\n",
    "        trials = Trials()\n",
    "        best = fmin(fn=lambda space: xhelp.hyperparameter_tuning(\n",
    "                space, X_train, y_train, X_test, y_test),            \n",
    "            space=params,           \n",
    "            algo=tpe.suggest,            \n",
    "            max_evals=10,            \n",
    "            trials=trials,\n",
    "            timeout=60*5 # 5 minutes\n",
    "        )\n",
    "        params = {**params, **best}\n",
    "        params['max_depth'] = int(params['max_depth']) # 실수로 변경해야 작동함\n",
    "        for param, val in params.items():\n",
    "            mlflow.log_param(param, val)\n",
    "        \n",
    "        xg = xgb.XGBClassifier(eval_metric='logloss', early_stopping_rounds=50, **params)\n",
    "        xg.fit(X_train, y_train,\n",
    "               eval_set=[(X_train, y_train),\n",
    "                         (X_test, y_test)\n",
    "                        ]\n",
    "              )     \n",
    "        for metric in [metrics.accuracy_score, metrics.precision_score, metrics.recall_score, \n",
    "                       metrics.f1_score]:\n",
    "            mlflow.log_metric(metric.__name__, metric(y_test, xg.predict(X_test)))\n",
    "            \n",
    "    model_info = mlflow.xgboost.log_model(xg, artifact_path='model')"
   ]
  },
  {
   "cell_type": "code",
   "execution_count": 10,
   "metadata": {},
   "outputs": [
    {
     "data": {
      "text/plain": [
       "'861349195765381159'"
      ]
     },
     "execution_count": 10,
     "metadata": {},
     "output_type": "execute_result"
    }
   ],
   "source": [
    "ex_id"
   ]
  },
  {
   "cell_type": "code",
   "execution_count": 11,
   "metadata": {},
   "outputs": [
    {
     "data": {
      "text/plain": [
       "'22f11ad59e22476a8fd05701dd888e21'"
      ]
     },
     "execution_count": 11,
     "metadata": {},
     "output_type": "execute_result"
    }
   ],
   "source": [
    "model_info.run_id"
   ]
  },
  {
   "cell_type": "markdown",
   "metadata": {},
   "source": [
    "### 21.3 Running A Model From Code"
   ]
  },
  {
   "cell_type": "code",
   "execution_count": 12,
   "metadata": {},
   "outputs": [],
   "source": [
    "logged_model = 'runs:/22f11ad59e22476a8fd05701dd888e21/model'"
   ]
  },
  {
   "cell_type": "code",
   "execution_count": 13,
   "metadata": {},
   "outputs": [
    {
     "data": {
      "text/plain": [
       "mlflow.pyfunc.loaded_model:\n",
       "  artifact_path: model\n",
       "  flavor: mlflow.xgboost\n",
       "  run_id: 22f11ad59e22476a8fd05701dd888e21"
      ]
     },
     "execution_count": 13,
     "metadata": {},
     "output_type": "execute_result"
    }
   ],
   "source": [
    "loaded_model = mlflow.pyfunc.load_model(logged_model)\n",
    "loaded_model"
   ]
  },
  {
   "cell_type": "code",
   "execution_count": 14,
   "metadata": {},
   "outputs": [
    {
     "data": {
      "text/html": [
       "<div>\n",
       "<style scoped>\n",
       "    .dataframe tbody tr th:only-of-type {\n",
       "        vertical-align: middle;\n",
       "    }\n",
       "\n",
       "    .dataframe tbody tr th {\n",
       "        vertical-align: top;\n",
       "    }\n",
       "\n",
       "    .dataframe thead th {\n",
       "        text-align: right;\n",
       "    }\n",
       "</style>\n",
       "<table border=\"1\" class=\"dataframe\">\n",
       "  <thead>\n",
       "    <tr style=\"text-align: right;\">\n",
       "      <th></th>\n",
       "      <th>age</th>\n",
       "      <th>education</th>\n",
       "      <th>years_exp</th>\n",
       "      <th>compensation</th>\n",
       "      <th>python</th>\n",
       "      <th>r</th>\n",
       "      <th>sql</th>\n",
       "      <th>Q1_Male</th>\n",
       "      <th>Q1_Female</th>\n",
       "      <th>Q1_Prefer not to say</th>\n",
       "      <th>Q1_Prefer to self-describe</th>\n",
       "      <th>Q3_United States of America</th>\n",
       "      <th>Q3_India</th>\n",
       "      <th>Q3_China</th>\n",
       "      <th>major_cs</th>\n",
       "      <th>major_other</th>\n",
       "      <th>major_eng</th>\n",
       "      <th>major_stat</th>\n",
       "    </tr>\n",
       "  </thead>\n",
       "  <tbody>\n",
       "    <tr>\n",
       "      <th>7894</th>\n",
       "      <td>22</td>\n",
       "      <td>16.0</td>\n",
       "      <td>1.0</td>\n",
       "      <td>0</td>\n",
       "      <td>1</td>\n",
       "      <td>0</td>\n",
       "      <td>0</td>\n",
       "      <td>1</td>\n",
       "      <td>0</td>\n",
       "      <td>0</td>\n",
       "      <td>0</td>\n",
       "      <td>0</td>\n",
       "      <td>1</td>\n",
       "      <td>0</td>\n",
       "      <td>1</td>\n",
       "      <td>0</td>\n",
       "      <td>0</td>\n",
       "      <td>0</td>\n",
       "    </tr>\n",
       "  </tbody>\n",
       "</table>\n",
       "</div>"
      ],
      "text/plain": [
       "      age  education  years_exp  compensation  python  r  sql  Q1_Male  \\\n",
       "7894   22       16.0        1.0             0       1  0    0        1   \n",
       "\n",
       "      Q1_Female  Q1_Prefer not to say  Q1_Prefer to self-describe  \\\n",
       "7894          0                     0                           0   \n",
       "\n",
       "      Q3_United States of America  Q3_India  Q3_China  major_cs  major_other  \\\n",
       "7894                            0         1         0         1            0   \n",
       "\n",
       "      major_eng  major_stat  \n",
       "7894          0           0  "
      ]
     },
     "execution_count": 14,
     "metadata": {},
     "output_type": "execute_result"
    }
   ],
   "source": [
    "X_test.iloc[[0]]"
   ]
  },
  {
   "cell_type": "code",
   "execution_count": 15,
   "metadata": {},
   "outputs": [
    {
     "data": {
      "text/plain": [
       "array([1])"
      ]
     },
     "execution_count": 15,
     "metadata": {},
     "output_type": "execute_result"
    }
   ],
   "source": [
    "loaded_model.predict(X_test.iloc[[0]])"
   ]
  },
  {
   "cell_type": "markdown",
   "metadata": {},
   "source": [
    "### 21.4 Serving Predictions"
   ]
  },
  {
   "cell_type": "markdown",
   "metadata": {},
   "source": [
    "uuid를 알면 서빙을 할 수 있다.   \n",
    "디펄트로 pyenv 기반 가상환경을 생성한다.  \n",
    "--env-manager를 사용하면 로컬환경에서 시험할 수 있다."
   ]
  },
  {
   "cell_type": "markdown",
   "metadata": {},
   "source": [
    "mlflow models serve -m ex2path/861349195765381159/ \\\n",
    "22f11ad59e22476a8fd05701dd888e21/artifacts/model \\\n",
    "-p 1234 --env-manager local\n",
    "\n",
    "중요: 교재의 명령 잘못됨"
   ]
  },
  {
   "cell_type": "markdown",
   "metadata": {},
   "source": [
    "위 커맨드를 사용하면 1234 포트로 서빙을 진행한다.  "
   ]
  },
  {
   "cell_type": "markdown",
   "metadata": {},
   "source": [
    "### 21.5 Querying from the Command Line"
   ]
  },
  {
   "cell_type": "markdown",
   "metadata": {},
   "source": [
    "유닉스 운영체제에서는 다음과 같이 curl 명령을 사용할 수있다.  \n",
    "\n",
    "```\n",
    "curl $URL -X POST -H \"Content-Type:application/json\" --data $JSON_DATA\n",
    "```"
   ]
  },
  {
   "cell_type": "markdown",
   "metadata": {},
   "source": [
    "이를 위해 jason 데이터 포맷이 필요하다."
   ]
  },
  {
   "cell_type": "code",
   "execution_count": 16,
   "metadata": {},
   "outputs": [
    {
     "data": {
      "text/plain": [
       "{'dataframe_split': {'columns': ['col1', 'col2'],\n",
       "  'data': [[22, 16.0], [25, 18.0]]}}"
      ]
     },
     "execution_count": 16,
     "metadata": {},
     "output_type": "execute_result"
    }
   ],
   "source": [
    "{'dataframe_split':\n",
    "{'columns': ['col1', 'col2'],\n",
    "'data': [[22, 16.0],\n",
    "[25, 18.0]]}\n",
    "}"
   ]
  },
  {
   "cell_type": "markdown",
   "metadata": {},
   "source": [
    "- 위와 같이 jason data를 만들어야 한다."
   ]
  },
  {
   "cell_type": "markdown",
   "metadata": {},
   "source": [
    "json을 수동으로 만드는 것을 원하지 않는다면 pandas를 사용할 수 있다.   \n",
    "dataframe을 쓴다면 .to_jason 메서드에 orient='split'로 설정하면 된다."
   ]
  },
  {
   "cell_type": "code",
   "execution_count": 17,
   "metadata": {},
   "outputs": [
    {
     "data": {
      "text/plain": [
       "'{\"age\":{\"7894\":22,\"10541\":25},\"education\":{\"7894\":16.0,\"10541\":18.0},\"years_exp\":{\"7894\":1.0,\"10541\":1.0},\"compensation\":{\"7894\":0,\"10541\":70000},\"python\":{\"7894\":1,\"10541\":1},\"r\":{\"7894\":0,\"10541\":1},\"sql\":{\"7894\":0,\"10541\":0},\"Q1_Male\":{\"7894\":1,\"10541\":1},\"Q1_Female\":{\"7894\":0,\"10541\":0},\"Q1_Prefer not to say\":{\"7894\":0,\"10541\":0},\"Q1_Prefer to self-describe\":{\"7894\":0,\"10541\":0},\"Q3_United States of America\":{\"7894\":0,\"10541\":1},\"Q3_India\":{\"7894\":1,\"10541\":0},\"Q3_China\":{\"7894\":0,\"10541\":0},\"major_cs\":{\"7894\":1,\"10541\":0},\"major_other\":{\"7894\":0,\"10541\":1},\"major_eng\":{\"7894\":0,\"10541\":0},\"major_stat\":{\"7894\":0,\"10541\":0}}'"
      ]
     },
     "execution_count": 17,
     "metadata": {},
     "output_type": "execute_result"
    }
   ],
   "source": [
    "X_test.head(2).to_json()"
   ]
  },
  {
   "cell_type": "code",
   "execution_count": 18,
   "metadata": {},
   "outputs": [
    {
     "data": {
      "text/html": [
       "<div>\n",
       "<style scoped>\n",
       "    .dataframe tbody tr th:only-of-type {\n",
       "        vertical-align: middle;\n",
       "    }\n",
       "\n",
       "    .dataframe tbody tr th {\n",
       "        vertical-align: top;\n",
       "    }\n",
       "\n",
       "    .dataframe thead th {\n",
       "        text-align: right;\n",
       "    }\n",
       "</style>\n",
       "<table border=\"1\" class=\"dataframe\">\n",
       "  <thead>\n",
       "    <tr style=\"text-align: right;\">\n",
       "      <th></th>\n",
       "      <th>age</th>\n",
       "      <th>education</th>\n",
       "      <th>years_exp</th>\n",
       "      <th>compensation</th>\n",
       "      <th>python</th>\n",
       "      <th>r</th>\n",
       "      <th>sql</th>\n",
       "      <th>Q1_Male</th>\n",
       "      <th>Q1_Female</th>\n",
       "      <th>Q1_Prefer not to say</th>\n",
       "      <th>Q1_Prefer to self-describe</th>\n",
       "      <th>Q3_United States of America</th>\n",
       "      <th>Q3_India</th>\n",
       "      <th>Q3_China</th>\n",
       "      <th>major_cs</th>\n",
       "      <th>major_other</th>\n",
       "      <th>major_eng</th>\n",
       "      <th>major_stat</th>\n",
       "    </tr>\n",
       "  </thead>\n",
       "  <tbody>\n",
       "    <tr>\n",
       "      <th>7894</th>\n",
       "      <td>22</td>\n",
       "      <td>16.0</td>\n",
       "      <td>1.0</td>\n",
       "      <td>0</td>\n",
       "      <td>1</td>\n",
       "      <td>0</td>\n",
       "      <td>0</td>\n",
       "      <td>1</td>\n",
       "      <td>0</td>\n",
       "      <td>0</td>\n",
       "      <td>0</td>\n",
       "      <td>0</td>\n",
       "      <td>1</td>\n",
       "      <td>0</td>\n",
       "      <td>1</td>\n",
       "      <td>0</td>\n",
       "      <td>0</td>\n",
       "      <td>0</td>\n",
       "    </tr>\n",
       "    <tr>\n",
       "      <th>10541</th>\n",
       "      <td>25</td>\n",
       "      <td>18.0</td>\n",
       "      <td>1.0</td>\n",
       "      <td>70000</td>\n",
       "      <td>1</td>\n",
       "      <td>1</td>\n",
       "      <td>0</td>\n",
       "      <td>1</td>\n",
       "      <td>0</td>\n",
       "      <td>0</td>\n",
       "      <td>0</td>\n",
       "      <td>1</td>\n",
       "      <td>0</td>\n",
       "      <td>0</td>\n",
       "      <td>0</td>\n",
       "      <td>1</td>\n",
       "      <td>0</td>\n",
       "      <td>0</td>\n",
       "    </tr>\n",
       "    <tr>\n",
       "      <th>21353</th>\n",
       "      <td>35</td>\n",
       "      <td>18.0</td>\n",
       "      <td>2.0</td>\n",
       "      <td>0</td>\n",
       "      <td>0</td>\n",
       "      <td>0</td>\n",
       "      <td>0</td>\n",
       "      <td>1</td>\n",
       "      <td>0</td>\n",
       "      <td>0</td>\n",
       "      <td>0</td>\n",
       "      <td>0</td>\n",
       "      <td>1</td>\n",
       "      <td>0</td>\n",
       "      <td>0</td>\n",
       "      <td>0</td>\n",
       "      <td>0</td>\n",
       "      <td>1</td>\n",
       "    </tr>\n",
       "    <tr>\n",
       "      <th>13879</th>\n",
       "      <td>25</td>\n",
       "      <td>18.0</td>\n",
       "      <td>1.0</td>\n",
       "      <td>100000</td>\n",
       "      <td>1</td>\n",
       "      <td>0</td>\n",
       "      <td>1</td>\n",
       "      <td>1</td>\n",
       "      <td>0</td>\n",
       "      <td>0</td>\n",
       "      <td>0</td>\n",
       "      <td>1</td>\n",
       "      <td>0</td>\n",
       "      <td>0</td>\n",
       "      <td>1</td>\n",
       "      <td>0</td>\n",
       "      <td>0</td>\n",
       "      <td>0</td>\n",
       "    </tr>\n",
       "    <tr>\n",
       "      <th>21971</th>\n",
       "      <td>18</td>\n",
       "      <td>18.0</td>\n",
       "      <td>1.0</td>\n",
       "      <td>0</td>\n",
       "      <td>0</td>\n",
       "      <td>0</td>\n",
       "      <td>0</td>\n",
       "      <td>1</td>\n",
       "      <td>0</td>\n",
       "      <td>0</td>\n",
       "      <td>0</td>\n",
       "      <td>0</td>\n",
       "      <td>1</td>\n",
       "      <td>0</td>\n",
       "      <td>1</td>\n",
       "      <td>0</td>\n",
       "      <td>0</td>\n",
       "      <td>0</td>\n",
       "    </tr>\n",
       "  </tbody>\n",
       "</table>\n",
       "</div>"
      ],
      "text/plain": [
       "       age  education  years_exp  compensation  python  r  sql  Q1_Male  \\\n",
       "7894    22       16.0        1.0             0       1  0    0        1   \n",
       "10541   25       18.0        1.0         70000       1  1    0        1   \n",
       "21353   35       18.0        2.0             0       0  0    0        1   \n",
       "13879   25       18.0        1.0        100000       1  0    1        1   \n",
       "21971   18       18.0        1.0             0       0  0    0        1   \n",
       "\n",
       "       Q1_Female  Q1_Prefer not to say  Q1_Prefer to self-describe  \\\n",
       "7894           0                     0                           0   \n",
       "10541          0                     0                           0   \n",
       "21353          0                     0                           0   \n",
       "13879          0                     0                           0   \n",
       "21971          0                     0                           0   \n",
       "\n",
       "       Q3_United States of America  Q3_India  Q3_China  major_cs  major_other  \\\n",
       "7894                             0         1         0         1            0   \n",
       "10541                            1         0         0         0            1   \n",
       "21353                            0         1         0         0            0   \n",
       "13879                            1         0         0         1            0   \n",
       "21971                            0         1         0         1            0   \n",
       "\n",
       "       major_eng  major_stat  \n",
       "7894           0           0  \n",
       "10541          0           0  \n",
       "21353          0           1  \n",
       "13879          0           0  \n",
       "21971          0           0  "
      ]
     },
     "execution_count": 18,
     "metadata": {},
     "output_type": "execute_result"
    }
   ],
   "source": [
    "X_test.head()"
   ]
  },
  {
   "cell_type": "code",
   "execution_count": 19,
   "metadata": {},
   "outputs": [
    {
     "data": {
      "text/plain": [
       "'{\"columns\":[\"age\",\"education\",\"years_exp\",\"compensation\",\"python\",\"r\",\"sql\",\"Q1_Male\",\"Q1_Female\",\"Q1_Prefer not to say\",\"Q1_Prefer to self-describe\",\"Q3_United States of America\",\"Q3_India\",\"Q3_China\",\"major_cs\",\"major_other\",\"major_eng\",\"major_stat\"],\"data\":[[22,16.0,1.0,0,1,0,0,1,0,0,0,0,1,0,1,0,0,0],[25,18.0,1.0,70000,1,1,0,1,0,0,0,1,0,0,0,1,0,0]]}'"
      ]
     },
     "execution_count": 19,
     "metadata": {},
     "output_type": "execute_result"
    }
   ],
   "source": [
    "X_test.head(2).to_json(orient = 'split', index = False)"
   ]
  },
  {
   "cell_type": "markdown",
   "metadata": {},
   "source": [
    "위는 json string이고 딕셔너리로 바꿔야 한다. 그래야 다른 딕셔너리를 추가할 수 있다.  \n",
    "\n",
    "This is a JSON string, and we need a Python dictionary so that we can embed this in another\n",
    "dictionary. Consider this value to be DICT. We must place it in another dictionary with the\n",
    "key dataframe_split : {'dataframe_split: DICT}. We will use the json.loads function to create a\n",
    "dictionary from the string. (We can’t use the Python string because the quotes are incorrect\n",
    "for JSON.)\n",
    "Here is the JSON data we need to insert into the dictionary:"
   ]
  },
  {
   "cell_type": "code",
   "execution_count": 20,
   "metadata": {},
   "outputs": [],
   "source": [
    "import json"
   ]
  },
  {
   "cell_type": "code",
   "execution_count": 21,
   "metadata": {},
   "outputs": [
    {
     "data": {
      "text/plain": [
       "{'columns': ['age',\n",
       "  'education',\n",
       "  'years_exp',\n",
       "  'compensation',\n",
       "  'python',\n",
       "  'r',\n",
       "  'sql',\n",
       "  'Q1_Male',\n",
       "  'Q1_Female',\n",
       "  'Q1_Prefer not to say',\n",
       "  'Q1_Prefer to self-describe',\n",
       "  'Q3_United States of America',\n",
       "  'Q3_India',\n",
       "  'Q3_China',\n",
       "  'major_cs',\n",
       "  'major_other',\n",
       "  'major_eng',\n",
       "  'major_stat'],\n",
       " 'data': [[22, 16.0, 1.0, 0, 1, 0, 0, 1, 0, 0, 0, 0, 1, 0, 1, 0, 0, 0],\n",
       "  [25, 18.0, 1.0, 70000, 1, 1, 0, 1, 0, 0, 0, 1, 0, 0, 0, 1, 0, 0]]}"
      ]
     },
     "execution_count": 21,
     "metadata": {},
     "output_type": "execute_result"
    }
   ],
   "source": [
    "json.loads(X_test.head(2).to_json(orient='split', index=False))"
   ]
  },
  {
   "cell_type": "code",
   "execution_count": 22,
   "metadata": {},
   "outputs": [
    {
     "data": {
      "text/plain": [
       "{'dataframe_split': {'columns': ['age',\n",
       "   'education',\n",
       "   'years_exp',\n",
       "   'compensation',\n",
       "   'python',\n",
       "   'r',\n",
       "   'sql',\n",
       "   'Q1_Male',\n",
       "   'Q1_Female',\n",
       "   'Q1_Prefer not to say',\n",
       "   'Q1_Prefer to self-describe',\n",
       "   'Q3_United States of America',\n",
       "   'Q3_India',\n",
       "   'Q3_China',\n",
       "   'major_cs',\n",
       "   'major_other',\n",
       "   'major_eng',\n",
       "   'major_stat'],\n",
       "  'data': [[22, 16.0, 1.0, 0, 1, 0, 0, 1, 0, 0, 0, 0, 1, 0, 1, 0, 0, 0],\n",
       "   [25, 18.0, 1.0, 70000, 1, 1, 0, 1, 0, 0, 0, 1, 0, 0, 0, 1, 0, 0]]}}"
      ]
     },
     "execution_count": 22,
     "metadata": {},
     "output_type": "execute_result"
    }
   ],
   "source": [
    "{'dataframe_split': json.loads(X_test.head(2).to_json(orient='split', index=False))}"
   ]
  },
  {
   "cell_type": "markdown",
   "metadata": {},
   "source": [
    "최종적으로 파이썬 딕셔너리를 다시 json string으로 만들어야한다.  \n",
    "json.dump를 사용한다."
   ]
  },
  {
   "cell_type": "code",
   "execution_count": 23,
   "metadata": {},
   "outputs": [],
   "source": [
    "import json"
   ]
  },
  {
   "cell_type": "code",
   "execution_count": 24,
   "metadata": {},
   "outputs": [
    {
     "data": {
      "text/plain": [
       "'{\"dataframe_split\": {\"columns\": [\"age\", \"education\", \"years_exp\", \"compensation\", \"python\", \"r\", \"sql\", \"Q1_Male\", \"Q1_Female\", \"Q1_Prefer not to say\", \"Q1_Prefer to self-describe\", \"Q3_United States of America\", \"Q3_India\", \"Q3_China\", \"major_cs\", \"major_other\", \"major_eng\", \"major_stat\"], \"data\": [[22, 16.0, 1.0, 0, 1, 0, 0, 1, 0, 0, 0, 0, 1, 0, 1, 0, 0, 0], [25, 18.0, 1.0, 70000, 1, 1, 0, 1, 0, 0, 0, 1, 0, 0, 0, 1, 0, 0]]}}'"
      ]
     },
     "execution_count": 24,
     "metadata": {},
     "output_type": "execute_result"
    }
   ],
   "source": [
    "post_data = json.dumps({'dataframe_split': json.loads(X_test.head(2).to_json(orient='split', index=False))})\n",
    "post_data"
   ]
  },
  {
   "cell_type": "markdown",
   "metadata": {},
   "source": [
    "함수화하자."
   ]
  },
  {
   "cell_type": "code",
   "execution_count": 35,
   "metadata": {},
   "outputs": [],
   "source": [
    "def create_post_data(df):\n",
    "    dictionary = json.loads(df\n",
    "                            .to_json(orient='split', index=False))\n",
    "    return json.dumps({'dataframe_split': dictionary})"
   ]
  },
  {
   "cell_type": "code",
   "execution_count": 36,
   "metadata": {},
   "outputs": [
    {
     "name": "stdout",
     "output_type": "stream",
     "text": [
      "{\"dataframe_split\": {\"columns\": [\"age\", \"education\", \"years_exp\", \"compensation\", \"python\", \"r\", \"sql\", \"Q1_Male\", \"Q1_Female\", \"Q1_Prefer not to say\", \"Q1_Prefer to self-describe\", \"Q3_United States of America\", \"Q3_India\", \"Q3_China\", \"major_cs\", \"major_other\", \"major_eng\", \"major_stat\"], \"data\": [[22, 16.0, 1.0, 0, 1, 0, 0, 1, 0, 0, 0, 0, 1, 0, 1, 0, 0, 0], [25, 18.0, 1.0, 70000, 1, 1, 0, 1, 0, 0, 0, 1, 0, 0, 0, 1, 0, 0]]}}\n"
     ]
    }
   ],
   "source": [
    "post_data = create_post_data(X_test.head(2))\n",
    "print(post_data)"
   ]
  },
  {
   "cell_type": "markdown",
   "metadata": {},
   "source": [
    "주피터에서 !로 쉘 커맨드를 실행할 수 있다.  \n",
    "\n",
    "```\n",
    "!curl http://127.0.0.1:1234/invocations -X POST -H \\\n",
    "\"Content-Type:application/json\" --data $post_data\n",
    "```"
   ]
  },
  {
   "cell_type": "markdown",
   "metadata": {},
   "source": [
    "그런데 위처럼 하면 에러가 발생한다.\n",
    "post_data 앞에 특수문자 $를 쓰는데 이를 쓰기위해 \\문자가 필요하다. \n",
    "single quat를 붙여야 한다.>???"
   ]
  },
  {
   "cell_type": "code",
   "execution_count": 37,
   "metadata": {},
   "outputs": [
    {
     "data": {
      "text/plain": [
       "'{\"dataframe_split\": {\"columns\": [\"age\", \"education\", \"years_exp\", \"compensation\", \"python\", \"r\", \"sql\", \"Q1_Male\", \"Q1_Female\", \"Q1_Prefer not to say\", \"Q1_Prefer to self-describe\", \"Q3_United States of America\", \"Q3_India\", \"Q3_China\", \"major_cs\", \"major_other\", \"major_eng\", \"major_stat\"], \"data\": [[22, 16.0, 1.0, 0, 1, 0, 0, 1, 0, 0, 0, 0, 1, 0, 1, 0, 0, 0], [25, 18.0, 1.0, 70000, 1, 1, 0, 1, 0, 0, 0, 1, 0, 0, 0, 1, 0, 0]]}}'"
      ]
     },
     "execution_count": 37,
     "metadata": {},
     "output_type": "execute_result"
    }
   ],
   "source": [
    "post_data"
   ]
  },
  {
   "cell_type": "code",
   "execution_count": 38,
   "metadata": {},
   "outputs": [
    {
     "data": {
      "text/plain": [
       "'\\'{\"dataframe_split\": {\"columns\": [\"age\", \"education\", \"years_exp\", \"compensation\", \"python\", \"r\", \"sql\", \"Q1_Male\", \"Q1_Female\", \"Q1_Prefer not to say\", \"Q1_Prefer to self-describe\", \"Q3_United States of America\", \"Q3_India\", \"Q3_China\", \"major_cs\", \"major_other\", \"major_eng\", \"major_stat\"], \"data\": [[22, 16.0, 1.0, 0, 1, 0, 0, 1, 0, 0, 0, 0, 1, 0, 1, 0, 0, 0], [25, 18.0, 1.0, 70000, 1, 1, 0, 1, 0, 0, 0, 1, 0, 0, 0, 1, 0, 0]]}}\\''"
      ]
     },
     "execution_count": 38,
     "metadata": {},
     "output_type": "execute_result"
    }
   ],
   "source": [
    "quoted = f\"'{post_data}'\"\n",
    "quoted"
   ]
  },
  {
   "cell_type": "code",
   "execution_count": 41,
   "metadata": {},
   "outputs": [],
   "source": [
    "def create_post_data(df, quote=True):\n",
    "    dictionary = {'dataframe_split': json.loads(df\n",
    "       .to_json(orient='split', index=False))}\n",
    "    if quote:\n",
    "        return f\"'{dictionary}'\"\n",
    "    else:\n",
    "        return dictionary"
   ]
  },
  {
   "cell_type": "code",
   "execution_count": 42,
   "metadata": {},
   "outputs": [
    {
     "data": {
      "text/plain": [
       "\"'{'dataframe_split': {'columns': ['age', 'education', 'years_exp', 'compensation', 'python', 'r', 'sql', 'Q1_Male', 'Q1_Female', 'Q1_Prefer not to say', 'Q1_Prefer to self-describe', 'Q3_United States of America', 'Q3_India', 'Q3_China', 'major_cs', 'major_other', 'major_eng', 'major_stat'], 'data': [[22, 16.0, 1.0, 0, 1, 0, 0, 1, 0, 0, 0, 0, 1, 0, 1, 0, 0, 0], [25, 18.0, 1.0, 70000, 1, 1, 0, 1, 0, 0, 0, 1, 0, 0, 0, 1, 0, 0]]}}'\""
      ]
     },
     "execution_count": 42,
     "metadata": {},
     "output_type": "execute_result"
    }
   ],
   "source": [
    "quoted = create_post_data(X_test.head(2))\n",
    "quoted"
   ]
  },
  {
   "cell_type": "markdown",
   "metadata": {},
   "source": [
    "이제 시작해보자."
   ]
  },
  {
   "cell_type": "code",
   "execution_count": 43,
   "metadata": {},
   "outputs": [
    {
     "name": "stdout",
     "output_type": "stream",
     "text": [
      "Usage: curl [options...] <url>\n",
      "Invalid category provided, here is a list of all categories:\n",
      "\n",
      " auth        Different types of authentication methods\n",
      " connection  Low level networking operations\n",
      " curl        The command line tool itself\n",
      " dns         General DNS options\n",
      " file        FILE protocol options\n",
      " ftp         FTP protocol options\n",
      " http        HTTP and HTTPS protocol options\n",
      " imap        IMAP protocol options\n",
      " misc        Options that don't fit into any other category\n",
      " output      Filesystem output\n",
      " pop3        POP3 protocol options\n",
      " post        HTTP Post specific options\n",
      " proxy       All options related to proxies\n",
      " scp         SCP protocol options\n",
      " sftp        SFTP protocol options\n",
      " smtp        SMTP protocol options\n",
      " ssh         SSH protocol options\n",
      " telnet      TELNET protocol options\n",
      " tftp        TFTP protocol options\n",
      " tls         All TLS/SSL related options\n",
      " upload      All options for uploads\n",
      " verbose     Options related to any kind of command line output of curl\n"
     ]
    }
   ],
   "source": [
    "!curl http://127.0.0.1:1234/invocations -x post -h \"content-type:application/json\" --data $quoted"
   ]
  },
  {
   "cell_type": "markdown",
   "metadata": {},
   "source": [
    "- 동작 안됨"
   ]
  },
  {
   "cell_type": "markdown",
   "metadata": {},
   "source": [
    "### 21.6 Querying with the Requests Library"
   ]
  },
  {
   "cell_type": "markdown",
   "metadata": {},
   "source": [
    "This code uses the requests library to make a post request. It will predict the first two test\n",
    "rows. it uses the pandas .to_json method and requires setting orient='split'. it returns 1\n",
    "(software engineer) for the first row and 0 (data scientist) for the second.\n",
    "In this case, because we are sending the json data as a dictionary and not a quoted string,\n",
    "we will pass in quote=false."
   ]
  },
  {
   "cell_type": "code",
   "execution_count": 44,
   "metadata": {},
   "outputs": [],
   "source": [
    "import requests as req\n",
    "import json"
   ]
  },
  {
   "cell_type": "code",
   "execution_count": 46,
   "metadata": {},
   "outputs": [],
   "source": [
    "r = req.post('http://127.0.0.1:1234/invocations', \n",
    "             json=create_post_data(X_test.head(2), quote=False))"
   ]
  },
  {
   "cell_type": "code",
   "execution_count": 47,
   "metadata": {},
   "outputs": [
    {
     "name": "stdout",
     "output_type": "stream",
     "text": [
      "{\"predictions\": [1, 0]}\n"
     ]
    }
   ],
   "source": [
    "print(r.text)"
   ]
  },
  {
   "cell_type": "markdown",
   "metadata": {},
   "source": [
    "- request는 잘 동작함"
   ]
  },
  {
   "cell_type": "markdown",
   "metadata": {},
   "source": [
    "### 21.7 Building with Docker"
   ]
  },
  {
   "cell_type": "markdown",
   "metadata": {},
   "source": [
    "mlflow models build-docker -m ex2path/22f11ad59e22476a8fd05701dd888e21/artifacts/model -n 모델이름"
   ]
  },
  {
   "cell_type": "markdown",
   "metadata": {},
   "source": [
    "mlflow[extras]를 설치해야 가능??  \n",
    "\n",
    "pip install mlflow[extras]"
   ]
  },
  {
   "cell_type": "markdown",
   "metadata": {},
   "source": [
    "- 경로에 dockerfile이 없어 기록이 안됨\n",
    "- 추후 해볼 것"
   ]
  },
  {
   "cell_type": "markdown",
   "metadata": {},
   "source": []
  }
 ],
 "metadata": {
  "kernelspec": {
   "display_name": "base",
   "language": "python",
   "name": "python3"
  },
  "language_info": {
   "codemirror_mode": {
    "name": "ipython",
    "version": 3
   },
   "file_extension": ".py",
   "mimetype": "text/x-python",
   "name": "python",
   "nbconvert_exporter": "python",
   "pygments_lexer": "ipython3",
   "version": "3.9.13"
  },
  "orig_nbformat": 4
 },
 "nbformat": 4,
 "nbformat_minor": 2
}
