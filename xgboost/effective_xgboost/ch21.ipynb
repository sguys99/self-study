{
 "cells": [
  {
   "attachments": {},
   "cell_type": "markdown",
   "metadata": {},
   "source": [
    "## ch21 Serving Models with MLFLOW\n",
    "- https://github.com/mattharrison/effective_xgboost_book/blob/main/xgbcode.ipynb"
   ]
  },
  {
   "attachments": {},
   "cell_type": "markdown",
   "metadata": {},
   "source": [
    "<div style=\"text-align: right\"> <b>Author : Kwang Myung Yu</b></div>\n",
    "<div style=\"text-align: right\"> Initial upload: 2023.8.18</div>\n",
    "<div style=\"text-align: right\"> Last update: 2023.8.18</div>"
   ]
  },
  {
   "cell_type": "code",
   "execution_count": 1,
   "metadata": {},
   "outputs": [],
   "source": [
    "import os\n",
    "import sys\n",
    "import time\n",
    "import numpy as np\n",
    "import pandas as pd\n",
    "import matplotlib as mpl\n",
    "import matplotlib.pyplot as plt\n",
    "import matplotlib.gridspec as gridspec\n",
    "import seaborn as sns\n",
    "from scipy import stats\n",
    "import warnings; warnings.filterwarnings('ignore')\n",
    "#plt.style.use('ggplot')\n",
    "plt.style.use('seaborn-whitegrid')\n",
    "%matplotlib inline"
   ]
  },
  {
   "attachments": {},
   "cell_type": "markdown",
   "metadata": {},
   "source": [
    "### 21.1 Installation and Setup"
   ]
  },
  {
   "cell_type": "code",
   "execution_count": 2,
   "metadata": {},
   "outputs": [],
   "source": [
    "from feature_engine import encoding, imputation\n",
    "from hyperopt import fmin, tpe, hp, STATUS_OK, Trials\n",
    "import matplotlib.pyplot as plt\n",
    "import mlflow\n",
    "import numpy as np\n",
    "import pandas as pd\n",
    "from sklearn import base, metrics, model_selection, \\\n",
    "pipeline, preprocessing\n",
    "from sklearn.metrics import accuracy_score, roc_auc_score\n",
    "import xgboost as xgb\n",
    "import urllib\n",
    "import zipfile\n",
    "\n",
    "from sklearn import model_selection, preprocessing\n",
    "import xg_helpers as xhelp"
   ]
  },
  {
   "cell_type": "code",
   "execution_count": 3,
   "metadata": {},
   "outputs": [],
   "source": [
    "url = 'https://github.com/mattharrison/datasets/raw/master/data/'\\\n",
    "'kaggle-survey-2018.zip'\n",
    "fname = 'kaggle-survey-2018.zip'\n",
    "member_name = 'multipleChoiceResponses.csv'"
   ]
  },
  {
   "cell_type": "code",
   "execution_count": 4,
   "metadata": {},
   "outputs": [],
   "source": [
    "raw = xhelp.extract_zip(url, fname, member_name)\n",
    "## Create raw X and raw y\n",
    "kag_X, kag_y = xhelp.get_rawX_y(raw, 'Q6')"
   ]
  },
  {
   "cell_type": "code",
   "execution_count": 5,
   "metadata": {},
   "outputs": [],
   "source": [
    "## Split data\n",
    "kag_X_train, kag_X_test, kag_y_train, kag_y_test = \\\n",
    "model_selection.train_test_split(\n",
    "kag_X, kag_y, test_size=.3, random_state=42, stratify=kag_y)"
   ]
  },
  {
   "cell_type": "code",
   "execution_count": 6,
   "metadata": {},
   "outputs": [],
   "source": [
    "## Transform X with pipeline\n",
    "X_train = xhelp.kag_pl.fit_transform(kag_X_train)\n",
    "X_test = xhelp.kag_pl.transform(kag_X_test)\n",
    "## Transform y with label encoder\n",
    "label_encoder = preprocessing.LabelEncoder()\n",
    "label_encoder.fit(kag_y_train)\n",
    "y_train = label_encoder.transform(kag_y_train)\n",
    "y_test = label_encoder.transform(kag_y_test)\n",
    "# Combined Data for cross validation/etc\n",
    "X = pd.concat([X_train, X_test], axis='index')\n",
    "y = pd.Series([*y_train, *y_test], index=X.index)"
   ]
  },
  {
   "cell_type": "markdown",
   "metadata": {},
   "source": [
    "모델 학습을 위해 hyperopt를 사용   \n",
    "로깅을 위해 mlflow 사용"
   ]
  },
  {
   "cell_type": "code",
   "execution_count": 7,
   "metadata": {},
   "outputs": [],
   "source": [
    "from hyperopt import fmin, tpe, hp, STATUS_OK, Trials\n",
    "import mlflow\n",
    "from sklearn import metrics\n",
    "import xgboost as xgb"
   ]
  },
  {
   "cell_type": "code",
   "execution_count": 8,
   "metadata": {},
   "outputs": [
    {
     "data": {
      "text/plain": [
       "<Experiment: artifact_location='/Users/sguys99/Desktop/project/self-study/xgboost/effective_xgboost/ex2path', creation_time=1692745509449, experiment_id='519305200764229524', last_update_time=1692745509449, lifecycle_stage='active', name='ex3', tags={}>"
      ]
     },
     "execution_count": 8,
     "metadata": {},
     "output_type": "execute_result"
    }
   ],
   "source": [
    "ex_id = mlflow.create_experiment(name='ex3', artifact_location='ex2path')\n",
    "mlflow.set_experiment(experiment_name='ex3')"
   ]
  },
  {
   "cell_type": "code",
   "execution_count": 9,
   "metadata": {},
   "outputs": [
    {
     "name": "stdout",
     "output_type": "stream",
     "text": [
      "100%|██████████| 10/10 [00:01<00:00,  6.82trial/s, best loss: -0.7591160220994475]\n",
      "[0]\tvalidation_0-logloss:0.63890\tvalidation_1-logloss:0.63788\n",
      "[1]\tvalidation_0-logloss:0.60660\tvalidation_1-logloss:0.60176\n",
      "[2]\tvalidation_0-logloss:0.58544\tvalidation_1-logloss:0.58033\n",
      "[3]\tvalidation_0-logloss:0.57051\tvalidation_1-logloss:0.56233\n",
      "[4]\tvalidation_0-logloss:0.56020\tvalidation_1-logloss:0.55044\n",
      "[5]\tvalidation_0-logloss:0.55158\tvalidation_1-logloss:0.54205\n",
      "[6]\tvalidation_0-logloss:0.54389\tvalidation_1-logloss:0.53330\n",
      "[7]\tvalidation_0-logloss:0.53839\tvalidation_1-logloss:0.52660\n",
      "[8]\tvalidation_0-logloss:0.53386\tvalidation_1-logloss:0.52157\n",
      "[9]\tvalidation_0-logloss:0.53082\tvalidation_1-logloss:0.51799\n",
      "[10]\tvalidation_0-logloss:0.52849\tvalidation_1-logloss:0.51710\n",
      "[11]\tvalidation_0-logloss:0.52575\tvalidation_1-logloss:0.51444\n",
      "[12]\tvalidation_0-logloss:0.52394\tvalidation_1-logloss:0.51216\n",
      "[13]\tvalidation_0-logloss:0.52223\tvalidation_1-logloss:0.51070\n",
      "[14]\tvalidation_0-logloss:0.52083\tvalidation_1-logloss:0.50948\n",
      "[15]\tvalidation_0-logloss:0.51928\tvalidation_1-logloss:0.50806\n",
      "[16]\tvalidation_0-logloss:0.51799\tvalidation_1-logloss:0.50698\n",
      "[17]\tvalidation_0-logloss:0.51656\tvalidation_1-logloss:0.50588\n",
      "[18]\tvalidation_0-logloss:0.51579\tvalidation_1-logloss:0.50523\n",
      "[19]\tvalidation_0-logloss:0.51511\tvalidation_1-logloss:0.50461\n",
      "[20]\tvalidation_0-logloss:0.51327\tvalidation_1-logloss:0.50353\n",
      "[21]\tvalidation_0-logloss:0.51286\tvalidation_1-logloss:0.50351\n",
      "[22]\tvalidation_0-logloss:0.51226\tvalidation_1-logloss:0.50279\n",
      "[23]\tvalidation_0-logloss:0.51037\tvalidation_1-logloss:0.50243\n",
      "[24]\tvalidation_0-logloss:0.50935\tvalidation_1-logloss:0.50249\n",
      "[25]\tvalidation_0-logloss:0.50884\tvalidation_1-logloss:0.50236\n",
      "[26]\tvalidation_0-logloss:0.50849\tvalidation_1-logloss:0.50213\n",
      "[27]\tvalidation_0-logloss:0.50752\tvalidation_1-logloss:0.50190\n",
      "[28]\tvalidation_0-logloss:0.50692\tvalidation_1-logloss:0.50135\n",
      "[29]\tvalidation_0-logloss:0.50646\tvalidation_1-logloss:0.50138\n",
      "[30]\tvalidation_0-logloss:0.50593\tvalidation_1-logloss:0.50112\n",
      "[31]\tvalidation_0-logloss:0.50543\tvalidation_1-logloss:0.50038\n",
      "[32]\tvalidation_0-logloss:0.50523\tvalidation_1-logloss:0.50046\n",
      "[33]\tvalidation_0-logloss:0.50490\tvalidation_1-logloss:0.49996\n",
      "[34]\tvalidation_0-logloss:0.50461\tvalidation_1-logloss:0.50010\n",
      "[35]\tvalidation_0-logloss:0.50410\tvalidation_1-logloss:0.49981\n",
      "[36]\tvalidation_0-logloss:0.50397\tvalidation_1-logloss:0.49982\n",
      "[37]\tvalidation_0-logloss:0.50325\tvalidation_1-logloss:0.49878\n",
      "[38]\tvalidation_0-logloss:0.50136\tvalidation_1-logloss:0.49818\n",
      "[39]\tvalidation_0-logloss:0.50045\tvalidation_1-logloss:0.49765\n",
      "[40]\tvalidation_0-logloss:0.50003\tvalidation_1-logloss:0.49764\n",
      "[41]\tvalidation_0-logloss:0.49951\tvalidation_1-logloss:0.49747\n",
      "[42]\tvalidation_0-logloss:0.49932\tvalidation_1-logloss:0.49753\n",
      "[43]\tvalidation_0-logloss:0.49902\tvalidation_1-logloss:0.49746\n",
      "[44]\tvalidation_0-logloss:0.49873\tvalidation_1-logloss:0.49722\n",
      "[45]\tvalidation_0-logloss:0.49750\tvalidation_1-logloss:0.49712\n",
      "[46]\tvalidation_0-logloss:0.49670\tvalidation_1-logloss:0.49738\n",
      "[47]\tvalidation_0-logloss:0.49626\tvalidation_1-logloss:0.49725\n",
      "[48]\tvalidation_0-logloss:0.49477\tvalidation_1-logloss:0.49616\n",
      "[49]\tvalidation_0-logloss:0.49400\tvalidation_1-logloss:0.49686\n",
      "[50]\tvalidation_0-logloss:0.49327\tvalidation_1-logloss:0.49613\n",
      "[51]\tvalidation_0-logloss:0.49277\tvalidation_1-logloss:0.49622\n",
      "[52]\tvalidation_0-logloss:0.49199\tvalidation_1-logloss:0.49523\n",
      "[53]\tvalidation_0-logloss:0.49148\tvalidation_1-logloss:0.49521\n",
      "[54]\tvalidation_0-logloss:0.49119\tvalidation_1-logloss:0.49541\n",
      "[55]\tvalidation_0-logloss:0.49035\tvalidation_1-logloss:0.49518\n",
      "[56]\tvalidation_0-logloss:0.48994\tvalidation_1-logloss:0.49502\n",
      "[57]\tvalidation_0-logloss:0.48900\tvalidation_1-logloss:0.49468\n",
      "[58]\tvalidation_0-logloss:0.48857\tvalidation_1-logloss:0.49527\n",
      "[59]\tvalidation_0-logloss:0.48801\tvalidation_1-logloss:0.49459\n",
      "[60]\tvalidation_0-logloss:0.48726\tvalidation_1-logloss:0.49422\n",
      "[61]\tvalidation_0-logloss:0.48676\tvalidation_1-logloss:0.49430\n",
      "[62]\tvalidation_0-logloss:0.48637\tvalidation_1-logloss:0.49480\n",
      "[63]\tvalidation_0-logloss:0.48605\tvalidation_1-logloss:0.49468\n",
      "[64]\tvalidation_0-logloss:0.48581\tvalidation_1-logloss:0.49506\n",
      "[65]\tvalidation_0-logloss:0.48553\tvalidation_1-logloss:0.49510\n",
      "[66]\tvalidation_0-logloss:0.48498\tvalidation_1-logloss:0.49444\n",
      "[67]\tvalidation_0-logloss:0.48467\tvalidation_1-logloss:0.49444\n",
      "[68]\tvalidation_0-logloss:0.48402\tvalidation_1-logloss:0.49392\n",
      "[69]\tvalidation_0-logloss:0.48368\tvalidation_1-logloss:0.49407\n",
      "[70]\tvalidation_0-logloss:0.48344\tvalidation_1-logloss:0.49387\n",
      "[71]\tvalidation_0-logloss:0.48301\tvalidation_1-logloss:0.49377\n",
      "[72]\tvalidation_0-logloss:0.48272\tvalidation_1-logloss:0.49371\n",
      "[73]\tvalidation_0-logloss:0.48239\tvalidation_1-logloss:0.49339\n",
      "[74]\tvalidation_0-logloss:0.48192\tvalidation_1-logloss:0.49360\n",
      "[75]\tvalidation_0-logloss:0.48152\tvalidation_1-logloss:0.49325\n",
      "[76]\tvalidation_0-logloss:0.48102\tvalidation_1-logloss:0.49288\n",
      "[77]\tvalidation_0-logloss:0.48088\tvalidation_1-logloss:0.49286\n",
      "[78]\tvalidation_0-logloss:0.48052\tvalidation_1-logloss:0.49292\n",
      "[79]\tvalidation_0-logloss:0.48005\tvalidation_1-logloss:0.49285\n",
      "[80]\tvalidation_0-logloss:0.47983\tvalidation_1-logloss:0.49300\n",
      "[81]\tvalidation_0-logloss:0.47964\tvalidation_1-logloss:0.49292\n",
      "[82]\tvalidation_0-logloss:0.47937\tvalidation_1-logloss:0.49295\n",
      "[83]\tvalidation_0-logloss:0.47921\tvalidation_1-logloss:0.49288\n",
      "[84]\tvalidation_0-logloss:0.47892\tvalidation_1-logloss:0.49331\n",
      "[85]\tvalidation_0-logloss:0.47885\tvalidation_1-logloss:0.49333\n",
      "[86]\tvalidation_0-logloss:0.47856\tvalidation_1-logloss:0.49346\n",
      "[87]\tvalidation_0-logloss:0.47828\tvalidation_1-logloss:0.49377\n",
      "[88]\tvalidation_0-logloss:0.47800\tvalidation_1-logloss:0.49347\n",
      "[89]\tvalidation_0-logloss:0.47775\tvalidation_1-logloss:0.49336\n",
      "[90]\tvalidation_0-logloss:0.47756\tvalidation_1-logloss:0.49332\n",
      "[91]\tvalidation_0-logloss:0.47738\tvalidation_1-logloss:0.49297\n",
      "[92]\tvalidation_0-logloss:0.47706\tvalidation_1-logloss:0.49279\n",
      "[93]\tvalidation_0-logloss:0.47688\tvalidation_1-logloss:0.49274\n",
      "[94]\tvalidation_0-logloss:0.47654\tvalidation_1-logloss:0.49252\n",
      "[95]\tvalidation_0-logloss:0.47647\tvalidation_1-logloss:0.49258\n",
      "[96]\tvalidation_0-logloss:0.47632\tvalidation_1-logloss:0.49281\n",
      "[97]\tvalidation_0-logloss:0.47620\tvalidation_1-logloss:0.49299\n",
      "[98]\tvalidation_0-logloss:0.47602\tvalidation_1-logloss:0.49302\n",
      "[99]\tvalidation_0-logloss:0.47568\tvalidation_1-logloss:0.49256\n",
      "100%|██████████| 10/10 [00:00<00:00, 10.20trial/s, best loss: -0.7679558011049724]\n",
      "[0]\tvalidation_0-logloss:0.64038\tvalidation_1-logloss:0.63957\n",
      "[1]\tvalidation_0-logloss:0.61588\tvalidation_1-logloss:0.61255\n",
      "[2]\tvalidation_0-logloss:0.59029\tvalidation_1-logloss:0.58580\n",
      "[3]\tvalidation_0-logloss:0.57509\tvalidation_1-logloss:0.56994\n",
      "[4]\tvalidation_0-logloss:0.56236\tvalidation_1-logloss:0.55726\n",
      "[5]\tvalidation_0-logloss:0.55637\tvalidation_1-logloss:0.55157\n",
      "[6]\tvalidation_0-logloss:0.55009\tvalidation_1-logloss:0.54620\n",
      "[7]\tvalidation_0-logloss:0.54346\tvalidation_1-logloss:0.53859\n",
      "[8]\tvalidation_0-logloss:0.54034\tvalidation_1-logloss:0.53492\n",
      "[9]\tvalidation_0-logloss:0.53705\tvalidation_1-logloss:0.53087\n",
      "[10]\tvalidation_0-logloss:0.53479\tvalidation_1-logloss:0.52917\n",
      "[11]\tvalidation_0-logloss:0.53057\tvalidation_1-logloss:0.52351\n",
      "[12]\tvalidation_0-logloss:0.52703\tvalidation_1-logloss:0.51998\n",
      "[13]\tvalidation_0-logloss:0.52521\tvalidation_1-logloss:0.51841\n",
      "[14]\tvalidation_0-logloss:0.52394\tvalidation_1-logloss:0.51674\n",
      "[15]\tvalidation_0-logloss:0.52201\tvalidation_1-logloss:0.51553\n",
      "[16]\tvalidation_0-logloss:0.51983\tvalidation_1-logloss:0.51309\n",
      "[17]\tvalidation_0-logloss:0.51893\tvalidation_1-logloss:0.51219\n",
      "[18]\tvalidation_0-logloss:0.51807\tvalidation_1-logloss:0.51218\n",
      "[19]\tvalidation_0-logloss:0.51752\tvalidation_1-logloss:0.51212\n",
      "[20]\tvalidation_0-logloss:0.51675\tvalidation_1-logloss:0.51117\n",
      "[21]\tvalidation_0-logloss:0.51601\tvalidation_1-logloss:0.51096\n",
      "[22]\tvalidation_0-logloss:0.51586\tvalidation_1-logloss:0.51050\n",
      "[23]\tvalidation_0-logloss:0.51458\tvalidation_1-logloss:0.51002\n",
      "[24]\tvalidation_0-logloss:0.51427\tvalidation_1-logloss:0.50965\n",
      "[25]\tvalidation_0-logloss:0.51347\tvalidation_1-logloss:0.50905\n",
      "[26]\tvalidation_0-logloss:0.51290\tvalidation_1-logloss:0.50877\n",
      "[27]\tvalidation_0-logloss:0.51260\tvalidation_1-logloss:0.50882\n",
      "[28]\tvalidation_0-logloss:0.51182\tvalidation_1-logloss:0.50781\n",
      "[29]\tvalidation_0-logloss:0.51106\tvalidation_1-logloss:0.50693\n",
      "[30]\tvalidation_0-logloss:0.50924\tvalidation_1-logloss:0.50571\n",
      "[31]\tvalidation_0-logloss:0.50878\tvalidation_1-logloss:0.50537\n",
      "[32]\tvalidation_0-logloss:0.50831\tvalidation_1-logloss:0.50474\n",
      "[33]\tvalidation_0-logloss:0.50736\tvalidation_1-logloss:0.50487\n",
      "[34]\tvalidation_0-logloss:0.50592\tvalidation_1-logloss:0.50401\n",
      "[35]\tvalidation_0-logloss:0.50565\tvalidation_1-logloss:0.50442\n",
      "[36]\tvalidation_0-logloss:0.50432\tvalidation_1-logloss:0.50179\n",
      "[37]\tvalidation_0-logloss:0.50241\tvalidation_1-logloss:0.50245\n",
      "[38]\tvalidation_0-logloss:0.50132\tvalidation_1-logloss:0.50185\n",
      "[39]\tvalidation_0-logloss:0.50096\tvalidation_1-logloss:0.50186\n",
      "[40]\tvalidation_0-logloss:0.50043\tvalidation_1-logloss:0.50084\n",
      "[41]\tvalidation_0-logloss:0.49954\tvalidation_1-logloss:0.50034\n",
      "[42]\tvalidation_0-logloss:0.49880\tvalidation_1-logloss:0.50012\n",
      "[43]\tvalidation_0-logloss:0.49804\tvalidation_1-logloss:0.50028\n",
      "[44]\tvalidation_0-logloss:0.49769\tvalidation_1-logloss:0.49920\n",
      "[45]\tvalidation_0-logloss:0.49739\tvalidation_1-logloss:0.49940\n",
      "[46]\tvalidation_0-logloss:0.49721\tvalidation_1-logloss:0.49933\n",
      "[47]\tvalidation_0-logloss:0.49689\tvalidation_1-logloss:0.49899\n",
      "[48]\tvalidation_0-logloss:0.49622\tvalidation_1-logloss:0.49845\n",
      "[49]\tvalidation_0-logloss:0.49577\tvalidation_1-logloss:0.49846\n",
      "[50]\tvalidation_0-logloss:0.49526\tvalidation_1-logloss:0.49870\n",
      "[51]\tvalidation_0-logloss:0.49494\tvalidation_1-logloss:0.49869\n",
      "[52]\tvalidation_0-logloss:0.49423\tvalidation_1-logloss:0.49886\n",
      "[53]\tvalidation_0-logloss:0.49388\tvalidation_1-logloss:0.49882\n",
      "[54]\tvalidation_0-logloss:0.49354\tvalidation_1-logloss:0.49851\n",
      "[55]\tvalidation_0-logloss:0.49300\tvalidation_1-logloss:0.49842\n",
      "[56]\tvalidation_0-logloss:0.49262\tvalidation_1-logloss:0.49807\n",
      "[57]\tvalidation_0-logloss:0.49246\tvalidation_1-logloss:0.49770\n",
      "[58]\tvalidation_0-logloss:0.49209\tvalidation_1-logloss:0.49790\n",
      "[59]\tvalidation_0-logloss:0.49139\tvalidation_1-logloss:0.49849\n",
      "[60]\tvalidation_0-logloss:0.49126\tvalidation_1-logloss:0.49831\n",
      "[61]\tvalidation_0-logloss:0.49086\tvalidation_1-logloss:0.49826\n",
      "[62]\tvalidation_0-logloss:0.49045\tvalidation_1-logloss:0.49780\n",
      "[63]\tvalidation_0-logloss:0.49025\tvalidation_1-logloss:0.49746\n",
      "[64]\tvalidation_0-logloss:0.48980\tvalidation_1-logloss:0.49747\n",
      "[65]\tvalidation_0-logloss:0.48953\tvalidation_1-logloss:0.49705\n",
      "[66]\tvalidation_0-logloss:0.48888\tvalidation_1-logloss:0.49711\n",
      "[67]\tvalidation_0-logloss:0.48847\tvalidation_1-logloss:0.49700\n",
      "[68]\tvalidation_0-logloss:0.48826\tvalidation_1-logloss:0.49676\n",
      "[69]\tvalidation_0-logloss:0.48803\tvalidation_1-logloss:0.49648\n",
      "[70]\tvalidation_0-logloss:0.48781\tvalidation_1-logloss:0.49649\n",
      "[71]\tvalidation_0-logloss:0.48740\tvalidation_1-logloss:0.49605\n",
      "[72]\tvalidation_0-logloss:0.48681\tvalidation_1-logloss:0.49555\n",
      "[73]\tvalidation_0-logloss:0.48672\tvalidation_1-logloss:0.49542\n",
      "[74]\tvalidation_0-logloss:0.48646\tvalidation_1-logloss:0.49520\n",
      "[75]\tvalidation_0-logloss:0.48609\tvalidation_1-logloss:0.49454\n",
      "[76]\tvalidation_0-logloss:0.48553\tvalidation_1-logloss:0.49491\n",
      "[77]\tvalidation_0-logloss:0.48526\tvalidation_1-logloss:0.49487\n",
      "[78]\tvalidation_0-logloss:0.48520\tvalidation_1-logloss:0.49467\n",
      "[79]\tvalidation_0-logloss:0.48500\tvalidation_1-logloss:0.49479\n",
      "[80]\tvalidation_0-logloss:0.48473\tvalidation_1-logloss:0.49500\n",
      "[81]\tvalidation_0-logloss:0.48457\tvalidation_1-logloss:0.49494\n",
      "[82]\tvalidation_0-logloss:0.48429\tvalidation_1-logloss:0.49487\n",
      "[83]\tvalidation_0-logloss:0.48405\tvalidation_1-logloss:0.49449\n",
      "[84]\tvalidation_0-logloss:0.48379\tvalidation_1-logloss:0.49475\n",
      "[85]\tvalidation_0-logloss:0.48366\tvalidation_1-logloss:0.49420\n",
      "[86]\tvalidation_0-logloss:0.48324\tvalidation_1-logloss:0.49463\n",
      "[87]\tvalidation_0-logloss:0.48296\tvalidation_1-logloss:0.49451\n",
      "[88]\tvalidation_0-logloss:0.48286\tvalidation_1-logloss:0.49468\n",
      "[89]\tvalidation_0-logloss:0.48255\tvalidation_1-logloss:0.49478\n",
      "[90]\tvalidation_0-logloss:0.48229\tvalidation_1-logloss:0.49520\n",
      "[91]\tvalidation_0-logloss:0.48213\tvalidation_1-logloss:0.49495\n",
      "[92]\tvalidation_0-logloss:0.48179\tvalidation_1-logloss:0.49524\n",
      "[93]\tvalidation_0-logloss:0.48150\tvalidation_1-logloss:0.49545\n",
      "[94]\tvalidation_0-logloss:0.48128\tvalidation_1-logloss:0.49515\n",
      "[95]\tvalidation_0-logloss:0.48117\tvalidation_1-logloss:0.49510\n",
      "[96]\tvalidation_0-logloss:0.48090\tvalidation_1-logloss:0.49490\n",
      "[97]\tvalidation_0-logloss:0.48047\tvalidation_1-logloss:0.49522\n",
      "[98]\tvalidation_0-logloss:0.48008\tvalidation_1-logloss:0.49504\n",
      "[99]\tvalidation_0-logloss:0.48003\tvalidation_1-logloss:0.49482\n",
      "100%|██████████| 10/10 [00:00<00:00, 10.43trial/s, best loss: -0.7679558011049724]\n",
      "[0]\tvalidation_0-logloss:0.64038\tvalidation_1-logloss:0.63957\n",
      "[1]\tvalidation_0-logloss:0.61588\tvalidation_1-logloss:0.61255\n",
      "[2]\tvalidation_0-logloss:0.59029\tvalidation_1-logloss:0.58580\n",
      "[3]\tvalidation_0-logloss:0.57509\tvalidation_1-logloss:0.56994\n",
      "[4]\tvalidation_0-logloss:0.56236\tvalidation_1-logloss:0.55726\n",
      "[5]\tvalidation_0-logloss:0.55637\tvalidation_1-logloss:0.55157\n",
      "[6]\tvalidation_0-logloss:0.55009\tvalidation_1-logloss:0.54620\n",
      "[7]\tvalidation_0-logloss:0.54346\tvalidation_1-logloss:0.53859\n",
      "[8]\tvalidation_0-logloss:0.54034\tvalidation_1-logloss:0.53492\n",
      "[9]\tvalidation_0-logloss:0.53705\tvalidation_1-logloss:0.53087\n",
      "[10]\tvalidation_0-logloss:0.53479\tvalidation_1-logloss:0.52917\n",
      "[11]\tvalidation_0-logloss:0.53057\tvalidation_1-logloss:0.52351\n",
      "[12]\tvalidation_0-logloss:0.52703\tvalidation_1-logloss:0.51998\n",
      "[13]\tvalidation_0-logloss:0.52521\tvalidation_1-logloss:0.51841\n",
      "[14]\tvalidation_0-logloss:0.52394\tvalidation_1-logloss:0.51674\n",
      "[15]\tvalidation_0-logloss:0.52201\tvalidation_1-logloss:0.51553\n",
      "[16]\tvalidation_0-logloss:0.51983\tvalidation_1-logloss:0.51309\n",
      "[17]\tvalidation_0-logloss:0.51893\tvalidation_1-logloss:0.51219\n",
      "[18]\tvalidation_0-logloss:0.51807\tvalidation_1-logloss:0.51218\n",
      "[19]\tvalidation_0-logloss:0.51752\tvalidation_1-logloss:0.51212\n",
      "[20]\tvalidation_0-logloss:0.51675\tvalidation_1-logloss:0.51117\n",
      "[21]\tvalidation_0-logloss:0.51601\tvalidation_1-logloss:0.51096\n",
      "[22]\tvalidation_0-logloss:0.51586\tvalidation_1-logloss:0.51050\n",
      "[23]\tvalidation_0-logloss:0.51458\tvalidation_1-logloss:0.51002\n",
      "[24]\tvalidation_0-logloss:0.51427\tvalidation_1-logloss:0.50965\n",
      "[25]\tvalidation_0-logloss:0.51347\tvalidation_1-logloss:0.50905\n",
      "[26]\tvalidation_0-logloss:0.51290\tvalidation_1-logloss:0.50877\n",
      "[27]\tvalidation_0-logloss:0.51260\tvalidation_1-logloss:0.50882\n",
      "[28]\tvalidation_0-logloss:0.51182\tvalidation_1-logloss:0.50781\n",
      "[29]\tvalidation_0-logloss:0.51106\tvalidation_1-logloss:0.50693\n",
      "[30]\tvalidation_0-logloss:0.50924\tvalidation_1-logloss:0.50571\n",
      "[31]\tvalidation_0-logloss:0.50878\tvalidation_1-logloss:0.50537\n",
      "[32]\tvalidation_0-logloss:0.50831\tvalidation_1-logloss:0.50474\n",
      "[33]\tvalidation_0-logloss:0.50736\tvalidation_1-logloss:0.50487\n",
      "[34]\tvalidation_0-logloss:0.50592\tvalidation_1-logloss:0.50401\n",
      "[35]\tvalidation_0-logloss:0.50565\tvalidation_1-logloss:0.50442\n",
      "[36]\tvalidation_0-logloss:0.50432\tvalidation_1-logloss:0.50179\n",
      "[37]\tvalidation_0-logloss:0.50241\tvalidation_1-logloss:0.50245\n",
      "[38]\tvalidation_0-logloss:0.50132\tvalidation_1-logloss:0.50185\n",
      "[39]\tvalidation_0-logloss:0.50096\tvalidation_1-logloss:0.50186\n",
      "[40]\tvalidation_0-logloss:0.50043\tvalidation_1-logloss:0.50084\n",
      "[41]\tvalidation_0-logloss:0.49954\tvalidation_1-logloss:0.50034\n",
      "[42]\tvalidation_0-logloss:0.49880\tvalidation_1-logloss:0.50012\n",
      "[43]\tvalidation_0-logloss:0.49804\tvalidation_1-logloss:0.50028\n",
      "[44]\tvalidation_0-logloss:0.49769\tvalidation_1-logloss:0.49920\n",
      "[45]\tvalidation_0-logloss:0.49739\tvalidation_1-logloss:0.49940\n",
      "[46]\tvalidation_0-logloss:0.49721\tvalidation_1-logloss:0.49933\n",
      "[47]\tvalidation_0-logloss:0.49689\tvalidation_1-logloss:0.49899\n",
      "[48]\tvalidation_0-logloss:0.49622\tvalidation_1-logloss:0.49845\n",
      "[49]\tvalidation_0-logloss:0.49577\tvalidation_1-logloss:0.49846\n",
      "[50]\tvalidation_0-logloss:0.49526\tvalidation_1-logloss:0.49870\n",
      "[51]\tvalidation_0-logloss:0.49494\tvalidation_1-logloss:0.49869\n",
      "[52]\tvalidation_0-logloss:0.49423\tvalidation_1-logloss:0.49886\n",
      "[53]\tvalidation_0-logloss:0.49388\tvalidation_1-logloss:0.49882\n",
      "[54]\tvalidation_0-logloss:0.49354\tvalidation_1-logloss:0.49851\n",
      "[55]\tvalidation_0-logloss:0.49300\tvalidation_1-logloss:0.49842\n",
      "[56]\tvalidation_0-logloss:0.49262\tvalidation_1-logloss:0.49807\n",
      "[57]\tvalidation_0-logloss:0.49246\tvalidation_1-logloss:0.49770\n",
      "[58]\tvalidation_0-logloss:0.49209\tvalidation_1-logloss:0.49790\n",
      "[59]\tvalidation_0-logloss:0.49139\tvalidation_1-logloss:0.49849\n",
      "[60]\tvalidation_0-logloss:0.49126\tvalidation_1-logloss:0.49831\n",
      "[61]\tvalidation_0-logloss:0.49086\tvalidation_1-logloss:0.49826\n",
      "[62]\tvalidation_0-logloss:0.49045\tvalidation_1-logloss:0.49780\n",
      "[63]\tvalidation_0-logloss:0.49025\tvalidation_1-logloss:0.49746\n",
      "[64]\tvalidation_0-logloss:0.48980\tvalidation_1-logloss:0.49747\n",
      "[65]\tvalidation_0-logloss:0.48953\tvalidation_1-logloss:0.49705\n",
      "[66]\tvalidation_0-logloss:0.48888\tvalidation_1-logloss:0.49711\n",
      "[67]\tvalidation_0-logloss:0.48847\tvalidation_1-logloss:0.49700\n",
      "[68]\tvalidation_0-logloss:0.48826\tvalidation_1-logloss:0.49676\n",
      "[69]\tvalidation_0-logloss:0.48803\tvalidation_1-logloss:0.49648\n",
      "[70]\tvalidation_0-logloss:0.48781\tvalidation_1-logloss:0.49649\n",
      "[71]\tvalidation_0-logloss:0.48740\tvalidation_1-logloss:0.49605\n",
      "[72]\tvalidation_0-logloss:0.48681\tvalidation_1-logloss:0.49555\n",
      "[73]\tvalidation_0-logloss:0.48672\tvalidation_1-logloss:0.49542\n",
      "[74]\tvalidation_0-logloss:0.48646\tvalidation_1-logloss:0.49520\n",
      "[75]\tvalidation_0-logloss:0.48609\tvalidation_1-logloss:0.49454\n",
      "[76]\tvalidation_0-logloss:0.48553\tvalidation_1-logloss:0.49491\n",
      "[77]\tvalidation_0-logloss:0.48526\tvalidation_1-logloss:0.49487\n",
      "[78]\tvalidation_0-logloss:0.48520\tvalidation_1-logloss:0.49467\n",
      "[79]\tvalidation_0-logloss:0.48500\tvalidation_1-logloss:0.49479\n",
      "[80]\tvalidation_0-logloss:0.48473\tvalidation_1-logloss:0.49500\n",
      "[81]\tvalidation_0-logloss:0.48457\tvalidation_1-logloss:0.49494\n",
      "[82]\tvalidation_0-logloss:0.48429\tvalidation_1-logloss:0.49487\n",
      "[83]\tvalidation_0-logloss:0.48405\tvalidation_1-logloss:0.49449\n",
      "[84]\tvalidation_0-logloss:0.48379\tvalidation_1-logloss:0.49475\n",
      "[85]\tvalidation_0-logloss:0.48366\tvalidation_1-logloss:0.49420\n",
      "[86]\tvalidation_0-logloss:0.48324\tvalidation_1-logloss:0.49463\n",
      "[87]\tvalidation_0-logloss:0.48296\tvalidation_1-logloss:0.49451\n",
      "[88]\tvalidation_0-logloss:0.48286\tvalidation_1-logloss:0.49468\n",
      "[89]\tvalidation_0-logloss:0.48255\tvalidation_1-logloss:0.49478\n",
      "[90]\tvalidation_0-logloss:0.48229\tvalidation_1-logloss:0.49520\n",
      "[91]\tvalidation_0-logloss:0.48213\tvalidation_1-logloss:0.49495\n",
      "[92]\tvalidation_0-logloss:0.48179\tvalidation_1-logloss:0.49524\n",
      "[93]\tvalidation_0-logloss:0.48150\tvalidation_1-logloss:0.49545\n",
      "[94]\tvalidation_0-logloss:0.48128\tvalidation_1-logloss:0.49515\n",
      "[95]\tvalidation_0-logloss:0.48117\tvalidation_1-logloss:0.49510\n",
      "[96]\tvalidation_0-logloss:0.48090\tvalidation_1-logloss:0.49490\n",
      "[97]\tvalidation_0-logloss:0.48047\tvalidation_1-logloss:0.49522\n",
      "[98]\tvalidation_0-logloss:0.48008\tvalidation_1-logloss:0.49504\n",
      "[99]\tvalidation_0-logloss:0.48003\tvalidation_1-logloss:0.49482\n",
      "100%|██████████| 10/10 [00:00<00:00, 10.76trial/s, best loss: -0.7668508287292818]\n",
      "[0]\tvalidation_0-logloss:0.63355\tvalidation_1-logloss:0.63257\n",
      "[1]\tvalidation_0-logloss:0.60710\tvalidation_1-logloss:0.60298\n",
      "[2]\tvalidation_0-logloss:0.58139\tvalidation_1-logloss:0.57608\n",
      "[3]\tvalidation_0-logloss:0.56642\tvalidation_1-logloss:0.56045\n",
      "[4]\tvalidation_0-logloss:0.55446\tvalidation_1-logloss:0.54866\n",
      "[5]\tvalidation_0-logloss:0.54880\tvalidation_1-logloss:0.54315\n",
      "[6]\tvalidation_0-logloss:0.54472\tvalidation_1-logloss:0.53881\n",
      "[7]\tvalidation_0-logloss:0.53781\tvalidation_1-logloss:0.53059\n",
      "[8]\tvalidation_0-logloss:0.53528\tvalidation_1-logloss:0.52815\n",
      "[9]\tvalidation_0-logloss:0.53237\tvalidation_1-logloss:0.52554\n",
      "[10]\tvalidation_0-logloss:0.53015\tvalidation_1-logloss:0.52395\n",
      "[11]\tvalidation_0-logloss:0.52587\tvalidation_1-logloss:0.51859\n",
      "[12]\tvalidation_0-logloss:0.52287\tvalidation_1-logloss:0.51526\n",
      "[13]\tvalidation_0-logloss:0.52103\tvalidation_1-logloss:0.51332\n",
      "[14]\tvalidation_0-logloss:0.51965\tvalidation_1-logloss:0.51211\n",
      "[15]\tvalidation_0-logloss:0.51807\tvalidation_1-logloss:0.51111\n",
      "[16]\tvalidation_0-logloss:0.51644\tvalidation_1-logloss:0.50908\n",
      "[17]\tvalidation_0-logloss:0.51548\tvalidation_1-logloss:0.50763\n",
      "[18]\tvalidation_0-logloss:0.51481\tvalidation_1-logloss:0.50785\n",
      "[19]\tvalidation_0-logloss:0.51438\tvalidation_1-logloss:0.50805\n",
      "[20]\tvalidation_0-logloss:0.51378\tvalidation_1-logloss:0.50726\n",
      "[21]\tvalidation_0-logloss:0.51278\tvalidation_1-logloss:0.50713\n",
      "[22]\tvalidation_0-logloss:0.51255\tvalidation_1-logloss:0.50652\n",
      "[23]\tvalidation_0-logloss:0.51137\tvalidation_1-logloss:0.50500\n",
      "[24]\tvalidation_0-logloss:0.51106\tvalidation_1-logloss:0.50487\n",
      "[25]\tvalidation_0-logloss:0.51048\tvalidation_1-logloss:0.50358\n",
      "[26]\tvalidation_0-logloss:0.50971\tvalidation_1-logloss:0.50320\n",
      "[27]\tvalidation_0-logloss:0.50947\tvalidation_1-logloss:0.50351\n",
      "[28]\tvalidation_0-logloss:0.50857\tvalidation_1-logloss:0.50213\n",
      "[29]\tvalidation_0-logloss:0.50831\tvalidation_1-logloss:0.50195\n",
      "[30]\tvalidation_0-logloss:0.50663\tvalidation_1-logloss:0.50142\n",
      "[31]\tvalidation_0-logloss:0.50571\tvalidation_1-logloss:0.50128\n",
      "[32]\tvalidation_0-logloss:0.50515\tvalidation_1-logloss:0.50129\n",
      "[33]\tvalidation_0-logloss:0.50502\tvalidation_1-logloss:0.50110\n",
      "[34]\tvalidation_0-logloss:0.50362\tvalidation_1-logloss:0.50054\n",
      "[35]\tvalidation_0-logloss:0.50321\tvalidation_1-logloss:0.50118\n",
      "[36]\tvalidation_0-logloss:0.50177\tvalidation_1-logloss:0.49809\n",
      "[37]\tvalidation_0-logloss:0.49978\tvalidation_1-logloss:0.49886\n",
      "[38]\tvalidation_0-logloss:0.49922\tvalidation_1-logloss:0.49872\n",
      "[39]\tvalidation_0-logloss:0.49898\tvalidation_1-logloss:0.49852\n",
      "[40]\tvalidation_0-logloss:0.49846\tvalidation_1-logloss:0.49861\n",
      "[41]\tvalidation_0-logloss:0.49824\tvalidation_1-logloss:0.49876\n",
      "[42]\tvalidation_0-logloss:0.49747\tvalidation_1-logloss:0.49873\n",
      "[43]\tvalidation_0-logloss:0.49717\tvalidation_1-logloss:0.49791\n",
      "[44]\tvalidation_0-logloss:0.49619\tvalidation_1-logloss:0.49692\n",
      "[45]\tvalidation_0-logloss:0.49579\tvalidation_1-logloss:0.49675\n",
      "[46]\tvalidation_0-logloss:0.49551\tvalidation_1-logloss:0.49687\n",
      "[47]\tvalidation_0-logloss:0.49523\tvalidation_1-logloss:0.49640\n",
      "[48]\tvalidation_0-logloss:0.49485\tvalidation_1-logloss:0.49704\n",
      "[49]\tvalidation_0-logloss:0.49476\tvalidation_1-logloss:0.49716\n",
      "[50]\tvalidation_0-logloss:0.49445\tvalidation_1-logloss:0.49707\n",
      "[51]\tvalidation_0-logloss:0.49412\tvalidation_1-logloss:0.49699\n",
      "[52]\tvalidation_0-logloss:0.49316\tvalidation_1-logloss:0.49710\n",
      "[53]\tvalidation_0-logloss:0.49266\tvalidation_1-logloss:0.49783\n",
      "[54]\tvalidation_0-logloss:0.49202\tvalidation_1-logloss:0.49803\n",
      "[55]\tvalidation_0-logloss:0.49169\tvalidation_1-logloss:0.49764\n",
      "[56]\tvalidation_0-logloss:0.49119\tvalidation_1-logloss:0.49693\n",
      "[57]\tvalidation_0-logloss:0.49085\tvalidation_1-logloss:0.49678\n",
      "[58]\tvalidation_0-logloss:0.49025\tvalidation_1-logloss:0.49709\n",
      "[59]\tvalidation_0-logloss:0.48976\tvalidation_1-logloss:0.49709\n",
      "[60]\tvalidation_0-logloss:0.48947\tvalidation_1-logloss:0.49714\n",
      "[61]\tvalidation_0-logloss:0.48926\tvalidation_1-logloss:0.49742\n",
      "[62]\tvalidation_0-logloss:0.48902\tvalidation_1-logloss:0.49733\n",
      "[63]\tvalidation_0-logloss:0.48888\tvalidation_1-logloss:0.49749\n",
      "[64]\tvalidation_0-logloss:0.48844\tvalidation_1-logloss:0.49721\n",
      "[65]\tvalidation_0-logloss:0.48792\tvalidation_1-logloss:0.49653\n",
      "[66]\tvalidation_0-logloss:0.48706\tvalidation_1-logloss:0.49688\n",
      "[67]\tvalidation_0-logloss:0.48692\tvalidation_1-logloss:0.49704\n",
      "[68]\tvalidation_0-logloss:0.48656\tvalidation_1-logloss:0.49679\n",
      "[69]\tvalidation_0-logloss:0.48566\tvalidation_1-logloss:0.49717\n",
      "[70]\tvalidation_0-logloss:0.48556\tvalidation_1-logloss:0.49743\n",
      "[71]\tvalidation_0-logloss:0.48516\tvalidation_1-logloss:0.49697\n",
      "[72]\tvalidation_0-logloss:0.48489\tvalidation_1-logloss:0.49674\n",
      "[73]\tvalidation_0-logloss:0.48478\tvalidation_1-logloss:0.49642\n",
      "[74]\tvalidation_0-logloss:0.48438\tvalidation_1-logloss:0.49554\n",
      "[75]\tvalidation_0-logloss:0.48378\tvalidation_1-logloss:0.49489\n",
      "[76]\tvalidation_0-logloss:0.48336\tvalidation_1-logloss:0.49502\n",
      "[77]\tvalidation_0-logloss:0.48327\tvalidation_1-logloss:0.49521\n",
      "[78]\tvalidation_0-logloss:0.48320\tvalidation_1-logloss:0.49498\n",
      "[79]\tvalidation_0-logloss:0.48273\tvalidation_1-logloss:0.49476\n",
      "[80]\tvalidation_0-logloss:0.48252\tvalidation_1-logloss:0.49476\n",
      "[81]\tvalidation_0-logloss:0.48242\tvalidation_1-logloss:0.49480\n",
      "[82]\tvalidation_0-logloss:0.48202\tvalidation_1-logloss:0.49502\n",
      "[83]\tvalidation_0-logloss:0.48179\tvalidation_1-logloss:0.49507\n",
      "[84]\tvalidation_0-logloss:0.48167\tvalidation_1-logloss:0.49466\n",
      "[85]\tvalidation_0-logloss:0.48143\tvalidation_1-logloss:0.49477\n",
      "[86]\tvalidation_0-logloss:0.48090\tvalidation_1-logloss:0.49489\n",
      "[87]\tvalidation_0-logloss:0.48040\tvalidation_1-logloss:0.49449\n",
      "[88]\tvalidation_0-logloss:0.48027\tvalidation_1-logloss:0.49465\n",
      "[89]\tvalidation_0-logloss:0.48005\tvalidation_1-logloss:0.49472\n",
      "[90]\tvalidation_0-logloss:0.47988\tvalidation_1-logloss:0.49495\n",
      "[91]\tvalidation_0-logloss:0.47926\tvalidation_1-logloss:0.49565\n",
      "[92]\tvalidation_0-logloss:0.47896\tvalidation_1-logloss:0.49608\n",
      "[93]\tvalidation_0-logloss:0.47859\tvalidation_1-logloss:0.49617\n",
      "[94]\tvalidation_0-logloss:0.47831\tvalidation_1-logloss:0.49469\n",
      "[95]\tvalidation_0-logloss:0.47789\tvalidation_1-logloss:0.49500\n",
      "[96]\tvalidation_0-logloss:0.47758\tvalidation_1-logloss:0.49507\n",
      "[97]\tvalidation_0-logloss:0.47732\tvalidation_1-logloss:0.49533\n",
      "[98]\tvalidation_0-logloss:0.47696\tvalidation_1-logloss:0.49522\n",
      "[99]\tvalidation_0-logloss:0.47671\tvalidation_1-logloss:0.49467\n"
     ]
    }
   ],
   "source": [
    "with mlflow.start_run():\n",
    "    params = {'random_state': 42}\n",
    "    rounds = [{'max_depth': hp.quniform('max_depth', 1, 12, 1),  # tree\n",
    "               'min_child_weight': hp.loguniform('min_child_weight', -2, 3)},\n",
    "              {'subsample': hp.uniform('subsample', 0.5, 1),   # stochastic\n",
    "               'colsample_bytree': hp.uniform('colsample_bytree', 0.5, 1)},\n",
    "              {'gamma': hp.loguniform('gamma', -10, 10)}, # regularization\n",
    "              {'learning_rate': hp.loguniform('learning_rate', -7, 0)} # boosting\n",
    "    ]\n",
    "\n",
    "    for round in rounds:\n",
    "        params = {**params, **round}\n",
    "        trials = Trials()\n",
    "        best = fmin(fn=lambda space: xhelp.hyperparameter_tuning(\n",
    "                space, X_train, y_train, X_test, y_test),            \n",
    "            space=params,           \n",
    "            algo=tpe.suggest,            \n",
    "            max_evals=10,            \n",
    "            trials=trials,\n",
    "            timeout=60*5 # 5 minutes\n",
    "        )\n",
    "        params = {**params, **best}\n",
    "        params['max_depth'] = int(params['max_depth']) # 실수로 변경해야 작동함\n",
    "        for param, val in params.items():\n",
    "            mlflow.log_param(param, val)\n",
    "        \n",
    "        xg = xgb.XGBClassifier(eval_metric='logloss', early_stopping_rounds=50, **params)\n",
    "        xg.fit(X_train, y_train,\n",
    "               eval_set=[(X_train, y_train),\n",
    "                         (X_test, y_test)\n",
    "                        ]\n",
    "              )     \n",
    "        for metric in [metrics.accuracy_score, metrics.precision_score, metrics.recall_score, \n",
    "                       metrics.f1_score]:\n",
    "            mlflow.log_metric(metric.__name__, metric(y_test, xg.predict(X_test)))\n",
    "            \n",
    "    model_info = mlflow.xgboost.log_model(xg, artifact_path='model')"
   ]
  },
  {
   "cell_type": "code",
   "execution_count": 10,
   "metadata": {},
   "outputs": [
    {
     "data": {
      "text/plain": [
       "'519305200764229524'"
      ]
     },
     "execution_count": 10,
     "metadata": {},
     "output_type": "execute_result"
    }
   ],
   "source": [
    "ex_id"
   ]
  },
  {
   "cell_type": "code",
   "execution_count": 11,
   "metadata": {},
   "outputs": [
    {
     "data": {
      "text/plain": [
       "'5356b26c81ae402f952b055a40386d38'"
      ]
     },
     "execution_count": 11,
     "metadata": {},
     "output_type": "execute_result"
    }
   ],
   "source": [
    "model_info.run_id"
   ]
  },
  {
   "cell_type": "markdown",
   "metadata": {},
   "source": [
    "### 21.3 Running A Model From Code"
   ]
  },
  {
   "cell_type": "code",
   "execution_count": 12,
   "metadata": {},
   "outputs": [],
   "source": [
    "logged_model = 'runs:/5356b26c81ae402f952b055a40386d38/model'"
   ]
  },
  {
   "cell_type": "code",
   "execution_count": 13,
   "metadata": {},
   "outputs": [
    {
     "data": {
      "text/plain": [
       "mlflow.pyfunc.loaded_model:\n",
       "  artifact_path: model\n",
       "  flavor: mlflow.xgboost\n",
       "  run_id: 5356b26c81ae402f952b055a40386d38"
      ]
     },
     "execution_count": 13,
     "metadata": {},
     "output_type": "execute_result"
    }
   ],
   "source": [
    "loaded_model = mlflow.pyfunc.load_model(logged_model)\n",
    "loaded_model"
   ]
  },
  {
   "cell_type": "code",
   "execution_count": 15,
   "metadata": {},
   "outputs": [
    {
     "data": {
      "text/html": [
       "<div>\n",
       "<style scoped>\n",
       "    .dataframe tbody tr th:only-of-type {\n",
       "        vertical-align: middle;\n",
       "    }\n",
       "\n",
       "    .dataframe tbody tr th {\n",
       "        vertical-align: top;\n",
       "    }\n",
       "\n",
       "    .dataframe thead th {\n",
       "        text-align: right;\n",
       "    }\n",
       "</style>\n",
       "<table border=\"1\" class=\"dataframe\">\n",
       "  <thead>\n",
       "    <tr style=\"text-align: right;\">\n",
       "      <th></th>\n",
       "      <th>age</th>\n",
       "      <th>education</th>\n",
       "      <th>years_exp</th>\n",
       "      <th>compensation</th>\n",
       "      <th>python</th>\n",
       "      <th>r</th>\n",
       "      <th>sql</th>\n",
       "      <th>Q1_Male</th>\n",
       "      <th>Q1_Female</th>\n",
       "      <th>Q1_Prefer not to say</th>\n",
       "      <th>Q1_Prefer to self-describe</th>\n",
       "      <th>Q3_United States of America</th>\n",
       "      <th>Q3_India</th>\n",
       "      <th>Q3_China</th>\n",
       "      <th>major_cs</th>\n",
       "      <th>major_other</th>\n",
       "      <th>major_eng</th>\n",
       "      <th>major_stat</th>\n",
       "    </tr>\n",
       "  </thead>\n",
       "  <tbody>\n",
       "    <tr>\n",
       "      <th>7894</th>\n",
       "      <td>22</td>\n",
       "      <td>16.0</td>\n",
       "      <td>1.0</td>\n",
       "      <td>0</td>\n",
       "      <td>1</td>\n",
       "      <td>0</td>\n",
       "      <td>0</td>\n",
       "      <td>1</td>\n",
       "      <td>0</td>\n",
       "      <td>0</td>\n",
       "      <td>0</td>\n",
       "      <td>0</td>\n",
       "      <td>1</td>\n",
       "      <td>0</td>\n",
       "      <td>1</td>\n",
       "      <td>0</td>\n",
       "      <td>0</td>\n",
       "      <td>0</td>\n",
       "    </tr>\n",
       "  </tbody>\n",
       "</table>\n",
       "</div>"
      ],
      "text/plain": [
       "      age  education  years_exp  compensation  python  r  sql  Q1_Male  \\\n",
       "7894   22       16.0        1.0             0       1  0    0        1   \n",
       "\n",
       "      Q1_Female  Q1_Prefer not to say  Q1_Prefer to self-describe  \\\n",
       "7894          0                     0                           0   \n",
       "\n",
       "      Q3_United States of America  Q3_India  Q3_China  major_cs  major_other  \\\n",
       "7894                            0         1         0         1            0   \n",
       "\n",
       "      major_eng  major_stat  \n",
       "7894          0           0  "
      ]
     },
     "execution_count": 15,
     "metadata": {},
     "output_type": "execute_result"
    }
   ],
   "source": [
    "X_test.iloc[[0]]"
   ]
  },
  {
   "cell_type": "code",
   "execution_count": 16,
   "metadata": {},
   "outputs": [
    {
     "data": {
      "text/plain": [
       "array([1])"
      ]
     },
     "execution_count": 16,
     "metadata": {},
     "output_type": "execute_result"
    }
   ],
   "source": [
    "loaded_model.predict(X_test.iloc[[0]])"
   ]
  },
  {
   "cell_type": "markdown",
   "metadata": {},
   "source": [
    "### 21.4 Serving Predictions"
   ]
  },
  {
   "cell_type": "markdown",
   "metadata": {},
   "source": [
    "uuid를 알면 서빙을 할 수 있다.   \n",
    "디펄트로 pyenv 기반 가상환경을 생성한다.  \n",
    "--env-manager를 사용하면 로컬환경에서 시험할 수 있다."
   ]
  },
  {
   "cell_type": "markdown",
   "metadata": {},
   "source": [
    "mlflow models serve -m mlruns/519305200764229524/ \\\n",
    "5356b26c81ae402f952b055a40386d38/artifacts/model \\\n",
    "-p 1234 --env-manager local"
   ]
  },
  {
   "cell_type": "markdown",
   "metadata": {},
   "source": [
    "위 커맨드를 사용하면 1234 포트로 서빙을 진행한다.  "
   ]
  },
  {
   "cell_type": "markdown",
   "metadata": {},
   "source": [
    "### 21.5 Querying from the Command Line"
   ]
  },
  {
   "cell_type": "markdown",
   "metadata": {},
   "source": [
    "유닉스 운영체제에서는 다음과 같이 curl 명령을 사용할 수있다.  \n",
    "\n",
    "```\n",
    "curl $URL -X POST -H \"Content-Type:application/json\" --data $JSON_DATA\n",
    "```"
   ]
  },
  {
   "cell_type": "markdown",
   "metadata": {},
   "source": [
    "이를 위해 jason 데이터 포맷이 필요하다."
   ]
  },
  {
   "cell_type": "code",
   "execution_count": 17,
   "metadata": {},
   "outputs": [
    {
     "data": {
      "text/plain": [
       "{'dataframe_split': {'columns': ['col1', 'col2'],\n",
       "  'data': [[22, 16.0], [25, 18.0]]}}"
      ]
     },
     "execution_count": 17,
     "metadata": {},
     "output_type": "execute_result"
    }
   ],
   "source": [
    "{'dataframe_split':\n",
    "{'columns': ['col1', 'col2'],\n",
    "'data': [[22, 16.0],\n",
    "[25, 18.0]]}\n",
    "}"
   ]
  },
  {
   "cell_type": "markdown",
   "metadata": {},
   "source": [
    "- 위와 같이 jason data를 만들어야 한다."
   ]
  },
  {
   "cell_type": "markdown",
   "metadata": {},
   "source": [
    "json을 수동으로 만드는 것을 원하지 않는다면 pandas를 사용할 수 있다.   \n",
    "dataframe을 쓴다면 .to_jason 메서드에 orient='split'로 설정하면 된다."
   ]
  },
  {
   "cell_type": "code",
   "execution_count": 18,
   "metadata": {},
   "outputs": [
    {
     "data": {
      "text/plain": [
       "'{\"age\":{\"7894\":22,\"10541\":25},\"education\":{\"7894\":16.0,\"10541\":18.0},\"years_exp\":{\"7894\":1.0,\"10541\":1.0},\"compensation\":{\"7894\":0,\"10541\":70000},\"python\":{\"7894\":1,\"10541\":1},\"r\":{\"7894\":0,\"10541\":1},\"sql\":{\"7894\":0,\"10541\":0},\"Q1_Male\":{\"7894\":1,\"10541\":1},\"Q1_Female\":{\"7894\":0,\"10541\":0},\"Q1_Prefer not to say\":{\"7894\":0,\"10541\":0},\"Q1_Prefer to self-describe\":{\"7894\":0,\"10541\":0},\"Q3_United States of America\":{\"7894\":0,\"10541\":1},\"Q3_India\":{\"7894\":1,\"10541\":0},\"Q3_China\":{\"7894\":0,\"10541\":0},\"major_cs\":{\"7894\":1,\"10541\":0},\"major_other\":{\"7894\":0,\"10541\":1},\"major_eng\":{\"7894\":0,\"10541\":0},\"major_stat\":{\"7894\":0,\"10541\":0}}'"
      ]
     },
     "execution_count": 18,
     "metadata": {},
     "output_type": "execute_result"
    }
   ],
   "source": [
    "X_test.head(2).to_json()"
   ]
  },
  {
   "cell_type": "code",
   "execution_count": 19,
   "metadata": {},
   "outputs": [
    {
     "data": {
      "text/html": [
       "<div>\n",
       "<style scoped>\n",
       "    .dataframe tbody tr th:only-of-type {\n",
       "        vertical-align: middle;\n",
       "    }\n",
       "\n",
       "    .dataframe tbody tr th {\n",
       "        vertical-align: top;\n",
       "    }\n",
       "\n",
       "    .dataframe thead th {\n",
       "        text-align: right;\n",
       "    }\n",
       "</style>\n",
       "<table border=\"1\" class=\"dataframe\">\n",
       "  <thead>\n",
       "    <tr style=\"text-align: right;\">\n",
       "      <th></th>\n",
       "      <th>age</th>\n",
       "      <th>education</th>\n",
       "      <th>years_exp</th>\n",
       "      <th>compensation</th>\n",
       "      <th>python</th>\n",
       "      <th>r</th>\n",
       "      <th>sql</th>\n",
       "      <th>Q1_Male</th>\n",
       "      <th>Q1_Female</th>\n",
       "      <th>Q1_Prefer not to say</th>\n",
       "      <th>Q1_Prefer to self-describe</th>\n",
       "      <th>Q3_United States of America</th>\n",
       "      <th>Q3_India</th>\n",
       "      <th>Q3_China</th>\n",
       "      <th>major_cs</th>\n",
       "      <th>major_other</th>\n",
       "      <th>major_eng</th>\n",
       "      <th>major_stat</th>\n",
       "    </tr>\n",
       "  </thead>\n",
       "  <tbody>\n",
       "    <tr>\n",
       "      <th>7894</th>\n",
       "      <td>22</td>\n",
       "      <td>16.0</td>\n",
       "      <td>1.0</td>\n",
       "      <td>0</td>\n",
       "      <td>1</td>\n",
       "      <td>0</td>\n",
       "      <td>0</td>\n",
       "      <td>1</td>\n",
       "      <td>0</td>\n",
       "      <td>0</td>\n",
       "      <td>0</td>\n",
       "      <td>0</td>\n",
       "      <td>1</td>\n",
       "      <td>0</td>\n",
       "      <td>1</td>\n",
       "      <td>0</td>\n",
       "      <td>0</td>\n",
       "      <td>0</td>\n",
       "    </tr>\n",
       "    <tr>\n",
       "      <th>10541</th>\n",
       "      <td>25</td>\n",
       "      <td>18.0</td>\n",
       "      <td>1.0</td>\n",
       "      <td>70000</td>\n",
       "      <td>1</td>\n",
       "      <td>1</td>\n",
       "      <td>0</td>\n",
       "      <td>1</td>\n",
       "      <td>0</td>\n",
       "      <td>0</td>\n",
       "      <td>0</td>\n",
       "      <td>1</td>\n",
       "      <td>0</td>\n",
       "      <td>0</td>\n",
       "      <td>0</td>\n",
       "      <td>1</td>\n",
       "      <td>0</td>\n",
       "      <td>0</td>\n",
       "    </tr>\n",
       "    <tr>\n",
       "      <th>21353</th>\n",
       "      <td>35</td>\n",
       "      <td>18.0</td>\n",
       "      <td>2.0</td>\n",
       "      <td>0</td>\n",
       "      <td>0</td>\n",
       "      <td>0</td>\n",
       "      <td>0</td>\n",
       "      <td>1</td>\n",
       "      <td>0</td>\n",
       "      <td>0</td>\n",
       "      <td>0</td>\n",
       "      <td>0</td>\n",
       "      <td>1</td>\n",
       "      <td>0</td>\n",
       "      <td>0</td>\n",
       "      <td>0</td>\n",
       "      <td>0</td>\n",
       "      <td>1</td>\n",
       "    </tr>\n",
       "    <tr>\n",
       "      <th>13879</th>\n",
       "      <td>25</td>\n",
       "      <td>18.0</td>\n",
       "      <td>1.0</td>\n",
       "      <td>100000</td>\n",
       "      <td>1</td>\n",
       "      <td>0</td>\n",
       "      <td>1</td>\n",
       "      <td>1</td>\n",
       "      <td>0</td>\n",
       "      <td>0</td>\n",
       "      <td>0</td>\n",
       "      <td>1</td>\n",
       "      <td>0</td>\n",
       "      <td>0</td>\n",
       "      <td>1</td>\n",
       "      <td>0</td>\n",
       "      <td>0</td>\n",
       "      <td>0</td>\n",
       "    </tr>\n",
       "    <tr>\n",
       "      <th>21971</th>\n",
       "      <td>18</td>\n",
       "      <td>18.0</td>\n",
       "      <td>1.0</td>\n",
       "      <td>0</td>\n",
       "      <td>0</td>\n",
       "      <td>0</td>\n",
       "      <td>0</td>\n",
       "      <td>1</td>\n",
       "      <td>0</td>\n",
       "      <td>0</td>\n",
       "      <td>0</td>\n",
       "      <td>0</td>\n",
       "      <td>1</td>\n",
       "      <td>0</td>\n",
       "      <td>1</td>\n",
       "      <td>0</td>\n",
       "      <td>0</td>\n",
       "      <td>0</td>\n",
       "    </tr>\n",
       "  </tbody>\n",
       "</table>\n",
       "</div>"
      ],
      "text/plain": [
       "       age  education  years_exp  compensation  python  r  sql  Q1_Male  \\\n",
       "7894    22       16.0        1.0             0       1  0    0        1   \n",
       "10541   25       18.0        1.0         70000       1  1    0        1   \n",
       "21353   35       18.0        2.0             0       0  0    0        1   \n",
       "13879   25       18.0        1.0        100000       1  0    1        1   \n",
       "21971   18       18.0        1.0             0       0  0    0        1   \n",
       "\n",
       "       Q1_Female  Q1_Prefer not to say  Q1_Prefer to self-describe  \\\n",
       "7894           0                     0                           0   \n",
       "10541          0                     0                           0   \n",
       "21353          0                     0                           0   \n",
       "13879          0                     0                           0   \n",
       "21971          0                     0                           0   \n",
       "\n",
       "       Q3_United States of America  Q3_India  Q3_China  major_cs  major_other  \\\n",
       "7894                             0         1         0         1            0   \n",
       "10541                            1         0         0         0            1   \n",
       "21353                            0         1         0         0            0   \n",
       "13879                            1         0         0         1            0   \n",
       "21971                            0         1         0         1            0   \n",
       "\n",
       "       major_eng  major_stat  \n",
       "7894           0           0  \n",
       "10541          0           0  \n",
       "21353          0           1  \n",
       "13879          0           0  \n",
       "21971          0           0  "
      ]
     },
     "execution_count": 19,
     "metadata": {},
     "output_type": "execute_result"
    }
   ],
   "source": [
    "X_test.head()"
   ]
  },
  {
   "cell_type": "code",
   "execution_count": 21,
   "metadata": {},
   "outputs": [
    {
     "data": {
      "text/plain": [
       "'{\"columns\":[\"age\",\"education\",\"years_exp\",\"compensation\",\"python\",\"r\",\"sql\",\"Q1_Male\",\"Q1_Female\",\"Q1_Prefer not to say\",\"Q1_Prefer to self-describe\",\"Q3_United States of America\",\"Q3_India\",\"Q3_China\",\"major_cs\",\"major_other\",\"major_eng\",\"major_stat\"],\"data\":[[22,16.0,1.0,0,1,0,0,1,0,0,0,0,1,0,1,0,0,0],[25,18.0,1.0,70000,1,1,0,1,0,0,0,1,0,0,0,1,0,0]]}'"
      ]
     },
     "execution_count": 21,
     "metadata": {},
     "output_type": "execute_result"
    }
   ],
   "source": [
    "X_test.head(2).to_json(orient = 'split', index = False)"
   ]
  },
  {
   "cell_type": "markdown",
   "metadata": {},
   "source": [
    "위는 json string이고 딕셔너리로 바꿔야 한다. 그래야 다른 딕셔너리를 추가할 수 있다.  \n",
    "\n",
    "This is a JSON string, and we need a Python dictionary so that we can embed this in another\n",
    "dictionary. Consider this value to be DICT. We must place it in another dictionary with the\n",
    "key dataframe_split : {'dataframe_split: DICT}. We will use the json.loads function to create a\n",
    "dictionary from the string. (We can’t use the Python string because the quotes are incorrect\n",
    "for JSON.)\n",
    "Here is the JSON data we need to insert into the dictionary:"
   ]
  },
  {
   "cell_type": "code",
   "execution_count": 22,
   "metadata": {},
   "outputs": [],
   "source": [
    "import json"
   ]
  },
  {
   "cell_type": "code",
   "execution_count": 23,
   "metadata": {},
   "outputs": [
    {
     "data": {
      "text/plain": [
       "{'columns': ['age',\n",
       "  'education',\n",
       "  'years_exp',\n",
       "  'compensation',\n",
       "  'python',\n",
       "  'r',\n",
       "  'sql',\n",
       "  'Q1_Male',\n",
       "  'Q1_Female',\n",
       "  'Q1_Prefer not to say',\n",
       "  'Q1_Prefer to self-describe',\n",
       "  'Q3_United States of America',\n",
       "  'Q3_India',\n",
       "  'Q3_China',\n",
       "  'major_cs',\n",
       "  'major_other',\n",
       "  'major_eng',\n",
       "  'major_stat'],\n",
       " 'data': [[22, 16.0, 1.0, 0, 1, 0, 0, 1, 0, 0, 0, 0, 1, 0, 1, 0, 0, 0],\n",
       "  [25, 18.0, 1.0, 70000, 1, 1, 0, 1, 0, 0, 0, 1, 0, 0, 0, 1, 0, 0]]}"
      ]
     },
     "execution_count": 23,
     "metadata": {},
     "output_type": "execute_result"
    }
   ],
   "source": [
    "json.loads(X_test.head(2).to_json(orient='split', index=False))"
   ]
  },
  {
   "cell_type": "code",
   "execution_count": 24,
   "metadata": {},
   "outputs": [
    {
     "data": {
      "text/plain": [
       "{'dataframe_split': {'columns': ['age',\n",
       "   'education',\n",
       "   'years_exp',\n",
       "   'compensation',\n",
       "   'python',\n",
       "   'r',\n",
       "   'sql',\n",
       "   'Q1_Male',\n",
       "   'Q1_Female',\n",
       "   'Q1_Prefer not to say',\n",
       "   'Q1_Prefer to self-describe',\n",
       "   'Q3_United States of America',\n",
       "   'Q3_India',\n",
       "   'Q3_China',\n",
       "   'major_cs',\n",
       "   'major_other',\n",
       "   'major_eng',\n",
       "   'major_stat'],\n",
       "  'data': [[22, 16.0, 1.0, 0, 1, 0, 0, 1, 0, 0, 0, 0, 1, 0, 1, 0, 0, 0],\n",
       "   [25, 18.0, 1.0, 70000, 1, 1, 0, 1, 0, 0, 0, 1, 0, 0, 0, 1, 0, 0]]}}"
      ]
     },
     "execution_count": 24,
     "metadata": {},
     "output_type": "execute_result"
    }
   ],
   "source": [
    "{'dataframe_split': json.loads(X_test.head(2).to_json(orient='split', index=False))}"
   ]
  },
  {
   "cell_type": "markdown",
   "metadata": {},
   "source": [
    "최종적으로 파이썬 딕셔너리를 다시 json string으로 만들어야한다.  \n",
    "json.dump를 사용한다."
   ]
  },
  {
   "cell_type": "code",
   "execution_count": 25,
   "metadata": {},
   "outputs": [],
   "source": [
    "import json"
   ]
  },
  {
   "cell_type": "code",
   "execution_count": 26,
   "metadata": {},
   "outputs": [
    {
     "data": {
      "text/plain": [
       "'{\"dataframe_split\": {\"columns\": [\"age\", \"education\", \"years_exp\", \"compensation\", \"python\", \"r\", \"sql\", \"Q1_Male\", \"Q1_Female\", \"Q1_Prefer not to say\", \"Q1_Prefer to self-describe\", \"Q3_United States of America\", \"Q3_India\", \"Q3_China\", \"major_cs\", \"major_other\", \"major_eng\", \"major_stat\"], \"data\": [[22, 16.0, 1.0, 0, 1, 0, 0, 1, 0, 0, 0, 0, 1, 0, 1, 0, 0, 0], [25, 18.0, 1.0, 70000, 1, 1, 0, 1, 0, 0, 0, 1, 0, 0, 0, 1, 0, 0]]}}'"
      ]
     },
     "execution_count": 26,
     "metadata": {},
     "output_type": "execute_result"
    }
   ],
   "source": [
    "post_data = json.dumps({'dataframe_split': json.loads(X_test.head(2).to_json(orient='split', index=False))})\n",
    "post_data"
   ]
  },
  {
   "cell_type": "markdown",
   "metadata": {},
   "source": [
    "함수화하자."
   ]
  },
  {
   "cell_type": "code",
   "execution_count": 27,
   "metadata": {},
   "outputs": [],
   "source": [
    "def create_post_data(df):\n",
    "    dictionary = json.loads(df\n",
    "                            .to_json(orient='split', index=False))\n",
    "    return json.dumps({'dataframe_split': dictionary})"
   ]
  },
  {
   "cell_type": "code",
   "execution_count": 28,
   "metadata": {},
   "outputs": [
    {
     "name": "stdout",
     "output_type": "stream",
     "text": [
      "{\"dataframe_split\": {\"columns\": [\"age\", \"education\", \"years_exp\", \"compensation\", \"python\", \"r\", \"sql\", \"Q1_Male\", \"Q1_Female\", \"Q1_Prefer not to say\", \"Q1_Prefer to self-describe\", \"Q3_United States of America\", \"Q3_India\", \"Q3_China\", \"major_cs\", \"major_other\", \"major_eng\", \"major_stat\"], \"data\": [[22, 16.0, 1.0, 0, 1, 0, 0, 1, 0, 0, 0, 0, 1, 0, 1, 0, 0, 0], [25, 18.0, 1.0, 70000, 1, 1, 0, 1, 0, 0, 0, 1, 0, 0, 0, 1, 0, 0]]}}\n"
     ]
    }
   ],
   "source": [
    "post_data = create_post_data(X_test.head(2))\n",
    "print(post_data)"
   ]
  },
  {
   "cell_type": "markdown",
   "metadata": {},
   "source": [
    "주피터에서 !로 쉘 커맨드를 실행할 수 있다.  \n",
    "\n",
    "```\n",
    "!curl http://127.0.0.1:1234/invocations -X POST -H \\\n",
    "\"Content-Type:application/json\" --data $post_data\n",
    "```"
   ]
  },
  {
   "cell_type": "markdown",
   "metadata": {},
   "source": [
    "그런데 위처럼 하면 에러가 발생한다.\n",
    "post_data 앞에 특수문자 $를 쓰는데 이를 쓰기위해 \\문자가 필요하다. \n",
    "single quat를 붙여야 한다.>???"
   ]
  },
  {
   "cell_type": "code",
   "execution_count": 32,
   "metadata": {},
   "outputs": [
    {
     "data": {
      "text/plain": [
       "'{\"dataframe_split\": {\"columns\": [\"age\", \"education\", \"years_exp\", \"compensation\", \"python\", \"r\", \"sql\", \"Q1_Male\", \"Q1_Female\", \"Q1_Prefer not to say\", \"Q1_Prefer to self-describe\", \"Q3_United States of America\", \"Q3_India\", \"Q3_China\", \"major_cs\", \"major_other\", \"major_eng\", \"major_stat\"], \"data\": [[22, 16.0, 1.0, 0, 1, 0, 0, 1, 0, 0, 0, 0, 1, 0, 1, 0, 0, 0], [25, 18.0, 1.0, 70000, 1, 1, 0, 1, 0, 0, 0, 1, 0, 0, 0, 1, 0, 0]]}}'"
      ]
     },
     "execution_count": 32,
     "metadata": {},
     "output_type": "execute_result"
    }
   ],
   "source": [
    "post_data"
   ]
  },
  {
   "cell_type": "code",
   "execution_count": 33,
   "metadata": {},
   "outputs": [
    {
     "data": {
      "text/plain": [
       "'\\'{\"dataframe_split\": {\"columns\": [\"age\", \"education\", \"years_exp\", \"compensation\", \"python\", \"r\", \"sql\", \"Q1_Male\", \"Q1_Female\", \"Q1_Prefer not to say\", \"Q1_Prefer to self-describe\", \"Q3_United States of America\", \"Q3_India\", \"Q3_China\", \"major_cs\", \"major_other\", \"major_eng\", \"major_stat\"], \"data\": [[22, 16.0, 1.0, 0, 1, 0, 0, 1, 0, 0, 0, 0, 1, 0, 1, 0, 0, 0], [25, 18.0, 1.0, 70000, 1, 1, 0, 1, 0, 0, 0, 1, 0, 0, 0, 1, 0, 0]]}}\\''"
      ]
     },
     "execution_count": 33,
     "metadata": {},
     "output_type": "execute_result"
    }
   ],
   "source": [
    "quoted = f\"'{post_data}'\"\n",
    "quoted"
   ]
  },
  {
   "cell_type": "code",
   "execution_count": 34,
   "metadata": {},
   "outputs": [],
   "source": [
    "def create_post_data(df, quote=True):\n",
    "    dictionary = {'dataframe_split': json.loads(df\n",
    "                                                .to_json(orient='split', index=False))}\n",
    "    if quote:\n",
    "        return f\"'{dictionary}'\"\n",
    "    else:\n",
    "        return dictionary"
   ]
  },
  {
   "cell_type": "code",
   "execution_count": 35,
   "metadata": {},
   "outputs": [
    {
     "data": {
      "text/plain": [
       "\"'{'dataframe_split': {'columns': ['age', 'education', 'years_exp', 'compensation', 'python', 'r', 'sql', 'Q1_Male', 'Q1_Female', 'Q1_Prefer not to say', 'Q1_Prefer to self-describe', 'Q3_United States of America', 'Q3_India', 'Q3_China', 'major_cs', 'major_other', 'major_eng', 'major_stat'], 'data': [[22, 16.0, 1.0, 0, 1, 0, 0, 1, 0, 0, 0, 0, 1, 0, 1, 0, 0, 0], [25, 18.0, 1.0, 70000, 1, 1, 0, 1, 0, 0, 0, 1, 0, 0, 0, 1, 0, 0]]}}'\""
      ]
     },
     "execution_count": 35,
     "metadata": {},
     "output_type": "execute_result"
    }
   ],
   "source": [
    "quoted = create_post_data(X_test.head(2))\n",
    "quoted"
   ]
  },
  {
   "cell_type": "code",
   "execution_count": null,
   "metadata": {},
   "outputs": [],
   "source": []
  }
 ],
 "metadata": {
  "kernelspec": {
   "display_name": "base",
   "language": "python",
   "name": "python3"
  },
  "language_info": {
   "codemirror_mode": {
    "name": "ipython",
    "version": 3
   },
   "file_extension": ".py",
   "mimetype": "text/x-python",
   "name": "python",
   "nbconvert_exporter": "python",
   "pygments_lexer": "ipython3",
   "version": "3.9.13"
  },
  "orig_nbformat": 4
 },
 "nbformat": 4,
 "nbformat_minor": 2
}
