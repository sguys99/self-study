{
 "cells": [
  {
   "attachments": {},
   "cell_type": "markdown",
   "metadata": {},
   "source": [
    "## ch08 Random Forest\n",
    "- https://github.com/mattharrison/effective_xgboost_book/blob/main/xgbcode.ipynb"
   ]
  },
  {
   "attachments": {},
   "cell_type": "markdown",
   "metadata": {},
   "source": [
    "<div style=\"text-align: right\"> <b>Author : Kwang Myung Yu</b></div>\n",
    "<div style=\"text-align: right\"> Initial upload: 2023.7.24</div>\n",
    "<div style=\"text-align: right\"> Last update: 2023.7.24</div>"
   ]
  },
  {
   "cell_type": "code",
   "execution_count": 1,
   "metadata": {},
   "outputs": [],
   "source": [
    "import os\n",
    "import sys\n",
    "import time\n",
    "import numpy as np\n",
    "import pandas as pd\n",
    "import matplotlib as mpl\n",
    "import matplotlib.pyplot as plt\n",
    "import matplotlib.gridspec as gridspec\n",
    "import seaborn as sns\n",
    "from scipy import stats\n",
    "import warnings; warnings.filterwarnings('ignore')\n",
    "#plt.style.use('ggplot')\n",
    "plt.style.use('seaborn-whitegrid')\n",
    "%matplotlib inline"
   ]
  },
  {
   "cell_type": "markdown",
   "metadata": {},
   "source": [
    "### 준비"
   ]
  },
  {
   "cell_type": "code",
   "execution_count": 2,
   "metadata": {},
   "outputs": [],
   "source": [
    "import subprocess\n",
    "def my_dot_export(xg, num_trees, filename, title='', direction='TB'):\n",
    "    \"\"\"Exports a specified number of trees from an XGBoost model as a graph \n",
    "    visualization in dot and png formats.\n",
    "\n",
    "    Args:\n",
    "        xg: An XGBoost model.\n",
    "        num_trees: The number of tree to export.\n",
    "        filename: The name of the file to save the exported visualization.\n",
    "        title: The title to display on the graph visualization (optional).\n",
    "        direction: The direction to lay out the graph, either 'TB' (top to \n",
    "            bottom) or 'LR' (left to right) (optional).\n",
    "    \"\"\"\n",
    "    res = xgb.to_graphviz(xg, num_trees=num_trees)\n",
    "    content = f'''    node [fontname = \"Roboto Condensed\"];\n",
    "    edge [fontname = \"Roboto Thin\"];\n",
    "    label = \"{title}\"\n",
    "    fontname = \"Roboto Condensed\"\n",
    "    '''\n",
    "    out = res.source.replace('graph [ rankdir=TB ]', \n",
    "                             f'graph [ rankdir={direction} ];\\n {content}')\n",
    "    # dot -Gdpi=300 -Tpng -ocourseflow.png courseflow.dot \n",
    "    dot_filename = filename\n",
    "    with open(dot_filename, 'w') as fout:\n",
    "        fout.write(out)\n",
    "    png_filename = dot_filename.replace('.dot', '.png')\n",
    "    subprocess.run(f'dot -Gdpi=300 -Tpng -o{png_filename} {dot_filename}'.split())"
   ]
  },
  {
   "cell_type": "code",
   "execution_count": 3,
   "metadata": {},
   "outputs": [
    {
     "data": {
      "text/plain": [
       "(23859, 395)"
      ]
     },
     "execution_count": 3,
     "metadata": {},
     "output_type": "execute_result"
    }
   ],
   "source": [
    "raw = pd.read_csv(\"../../data/kaggle-survey-2018/raw.csv\")\n",
    "raw.shape"
   ]
  },
  {
   "cell_type": "code",
   "execution_count": 4,
   "metadata": {},
   "outputs": [],
   "source": [
    "def tweak_kag(df_: pd.DataFrame) -> pd.DataFrame:\n",
    "    \"\"\"\n",
    "    Tweak the Kaggle survey data and return a new DataFrame.\n",
    "\n",
    "    This function takes a Pandas DataFrame containing Kaggle \n",
    "    survey data as input and returns a new DataFrame. The \n",
    "    modifications include extracting and transforming certain \n",
    "    columns, renaming columns, and selecting a subset of columns.\n",
    "\n",
    "    Parameters\n",
    "    ----------\n",
    "    df_ : pd.DataFrame\n",
    "        The input DataFrame containing Kaggle survey data.\n",
    "\n",
    "    Returns\n",
    "    -------\n",
    "    pd.DataFrame\n",
    "        The new DataFrame with the modified and selected columns.\n",
    "    \"\"\"  \n",
    "    return (df_\n",
    "            .assign(age = df_.Q2.str.slice(0, 2).astype(int),\n",
    "                    education = df_.Q4.replace({\n",
    "                        'Master’s degree': 18,\n",
    "                        'Bachelor’s degree': 16,\n",
    "                        'Doctoral degree': 20,\n",
    "                        'Some college/university study without earning a bachelor’s degree': 13,\n",
    "                        'Professional degree': 19,\n",
    "                        'I prefer not to answer': None,\n",
    "                        'No formal education past high school': 12}),\n",
    "                    major = (df_.Q5\n",
    "                             .pipe(topn, n = 3)\n",
    "                             .replace({\n",
    "                                 'Computer science (software engineering, etc.)': 'cs',\n",
    "                                 'Engineering (non-computer focused)': 'eng',\n",
    "                                 'Mathematics or statistics': 'stat'})\n",
    "                             ),\n",
    "                    years_exp = (df_.Q8.str.replace('+', '', regex=False)\n",
    "                                 .str.split('-', expand=True)\n",
    "                                 .iloc[:, 0]\n",
    "                                 .astype(float)),\n",
    "                    compensation=(df_.Q9.str.replace('+','', regex=False)\n",
    "                           .str.replace(',','', regex=False)\n",
    "                           .str.replace('500000', '500', regex=False)\n",
    "                           .str.replace('I do not wish to disclose my approximate yearly compensation',\n",
    "                                        '0', regex=False)\n",
    "                           .str.split('-', expand=True)\n",
    "                           .iloc[:,0]\n",
    "                           .fillna(0)\n",
    "                           .astype(int)\n",
    "                           .mul(1_000)),\n",
    "                    python=df_.Q16_Part_1.fillna(0).replace('Python', 1),\n",
    "                    r=df_.Q16_Part_2.fillna(0).replace('R', 1),\n",
    "                    sql=df_.Q16_Part_3.fillna(0).replace('SQL', 1)\n",
    "               )#assign\n",
    "            .rename(columns=lambda col: col.replace(' ', '_'))\n",
    "            .loc[:, 'Q1,Q3,age,education,major,years_exp,compensation,'\n",
    "                 'python,r,sql'.split(',')]\n",
    "            )"
   ]
  },
  {
   "cell_type": "code",
   "execution_count": 5,
   "metadata": {},
   "outputs": [],
   "source": [
    "def topn(ser, n=5, default='other'):\n",
    "    \"\"\"\n",
    "    Replace all values in a Pandas Series that are not among \n",
    "    the top `n` most frequent values with a default value.\n",
    "\n",
    "    This function takes a Pandas Series and returns a new \n",
    "    Series with the values replaced as described above. The \n",
    "    top `n` most frequent values are determined using the \n",
    "    `value_counts` method of the input Series.\n",
    "\n",
    "    Parameters\n",
    "    ----------\n",
    "    ser : pd.Series\n",
    "        The input Series.\n",
    "    n : int, optional\n",
    "        The number of most frequent values to keep. The \n",
    "        default value is 5.\n",
    "    default : str, optional\n",
    "        The default value to use for values that are not among \n",
    "        the top `n` most frequent values. The default value is \n",
    "        'other'.\n",
    "\n",
    "    Returns\n",
    "    -------\n",
    "    pd.Series\n",
    "        The modified Series with the values replaced.\n",
    "    \"\"\"    \n",
    "    counts = ser.value_counts()\n",
    "    return ser.where(ser.isin(counts.index[:n]), default)"
   ]
  },
  {
   "cell_type": "code",
   "execution_count": 6,
   "metadata": {},
   "outputs": [],
   "source": [
    "from feature_engine import encoding, imputation\n",
    "from sklearn import base, pipeline"
   ]
  },
  {
   "cell_type": "code",
   "execution_count": 7,
   "metadata": {},
   "outputs": [],
   "source": [
    "class TweakKagTransformer(base.BaseEstimator,\n",
    "    base.TransformerMixin):\n",
    "    \"\"\"\n",
    "    A transformer for tweaking Kaggle survey data.\n",
    "\n",
    "    This transformer takes a Pandas DataFrame containing \n",
    "    Kaggle survey data as input and returns a new version of \n",
    "    the DataFrame. The modifications include extracting and \n",
    "    transforming certain columns, renaming columns, and \n",
    "    selecting a subset of columns.\n",
    "\n",
    "    Parameters\n",
    "    ----------\n",
    "    ycol : str, optional\n",
    "        The name of the column to be used as the target variable. \n",
    "        If not specified, the target variable will not be set.\n",
    "\n",
    "    Attributes\n",
    "    ----------\n",
    "    ycol : str\n",
    "        The name of the column to be used as the target variable.\n",
    "    \"\"\"\n",
    "\n",
    "    def __init__(self, ycol=None):\n",
    "        self.ycol = ycol\n",
    "\n",
    "    def transform(self, X):\n",
    "        return tweak_kag(X)\n",
    "\n",
    "    def fit(self, X, y=None):\n",
    "        return self"
   ]
  },
  {
   "cell_type": "code",
   "execution_count": 8,
   "metadata": {},
   "outputs": [],
   "source": [
    "def get_rawX_y(df, y_col):\n",
    "    raw = (df\n",
    "            .query('Q3.isin([\"United States of America\", \"China\", \"India\"]) '\n",
    "               'and Q6.isin([\"Data Scientist\", \"Software Engineer\"])')\n",
    "          )\n",
    "    return raw.drop(columns=[y_col]), raw[y_col]"
   ]
  },
  {
   "cell_type": "code",
   "execution_count": 9,
   "metadata": {},
   "outputs": [],
   "source": [
    "kag_pl = pipeline.Pipeline(\n",
    "    [('tweak', TweakKagTransformer()),\n",
    "    ('cat', encoding.OneHotEncoder(top_categories=5, drop_last=True,\n",
    "                                       variables=['Q1', 'Q3', 'major'])),\n",
    "     ('num_inpute', imputation.MeanMedianImputer(imputation_method='median',\n",
    "                                                    variables=['education', 'years_exp']))]\n",
    ") "
   ]
  },
  {
   "cell_type": "code",
   "execution_count": 10,
   "metadata": {},
   "outputs": [],
   "source": [
    "from sklearn import model_selection"
   ]
  },
  {
   "cell_type": "code",
   "execution_count": 11,
   "metadata": {},
   "outputs": [],
   "source": [
    "kag_X, kag_y = get_rawX_y(raw, 'Q6')"
   ]
  },
  {
   "cell_type": "code",
   "execution_count": 12,
   "metadata": {},
   "outputs": [],
   "source": [
    "kag_X_train, kag_X_test, kag_y_train, kag_y_test = model_selection.train_test_split(\n",
    "    kag_X, kag_y, test_size=.3, random_state=42, stratify=kag_y)"
   ]
  },
  {
   "cell_type": "code",
   "execution_count": 13,
   "metadata": {},
   "outputs": [],
   "source": [
    "X_train = kag_pl.fit_transform(kag_X_train, kag_y_train)\n",
    "X_test = kag_pl.transform(kag_X_test)"
   ]
  },
  {
   "cell_type": "markdown",
   "metadata": {},
   "source": [
    "### 8.1 Ensembles with Bagging"
   ]
  },
  {
   "cell_type": "code",
   "execution_count": null,
   "metadata": {},
   "outputs": [],
   "source": []
  }
 ],
 "metadata": {
  "kernelspec": {
   "display_name": "base",
   "language": "python",
   "name": "python3"
  },
  "language_info": {
   "codemirror_mode": {
    "name": "ipython",
    "version": 3
   },
   "file_extension": ".py",
   "mimetype": "text/x-python",
   "name": "python",
   "nbconvert_exporter": "python",
   "pygments_lexer": "ipython3",
   "version": "3.9.13"
  },
  "orig_nbformat": 4
 },
 "nbformat": 4,
 "nbformat_minor": 2
}
