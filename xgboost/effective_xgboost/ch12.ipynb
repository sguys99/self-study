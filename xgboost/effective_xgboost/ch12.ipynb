{
 "cells": [
  {
   "attachments": {},
   "cell_type": "markdown",
   "metadata": {},
   "source": [
    "## ch12 Hyperopt\n",
    "- https://github.com/mattharrison/effective_xgboost_book/blob/main/xgbcode.ipynb"
   ]
  },
  {
   "attachments": {},
   "cell_type": "markdown",
   "metadata": {},
   "source": [
    "<div style=\"text-align: right\"> <b>Author : Kwang Myung Yu</b></div>\n",
    "<div style=\"text-align: right\"> Initial upload: 2023.8.1</div>\n",
    "<div style=\"text-align: right\"> Last update: 2023.8.1</div>"
   ]
  },
  {
   "cell_type": "code",
   "execution_count": 1,
   "metadata": {},
   "outputs": [],
   "source": [
    "import os\n",
    "import sys\n",
    "import time\n",
    "import numpy as np\n",
    "import pandas as pd\n",
    "import matplotlib as mpl\n",
    "import matplotlib.pyplot as plt\n",
    "import matplotlib.gridspec as gridspec\n",
    "import seaborn as sns\n",
    "from scipy import stats\n",
    "import warnings; warnings.filterwarnings('ignore')\n",
    "#plt.style.use('ggplot')\n",
    "plt.style.use('seaborn-whitegrid')\n",
    "%matplotlib inline"
   ]
  },
  {
   "cell_type": "markdown",
   "metadata": {},
   "source": [
    "새롭게 라이브러리를 로드 하자."
   ]
  },
  {
   "cell_type": "code",
   "execution_count": 2,
   "metadata": {},
   "outputs": [],
   "source": [
    "import dtreeviz\n",
    "from feature_engine import encoding, imputation\n",
    "import numpy as np\n",
    "import pandas as pd\n",
    "from sklearn import base, compose, datasets, ensemble, \\\n",
    "    metrics, model_selection, pipeline, preprocessing, tree\n",
    "import scikitplot\n",
    "import xgboost as xgb\n",
    "import yellowbrick.model_selection as ms\n",
    "from yellowbrick import classifier\n",
    "\n",
    "import urllib\n",
    "import zipfile\n",
    "\n",
    "import xg_helpers as xhelp\n",
    "from xg_helpers import my_dot_export"
   ]
  },
  {
   "cell_type": "code",
   "execution_count": 3,
   "metadata": {},
   "outputs": [],
   "source": [
    "url = 'https://github.com/mattharrison/datasets/raw/master/data/'\\\n",
    "'kaggle-survey-2018.zip'\n",
    "fname = 'kaggle-survey-2018.zip'\n",
    "member_name = 'multipleChoiceResponses.csv'"
   ]
  },
  {
   "cell_type": "code",
   "execution_count": 4,
   "metadata": {},
   "outputs": [],
   "source": [
    "raw = xhelp.extract_zip(url, fname, member_name)\n",
    "## Create raw X and raw y\n",
    "kag_X, kag_y = xhelp.get_rawX_y(raw, 'Q6')"
   ]
  },
  {
   "cell_type": "code",
   "execution_count": 5,
   "metadata": {},
   "outputs": [],
   "source": [
    "## Split data\n",
    "kag_X_train, kag_X_test, kag_y_train, kag_y_test = \\\n",
    "model_selection.train_test_split(\n",
    "kag_X, kag_y, test_size=.3, random_state=42, stratify=kag_y)"
   ]
  },
  {
   "cell_type": "code",
   "execution_count": 6,
   "metadata": {},
   "outputs": [],
   "source": [
    "## Transform X with pipeline\n",
    "X_train = xhelp.kag_pl.fit_transform(kag_X_train)\n",
    "X_test = xhelp.kag_pl.transform(kag_X_test)\n",
    "## Transform y with label encoder\n",
    "label_encoder = preprocessing.LabelEncoder()\n",
    "label_encoder.fit(kag_y_train)\n",
    "y_train = label_encoder.transform(kag_y_train)\n",
    "y_test = label_encoder.transform(kag_y_test)\n",
    "# Combined Data for cross validation/etc\n",
    "X = pd.concat([X_train, X_test], axis='index')\n",
    "y = pd.Series([*y_train, *y_test], index=X.index)"
   ]
  },
  {
   "cell_type": "code",
   "execution_count": 7,
   "metadata": {},
   "outputs": [
    {
     "data": {
      "text/html": [
       "<div>\n",
       "<style scoped>\n",
       "    .dataframe tbody tr th:only-of-type {\n",
       "        vertical-align: middle;\n",
       "    }\n",
       "\n",
       "    .dataframe tbody tr th {\n",
       "        vertical-align: top;\n",
       "    }\n",
       "\n",
       "    .dataframe thead th {\n",
       "        text-align: right;\n",
       "    }\n",
       "</style>\n",
       "<table border=\"1\" class=\"dataframe\">\n",
       "  <thead>\n",
       "    <tr style=\"text-align: right;\">\n",
       "      <th></th>\n",
       "      <th>age</th>\n",
       "      <th>education</th>\n",
       "      <th>years_exp</th>\n",
       "      <th>compensation</th>\n",
       "      <th>python</th>\n",
       "      <th>r</th>\n",
       "      <th>sql</th>\n",
       "      <th>Q1_Male</th>\n",
       "      <th>Q1_Female</th>\n",
       "      <th>Q1_Prefer not to say</th>\n",
       "      <th>Q1_Prefer to self-describe</th>\n",
       "      <th>Q3_United States of America</th>\n",
       "      <th>Q3_India</th>\n",
       "      <th>Q3_China</th>\n",
       "      <th>major_cs</th>\n",
       "      <th>major_other</th>\n",
       "      <th>major_eng</th>\n",
       "      <th>major_stat</th>\n",
       "    </tr>\n",
       "  </thead>\n",
       "  <tbody>\n",
       "    <tr>\n",
       "      <th>587</th>\n",
       "      <td>25</td>\n",
       "      <td>18.0</td>\n",
       "      <td>4.0</td>\n",
       "      <td>0</td>\n",
       "      <td>1</td>\n",
       "      <td>0</td>\n",
       "      <td>1</td>\n",
       "      <td>1</td>\n",
       "      <td>0</td>\n",
       "      <td>0</td>\n",
       "      <td>0</td>\n",
       "      <td>0</td>\n",
       "      <td>1</td>\n",
       "      <td>0</td>\n",
       "      <td>0</td>\n",
       "      <td>1</td>\n",
       "      <td>0</td>\n",
       "      <td>0</td>\n",
       "    </tr>\n",
       "    <tr>\n",
       "      <th>3065</th>\n",
       "      <td>22</td>\n",
       "      <td>16.0</td>\n",
       "      <td>1.0</td>\n",
       "      <td>10000</td>\n",
       "      <td>1</td>\n",
       "      <td>0</td>\n",
       "      <td>0</td>\n",
       "      <td>1</td>\n",
       "      <td>0</td>\n",
       "      <td>0</td>\n",
       "      <td>0</td>\n",
       "      <td>0</td>\n",
       "      <td>1</td>\n",
       "      <td>0</td>\n",
       "      <td>1</td>\n",
       "      <td>0</td>\n",
       "      <td>0</td>\n",
       "      <td>0</td>\n",
       "    </tr>\n",
       "    <tr>\n",
       "      <th>8435</th>\n",
       "      <td>22</td>\n",
       "      <td>18.0</td>\n",
       "      <td>1.0</td>\n",
       "      <td>0</td>\n",
       "      <td>1</td>\n",
       "      <td>0</td>\n",
       "      <td>0</td>\n",
       "      <td>1</td>\n",
       "      <td>0</td>\n",
       "      <td>0</td>\n",
       "      <td>0</td>\n",
       "      <td>0</td>\n",
       "      <td>1</td>\n",
       "      <td>0</td>\n",
       "      <td>0</td>\n",
       "      <td>1</td>\n",
       "      <td>0</td>\n",
       "      <td>0</td>\n",
       "    </tr>\n",
       "    <tr>\n",
       "      <th>3110</th>\n",
       "      <td>40</td>\n",
       "      <td>20.0</td>\n",
       "      <td>3.0</td>\n",
       "      <td>125000</td>\n",
       "      <td>1</td>\n",
       "      <td>0</td>\n",
       "      <td>1</td>\n",
       "      <td>0</td>\n",
       "      <td>1</td>\n",
       "      <td>0</td>\n",
       "      <td>0</td>\n",
       "      <td>1</td>\n",
       "      <td>0</td>\n",
       "      <td>0</td>\n",
       "      <td>0</td>\n",
       "      <td>1</td>\n",
       "      <td>0</td>\n",
       "      <td>0</td>\n",
       "    </tr>\n",
       "    <tr>\n",
       "      <th>16372</th>\n",
       "      <td>45</td>\n",
       "      <td>12.0</td>\n",
       "      <td>5.0</td>\n",
       "      <td>100000</td>\n",
       "      <td>1</td>\n",
       "      <td>0</td>\n",
       "      <td>1</td>\n",
       "      <td>1</td>\n",
       "      <td>0</td>\n",
       "      <td>0</td>\n",
       "      <td>0</td>\n",
       "      <td>1</td>\n",
       "      <td>0</td>\n",
       "      <td>0</td>\n",
       "      <td>0</td>\n",
       "      <td>1</td>\n",
       "      <td>0</td>\n",
       "      <td>0</td>\n",
       "    </tr>\n",
       "  </tbody>\n",
       "</table>\n",
       "</div>"
      ],
      "text/plain": [
       "       age  education  years_exp  compensation  python  r  sql  Q1_Male  \\\n",
       "587     25       18.0        4.0             0       1  0    1        1   \n",
       "3065    22       16.0        1.0         10000       1  0    0        1   \n",
       "8435    22       18.0        1.0             0       1  0    0        1   \n",
       "3110    40       20.0        3.0        125000       1  0    1        0   \n",
       "16372   45       12.0        5.0        100000       1  0    1        1   \n",
       "\n",
       "       Q1_Female  Q1_Prefer not to say  Q1_Prefer to self-describe  \\\n",
       "587            0                     0                           0   \n",
       "3065           0                     0                           0   \n",
       "8435           0                     0                           0   \n",
       "3110           1                     0                           0   \n",
       "16372          0                     0                           0   \n",
       "\n",
       "       Q3_United States of America  Q3_India  Q3_China  major_cs  major_other  \\\n",
       "587                              0         1         0         0            1   \n",
       "3065                             0         1         0         1            0   \n",
       "8435                             0         1         0         0            1   \n",
       "3110                             1         0         0         0            1   \n",
       "16372                            1         0         0         0            1   \n",
       "\n",
       "       major_eng  major_stat  \n",
       "587            0           0  \n",
       "3065           0           0  \n",
       "8435           0           0  \n",
       "3110           0           0  \n",
       "16372          0           0  "
      ]
     },
     "execution_count": 7,
     "metadata": {},
     "output_type": "execute_result"
    }
   ],
   "source": [
    "X.head()"
   ]
  },
  {
   "cell_type": "code",
   "execution_count": 8,
   "metadata": {},
   "outputs": [
    {
     "data": {
      "text/plain": [
       "587      1\n",
       "3065     0\n",
       "8435     0\n",
       "3110     0\n",
       "16372    1\n",
       "dtype: int64"
      ]
     },
     "execution_count": 8,
     "metadata": {},
     "output_type": "execute_result"
    }
   ],
   "source": [
    "y.head()"
   ]
  },
  {
   "cell_type": "markdown",
   "metadata": {},
   "source": [
    "Hyperopt uses Bayesian optimization to tune hyperparameters.  \n",
    "\n",
    "This uses\n",
    "a probabilistic model to select the next set of hyperparameters to try. If one value performs\n",
    "better, it will try values around it and see if they boost the performance. If the values worsen\n",
    "the model, then Hyperopt can ignore those values as future candidates. Hyperopt can also\n",
    "tune various other machine-learning models, including random forests and neural networks."
   ]
  },
  {
   "cell_type": "markdown",
   "metadata": {},
   "source": [
    "### 12.1 Bayesian Optimization"
   ]
  },
  {
   "cell_type": "markdown",
   "metadata": {},
   "source": [
    "### 12.2 Exhaustive Tuning with Hyperopt"
   ]
  },
  {
   "cell_type": "markdown",
   "metadata": {},
   "source": [
    "파이썬에서는 함수를 다른 함수에 매개변수로 전달하거나 그 결과로 함수를 반환할 수 있습니다.  \n",
    "Hyperopt 라이브러리를 사용하려면 많은 하이퍼파라미터 스페이스가 주어졌을 때 최적의 하이퍼파라미터 값을 찾으려고 시도하는 fmin 함수를 사용해야 합니다."
   ]
  },
  {
   "cell_type": "markdown",
   "metadata": {},
   "source": [
    "fmin 함수는 평가할 하이퍼파라미터의 딕셔너리를 받아들이고 딕셔너리를 반환하는 다른 함수를 전달할 것으로 예상합니다. \n",
    "\n",
    "hyperparameter_tuning 함수는 여기에 적합하지 않습니다. \n",
    "\n",
    "이 함수는 첫 번째 매개변수로 공간이라는 사전을 받지만 추가 매개변수가 있습니다. 람다 함수 형태의 클로저를 사용하여 hyperparameter_tuning 함수를 하이퍼파라미터 사전을 받아들이는 새로운 함수에 맞게 조정하겠습니다."
   ]
  },
  {
   "cell_type": "markdown",
   "metadata": {},
   "source": [
    "hyperparameter_tuning 함수는 하이퍼파라미터(공간), 훈련 데이터(X_train 및 y_train), 테스트 데이터(X_test 및 y_test), 조기 중지 라운드에 대한 선택적 값(early_stopping_rounds)의 딕셔너리(사전)를 받습니다. 일부 하이퍼파라미터는 정수여야 하므로 해당 키를 변환하고 평가할 하이퍼파라미터에 early_stopping_rounds를 추가합니다.\n",
    "\n",
    "그런 다음 모델을 훈련하고 정확도 점수가 음수인 사전과 상태를 반환합니다.  \n",
    "fmin은 점수를 최소화하려고 하고 우리 모델은 정확도를 평가하기 때문에 최소 정확도를 가진 모델을 원하지 않습니다. 그러나 약간의 트릭을 사용하여 음수 정확도를 최소화할 수 있습니다."
   ]
  },
  {
   "cell_type": "code",
   "execution_count": 9,
   "metadata": {},
   "outputs": [],
   "source": [
    "from hyperopt import fmin, tpe, hp, STATUS_OK, Trials\n",
    "from sklearn.metrics import accuracy_score, roc_auc_score\n",
    "\n",
    "from typing import Any, Dict, Union"
   ]
  },
  {
   "cell_type": "code",
   "execution_count": 10,
   "metadata": {},
   "outputs": [],
   "source": [
    "def hyperparameter_tuning(space: Dict[str, Union[float, int]], \n",
    "                    X_train: pd.DataFrame, y_train: pd.Series, \n",
    "                    X_test: pd.DataFrame, y_test: pd.Series, \n",
    "                    early_stopping_rounds: int=50,\n",
    "                    metric:callable=accuracy_score) -> Dict[str, Any]:\n",
    "    \"\"\"\n",
    "    Perform hyperparameter tuning for an XGBoost classifier.\n",
    "\n",
    "    This function takes a dictionary of hyperparameters, training \n",
    "    and test data, and an optional value for early stopping rounds, \n",
    "    and returns a dictionary with the loss and model resulting from \n",
    "    the tuning process. The model is trained using the training \n",
    "    data and evaluated on the test data. The loss is computed as \n",
    "    the negative of the accuracy score.\n",
    "\n",
    "    Parameters\n",
    "    ----------\n",
    "    space : Dict[str, Union[float, int]]\n",
    "        A dictionary of hyperparameters for the XGBoost classifier.\n",
    "    X_train : pd.DataFrame\n",
    "        The training data.\n",
    "    y_train : pd.Series\n",
    "        The training target.\n",
    "    X_test : pd.DataFrame\n",
    "        The test data.\n",
    "    y_test : pd.Series\n",
    "        The test target.\n",
    "    early_stopping_rounds : int, optional\n",
    "        The number of early stopping rounds to use. The default value \n",
    "        is 50.\n",
    "    metric : callable\n",
    "        Metric to maximize. Default is accuracy\n",
    "\n",
    "    Returns\n",
    "    -------\n",
    "    Dict[str, Any]\n",
    "        A dictionary with the loss and model resulting from the \n",
    "        tuning process. The loss is a float, and the model is an \n",
    "        XGBoost classifier.\n",
    "    \"\"\"\n",
    "    int_vals = ['max_depth', 'reg_alpha']\n",
    "    space = {k: (int(val) if k in int_vals else val)\n",
    "             for k,val in space.items()}\n",
    "    space['early_stopping_rounds'] = early_stopping_rounds\n",
    "    model = xgb.XGBClassifier(**space)\n",
    "    evaluation = [(X_train, y_train),\n",
    "                  (X_test, y_test)]\n",
    "    model.fit(X_train, y_train,\n",
    "              eval_set=evaluation, \n",
    "              verbose=False)    \n",
    "\n",
    "    pred = model.predict(X_test)\n",
    "    score = metric(y_test, pred)\n",
    "    return {'loss': -score, 'status': STATUS_OK, 'model': model}"
   ]
  },
  {
   "cell_type": "markdown",
   "metadata": {},
   "source": [
    "최소화하려는 함수를 정의한 후에는 하이퍼파라미터를 검색할 공간을 정의해야 합니다.   \n",
    "\n",
    "다음으로 하이퍼파라미터 튜닝 프로세스의 결과를 저장하기 위해 traial object를 생성합니다. \n",
    "fmin 함수는 옵션을 반복하여 최적의 하이퍼파라미터를 검색합니다.  \n",
    "여기서는 tree-structured Parzen Estimator, 베이지안 최적화를 실행하는 tpe.suggest 알고리즘을 사용하도록 지시했습니다. 이 \n",
    " 알고리즘은 expected improvement acquisition function을 사용하여 검색합니다. \n",
    "이 알고리즘은 노이즈가 있는 데이터에서 잘 작동합니다.   \n",
    "\n",
    "또한 검색에 평가 시도를 2,000회로 제한하도록 지시했습니다.  \n",
    "내 Macbook Pro(2022)에서 이 검색을 실행하는 데 약 30분이 걸렸습니다. 내 Thinkpad P1(2020)에서는 2시간이 넘게 걸립니다. 시간 제한 기간을 설정할 수 있습니다. 로 설정할 수도 있으며, 이 검색이 실행되면 최고의 손실 점수를 뱉어냅니다."
   ]
  },
  {
   "cell_type": "code",
   "execution_count": 11,
   "metadata": {},
   "outputs": [],
   "source": [
    "# options = {'max_depth': hp.quniform('max_depth', 1, 8, 1),  # tree\n",
    "#     'min_child_weight': hp.loguniform('min_child_weight', -2, 3),\n",
    "#     'subsample': hp.uniform('subsample', 0.5, 1),   # stochastic\n",
    "#     'colsample_bytree': hp.uniform('colsample_bytree', 0.5, 1),\n",
    "#     'reg_alpha': hp.uniform('reg_alpha', 0, 10),\n",
    "#     'reg_lambda': hp.uniform('reg_lambda', 1, 10),\n",
    "#     'gamma': hp.loguniform('gamma', -10, 10), # regularization\n",
    "#     'learning_rate': hp.loguniform('learning_rate', -7, 0),  # boosting\n",
    "#     'random_state': 42\n",
    "# }\n",
    "\n",
    "# trials = Trials()\n",
    "# best = fmin(fn=lambda space: hyperparameter_tuning(space, X_train, y_train, \n",
    "#                                                    X_test, y_test),            \n",
    "#     space=options,           \n",
    "#     algo=tpe.suggest,            \n",
    "#     max_evals=2_000,            \n",
    "#     trials=trials,\n",
    "#     #timeout=60*5 # 5 minutes\n",
    "# )"
   ]
  },
  {
   "cell_type": "markdown",
   "metadata": {},
   "source": [
    "best 변수에 결과가 포함된다.   \n",
    "하이퍼파라미터를 출력해서 보관하자."
   ]
  },
  {
   "cell_type": "code",
   "execution_count": 12,
   "metadata": {},
   "outputs": [],
   "source": [
    "# best"
   ]
  },
  {
   "cell_type": "markdown",
   "metadata": {},
   "source": [
    "주의 : max_depth는 정수이나 실수로 표시됨, 정수로 조정 필요"
   ]
  },
  {
   "cell_type": "code",
   "execution_count": 13,
   "metadata": {},
   "outputs": [],
   "source": [
    "long_params = {'colsample_bytree': 0.7583844691864223,\n",
    " 'gamma': 0.0006312831731257507,\n",
    " 'learning_rate': 0.295815862267789,\n",
    " 'max_depth': 7,\n",
    " 'min_child_weight': 5.333178297222369,\n",
    " 'reg_alpha': 5.486906586611888,\n",
    " 'reg_lambda': 1.1524178084577712,\n",
    " 'subsample': 0.9721881017707349}"
   ]
  },
  {
   "cell_type": "code",
   "execution_count": 14,
   "metadata": {},
   "outputs": [
    {
     "name": "stdout",
     "output_type": "stream",
     "text": [
      "[0]\tvalidation_0-logloss:0.63367\tvalidation_1-logloss:0.63390\n",
      "[100]\tvalidation_0-logloss:0.46775\tvalidation_1-logloss:0.49044\n",
      "[200]\tvalidation_0-logloss:0.45785\tvalidation_1-logloss:0.48906\n",
      "[260]\tvalidation_0-logloss:0.45484\tvalidation_1-logloss:0.48893\n"
     ]
    },
    {
     "data": {
      "text/html": [
       "<style>#sk-container-id-1 {color: black;background-color: white;}#sk-container-id-1 pre{padding: 0;}#sk-container-id-1 div.sk-toggleable {background-color: white;}#sk-container-id-1 label.sk-toggleable__label {cursor: pointer;display: block;width: 100%;margin-bottom: 0;padding: 0.3em;box-sizing: border-box;text-align: center;}#sk-container-id-1 label.sk-toggleable__label-arrow:before {content: \"▸\";float: left;margin-right: 0.25em;color: #696969;}#sk-container-id-1 label.sk-toggleable__label-arrow:hover:before {color: black;}#sk-container-id-1 div.sk-estimator:hover label.sk-toggleable__label-arrow:before {color: black;}#sk-container-id-1 div.sk-toggleable__content {max-height: 0;max-width: 0;overflow: hidden;text-align: left;background-color: #f0f8ff;}#sk-container-id-1 div.sk-toggleable__content pre {margin: 0.2em;color: black;border-radius: 0.25em;background-color: #f0f8ff;}#sk-container-id-1 input.sk-toggleable__control:checked~div.sk-toggleable__content {max-height: 200px;max-width: 100%;overflow: auto;}#sk-container-id-1 input.sk-toggleable__control:checked~label.sk-toggleable__label-arrow:before {content: \"▾\";}#sk-container-id-1 div.sk-estimator input.sk-toggleable__control:checked~label.sk-toggleable__label {background-color: #d4ebff;}#sk-container-id-1 div.sk-label input.sk-toggleable__control:checked~label.sk-toggleable__label {background-color: #d4ebff;}#sk-container-id-1 input.sk-hidden--visually {border: 0;clip: rect(1px 1px 1px 1px);clip: rect(1px, 1px, 1px, 1px);height: 1px;margin: -1px;overflow: hidden;padding: 0;position: absolute;width: 1px;}#sk-container-id-1 div.sk-estimator {font-family: monospace;background-color: #f0f8ff;border: 1px dotted black;border-radius: 0.25em;box-sizing: border-box;margin-bottom: 0.5em;}#sk-container-id-1 div.sk-estimator:hover {background-color: #d4ebff;}#sk-container-id-1 div.sk-parallel-item::after {content: \"\";width: 100%;border-bottom: 1px solid gray;flex-grow: 1;}#sk-container-id-1 div.sk-label:hover label.sk-toggleable__label {background-color: #d4ebff;}#sk-container-id-1 div.sk-serial::before {content: \"\";position: absolute;border-left: 1px solid gray;box-sizing: border-box;top: 0;bottom: 0;left: 50%;z-index: 0;}#sk-container-id-1 div.sk-serial {display: flex;flex-direction: column;align-items: center;background-color: white;padding-right: 0.2em;padding-left: 0.2em;position: relative;}#sk-container-id-1 div.sk-item {position: relative;z-index: 1;}#sk-container-id-1 div.sk-parallel {display: flex;align-items: stretch;justify-content: center;background-color: white;position: relative;}#sk-container-id-1 div.sk-item::before, #sk-container-id-1 div.sk-parallel-item::before {content: \"\";position: absolute;border-left: 1px solid gray;box-sizing: border-box;top: 0;bottom: 0;left: 50%;z-index: -1;}#sk-container-id-1 div.sk-parallel-item {display: flex;flex-direction: column;z-index: 1;position: relative;background-color: white;}#sk-container-id-1 div.sk-parallel-item:first-child::after {align-self: flex-end;width: 50%;}#sk-container-id-1 div.sk-parallel-item:last-child::after {align-self: flex-start;width: 50%;}#sk-container-id-1 div.sk-parallel-item:only-child::after {width: 0;}#sk-container-id-1 div.sk-dashed-wrapped {border: 1px dashed gray;margin: 0 0.4em 0.5em 0.4em;box-sizing: border-box;padding-bottom: 0.4em;background-color: white;}#sk-container-id-1 div.sk-label label {font-family: monospace;font-weight: bold;display: inline-block;line-height: 1.2em;}#sk-container-id-1 div.sk-label-container {text-align: center;}#sk-container-id-1 div.sk-container {/* jupyter's `normalize.less` sets `[hidden] { display: none; }` but bootstrap.min.css set `[hidden] { display: none !important; }` so we also need the `!important` here to be able to override the default hidden behavior on the sphinx rendered scikit-learn.org. See: https://github.com/scikit-learn/scikit-learn/issues/21755 */display: inline-block !important;position: relative;}#sk-container-id-1 div.sk-text-repr-fallback {display: none;}</style><div id=\"sk-container-id-1\" class=\"sk-top-container\"><div class=\"sk-text-repr-fallback\"><pre>XGBClassifier(base_score=None, booster=None, callbacks=None,\n",
       "              colsample_bylevel=None, colsample_bynode=None,\n",
       "              colsample_bytree=0.7583844691864223, early_stopping_rounds=50,\n",
       "              enable_categorical=False, eval_metric=None, feature_types=None,\n",
       "              gamma=0.0006312831731257507, gpu_id=None, grow_policy=None,\n",
       "              importance_type=None, interaction_constraints=None,\n",
       "              learning_rate=0.295815862267789, max_bin=None,\n",
       "              max_cat_threshold=None, max_cat_to_onehot=None,\n",
       "              max_delta_step=None, max_depth=7, max_leaves=None,\n",
       "              min_child_weight=5.333178297222369, missing=nan,\n",
       "              monotone_constraints=None, n_estimators=500, n_jobs=None,\n",
       "              num_parallel_tree=None, predictor=None, random_state=None, ...)</pre><b>In a Jupyter environment, please rerun this cell to show the HTML representation or trust the notebook. <br />On GitHub, the HTML representation is unable to render, please try loading this page with nbviewer.org.</b></div><div class=\"sk-container\" hidden><div class=\"sk-item\"><div class=\"sk-estimator sk-toggleable\"><input class=\"sk-toggleable__control sk-hidden--visually\" id=\"sk-estimator-id-1\" type=\"checkbox\" checked><label for=\"sk-estimator-id-1\" class=\"sk-toggleable__label sk-toggleable__label-arrow\">XGBClassifier</label><div class=\"sk-toggleable__content\"><pre>XGBClassifier(base_score=None, booster=None, callbacks=None,\n",
       "              colsample_bylevel=None, colsample_bynode=None,\n",
       "              colsample_bytree=0.7583844691864223, early_stopping_rounds=50,\n",
       "              enable_categorical=False, eval_metric=None, feature_types=None,\n",
       "              gamma=0.0006312831731257507, gpu_id=None, grow_policy=None,\n",
       "              importance_type=None, interaction_constraints=None,\n",
       "              learning_rate=0.295815862267789, max_bin=None,\n",
       "              max_cat_threshold=None, max_cat_to_onehot=None,\n",
       "              max_delta_step=None, max_depth=7, max_leaves=None,\n",
       "              min_child_weight=5.333178297222369, missing=nan,\n",
       "              monotone_constraints=None, n_estimators=500, n_jobs=None,\n",
       "              num_parallel_tree=None, predictor=None, random_state=None, ...)</pre></div></div></div></div></div>"
      ],
      "text/plain": [
       "XGBClassifier(base_score=None, booster=None, callbacks=None,\n",
       "              colsample_bylevel=None, colsample_bynode=None,\n",
       "              colsample_bytree=0.7583844691864223, early_stopping_rounds=50,\n",
       "              enable_categorical=False, eval_metric=None, feature_types=None,\n",
       "              gamma=0.0006312831731257507, gpu_id=None, grow_policy=None,\n",
       "              importance_type=None, interaction_constraints=None,\n",
       "              learning_rate=0.295815862267789, max_bin=None,\n",
       "              max_cat_threshold=None, max_cat_to_onehot=None,\n",
       "              max_delta_step=None, max_depth=7, max_leaves=None,\n",
       "              min_child_weight=5.333178297222369, missing=nan,\n",
       "              monotone_constraints=None, n_estimators=500, n_jobs=None,\n",
       "              num_parallel_tree=None, predictor=None, random_state=None, ...)"
      ]
     },
     "execution_count": 14,
     "metadata": {},
     "output_type": "execute_result"
    }
   ],
   "source": [
    "xg_ex = xgb.XGBClassifier(**long_params, early_stopping_rounds=50,\n",
    "n_estimators=500)\n",
    "xg_ex.fit(X_train, y_train,\n",
    "eval_set=[(X_train, y_train),\n",
    "(X_test, y_test)\n",
    "],\n",
    "verbose=100\n",
    ")"
   ]
  },
  {
   "cell_type": "code",
   "execution_count": 15,
   "metadata": {},
   "outputs": [
    {
     "data": {
      "text/plain": [
       "0.7657458563535912"
      ]
     },
     "execution_count": 15,
     "metadata": {},
     "output_type": "execute_result"
    }
   ],
   "source": [
    "xg_ex.score(X_test, y_test)"
   ]
  },
  {
   "cell_type": "markdown",
   "metadata": {},
   "source": [
    "### 12.3 Defining Parameter Distributions"
   ]
  },
  {
   "cell_type": "markdown",
   "metadata": {},
   "source": [
    "하이퍼파라미터를 옵션 목록에서 선택하는 것으로 제한하는 대신, 하이퍼옵트 라이브러리에는 값 선택 방법을 정의할 수 있는 다양한 함수가 있습니다.\n",
    "\n",
    "선택 함수는 범주형 하이퍼파라미터에 대해 불연속적인 값 집합을 지정할 수 있습니다.   \n",
    "이는 그리드 검색에서 옵션 목록을 열거하는 것과 유사합니다.   \n",
    "\n",
    "이 함수는 가능한 값의 목록과 이러한 값에 대한 선택적 확률 분포라는 두 가지 인수를 받습니다.\n",
    "\n",
    "이 함수는 지정된 확률 분포에 따라 목록에서 임의의 값을 반환합니다.\n",
    "\n",
    "예를 들어 가능한 값 목록 ['a', 'b', 'c']에서 임의의 값을 생성하려면 다음과 같이 코드를 사용하면 됩니다, 다음 코드를 사용할 수 있습니다:"
   ]
  },
  {
   "cell_type": "code",
   "execution_count": 16,
   "metadata": {},
   "outputs": [],
   "source": [
    "from hyperopt import hp, pyll"
   ]
  },
  {
   "cell_type": "code",
   "execution_count": 17,
   "metadata": {},
   "outputs": [
    {
     "data": {
      "text/plain": [
       "'a'"
      ]
     },
     "execution_count": 17,
     "metadata": {},
     "output_type": "execute_result"
    }
   ],
   "source": [
    "pyll.stochastic.sample(hp.choice('value', ['a', 'b', 'c']))"
   ]
  },
  {
   "cell_type": "markdown",
   "metadata": {},
   "source": [
    "가능한 값을 확률 분포로 출력하려면"
   ]
  },
  {
   "cell_type": "code",
   "execution_count": 18,
   "metadata": {},
   "outputs": [
    {
     "data": {
      "text/plain": [
       "'b'"
      ]
     },
     "execution_count": 18,
     "metadata": {},
     "output_type": "execute_result"
    }
   ],
   "source": [
    "pyll.stochastic.sample(hp.pchoice('value', [(.05, 'a'), (.9, 'b'), (.05, 'c')]))"
   ]
  },
  {
   "cell_type": "markdown",
   "metadata": {},
   "source": [
    "- 중요 : 수치형 데이터에 대해서는 choice, pchoice 사용하는 것을 주의 해야 한다.  Hyperopt 라이브러리는 각 값을 순서가 아닌 독립적인 값으로 취급합니다. 검색 알고리즘은 인접한 값의 결과를 활용할 수 없습니다. \n",
    "   \n",
    "Hyperopt를 사용하는 예제에서 다음과 같이 'num_leaves' 및 'subsample'에 대한 검색 공간을 정의할 것을 제안합니다:   \n",
    "\n",
    "```python\n",
    "'num_leaves': hp.choice('num_leaves', list(range(20, 250, 10))),\n",
    "'subsample': hp.choice('subsample', [0.2, 0.4, 0.5, 0.6, 0.7, .8, .9]),\n",
    "```\n",
    "\n",
    "그런데 위와 같이 사용하면 안된다. 다음과 같이 설정하여 Hyperopt가 효율적으로 스페이스를 탐색할 수 있도록 해야한다.\n",
    "```python\n",
    "'num_leaves': hp.quniform('num_leaves', 20, 250, 10),\n",
    "'subsample': hp.uniform('subsample', 0.2, .9),\n",
    "```\n"
   ]
  },
  {
   "cell_type": "markdown",
   "metadata": {},
   "source": []
  },
  {
   "cell_type": "markdown",
   "metadata": {},
   "source": [
    "uniform 함수는 연속적인 값 범위에 걸쳐 균일한 분포를 지정할 수 있습니다.\n",
    "\n",
    "이 함수는 uniform 분포의 최소값과 최대값이라는 두 개의 인수를 받고 이 범위 내에서 임의의 부동 소수점 값을 반환합니다.\n",
    "\n",
    "예를 들어 uniform 함수를 사용하여 0과 1 사이의 임의의 부동 소수점 값을 생성하려면 함수를 사용하여 0과 1 사이의 임의의 부동 소수점 값을 생성하려면 다음 코드를 사용할 수 있습니다:"
   ]
  },
  {
   "cell_type": "code",
   "execution_count": 19,
   "metadata": {},
   "outputs": [],
   "source": [
    "from hyperopt import hp, pyll"
   ]
  },
  {
   "cell_type": "code",
   "execution_count": 20,
   "metadata": {},
   "outputs": [
    {
     "data": {
      "text/plain": [
       "0.6975627665660606"
      ]
     },
     "execution_count": 20,
     "metadata": {},
     "output_type": "execute_result"
    }
   ],
   "source": [
    "pyll.stochastic.sample(hp.uniform('value', 0, 1))"
   ]
  },
  {
   "cell_type": "code",
   "execution_count": null,
   "metadata": {},
   "outputs": [],
   "source": []
  }
 ],
 "metadata": {
  "kernelspec": {
   "display_name": "base",
   "language": "python",
   "name": "python3"
  },
  "language_info": {
   "codemirror_mode": {
    "name": "ipython",
    "version": 3
   },
   "file_extension": ".py",
   "mimetype": "text/x-python",
   "name": "python",
   "nbconvert_exporter": "python",
   "pygments_lexer": "ipython3",
   "version": "3.9.13"
  },
  "orig_nbformat": 4
 },
 "nbformat": 4,
 "nbformat_minor": 2
}
