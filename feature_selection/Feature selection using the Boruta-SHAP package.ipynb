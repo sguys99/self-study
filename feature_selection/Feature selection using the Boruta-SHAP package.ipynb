{
 "cells": [
  {
   "attachments": {},
   "cell_type": "markdown",
   "metadata": {},
   "source": [
    "## Feature selection using the Boruta-SHAP package\n",
    "- https://www.kaggle.com/code/carlmcbrideellis/feature-selection-using-the-boruta-shap-package/notebook"
   ]
  },
  {
   "attachments": {},
   "cell_type": "markdown",
   "metadata": {},
   "source": [
    "<div style=\"text-align: right\"> <b>Author : Kwang Myung Yu</b></div>\n",
    "<div style=\"text-align: right\"> Initial upload: 2023.7.17</div>\n",
    "<div style=\"text-align: right\"> Last update: 2023.7.17</div>"
   ]
  },
  {
   "cell_type": "code",
   "execution_count": 1,
   "metadata": {},
   "outputs": [],
   "source": [
    "import os\n",
    "import sys\n",
    "import time\n",
    "import numpy as np\n",
    "import pandas as pd\n",
    "import matplotlib as mpl\n",
    "import matplotlib.pyplot as plt\n",
    "import matplotlib.gridspec as gridspec\n",
    "import seaborn as sns\n",
    "from scipy import stats\n",
    "import warnings; warnings.filterwarnings('ignore')\n",
    "#plt.style.use('ggplot')\n",
    "plt.style.use('seaborn-whitegrid')\n",
    "%matplotlib inline"
   ]
  },
  {
   "cell_type": "code",
   "execution_count": 2,
   "metadata": {},
   "outputs": [],
   "source": [
    "#!pip install BorutaShap"
   ]
  },
  {
   "cell_type": "markdown",
   "metadata": {},
   "source": [
    "보루타 feature selection 알고리즘과 SHAP(SHapley Additive exPlanations) 기법을 결합한 것입니다.  \n",
    "슬라브 신화에 나오는 숲의 신의 이름을 딴 보루타 알고리즘은 타겟 변수와 관련된 모든 피처를 찾는 것이 아니라 최소한의 최적의 특징 집합을 찾는 작업을 수행합니다.   \n",
    "따라서 중요한 속성과 중요하지 않은 속성을 편향되지 않고 안정적으로 선택할 수 있습니다.  \n",
    "보루타셰이프 패키지는 \"이것이 최고의 특징 선택 알고리즘 '보루타셰이프'인가?\"라는 소개 글에서 보루타셰이프의 작동 원리에 대한 개요를 제공한 Eoghan Keany가 작성했습니다."
   ]
  },
  {
   "cell_type": "code",
   "execution_count": 3,
   "metadata": {},
   "outputs": [],
   "source": [
    "train = pd.read_csv(\"../data/house-price/train.csv\")\n",
    "test = pd.read_csv(\"../data/house-price/test.csv\")\n",
    "\n",
    "features = ['LotArea', 'OverallQual', 'OverallCond', 'YearBuilt', \n",
    "            'YearRemodAdd', 'BsmtFinSF1', 'BsmtFinSF2', 'TotalBsmtSF', \n",
    "            '1stFlrSF', 'LowQualFinSF', 'GrLivArea', 'BsmtFullBath', \n",
    "            'BsmtHalfBath', 'HalfBath', 'BedroomAbvGr',  'Fireplaces', \n",
    "            'GarageCars', 'GarageArea', 'WoodDeckSF', 'OpenPorchSF', \n",
    "            'EnclosedPorch',  'PoolArea', 'YrSold']\n",
    "\n",
    "X_train       = train[features]\n",
    "y_train       = train[\"SalePrice\"]"
   ]
  },
  {
   "cell_type": "markdown",
   "metadata": {},
   "source": [
    "BorutaShap는 importance_measure 속성이 있는데 shap, gain, permutation 등을 사용할 수 있다.  \n",
    "계산에 사용되는 모델은 default Random Forest이고, DecisionTreeClassifier, RandomForestClassifier, XGBClassifier and CatBoostClassifier 등도 쓸수 있다."
   ]
  },
  {
   "cell_type": "code",
   "execution_count": 4,
   "metadata": {},
   "outputs": [
    {
     "ename": "ImportError",
     "evalue": "\n`load_boston` has been removed from scikit-learn since version 1.2.\n\nThe Boston housing prices dataset has an ethical problem: as\ninvestigated in [1], the authors of this dataset engineered a\nnon-invertible variable \"B\" assuming that racial self-segregation had a\npositive impact on house prices [2]. Furthermore the goal of the\nresearch that led to the creation of this dataset was to study the\nimpact of air quality but it did not give adequate demonstration of the\nvalidity of this assumption.\n\nThe scikit-learn maintainers therefore strongly discourage the use of\nthis dataset unless the purpose of the code is to study and educate\nabout ethical issues in data science and machine learning.\n\nIn this special case, you can fetch the dataset from the original\nsource::\n\n    import pandas as pd\n    import numpy as np\n\n    data_url = \"http://lib.stat.cmu.edu/datasets/boston\"\n    raw_df = pd.read_csv(data_url, sep=\"\\s+\", skiprows=22, header=None)\n    data = np.hstack([raw_df.values[::2, :], raw_df.values[1::2, :2]])\n    target = raw_df.values[1::2, 2]\n\nAlternative datasets include the California housing dataset and the\nAmes housing dataset. You can load the datasets as follows::\n\n    from sklearn.datasets import fetch_california_housing\n    housing = fetch_california_housing()\n\nfor the California housing dataset and::\n\n    from sklearn.datasets import fetch_openml\n    housing = fetch_openml(name=\"house_prices\", as_frame=True)\n\nfor the Ames housing dataset.\n\n[1] M Carlisle.\n\"Racist data destruction?\"\n<https://medium.com/@docintangible/racist-data-destruction-113e3eff54a8>\n\n[2] Harrison Jr, David, and Daniel L. Rubinfeld.\n\"Hedonic housing prices and the demand for clean air.\"\nJournal of environmental economics and management 5.1 (1978): 81-102.\n<https://www.researchgate.net/publication/4974606_Hedonic_housing_prices_and_the_demand_for_clean_air>\n",
     "output_type": "error",
     "traceback": [
      "\u001b[0;31m---------------------------------------------------------------------------\u001b[0m",
      "\u001b[0;31mImportError\u001b[0m                               Traceback (most recent call last)",
      "\u001b[1;32m/Users/sguys99/Desktop/project/self-study/feature_selection/Feature selection using the Boruta-SHAP package.ipynb 셀 8\u001b[0m in \u001b[0;36m<cell line: 1>\u001b[0;34m()\u001b[0m\n\u001b[0;32m----> <a href='vscode-notebook-cell:/Users/sguys99/Desktop/project/self-study/feature_selection/Feature%20selection%20using%20the%20Boruta-SHAP%20package.ipynb#X36sZmlsZQ%3D%3D?line=0'>1</a>\u001b[0m \u001b[39mfrom\u001b[39;00m \u001b[39mBorutaShap\u001b[39;00m \u001b[39mimport\u001b[39;00m BorutaShap\n\u001b[1;32m      <a href='vscode-notebook-cell:/Users/sguys99/Desktop/project/self-study/feature_selection/Feature%20selection%20using%20the%20Boruta-SHAP%20package.ipynb#X36sZmlsZQ%3D%3D?line=2'>3</a>\u001b[0m Feature_Selector \u001b[39m=\u001b[39m BorutaShap(importance_measure\u001b[39m=\u001b[39m\u001b[39m'\u001b[39m\u001b[39mshap\u001b[39m\u001b[39m'\u001b[39m, classification\u001b[39m=\u001b[39m\u001b[39mFalse\u001b[39;00m)\n\u001b[1;32m      <a href='vscode-notebook-cell:/Users/sguys99/Desktop/project/self-study/feature_selection/Feature%20selection%20using%20the%20Boruta-SHAP%20package.ipynb#X36sZmlsZQ%3D%3D?line=3'>4</a>\u001b[0m Feature_Selector\u001b[39m.\u001b[39mfit(X\u001b[39m=\u001b[39mX_train, y\u001b[39m=\u001b[39my_train, n_trials\u001b[39m=\u001b[39m\u001b[39m50\u001b[39m, sample \u001b[39m=\u001b[39m \u001b[39mFalse\u001b[39;00m, \n\u001b[1;32m      <a href='vscode-notebook-cell:/Users/sguys99/Desktop/project/self-study/feature_selection/Feature%20selection%20using%20the%20Boruta-SHAP%20package.ipynb#X36sZmlsZQ%3D%3D?line=4'>5</a>\u001b[0m                      train_or_test\u001b[39m=\u001b[39m\u001b[39m'\u001b[39m\u001b[39mtest\u001b[39m\u001b[39m'\u001b[39m, normalize\u001b[39m=\u001b[39m\u001b[39mTrue\u001b[39;00m,\n\u001b[1;32m      <a href='vscode-notebook-cell:/Users/sguys99/Desktop/project/self-study/feature_selection/Feature%20selection%20using%20the%20Boruta-SHAP%20package.ipynb#X36sZmlsZQ%3D%3D?line=5'>6</a>\u001b[0m                      verbose\u001b[39m=\u001b[39m\u001b[39mTrue\u001b[39;00m)\n",
      "File \u001b[0;32m~/opt/anaconda3/lib/python3.9/site-packages/BorutaShap.py:2\u001b[0m, in \u001b[0;36m<module>\u001b[0;34m\u001b[0m\n\u001b[1;32m      1\u001b[0m \u001b[39mfrom\u001b[39;00m \u001b[39msklearn\u001b[39;00m\u001b[39m.\u001b[39;00m\u001b[39mensemble\u001b[39;00m \u001b[39mimport\u001b[39;00m RandomForestClassifier, RandomForestRegressor, IsolationForest\n\u001b[0;32m----> 2\u001b[0m \u001b[39mfrom\u001b[39;00m \u001b[39msklearn\u001b[39;00m\u001b[39m.\u001b[39;00m\u001b[39mdatasets\u001b[39;00m \u001b[39mimport\u001b[39;00m load_breast_cancer, load_boston\n\u001b[1;32m      3\u001b[0m \u001b[39mfrom\u001b[39;00m \u001b[39mstatsmodels\u001b[39;00m\u001b[39m.\u001b[39;00m\u001b[39mstats\u001b[39;00m\u001b[39m.\u001b[39;00m\u001b[39mmultitest\u001b[39;00m \u001b[39mimport\u001b[39;00m multipletests\n\u001b[1;32m      4\u001b[0m \u001b[39mfrom\u001b[39;00m \u001b[39msklearn\u001b[39;00m\u001b[39m.\u001b[39;00m\u001b[39mmodel_selection\u001b[39;00m \u001b[39mimport\u001b[39;00m train_test_split\n",
      "File \u001b[0;32m~/opt/anaconda3/lib/python3.9/site-packages/sklearn/datasets/__init__.py:156\u001b[0m, in \u001b[0;36m__getattr__\u001b[0;34m(name)\u001b[0m\n\u001b[1;32m    105\u001b[0m \u001b[39mif\u001b[39;00m name \u001b[39m==\u001b[39m \u001b[39m\"\u001b[39m\u001b[39mload_boston\u001b[39m\u001b[39m\"\u001b[39m:\n\u001b[1;32m    106\u001b[0m     msg \u001b[39m=\u001b[39m textwrap\u001b[39m.\u001b[39mdedent(\n\u001b[1;32m    107\u001b[0m         \u001b[39m\"\"\"\u001b[39;00m\n\u001b[1;32m    108\u001b[0m \u001b[39m        `load_boston` has been removed from scikit-learn since version 1.2.\u001b[39;00m\n\u001b[0;32m   (...)\u001b[0m\n\u001b[1;32m    154\u001b[0m \u001b[39m        \"\"\"\u001b[39;00m\n\u001b[1;32m    155\u001b[0m     )\n\u001b[0;32m--> 156\u001b[0m     \u001b[39mraise\u001b[39;00m \u001b[39mImportError\u001b[39;00m(msg)\n\u001b[1;32m    157\u001b[0m \u001b[39mtry\u001b[39;00m:\n\u001b[1;32m    158\u001b[0m     \u001b[39mreturn\u001b[39;00m \u001b[39mglobals\u001b[39m()[name]\n",
      "\u001b[0;31mImportError\u001b[0m: \n`load_boston` has been removed from scikit-learn since version 1.2.\n\nThe Boston housing prices dataset has an ethical problem: as\ninvestigated in [1], the authors of this dataset engineered a\nnon-invertible variable \"B\" assuming that racial self-segregation had a\npositive impact on house prices [2]. Furthermore the goal of the\nresearch that led to the creation of this dataset was to study the\nimpact of air quality but it did not give adequate demonstration of the\nvalidity of this assumption.\n\nThe scikit-learn maintainers therefore strongly discourage the use of\nthis dataset unless the purpose of the code is to study and educate\nabout ethical issues in data science and machine learning.\n\nIn this special case, you can fetch the dataset from the original\nsource::\n\n    import pandas as pd\n    import numpy as np\n\n    data_url = \"http://lib.stat.cmu.edu/datasets/boston\"\n    raw_df = pd.read_csv(data_url, sep=\"\\s+\", skiprows=22, header=None)\n    data = np.hstack([raw_df.values[::2, :], raw_df.values[1::2, :2]])\n    target = raw_df.values[1::2, 2]\n\nAlternative datasets include the California housing dataset and the\nAmes housing dataset. You can load the datasets as follows::\n\n    from sklearn.datasets import fetch_california_housing\n    housing = fetch_california_housing()\n\nfor the California housing dataset and::\n\n    from sklearn.datasets import fetch_openml\n    housing = fetch_openml(name=\"house_prices\", as_frame=True)\n\nfor the Ames housing dataset.\n\n[1] M Carlisle.\n\"Racist data destruction?\"\n<https://medium.com/@docintangible/racist-data-destruction-113e3eff54a8>\n\n[2] Harrison Jr, David, and Daniel L. Rubinfeld.\n\"Hedonic housing prices and the demand for clean air.\"\nJournal of environmental economics and management 5.1 (1978): 81-102.\n<https://www.researchgate.net/publication/4974606_Hedonic_housing_prices_and_the_demand_for_clean_air>\n"
     ]
    }
   ],
   "source": [
    "from BorutaShap import BorutaShap\n",
    "\n",
    "Feature_Selector = BorutaShap(importance_measure='shap', classification=False)\n",
    "Feature_Selector.fit(X=X_train, y=y_train, n_trials=50, sample = False, \n",
    "                     train_or_test='test', normalize=True,\n",
    "                     verbose=True)"
   ]
  },
  {
   "cell_type": "markdown",
   "metadata": {},
   "source": [
    "- 패키지 버그 픽스를 하지 않아 사용 불가"
   ]
  },
  {
   "cell_type": "markdown",
   "metadata": {},
   "source": []
  }
 ],
 "metadata": {
  "kernelspec": {
   "display_name": "base",
   "language": "python",
   "name": "python3"
  },
  "language_info": {
   "codemirror_mode": {
    "name": "ipython",
    "version": 3
   },
   "file_extension": ".py",
   "mimetype": "text/x-python",
   "name": "python",
   "nbconvert_exporter": "python",
   "pygments_lexer": "ipython3",
   "version": "3.9.13"
  },
  "orig_nbformat": 4
 },
 "nbformat": 4,
 "nbformat_minor": 2
}
