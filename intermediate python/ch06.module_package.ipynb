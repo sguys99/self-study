{
 "cells": [
  {
   "attachments": {},
   "cell_type": "markdown",
   "metadata": {},
   "source": [
    "## 예외처리와 오류 관리\n",
    "- https://paullabworkspace.notion.site/Python-a8b9c611beef4740a6372c27a270b70e#c912f945c7d94b9ea9599c32f2f65f7d"
   ]
  },
  {
   "attachments": {},
   "cell_type": "markdown",
   "metadata": {},
   "source": [
    "### Error의 종류"
   ]
  },
  {
   "attachments": {},
   "cell_type": "markdown",
   "metadata": {},
   "source": [
    "**6.1.1. 문법 에러(Syntax Error)**\n",
    "\n",
    "문법 에러는 파이썬 코드를 실행하기 전에 발생하는 에러로, 코드 작성 시 오타나 문법적인 오류가 있을 경우 발생합니다. 이 경우 파이썬 인터프리터는 해당 줄에서 에러가 발생했음을 알려주며, 발견된 오류의 위치와 종류를 알려줍니다."
   ]
  },
  {
   "attachments": {},
   "cell_type": "markdown",
   "metadata": {},
   "source": [
    "```python\n",
    "# Syntax Error\n",
    "for i in range(10)\n",
    "    print(i)\n",
    "```"
   ]
  },
  {
   "attachments": {},
   "cell_type": "markdown",
   "metadata": {},
   "source": [
    "**6.1.2. 이름 에러(Name Error)**\n",
    "\n",
    "이름 에러는 정의되지 않은 변수나 함수를 호출했을 때 발생합니다. 이 경우 파이썬 인터프리터는 해당 변수나 함수를 찾을 수 없다는 메시지를 출력합니다"
   ]
  },
  {
   "attachments": {},
   "cell_type": "markdown",
   "metadata": {},
   "source": [
    "```python\n",
    "# Name Error\n",
    "print(x)\n",
    "```"
   ]
  },
  {
   "attachments": {},
   "cell_type": "markdown",
   "metadata": {},
   "source": [
    "**6.1.3. 타입 에러(Type Error)**\n",
    "\n",
    "타입 에러는 서로 다른 타입의 변수 간 연산이나 함수 호출 시 발생합니다. 이 경우 파이썬 인터프리터는 해당 연산이나 함수 호출이 불가능하다는 메시지를 출력합니다."
   ]
  },
  {
   "attachments": {},
   "cell_type": "markdown",
   "metadata": {},
   "source": [
    "**6.1.3. 타입 에러(Type Error)**\n",
    "\n",
    "타입 에러는 서로 다른 타입의 변수 간 연산이나 함수 호출 시 발생합니다. 이 경우 파이썬 인터프리터는 해당 연산이나 함수 호출이 불가능하다는 메시지를 출력합니다."
   ]
  },
  {
   "attachments": {},
   "cell_type": "markdown",
   "metadata": {},
   "source": [
    "**6.1.4. 인덱스 에러(Index Error)**\n",
    "\n",
    "인덱스 에러는 리스트나 튜플 등의 시퀀스 타입에서 존재하지 않는 인덱스를 호출했을 때 발생합니다. 이 경우 파이썬 인터프리터는 해당 인덱스를 찾을 수 없다는 메시지를 출력합니다"
   ]
  },
  {
   "attachments": {},
   "cell_type": "markdown",
   "metadata": {},
   "source": [
    "```python\n",
    "# Index Error\n",
    "my_list = [1, 2, 3]\n",
    "print(my_list[3])\n",
    "```"
   ]
  },
  {
   "attachments": {},
   "cell_type": "markdown",
   "metadata": {},
   "source": [
    "**6.1.5. 키 에러(Key Error)**\n",
    "\n",
    "키 에러는 딕셔너리에서 존재하지 않는 키를 호출했을 때 발생합니다. 이 경우 파이썬 인터프리터는 해당 키를 찾을 수 없다는 메시지를 출력합니다."
   ]
  },
  {
   "attachments": {},
   "cell_type": "markdown",
   "metadata": {},
   "source": [
    "... 그외에 여러가지"
   ]
  },
  {
   "attachments": {},
   "cell_type": "markdown",
   "metadata": {},
   "source": [
    "### python 예외처리"
   ]
  },
  {
   "attachments": {},
   "cell_type": "markdown",
   "metadata": {},
   "source": [
    "google convention에서는 try와 except를 최소 단위로 사용하길 권고합니다. 이는 애러가 나는 정확한 위치를 파악하기 위함입니다."
   ]
  },
  {
   "attachments": {},
   "cell_type": "markdown",
   "metadata": {},
   "source": [
    "```python\n",
    "try:\n",
    "    # 예외가 발생할 가능성이 있는 코드\n",
    "except:\n",
    "    # 예외 처리 코드\n",
    "else:\n",
    "    # 예외가 발생하지 않을 때 실행되는 코드\n",
    "    ```"
   ]
  },
  {
   "attachments": {},
   "cell_type": "markdown",
   "metadata": {},
   "source": [
    "**assert**\n",
    "\n",
    "assert는 가정설정문입니다. 내가 설정한 조건에 만족하지 않는 경우 error를 발생시킬 수 있습니다. 아래 예시 코드를 살펴보도록 하겠습니다.\n",
    "\n",
    "2번에서는 AssertionError가 발생하며 2번을 주석처리하면 3번에서는 str과 int가 더해질 때 나오는 TypeError가 출력되게 됩니다."
   ]
  },
  {
   "cell_type": "code",
   "execution_count": 5,
   "metadata": {},
   "outputs": [
    {
     "ename": "AssertionError",
     "evalue": "애러 메시지 2",
     "output_type": "error",
     "traceback": [
      "\u001b[0;31m---------------------------------------------------------------------------\u001b[0m",
      "\u001b[0;31mAssertionError\u001b[0m                            Traceback (most recent call last)",
      "Cell \u001b[0;32mIn[5], line 4\u001b[0m\n\u001b[1;32m      1\u001b[0m test \u001b[39m=\u001b[39m \u001b[39m'\u001b[39m\u001b[39mhello\u001b[39m\u001b[39m'\u001b[39m\n\u001b[1;32m      3\u001b[0m \u001b[39massert\u001b[39;00m test \u001b[39m==\u001b[39m \u001b[39m'\u001b[39m\u001b[39mhello\u001b[39m\u001b[39m'\u001b[39m, \u001b[39m'\u001b[39m\u001b[39m애러 메시지 1\u001b[39m\u001b[39m'\u001b[39m \u001b[39m#1\u001b[39;00m\n\u001b[0;32m----> 4\u001b[0m \u001b[39massert\u001b[39;00m test \u001b[39m==\u001b[39m \u001b[39m'\u001b[39m\u001b[39mworld\u001b[39m\u001b[39m'\u001b[39m, \u001b[39m'\u001b[39m\u001b[39m애러 메시지 2\u001b[39m\u001b[39m'\u001b[39m \u001b[39m#2\u001b[39;00m\n\u001b[1;32m      5\u001b[0m \u001b[39massert\u001b[39;00m test \u001b[39m+\u001b[39m \u001b[39m3\u001b[39m \u001b[39m==\u001b[39m \u001b[39m5\u001b[39m, \u001b[39m'\u001b[39m\u001b[39m애러 메시지 3\u001b[39m\u001b[39m'\u001b[39m\n",
      "\u001b[0;31mAssertionError\u001b[0m: 애러 메시지 2"
     ]
    }
   ],
   "source": [
    "test = 'hello'\n",
    "\n",
    "assert test == 'hello', '애러 메시지 1' #1\n",
    "assert test == 'world', '애러 메시지 2' #2\n",
    "assert test + 3 == 5, '애러 메시지 3' #3"
   ]
  },
  {
   "attachments": {},
   "cell_type": "markdown",
   "metadata": {},
   "source": [
    "### 에러 발생시키기, 에러 만들기"
   ]
  },
  {
   "cell_type": "code",
   "execution_count": 6,
   "metadata": {},
   "outputs": [
    {
     "name": "stdout",
     "output_type": "stream",
     "text": [
      "0\n",
      "1\n",
      "2\n",
      "3\n",
      "4\n"
     ]
    },
    {
     "ename": "RuntimeError",
     "evalue": "No active exception to reraise",
     "output_type": "error",
     "traceback": [
      "\u001b[0;31m---------------------------------------------------------------------------\u001b[0m",
      "\u001b[0;31mRuntimeError\u001b[0m                              Traceback (most recent call last)",
      "Cell \u001b[0;32mIn[6], line 3\u001b[0m\n\u001b[1;32m      1\u001b[0m \u001b[39mfor\u001b[39;00m i \u001b[39min\u001b[39;00m \u001b[39mrange\u001b[39m(\u001b[39m10\u001b[39m):\n\u001b[1;32m      2\u001b[0m     \u001b[39mif\u001b[39;00m i \u001b[39m==\u001b[39m \u001b[39m5\u001b[39m:\n\u001b[0;32m----> 3\u001b[0m         \u001b[39mraise\u001b[39;00m\n\u001b[1;32m      4\u001b[0m     \u001b[39mprint\u001b[39m(i)\n",
      "\u001b[0;31mRuntimeError\u001b[0m: No active exception to reraise"
     ]
    }
   ],
   "source": [
    "for i in range(10):\n",
    "    if i == 5:\n",
    "        raise\n",
    "    print(i)"
   ]
  },
  {
   "cell_type": "code",
   "execution_count": 7,
   "metadata": {},
   "outputs": [
    {
     "name": "stdout",
     "output_type": "stream",
     "text": [
      "0\n",
      "1\n",
      "2\n",
      "3\n",
      "4\n"
     ]
    },
    {
     "ename": "ValueError",
     "evalue": "",
     "output_type": "error",
     "traceback": [
      "\u001b[0;31m---------------------------------------------------------------------------\u001b[0m",
      "\u001b[0;31mValueError\u001b[0m                                Traceback (most recent call last)",
      "Cell \u001b[0;32mIn[7], line 3\u001b[0m\n\u001b[1;32m      1\u001b[0m \u001b[39mfor\u001b[39;00m i \u001b[39min\u001b[39;00m \u001b[39mrange\u001b[39m(\u001b[39m10\u001b[39m):\n\u001b[1;32m      2\u001b[0m     \u001b[39mif\u001b[39;00m i \u001b[39m==\u001b[39m \u001b[39m5\u001b[39m:\n\u001b[0;32m----> 3\u001b[0m         \u001b[39mraise\u001b[39;00m \u001b[39mValueError\u001b[39;00m\n\u001b[1;32m      4\u001b[0m     \u001b[39mprint\u001b[39m(i)\n",
      "\u001b[0;31mValueError\u001b[0m: "
     ]
    }
   ],
   "source": [
    "for i in range(10):\n",
    "    if i == 5:\n",
    "        raise ValueError\n",
    "    print(i)"
   ]
  },
  {
   "cell_type": "code",
   "execution_count": 8,
   "metadata": {},
   "outputs": [
    {
     "name": "stdout",
     "output_type": "stream",
     "text": [
      "0\n",
      "1\n",
      "2\n",
      "3\n",
      "4\n"
     ]
    },
    {
     "ename": "ValueError",
     "evalue": "에러 입니다.",
     "output_type": "error",
     "traceback": [
      "\u001b[0;31m---------------------------------------------------------------------------\u001b[0m",
      "\u001b[0;31mValueError\u001b[0m                                Traceback (most recent call last)",
      "Cell \u001b[0;32mIn[8], line 3\u001b[0m\n\u001b[1;32m      1\u001b[0m \u001b[39mfor\u001b[39;00m i \u001b[39min\u001b[39;00m \u001b[39mrange\u001b[39m(\u001b[39m10\u001b[39m):\n\u001b[1;32m      2\u001b[0m     \u001b[39mif\u001b[39;00m i \u001b[39m==\u001b[39m \u001b[39m5\u001b[39m:\n\u001b[0;32m----> 3\u001b[0m         \u001b[39mraise\u001b[39;00m \u001b[39mValueError\u001b[39;00m(\u001b[39m\"\u001b[39m\u001b[39m에러 입니다.\u001b[39m\u001b[39m\"\u001b[39m)\n\u001b[1;32m      4\u001b[0m     \u001b[39mprint\u001b[39m(i)\n",
      "\u001b[0;31mValueError\u001b[0m: 에러 입니다."
     ]
    }
   ],
   "source": [
    "for i in range(10):\n",
    "    if i == 5:\n",
    "        raise ValueError(\"에러 입니다.\")\n",
    "    print(i)"
   ]
  },
  {
   "attachments": {},
   "cell_type": "markdown",
   "metadata": {},
   "source": [
    "아래와 같이 애러별 분기도 가능합니다."
   ]
  },
  {
   "cell_type": "code",
   "execution_count": 9,
   "metadata": {},
   "outputs": [
    {
     "name": "stdout",
     "output_type": "stream",
     "text": [
      "ZeroDivisionError\n",
      "<class 'ZeroDivisionError'>\n",
      "<class 'type'>\n",
      "['__cause__', '__class__', '__context__', '__delattr__', '__dict__', '__dir__', '__doc__', '__eq__', '__format__', '__ge__', '__getattribute__', '__gt__', '__hash__', '__init__', '__init_subclass__', '__le__', '__lt__', '__ne__', '__new__', '__reduce__', '__reduce_ex__', '__repr__', '__setattr__', '__setstate__', '__sizeof__', '__str__', '__subclasshook__', '__suppress_context__', '__traceback__', 'args', 'with_traceback']\n"
     ]
    }
   ],
   "source": [
    "try:\n",
    "    1/0\n",
    "except ValueError:\n",
    "    print('ValueError')\n",
    "except ZeroDivisionError:\n",
    "    print('ZeroDivisionError')\n",
    "\n",
    "print(ZeroDivisionError)\n",
    "print(type(ZeroDivisionError))\n",
    "print(dir(ZeroDivisionError))"
   ]
  },
  {
   "attachments": {},
   "cell_type": "markdown",
   "metadata": {},
   "source": [
    "다음과 같이 애러를 만드는 것도 가능합니다."
   ]
  },
  {
   "cell_type": "code",
   "execution_count": 10,
   "metadata": {},
   "outputs": [
    {
     "ename": "Leehojun",
     "evalue": "입력된 값이 leehojun이 아닙니다.",
     "output_type": "error",
     "traceback": [
      "\u001b[0;31m---------------------------------------------------------------------------\u001b[0m",
      "\u001b[0;31mLeehojun\u001b[0m                                  Traceback (most recent call last)",
      "Cell \u001b[0;32mIn[10], line 5\u001b[0m\n\u001b[1;32m      2\u001b[0m     \u001b[39mdef\u001b[39;00m \u001b[39m__init__\u001b[39m(\u001b[39mself\u001b[39m):\n\u001b[1;32m      3\u001b[0m         \u001b[39msuper\u001b[39m()\u001b[39m.\u001b[39m\u001b[39m__init__\u001b[39m(\u001b[39m'\u001b[39m\u001b[39m입력된 값이 leehojun이 아닙니다.\u001b[39m\u001b[39m'\u001b[39m)\n\u001b[0;32m----> 5\u001b[0m \u001b[39mraise\u001b[39;00m Leehojun\n",
      "\u001b[0;31mLeehojun\u001b[0m: 입력된 값이 leehojun이 아닙니다."
     ]
    }
   ],
   "source": [
    "class Leehojun(Exception): #Exception을 상속받으면 됩니다.\n",
    "    def __init__(self):\n",
    "        super().__init__('입력된 값이 leehojun이 아닙니다.')\n",
    "\n",
    "raise Leehojun"
   ]
  },
  {
   "attachments": {},
   "cell_type": "markdown",
   "metadata": {},
   "source": [
    "### 오류 처리와 로깅"
   ]
  },
  {
   "attachments": {},
   "cell_type": "markdown",
   "metadata": {},
   "source": [
    "로깅은 경고, 접근, 애러, 예외 처리, 특정 함수 사용 등에 대한 기록을 남기는 행위입니다. 주로 화면에 출력하거나 DB또는 일반 plane text로 남기는 방식을 사용합니다. 로그기록이 너무 많을 경우 시스템에 부하를 줄 수 있으며, 일반적인 편집기가 읽지 못할 수 있습니다.\n",
    "\n",
    "로그를 남기는 것도 오류 관리의 중요한 부분입니다. **`logging`** 모듈을 사용하면 다양한 레벨의 로그를 쉽게 남길 수 있습니다."
   ]
  },
  {
   "cell_type": "code",
   "execution_count": 11,
   "metadata": {},
   "outputs": [
    {
     "name": "stderr",
     "output_type": "stream",
     "text": [
      "INFO:root:This is an info message\n",
      "WARNING:root:This is a warning message\n",
      "ERROR:root:This is an error message\n",
      "CRITICAL:root:This is a critical message\n"
     ]
    }
   ],
   "source": [
    "import logging\n",
    "\n",
    "logging.basicConfig(level=logging.INFO) # 어느 레벨부터 로깅할지, 기본으로 warning 부터 합니다.\n",
    "\n",
    "logging.debug(\"This is a debug message\") # 고쳐야 할 코드, 기록 필요\n",
    "logging.info(\"This is an info message\") # 정보성 메시지\n",
    "logging.warning(\"This is a warning message\") # 경고 메시지\n",
    "logging.error(\"This is an error message\") # 애러 메시지(프로그램은 동작)\n",
    "logging.critical(\"This is a critical message\") # 프로그램 중지(애러처리 안된경우)"
   ]
  },
  {
   "cell_type": "code",
   "execution_count": 12,
   "metadata": {},
   "outputs": [
    {
     "name": "stderr",
     "output_type": "stream",
     "text": [
      "log_name, 2023-10-22 12:38:01,753, DEBUG, debug\n",
      "DEBUG:log_name:debug\n",
      "log_name, 2023-10-22 12:38:01,754, INFO, info\n",
      "INFO:log_name:info\n",
      "log_name, 2023-10-22 12:38:01,755, WARNING, warning\n",
      "WARNING:log_name:warning\n",
      "log_name, 2023-10-22 12:38:01,756, ERROR, error\n",
      "ERROR:log_name:error\n",
      "log_name, 2023-10-22 12:38:01,757, CRITICAL, critical\n",
      "CRITICAL:log_name:critical\n",
      "log_name, 2023-10-22 12:38:01,759, ERROR, division by zero error\n",
      "ERROR:log_name:division by zero error\n"
     ]
    },
    {
     "name": "stdout",
     "output_type": "stream",
     "text": [
      "---\n",
      "division by zero\n"
     ]
    }
   ],
   "source": [
    "import logging.handlers\n",
    "\n",
    "def logger():\n",
    "    log_obj = logging.getLogger(\"log_name\") # log name으로 log 객체 생성\n",
    "    log_obj.setLevel(logging.DEBUG) # 어디부터 기록할지 설정\n",
    "\n",
    "    fileHandeler = logging.FileHandler(filename=\"./test.txt\") # 파일로 기록\n",
    "    streamHandler = logging.StreamHandler() # 콘솔에 출력\n",
    "\n",
    "    fileHandeler.setLevel(logging.INFO) # 파일 기록 레벨 설정\n",
    "    streamHandler.setLevel(logging.DEBUG) # 콘솔 기록 레벨 설정\n",
    "\n",
    "    formatter = logging.Formatter(\"%(name)s, %(asctime)s, %(levelname)s, %(message)s\") #포멧 생성\n",
    "\n",
    "    fileHandeler.setFormatter(formatter) # 파일 메시지 포멧 설정\n",
    "    streamHandler.setFormatter(formatter) # 콘솔 메시지 포멧 설정\n",
    "\n",
    "    log_obj.addHandler(fileHandeler) # log_obj handler에 파일 출력 방식 추가\n",
    "    log_obj.addHandler(streamHandler) # log_obj handler에 파일 콘솔 방식 추가\n",
    "\n",
    "    return log_obj\n",
    "\n",
    "log = logger()\n",
    "\n",
    "# 아래 코드를 기록하고 싶은 곳에 함께 설정\n",
    "log.debug('debug')\n",
    "log.info('info')\n",
    "log.warning('warning')\n",
    "log.error('error')\n",
    "log.critical('critical')\n",
    "\n",
    "print('---')\n",
    "\n",
    "# 아래와 같이 사용합니다.\n",
    "def f():\n",
    "    try:\n",
    "        x = 1 / 0\n",
    "    except Exception as e:\n",
    "        print(e)\n",
    "        log.error(f'{e} error')\n",
    "\n",
    "f()"
   ]
  },
  {
   "cell_type": "code",
   "execution_count": null,
   "metadata": {},
   "outputs": [],
   "source": []
  }
 ],
 "metadata": {
  "kernelspec": {
   "display_name": "base",
   "language": "python",
   "name": "python3"
  },
  "language_info": {
   "codemirror_mode": {
    "name": "ipython",
    "version": 3
   },
   "file_extension": ".py",
   "mimetype": "text/x-python",
   "name": "python",
   "nbconvert_exporter": "python",
   "pygments_lexer": "ipython3",
   "version": "3.10.9"
  },
  "orig_nbformat": 4
 },
 "nbformat": 4,
 "nbformat_minor": 2
}
