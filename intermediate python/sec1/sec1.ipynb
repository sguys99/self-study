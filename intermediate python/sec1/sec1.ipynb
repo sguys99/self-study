{
 "cells": [
  {
   "attachments": {},
   "cell_type": "markdown",
   "metadata": {},
   "source": [
    "## 강의 노트북\n",
    "- https://github.com/paullabkorea/snackpython/blob/main/000_%EA%B0%95%EC%9D%98%20%EB%85%B8%ED%8A%B8%EB%B6%81(%EB%B0%B0%ED%8F%AC%EC%9A%A9).ipynb"
   ]
  },
  {
   "attachments": {},
   "cell_type": "markdown",
   "metadata": {},
   "source": [
    "### 001. f-string의 이중 중괄호"
   ]
  },
  {
   "cell_type": "code",
   "execution_count": 4,
   "metadata": {},
   "outputs": [
    {
     "data": {
      "text/plain": [
       "'        10'"
      ]
     },
     "execution_count": 4,
     "metadata": {},
     "output_type": "execute_result"
    }
   ],
   "source": [
    "숫자 = 10\n",
    "자릿수 = 10\n",
    "\n",
    "f'{숫자: > {자릿수}}'"
   ]
  },
  {
   "cell_type": "code",
   "execution_count": 5,
   "metadata": {},
   "outputs": [
    {
     "data": {
      "text/plain": [
       "'0000000010'"
      ]
     },
     "execution_count": 5,
     "metadata": {},
     "output_type": "execute_result"
    }
   ],
   "source": [
    "f'{숫자:0{자릿수}d}'"
   ]
  },
  {
   "cell_type": "code",
   "execution_count": 6,
   "metadata": {},
   "outputs": [
    {
     "data": {
      "text/plain": [
       "'3.142'"
      ]
     },
     "execution_count": 6,
     "metadata": {},
     "output_type": "execute_result"
    }
   ],
   "source": [
    "원주율 = 3.141592\n",
    "소수점 = 3\n",
    "f'{원주율:.{소수점}f}'"
   ]
  },
  {
   "attachments": {},
   "cell_type": "markdown",
   "metadata": {},
   "source": [
    "### 002. 왈러스 연산자"
   ]
  },
  {
   "attachments": {},
   "cell_type": "markdown",
   "metadata": {},
   "source": [
    "- f'string 추가영상 : https://youtu.be/_UdOzBvpu90\n",
    "- walrus 추가영상 : https://youtu.be/dY7mVQXmwk4 (Python 3.8 update)"
   ]
  },
  {
   "cell_type": "code",
   "execution_count": 7,
   "metadata": {},
   "outputs": [
    {
     "data": {
      "text/plain": [
       "11"
      ]
     },
     "execution_count": 7,
     "metadata": {},
     "output_type": "execute_result"
    }
   ],
   "source": [
    "value = 10\n",
    "(value:= value + 1) # 왈러스"
   ]
  },
  {
   "cell_type": "code",
   "execution_count": 8,
   "metadata": {},
   "outputs": [
    {
     "data": {
      "text/plain": [
       "12"
      ]
     },
     "execution_count": 8,
     "metadata": {},
     "output_type": "execute_result"
    }
   ],
   "source": [
    "(value:= value + 1)\n",
    "value"
   ]
  },
  {
   "cell_type": "code",
   "execution_count": 9,
   "metadata": {},
   "outputs": [
    {
     "name": "stdout",
     "output_type": "stream",
     "text": [
      "1\n",
      "2\n",
      "3\n",
      "4\n",
      "5\n",
      "6\n",
      "7\n",
      "8\n",
      "9\n"
     ]
    }
   ],
   "source": [
    "count = 0\n",
    "while (count := count + 1) < 10:\n",
    "    print(count)"
   ]
  },
  {
   "cell_type": "code",
   "execution_count": 10,
   "metadata": {},
   "outputs": [
    {
     "data": {
      "text/plain": [
       "5050"
      ]
     },
     "execution_count": 10,
     "metadata": {},
     "output_type": "execute_result"
    }
   ],
   "source": [
    "count = 0\n",
    "result = 0\n",
    "while (count := count + 1) < 101:\n",
    "    result += count\n",
    "    \n",
    "result"
   ]
  },
  {
   "cell_type": "code",
   "execution_count": 12,
   "metadata": {},
   "outputs": [
    {
     "name": "stdout",
     "output_type": "stream",
     "text": [
      "5050\n",
      "6050\n"
     ]
    }
   ],
   "source": [
    "def 시그마(n):\n",
    "    count = 0\n",
    "    result = 0\n",
    "    while (count := count + 1) < n + 1:\n",
    "        result += count\n",
    "    return result\n",
    "\n",
    "\n",
    "if 합 := 시그마(100):\n",
    "    print(합)\n",
    "else:\n",
    "    print('1부터 정수형태로 입력이 가능합니다.')\n",
    "    \n",
    "print(합 + 1000)"
   ]
  },
  {
   "cell_type": "code",
   "execution_count": 13,
   "metadata": {},
   "outputs": [
    {
     "name": "stdout",
     "output_type": "stream",
     "text": [
      "1부터 정수형태로 입력이 가능합니다.\n"
     ]
    }
   ],
   "source": [
    "if 합 := 시그마(-1):\n",
    "    print(합)\n",
    "else:\n",
    "    print('1부터 정수형태로 입력이 가능합니다.')"
   ]
  },
  {
   "cell_type": "code",
   "execution_count": 14,
   "metadata": {},
   "outputs": [
    {
     "name": "stdout",
     "output_type": "stream",
     "text": [
      "5050이 출력되었습니다.\n",
      "6050\n"
     ]
    }
   ],
   "source": [
    "def 시그마(n):\n",
    "    count = 0\n",
    "    result = 0\n",
    "    while (count := count + 1) < n + 1:\n",
    "        result += count\n",
    "    return result\n",
    "\n",
    "if (합 := 시그마(100)) == 5050:\n",
    "    print('5050이 출력되었습니다.')\n",
    "else:\n",
    "    print('1부터 정수형태로 입력이 가능합니다.')\n",
    "\n",
    "print(합 + 1000)"
   ]
  },
  {
   "attachments": {},
   "cell_type": "markdown",
   "metadata": {},
   "source": [
    "### 003. 딕셔너리 KeyError 처리"
   ]
  },
  {
   "cell_type": "code",
   "execution_count": 15,
   "metadata": {},
   "outputs": [
    {
     "data": {
      "text/plain": [
       "'수요일'"
      ]
     },
     "execution_count": 15,
     "metadata": {},
     "output_type": "execute_result"
    }
   ],
   "source": [
    "{\n",
    "    0: '일요일',\n",
    "    1: '월요일',\n",
    "    2: '화요일',\n",
    "    3: '수요일',\n",
    "    4: '목요일',\n",
    "    5: '금요일',\n",
    "    6: '토요일'\n",
    "    }[3]"
   ]
  },
  {
   "attachments": {},
   "cell_type": "markdown",
   "metadata": {},
   "source": [
    "- 순서가 있음"
   ]
  },
  {
   "cell_type": "code",
   "execution_count": 16,
   "metadata": {},
   "outputs": [],
   "source": [
    "def 요일구하기(요일):\n",
    "    return { \n",
    "        0: '일요일',\n",
    "        1: '월요일',\n",
    "        2: '화요일',\n",
    "        3: '수요일',\n",
    "        4: '목요일',\n",
    "        5: '금요일',\n",
    "        6: '토요일'\n",
    "    }.get(요일, '요일없음')"
   ]
  },
  {
   "cell_type": "code",
   "execution_count": 17,
   "metadata": {},
   "outputs": [
    {
     "data": {
      "text/plain": [
       "'요일없음'"
      ]
     },
     "execution_count": 17,
     "metadata": {},
     "output_type": "execute_result"
    }
   ],
   "source": [
    "요일구하기(10)"
   ]
  },
  {
   "attachments": {},
   "cell_type": "markdown",
   "metadata": {},
   "source": [
    "### 004. 리스트 append와 리스트컴프리헨션 성능 비교 "
   ]
  },
  {
   "attachments": {},
   "cell_type": "markdown",
   "metadata": {},
   "source": [
    "list append보다 list comprehension이 속도, 메모리 측면에서 유리하다."
   ]
  },
  {
   "attachments": {},
   "cell_type": "markdown",
   "metadata": {},
   "source": [
    "dis 모듈을 사용하면 해당 함수에 대한 바이트 코드를 얻을 수 있음"
   ]
  },
  {
   "cell_type": "code",
   "execution_count": 18,
   "metadata": {},
   "outputs": [
    {
     "name": "stdout",
     "output_type": "stream",
     "text": [
      "  4           0 LOAD_CONST               1 (<code object <listcomp> at 0x7f10902dc660, file \"/tmp/ipykernel_17794/2376238798.py\", line 4>)\n",
      "              2 LOAD_CONST               2 ('테스트.<locals>.<listcomp>')\n",
      "              4 MAKE_FUNCTION            0\n",
      "              6 LOAD_GLOBAL              0 (range)\n",
      "              8 LOAD_CONST               3 (10)\n",
      "             10 CALL_FUNCTION            1\n",
      "             12 GET_ITER\n",
      "             14 CALL_FUNCTION            1\n",
      "             16 STORE_FAST               0 (x)\n",
      "\n",
      "  5          18 LOAD_FAST                0 (x)\n",
      "             20 RETURN_VALUE\n",
      "\n",
      "Disassembly of <code object <listcomp> at 0x7f10902dc660, file \"/tmp/ipykernel_17794/2376238798.py\", line 4>:\n",
      "  4           0 BUILD_LIST               0\n",
      "              2 LOAD_FAST                0 (.0)\n",
      "        >>    4 FOR_ITER                 4 (to 14)\n",
      "              6 STORE_FAST               1 (i)\n",
      "              8 LOAD_FAST                1 (i)\n",
      "             10 LIST_APPEND              2\n",
      "             12 JUMP_ABSOLUTE            2 (to 4)\n",
      "        >>   14 RETURN_VALUE\n"
     ]
    }
   ],
   "source": [
    "import dis\n",
    "\n",
    "def 테스트():\n",
    "    x = [i for i in range(10)]\n",
    "    return x\n",
    "\n",
    "dis.dis(테스트)"
   ]
  },
  {
   "cell_type": "code",
   "execution_count": 19,
   "metadata": {},
   "outputs": [
    {
     "name": "stdout",
     "output_type": "stream",
     "text": [
      "  4           0 BUILD_LIST               0\n",
      "              2 STORE_FAST               0 (x)\n",
      "\n",
      "  5           4 LOAD_GLOBAL              0 (range)\n",
      "              6 LOAD_CONST               1 (10)\n",
      "              8 CALL_FUNCTION            1\n",
      "             10 GET_ITER\n",
      "        >>   12 FOR_ITER                 7 (to 28)\n",
      "             14 STORE_FAST               1 (i)\n",
      "\n",
      "  6          16 LOAD_FAST                0 (x)\n",
      "             18 LOAD_METHOD              1 (append)\n",
      "             20 LOAD_FAST                1 (i)\n",
      "             22 CALL_METHOD              1\n",
      "             24 POP_TOP\n",
      "             26 JUMP_ABSOLUTE            6 (to 12)\n",
      "\n",
      "  7     >>   28 LOAD_FAST                0 (x)\n",
      "             30 RETURN_VALUE\n"
     ]
    }
   ],
   "source": [
    "import dis\n",
    "\n",
    "def 테스트():\n",
    "    x = []\n",
    "    for i in range(10):\n",
    "        x.append(i)\n",
    "    return x\n",
    "\n",
    "dis.dis(테스트)"
   ]
  },
  {
   "attachments": {},
   "cell_type": "markdown",
   "metadata": {},
   "source": [
    "- append가 포함됨"
   ]
  },
  {
   "cell_type": "code",
   "execution_count": 20,
   "metadata": {},
   "outputs": [],
   "source": [
    "# !pip install memory_profiler\n",
    "# !pip install ipython-memory-usage"
   ]
  },
  {
   "cell_type": "code",
   "execution_count": 21,
   "metadata": {},
   "outputs": [],
   "source": [
    "# 메모리 측정은 하지 않음\n",
    "# import memory_profiler\n",
    "# %load_ext memory_profiler\n",
    "\n",
    "# import ipython_memory_usage \n",
    "# import ipython_memory_usage.ipython_memory_usage"
   ]
  },
  {
   "cell_type": "code",
   "execution_count": 22,
   "metadata": {},
   "outputs": [
    {
     "name": "stdout",
     "output_type": "stream",
     "text": [
      "174 ms ± 1.31 ms per loop (mean ± std. dev. of 7 runs, 10 loops each)\n"
     ]
    }
   ],
   "source": [
    "%%timeit #%memit\n",
    "\n",
    "def 테스트(n):\n",
    "    s = []\n",
    "    for i in range(n+1):\n",
    "        i = i**2\n",
    "        s.append(i)\n",
    "    return sum(s)\n",
    "\n",
    "테스트(1000000)"
   ]
  },
  {
   "cell_type": "code",
   "execution_count": 23,
   "metadata": {},
   "outputs": [
    {
     "name": "stdout",
     "output_type": "stream",
     "text": [
      "160 ms ± 570 µs per loop (mean ± std. dev. of 7 runs, 10 loops each)\n"
     ]
    }
   ],
   "source": [
    "%%timeit #%memit\n",
    "\n",
    "def 테스트(n):\n",
    "    s = [i**2 for i in range(n+1)]\n",
    "    return sum(s)\n",
    "\n",
    "테스트(1000000)"
   ]
  },
  {
   "attachments": {},
   "cell_type": "markdown",
   "metadata": {},
   "source": [
    "### 005. sorted의 key 응용"
   ]
  },
  {
   "attachments": {},
   "cell_type": "markdown",
   "metadata": {},
   "source": []
  }
 ],
 "metadata": {
  "kernelspec": {
   "display_name": "base",
   "language": "python",
   "name": "python3"
  },
  "language_info": {
   "codemirror_mode": {
    "name": "ipython",
    "version": 3
   },
   "file_extension": ".py",
   "mimetype": "text/x-python",
   "name": "python",
   "nbconvert_exporter": "python",
   "pygments_lexer": "ipython3",
   "version": "3.10.9"
  },
  "orig_nbformat": 4
 },
 "nbformat": 4,
 "nbformat_minor": 2
}
