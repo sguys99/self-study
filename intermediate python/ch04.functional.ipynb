{
 "cells": [
  {
   "attachments": {},
   "cell_type": "markdown",
   "metadata": {},
   "source": [
    "## 함수형 프로그래밍\n",
    "- https://paullabworkspace.notion.site/Python-a8b9c611beef4740a6372c27a270b70e#c912f945c7d94b9ea9599c32f2f65f7d"
   ]
  },
  {
   "attachments": {},
   "cell_type": "markdown",
   "metadata": {},
   "source": [
    "함수형 프로그래밍   \n",
    "\n",
    "함수형 프로그래밍은 계산을 일련의 함수 호출로 표현하는 패러다임입니다. 함수형 프로그래밍은 **순수 함수(pure functions, 외부 변수를 참조하여 값을 생성 X)**와 **불변성(immutability, list를 아규먼트로 받아서 안에 값을 변경한다던지 하는 작업 X)**에 중점을 둡니다. **이는 함수의 결과가 입력에만 의존하고, 프로그램의 상태를 변경하지 않아야 함을 의미합니다.** 이러한 코딩을 함으로 사이드이팩트(Side Effect, 의도하지 않은 결과)를 방지할 수 있습니다. \n",
    "\n",
    "함수형 프로그래밍의 장점은 **코드의 예측성**, **안전성과 테스트 용이성**입니다. 그러나 함수형 프로그래밍을 완전히 이해하고 사용하는 것은 일부 프로그래머에게 어려울(수학과 관련이 깊습니다.) 수 있습니다."
   ]
  },
  {
   "attachments": {},
   "cell_type": "markdown",
   "metadata": {},
   "source": [
    "절차형 프로그래밍   \n",
    "\n",
    "절차형 프로그래밍은 프로그램을 일련의 절차 또는 단계로 묘사하는 패러다임입니다. 프로그램의 상태는 이러한 절차에 의해 변경됩니다.\n",
    "\n",
    "절차형 프로그래밍은 코드를 재사용하고 구조화하는데 유용하며, 대부분의 프로그래밍 언어가 이 패러다임을 지원합니다. 하지만, **프로그램의 상태를 추적하는 것이 복잡해질 수 있으며**, 이는 복잡한 프로그램에서 버그를 일으키는 원인이 될 수 있습니다."
   ]
  },
  {
   "attachments": {},
   "cell_type": "markdown",
   "metadata": {},
   "source": [
    "객체지향 프로그래밍   \n",
    "\n",
    "객체지향 프로그래밍은 **데이터와 그 데이터를 조작하는 메서드를 하나의 '객체'에 묶는 패러다임**입니다. 이 패러다임은 '클래스'라는 템플릿을 통해 객체를 생성하며, 클래스는 객체의 초기 상태(state)와 가능한 동작(behavior)을 정의합니다.\n",
    "\n",
    "객체지향 프로그래밍은 코드의 재사용성을 높이고, 코드의 구조를 개선하며, 복잡성을 관리하는 데 유용합니다. 그러나, 객체지향 설계와 프로그래밍은 **초기 학습 곡선이 가파르고, 잘못 사용하면 코드의 복잡성을 높일 수 있습니다.**"
   ]
  },
  {
   "attachments": {},
   "cell_type": "markdown",
   "metadata": {},
   "source": [
    "### 일급함수, 고차 함수와 람다 함수"
   ]
  },
  {
   "attachments": {},
   "cell_type": "markdown",
   "metadata": {},
   "source": [
    "일급 함수 (First-Class Function)   \n",
    "\n",
    "일급 함수 (First-Class Function)는 프로그래밍 언어가 함수 (또는 메서드)를 ‘일급 시민(값)'으로 취급하는 것을 의미합니다. 이는 함수를 다른 객체와 동일하게 취급하며, 다음과 같은 동작을 가능하게 합니다:   \n",
    "\n",
    "1. 함수를 변수에 할당할 수 있습니다.  \n",
    "2. 함수를 데이터 구조에 저장할 수 있습니다.  \n",
    "3. 함수를 인자로 다른 함수에 전달할 수 있습니다.  \n",
    "4. 함수를 결과로서 반환할 수 있습니다.  "
   ]
  },
  {
   "attachments": {},
   "cell_type": "markdown",
   "metadata": {},
   "source": [
    "Python은 일급 함수를 지원하는 언어로, 함수를 매우 유연하게 다룰 수 있습니다. 예를 들어, 다음과 같은 동작이 가능합니다:"
   ]
  },
  {
   "cell_type": "code",
   "execution_count": 1,
   "metadata": {},
   "outputs": [
    {
     "name": "stdout",
     "output_type": "stream",
     "text": [
      "Hello Alice\n",
      "HELLO ALICE\n",
      "Hello Alice\n"
     ]
    }
   ],
   "source": [
    "# 함수를 변수에 할당\n",
    "def say_hello(name):\n",
    "    return f\"Hello {name}\"\n",
    "\n",
    "greet = say_hello\n",
    "print(greet(\"Alice\"))  # 출력: Hello Alice\n",
    "\n",
    "# 함수를 다른 함수의 인자로 전달\n",
    "def greet_loudly(greeting_func):\n",
    "    return greeting_func(\"Alice\").upper()\n",
    "\n",
    "print(greet_loudly(greet))  # 출력: HELLO ALICE\n",
    "\n",
    "# 함수를 반환하는 함수\n",
    "def get_greeting_func():\n",
    "    def greet(name):\n",
    "        return f\"Hello {name}\"\n",
    "    return greet\n",
    "\n",
    "greet = get_greeting_func()\n",
    "print(greet(\"Alice\"))  # 출력: Hello Alice"
   ]
  },
  {
   "attachments": {},
   "cell_type": "markdown",
   "metadata": {},
   "source": [
    "고차 함수 (Higher-Order Function)"
   ]
  },
  {
   "attachments": {},
   "cell_type": "markdown",
   "metadata": {},
   "source": [
    "고차 함수 (Higher-Order Function)는 다른 함수를 인자로 받거나, 결과로서 함수를 반환하는 함수를 의미합니다. 이는 '일급 함수'의 특성을 활용하는 프로그래밍 패턴이며, 특히 함수형 프로그래밍에서 많이 사용됩니다.  \n",
    "\n",
    "Python에서는 일급 함수를 지원하기 때문에 고차 함수를 쉽게 사용할 수 있습니다. 예를 들어, `map()`, `filter()`등의 내장 함수는 모두 고차 함수입니다.  \n",
    "\n",
    "다음은 Python에서 고차 함수의 몇 가지 예입니다:"
   ]
  },
  {
   "cell_type": "code",
   "execution_count": 2,
   "metadata": {},
   "outputs": [
    {
     "name": "stdout",
     "output_type": "stream",
     "text": [
      "9\n",
      "8\n",
      "[1, 4, 9, 16]\n"
     ]
    }
   ],
   "source": [
    "# 함수를 인자로 받는 함수\n",
    "def apply_to_three(func):\n",
    "    return func(3)\n",
    "\n",
    "def square(n):\n",
    "    return n ** 2\n",
    "\n",
    "print(apply_to_three(square))  # 출력: 9\n",
    "\n",
    "# 함수를 반환하는 함수\n",
    "def make_adder(n):\n",
    "    def add(x):\n",
    "        return x + n\n",
    "    return add\n",
    "\n",
    "add_five = make_adder(5)\n",
    "print(add_five(3))  # 출력: 8\n",
    "\n",
    "# map 함수는 함수와 반복 가능한 객체를 인자로 받아, 해당 함수를 각 요소에 적용한 결과를 반환하는 고차 함수입니다.\n",
    "numbers = [1, 2, 3, 4]\n",
    "squares = map(square, numbers)\n",
    "print(list(squares))  # 출력: [1, 4, 9, 16]"
   ]
  },
  {
   "attachments": {},
   "cell_type": "markdown",
   "metadata": {},
   "source": [
    "람다 함수"
   ]
  },
  {
   "attachments": {},
   "cell_type": "markdown",
   "metadata": {},
   "source": [
    "람다 함수는 Python의 강력한 기능 중 하나로, 이름이 없는 일회용 함수를 생성하는 데 사용됩니다. `lambda` 키워드를 사용하여 작성되며, 주로 작고 간단한 함수를 필요로 하는 곳에 사용됩니다.\n",
    "\n",
    "람다 함수는 일반 함수(`def`를 사용한 함수)와 비슷하지만, 다음과 같은 차이점이 있습니다:  \n",
    "\n",
    "1. `def` 키워드를 사용하여 함수를 정의하는 대신 `lambda` 키워드를 사용합니다.  \n",
    "2. 람다 함수는 이름이 없습니다 (익명 함수).  \n",
    "3. 람다 함수는 주로 한 줄로 표현되며, 복잡한 로직을 포함하지 않습니다.  \n",
    "\n",
    "람다 함수의 기본적인 구조는 다음과 같습니다:  "
   ]
  },
  {
   "cell_type": "code",
   "execution_count": 3,
   "metadata": {},
   "outputs": [
    {
     "name": "stdout",
     "output_type": "stream",
     "text": [
      "25\n",
      "7\n"
     ]
    }
   ],
   "source": [
    "# 숫자를 받아서 그 제곱을 반환하는 람다 함수\n",
    "square = lambda x: x ** 2\n",
    "print(square(5))  # 출력: 25\n",
    "\n",
    "# 두 숫자를 더하는 람다 함수\n",
    "add = lambda x, y: x + y\n",
    "print(add(3, 4))  # 출력: 7\n"
   ]
  },
  {
   "attachments": {},
   "cell_type": "markdown",
   "metadata": {},
   "source": [
    "람다 함수는 종종 고차 함수의 인자로 전달됩니다. 예를 들어, map(), filter(), reduce() 등의 고차 함수에 람다 함수를 인자로 전달하는 경우가 많습니다:"
   ]
  },
  {
   "cell_type": "code",
   "execution_count": 4,
   "metadata": {},
   "outputs": [
    {
     "data": {
      "text/plain": [
       "<map at 0x7f27d8d8a5f0>"
      ]
     },
     "execution_count": 4,
     "metadata": {},
     "output_type": "execute_result"
    }
   ],
   "source": [
    "numbers = [1,2, 3, 4]\n",
    "squares = map(lambda x: x**2, numbers)\n",
    "squares"
   ]
  },
  {
   "cell_type": "code",
   "execution_count": 5,
   "metadata": {},
   "outputs": [
    {
     "name": "stdout",
     "output_type": "stream",
     "text": [
      "[1, 4, 9, 16]\n"
     ]
    }
   ],
   "source": [
    "print(list(squares))"
   ]
  },
  {
   "attachments": {},
   "cell_type": "markdown",
   "metadata": {},
   "source": [
    "- 이처럼 람다 함수를 사용하면 간단한 로직을 빠르고 쉽게 작성할 수 있습니다.  \n",
    "- 하지만 람다 함수는 간단한 경우에만 사용하는 것이 좋으며, 복잡한 로직을 처리해야 하는 경우에는 일반 함수를 사용하는 것이 가독성에 더 좋습니다."
   ]
  },
  {
   "attachments": {},
   "cell_type": "markdown",
   "metadata": {},
   "source": [
    "### 클로저   \n",
    "클로저는 파이썬에만 있는 개념이 아니라 다른 프로그래밍 언어에서도 중요한 프로그래밍 개념으로, 특정 함수와 그 함수가 생성된 환경을 결합한 것을 의미합니다. Python에서만 factory function이라고도 불립니다. 특히, 클로저는 함수가 생성된 시점의 범위에 있는 모든 변수를 기억하고 이에 접근할 수 있게 합니다."
   ]
  },
  {
   "attachments": {},
   "cell_type": "markdown",
   "metadata": {},
   "source": [
    "Python에서 클로저는 다음의 특징을 가집니다:  \n",
    "\n",
    "1. **함수 내부에 함수가 정의됩니다.** 이러한 내부 함수를 중첩 함수(Nested Function)라고 부릅니다.  \n",
    "2. **내부 함수는 외부 함수의 변수를 참조합니다.**  \n",
    "3. **외부 함수는 내부 함수를 반환합니다.**  "
   ]
  },
  {
   "cell_type": "code",
   "execution_count": 6,
   "metadata": {},
   "outputs": [
    {
     "data": {
      "text/plain": [
       "300"
      ]
     },
     "execution_count": 6,
     "metadata": {},
     "output_type": "execute_result"
    }
   ],
   "source": [
    "# 클로저가 아닌경우\n",
    "def outer_function():\n",
    "    def inner_function():\n",
    "        return 100+100\n",
    "    return inner_function\n",
    "\n",
    "# 클로저인 경우\n",
    "def outer_function(x):\n",
    "    def inner_function(y):\n",
    "        return x + y\n",
    "    return inner_function\n",
    "\n",
    "inner = outer_function(100)\n",
    "inner(200) # inner 입장에서 100을 변경할 수 있는 방법이 없습니다."
   ]
  },
  {
   "attachments": {},
   "cell_type": "markdown",
   "metadata": {},
   "source": [
    "**클로저의 활용**\n",
    "\n",
    "클로저는 다음과 같은 상황에서 유용하게 활용됩니다:\n",
    "\n",
    "1. **데이터 은닉:** 클로저는 외부에서 직접 접근할 수 없는 변수를 '감추는' 방법을 제공합니다. 이를 통해 데이터 은닉과 캡슐화를 구현할 수 있습니다.\n",
    "2. **지연 바인딩 (Late Binding):** 클로저는 함수가 실행될 때 그 함수의 환경을 '기억'합니다. 따라서, 함수의 행동을 호출 시점의 상황에 따라 동적으로 변경하는 것이 가능합니다.\n",
    "3. **함수형 프로그래밍과 데코레이터:** 클로저는 함수를 반환하는 능력 덕분에 고차 함수와 데코레이터의 구현에 필수적입니다. 데코레이터는 원래 함수의 행동을 변경하지 않고 기능을 추가하거나 수정하는 데 사용되는 도구입니다."
   ]
  },
  {
   "attachments": {},
   "cell_type": "markdown",
   "metadata": {},
   "source": [
    "### 데코레이터"
   ]
  },
  {
   "attachments": {},
   "cell_type": "markdown",
   "metadata": {},
   "source": [
    "데코레이터의 작동 원리  \n",
    "데코레이터는 고차 함수(higher-order function)입니다. 고차 함수는 하나 이상의 함수를 인자로 받고, 함수를 결과로 반환하는 함수를 의미합니다. 데코레이터는 하나의 함수를 인자로 받고, 기능이 추가 또는 변경된 새로운 함수를 반환합니다."
   ]
  },
  {
   "cell_type": "code",
   "execution_count": 7,
   "metadata": {},
   "outputs": [],
   "source": [
    "def simple_decorator(function):\n",
    "    def wrapper():\n",
    "        print(\"Before the function call\")\n",
    "        function()\n",
    "        print(\"After the function call\")\n",
    "    return wrapper"
   ]
  },
  {
   "cell_type": "code",
   "execution_count": 8,
   "metadata": {},
   "outputs": [
    {
     "name": "stdout",
     "output_type": "stream",
     "text": [
      "Before the function call\n",
      "Hello, World!\n",
      "After the function call\n"
     ]
    }
   ],
   "source": [
    "@simple_decorator\n",
    "def hello():\n",
    "    print(\"Hello, World!\")\n",
    "\n",
    "hello() # 데코레이터가 없는 상태에서는 simple_decorator(hello)() 와 같습니다."
   ]
  },
  {
   "cell_type": "code",
   "execution_count": 9,
   "metadata": {},
   "outputs": [
    {
     "name": "stdout",
     "output_type": "stream",
     "text": [
      "Before the function call\n",
      "Before the function call\n",
      "Hello, World!\n",
      "After the function call\n",
      "After the function call\n"
     ]
    }
   ],
   "source": [
    "simple_decorator(hello)()"
   ]
  },
  {
   "attachments": {},
   "cell_type": "markdown",
   "metadata": {},
   "source": [
    "실사용 예: sum함수에 문자열이 있을 때 전처리"
   ]
  },
  {
   "cell_type": "code",
   "execution_count": 10,
   "metadata": {},
   "outputs": [
    {
     "name": "stdout",
     "output_type": "stream",
     "text": [
      "Before the function call\n",
      "10\n",
      "After the function call\n"
     ]
    }
   ],
   "source": [
    "def simple_decorator(function):\n",
    "    def wrapper(l):\n",
    "        print(\"Before the function call\")\n",
    "        print(function(map(int, l)))\n",
    "        print(\"After the function call\")\n",
    "    return wrapper\n",
    "\n",
    "@simple_decorator\n",
    "def 합(l):\n",
    "    return sum(l)\n",
    "\n",
    "합([1, 2, 3, '4'])"
   ]
  },
  {
   "attachments": {},
   "cell_type": "markdown",
   "metadata": {},
   "source": [
    "매개변수가 있는 함수의 데코레이터    \n",
    "\n",
    "앞에서 데코레이터를 적용 시킨 함수 `f1`, `f2` 들은 매개변수가 없는 함수들입니다. 만약 매개변수가 포함된 함수에 데코레이터를 적용시키려면 어떻게 해야 할까요?\n",
    "\n",
    "여기 1부터 입력 받은 매개변수 n 까지의 합을 return 하는 함수 `sum_1_to_n`이 있습니다."
   ]
  },
  {
   "cell_type": "code",
   "execution_count": 11,
   "metadata": {},
   "outputs": [
    {
     "name": "stdout",
     "output_type": "stream",
     "text": [
      "sum_1_to_n 함수 시작\n",
      "30\n",
      "sum_1_to_n 함수 끝\n",
      "None\n"
     ]
    }
   ],
   "source": [
    "def debug(function):\n",
    "    def new_function(n):\n",
    "        print(f'{function.__name__} 함수 시작')\n",
    "        print(n)\n",
    "        result = function(n)\n",
    "        print(f'{function.__name__} 함수 끝')\n",
    "\n",
    "    return new_function\n",
    "\n",
    "\n",
    "@debug\n",
    "def sum_1_to_n(n): # n은 sum_1_to_n으로 입력되는 것이 아니라 new_function의 n으로 입력된다.\n",
    "    return n * (n + 1) / 2\n",
    "\n",
    "\n",
    "result = sum_1_to_n(30)\n",
    "\n",
    "print(result)"
   ]
  },
  {
   "attachments": {},
   "cell_type": "markdown",
   "metadata": {},
   "source": [
    "함수가 어떤  형태의 인자를 사용하든 상관없이 사용할 수 있는 데코레이터를 붙이려면 new_function을 다음과 같이 수정해야합니다."
   ]
  },
  {
   "cell_type": "code",
   "execution_count": 12,
   "metadata": {},
   "outputs": [],
   "source": [
    "def debug(function):\n",
    "    def new_function(*args, **kwargs):\n",
    "        print(f'{function.__name__} 함수 시작')\n",
    "        function(*args, **kwargs)\n",
    "        print(f'{function.__name__} 함수 끝')\n",
    "\n",
    "    return new_function"
   ]
  },
  {
   "attachments": {},
   "cell_type": "markdown",
   "metadata": {},
   "source": [
    "리턴 값이 있는 함수의 데코레이터"
   ]
  },
  {
   "cell_type": "code",
   "execution_count": 13,
   "metadata": {},
   "outputs": [
    {
     "name": "stdout",
     "output_type": "stream",
     "text": [
      "sum_1_to_n 함수 시작\n",
      "sum_1_to_n 함수 끝\n",
      "result: 465.0\n"
     ]
    }
   ],
   "source": [
    "def debug(function):\n",
    "    def new_function(*args, **kwargs):\n",
    "        print(f'{function.__name__} 함수 시작')\n",
    "        result = function(*args, **kwargs)\n",
    "        print(f'{function.__name__} 함수 끝')\n",
    "        return result\n",
    "\n",
    "    return new_function\n",
    "\n",
    "\n",
    "@debug\n",
    "def sum_1_to_n(n):\n",
    "    return n * (n + 1) / 2\n",
    "\n",
    "\n",
    "result = sum_1_to_n(30)\n",
    "\n",
    "print(f'result: {result}')"
   ]
  },
  {
   "attachments": {},
   "cell_type": "markdown",
   "metadata": {},
   "source": [
    "**중첩 데코레이터**  \n",
    "\n",
    "하나의 함수에는 아래와 같은 방식으로 여러 개의 데코레이터를 붙일 수 있습니다."
   ]
  },
  {
   "attachments": {},
   "cell_type": "markdown",
   "metadata": {},
   "source": [
    "```python\n",
    "@decorator1\n",
    "@decorator2\n",
    "...\n",
    "@decoratorN\n",
    "def function(*args, **kwargs):\n",
    "    pass\n",
    "```"
   ]
  },
  {
   "cell_type": "code",
   "execution_count": 14,
   "metadata": {},
   "outputs": [],
   "source": [
    "def decorator1(function):\n",
    "    def new_function(*args, **kwargs):\n",
    "        print('첫번째 데코레이터 시작')\n",
    "        result = function(*args, **kwargs)\n",
    "        print('첫번째 데코레이터 끝')\n",
    "        return result\n",
    "\n",
    "    return new_function\n",
    "\n",
    "\n",
    "def decorator2(function):\n",
    "    def new_function(*args, **kwargs):\n",
    "        print('두번째 데코레이터 시작')\n",
    "        result = function(*args, **kwargs)\n",
    "        print('두번째 데코레이터 끝')\n",
    "        return result\n",
    "\n",
    "    return new_function\n",
    "\n",
    "\n",
    "def decorator3(function):\n",
    "    def new_function(*args, **kwargs):\n",
    "        print('세번째 데코레이터 시작')\n",
    "        result = function(*args, **kwargs)\n",
    "        print('세번째 데코레이터 끝')\n",
    "        return result\n",
    "\n",
    "    return new_function"
   ]
  },
  {
   "cell_type": "code",
   "execution_count": 15,
   "metadata": {},
   "outputs": [
    {
     "name": "stdout",
     "output_type": "stream",
     "text": [
      "첫번째 데코레이터 시작\n",
      "두번째 데코레이터 시작\n",
      "세번째 데코레이터 시작\n",
      "세번째 데코레이터 끝\n",
      "두번째 데코레이터 끝\n",
      "첫번째 데코레이터 끝\n",
      "result: 465.0\n"
     ]
    }
   ],
   "source": [
    "@decorator1\n",
    "@decorator2\n",
    "@decorator3\n",
    "def sum_1_to_n(n):\n",
    "    return n * (n + 1) / 2\n",
    "\n",
    "\n",
    "result = sum_1_to_n(30)\n",
    "\n",
    "print(f'result: {result}')"
   ]
  },
  {
   "attachments": {},
   "cell_type": "markdown",
   "metadata": {},
   "source": [
    "다른 실습"
   ]
  },
  {
   "cell_type": "code",
   "execution_count": 16,
   "metadata": {},
   "outputs": [
    {
     "name": "stdout",
     "output_type": "stream",
     "text": [
      "첫번째 데코레이터 시작\n",
      "new_function2\n",
      "두번째 데코레이터 시작\n",
      "new_function3\n",
      "세번째 데코레이터 시작\n",
      "hello\n",
      "hello world\n",
      "세번째 데코레이터 끝\n",
      "두번째 데코레이터 끝\n",
      "첫번째 데코레이터 끝\n"
     ]
    }
   ],
   "source": [
    "def decorator1(function):\n",
    "    def new_function1(f):\n",
    "        print('첫번째 데코레이터 시작')\n",
    "        print(f'{function.__name__}')\n",
    "        function(f)\n",
    "        print('첫번째 데코레이터 끝')\n",
    "    return new_function1\n",
    "\n",
    "\n",
    "def decorator2(function):\n",
    "    def new_function2(f):\n",
    "        print('두번째 데코레이터 시작')\n",
    "        print(f'{function.__name__}')\n",
    "        function(f)\n",
    "        print('두번째 데코레이터 끝')\n",
    "    return new_function2\n",
    "\n",
    "\n",
    "def decorator3(function):\n",
    "    def new_function3(f):\n",
    "        print('세번째 데코레이터 시작')\n",
    "        print(f'{function.__name__}')\n",
    "        function(f)\n",
    "        print('세번째 데코레이터 끝')\n",
    "    return new_function3\n",
    "\n",
    "\n",
    "@decorator1\n",
    "@decorator2\n",
    "@decorator3\n",
    "def hello(value):\n",
    "    print(value)\n",
    "\n",
    "\n",
    "hello('hello world')"
   ]
  },
  {
   "attachments": {},
   "cell_type": "markdown",
   "metadata": {},
   "source": [
    "**동적 데코레이터**\n",
    "\n",
    "다음 코드의 출력 결과를 예상해보고, `add` 데코레이터가 원래 함수 `plus`를 어떤식으로 변경시켰는지 생각해봅시다."
   ]
  },
  {
   "cell_type": "code",
   "execution_count": 17,
   "metadata": {},
   "outputs": [
    {
     "name": "stdout",
     "output_type": "stream",
     "text": [
      "result : 130\n"
     ]
    }
   ],
   "source": [
    "def add(function):\n",
    "\n",
    "    def new_function(*args, **kwargs):\n",
    "        result = function(*args, **kwargs)\n",
    "        return result + 100\n",
    "\n",
    "    return new_function\n",
    "\n",
    "@add\n",
    "def plus(a, b):\n",
    "    return a + b\n",
    "\n",
    "result = plus(10, 20)\n",
    "print(f'result : {result}')"
   ]
  },
  {
   "attachments": {},
   "cell_type": "markdown",
   "metadata": {},
   "source": [
    "원래 함수의 결과에 100을 더하도록 변합니다.\n",
    "\n",
    "그런데 함수의 결과에 100이 아닌 10, 20, 400, 1000을 더하는 데코레이터가 필요하다고 가정합시다. 과연 이 각각의 데코레이터를 따로 작성해야 할까요? 생각만해도 끔찍하네요.\n",
    "\n",
    "하지만 그럴 필요가 없습니다. 비슷한 로직의 데코레이터는 동적으로 생성이 가능합니다."
   ]
  },
  {
   "attachments": {},
   "cell_type": "markdown",
   "metadata": {},
   "source": [
    "add 함수를 다음과 같이 수정합니다."
   ]
  },
  {
   "cell_type": "code",
   "execution_count": 18,
   "metadata": {},
   "outputs": [],
   "source": [
    "def add(n):\n",
    "\n",
    "    def decorator(function):\n",
    "\n",
    "        def new_function(*args, **kwargs):\n",
    "            result = function(*args, **kwargs)\n",
    "            return result + n\n",
    "\n",
    "        return new_function\n",
    "\n",
    "    return decorator"
   ]
  },
  {
   "attachments": {},
   "cell_type": "markdown",
   "metadata": {},
   "source": [
    "형태를 보면 복잡할 수도 있겠습니다. 천천히 잘 생각해봅시다. \n",
    "\n",
    "1. `add` 함수는 `decorator` 함수를 리턴하는 고위 함수 입니다.\n",
    "2. `decorator` 함수는 `function` 함수를 인자로 받아서 `new_function` 함수를 리턴하는 고위 함수 입니다.\n",
    "\n",
    "1, 2 를 종합해보면 `add`함수는 `decorator`라는 **\"고위 함수를 리턴하는 고위 함수\"**입니다. \n",
    "\n",
    "다시 말하면, 인자 `n`을 받아 이를 이용하여, 고위 함수를 동적으로 생성해내는 고위 함수입니다.\n",
    "\n",
    "이제 `plus` 함수에 데코레이터 `@add(원하는 수)`를 붙이고 실행해봅니다."
   ]
  },
  {
   "attachments": {},
   "cell_type": "markdown",
   "metadata": {},
   "source": [
    "**클래스형 데코레이터**\n",
    "\n",
    "이때까지 데코레이터를 함수 형식으로 작성하였으나 클래스 형식으로 제작도 가능합니다.\n",
    "\n",
    "처음에 만들었던 `debug` 데코레이터를 클래스 형식으로 작성하면 다음과 같습니다."
   ]
  },
  {
   "attachments": {},
   "cell_type": "markdown",
   "metadata": {},
   "source": [
    "클래스를 매직 메서드 __call__로 정의해주면 ()로 호출할 수 있게 해준다."
   ]
  },
  {
   "cell_type": "code",
   "execution_count": 19,
   "metadata": {},
   "outputs": [],
   "source": [
    "class Debug:\n",
    "    def __init__(self, function):\n",
    "        self.function = function\n",
    "\n",
    "    def __call__(self, *args, **kwargs):\n",
    "        print(f'{self.function.__name__} 함수 시작')\n",
    "        self.function()\n",
    "        print(f'{self.function.__name__} 함수 끝')"
   ]
  },
  {
   "cell_type": "code",
   "execution_count": 20,
   "metadata": {},
   "outputs": [
    {
     "name": "stdout",
     "output_type": "stream",
     "text": [
      "f1 함수 시작\n",
      "안녕하세요\n",
      "f1 함수 끝\n",
      "f2 함수 시작\n",
      "hello\n",
      "f2 함수 끝\n"
     ]
    }
   ],
   "source": [
    "@Debug\n",
    "def f1():\n",
    "    print('안녕하세요')\n",
    "\n",
    "\n",
    "@Debug\n",
    "def f2():\n",
    "    print('hello')\n",
    "\n",
    "\n",
    "f1()\n",
    "f2()"
   ]
  },
  {
   "attachments": {},
   "cell_type": "markdown",
   "metadata": {},
   "source": [
    "**데코레이터의 활용**\n",
    "\n",
    "데코레이터는 다양한 상황에서 유용하게 사용됩니다. 예를 들어, 함수의 실행 시간을 측정하는 경우, 로깅(logging, 시스템의 작동 정보인 로그(log)를 기록하는 행위)을 수행하는 경우, 사용자의 접근 권한을 확인하는 경우 등에서 데코레이터를 사용할 수 있습니다."
   ]
  },
  {
   "attachments": {},
   "cell_type": "markdown",
   "metadata": {},
   "source": []
  }
 ],
 "metadata": {
  "kernelspec": {
   "display_name": "base",
   "language": "python",
   "name": "python3"
  },
  "language_info": {
   "codemirror_mode": {
    "name": "ipython",
    "version": 3
   },
   "file_extension": ".py",
   "mimetype": "text/x-python",
   "name": "python",
   "nbconvert_exporter": "python",
   "pygments_lexer": "ipython3",
   "version": "3.10.9"
  },
  "orig_nbformat": 4
 },
 "nbformat": 4,
 "nbformat_minor": 2
}
