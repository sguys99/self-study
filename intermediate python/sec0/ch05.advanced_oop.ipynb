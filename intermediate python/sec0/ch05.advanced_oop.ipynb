{
 "cells": [
  {
   "attachments": {},
   "cell_type": "markdown",
   "metadata": {},
   "source": [
    "## 객체지향 심화\n",
    "- https://paullabworkspace.notion.site/Python-a8b9c611beef4740a6372c27a270b70e#c912f945c7d94b9ea9599c32f2f65f7d"
   ]
  },
  {
   "attachments": {},
   "cell_type": "markdown",
   "metadata": {},
   "source": [
    "### 클래스 메서드와 스태틱 메서드"
   ]
  },
  {
   "attachments": {},
   "cell_type": "markdown",
   "metadata": {},
   "source": [
    "Python의 클래스에는 일반적인 인스턴스 메서드(self) 외에도 클래스 메서드와 스태틱 메서드라는 두 가지 특별한 유형의 메서드가 있습니다. 이들 메서드는 @classmethod 와 @staticmethod 데코레이터를 사용하여 정의됩니다."
   ]
  },
  {
   "attachments": {},
   "cell_type": "markdown",
   "metadata": {},
   "source": [
    "**클래스 메서드 (`@classmethod`)**\n",
    "\n",
    "클래스 메서드는 클래스에 작용하는 메서드입니다. 클래스 메서드는 첫 번째 인자로 클래스 자체를 받습니다. 일반적으로 이 인자를 `cls`로 명명합니다. 클래스 메서드는 클래스 상태를 변경하는데 사용될 수 있습니다."
   ]
  },
  {
   "cell_type": "code",
   "execution_count": 1,
   "metadata": {},
   "outputs": [
    {
     "name": "stdout",
     "output_type": "stream",
     "text": [
      "1\n"
     ]
    }
   ],
   "source": [
    "class MyClass:\n",
    "    count = 0\n",
    "\n",
    "    @classmethod\n",
    "    def increment(cls): #self가 없다.\n",
    "        cls.count += 1\n",
    "\n",
    "MyClass.increment()\n",
    "print(MyClass.count)  # 출력: 1"
   ]
  },
  {
   "attachments": {},
   "cell_type": "markdown",
   "metadata": {},
   "source": [
    "**스태틱 메서드 (`@staticmethod`)**\n",
    "\n",
    "스태틱 메서드는 클래스나 인스턴스와는 독립적으로 작동하는 메서드입니다. 스태틱 메서드는 `self`나 `cls` 같은 특별한 첫 번째 인자를 받지 않습니다. 스태틱 메서드는 주로 클래스와 연관은 있지만 인스턴스나 클래스 상태에는 접근하지 않는 메서드에 사용됩니다."
   ]
  },
  {
   "cell_type": "code",
   "execution_count": 2,
   "metadata": {},
   "outputs": [
    {
     "name": "stdout",
     "output_type": "stream",
     "text": [
      "8\n"
     ]
    }
   ],
   "source": [
    "class MyClass:\n",
    "    @staticmethod\n",
    "    def my_method(x, y):\n",
    "        return x + y\n",
    "\n",
    "print(MyClass.my_method(5, 3))  # 출력: 8"
   ]
  },
  {
   "attachments": {},
   "cell_type": "markdown",
   "metadata": {},
   "source": [
    "예제"
   ]
  },
  {
   "cell_type": "code",
   "execution_count": 3,
   "metadata": {},
   "outputs": [],
   "source": [
    "class CompletionList:\n",
    "    def __init__(self):\n",
    "        self.subject_list = []\n",
    "\n",
    "    def show(self):\n",
    "        print(self.subject_list)\n",
    "\n",
    "    def append(self, subject):\n",
    "        self.subject_list.append(subject)\n",
    "\n",
    "    @staticmethod\n",
    "    def academic_warning(subject):\n",
    "\n",
    "        return abs(1.5 - subject['grades'])"
   ]
  },
  {
   "cell_type": "code",
   "execution_count": 4,
   "metadata": {},
   "outputs": [
    {
     "name": "stdout",
     "output_type": "stream",
     "text": [
      "[{'name': 'Python', 'grades': 2.5}, {'name': 'HTML/CSS', 'grades': 3.5}]\n",
      "1.0\n"
     ]
    }
   ],
   "source": [
    "c = CompletionList()\n",
    "\n",
    "subject1 = {\"name\": \"Python\", \"grades\": 2.5}\n",
    "subject2 = {\"name\": \"HTML/CSS\", \"grades\": 3.5}\n",
    "\n",
    "c.append(subject1)\n",
    "c.append(subject2)\n",
    "c.show()\n",
    "\n",
    "print(c.academic_warning(subject1))"
   ]
  },
  {
   "attachments": {},
   "cell_type": "markdown",
   "metadata": {},
   "source": [
    "### 속성 접근자와 덕 타이핑"
   ]
  },
  {
   "attachments": {},
   "cell_type": "markdown",
   "metadata": {},
   "source": [
    "**속성 접근자 (Property)**\n",
    "\n",
    "Python에서는 `@property` 데코레이터를 사용하여 클래스의 메서드를 속성처럼 접근할 수 있게 만들 수 있습니다. 이를 통해 객체의 내부 상태를 보호하고, 특정 속성에 대한 접근을 제어할 수 있습니다."
   ]
  },
  {
   "cell_type": "code",
   "execution_count": 5,
   "metadata": {},
   "outputs": [],
   "source": [
    "class Person:\n",
    "    def __init__(self, first_name, last_name):\n",
    "        self._first_name = first_name\n",
    "        self._last_name = last_name\n",
    "\n",
    "    @property\n",
    "    def full_name(self):\n",
    "        return f\"{self._first_name} {self._last_name}\""
   ]
  },
  {
   "cell_type": "code",
   "execution_count": 6,
   "metadata": {},
   "outputs": [
    {
     "data": {
      "text/plain": [
       "<__main__.Person at 0x7fdadf281d50>"
      ]
     },
     "execution_count": 6,
     "metadata": {},
     "output_type": "execute_result"
    }
   ],
   "source": [
    "hojun = Person('lee', 'hojun')\n",
    "hojun"
   ]
  },
  {
   "cell_type": "code",
   "execution_count": 7,
   "metadata": {},
   "outputs": [
    {
     "data": {
      "text/plain": [
       "'lee'"
      ]
     },
     "execution_count": 7,
     "metadata": {},
     "output_type": "execute_result"
    }
   ],
   "source": [
    "hojun._first_name"
   ]
  },
  {
   "cell_type": "code",
   "execution_count": 8,
   "metadata": {},
   "outputs": [
    {
     "data": {
      "text/plain": [
       "'lee hojun'"
      ]
     },
     "execution_count": 8,
     "metadata": {},
     "output_type": "execute_result"
    }
   ],
   "source": [
    "hojun.full_name"
   ]
  },
  {
   "attachments": {},
   "cell_type": "markdown",
   "metadata": {},
   "source": [
    "- @property 데코레이터가 없다면, full_name() 메서드를 직접 호출해야 합니다."
   ]
  },
  {
   "attachments": {},
   "cell_type": "markdown",
   "metadata": {},
   "source": [
    "**덕 타이핑 (Duck typing)**\n",
    "\n",
    "\"오리처럼 걷고, 오리처럼 꽥꽥대면 그것은 오리다.\"는 덕 타이핑의 원리를 잘 나타내는 문장입니다."
   ]
  },
  {
   "cell_type": "code",
   "execution_count": null,
   "metadata": {},
   "outputs": [],
   "source": []
  },
  {
   "attachments": {},
   "cell_type": "markdown",
   "metadata": {},
   "source": [
    "### 추상 클래스와 인터페이스"
   ]
  },
  {
   "attachments": {},
   "cell_type": "markdown",
   "metadata": {},
   "source": [
    "**추상 클래스 (Abstract Base Class, ABC)**\n",
    "\n",
    "Python에서 추상 클래스는 기본적으로 구현하지 않아도 되는 메서드(추상 메서드)를 가진 클래스입니다. 이들은 서브클래스에서 **반드시 구현해야 하는 메서드를 정의**하는데 사용됩니다. Python에서는 `abc` 모듈의 `ABC` 클래스와 `abstractmethod` 데코레이터를 사용하여 추상 클래스와 추상 메서드를 정의합니다.\n",
    "\n",
    "아래와 같이 정의하면 error가 납니다."
   ]
  },
  {
   "cell_type": "code",
   "execution_count": 9,
   "metadata": {},
   "outputs": [
    {
     "ename": "TypeError",
     "evalue": "Can't instantiate abstract class Person with abstract method do_something",
     "output_type": "error",
     "traceback": [
      "\u001b[0;31m---------------------------------------------------------------------------\u001b[0m",
      "\u001b[0;31mTypeError\u001b[0m                                 Traceback (most recent call last)",
      "Cell \u001b[0;32mIn[9], line 17\u001b[0m\n\u001b[1;32m     14\u001b[0m     \u001b[39mdef\u001b[39;00m \u001b[39mprint_name\u001b[39m(\u001b[39mself\u001b[39m):\n\u001b[1;32m     15\u001b[0m         \u001b[39mprint\u001b[39m(\u001b[39mf\u001b[39m\u001b[39m'\u001b[39m\u001b[39m제 이름은 \u001b[39m\u001b[39m{\u001b[39;00m\u001b[39mself\u001b[39m\u001b[39m.\u001b[39mname\u001b[39m}\u001b[39;00m\u001b[39m입니다.\u001b[39m\u001b[39m'\u001b[39m)\n\u001b[0;32m---> 17\u001b[0m hojun \u001b[39m=\u001b[39m Person(\u001b[39m'\u001b[39;49m\u001b[39mhojun\u001b[39;49m\u001b[39m'\u001b[39;49m)\n\u001b[1;32m     18\u001b[0m hojun\u001b[39m.\u001b[39mprint_name()\n",
      "\u001b[0;31mTypeError\u001b[0m: Can't instantiate abstract class Person with abstract method do_something"
     ]
    }
   ],
   "source": [
    "from abc import ABC, abstractmethod\n",
    "\n",
    "class AbstractClassExample(ABC):\n",
    "\n",
    "    @abstractmethod\n",
    "    def do_something(self):\n",
    "        pass\n",
    "\n",
    "class Person(AbstractClassExample):\n",
    "\n",
    "    def __init__(self, name):\n",
    "        self.name = name\n",
    "\n",
    "    def print_name(self):\n",
    "        print(f'제 이름은 {self.name}입니다.')\n",
    "\n",
    "hojun = Person('hojun')\n",
    "hojun.print_name()"
   ]
  },
  {
   "cell_type": "code",
   "execution_count": 10,
   "metadata": {},
   "outputs": [
    {
     "name": "stdout",
     "output_type": "stream",
     "text": [
      "제 이름은 hojun입니다.\n"
     ]
    }
   ],
   "source": [
    "from abc import ABC, abstractmethod\n",
    "\n",
    "class AbstractClassExample(ABC):\n",
    "\n",
    "    @abstractmethod\n",
    "    def do_something(self):\n",
    "        pass\n",
    "\n",
    "class Person(AbstractClassExample):\n",
    "\n",
    "    def __init__(self, name):\n",
    "        self.name = name\n",
    "\n",
    "    def print_name(self):\n",
    "        print(f'제 이름은 {self.name}입니다.')\n",
    "\n",
    "    def do_something(self):\n",
    "        pass\n",
    "\n",
    "hojun = Person('hojun')\n",
    "hojun.print_name()"
   ]
  },
  {
   "attachments": {},
   "cell_type": "markdown",
   "metadata": {},
   "source": [
    "- 또한 추상 클래스는 인스턴스로 만들 수 없다는 점도 꼭 기억해두세요."
   ]
  },
  {
   "attachments": {},
   "cell_type": "markdown",
   "metadata": {},
   "source": [
    "연산자 오버로딩과 오버라이딩\n",
    "\n",
    "- 연산자 오버라이딩 : 부모 클래스에서 정의한 메소드를 자식 클래스에서 변경하는 것\n",
    "- 연산자 오버로딩 : 동일한 이름의 함수를 매개변수에 따라 다른 기능으로 동작"
   ]
  },
  {
   "cell_type": "code",
   "execution_count": 11,
   "metadata": {},
   "outputs": [
    {
     "ename": "TypeError",
     "evalue": "Cal.add() missing 1 required positional argument: 'c'",
     "output_type": "error",
     "traceback": [
      "\u001b[0;31m---------------------------------------------------------------------------\u001b[0m",
      "\u001b[0;31mTypeError\u001b[0m                                 Traceback (most recent call last)",
      "Cell \u001b[0;32mIn[11], line 14\u001b[0m\n\u001b[1;32m     11\u001b[0m         \u001b[39mpass\u001b[39;00m\n\u001b[1;32m     13\u001b[0m c \u001b[39m=\u001b[39m Cal()\n\u001b[0;32m---> 14\u001b[0m c\u001b[39m.\u001b[39;49madd(\u001b[39m10\u001b[39;49m)\n\u001b[1;32m     15\u001b[0m c\u001b[39m.\u001b[39madd(\u001b[39m10\u001b[39m, \u001b[39m20\u001b[39m)\n\u001b[1;32m     16\u001b[0m c\u001b[39m.\u001b[39madd(\u001b[39m10\u001b[39m, \u001b[39m20\u001b[39m, \u001b[39m30\u001b[39m)\n",
      "\u001b[0;31mTypeError\u001b[0m: Cal.add() missing 1 required positional argument: 'c'"
     ]
    }
   ],
   "source": [
    "# python에서는 오버로딩을 허용하지 않습니다. 다만 비슷하게 구현하자면 아래와 같습니다. 각각 다른 함수가 호출되게 하는 기법입니다.\n",
    "\n",
    "class Cal:\n",
    "    def add(a):\n",
    "        pass\n",
    "\n",
    "    def add(a, b):\n",
    "        pass\n",
    "\n",
    "    def add(a, b, c):\n",
    "        pass\n",
    "\n",
    "c = Cal()\n",
    "c.add(10)\n",
    "c.add(10, 20)\n",
    "c.add(10, 20, 30)"
   ]
  },
  {
   "attachments": {},
   "cell_type": "markdown",
   "metadata": {},
   "source": [
    "**인터페이스**\n",
    "\n",
    "인터페이스는 객체가 어떤 메서드를 구현해야 하는지 정의한 것입니다. **Python에서는 다른 언어들과 달리 인터페이스라는 내장 키워드나 구조가 없습니다.** 그러나 추상 클래스를 이용하여 인터페이스처럼 동작하는 클래스를 만들 수 있습니다."
   ]
  },
  {
   "cell_type": "code",
   "execution_count": 12,
   "metadata": {},
   "outputs": [],
   "source": [
    "from abc import ABC, abstractmethod\n",
    "\n",
    "class MyInterface(ABC):\n",
    "\n",
    "    @abstractmethod\n",
    "    def method1(self):\n",
    "        pass\n",
    "\n",
    "    @abstractmethod\n",
    "    def method2(self):\n",
    "        pass"
   ]
  },
  {
   "attachments": {},
   "cell_type": "markdown",
   "metadata": {},
   "source": [
    "**결론**\n",
    "\n",
    "추상 클래스와 인터페이스는 객체지향 프로그래밍에서 중요한 개념입니다. 추상 클래스를 이용하면 어떤 메서드가 서브 클래스에서 반드시 구현되어야 하는지 지정할 수 있으며, 인터페이스를 이용하면 어떤 클래스가 특정 메서드를 구현하도록 강제할 수 있습니다. 이 두 개념은 클래스의 행동을 정의하고 코드의 구조를 제어하는 데 매우 유용합니다."
   ]
  },
  {
   "attachments": {},
   "cell_type": "markdown",
   "metadata": {},
   "source": []
  }
 ],
 "metadata": {
  "kernelspec": {
   "display_name": "base",
   "language": "python",
   "name": "python3"
  },
  "language_info": {
   "codemirror_mode": {
    "name": "ipython",
    "version": 3
   },
   "file_extension": ".py",
   "mimetype": "text/x-python",
   "name": "python",
   "nbconvert_exporter": "python",
   "pygments_lexer": "ipython3",
   "version": "3.10.9"
  },
  "orig_nbformat": 4
 },
 "nbformat": 4,
 "nbformat_minor": 2
}
