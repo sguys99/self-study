{
 "cells": [
  {
   "attachments": {},
   "cell_type": "markdown",
   "metadata": {},
   "source": [
    "## 비동기 프로그래밍\n",
    "- https://paullabworkspace.notion.site/Python-a8b9c611beef4740a6372c27a270b70e#c912f945c7d94b9ea9599c32f2f65f7d"
   ]
  },
  {
   "attachments": {},
   "cell_type": "markdown",
   "metadata": {},
   "source": [
    "### 동기 vs 비동기 프로그래밍 개념"
   ]
  },
  {
   "attachments": {},
   "cell_type": "markdown",
   "metadata": {},
   "source": [
    "Google Colab의 환경에서는 이미 기본적으로 이벤트 루프가 실행 중입니다. 이 이벤트 루프는 Google Colab 환경의 비동기 작업을 처리하기 위해 사용됩니다. 그러므로, Google Colab에서는 asyncio.run() 함수를 직접 호출하면 \"cannot be called from a running event loop\"와 같은 에러 메시지가 출력됩니다. 이를 해결하려면 아래와 같은 코드를 추가해야 합니다."
   ]
  },
  {
   "cell_type": "code",
   "execution_count": 1,
   "metadata": {},
   "outputs": [
    {
     "name": "stdout",
     "output_type": "stream",
     "text": [
      "Requirement already satisfied: nest_asyncio in /home/sguys99/anaconda3/lib/python3.10/site-packages (1.5.6)\n"
     ]
    }
   ],
   "source": [
    "!pip install nest_asyncio"
   ]
  },
  {
   "cell_type": "code",
   "execution_count": 2,
   "metadata": {},
   "outputs": [],
   "source": [
    "import nest_asyncio\n",
    "\n",
    "nest_asyncio.apply()"
   ]
  },
  {
   "cell_type": "code",
   "execution_count": 3,
   "metadata": {},
   "outputs": [
    {
     "name": "stdout",
     "output_type": "stream",
     "text": [
      "Job 1 started\n",
      "Job 1 completed\n",
      "Job 2 started\n",
      "Job 2 completed\n",
      "Job 3 started\n",
      "Job 3 completed\n"
     ]
    }
   ],
   "source": [
    "import time\n",
    "\n",
    "def job(number):\n",
    "    print(f\"Job {number} started\")\n",
    "    time.sleep(1)  # 매우 오래 걸리는 작업, 일반 sleep은 CPU를 쉬게 합니다.\n",
    "    print(f\"Job {number} completed\")\n",
    "\n",
    "job(1)\n",
    "job(2)\n",
    "job(3)"
   ]
  },
  {
   "attachments": {},
   "cell_type": "markdown",
   "metadata": {},
   "source": [
    "비동기 프로그래밍: 동시에 여러 작업을 진행할 수 있습니다. 이때, 이벤트 루프와 콜백 함수 등을 활용하여 작업을 관리합니다."
   ]
  },
  {
   "cell_type": "code",
   "execution_count": 4,
   "metadata": {},
   "outputs": [
    {
     "name": "stdout",
     "output_type": "stream",
     "text": [
      "Job 1 started\n",
      "Job 2 started\n",
      "Job 3 started\n",
      "Job 1 completed\n",
      "Job 2 completed\n",
      "Job 3 completed\n",
      "hello world\n"
     ]
    }
   ],
   "source": [
    "import asyncio\n",
    "\n",
    "async def job(number):\n",
    "    print(f\"Job {number} started\")\n",
    "    await asyncio.sleep(1) # 매우 오래 걸리는 작업, asyncio.sleep은 비동기 처리를 할 수 있도록 합니다.(다른 작업이 가능합니다.)\n",
    "    print(f\"Job {number} completed\")\n",
    "\n",
    "async def main():\n",
    "    await asyncio.gather(job(1), job(2), job(3)) # await asyncio.wait([job(1), job(2), job(3)])\n",
    "\n",
    "asyncio.run(main())\n",
    "print('hello world')\n",
    "    "
   ]
  },
  {
   "attachments": {},
   "cell_type": "markdown",
   "metadata": {},
   "source": [
    "아래와 같이 비동기 프로그래밍을 동기로 만들 수 있습니다."
   ]
  },
  {
   "cell_type": "code",
   "execution_count": 5,
   "metadata": {},
   "outputs": [
    {
     "name": "stdout",
     "output_type": "stream",
     "text": [
      "Job 1 started\n",
      "Job 1 completed\n",
      "Job 2 started\n",
      "Job 2 completed\n",
      "Job 3 started\n",
      "Job 3 completed\n"
     ]
    }
   ],
   "source": [
    "import asyncio\n",
    "\n",
    "async def job(number):\n",
    "    print(f\"Job {number} started\")\n",
    "    await asyncio.sleep(1)  # 매우 오래 걸리는 작업\n",
    "    print(f\"Job {number} completed\")\n",
    "\n",
    "asyncio.run(job(1))\n",
    "asyncio.run(job(2))\n",
    "asyncio.run(job(3))"
   ]
  },
  {
   "attachments": {},
   "cell_type": "markdown",
   "metadata": {},
   "source": [
    "### 코루틴"
   ]
  },
  {
   "attachments": {},
   "cell_type": "markdown",
   "metadata": {},
   "source": [
    "다음은 일반 함수입니다."
   ]
  },
  {
   "cell_type": "code",
   "execution_count": 6,
   "metadata": {},
   "outputs": [],
   "source": [
    "def job():\n",
    "    print('job')"
   ]
  },
  {
   "attachments": {},
   "cell_type": "markdown",
   "metadata": {},
   "source": [
    "아래 코드는 async를 붙인 함수, 코루틴 함수입니다. await 키워드를 만나면 코루틴 실행을 잠시 중단하고, 코루틴의 작업이 완료될 때까지 기다린 후 결과를 반환합니다."
   ]
  },
  {
   "cell_type": "code",
   "execution_count": 7,
   "metadata": {},
   "outputs": [],
   "source": [
    "async def job():\n",
    "    print('job')\n"
   ]
  },
  {
   "cell_type": "code",
   "execution_count": 8,
   "metadata": {},
   "outputs": [
    {
     "data": {
      "text/plain": [
       "<coroutine object job at 0x7fb10860e5e0>"
      ]
     },
     "execution_count": 8,
     "metadata": {},
     "output_type": "execute_result"
    }
   ],
   "source": [
    "job()"
   ]
  },
  {
   "attachments": {},
   "cell_type": "markdown",
   "metadata": {},
   "source": [
    "- job이 실행되지 않는다."
   ]
  },
  {
   "cell_type": "code",
   "execution_count": 9,
   "metadata": {},
   "outputs": [
    {
     "name": "stdout",
     "output_type": "stream",
     "text": [
      "job\n"
     ]
    }
   ],
   "source": [
    "await job()"
   ]
  },
  {
   "cell_type": "code",
   "execution_count": 10,
   "metadata": {},
   "outputs": [],
   "source": [
    "async def job():\n",
    "    return 100"
   ]
  },
  {
   "cell_type": "code",
   "execution_count": 11,
   "metadata": {},
   "outputs": [
    {
     "data": {
      "text/plain": [
       "<coroutine object job at 0x7fb10860e500>"
      ]
     },
     "execution_count": 11,
     "metadata": {},
     "output_type": "execute_result"
    }
   ],
   "source": [
    "job()"
   ]
  },
  {
   "cell_type": "code",
   "execution_count": 12,
   "metadata": {},
   "outputs": [
    {
     "data": {
      "text/plain": [
       "100"
      ]
     },
     "execution_count": 12,
     "metadata": {},
     "output_type": "execute_result"
    }
   ],
   "source": [
    "await job()"
   ]
  },
  {
   "attachments": {},
   "cell_type": "markdown",
   "metadata": {},
   "source": [
    "코루틴과 관련된 주요 개념은 다음과 같습니다:\n",
    "\n",
    "- `async def`: 코루틴 함수를 선언하는 데 사용됩니다. 이 함수는 비동기적으로 실행될 수 있는 코루틴 객체를 반환합니다.\n",
    "- `await`: 코루틴의 작업이 완료될 때까지 기다린 후 결과를 반환합니다.\n",
    "- `asyncio.run()`: 코루틴을 실행하는 함수입니다. 이벤트 루프를 생성하고, 주어진 코루틴을 실행한 후 이벤트 루프를 닫습니다.\n",
    "- `asyncio.gather()`: 여러 코루틴을 동시에 실행하도록 스케줄링하는 함수입니다.\n",
    "\n",
    "참고로, 코루틴은 파이썬 3.5부터 `async` / `await` 구문을 통해 지원되기 시작했습니다."
   ]
  },
  {
   "attachments": {},
   "cell_type": "markdown",
   "metadata": {},
   "source": [
    "중요"
   ]
  },
  {
   "attachments": {},
   "cell_type": "markdown",
   "metadata": {},
   "source": [
    ".py 파일에서는 await이 함수 밖에 사용되는 것을 허락하지 않습니다."
   ]
  },
  {
   "cell_type": "code",
   "execution_count": 13,
   "metadata": {},
   "outputs": [
    {
     "name": "stdout",
     "output_type": "stream",
     "text": [
      "Job 1 started\n",
      "Job 1 completed\n",
      "Job 2 started\n",
      "Job 2 completed\n",
      "Job 3 started\n",
      "Job 3 completed\n"
     ]
    }
   ],
   "source": [
    "# 주피터\n",
    "import asyncio\n",
    "\n",
    "async def job(number):\n",
    "    print(f\"Job {number} started\")\n",
    "    await asyncio.sleep(1)  # 매우 오래 걸리는 작업\n",
    "    print(f\"Job {number} completed\")\n",
    "\n",
    "await job(1)\n",
    "await job(2)\n",
    "await job(3)"
   ]
  },
  {
   "attachments": {},
   "cell_type": "markdown",
   "metadata": {},
   "source": [
    "다음 코드는 .py 파일에서 위와 동일하게 작동하는 코드입니다."
   ]
  },
  {
   "cell_type": "code",
   "execution_count": null,
   "metadata": {},
   "outputs": [],
   "source": [
    "import asyncio\n",
    "\n",
    "async def job(number):\n",
    "    print(f\"Job {number} started\")\n",
    "    await asyncio.sleep(1)  # 매우 오래 걸리는 작업\n",
    "    print(f\"Job {number} completed\")\n",
    "\n",
    "async def main():\n",
    "    await job(1)\n",
    "    await job(2)\n",
    "    await job(3)\n",
    "\n",
    "asyncio.run(main())"
   ]
  }
 ],
 "metadata": {
  "kernelspec": {
   "display_name": "base",
   "language": "python",
   "name": "python3"
  },
  "language_info": {
   "codemirror_mode": {
    "name": "ipython",
    "version": 3
   },
   "file_extension": ".py",
   "mimetype": "text/x-python",
   "name": "python",
   "nbconvert_exporter": "python",
   "pygments_lexer": "ipython3",
   "version": "3.10.9"
  },
  "orig_nbformat": 4
 },
 "nbformat": 4,
 "nbformat_minor": 2
}
