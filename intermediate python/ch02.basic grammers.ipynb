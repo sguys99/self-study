{
 "cells": [
  {
   "attachments": {},
   "cell_type": "markdown",
   "metadata": {},
   "source": [
    "## 업데이트 문법\n",
    "- https://paullabworkspace.notion.site/Python-a8b9c611beef4740a6372c27a270b70e#c912f945c7d94b9ea9599c32f2f65f7d"
   ]
  },
  {
   "attachments": {},
   "cell_type": "markdown",
   "metadata": {},
   "source": [
    "### dataclasses"
   ]
  },
  {
   "cell_type": "code",
   "execution_count": 43,
   "metadata": {},
   "outputs": [],
   "source": [
    "# id, name, email이 각각 3번씩 반복\n",
    "# -> 이러한 현상을  보일러 플레이트(boiler-plate)라 함\n",
    "# -> print를 해도 필드값이 보이지 않아 불편\n",
    "class User:\n",
    "    def __init__(self, id, name, email):\n",
    "        self.id = id\n",
    "        self.name = name\n",
    "        self.email = email"
   ]
  },
  {
   "cell_type": "code",
   "execution_count": 44,
   "metadata": {},
   "outputs": [
    {
     "data": {
      "text/plain": [
       "<__main__.User at 0x7fa344197250>"
      ]
     },
     "execution_count": 44,
     "metadata": {},
     "output_type": "execute_result"
    }
   ],
   "source": [
    "user = User(123, 'hojun', 'hojun@gmail')\n",
    "user"
   ]
  },
  {
   "cell_type": "code",
   "execution_count": 45,
   "metadata": {},
   "outputs": [],
   "source": [
    "# id, name, email이 각각 3번씩 반복\n",
    "# -> 이러한 현상을  보일러 플레이트(boiler-plate)라 함\n",
    "# -> print를 해도 필드값이 보이지 않아 불편\n",
    "class User:\n",
    "    def __init__(self, id, name, email):\n",
    "        self.id = id\n",
    "        self.name = name\n",
    "        self.email = email\n",
    "\n",
    "    def __repr__(self):\n",
    "        return (f'{self.__class__.__qualname__}{self.id, self.name, self.email}')\n",
    "\n",
    "# __repre__ 과같은 매직 메서드를 만들면 필드 확인 가능"
   ]
  },
  {
   "cell_type": "code",
   "execution_count": 46,
   "metadata": {},
   "outputs": [
    {
     "data": {
      "text/plain": [
       "User(123, 'kmyu', 'sguys99@gmail.com')"
      ]
     },
     "execution_count": 46,
     "metadata": {},
     "output_type": "execute_result"
    }
   ],
   "source": [
    "\n",
    "user1 = User(123, 'kmyu', 'sguys99@gmail.com')\n",
    "user1\n",
    "# User(123, 'hojun', 'hojun@gmail')"
   ]
  },
  {
   "attachments": {},
   "cell_type": "markdown",
   "metadata": {},
   "source": [
    "위와 동일한 dataclass 데코레이터를 사용"
   ]
  },
  {
   "cell_type": "code",
   "execution_count": 47,
   "metadata": {},
   "outputs": [
    {
     "data": {
      "text/plain": [
       "User(id=123, name='kmyu', email='sguys99@gmail.com')"
      ]
     },
     "execution_count": 47,
     "metadata": {},
     "output_type": "execute_result"
    }
   ],
   "source": [
    "from dataclasses import dataclass\n",
    "\n",
    "@dataclass\n",
    "class User:\n",
    "    id: int\n",
    "    name: str\n",
    "    email: str\n",
    "    \n",
    "user2 = User(123, 'kmyu', 'sguys99@gmail.com')\n",
    "user2"
   ]
  },
  {
   "attachments": {},
   "cell_type": "markdown",
   "metadata": {},
   "source": [
    "이 데코레이터는 __init__, __repr__, __eq__ 등의 특별한 메서드를 자동으로 추가합니다."
   ]
  },
  {
   "cell_type": "code",
   "execution_count": 48,
   "metadata": {},
   "outputs": [
    {
     "data": {
      "text/plain": [
       "False"
      ]
     },
     "execution_count": 48,
     "metadata": {},
     "output_type": "execute_result"
    }
   ],
   "source": [
    "user1 == user2"
   ]
  },
  {
   "attachments": {},
   "cell_type": "markdown",
   "metadata": {},
   "source": [
    "### 딕셔너리 결합연산자"
   ]
  },
  {
   "cell_type": "code",
   "execution_count": 49,
   "metadata": {},
   "outputs": [
    {
     "data": {
      "text/plain": [
       "{'key1': 'value1', 'key2': 'value2'}"
      ]
     },
     "execution_count": 49,
     "metadata": {},
     "output_type": "execute_result"
    }
   ],
   "source": [
    "x = {\"key1\": \"value1\"}\n",
    "y = {\"key2\": \"value2\"}\n",
    "z = x | y\n",
    "z"
   ]
  },
  {
   "attachments": {},
   "cell_type": "markdown",
   "metadata": {},
   "source": [
    "결합연산자"
   ]
  },
  {
   "cell_type": "code",
   "execution_count": 50,
   "metadata": {},
   "outputs": [
    {
     "data": {
      "text/plain": [
       "{'key1': 'value1', 'key2': 'value2'}"
      ]
     },
     "execution_count": 50,
     "metadata": {},
     "output_type": "execute_result"
    }
   ],
   "source": [
    "x = {\"key1\": \"value1\"}\n",
    "y = {\"key2\": \"value2\"}\n",
    "x |=  y\n",
    "x"
   ]
  },
  {
   "attachments": {},
   "cell_type": "markdown",
   "metadata": {},
   "source": [
    "또 다른 방법: unpacking하여 결합"
   ]
  },
  {
   "cell_type": "code",
   "execution_count": 51,
   "metadata": {},
   "outputs": [
    {
     "data": {
      "text/plain": [
       "{'key1': 'value1', 'key2': 'value2'}"
      ]
     },
     "execution_count": 51,
     "metadata": {},
     "output_type": "execute_result"
    }
   ],
   "source": [
    "x = {\"key1\": \"value1\"}\n",
    "y = {\"key2\": \"value2\"}\n",
    "z = {**x, **y}\n",
    "z"
   ]
  },
  {
   "attachments": {},
   "cell_type": "markdown",
   "metadata": {},
   "source": [
    "### 왈러스 연산자"
   ]
  },
  {
   "attachments": {},
   "cell_type": "markdown",
   "metadata": {},
   "source": [
    "기본 사용법"
   ]
  },
  {
   "cell_type": "code",
   "execution_count": 52,
   "metadata": {},
   "outputs": [
    {
     "name": "stdout",
     "output_type": "stream",
     "text": [
      "20\n",
      "10\n"
     ]
    }
   ],
   "source": [
    "# 기본적인 왈러스 연산자의 사용\n",
    "x = (n := 10) * 2\n",
    "print(x)  # 출력: 20\n",
    "print(n)  # 출력: 10"
   ]
  },
  {
   "attachments": {},
   "cell_type": "markdown",
   "metadata": {},
   "source": [
    "어디에 쓰나?"
   ]
  },
  {
   "cell_type": "code",
   "execution_count": 53,
   "metadata": {},
   "outputs": [
    {
     "name": "stdout",
     "output_type": "stream",
     "text": [
      "8\n"
     ]
    }
   ],
   "source": [
    "def add(a, b):\n",
    "    return a + b\n",
    "\n",
    "if (sum:= add(3, 5)) == 8:\n",
    "    print(sum)"
   ]
  },
  {
   "attachments": {},
   "cell_type": "markdown",
   "metadata": {},
   "source": [
    "- 합산의 결과를 저장하는 구문을 생략가능"
   ]
  },
  {
   "cell_type": "code",
   "execution_count": 54,
   "metadata": {},
   "outputs": [
    {
     "name": "stdout",
     "output_type": "stream",
     "text": [
      "1\n",
      "2\n",
      "3\n",
      "4\n",
      "5\n",
      "6\n",
      "7\n",
      "8\n",
      "9\n"
     ]
    }
   ],
   "source": [
    "n=0\n",
    "while (n:= n+1) < 10:\n",
    "    print(n)"
   ]
  },
  {
   "cell_type": "code",
   "execution_count": 55,
   "metadata": {},
   "outputs": [
    {
     "name": "stdout",
     "output_type": "stream",
     "text": [
      "20\n",
      "10\n"
     ]
    }
   ],
   "source": [
    "# 기본적인 왈러스 연산자의 사용\n",
    "x = (n := 10) * 2\n",
    "print(x)  # 출력: 20\n",
    "print(n)  # 출력: 10"
   ]
  },
  {
   "cell_type": "code",
   "execution_count": 56,
   "metadata": {},
   "outputs": [
    {
     "name": "stdout",
     "output_type": "stream",
     "text": [
      "6\n",
      "10\n",
      "6\n",
      "9\n",
      "6\n",
      "1\n",
      "6\n",
      "8\n",
      "9\n"
     ]
    }
   ],
   "source": [
    "# 왈러스 연산자가 없을 때의 코드\n",
    "import random\n",
    "\n",
    "while True:\n",
    "    x = random.randint(0, 10)\n",
    "    if x == 7:\n",
    "        break\n",
    "    print(x)"
   ]
  },
  {
   "cell_type": "code",
   "execution_count": 57,
   "metadata": {},
   "outputs": [
    {
     "name": "stdout",
     "output_type": "stream",
     "text": [
      "4\n",
      "10\n",
      "6\n",
      "4\n",
      "1\n",
      "0\n",
      "8\n",
      "9\n",
      "10\n",
      "5\n",
      "8\n",
      "3\n",
      "10\n",
      "9\n",
      "1\n",
      "1\n",
      "3\n",
      "3\n",
      "10\n",
      "9\n",
      "2\n",
      "5\n",
      "10\n",
      "5\n",
      "1\n",
      "3\n",
      "0\n",
      "4\n",
      "6\n",
      "0\n",
      "9\n",
      "0\n",
      "8\n",
      "10\n"
     ]
    }
   ],
   "source": [
    "# 왈러스 연산자를 사용한 코드\n",
    "import random\n",
    "\n",
    "while (x := random.randint(0, 10)) != 7:\n",
    "    print(x)"
   ]
  },
  {
   "attachments": {},
   "cell_type": "markdown",
   "metadata": {},
   "source": [
    "- 왈러스 연산자는 할당 연산자 `=`과 비슷하지만, 활용 범위와 용도가 다르므로 주의해야 합니다.\n",
    "- 코드의 가독성을 위해 복잡한 표현식 내에서 왈러스 연산자의 남용을 피해야 합니다. 복잡한 한 줄 코드보다는 여러 줄에 걸친 명확한 코드가 유지보수와 이해에 더 좋을 수 있습니다.\n",
    "\n",
    "- 이렇게 왈러스 연산자를 통해 코드의 효율성과 가독성을 높일 수 있습니다. 그러나 남용하게 되면 코드의 가독성을 오히려 떨어뜨릴 수 있으므로 적절한 균형이 중요합니다."
   ]
  },
  {
   "attachments": {},
   "cell_type": "markdown",
   "metadata": {},
   "source": [
    "### f-string"
   ]
  },
  {
   "attachments": {},
   "cell_type": "markdown",
   "metadata": {},
   "source": [
    "주의해야할 점 위주로 설명"
   ]
  },
  {
   "attachments": {},
   "cell_type": "markdown",
   "metadata": {},
   "source": [
    "포매팅 지정자 사용하기\n",
    "- f-string에서는 {} 안에서 :를 사용하여 포맷팅을 지정할 수 있습니다. 이를 통해 소수점 아래 자릿수를 지정하거나, 정렬 방법을 지정하는 등의 포매팅을 할 수 있습니다."
   ]
  },
  {
   "cell_type": "code",
   "execution_count": 58,
   "metadata": {},
   "outputs": [
    {
     "name": "stdout",
     "output_type": "stream",
     "text": [
      "3.14\n",
      "     Alice\n"
     ]
    }
   ],
   "source": [
    "num = 3.14159\n",
    "print(f\"{num:.2f}\")  # 출력: 3.14\n",
    "\n",
    "name = \"Alice\"\n",
    "print(f\"{name:>10}\")  # 출력:      Alice"
   ]
  },
  {
   "cell_type": "code",
   "execution_count": 59,
   "metadata": {},
   "outputs": [
    {
     "name": "stdout",
     "output_type": "stream",
     "text": [
      "Alice     \n"
     ]
    }
   ],
   "source": [
    "name = \"Alice\"\n",
    "print(f\"{name:<10}\")"
   ]
  },
  {
   "cell_type": "code",
   "execution_count": 60,
   "metadata": {},
   "outputs": [
    {
     "name": "stdout",
     "output_type": "stream",
     "text": [
      "  Alice   \n"
     ]
    }
   ],
   "source": [
    "name = \"Alice\" \n",
    "print(f\"{name:^10}\") # 중앙 정렬"
   ]
  },
  {
   "attachments": {},
   "cell_type": "markdown",
   "metadata": {},
   "source": [
    "f-string 중괄호 표현하기"
   ]
  },
  {
   "attachments": {},
   "cell_type": "markdown",
   "metadata": {},
   "source": [
    "- f-string에서는 {} 안에 표현식을 넣어 문자열에 포함시키는데, 만약 문자열 안에 리터럴 문자 { 또는 }를 표현하고 싶다면, 이를 두 번 연속해서 {{ 또는 }}와 같이 써야 합니다."
   ]
  },
  {
   "cell_type": "code",
   "execution_count": 61,
   "metadata": {},
   "outputs": [
    {
     "name": "stdout",
     "output_type": "stream",
     "text": [
      "My set is {1, 2, 3}.\n"
     ]
    }
   ],
   "source": [
    "print(f\"My set is {{1, 2, 3}}.\")  # 출력: My set is {1, 2, 3}."
   ]
  },
  {
   "attachments": {},
   "cell_type": "markdown",
   "metadata": {},
   "source": [
    "중괄호 세번 쓰는 경우: 표현 할 것이 변수인 경우"
   ]
  },
  {
   "cell_type": "code",
   "execution_count": 62,
   "metadata": {},
   "outputs": [
    {
     "name": "stdout",
     "output_type": "stream",
     "text": [
      "My set is {10}.\n"
     ]
    }
   ],
   "source": [
    "x = 10\n",
    "print(f\"My set is {{{x}}}.\")  # 출력: My set is {10}."
   ]
  },
  {
   "attachments": {},
   "cell_type": "markdown",
   "metadata": {},
   "source": [
    "### 독스트링"
   ]
  },
  {
   "attachments": {},
   "cell_type": "markdown",
   "metadata": {},
   "source": [
    "참고\n",
    "- https://www.youtube.com/watch?v=5lr9Z9oqoYk"
   ]
  },
  {
   "attachments": {},
   "cell_type": "markdown",
   "metadata": {},
   "source": [
    "### 고급 데이터 구조"
   ]
  },
  {
   "attachments": {},
   "cell_type": "markdown",
   "metadata": {},
   "source": [
    "컴프리헨션 문법은 2중 for문 등을 사용하지 않도록 권고합니다. google convention에도 동일하게 권고하고 있어요. 만약 2중으로 써야 할 경우 문법을 풀어서 쓰길 권해드립니다."
   ]
  },
  {
   "cell_type": "code",
   "execution_count": 63,
   "metadata": {},
   "outputs": [
    {
     "data": {
      "text/plain": [
       "[0, 1, 4, 9, 16, 25, 36, 49, 64, 81]"
      ]
     },
     "execution_count": 63,
     "metadata": {},
     "output_type": "execute_result"
    }
   ],
   "source": [
    "squares = [x**2 for x in range(10)]  # 0부터 9까지의 제곱 리스트 생성\n",
    "squares"
   ]
  },
  {
   "cell_type": "code",
   "execution_count": 64,
   "metadata": {},
   "outputs": [
    {
     "data": {
      "text/plain": [
       "['2 X 1 = 2',\n",
       " '2 X 2 = 4',\n",
       " '2 X 3 = 6',\n",
       " '2 X 4 = 8',\n",
       " '2 X 5 = 10',\n",
       " '2 X 6 = 12',\n",
       " '2 X 7 = 14',\n",
       " '2 X 8 = 16',\n",
       " '2 X 9 = 18',\n",
       " '3 X 1 = 3',\n",
       " '3 X 2 = 6',\n",
       " '3 X 3 = 9',\n",
       " '3 X 4 = 12',\n",
       " '3 X 5 = 15',\n",
       " '3 X 6 = 18',\n",
       " '3 X 7 = 21',\n",
       " '3 X 8 = 24',\n",
       " '3 X 9 = 27',\n",
       " '4 X 1 = 4',\n",
       " '4 X 2 = 8',\n",
       " '4 X 3 = 12',\n",
       " '4 X 4 = 16',\n",
       " '4 X 5 = 20',\n",
       " '4 X 6 = 24',\n",
       " '4 X 7 = 28',\n",
       " '4 X 8 = 32',\n",
       " '4 X 9 = 36',\n",
       " '5 X 1 = 5',\n",
       " '5 X 2 = 10',\n",
       " '5 X 3 = 15',\n",
       " '5 X 4 = 20',\n",
       " '5 X 5 = 25',\n",
       " '5 X 6 = 30',\n",
       " '5 X 7 = 35',\n",
       " '5 X 8 = 40',\n",
       " '5 X 9 = 45',\n",
       " '6 X 1 = 6',\n",
       " '6 X 2 = 12',\n",
       " '6 X 3 = 18',\n",
       " '6 X 4 = 24',\n",
       " '6 X 5 = 30',\n",
       " '6 X 6 = 36',\n",
       " '6 X 7 = 42',\n",
       " '6 X 8 = 48',\n",
       " '6 X 9 = 54',\n",
       " '7 X 1 = 7',\n",
       " '7 X 2 = 14',\n",
       " '7 X 3 = 21',\n",
       " '7 X 4 = 28',\n",
       " '7 X 5 = 35',\n",
       " '7 X 6 = 42',\n",
       " '7 X 7 = 49',\n",
       " '7 X 8 = 56',\n",
       " '7 X 9 = 63',\n",
       " '8 X 1 = 8',\n",
       " '8 X 2 = 16',\n",
       " '8 X 3 = 24',\n",
       " '8 X 4 = 32',\n",
       " '8 X 5 = 40',\n",
       " '8 X 6 = 48',\n",
       " '8 X 7 = 56',\n",
       " '8 X 8 = 64',\n",
       " '8 X 9 = 72',\n",
       " '9 X 1 = 9',\n",
       " '9 X 2 = 18',\n",
       " '9 X 3 = 27',\n",
       " '9 X 4 = 36',\n",
       " '9 X 5 = 45',\n",
       " '9 X 6 = 54',\n",
       " '9 X 7 = 63',\n",
       " '9 X 8 = 72',\n",
       " '9 X 9 = 81']"
      ]
     },
     "execution_count": 64,
     "metadata": {},
     "output_type": "execute_result"
    }
   ],
   "source": [
    "[ f'{i} X {j} = {i*j}' for i in range(2, 10) for j in range(1, 10)]\n",
    "# 비추천"
   ]
  },
  {
   "attachments": {},
   "cell_type": "markdown",
   "metadata": {},
   "source": [
    "딕셔너리 컴프리헨션"
   ]
  },
  {
   "cell_type": "code",
   "execution_count": 65,
   "metadata": {},
   "outputs": [
    {
     "data": {
      "text/plain": [
       "{0: 0, 1: 1, 2: 4, 3: 9, 4: 16}"
      ]
     },
     "execution_count": 65,
     "metadata": {},
     "output_type": "execute_result"
    }
   ],
   "source": [
    "square_dict = {x: x**2 for x in range(5)}  # 0부터 4까지의 수를 키로, 그 제곱을 값으로 하는 딕셔너리 생성\n",
    "square_dict \n"
   ]
  },
  {
   "cell_type": "code",
   "execution_count": 66,
   "metadata": {},
   "outputs": [
    {
     "data": {
      "text/plain": [
       "{'python': 0, 'javascript': 1, 'html/css': 2}"
      ]
     },
     "execution_count": 66,
     "metadata": {},
     "output_type": "execute_result"
    }
   ],
   "source": [
    "books = ['python', 'javascript', 'html/css']\n",
    "book_dict = {book: idx for idx, book in enumerate(books)}\n",
    "book_dict"
   ]
  },
  {
   "attachments": {},
   "cell_type": "markdown",
   "metadata": {},
   "source": [
    "제너레이터 컴프리헨션:  \n",
    "- 제너레이터 컴프리헨션은 소괄호(()) 안에 for문과 선택적 if문을 사용하여 제너레이터 객체를 생성합니다.  \n",
    "- 제너레이터는 반복을 위한 이터러블이지만, 모든 값을 메모리에 저장하지 않고 필요할 때마다 생성합니다."
   ]
  },
  {
   "cell_type": "code",
   "execution_count": 67,
   "metadata": {},
   "outputs": [
    {
     "data": {
      "text/plain": [
       "<generator object <genexpr> at 0x7fa326de5e70>"
      ]
     },
     "execution_count": 67,
     "metadata": {},
     "output_type": "execute_result"
    }
   ],
   "source": [
    "square_gen = (x**2 for x in range(10))  # 0부터 9까지의 제너레이터\n",
    "square_gen"
   ]
  },
  {
   "cell_type": "code",
   "execution_count": 68,
   "metadata": {},
   "outputs": [
    {
     "name": "stdout",
     "output_type": "stream",
     "text": [
      "0 2\n",
      "1 4\n",
      "2 6\n",
      "3 8\n",
      "4 10\n",
      "5 12\n",
      "6 14\n",
      "7 16\n",
      "8 18\n",
      "9 20\n"
     ]
    }
   ],
   "source": [
    "gen = (i for i in range(2, 100000000, 2)) # 생성시에 메모리에 저장되지 않으므로 부담되지 않는다.\n",
    "for i, j in zip(range(10), gen):\n",
    "    print(i, j)"
   ]
  },
  {
   "cell_type": "code",
   "execution_count": null,
   "metadata": {},
   "outputs": [],
   "source": []
  }
 ],
 "metadata": {
  "kernelspec": {
   "display_name": "base",
   "language": "python",
   "name": "python3"
  },
  "language_info": {
   "codemirror_mode": {
    "name": "ipython",
    "version": 3
   },
   "file_extension": ".py",
   "mimetype": "text/x-python",
   "name": "python",
   "nbconvert_exporter": "python",
   "pygments_lexer": "ipython3",
   "version": "3.10.9"
  },
  "orig_nbformat": 4
 },
 "nbformat": 4,
 "nbformat_minor": 2
}
